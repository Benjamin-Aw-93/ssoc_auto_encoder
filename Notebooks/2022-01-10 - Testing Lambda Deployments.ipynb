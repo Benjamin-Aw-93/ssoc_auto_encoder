{
 "cells": [
  {
   "cell_type": "markdown",
   "id": "57e27775-cb36-4aa5-be23-9e456ef1e823",
   "metadata": {},
   "source": [
    "## Testing Lambda Deployment\n",
    "\n",
    "**Author:** Shaun Khoo  \n",
    "**Date:** 10 Jan 2022  \n",
    "**Context:** Created Python scripts for the dummy API, deployed using AWS CLI, now testing the API endpoint  \n",
    "**Objective:** Test the API endpoint  \n",
    "\n",
    "**Note:** Referencing [this tutorial](https://docs.aws.amazon.com/lambda/latest/dg/python-package.html#python-package-upload-code)"
   ]
  },
  {
   "cell_type": "code",
   "execution_count": 1,
   "id": "d31344f0-2ea8-48e4-bef0-dc76a0f7a273",
   "metadata": {},
   "outputs": [],
   "source": [
    "import requests"
   ]
  },
  {
   "cell_type": "code",
   "execution_count": 27,
   "id": "a4627bc1-bf3f-4d00-af85-ff5451d43f94",
   "metadata": {},
   "outputs": [],
   "source": [
    "resp = requests.get('https://d1b3viqczc.execute-api.us-east-1.amazonaws.com/default/dummy-api',\n",
    "                     headers = {'x-api-key': 'ministryofmanpower2022'},\n",
    "                     params = {'job_id': 'test'})"
   ]
  },
  {
   "cell_type": "code",
   "execution_count": 28,
   "id": "fbf2ff19-ab1c-474c-8f90-20e8f15d97b8",
   "metadata": {},
   "outputs": [
    {
     "data": {
      "text/plain": [
       "{'job_id': 'MCF-2021-0169446',\n",
       " 'job_desc': '<p><strong>Responsibilities:</strong></p>\\n<ul>\\n  <li>Design, build, and test mobile applications for iOS platform while being involved in the full mobile application lifecycle.</li>\\n  <li>Ensure written codes are of high quality, maintainable, and adherent to set standards.</li>\\n  <li>Follow best practices related to development, and change management procedures</li>\\n  <li>Ensure that requirement specifications are followed and aim for enhanced user experience.</li>\\n  <li>Perform development tasks individually and with teams as needed.</li>\\n</ul>\\n<p><br></p>\\n<p><strong>Requirements:</strong></p>\\n<ul>\\n  <li>Minimum Degree in Information Technology or related discipline</li>\\n  <li>Minimum 3 years relevant experience in iOS development with published works.</li>\\n  <li>Experienced involvement in full mobile application development life cycle and Agile SCRUM Methodology.</li>\\n  <li>Proficiency in of iOS SDK, Xcode, Objective-C, Swift, SQL, Web Service Integration, Object-oriented programming .</li>\\n  <li>Ability to also perform Android development preferred but not required.</li>\\n</ul>\\n<p><br></p>\\n<p>Interested candidates who wish to apply for the advertised position, please email us an updated copy of your resume.<br>\\nEmail Address: it@talenttradersg.com</p>\\n<p><br></p>\\n<p>EA License No: 13C6305<br>\\nReg. No.: R1770654</p>\\n<p><br></p>\\n<p>For candidate who applied for the advertised position is deemed to have consented to us that we may collect, use, or disclose your personal information for purpose in connection with the services provided by us.</p>',\n",
       " 'correct_ssoc': '25122',\n",
       " 'top_10_preds': ['25122',\n",
       "  '25121',\n",
       "  '25123',\n",
       "  '13302',\n",
       "  '33223',\n",
       "  '25113',\n",
       "  '33224',\n",
       "  '25140',\n",
       "  '24231',\n",
       "  '24212'],\n",
       " 'top_10_proba': [0.939,\n",
       "  0.0604,\n",
       "  0.0002,\n",
       "  0.0001,\n",
       "  0.0001,\n",
       "  0.0,\n",
       "  0.0,\n",
       "  0.0,\n",
       "  0.0,\n",
       "  0.0]}"
      ]
     },
     "execution_count": 28,
     "metadata": {},
     "output_type": "execute_result"
    }
   ],
   "source": [
    "resp.json()"
   ]
  }
 ],
 "metadata": {
  "kernelspec": {
   "display_name": "Python 3 (ipykernel)",
   "language": "python",
   "name": "python3"
  },
  "language_info": {
   "codemirror_mode": {
    "name": "ipython",
    "version": 3
   },
   "file_extension": ".py",
   "mimetype": "text/x-python",
   "name": "python",
   "nbconvert_exporter": "python",
   "pygments_lexer": "ipython3",
   "version": "3.9.5"
  }
 },
 "nbformat": 4,
 "nbformat_minor": 5
}
