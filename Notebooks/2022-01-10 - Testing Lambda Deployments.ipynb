{
 "cells": [
  {
   "cell_type": "markdown",
   "id": "57e27775-cb36-4aa5-be23-9e456ef1e823",
   "metadata": {},
   "source": [
    "## Testing Lambda Deployment\n",
    "\n",
    "**Author:** Shaun Khoo  \n",
    "**Date:** 10 Jan 2022  \n",
    "**Context:** Created Python scripts for the dummy API, deployed using AWS CLI, now testing the API endpoint  \n",
    "**Objective:** Test the API endpoint, develop some simple scripts to convert data into JSON format\n",
    "\n",
    "**Note:** Referencing [this tutorial](https://docs.aws.amazon.com/lambda/latest/dg/python-package.html#python-package-upload-code)"
   ]
  },
  {
   "cell_type": "code",
   "execution_count": 1,
   "id": "d31344f0-2ea8-48e4-bef0-dc76a0f7a273",
   "metadata": {},
   "outputs": [],
   "source": [
    "import requests"
   ]
  },
  {
   "cell_type": "code",
   "execution_count": 62,
   "id": "a4627bc1-bf3f-4d00-af85-ff5451d43f94",
   "metadata": {},
   "outputs": [],
   "source": [
    "resp = requests.get('https://d1b3viqczc.execute-api.us-east-1.amazonaws.com/default/dummy-api',\n",
    "                     headers = {'x-api-key': 'ministryofmanpower2022'},\n",
    "                     params = {'mcf_url': 'https://www.mycareersfuture.gov.sg/job/public/data-scientist-government-technology-agency-d4beb5aee362d4d7d340abdd4ea63d7a'})"
   ]
  },
  {
   "cell_type": "code",
   "execution_count": 64,
   "id": "1d36c609-176a-4d6d-85e2-47f9ca76e236",
   "metadata": {},
   "outputs": [
    {
     "data": {
      "text/plain": [
       "'d4beb5aee362d4d7d340abdd4ea63d7a'"
      ]
     },
     "execution_count": 64,
     "metadata": {},
     "output_type": "execute_result"
    }
   ],
   "source": [
    "import re\n",
    "mcf_url = 'https://www.mycareersfuture.gov.sg/job/public/data-scientist-government-technology-agency-d4beb5aee362d4d7d340abdd4ea63d7a'\n",
    "regex_matches = re.search('\\\\-{1}([a-z0-9]{32})\\\\?', mcf_url + \"?\")\n",
    "regex_matches.group(1)"
   ]
  },
  {
   "cell_type": "code",
   "execution_count": 63,
   "id": "fbf2ff19-ab1c-474c-8f90-20e8f15d97b8",
   "metadata": {},
   "outputs": [
    {
     "data": {
      "text/plain": [
       "{'mcf_job_id': 'MCF-2021-0077475',\n",
       " 'mcf_job_title': '3422-  Clinic Assistant / Reception【 O&G clinic/ Nurse / Novena / Orchard/ 5.5day】',\n",
       " 'mcf_job_desc': \"<ul>\\n  <li><strong>O&amp;G Clinic</strong></li>\\n  <li><strong>Location: Central - Novena / Orchard</strong></li>\\n  <li><strong>Working days 5.5 days from Mon to Sat.</strong></li>\\n  <li><strong>Official hours : 8.30 to 5.30pm / 8.30am to 12.30pm</strong></li>\\n  <li><strong>Career Development Opportunities</strong></li>\\n  <li><strong>Fast-track Career Progression</strong></li>\\n</ul>\\n<p><strong>Interested applicants can send your resume to ✉winnie_lee@thesupremehr.com and allow our Consultants to match you with our Clients. No Charges will be incurred by Candidates for any service rendered.</strong></p>\\n<p><strong>Job Description</strong></p>\\n<ul>\\n  <li>Assist the Clinic Executive to manage the daily counter and clinic operations</li>\\n  <li>Assist in supervising the registration and billing processes..</li>\\n  <li>Review the manpower requirements within the clinic.</li>\\n  <li>Handle patients' complaints.</li>\\n  <li>Check and process daily cash float and collection from the counter.</li>\\n  <li>Monitor the clinic patient flows &amp; attend to patients' needs.</li>\\n  <li>Carry out staff appraisal of relevant subordinates</li>\\n  <li>Schedule duty, leave rosters and deployment of staff within the clinic.</li>\\n  <li>Monitor clinic queue performance and consultation waiting time.</li>\\n  <li>Manage patients' appointments and ensure even distribution of patient load in the clinic.</li>\\n  <li>Liaise with the maintenance contractor for minor works matters.</li>\\n  <li>Liaise with the cleaning contractors for cleanliness issues</li>\\n  <li>Perform other duties as assigned.</li>\\n</ul>\\n<p><strong>Qualifications</strong></p>\\n<ul>\\n  <li>Diploma in any discipline</li>\\n  <li>Min. 1 years of working experience</li>\\n</ul>\",\n",
       " 'top_prediction': {'SSOC_Code': '42241',\n",
       "  'Prediction_Confidence': '27.09%',\n",
       "  'SSOC_Title': 'Receptionist (general)',\n",
       "  'SSOC_Description': \"Receptionist (general) receives clients or customers coming into establishment, ascertains their wants, and directs them accordingly. He/she obtains caller's name and arranges for him/her to see the person called upon and directs the caller to his/her destination and records name, time of call, nature of business, and the person called upon. He/she also schedules appointments and maintains appointment calendars. He/she may perform various clerical duties.\"},\n",
       " 'other_predictions': [{'SSOC_Code': '12112',\n",
       "   'Prediction_Confidence': '19.26%',\n",
       "   'SSOC_Title': 'Administration manager',\n",
       "   'SSOC_Description': \"Administration manager plans, organises and controls the internal administration of an organisation and participates in formulating its administrative policy, such as the organisation's needs for records, information, communication and other common services. He/she oversees the common services and coordinates departmental reporting and record-keeping systems, negotiates with suppliers of business services and other services. He/she may act as secretary to the board of directors or governing body. He/she may also, in non-profit-making organisations, have responsibility for maintaining membership records, ensuring that examination and registration regulations are observed.\"},\n",
       "  {'SSOC_Code': '12241',\n",
       "   'Prediction_Confidence': '15.20%',\n",
       "   'SSOC_Title': 'Customer service manager',\n",
       "   'SSOC_Description': \"Customer service manager oversees overall customer service excellence, develops process review and innovation frameworks, and implements initiatives to review the customer service process. He/she also manages the overall service quality and customer relationship management resources, including manpower, internal assets and external vendors. He/she investigates and solves customers' problems, which may be complex or long-standing problems that have been passed on by customer service assistants. He/she analyses statistics or other data to determine the level of customer service an organisation is providing.\"},\n",
       "  {'SSOC_Code': '24233',\n",
       "   'Prediction_Confidence': '14.59%',\n",
       "   'SSOC_Title': 'Personnel/Human resource officer',\n",
       "   'SSOC_Description': \"Personnel/Human resource officer develops and implements strategies that help their employers select and retain appropriately qualified staff within that business sector. He/she recruits staff, prepares job advertisements, interviews and short-lists people, negotiates with employment agencies, and sets up working conditions. He/she also administers the payroll, reviews salaries and advises on remuneration benefits and employment law. He/she may arrange for training opportunities to enhance employees' performance.\"},\n",
       "  {'SSOC_Code': '42245',\n",
       "   'Prediction_Confidence': '5.64%',\n",
       "   'SSOC_Title': 'Customer service officer/clerk',\n",
       "   'SSOC_Description': \"Customer service officer/clerk handles inquiries and complaints through phone, email and social media or in person and maintains overall goodwill between an organisation and its customers. He/she records, assists and resolves customers' inquiries, requests and complaints, by exchanging merchandise, adjusting bills, preparing and completing forms and orders. He/she also manages data regarding customer satisfaction and reports it.\"},\n",
       "  {'SSOC_Code': '12121',\n",
       "   'Prediction_Confidence': '5.09%',\n",
       "   'SSOC_Title': 'Personnel/Human resource manager',\n",
       "   'SSOC_Description': \"Personnel/Human resource manager plans, designs and implements processes related to the human capital of companies. He/she develops programs for recruiting, interviewing, and selecting employees based on the profiles and skills required in the company. He/she manages compensation and development programs for the company's employees comprising trainings, skill assessments and yearly evaluations, promotion, expatriate programs, and general assurances of the well-being of the employees in the workplace.\"},\n",
       "  {'SSOC_Code': '41101',\n",
       "   'Prediction_Confidence': '4.25%',\n",
       "   'SSOC_Title': 'Office clerk (including filing and copying)',\n",
       "   'SSOC_Description': 'Office clerk performs office clerical duties that require knowledge of office systems and procedures. He/she completes clerical duties assigned which may include a combination of answering telephones, bookkeeping, typing or word processing, office machine operation, maintaining and updating filing, inventory, mailing and database systems.'},\n",
       "  {'SSOC_Code': '42243',\n",
       "   'Prediction_Confidence': '3.37%',\n",
       "   'SSOC_Title': 'Medical/Dental receptionist',\n",
       "   'SSOC_Description': 'Medical/Dental receptionist receives patients in hospitals, clinics and surgeries, records particulars and guides them to appropriate section or physician. He/she interviews patients and records particulars like name, age, address on cards, fixes appointments with different units, physicians or dentists and types correspondence dealing with patients. He/she may handle payments and accounts.'},\n",
       "  {'SSOC_Code': '53203',\n",
       "   'Prediction_Confidence': '1.83%',\n",
       "   'SSOC_Title': 'Dental aide/assistant',\n",
       "   'SSOC_Description': 'Dental aide/assistant performs limited clinical duties under the direction of a dentist, including equipment preparation and sterilization, preparing patients for treatment, assisting the dentist during treatment, and providing patients with instructions for oral healthcare procedures. He/she may perform administrative duties such as scheduling appointments, maintaining medical records, billing, and coding information for insurance purposes.'},\n",
       "  {'SSOC_Code': '52302',\n",
       "   'Prediction_Confidence': '1.14%',\n",
       "   'SSOC_Title': 'Cashier (general)',\n",
       "   'SSOC_Description': 'Cashier (general) receives cash and gives change in retail stores, theatres or other establishments in payment for goods or services. He/she checks the amount due, collects money, gives change and issues receipts or tickets as required.'}]}"
      ]
     },
     "execution_count": 63,
     "metadata": {},
     "output_type": "execute_result"
    }
   ],
   "source": [
    "resp.json()"
   ]
  },
  {
   "cell_type": "code",
   "execution_count": null,
   "id": "e385bc2a-0594-489e-a47c-229219b5d128",
   "metadata": {},
   "outputs": [],
   "source": []
  },
  {
   "cell_type": "code",
   "execution_count": null,
   "id": "24251d82-b1ce-49dd-9e07-54825e2153f7",
   "metadata": {},
   "outputs": [],
   "source": []
  },
  {
   "cell_type": "code",
   "execution_count": null,
   "id": "cfd3683f-4954-4876-a833-c948f091c036",
   "metadata": {},
   "outputs": [],
   "source": []
  },
  {
   "cell_type": "code",
   "execution_count": null,
   "id": "900f0e24-2ec9-46ec-9c4c-f8156b3e75fd",
   "metadata": {},
   "outputs": [],
   "source": [
    "import json\n",
    "import random\n",
    "import pandas as pd\n",
    "import os\n",
    "os.chdir('..')"
   ]
  },
  {
   "cell_type": "markdown",
   "id": "01991b4f-84bc-4b88-9759-123ed1f685fc",
   "metadata": {},
   "source": [
    "Reading in the test set with the predictions"
   ]
  },
  {
   "cell_type": "code",
   "execution_count": null,
   "id": "865ff433-19d5-4884-81e3-7ee435cfc472",
   "metadata": {},
   "outputs": [],
   "source": [
    "test_enhanced = pd.read_csv('Notebooks/Exported Files/Test_Predictions.csv')"
   ]
  },
  {
   "cell_type": "markdown",
   "id": "88f3b088-aefd-4259-be79-723e07bbf489",
   "metadata": {},
   "source": [
    "Generating a random set of indices to pick a subset"
   ]
  },
  {
   "cell_type": "code",
   "execution_count": null,
   "id": "4f3bb6bd-bd1d-490a-a4d9-0d00f924220c",
   "metadata": {},
   "outputs": [],
   "source": [
    "selected_indices = random.choices(test_enhanced.index.tolist(), k = 50)"
   ]
  },
  {
   "cell_type": "code",
   "execution_count": null,
   "id": "b5767f0b-d78f-4a89-b34d-b14442525255",
   "metadata": {},
   "outputs": [],
   "source": [
    "selected_data = test_enhanced.loc[selected_indices, ['MCF_Job_Ad_ID', 'Predicted_SSOC_2020', 'SSOC_5D_Top_10_Preds', 'SSOC_5D_Top_10_Preds_Proba']]"
   ]
  },
  {
   "cell_type": "markdown",
   "id": "28562a8b-bbdc-4871-8481-d859b56ede83",
   "metadata": {},
   "source": [
    "Generating the output JSON"
   ]
  },
  {
   "cell_type": "code",
   "execution_count": null,
   "id": "cc2ecd0b-414e-43b2-a56a-689c70c3ac86",
   "metadata": {},
   "outputs": [],
   "source": [
    "output_json = []\n",
    "\n",
    "for i, row in selected_data.iterrows():\n",
    "    \n",
    "    predictions = []\n",
    "    \n",
    "    for pred_ssoc, proba in zip(row['SSOC_5D_Top_10_Preds'].split(','), row['SSOC_5D_Top_10_Preds_Proba'].split(',')):\n",
    "        \n",
    "        prediction = {\n",
    "            'SSOC_Code': pred_ssoc,\n",
    "            'Prediction_Confidence': f\"{round(float(proba)*100, 2):.2f}%\",\n",
    "        }\n",
    "        \n",
    "        predictions.append(prediction)\n",
    "    \n",
    "    output_json.append({\n",
    "        'MCF_Job_Ad_ID': row['MCF_Job_Ad_ID'],\n",
    "        'predictions': predictions\n",
    "    })"
   ]
  },
  {
   "cell_type": "markdown",
   "id": "a1b91e8a-11da-44b8-a2ed-b6c2df503ad6",
   "metadata": {},
   "source": [
    "Exporting it for the 'feelinglucky' part of the website"
   ]
  },
  {
   "cell_type": "code",
   "execution_count": null,
   "id": "e1f53057-0da7-4feb-b74d-de64d38c49c5",
   "metadata": {},
   "outputs": [],
   "source": [
    "with open('Deployments/lambda/dummy-api/dummy_data.json', 'w') as outfile:\n",
    "    json.dump(output_json, outfile)"
   ]
  },
  {
   "cell_type": "markdown",
   "id": "36d61a29-b820-4908-b90c-bf0f193e7816",
   "metadata": {},
   "source": [
    "Reading in the SSOC 2020 detailed definitions file"
   ]
  },
  {
   "cell_type": "code",
   "execution_count": null,
   "id": "78a3d06b-b723-455c-a29f-e67586bd658a",
   "metadata": {},
   "outputs": [],
   "source": [
    "ssoc_desc_raw = pd.read_excel('Data/Reference/SSOC2020 Detailed Definitions.xlsx', skiprows = 4)\n",
    "ssoc_desc = ssoc_desc_raw[ssoc_desc_raw['SSOC 2020'].apply(lambda x: (len(x) == 5) and ('X' != x[0]))].reset_index(drop = True)"
   ]
  },
  {
   "cell_type": "markdown",
   "id": "32f9fc04-8b5d-4a2d-aabf-647a95af8f8a",
   "metadata": {},
   "source": [
    "Generating the output JSON"
   ]
  },
  {
   "cell_type": "code",
   "execution_count": null,
   "id": "77839abb-e293-4b53-ad79-1d0ae4b0661e",
   "metadata": {},
   "outputs": [],
   "source": [
    "ssoc_desc_json = {}\n",
    "for i, row in ssoc_desc.iterrows():\n",
    "    ssoc_json = {\n",
    "        'title': row['SSOC 2020 Title'],\n",
    "        'description': row['Detailed Definitions']\n",
    "    }\n",
    "    ssoc_desc_json[row['SSOC 2020']] = ssoc_json"
   ]
  },
  {
   "cell_type": "markdown",
   "id": "e4cb55bc-2017-4fc0-aa14-31ae925c9d39",
   "metadata": {},
   "source": [
    "Exporting it for the API response"
   ]
  },
  {
   "cell_type": "code",
   "execution_count": null,
   "id": "2b6de6c1-c98f-41f0-9018-41975f5b6a94",
   "metadata": {},
   "outputs": [],
   "source": [
    "with open('Deployments/lambda/dummy-api/ssoc_desc.json', 'w') as outfile:\n",
    "    json.dump(ssoc_desc_json, outfile)"
   ]
  }
 ],
 "metadata": {
  "kernelspec": {
   "display_name": "Python 3 (ipykernel)",
   "language": "python",
   "name": "python3"
  },
  "language_info": {
   "codemirror_mode": {
    "name": "ipython",
    "version": 3
   },
   "file_extension": ".py",
   "mimetype": "text/x-python",
   "name": "python",
   "nbconvert_exporter": "python",
   "pygments_lexer": "ipython3",
   "version": "3.9.5"
  }
 },
 "nbformat": 4,
 "nbformat_minor": 5
}
