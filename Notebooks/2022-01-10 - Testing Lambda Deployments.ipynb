{
 "cells": [
  {
   "cell_type": "markdown",
   "id": "57e27775-cb36-4aa5-be23-9e456ef1e823",
   "metadata": {},
   "source": [
    "## Testing Lambda Deployment\n",
    "\n",
    "**Author:** Shaun Khoo  \n",
    "**Date:** 10 Jan 2022  \n",
    "**Context:** Created Python scripts for the dummy API, deployed using AWS CLI, now testing the API endpoint  \n",
    "**Objective:** Test the API endpoint  \n",
    "\n",
    "**Note:** Referencing [this tutorial](https://docs.aws.amazon.com/lambda/latest/dg/python-package.html#python-package-upload-code)"
   ]
  },
  {
   "cell_type": "code",
   "execution_count": 21,
   "id": "d31344f0-2ea8-48e4-bef0-dc76a0f7a273",
   "metadata": {},
   "outputs": [],
   "source": [
    "import requests"
   ]
  },
  {
   "cell_type": "code",
   "execution_count": 34,
   "id": "a4627bc1-bf3f-4d00-af85-ff5451d43f94",
   "metadata": {},
   "outputs": [],
   "source": [
    "resp = requests.get('https://d1b3viqczc.execute-api.us-east-1.amazonaws.com/default/dummy-api',\n",
    "                     headers = {'x-api-key': 'ministryofmanpower2022'},\n",
    "                     params = {'job_id': 'test'})"
   ]
  },
  {
   "cell_type": "code",
   "execution_count": 35,
   "id": "fbf2ff19-ab1c-474c-8f90-20e8f15d97b8",
   "metadata": {},
   "outputs": [
    {
     "data": {
      "text/plain": [
       "{'mcf_job_id': 'MCF-2021-0111799',\n",
       " 'mcf_job_title': 'Senior Software Engineer, Mobile (Android)',\n",
       " 'mcf_job_desc': \"<p><strong>Get to know the Role</strong>:</p>\\n<ul>\\n  <li>Work closely with the Product, UX/UI and Backend teams to design, build and extend consumer and/or partner facing new products, platforms and features.</li>\\n  <li>Build re-usable Android software components for the Grab platform.</li>\\n  <li>Collaborate with QA on continuous integration and delivery (CI/CD) as well as other automated and manual testing to make sure our app releases are always worthy of five star ratings.</li>\\n  <li>Monitor the performance of the live apps and continuously improve them on both code and experience level.</li>\\n  <li>Raise the bar by reviewing each other's code, share knowledge, tips and tricks, and generally help out - within and across teams. This may include pair programming.</li>\\n  <li>Evaluate new mobile methodologies and technologies.\\u200b</li>\\n</ul>\\n<p><strong>The must haves</strong>:\\u200b</p>\\n<ul>\\n  <li>A degree in computer science, software engineering, information technology or related fields.</li>\\n  <li>Up-to-date on the modern Android programming paradigm, including the use of RxJava and/or Kotlin.</li>\\n  <li>Strong UX/UI design exposure and experience in making apps work intuitively and with pixel perfect interfaces.</li>\\n  <li>You have working knowledge of several architectural approaches, caching, data storage and security.</li>\\n  <li>Strong CS fundamentals (with competencies in algorithms and data structures).</li>\\n  <li>You are highly accountable and take ownership. You also have a collaborative attitude, because ‘Your Problem Is My Problem’ (YPIMP).</li>\\n</ul>\\n<p><strong>Get to know Grab:</strong></p>\\n<p>Grab is more than just the leading ride-hailing and mobile payments platform in Southeast Asia. We use data and technology to improve everything from transportation to payments and financial services across a region of more than 620 million people. We work with governments, drivers, passengers, merchants, and the community, to solve critical problems in Southeast Asia.</p>\\n<p>Grab began as a taxi-hailing app in 2012, but we have since extended our product platform to include GrabCar, GrabShare, GrabBike, GrabHitch, GrabExpress, GrabFood, GrabCoach, GrabShuttle, GrabCycle. We recently launched our fintech platform – GrabFinancial, which consists of payments, lending and insurance. Our latest addition is GrabVentures, an in-house incubation platform. We are focused on pioneering new commuting and payment alternatives for drivers and passengers with an emphasis on convenience, safety, and reliability. Currently, we offer services in 8 countries. Our R&amp;D offices are in Singapore, Seattle, Beijing, Bangalore, Jakarta and Vietnam. We aspire to unlock the true potential of Southeast Asia and look for like-minded individuals to join us on this ride.</p>\\n<p><strong>If you share our vision of driving South East Asia forward, apply to join our team today</strong></p>\",\n",
       " 'correct_ssoc': ['25122', 'Web and mobile applications developer'],\n",
       " 'top_ssoc_pred': ['25122', 'Web and mobile applications developer'],\n",
       " 'correct_ssoc_proba': 0.9308,\n",
       " 'next_9_preds': [['25121', 'Software developer'],\n",
       "  ['13302', 'Software and applications manager'],\n",
       "  ['25123', 'Multimedia (including games) developer'],\n",
       "  ['25113', 'Enterprise/Solution architect'],\n",
       "  ['33223', 'Marketing and sales executive (food & beverage services)'],\n",
       "  ['33224', 'Online sales channel executive'],\n",
       "  ['24212', 'Business consultant'],\n",
       "  ['25140', 'Applications/Systems programmer'],\n",
       "  ['33461', 'Logistics/production planner']],\n",
       " 'next_9_proba': [0.0686, 0.0004, 0.0001, 0.0001, 0.0, 0.0, 0.0, 0.0, 0.0]}"
      ]
     },
     "execution_count": 35,
     "metadata": {},
     "output_type": "execute_result"
    }
   ],
   "source": [
    "resp.json()"
   ]
  },
  {
   "cell_type": "code",
   "execution_count": null,
   "id": "98fd8e55-d995-414d-88d7-de9cff650bcb",
   "metadata": {},
   "outputs": [],
   "source": []
  }
 ],
 "metadata": {
  "kernelspec": {
   "display_name": "Python 3 (ipykernel)",
   "language": "python",
   "name": "python3"
  },
  "language_info": {
   "codemirror_mode": {
    "name": "ipython",
    "version": 3
   },
   "file_extension": ".py",
   "mimetype": "text/x-python",
   "name": "python",
   "nbconvert_exporter": "python",
   "pygments_lexer": "ipython3",
   "version": "3.9.5"
  }
 },
 "nbformat": 4,
 "nbformat_minor": 5
}
