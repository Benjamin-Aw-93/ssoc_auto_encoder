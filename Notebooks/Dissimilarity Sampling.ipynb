{
 "cells": [
  {
   "cell_type": "markdown",
   "metadata": {},
   "source": [
    "# Code for sampling based on dissimilar job titles\n",
    "Last updated: 17th September 2021"
   ]
  },
  {
   "cell_type": "code",
   "execution_count": 8,
   "metadata": {},
   "outputs": [],
   "source": [
    "import pandas as pd\n",
    "import spacy\n",
    "import random\n",
    "import re\n",
    "import tqdm\n",
    "from tqdm.notebook import trange, tqdm\n",
    "import numpy as np"
   ]
  },
  {
   "cell_type": "code",
   "execution_count": 9,
   "metadata": {},
   "outputs": [],
   "source": [
    "nlp = spacy.load('en_core_web_lg')"
   ]
  },
  {
   "cell_type": "markdown",
   "metadata": {},
   "source": [
    "### Reading and cleaning data\n",
    "\n",
    "Reading the csv files, filter only Job ID and Title"
   ]
  },
  {
   "cell_type": "code",
   "execution_count": 10,
   "metadata": {},
   "outputs": [],
   "source": [
    "mcf_df = pd.read_csv(\"..\\Data\\Processed\\WGS_Dataset_JobInfo_precleaned.csv\")\n",
    "mcf_df = mcf_df[[\"Job_ID\", \"Title\"]].sample(frac=0.1, random_state=1).reset_index(drop = True)"
   ]
  },
  {
   "cell_type": "markdown",
   "metadata": {},
   "source": [
    "Cleaning up job titles based on eyeballing of entries"
   ]
  },
  {
   "cell_type": "code",
   "execution_count": 11,
   "metadata": {},
   "outputs": [],
   "source": [
    "#removing everything within [...], (...), #sgunitiedjob, 3-4 digit number, dash and chinese characters\n",
    "\n",
    "cleaning_regex= ['\\[.*?\\]', '\\(.*?\\)', '#sgunitedjobs*', '^\\d{2,5}', '-', '#sgunitedtraineeships', '#sgups*', '#sguniteds*', '#sg', '#(\\w+)', '\\d{4,}']\n",
    "\n",
    "# Iteratively apply each regex\n",
    "for regex in cleaning_regex:\n",
    "    mcf_df['Title'] = mcf_df['Title'].map(lambda text: re.sub(regex, '', text).strip())\n",
    "\n",
    "# Remove non ACSII characters (0 to 122), chinese and specical characters\n",
    "mcf_df['Title'] = mcf_df['Title'].map(lambda text: re.sub(\"([^\\x00-\\x7F])+\",\" \",text))\n",
    "\n",
    "# Remove all other symbols \n",
    "mcf_df['Title'] = mcf_df['Title'].map(lambda text: re.sub(r'[^a-zA-Z0-9\\s]','', text))\n",
    "\n",
    "# Remove double spacings\n",
    "mcf_df['Title'] = mcf_df['Title'].map(lambda text: re.sub(\"\\s\\s+\" , \" \", text))"
   ]
  },
  {
   "cell_type": "markdown",
   "metadata": {},
   "source": [
    "### Splitting to get initial data"
   ]
  },
  {
   "cell_type": "code",
   "execution_count": 12,
   "metadata": {
    "scrolled": true
   },
   "outputs": [],
   "source": [
    "#setting random number\n",
    "random.seed(1)\n",
    "random_row = random.randint(0, mcf_df.shape[0])\n",
    "\n",
    "#selecting the first entry to be in the test set randomly\n",
    "mcf_df_test = mcf_df.iloc[[random_row]]\n",
    "\n",
    "#removing selected entry from exisitng data\n",
    "mcf_df_existing = mcf_df.drop([random_row])\n",
    "mcf_df_existing.reset_index(drop = True, inplace = True)"
   ]
  },
  {
   "cell_type": "markdown",
   "metadata": {},
   "source": [
    "### Function to get text similarity between two string"
   ]
  },
  {
   "cell_type": "code",
   "execution_count": 13,
   "metadata": {},
   "outputs": [],
   "source": [
    "#find the difference between two strings of text\n",
    "\n",
    "def distance_text(text1, text2):\n",
    "    text1 = nlp(text1)\n",
    "    text2 = nlp(text2)\n",
    "    return text1.similarity(text2)"
   ]
  },
  {
   "cell_type": "markdown",
   "metadata": {},
   "source": [
    "### Iterating to compare and split the datasets\n",
    "\n",
    "Edit: Realised repeated calculations done"
   ]
  },
  {
   "cell_type": "code",
   "execution_count": null,
   "metadata": {
    "scrolled": false
   },
   "outputs": [
    {
     "data": {
      "application/vnd.jupyter.widget-view+json": {
       "model_id": "b045585acbc5472fb1ee4b501e4bc606",
       "version_major": 2,
       "version_minor": 0
      },
      "text/plain": [
       "Overall progress:   0%|          | 0/500 [00:00<?, ?it/s]"
      ]
     },
     "metadata": {},
     "output_type": "display_data"
    },
    {
     "name": "stdout",
     "output_type": "stream",
     "text": [
      "1\n"
     ]
    },
    {
     "data": {
      "application/vnd.jupyter.widget-view+json": {
       "model_id": "95011d76e12d4d3583dc1509347bf37e",
       "version_major": 2,
       "version_minor": 0
      },
      "text/plain": [
       "Mapping progress:   0%|          | 0/23306 [00:00<?, ?it/s]"
      ]
     },
     "metadata": {},
     "output_type": "display_data"
    },
    {
     "name": "stderr",
     "output_type": "stream",
     "text": [
      "C:\\Users\\benjamin\\Desktop\\my_enviro\\lib\\site-packages\\ipykernel_launcher.py:6: UserWarning: [W008] Evaluating Doc.similarity based on empty vectors.\n",
      "  \n"
     ]
    },
    {
     "name": "stdout",
     "output_type": "stream",
     "text": [
      "Round 0 done. Number of entries in test: 2, Number of entries remaining: 23305\n",
      "2\n"
     ]
    },
    {
     "data": {
      "application/vnd.jupyter.widget-view+json": {
       "model_id": "cefec97fdbe94763b91e2d4eb7b0d312",
       "version_major": 2,
       "version_minor": 0
      },
      "text/plain": [
       "Mapping progress:   0%|          | 0/23305 [00:00<?, ?it/s]"
      ]
     },
     "metadata": {},
     "output_type": "display_data"
    },
    {
     "name": "stdout",
     "output_type": "stream",
     "text": [
      "Round 1 done. Number of entries in test: 3, Number of entries remaining: 23304\n",
      "2\n"
     ]
    },
    {
     "data": {
      "application/vnd.jupyter.widget-view+json": {
       "model_id": "0c3c09b056ad4be19198ea089319c358",
       "version_major": 2,
       "version_minor": 0
      },
      "text/plain": [
       "Mapping progress:   0%|          | 0/23304 [00:00<?, ?it/s]"
      ]
     },
     "metadata": {},
     "output_type": "display_data"
    },
    {
     "name": "stdout",
     "output_type": "stream",
     "text": [
      "Round 2 done. Number of entries in test: 4, Number of entries remaining: 23303\n",
      "2\n"
     ]
    },
    {
     "data": {
      "application/vnd.jupyter.widget-view+json": {
       "model_id": "fbf49d6a3e8f47608d21336902054d2a",
       "version_major": 2,
       "version_minor": 0
      },
      "text/plain": [
       "Mapping progress:   0%|          | 0/23303 [00:00<?, ?it/s]"
      ]
     },
     "metadata": {},
     "output_type": "display_data"
    },
    {
     "name": "stdout",
     "output_type": "stream",
     "text": [
      "Round 3 done. Number of entries in test: 5, Number of entries remaining: 23302\n",
      "2\n"
     ]
    },
    {
     "data": {
      "application/vnd.jupyter.widget-view+json": {
       "model_id": "7944223eb36d41c3b3ab67e4bd67366c",
       "version_major": 2,
       "version_minor": 0
      },
      "text/plain": [
       "Mapping progress:   0%|          | 0/23302 [00:00<?, ?it/s]"
      ]
     },
     "metadata": {},
     "output_type": "display_data"
    },
    {
     "name": "stdout",
     "output_type": "stream",
     "text": [
      "Round 4 done. Number of entries in test: 6, Number of entries remaining: 23301\n",
      "2\n"
     ]
    },
    {
     "data": {
      "application/vnd.jupyter.widget-view+json": {
       "model_id": "a36263fe10e2423e83c1866d573d485e",
       "version_major": 2,
       "version_minor": 0
      },
      "text/plain": [
       "Mapping progress:   0%|          | 0/23301 [00:00<?, ?it/s]"
      ]
     },
     "metadata": {},
     "output_type": "display_data"
    },
    {
     "name": "stdout",
     "output_type": "stream",
     "text": [
      "Round 5 done. Number of entries in test: 7, Number of entries remaining: 23300\n",
      "2\n"
     ]
    },
    {
     "data": {
      "application/vnd.jupyter.widget-view+json": {
       "model_id": "985d44d7cc394dc7b8a8b53771820bcc",
       "version_major": 2,
       "version_minor": 0
      },
      "text/plain": [
       "Mapping progress:   0%|          | 0/23300 [00:00<?, ?it/s]"
      ]
     },
     "metadata": {},
     "output_type": "display_data"
    }
   ],
   "source": [
    "tqdm.pandas(desc=\"Mapping progress\")\n",
    "\n",
    "for _ in trange(500, desc=\"Overall progress\"):\n",
    "    \n",
    "    #lastest job title added will act as the reference\n",
    "    title_ref = mcf_df_test[\"Title\"].iloc[-1]\n",
    "    \n",
    "    if \"Distance\" not in mcf_df_existing.columns:\n",
    "        #initinalisaion\n",
    "        mcf_df_existing[\"Distance\"] = mcf_df_existing[\"Title\"].progress_map(lambda title: distance_text(title, title_ref))\n",
    "    else:\n",
    "        #remaining calculation\n",
    "        mcf_df_existing[\"Distance\"] = mcf_df_existing[\"Distance\"] + mcf_df_existing[\"Title\"].progress_map(lambda title: distance_text(title, title_ref))\n",
    "\n",
    "    mcf_df_existing[\"Distance_sort\"] = mcf_df_existing[\"Distance\"]/len(mcf_df_test)\n",
    "    \n",
    "    #take in the first (min) as sample\n",
    "    mcf_df_test = pd.concat([mcf_df_test, mcf_df_existing.sort_values('Distance_sort').iloc[[0]][['Job_ID', 'Title']]])\n",
    "    \n",
    "    #remaining mcf_df_exisiting\n",
    "    mcf_df_existing = mcf_df_existing.sort_values('Distance_sort').iloc[1:, :][['Job_ID', 'Title', 'Distance']]\n",
    "    \n",
    "    print(f'Round {_} done. Number of entries in test: {mcf_df_test.shape[0]}, Number of entries remaining: {mcf_df_existing.shape[0]}')"
   ]
  },
  {
   "cell_type": "code",
   "execution_count": null,
   "metadata": {},
   "outputs": [],
   "source": [
    "mcf_df_test[[\"Job_ID\"]].to_csv(\"..\\Data\\Processed\\500_Job_ID_Samples.csv\", index=False)"
   ]
  }
 ],
 "metadata": {
  "kernelspec": {
   "display_name": "my_enviro",
   "language": "python",
   "name": "my_enviro"
  },
  "language_info": {
   "codemirror_mode": {
    "name": "ipython",
    "version": 3
   },
   "file_extension": ".py",
   "mimetype": "text/x-python",
   "name": "python",
   "nbconvert_exporter": "python",
   "pygments_lexer": "ipython3",
   "version": "3.7.4"
  }
 },
 "nbformat": 4,
 "nbformat_minor": 2
}
