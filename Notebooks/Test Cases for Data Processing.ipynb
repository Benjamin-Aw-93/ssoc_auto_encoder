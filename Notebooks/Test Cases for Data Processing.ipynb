{
 "cells": [
  {
   "cell_type": "code",
   "execution_count": 2,
   "id": "d2959c9b-dc61-4b63-9c26-c6b560f8041f",
   "metadata": {},
   "outputs": [],
   "source": [
    "import os\n",
    "os.chdir('..')"
   ]
  },
  {
   "cell_type": "code",
   "execution_count": 5,
   "id": "31bc0d6c-8b1b-4b84-9108-c09eace0ead7",
   "metadata": {},
   "outputs": [],
   "source": [
    "import pandas as pd\n",
    "import random\n",
    "import json"
   ]
  },
  {
   "cell_type": "code",
   "execution_count": 8,
   "id": "4c17d52b-e5ab-4720-921b-cb93f8eaa7b5",
   "metadata": {},
   "outputs": [],
   "source": [
    "data1 = pd.read_csv('Data/Processed/Artifacts/MCF_Subset_WithLabels.csv')"
   ]
  },
  {
   "cell_type": "code",
   "execution_count": 7,
   "id": "5693ea07-28d6-4018-bd1e-5215d612d07d",
   "metadata": {},
   "outputs": [],
   "source": [
    "data2 = pd.read_csv('Data/Processed/training/train_full.csv')"
   ]
  },
  {
   "cell_type": "code",
   "execution_count": 9,
   "id": "8c8f543e-a5dc-4898-a730-1cc57ded6c6f",
   "metadata": {},
   "outputs": [],
   "source": [
    "for_testing_data1 = {\n",
    "    \n",
    "    # standard stuff \n",
    "    7478: \"To ensure that field service jobs are carried out in accordance with Company SOP. Preferably experience in Alignment and Condition Monitoring Service. To carry out corrective work on rotating equipment such as balancing, alignment and etc. Perform site analysis tasks on machinery or rotating equipment. Ability to solve on-site problem for HVAC system and plant equipment etc. Carry out installation jobs. To generate the service reports timely and accurately.\",\n",
    "    18088: \"Working in a team to assist the Facilities Manager in daily building operations. Scheduling preventative maintenance, pest control, horticulture, security management, etc through our appointed term/ sub-contractors. Investigate, check and analyse reported breakdowns & faults to determine their cause for the prevention of future occurrences. Supervise contractors to carry out maintenance works and to ensure the upkeep of the site in accordance to stipulated requirements. Required to prepare monthly facility reports.\",\n",
    "    15984: \"Responsible for planning and directing food preparation in the kitchen and staff scheduling with Chef De Cuisine. Manage inventory and ensure that inventory remains at a favourable level for restaurant operations. Meet the restaurant's specifications regarding presentation of food but also exceeding the outlined commitment to quality. Supervise all kitchen stations. Ensure that the kitchen's purchasing, ordering, and quality monitoring procedures are complied with and that stock levels and wastage are kept to a minimum. Lead, guide and supervise kitchen staff in food preparation and cooking processes. Ensure that junior kitchen staff and all new employees are trained to carry out their designated duties correctly. Ensure sanitation and nutritional practices are followed by kitchen staff. Ensure, observe and enforce compliance with food safety and hygiene standards. Ensure that the general cleanliness and condition of the kitchen is maintained. Ensure minimum wastage in food preparation. Able to manage cost effectively and resources efficiently to achieve optimal productivity. To minimize accumulate daily wastage. Other tasks as assigned by Supervisor.\",\n",
    "    7491: \"Support the development and execution of integrated value and access strategies across relevant therapeutic areas which align with wider external affairs strategy and supports the achievement of the organization's commercial goals. Building and maintaining a deep understanding of the payer landscape, including barriers and opportunities. Deep understanding of the government's tender process and governance. Collaborating with the business units to develop market access strategy plans, with a particular emphasis on key growth drivers and priority products. Develop a thorough understanding of the policy objectives, health priorities and planned initiatives of government, particularly as they may impact on access for company's current and future products/ Accelerate market access in MOH (government formulary, key teaching institutions, hospitals) for organizations products. To develop wider influencing and communication of policies between Company, MOH and other key national stakeholders. Develop a strong network of government contacts that can positively influence the outcome of the healthcare policy in Singapore (MOH, MTI, EDB, A*Star, SAPI and relevant associations) Define bidding strategy for MOH tenders.\",\n",
    "    \n",
    "    # fix the substitution of non-alpha char into full-stops (esp numbers and hyphens)\n",
    "    # Ben: Fixed\n",
    "    10603: \"To lead the Engineer team to carry out civil and structural engineering jobs in front end engineering design, detail engineering design. To assist discipline Manager in project civil portion manpower. To generate project specifications, design philosophy, calculation template to comply with clients' requirement and local authority's requirements. Civil project team manhour control, schedule control. To prepare foundation, structural or hydraulic calculation sheets, from simple to more complicated items, in accordance to project specifications, criteria and information. Ensuring correct and accurate calculations of loads and member sizes of structures. On average, a Civil Engineer II produces three simple foundation calculation designs a day or 1 structural calculation report a week. To prepare three-dimensional (3D) models and design drawings for structures and foundations as well as shop fabrication drawings. To supply design drawing information and instructions to Designers ensuring technical completeness and clearness of data for effective workflow. Usually prepares anchor bolt list and setting bolt list for client's procurement purposes ensuring at least (+)/(-) 10% safety factor and meeting client requirements. Checks own design outputs and reviews design drawings to ensure accuracy and completeness to design requirements and concepts. May act as Assistant Key Person for small projects or NIDC projects. Coordinates with other Engineers and Designers to facilitate production of civil design and drawing outputs. Performs other functions that may be assigned by the Department Manager.\",\n",
    "    18947: \"Responsible for day-to-day management and administration of various IT systems. Provide day-day level 1 and 2 service desk support and ensure proper resolution in ticketing system. Provide customers with timely, professional and effective IT support (via Onsite, Remote and Phone support) Support and administrate enterprise IT solution in Microsoft (Windows Server OS, Active Directory, Office 365, Azure), Virtualization (Vmware, Hyper-V) and Hyper Converge (Nutanix) Support and administrate enterprise utility solutions, Backup (Veeam, Shadow Protect), Anti-virus (Sophos and Sentinel One) Support various servers, NAS/SAN storage and backup hardware platform (Lenovo, IBM, Dell, HPE) Support various firewall (Fortinet, Sophos) Vendor coordination and management. Create and maintain technical documentation and standard operating procedures. Evaluate and implement new IT systems for new business initiatives.\",\n",
    "    \n",
    "    # return all, replace 'and'\n",
    "    # Ben: Move 21475 as it is a short text\n",
    "    21475: \"Job Responsibilities. To perform physical delivery operations of Crude Oil, . Petroleum Products and Renewable Energy. To analyse Petroleum Trading Exposure and Profit/Loss. To support physical and paper Petroleum trading. To support business development. To make necessary external and internal reporting documents in English and Japanese. Job Requirements: More than 1 year of Petroleum Trading/Operation/Risk. Analysis experience. Able to speak business Japanese fluently to communicate with Japan HQ.\",\n",
    "    20282: \"Overall program / platform lead for Technical Requirements Analysis/Design and or payment system development. Provide technical recommendations and trade-offs which address business needs and timelines. Represent Technology Strategy & Architecture in programs/initiatives. Ability to collaborate with business and technical resources to understand and develop solutions that meet business requirements, translating strategy and objectives when necessary. 10+ years transaction banking payment systems experience. Should have program / platform lead experience in payments domain-mandatory. Should have Transformation program experience - mandatory. ISO20022 implementation experience mandatory. GOOD to HAVE. Strong, proactive leadership capabilities. Excellent written (technical) and verbal communication. Knowledge of industry best practices in terms of architectural methodologies and standards. Exceptional time management and multi-tasking skill. Technical / Professional Skills. Good understanding and Financial services experience in Commercial Banking with exposure to Payments processing and technologies across the payment lifecycle, initiation thru execution. Experience working with external Vendors & outsourced projects. Ability to effectively communicate, interact, and influence Senior Technology, Business & Operational partners. Experience in of Software Development Life Cycle (SDLC) are necessary. GOOD to HAVE. Work effectively within a fast-paced, cohesive Architecture team and willing to learn fast and adapt quickly to change. Ability to stimulate and participate in creative thinking for out-of-the-box solutions. Non-Technical / Soft Skills. Excellent Communication skills & a team player. Proven ability to work with people from different cultures. A high level of intelligence ability to operate not only on the basis of important past experiences, but in the light of the approaches and developments that occur in the market. Natural problem solving inclination. High level presentation and interpersonal skills. Experience decomposing complex problems into component parts for effective problem solving.\",\n",
    "    \n",
    "    # return all\n",
    "    11609: \"Full stack web and/or mobile application development. Design and develop back-end services. Software bugs troubleshooting. Coding documentation. Other related duties as assigned. Required Skills Sets. Degree in Computer Science, Computer Engineering, Information Systems Management, Information Technology or related disciplines. At least 2 years of experience or more in full stack development. Experience working in a agile environment. Experience in Java, C#, Python or Go languages. Experience in front-end application web development. Knowledge in Node.Js/Ruby on Rails an added advantage. Experience with building and consuming APIs. We regret that only short-listed applicants will be contacted for a discussion.\",\n",
    "    \n",
    "    # outright error\n",
    "    19299: \"Implement the program for the class in accordance with the policies, guidelines, framework and philosophy of the centre. Keep accurate records of children's progress and address each child's educational and developmental needs on an individual basis to the best of your ability. Complete progress reports on children for each semester and prepare a developmental portfolio for each child. Responsible for the preparation and upkeep of age-appropriate teaching resources, arrangement, appearance and learning environment of the classroom. Maintain and build relationships with children and parents. Conduct MindChamps unique enrichment programmes. Being an inspiring role model with a creative spirit and a champion (positive) mindset. To teach the following programme, Music for the mind, NeuroMooves programme, Creativity & Theatrical Strategies, Gourmet moment. Educated to diploma/degree level in performance arts. Experienced in working with young children. Looking for part-time or full-time positions. Passionate, Dynamic, able to work autonomously and as part of a team. Looking to make a difference in the lives of young children.\" \n",
    "    \n",
    "}\n",
    "\n",
    "for_testing_data2 = {\n",
    "    \n",
    "    # outright error, need to check what's wrong\n",
    "    3071: 'To produce and maintain a high quality of job according to the engineering specification. To achieve the manufacturing schedule, according to job assigned. To be responsible for maintaining maximum utilisation of machines. Maintain good housekeeping, safety and general machine maintenance. To understand and practice the company ISO 9001 procedures in manufacturing. Perform other duties as and when directed by the superior.',\n",
    "    3688: '''To assist Project Manager on the day-to-day management of the site, including supervising and monitoring the site labourforce and the work of any subcontractors. Liaising with local authorities, client's representatives, sub-contractors and consultants. Checking and ensuring all plans and work are as per specifications. Resolving any technical difficulties and problem that may arise on site.''',\n",
    "    18283: 'Perform various Contracts and QS works, including pre-and-post-contract administration, timely processing of progress claims, final accounts, tendering and quotations. Assist in the preparation of bill of quantities which involves quantity take-off, material sourcing, measuring and estimating materials and labour costing. Undertake cost analysis for repair and maintenance project work. Prepare costing for tenders. Prepare plans and documents for quotations to suppliers that will be used as basis for pricing. Obtains, compiles and evaluates quotations from the respective suppliers/vendors according to tender requirements. Understanding of Tenders with respect to scope of work, pricing schedule and non-material requirements. Prepare and modify documents including correspondence, reports, drafts, memos and emails.',\n",
    "    19336: 'Perform daily warehouse operation & ensure store is in pristine condition. Perform stock count of goods receiving, unloading/loading, storing. Preparation & packing of goods for delivery. Ensure goods are available before the delivery schedule to outlets in Singapore. Maintain accurate inventory records in computer system for outlets (On Job Training will be provided). Ensure all company policies, rules and regulations are followed accordingly. Other ad-hock task as designated by the manager.',\n",
    "    40663: '''To evaluate, co-ordinate, test and install software/hardware provided by suppliers with appropriate controls and standards e g. Firewalls/Data Security, Network software and hardware etc. Training and coaching will be provided. To test & install software maintenance upgrades provided by suppliers. To provide problem diagnosis and resolution liaising (level 2 support) with technical manager, peers, suppliers and customer/developer groups where appropriate could be asked to provide full 24-hour on call emergency support. To ensure operational procedures are in place, maintained and followed as approved by technical team leader. To support recovery activities following failure including disaster recovery. To provide limited advice & guidance to other groups on technical and operational issues. To provide resource and expertise to support product evaluations with other groups/customers. To ensure all appropriate documentation is provided and maintained to the ISO9001 standard. To ensure that all data security is in place in accordance to customer's Security requirement.''',\n",
    "    41018: '''Data entry duties and administrative duties include: Preparing quotation, final bill of quantity and sales invoices for the project you are assigned to. Support project manager/ M&E coordinator. Handling emails related to the project. Ability to be on time and complete task in an efficient manner. Manage databases and admin systems. Organizing, storing paperwork, documents and computer-based documents. Assisting in other office ad-ho duties when required.''',\n",
    "    \n",
    "    # outright error, just need to apply final_cleaning\n",
    "    7005: \"COMPANY DESCRIPTION. As Singapore's leading supermarket retail player and a household name close to all, we have grown with you over the years. It is now your turn to grow an exciting new career and fulfil your aspirations with us. Join us as we embark on a journey to make lives better for our customers, community, environment and employees. At NTUC FairPrice, we offer you more than just a job. We are committed in giving our employees a rewarding career through comprehensive development opportunities. We promise a wonderful workplace culture with ample opportunities for growth at different levels of your career. Every of our 10,000 employees across Singapore is important. If the prospect of working in an organization at the forefront of retail technology and innovation excites you, look no further. Grow your career with us today and make a difference. Licensee Management Manage the portfolio which includes coordiating between Channels, renewals, negotiation, marketing to new prospects, handling over/taking over of sites. Leasing documentation Follow up on preparing and checking of lease documents. Audit checks. Entering accurate data in the system. Arrears Management To assist with contacting the tenants. Cold calling To source for potential locations and tenants. Marketing To assist in the implementation and execution of marketing programs for the Malls (Joo Koon and Woodgrove) QUALIFICATIONS. Degree in relevant fields. At least 2 years of experience in Tenancy, Licensing, Leasing Space, Tenders contracting in retail malls/space preferred. Proficient in Microsoft Office (Powerpoint, Word, Excel) . Able to resolve conflicts easily and working independently and also as a team. Meticulous in his/her work. OTHER INFORMATION. Jookoon mrt. Please note that your application will be sent to and reviewed by the direct employer - FairPrice.\",\n",
    "    25188: 'Take charge of all M&E parameters comprising perparation of coordinated services drawing materials and equipment register, scheduling of work sequences. Planning and execution of works with relevant M&E contractors, testing, training and commissioning of all M&E systems including compilation of as-built drawings operation manuals,  keys and warranties for handover. Communicate at all levels between clients, consultants, subcontractors, vendors, specialists and authorities to achieve completion targets within regulatory requirements,  quality and intended function of each system.',\n",
    "    27221: \"Job Description. : Creative in Interior Design conceptualizations. To be in charge of designing a project from concept to completion. Meet and understand the client's objectives and prepare design proposal for the client. Able to communicate and prepare details construction drawings. Knowledge of Design Space Planning, Concept Development, Furniture Detailing & Implementation. To provide presentations to clients on the design proposal. To attend client's briefing and perform site survey/measurement. Work closely with the project team and client during the content construction / designing phase. Ensure dimensions and materials use are accurate and fully functional. Take on-site measurements and all relevant photos for planning and conceptualising. Assist in the handover of completed projects to the project owner and/or operations team. Job Requirements. : At least 3 years above working experience in relavent field. Graduated in related field with Diploma or Degree in Architectural or Interior Designer. Required to work well in AutoCad, 3D Max, Sketchup, Photoshop, Vray, and etc. Able to work independent, self motivated and team work. Immediately or within short notice to start work.\",\n",
    "    34863: 'Job Description & Requirements. BIM PROFESSIONAL ADVANCEMENT PROGRAMME. PROGRAM DESCRIPTION. Start your BIM career with us and be part of the exciting BIM Technology revolution. Job Scope. Develop BIM models for specific design discipline. Perform model checks and identify issues for discrepancies. Collaborate with other disciplines on design, submission, and implementation of BIM in the entire construction process. Why Join Us? . Free / Company Sponsored Training with Training Allowance. Internationally Recognized and Accredited Training Center. Industry-Recognized Certification. Knowledgeable Trainers & Instructors. Career Development. Practical Learning Model. Project Incentive. End-of-Programme Performance Bonus. Healthy Lifestyle Reward. Deg / Dip in Engineering (Mechanical, Electrical, Civil, Structural, Electronics) . Deg / Dip in Architecture, Green Building, Construction Management, Facilities Management, Intelligent Building Technology, and other Built Environment-related fields. Interest and passion in Architectural, Engineering and Construction industry. Candidates without prior experience are welcome to apply.',\n",
    "    \n",
    "    # outright error, not sure if we can do this so flexible on whether to drop this\n",
    "    38110: 'Assist in identifying and organizing requirements. Apply relevant usability procedures and principles. Analyze, design, develop, maintain products and assist in their commercialization. Build prototypes, products and systems suitable for testing. Set up and run simulations. Design and implement tests, document results and develop customer presentations. Provide timely corrective actions on defects. Produce analyses and mathematical models and draw design conclusions based on those. Conduct or participate in technical reviews of requirements, specifications, designs, code and other artefacts. Contribute to design standards and support design re-use. Create and maintain product documentation. Provide support to field and customers through InTouch. Provide user training as required. Assign, direct and review work of technicians and provide guidance to engineers. With seniority, mentor junior engineers. Continually evaluate engineering approaches and risks. Author technical reports, papers, articles, patents and presentations. Maintain product knowledge library. Share expertise via Eureka and special interest groups. Expand informal network throughout the organization. Make technical presentations to client and key suppliers. Keep abreast of novel technical concepts and markets. Adopt new practices readily to develop innovative and low-cost products. Maintain familiarity with company technology, organization and business. Comply with Sarbanes-Oxley requirements as defined in the risk control matrix.'\n",
    "    \n",
    "}"
   ]
  },
  {
   "cell_type": "code",
   "execution_count": 10,
   "id": "a683d54a-7ef5-4e52-b9cb-4022dfdaebaa",
   "metadata": {},
   "outputs": [],
   "source": [
    "output = []\n",
    "for key, value in for_testing_data1.items():\n",
    "    test_case = {\n",
    "        'input': data1['Description'][key],\n",
    "        'output': value\n",
    "    }\n",
    "    output.append(test_case)\n",
    "    \n",
    "for key, value in for_testing_data2.items():\n",
    "    test_case = {\n",
    "        'input': data2['Description'][key],\n",
    "        'output': value\n",
    "    }\n",
    "    output.append(test_case)"
   ]
  },
  {
   "cell_type": "code",
   "execution_count": 12,
   "id": "df69254f-b58b-4cad-82bd-607ed5999dcd",
   "metadata": {},
   "outputs": [],
   "source": [
    "with open('test_ssoc_autocoder/integration_test_cases.json', 'w') as outfile:\n",
    "    json.dump(output, outfile)"
   ]
  },
  {
   "cell_type": "code",
   "execution_count": null,
   "id": "df15e54c-450e-407b-9631-fa4f320d7c27",
   "metadata": {},
   "outputs": [],
   "source": []
  },
  {
   "cell_type": "code",
   "execution_count": null,
   "id": "3e192cb0-fad7-49a1-ab8a-e2822b0b8395",
   "metadata": {},
   "outputs": [],
   "source": [
    "# 421 is a hard case of letter numbering"
   ]
  },
  {
   "cell_type": "code",
   "execution_count": null,
   "id": "1631bec1-571f-4117-93e9-84495cf7c807",
   "metadata": {},
   "outputs": [],
   "source": [
    "ssoc_autocoder.processing.final_cleaning(data['Description'][idx])"
   ]
  },
  {
   "cell_type": "code",
   "execution_count": null,
   "id": "5e5dea16-9dc3-4875-bac1-01fca1a8450d",
   "metadata": {},
   "outputs": [],
   "source": [
    "idx = random.randint(0, len(data))\n",
    "print(f'Index: {idx}')\n",
    "print(data['Description'][idx])\n",
    "ssoc_autocoder.processing.process_text(data['Description'][idx])"
   ]
  },
  {
   "cell_type": "code",
   "execution_count": null,
   "id": "19326147-ddf8-4dbe-9dd6-6a8b15f91ff6",
   "metadata": {},
   "outputs": [],
   "source": []
  }
 ],
 "metadata": {
  "kernelspec": {
   "display_name": "Python 3 (ipykernel)",
   "language": "python",
   "name": "python3"
  },
  "language_info": {
   "codemirror_mode": {
    "name": "ipython",
    "version": 3
   },
   "file_extension": ".py",
   "mimetype": "text/x-python",
   "name": "python",
   "nbconvert_exporter": "python",
   "pygments_lexer": "ipython3",
   "version": "3.9.5"
  }
 },
 "nbformat": 4,
 "nbformat_minor": 5
}
