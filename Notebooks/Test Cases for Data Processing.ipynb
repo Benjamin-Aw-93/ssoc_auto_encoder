{
 "cells": [
  {
   "cell_type": "code",
   "execution_count": 6,
   "id": "d2959c9b-dc61-4b63-9c26-c6b560f8041f",
   "metadata": {},
   "outputs": [],
   "source": [
    "import os\n",
    "os.chdir('..')"
   ]
  },
  {
   "cell_type": "code",
   "execution_count": 52,
   "id": "31bc0d6c-8b1b-4b84-9108-c09eace0ead7",
   "metadata": {},
   "outputs": [],
   "source": [
    "import pandas as pd\n",
    "import random\n",
    "import json\n",
    "import ssoc_autocoder"
   ]
  },
  {
   "cell_type": "code",
   "execution_count": 11,
   "id": "4c17d52b-e5ab-4720-921b-cb93f8eaa7b5",
   "metadata": {},
   "outputs": [],
   "source": [
    "data = pd.read_csv('Data/Processed/Artifacts/MCF_Subset_WithLabels.csv')"
   ]
  },
  {
   "cell_type": "code",
   "execution_count": 13,
   "id": "7e237ce6-1d44-48ea-b86a-8a242935ddd2",
   "metadata": {},
   "outputs": [
    {
     "data": {
      "text/html": [
       "<div>\n",
       "<style scoped>\n",
       "    .dataframe tbody tr th:only-of-type {\n",
       "        vertical-align: middle;\n",
       "    }\n",
       "\n",
       "    .dataframe tbody tr th {\n",
       "        vertical-align: top;\n",
       "    }\n",
       "\n",
       "    .dataframe thead th {\n",
       "        text-align: right;\n",
       "    }\n",
       "</style>\n",
       "<table border=\"1\" class=\"dataframe\">\n",
       "  <thead>\n",
       "    <tr style=\"text-align: right;\">\n",
       "      <th></th>\n",
       "      <th>Job_ID</th>\n",
       "      <th>Title</th>\n",
       "      <th>Description</th>\n",
       "      <th>SSOC_2015</th>\n",
       "      <th>Cleaned_Description</th>\n",
       "      <th>Predicted SSOC</th>\n",
       "      <th>Reported SSOC Desc</th>\n",
       "      <th>Predicted SSOC Desc</th>\n",
       "    </tr>\n",
       "  </thead>\n",
       "  <tbody>\n",
       "    <tr>\n",
       "      <th>0</th>\n",
       "      <td>MCF-2020-0035227</td>\n",
       "      <td>pega solution architect (1 year contract)</td>\n",
       "      <td>&lt;p&gt;Technical specialists will be responsible f...</td>\n",
       "      <td>21499</td>\n",
       "      <td>pega solution architect year contract technica...</td>\n",
       "      <td>29090</td>\n",
       "      <td>Other engineering professionals n.e.c.</td>\n",
       "      <td>Other professionals n.e.c. (eg patent agent, t...</td>\n",
       "    </tr>\n",
       "    <tr>\n",
       "      <th>1</th>\n",
       "      <td>MCF-2020-0002456</td>\n",
       "      <td>architectural coordinator</td>\n",
       "      <td>&lt;ul&gt;\\n  &lt;li&gt;Qualified and Experienced Architec...</td>\n",
       "      <td>21649</td>\n",
       "      <td>architectural coordinator qualified and experi...</td>\n",
       "      <td>13499</td>\n",
       "      <td>Other related planners (eg traffic planner)</td>\n",
       "      <td>Other professional, financial, community and s...</td>\n",
       "    </tr>\n",
       "    <tr>\n",
       "      <th>2</th>\n",
       "      <td>MCF-2020-0183160</td>\n",
       "      <td>conveyancing secretary</td>\n",
       "      <td>&lt;p&gt;We are currently looking for Conveyancing S...</td>\n",
       "      <td>41201</td>\n",
       "      <td>conveyancing secretary we are currently lookin...</td>\n",
       "      <td>44170</td>\n",
       "      <td>Secretary</td>\n",
       "      <td>Legal clerk</td>\n",
       "    </tr>\n",
       "  </tbody>\n",
       "</table>\n",
       "</div>"
      ],
      "text/plain": [
       "             Job_ID                                      Title  \\\n",
       "0  MCF-2020-0035227  pega solution architect (1 year contract)   \n",
       "1  MCF-2020-0002456                  architectural coordinator   \n",
       "2  MCF-2020-0183160                     conveyancing secretary   \n",
       "\n",
       "                                         Description  SSOC_2015  \\\n",
       "0  <p>Technical specialists will be responsible f...      21499   \n",
       "1  <ul>\\n  <li>Qualified and Experienced Architec...      21649   \n",
       "2  <p>We are currently looking for Conveyancing S...      41201   \n",
       "\n",
       "                                 Cleaned_Description  Predicted SSOC  \\\n",
       "0  pega solution architect year contract technica...           29090   \n",
       "1  architectural coordinator qualified and experi...           13499   \n",
       "2  conveyancing secretary we are currently lookin...           44170   \n",
       "\n",
       "                             Reported SSOC Desc  \\\n",
       "0        Other engineering professionals n.e.c.   \n",
       "1  Other related planners (eg traffic planner)    \n",
       "2                                     Secretary   \n",
       "\n",
       "                                 Predicted SSOC Desc  \n",
       "0  Other professionals n.e.c. (eg patent agent, t...  \n",
       "1  Other professional, financial, community and s...  \n",
       "2                                       Legal clerk   "
      ]
     },
     "execution_count": 13,
     "metadata": {},
     "output_type": "execute_result"
    }
   ],
   "source": [
    "data.head(3)"
   ]
  },
  {
   "cell_type": "code",
   "execution_count": 51,
   "id": "8c8f543e-a5dc-4898-a730-1cc57ded6c6f",
   "metadata": {},
   "outputs": [],
   "source": [
    "for_testing = {\n",
    "    \n",
    "    # standard stuff \n",
    "    7478: 'To ensure that field service jobs are carried out in accordance with Company SOP. Preferably experience in Alignment and Condition Monitoring Service. To carry out corrective work on rotating equipment such as balancing, alignment and etc. Perform site analysis tasks on machinery or rotating equipment. Ability to solve on-site problem for HVAC system and plant equipment etc. Carry out installation jobs. To generate the service reports timely and accurately.',\n",
    "    21475: 'To perform physical delivery operations of Crude Oil. To analyse Petroleum Trading Exposure and Profit/Loss. To support physical and paper Petroleum trading. To support business development. To make necessary external and internal reporting.',\n",
    "    18088: 'Working in a team to assist the Facilities Manager in daily building operations. Scheduling preventative maintenance, pest control, horticulture, security management, etc through our appointed term/ sub.contractors. Investigate, check and analyse reported breakdowns faults to determine their cause for the prevention of future occurrences. Supervise contractors to carry out maintenance works and to ensure the upkeep of the site in accordance to stipulated requirements. Required to prepare monthly facility reports.',\n",
    "    15984: 'Responsible for planning and directing food preparation in the kitchen and staff scheduling with Chef De Cuisine. Manage inventory and ensure that inventory remains at a favourable level for restaurant operations. Meet the restaurant’s specifications regarding presentation of food but also exceeding the outlined commitment to quality. Supervise all kitchen stations. Ensure that the kitchen’s purchasing, ordering, and quality monitoring procedures are complied with and that stock levels and wastage are kept to a minimum. Lead, guide and supervise kitchen staff in food preparation and cooking processes. Ensure that junior kitchen staff and all new employees are trained to carry out their designated duties correctly. Ensure sanitation and nutritional practices are followed by kitchen staff. Ensure, observe and enforce compliance with food safety and hygiene standards. Ensure that the general cleanliness and condition of the kitchen is maintained. Ensure minimum wastage in food preparation. Able to manage cost effectively and resources efficiently to achieve optimal productivity. To minimize accumulate daily wastage. Other tasks as assigned by Supervisor.',\n",
    "    7491: 'Support the development and execution of integrated value and access strategies across relevant therapeutic areas which align with wider external affairs strategy and supports the achievement of the organization’s commercial goals. Building and maintaining a deep understanding of the payer landscape, including barriers and opportunities. Deep understanding of the government’s tender process and governance. Collaborating with the business units to develop market access strategy plans, with a particular emphasis on key growth drivers and priority products. Develop a thorough understanding of the policy objectives, health priorities and planned initiatives of government, particularly as they may impact on access for company’s current and future products/. Accelerate market access in MOH (government formulary, key teaching institutions, hospitals) for organizations products. To develop wider influencing and communication of policies between Company, MOH and other key national stakeholders. Develop a strong network of government contacts that can positively influence the outcome of the healthcare policy in Singapore (MOH, MTI, EDB, A*Star, SAPI and relevant associations). Define bidding strategy for MOH tenders.',\n",
    "    \n",
    "    # fix the substitution of non-alpha char into full-stops (esp numbers and hyphens)\n",
    "    10603: 'To lead the Engineer team to carry out civil and structural engineering jobs in front end engineering design, detail engineering design. To assist discipline Manager in project civil portion manpower. To generate project specifications, design philosophy, calculation template to comply with clients’ requirement and local authority’s requirements. Civil project team manhour control, schedule control. To prepare foundation, structural or hydraulic calculation sheets, from simple to more complicated items, in accordance to project specifications, criteria and information. Ensuring correct and accurate calculations of loads and member sizes of structures. On average, a Civil Engineer II produces three simple foundation calculation designs a day or 1 structural calculation report a week. To prepare three-dimensional (3D) models and design drawings for structures and foundations as well as shop fabrication drawings. To supply design drawing information and instructions to Designers ensuring technical completeness and clearness of data for effective workflow. Usually prepares anchor bolt list and setting bolt list for client’s procurement purposes ensuring at least (+)/(-) 10% safety factor and meeting client requirements. Checks own design outputs and reviews design drawings to ensure accuracy and completeness to design requirements and concepts. May act as Assistant Key Person for small projects or NIDC projects. Coordinates with other Engineers and Designers to facilitate production of civil design and drawing outputs. Performs other functions that may be assigned by the Department Manager.',\n",
    "    18947: 'Responsible for day-to-day management and administration of various IT systems. Provide day-day level 1 and 2 service desk support and ensure proper resolution in ticketing system. Provide customers with timely, professional and effective IT support (via Onsite, Remote and Phone support). Support and administrate enterprise IT solution in Microsoft (Windows Server OS, Active Directory, Office 365, Azure), Virtualization (Vmware, Hyper-V) and Hyper Converge (Nutanix). Support and administrate enterprise utility solutions, Backup (Veeam, Shadow Protect), Anti-virus (Sophos and Sentinel One). Support various servers, NAS/SAN storage and backup hardware platform (Lenovo, IBM, Dell, HPE). Support various firewall (Fortinet, Sophos). Vendor coordination and management. Create and maintain technical documentation and standard operating procedures. Evaluate and implement new IT systems for new business initiatives.',\n",
    "    \n",
    "    # return all, replace 'and'\n",
    "    20282: 'Overall program / platform lead for Technical Requirements Analysis/Design and or payment system development. Provide technical recommendations and trade.offs which address business needs and timelines. Represent Technology Strategy and Architecture in programs/initiatives. Ability to collaborate with business and technical resources to understand and develop solutions that meet business requirements, translating strategy and objectives when necessary. 10+ years transaction banking payment systems experience. Should have program / platform lead experience in payments domain-mandatory. Should have Transformation program experience - mandatory. ISO20022 implementation experience mandatory. GOOD to HAVE. Strong, proactive leadership capabilities. Excellent written (technical) and verbal communication. Knowledge of industry best practices in terms of architectural methodologies and standards. Exceptional time management and multi-tasking skill. Technical / Professional Skills. Good understanding and Financial services experience in Commercial Banking with exposure to Payments processing and technologies across the payment lifecycle, initiation thru execution. Experience working with external Vendors and outsourced projects. Ability to effectively communicate, interact, and influence Senior Technology, Business and Operational partners. Experience in of Software Development Life Cycle (SDLC) are necessary. GOOD to HAVE. Work effectively within a fast-paced, cohesive Architecture team and willing to learn fast and adapt quickly to change. Ability to stimulate and participate in creative thinking for out-of-the-box solutions. Non-Technical / Soft Skills. Excellent Communication skills and a team player. Proven ability to work with people from different cultures. A high level of intelligence; ability to operate not only on the basis of important past experiences, but in the light of the approaches and developments that occur in the market. Natural problem solving inclination. High level presentation and interpersonal skills. Experience decomposing complex problems into component parts for effective problem solving.',\n",
    "    \n",
    "    # return all\n",
    "    11609: 'Responsibilities. Full stack web and/or mobile application development. Design and develop back-end services. Software bugs troubleshooting. Coding documentation. Other related duties as assigned. Required Skills Sets. Degree in Computer Science, Computer Engineering, Information Systems Management, Information Technology or related disciplines. At least 2 years of experience or more in full stack development. Experience working in a agile environment. Experience in Java, C#, Python or Go languages. Experience in front.end application web development. Knowledge in Node.Js/Ruby on Rails an added advantage. Experience with building and consuming APIs. We regret that only short.listed applicants will be contacted for a discussion.',\n",
    "    \n",
    "    # outright error\n",
    "    19299: '''Implement the program for the class in accordance with the policies, guidelines, framework and philosophy of the centre. Keep accurate records of children's progress and address each child's educational and developmental needs on an individual basis to the best of your ability. Complete progress reports on children for each semester and prepare a developmental portfolio for each child. Responsible for the preparation and upkeep of age-appropriate teaching resources, arrangement, appearance and learning environment of the classroom. Maintain and build relationships with children and parents. Conduct MindChamps unique enrichment programmes. Being an inspiring role model with a creative spirit and a champion (positive) mindset. To teach the following programme, Music for the mind, NeuroMooves programme, Creativity and Theatrical Strategies, Gourmet moment.'''\n",
    "    \n",
    "}"
   ]
  },
  {
   "cell_type": "code",
   "execution_count": 53,
   "id": "a683d54a-7ef5-4e52-b9cb-4022dfdaebaa",
   "metadata": {},
   "outputs": [],
   "source": [
    "output = []\n",
    "for key, value in for_testing.items():\n",
    "    test_case = {\n",
    "        'input': data['Description'][key],\n",
    "        'output': value\n",
    "    }\n",
    "    output.append(test_case)"
   ]
  },
  {
   "cell_type": "code",
   "execution_count": 56,
   "id": "df69254f-b58b-4cad-82bd-607ed5999dcd",
   "metadata": {},
   "outputs": [],
   "source": [
    "with open('test_ssoc_autocoder/integration_test_cases.json', 'w') as outfile:\n",
    "    json.dump(output, outfile)"
   ]
  },
  {
   "cell_type": "code",
   "execution_count": null,
   "id": "df15e54c-450e-407b-9631-fa4f320d7c27",
   "metadata": {},
   "outputs": [],
   "source": []
  },
  {
   "cell_type": "code",
   "execution_count": null,
   "id": "3e192cb0-fad7-49a1-ab8a-e2822b0b8395",
   "metadata": {},
   "outputs": [],
   "source": [
    "# 421 is a hard case of letter numbering"
   ]
  },
  {
   "cell_type": "code",
   "execution_count": 47,
   "id": "1631bec1-571f-4117-93e9-84495cf7c807",
   "metadata": {},
   "outputs": [
    {
     "data": {
      "text/plain": [
       "'Join the Dream Team &amp; Discover the Champion in You!. Be a MindChampion Leader, join the No.* premium preschool in Singapore. Its time to bring your career to greater heights!. Mindchamps’ rapid growth &amp; expansion globally provides you with a world of opportunities!. Are you dynamic, passionate about the performing arts and early childhood education?. MindChamps Singapore is looking for theatre/drama trained applicants and triple threat (music/dance/drama) applicants for some upcoming exciting enrichment programmes. Job Responsibilities:. Implement the program for the class in accordance with the policies, guidelines, framework and philosophy of the centre. Keep accurate records of children’s progress and address each child’s educational and developmental needs on an individual basis to the best of your ability. Complete progress reports on children for each semester and prepare a developmental portfolio for each child. Responsible for the preparation and upkeep of age.appropriate teaching resources, arrangement, appearance and learning environment of the classroom. Maintain and build relationships with children and parents. Conduct MindChamps unique enrichment programmes. Being an inspiring role model with a creative spirit and a champion (positive) mindset. To teach the following programme, Music for the mind, NeuroMooves programme, Creativity &amp; Theatrical Strategies, Gourmet moment. You are:. Educated to diploma/degree level in performance arts. Experienced in working with young children. Looking for part.time or full.time positions. Passionate, Dynamic, able to work autonomously and as part of a team. Looking to make a difference in the lives of young children. Additional Information:. Attractive remuneration and staff welfare benefits. Ample opportunities for Career Progression. Up to. days of Annual Leave. Low Teacher.Children Ratio!. Friendly and Conducive working environment. Comprehensive HQ training for all teachers!. Strong Curriculum team and mentorship programs available!. Company Sponsorships. Permanent positions. Locations:&nbsp;.&nbsp;centres Islandwide! Proximity to MRTs stations!.'"
      ]
     },
     "execution_count": 47,
     "metadata": {},
     "output_type": "execute_result"
    }
   ],
   "source": [
    "ssoc_autocoder.processing.final_cleaning(data['Description'][idx])"
   ]
  },
  {
   "cell_type": "code",
   "execution_count": 46,
   "id": "5e5dea16-9dc3-4875-bac1-01fca1a8450d",
   "metadata": {},
   "outputs": [
    {
     "name": "stdout",
     "output_type": "stream",
     "text": [
      "Index: 19299\n",
      "<p><strong>Join the Dream Team &amp; Discover the Champion in You!</strong></p>\n",
      "<p><strong>Be a MindChampion Leader, join the No.1* premium preschool in Singapore.</strong></p>\n",
      "<p><br></p>\n",
      "<p><strong>Its time to bring your career to greater heights!</strong></p>\n",
      "<p><strong>Mindchamps’ rapid growth &amp; expansion globally provides you with a world of opportunities!</strong></p>\n",
      "<p><br></p>\n",
      "<p><strong>Are you dynamic, passionate about the performing arts and early childhood education?</strong></p>\n",
      "<p><br></p>\n",
      "<p>MindChamps Singapore is looking for theatre/drama trained applicants and triple threat (music/dance/drama) applicants for some upcoming exciting enrichment programmes.</p>\n",
      "<p><br></p>\n",
      "<p><strong>Job Responsibilities:</strong></p>\n",
      "<ul>\n",
      "  <li>Implement the program for the class in accordance with the policies, guidelines, framework and philosophy of the centre.</li>\n",
      "  <li>Keep accurate records of children’s progress and address each child’s educational and developmental needs on an individual basis to the best of your ability.</li>\n",
      "  <li>Complete progress reports on children for each semester and prepare a developmental portfolio for each child.</li>\n",
      "  <li>Responsible for the preparation and upkeep of age-appropriate teaching resources, arrangement, appearance and learning environment of the classroom.</li>\n",
      "  <li>Maintain and build relationships with children and parents.</li>\n",
      "  <li>Conduct MindChamps unique enrichment programmes</li>\n",
      "  <li>Being an inspiring role model with a creative spirit and a champion (positive) mindset.</li>\n",
      "  <li>To teach the following programme, Music for the mind, NeuroMooves programme, Creativity &amp; Theatrical Strategies, Gourmet moment.</li>\n",
      "</ul>\n",
      "<p><strong>You are:</strong></p>\n",
      "<ul>\n",
      "  <li>Educated to diploma/degree level in performance arts.</li>\n",
      "  <li>Experienced in working with young children.</li>\n",
      "  <li>Looking for part-time or full-time positions.</li>\n",
      "  <li>Passionate, Dynamic, able to work autonomously and as part of a team.</li>\n",
      "  <li>Looking to make a difference in the lives of young children.</li>\n",
      "</ul>\n",
      "<p><strong>Additional Information:</strong></p>\n",
      "<ul>\n",
      "  <li>Attractive remuneration and staff welfare benefits</li>\n",
      "  <li>Ample opportunities for Career Progression</li>\n",
      "  <li>Up to 21 days of Annual Leave</li>\n",
      "  <li>Low Teacher-Children Ratio!</li>\n",
      "  <li>Friendly and Conducive working environment</li>\n",
      "  <li>Comprehensive HQ training for all teachers!</li>\n",
      "  <li>Strong Curriculum team and mentorship programs available!</li>\n",
      "  <li>Company Sponsorships</li>\n",
      "  <li>Permanent positions</li>\n",
      "</ul>\n",
      "<p><strong>Locations:&nbsp;</strong>40&nbsp;centres Islandwide! Proximity to MRTs stations!</p>\n",
      "<p><br></p>\n"
     ]
    },
    {
     "ename": "IndexError",
     "evalue": "[E040] Attempt to access token at 0, max length 0.",
     "output_type": "error",
     "traceback": [
      "\u001b[1;31m---------------------------------------------------------------------------\u001b[0m",
      "\u001b[1;31mIndexError\u001b[0m                                Traceback (most recent call last)",
      "\u001b[1;32m~\\AppData\\Local\\Temp/ipykernel_28712/3170060570.py\u001b[0m in \u001b[0;36m<module>\u001b[1;34m\u001b[0m\n\u001b[0;32m      2\u001b[0m \u001b[0mprint\u001b[0m\u001b[1;33m(\u001b[0m\u001b[1;34mf'Index: {idx}'\u001b[0m\u001b[1;33m)\u001b[0m\u001b[1;33m\u001b[0m\u001b[1;33m\u001b[0m\u001b[0m\n\u001b[0;32m      3\u001b[0m \u001b[0mprint\u001b[0m\u001b[1;33m(\u001b[0m\u001b[0mdata\u001b[0m\u001b[1;33m[\u001b[0m\u001b[1;34m'Description'\u001b[0m\u001b[1;33m]\u001b[0m\u001b[1;33m[\u001b[0m\u001b[0midx\u001b[0m\u001b[1;33m]\u001b[0m\u001b[1;33m)\u001b[0m\u001b[1;33m\u001b[0m\u001b[1;33m\u001b[0m\u001b[0m\n\u001b[1;32m----> 4\u001b[1;33m \u001b[0mssoc_autocoder\u001b[0m\u001b[1;33m.\u001b[0m\u001b[0mprocessing\u001b[0m\u001b[1;33m.\u001b[0m\u001b[0mprocess_text\u001b[0m\u001b[1;33m(\u001b[0m\u001b[0mdata\u001b[0m\u001b[1;33m[\u001b[0m\u001b[1;34m'Description'\u001b[0m\u001b[1;33m]\u001b[0m\u001b[1;33m[\u001b[0m\u001b[0midx\u001b[0m\u001b[1;33m]\u001b[0m\u001b[1;33m)\u001b[0m\u001b[1;33m\u001b[0m\u001b[1;33m\u001b[0m\u001b[0m\n\u001b[0m",
      "\u001b[1;32m~\\PycharmProjects\\ssoc-autocoder\\ssoc_autocoder\\processing.py\u001b[0m in \u001b[0;36mprocess_text\u001b[1;34m(raw_text)\u001b[0m\n\u001b[0;32m    402\u001b[0m     \u001b[0mli_results\u001b[0m \u001b[1;33m=\u001b[0m \u001b[0mprocess_li_tag\u001b[0m\u001b[1;33m(\u001b[0m\u001b[0mtext\u001b[0m\u001b[1;33m,\u001b[0m \u001b[0mnlp\u001b[0m\u001b[1;33m)\u001b[0m\u001b[1;33m\u001b[0m\u001b[1;33m\u001b[0m\u001b[0m\n\u001b[0;32m    403\u001b[0m     \u001b[0mp_list_results\u001b[0m \u001b[1;33m=\u001b[0m \u001b[0mprocess_p_list\u001b[0m\u001b[1;33m(\u001b[0m\u001b[0mraw_text\u001b[0m\u001b[1;33m,\u001b[0m \u001b[0mnlp\u001b[0m\u001b[1;33m)\u001b[0m\u001b[1;33m\u001b[0m\u001b[1;33m\u001b[0m\u001b[0m\n\u001b[1;32m--> 404\u001b[1;33m     \u001b[0mp_results\u001b[0m \u001b[1;33m=\u001b[0m \u001b[0mprocess_p_tag\u001b[0m\u001b[1;33m(\u001b[0m\u001b[0mtext\u001b[0m\u001b[1;33m,\u001b[0m \u001b[0mnlp\u001b[0m\u001b[1;33m)\u001b[0m\u001b[1;33m\u001b[0m\u001b[1;33m\u001b[0m\u001b[0m\n\u001b[0m\u001b[0;32m    405\u001b[0m \u001b[1;33m\u001b[0m\u001b[0m\n\u001b[0;32m    406\u001b[0m     \u001b[1;32mif\u001b[0m \u001b[0mlen\u001b[0m\u001b[1;33m(\u001b[0m\u001b[0mli_results\u001b[0m\u001b[1;33m)\u001b[0m \u001b[1;33m>\u001b[0m \u001b[1;36m0\u001b[0m\u001b[1;33m:\u001b[0m\u001b[1;33m\u001b[0m\u001b[1;33m\u001b[0m\u001b[0m\n",
      "\u001b[1;32m~\\PycharmProjects\\ssoc-autocoder\\ssoc_autocoder\\processing.py\u001b[0m in \u001b[0;36mprocess_p_tag\u001b[1;34m(text, nlp)\u001b[0m\n\u001b[0;32m    339\u001b[0m             r'<.*?>', '', str(para_element))).strip()\n\u001b[0;32m    340\u001b[0m         \u001b[1;32mif\u001b[0m \u001b[0mlen\u001b[0m\u001b[1;33m(\u001b[0m\u001b[0mpara_element_cleaned\u001b[0m\u001b[1;33m)\u001b[0m \u001b[1;33m>\u001b[0m \u001b[1;36m0\u001b[0m\u001b[1;33m:\u001b[0m\u001b[1;33m\u001b[0m\u001b[1;33m\u001b[0m\u001b[0m\n\u001b[1;32m--> 341\u001b[1;33m             \u001b[1;32mif\u001b[0m \u001b[0mcheck_if_first_word_is_verb\u001b[0m\u001b[1;33m(\u001b[0m\u001b[0mpara_element_cleaned\u001b[0m\u001b[1;33m,\u001b[0m \u001b[0mnlp\u001b[0m\u001b[1;33m)\u001b[0m\u001b[1;33m:\u001b[0m\u001b[1;33m\u001b[0m\u001b[1;33m\u001b[0m\u001b[0m\n\u001b[0m\u001b[0;32m    342\u001b[0m                 \u001b[0moutput\u001b[0m\u001b[1;33m.\u001b[0m\u001b[0mappend\u001b[0m\u001b[1;33m(\u001b[0m\u001b[0mpara_element\u001b[0m\u001b[1;33m)\u001b[0m\u001b[1;33m\u001b[0m\u001b[1;33m\u001b[0m\u001b[0m\n\u001b[0;32m    343\u001b[0m \u001b[1;33m\u001b[0m\u001b[0m\n",
      "\u001b[1;32m~\\PycharmProjects\\ssoc-autocoder\\ssoc_autocoder\\processing.py\u001b[0m in \u001b[0;36mcheck_if_first_word_is_verb\u001b[1;34m(string, nlp)\u001b[0m\n\u001b[0;32m     62\u001b[0m \u001b[1;33m\u001b[0m\u001b[0m\n\u001b[0;32m     63\u001b[0m     \u001b[1;31m# Check if the first word is a verb\u001b[0m\u001b[1;33m\u001b[0m\u001b[1;33m\u001b[0m\u001b[1;33m\u001b[0m\u001b[0m\n\u001b[1;32m---> 64\u001b[1;33m     \u001b[1;32mreturn\u001b[0m \u001b[0mnlp\u001b[0m\u001b[1;33m(\u001b[0m\u001b[0mstring\u001b[0m\u001b[1;33m)\u001b[0m\u001b[1;33m[\u001b[0m\u001b[1;36m0\u001b[0m\u001b[1;33m]\u001b[0m\u001b[1;33m.\u001b[0m\u001b[0mpos_\u001b[0m \u001b[1;33m==\u001b[0m \u001b[1;34m'VERB'\u001b[0m\u001b[1;33m\u001b[0m\u001b[1;33m\u001b[0m\u001b[0m\n\u001b[0m\u001b[0;32m     65\u001b[0m \u001b[1;33m\u001b[0m\u001b[0m\n\u001b[0;32m     66\u001b[0m \u001b[1;33m\u001b[0m\u001b[0m\n",
      "\u001b[1;32mc:\\users\\shaun\\pycharmprojects\\ssoc-autocoder\\venv\\lib\\site-packages\\spacy\\tokens\\doc.pyx\u001b[0m in \u001b[0;36mspacy.tokens.doc.Doc.__getitem__\u001b[1;34m()\u001b[0m\n",
      "\u001b[1;32mc:\\users\\shaun\\pycharmprojects\\ssoc-autocoder\\venv\\lib\\site-packages\\spacy\\tokens\\token.pxd\u001b[0m in \u001b[0;36mspacy.tokens.token.Token.cinit\u001b[1;34m()\u001b[0m\n",
      "\u001b[1;31mIndexError\u001b[0m: [E040] Attempt to access token at 0, max length 0."
     ]
    }
   ],
   "source": [
    "idx = random.randint(0, len(data))\n",
    "print(f'Index: {idx}')\n",
    "print(data['Description'][idx])\n",
    "ssoc_autocoder.processing.process_text(data['Description'][idx])"
   ]
  },
  {
   "cell_type": "code",
   "execution_count": null,
   "id": "19326147-ddf8-4dbe-9dd6-6a8b15f91ff6",
   "metadata": {},
   "outputs": [],
   "source": []
  },
  {
   "cell_type": "code",
   "execution_count": null,
   "id": "d8b24752-85b8-45af-b9e2-077895797e82",
   "metadata": {},
   "outputs": [],
   "source": [
    "def generate_test_cases(data, indices):\n",
    "    "
   ]
  },
  {
   "cell_type": "code",
   "execution_count": null,
   "id": "ef245982-f1e0-4104-b2e2-083f8e9d4fb0",
   "metadata": {},
   "outputs": [],
   "source": []
  },
  {
   "cell_type": "code",
   "execution_count": null,
   "id": "951ac523-f2eb-4d8e-a64d-2e5ea489c9dc",
   "metadata": {},
   "outputs": [],
   "source": [
    "{\n",
    "    \n",
    "}"
   ]
  }
 ],
 "metadata": {
  "kernelspec": {
   "display_name": "Python 3 (ipykernel)",
   "language": "python",
   "name": "python3"
  },
  "language_info": {
   "codemirror_mode": {
    "name": "ipython",
    "version": 3
   },
   "file_extension": ".py",
   "mimetype": "text/x-python",
   "name": "python",
   "nbconvert_exporter": "python",
   "pygments_lexer": "ipython3",
   "version": "3.9.5"
  }
 },
 "nbformat": 4,
 "nbformat_minor": 5
}
