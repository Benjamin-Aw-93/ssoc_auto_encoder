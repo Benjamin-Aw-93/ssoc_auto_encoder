{
 "cells": [
  {
   "cell_type": "code",
   "execution_count": null,
   "id": "d2959c9b-dc61-4b63-9c26-c6b560f8041f",
   "metadata": {},
   "outputs": [],
   "source": [
    "import os\n",
    "os.chdir('..')"
   ]
  },
  {
   "cell_type": "code",
   "execution_count": null,
   "id": "31bc0d6c-8b1b-4b84-9108-c09eace0ead7",
   "metadata": {},
   "outputs": [],
   "source": [
    "import pandas as pd\n",
    "import random\n",
    "import json\n",
    "import ssoc_autocoder"
   ]
  },
  {
   "cell_type": "code",
   "execution_count": null,
   "id": "4c17d52b-e5ab-4720-921b-cb93f8eaa7b5",
   "metadata": {},
   "outputs": [],
   "source": [
    "data = pd.read_csv('Data/Processed/Artifacts/MCF_Subset_WithLabels.csv')"
   ]
  },
  {
   "cell_type": "code",
   "execution_count": null,
   "id": "7e237ce6-1d44-48ea-b86a-8a242935ddd2",
   "metadata": {},
   "outputs": [],
   "source": [
    "data.head(3)"
   ]
  },
  {
   "cell_type": "code",
   "execution_count": null,
   "id": "8c8f543e-a5dc-4898-a730-1cc57ded6c6f",
   "metadata": {},
   "outputs": [],
   "source": [
    "for_testing = {\n",
    "    \n",
    "    # standard stuff \n",
    "    7478: \"To ensure that field service jobs are carried out in accordance with Company SOP. Preferably experience in Alignment and Condition Monitoring Service. To carry out corrective work on rotating equipment such as balancing, alignment and etc. Perform site analysis tasks on machinery or rotating equipment. Ability to solve on-site problem for HVAC system and plant equipment etc. Carry out installation jobs. To generate the service reports timely and accurately.\",\n",
    "    18088: \"Working in a team to assist the Facilities Manager in daily building operations. Scheduling preventative maintenance, pest control, horticulture, security management, etc through our appointed term/ sub-contractors. Investigate, check and analyse reported breakdowns & faults to determine their cause for the prevention of future occurrences. Supervise contractors to carry out maintenance works and to ensure the upkeep of the site in accordance to stipulated requirements. Required to prepare monthly facility reports.\",\n",
    "    15984: \"Responsible for planning and directing food preparation in the kitchen and staff scheduling with Chef De Cuisine. Manage inventory and ensure that inventory remains at a favourable level for restaurant operations. Meet the restaurant's specifications regarding presentation of food but also exceeding the outlined commitment to quality. Supervise all kitchen stations. Ensure that the kitchen's purchasing, ordering, and quality monitoring procedures are complied with and that stock levels and wastage are kept to a minimum. Lead, guide and supervise kitchen staff in food preparation and cooking processes. Ensure that junior kitchen staff and all new employees are trained to carry out their designated duties correctly. Ensure sanitation and nutritional practices are followed by kitchen staff. Ensure, observe and enforce compliance with food safety and hygiene standards. Ensure that the general cleanliness and condition of the kitchen is maintained. Ensure minimum wastage in food preparation. Able to manage cost effectively and resources efficiently to achieve optimal productivity. To minimize accumulate daily wastage. Other tasks as assigned by Supervisor.\",\n",
    "    7491: \"Support the development and execution of integrated value and access strategies across relevant therapeutic areas which align with wider external affairs strategy and supports the achievement of the organization's commercial goals. Building and maintaining a deep understanding of the payer landscape, including barriers and opportunities. Deep understanding of the government's tender process and governance. Collaborating with the business units to develop market access strategy plans, with a particular emphasis on key growth drivers and priority products. Develop a thorough understanding of the policy objectives, health priorities and planned initiatives of government, particularly as they may impact on access for company's current and future products/ Accelerate market access in MOH (government formulary, key teaching institutions, hospitals) for organizations products. To develop wider influencing and communication of policies between Company, MOH and other key national stakeholders. Develop a strong network of government contacts that can positively influence the outcome of the healthcare policy in Singapore (MOH, MTI, EDB, A*Star, SAPI and relevant associations) Define bidding strategy for MOH tenders.\",\n",
    "    \n",
    "    # fix the substitution of non-alpha char into full-stops (esp numbers and hyphens)\n",
    "    # Ben: Fixed\n",
    "    10603: \"To lead the Engineer team to carry out civil and structural engineering jobs in front end engineering design, detail engineering design. To assist discipline Manager in project civil portion manpower. To generate project specifications, design philosophy, calculation template to comply with clients' requirement and local authority's requirements. Civil project team manhour control, schedule control. To prepare foundation, structural or hydraulic calculation sheets, from simple to more complicated items, in accordance to project specifications, criteria and information. Ensuring correct and accurate calculations of loads and member sizes of structures. On average, a Civil Engineer II produces three simple foundation calculation designs a day or 1 structural calculation report a week. To prepare three-dimensional (3D) models and design drawings for structures and foundations as well as shop fabrication drawings. To supply design drawing information and instructions to Designers ensuring technical completeness and clearness of data for effective workflow. Usually prepares anchor bolt list and setting bolt list for client's procurement purposes ensuring at least (+)/(-) 10% safety factor and meeting client requirements. Checks own design outputs and reviews design drawings to ensure accuracy and completeness to design requirements and concepts. May act as Assistant Key Person for small projects or NIDC projects. Coordinates with other Engineers and Designers to facilitate production of civil design and drawing outputs. Performs other functions that may be assigned by the Department Manager.\",\n",
    "    18947: \"Responsible for day-to-day management and administration of various IT systems. Provide day-day level 1 and 2 service desk support and ensure proper resolution in ticketing system. Provide customers with timely, professional and effective IT support (via Onsite, Remote and Phone support) Support and administrate enterprise IT solution in Microsoft (Windows Server OS, Active Directory, Office 365, Azure), Virtualization (Vmware, Hyper-V) and Hyper Converge (Nutanix) Support and administrate enterprise utility solutions, Backup (Veeam, Shadow Protect), Anti-virus (Sophos and Sentinel One) Support various servers, NAS/SAN storage and backup hardware platform (Lenovo, IBM, Dell, HPE) Support various firewall (Fortinet, Sophos) Vendor coordination and management. Create and maintain technical documentation and standard operating procedures. Evaluate and implement new IT systems for new business initiatives.\",\n",
    "    \n",
    "    # return all, replace 'and'\n",
    "    # Ben: Move 21475 as it is a short text\n",
    "    21475: \"Job Responsibilities. To perform physical delivery operations of Crude Oil, . Petroleum Products and Renewable Energy. To analyse Petroleum Trading Exposure and Profit/Loss. To support physical and paper Petroleum trading. To support business development. To make necessary external and internal reporting documents in English and Japanese. Job Requirements: More than 1 year of Petroleum Trading/Operation/Risk. Analysis experience. Able to speak business Japanese fluently to communicate with Japan HQ.\",\n",
    "    20282: \"Overall program / platform lead for Technical Requirements Analysis/Design and or payment system development. Provide technical recommendations and trade-offs which address business needs and timelines. Represent Technology Strategy & Architecture in programs/initiatives. Ability to collaborate with business and technical resources to understand and develop solutions that meet business requirements, translating strategy and objectives when necessary. 10+ years transaction banking payment systems experience. Should have program / platform lead experience in payments domain-mandatory. Should have Transformation program experience - mandatory. ISO20022 implementation experience mandatory. GOOD to HAVE. Strong, proactive leadership capabilities. Excellent written (technical) and verbal communication. Knowledge of industry best practices in terms of architectural methodologies and standards. Exceptional time management and multi-tasking skill. Technical / Professional Skills. Good understanding and Financial services experience in Commercial Banking with exposure to Payments processing and technologies across the payment lifecycle, initiation thru execution. Experience working with external Vendors & outsourced projects. Ability to effectively communicate, interact, and influence Senior Technology, Business & Operational partners. Experience in of Software Development Life Cycle (SDLC) are necessary. GOOD to HAVE. Work effectively within a fast-paced, cohesive Architecture team and willing to learn fast and adapt quickly to change. Ability to stimulate and participate in creative thinking for out-of-the-box solutions. Non-Technical / Soft Skills. Excellent Communication skills & a team player. Proven ability to work with people from different cultures. A high level of intelligence ability to operate not only on the basis of important past experiences, but in the light of the approaches and developments that occur in the market. Natural problem solving inclination. High level presentation and interpersonal skills. Experience decomposing complex problems into component parts for effective problem solving.\",\n",
    "    \n",
    "    # return all\n",
    "    11609: \"Full stack web and/or mobile application development. Design and develop back-end services. Software bugs troubleshooting. Coding documentation. Other related duties as assigned. Required Skills Sets. Degree in Computer Science, Computer Engineering, Information Systems Management, Information Technology or related disciplines. At least 2 years of experience or more in full stack development. Experience working in a agile environment. Experience in Java, C#, Python or Go languages. Experience in front-end application web development. Knowledge in Node.Js/Ruby on Rails an added advantage. Experience with building and consuming APIs. We regret that only short-listed applicants will be contacted for a discussion.\",\n",
    "    \n",
    "    # outright error\n",
    "    19299: \"Implement the program for the class in accordance with the policies, guidelines, framework and philosophy of the centre. Keep accurate records of children's progress and address each child's educational and developmental needs on an individual basis to the best of your ability. Complete progress reports on children for each semester and prepare a developmental portfolio for each child. Responsible for the preparation and upkeep of age-appropriate teaching resources, arrangement, appearance and learning environment of the classroom. Maintain and build relationships with children and parents. Conduct MindChamps unique enrichment programmes. Being an inspiring role model with a creative spirit and a champion (positive) mindset. To teach the following programme, Music for the mind, NeuroMooves programme, Creativity & Theatrical Strategies, Gourmet moment. Educated to diploma/degree level in performance arts. Experienced in working with young children. Looking for part-time or full-time positions. Passionate, Dynamic, able to work autonomously and as part of a team. Looking to make a difference in the lives of young children.\" \n",
    "    \n",
    "}"
   ]
  },
  {
   "cell_type": "code",
   "execution_count": null,
   "id": "a683d54a-7ef5-4e52-b9cb-4022dfdaebaa",
   "metadata": {},
   "outputs": [],
   "source": [
    "output = []\n",
    "for key, value in for_testing.items():\n",
    "    test_case = {\n",
    "        'input': data['Description'][key],\n",
    "        'output': value\n",
    "    }\n",
    "    output.append(test_case)"
   ]
  },
  {
   "cell_type": "code",
   "execution_count": null,
   "id": "df69254f-b58b-4cad-82bd-607ed5999dcd",
   "metadata": {},
   "outputs": [],
   "source": [
    "with open('test_ssoc_autocoder/integration_test_cases.json', 'w') as outfile:\n",
    "    json.dump(output, outfile)"
   ]
  },
  {
   "cell_type": "code",
   "execution_count": null,
   "id": "df15e54c-450e-407b-9631-fa4f320d7c27",
   "metadata": {},
   "outputs": [],
   "source": []
  },
  {
   "cell_type": "code",
   "execution_count": null,
   "id": "3e192cb0-fad7-49a1-ab8a-e2822b0b8395",
   "metadata": {},
   "outputs": [],
   "source": [
    "# 421 is a hard case of letter numbering"
   ]
  },
  {
   "cell_type": "code",
   "execution_count": null,
   "id": "1631bec1-571f-4117-93e9-84495cf7c807",
   "metadata": {},
   "outputs": [],
   "source": [
    "ssoc_autocoder.processing.final_cleaning(data['Description'][idx])"
   ]
  },
  {
   "cell_type": "code",
   "execution_count": null,
   "id": "5e5dea16-9dc3-4875-bac1-01fca1a8450d",
   "metadata": {},
   "outputs": [],
   "source": [
    "idx = random.randint(0, len(data))\n",
    "print(f'Index: {idx}')\n",
    "print(data['Description'][idx])\n",
    "ssoc_autocoder.processing.process_text(data['Description'][idx])"
   ]
  },
  {
   "cell_type": "code",
   "execution_count": null,
   "id": "19326147-ddf8-4dbe-9dd6-6a8b15f91ff6",
   "metadata": {},
   "outputs": [],
   "source": []
  },
  {
   "cell_type": "code",
   "execution_count": null,
   "id": "d8b24752-85b8-45af-b9e2-077895797e82",
   "metadata": {},
   "outputs": [],
   "source": [
    "def generate_test_cases(data, indices):\n",
    "    "
   ]
  },
  {
   "cell_type": "code",
   "execution_count": null,
   "id": "ef245982-f1e0-4104-b2e2-083f8e9d4fb0",
   "metadata": {},
   "outputs": [],
   "source": []
  },
  {
   "cell_type": "code",
   "execution_count": null,
   "id": "951ac523-f2eb-4d8e-a64d-2e5ea489c9dc",
   "metadata": {},
   "outputs": [],
   "source": [
    "{\n",
    "    \n",
    "}"
   ]
  }
 ],
 "metadata": {
  "kernelspec": {
   "display_name": "Python 3",
   "language": "python",
   "name": "python3"
  },
  "language_info": {
   "codemirror_mode": {
    "name": "ipython",
    "version": 3
   },
   "file_extension": ".py",
   "mimetype": "text/x-python",
   "name": "python",
   "nbconvert_exporter": "python",
   "pygments_lexer": "ipython3",
   "version": "3.9.0"
  }
 },
 "nbformat": 4,
 "nbformat_minor": 5
}
