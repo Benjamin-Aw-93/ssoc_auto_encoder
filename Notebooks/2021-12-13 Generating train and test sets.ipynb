{
 "cells": [
  {
   "cell_type": "markdown",
   "id": "28ded40b",
   "metadata": {},
   "source": [
    "## Generating train and test sets\n",
    "\n",
    "**Author:** Benjamin Aw  \n",
    "**Date:** 13 Dec 2021  \n",
    "**Context:** Extracted data needs to be clean and split up for training and testing purposes.  \n",
    "**Objective:** To apply previously generated functions to clean up the data, generate augmented data and finally to split them for training and testing purposes"
   ]
  },
  {
   "cell_type": "markdown",
   "id": "dad0db6f",
   "metadata": {},
   "source": [
    "#### A) Setting up\n",
    "\n",
    "Importing the libraries and obtaing the file path for the datasets required"
   ]
  },
  {
   "cell_type": "code",
   "execution_count": 1,
   "id": "e62e3dab",
   "metadata": {},
   "outputs": [
    {
     "name": "stderr",
     "output_type": "stream",
     "text": [
      "C:\\Users\\benjamin\\Desktop\\my_enviro\\lib\\site-packages\\torchaudio\\backend\\utils.py:67: UserWarning: No audio backend is available.\n",
      "  warnings.warn('No audio backend is available.')\n",
      "[nltk_data] Downloading package averaged_perceptron_tagger to\n",
      "[nltk_data]     C:\\Users\\benjamin\\AppData\\Roaming\\nltk_data...\n",
      "[nltk_data]   Package averaged_perceptron_tagger is already up-to-\n",
      "[nltk_data]       date!\n"
     ]
    }
   ],
   "source": [
    "import pandas as pd\n",
    "from ssoc_autocoder.processing import process_text\n",
    "from ssoc_autocoder.augmentation import data_augmentation\n",
    "from tqdm.auto import tqdm\n",
    "import math\n",
    "from itertools import chain\n",
    "from sklearn.model_selection import GroupShuffleSplit\n",
    "\n",
    "path = \"../Data/\"\n",
    "\n",
    "tqdm.pandas()"
   ]
  },
  {
   "cell_type": "markdown",
   "id": "590e5730",
   "metadata": {},
   "source": [
    "#### B) Functions\n",
    "\n",
    "We have to create 3 functions: \n",
    "\n",
    "1. To clean up the original data, `cleaning_data`\n",
    "2. To create augmented data, `augmenting_data`\n",
    "3. To create the train test split, `splitting_data`"
   ]
  },
  {
   "cell_type": "code",
   "execution_count": 2,
   "id": "5671942a",
   "metadata": {},
   "outputs": [],
   "source": [
    "def cleaning_up_dataset(path):\n",
    "    \n",
    "    # Reading in the data\n",
    "    df = pd.read_csv(path + \"Raw/Raw_Labelled.csv\")\n",
    "    \n",
    "    # Filtering out the necessary columns used, keeping Ad_ID as primary identifier\n",
    "    df = df[[\"MCF_Job_Ad_ID\", \"Predicted_SSOC_2020\", \"title\", \"description\"]]\n",
    "    \n",
    "    # Applying cleaning function across the description column\n",
    "    df[\"description\"] = df[\"description\"].apply(process_text)\n",
    "    \n",
    "    return df"
   ]
  },
  {
   "cell_type": "code",
   "execution_count": 3,
   "id": "8a2726cc",
   "metadata": {},
   "outputs": [],
   "source": [
    "def augmenting_data(df, prob, edit_phrase):\n",
    "    \n",
    "    # Applying cleaning function across the description column\n",
    "    df[\"description_augmented\"] = df[\"description\"].progress_apply(data_augmentation, args = (prob, edit_phrase))\n",
    "    \n",
    "    # Renaming description column\n",
    "    df = df.rename(columns={'description':'description_originial'})\n",
    "    \n",
    "    # Appending to the original dataset\n",
    "    df = pd.concat([df, df['description_augmented'].apply(pd.Series)], axis=1)\n",
    "    \n",
    "    # Dropping used or repeated columns\n",
    "    df = df.drop(columns=\"description_augmented\")\n",
    "    df = df.drop(columns=\"orginal_text\")\n",
    "    \n",
    "    return df"
   ]
  },
  {
   "cell_type": "code",
   "execution_count": 4,
   "id": "4a94ec55",
   "metadata": {},
   "outputs": [],
   "source": [
    "def supplementing_data(df, data_detailed_def):\n",
    "    \n",
    "    # Getting the relevant columns\n",
    "    data_detailed_def = data_detailed_def[[\"SSOC 2020\", \"SSOC 2020 Title\", \"Detailed Definitions\"]]\n",
    "    \n",
    "    # Filtering entries with only 5D ssoc and entries that start with X\n",
    "    data_detailed_def = data_detailed_def[data_detailed_def[\"SSOC 2020\"].apply(lambda x: len(x) > 4)]\n",
    "    data_detailed_def = data_detailed_def[data_detailed_def[\"SSOC 2020\"].apply(lambda x: x[0] != 'X')]\n",
    "    \n",
    "    # Changing column names for merging purposes\n",
    "    data_detailed_def = data_detailed_def.rename(columns={\"SSOC 2020\": \"Predicted_SSOC_2020\", \n",
    "                                                          \"SSOC 2020 Title\": \"title\", \n",
    "                                                          \"Detailed Definitions\": \"description\"}, \n",
    "                                                 errors=\"raise\")\n",
    "    \n",
    "    # Creating an additional column of ID, default to None for now\n",
    "    data_detailed_def[\"MCF_Job_Ad_ID\"] = None\n",
    "    \n",
    "    # Concat the two datasets together\n",
    "    output = df.append(data_detailed_def)\n",
    "    \n",
    "    output = output.sort_values(by=['Predicted_SSOC_2020', 'title'])\n",
    "    \n",
    "    output = output.reset_index(drop=True)\n",
    "    \n",
    "    return output"
   ]
  },
  {
   "cell_type": "code",
   "execution_count": 5,
   "id": "a1d0a63a",
   "metadata": {},
   "outputs": [],
   "source": [
    "def train_test_split(df, train_set_size):\n",
    "    \n",
    "    # Create a dictionary based on the number of occurrence   \n",
    "    counter = df.groupby('Predicted_SSOC_2020').count().to_dict(orient='dict')['title']\n",
    "    counter_once = { key:value for (key,value) in counter.items() if value == 1}\n",
    "    counter_multiple = { key:value for (key,value) in counter.items() if value > 1}\n",
    "    \n",
    "    # Subset out multiple \n",
    "    df_multiple = df[df[\"Predicted_SSOC_2020\"].apply(lambda x: x in counter_multiple.keys())]\n",
    "    \n",
    "    train_inds, test_inds = next(GroupShuffleSplit(test_size= (1 - train_set_size), n_splits=2, random_state = 7).split(df_multiple, groups = df_multiple['Predicted_SSOC_2020']))\n",
    "    \n",
    "    df_multiple_train = df_multiple.iloc[train_inds]\n",
    "    \n",
    "    df_multiple_test = df_multiple.iloc[test_inds]\n",
    "    \n",
    "    # Subset out once\n",
    "    df_once = df[df[\"Predicted_SSOC_2020\"].apply(lambda x: x in counter_once.keys())]\n",
    "    \n",
    "    # Append once with train\n",
    "    df_train = df_multiple_train.append(df_multiple_train)\n",
    "    \n",
    "    # Pivot longer df_train\n",
    "    df_train = pd.melt(df_train, \n",
    "                       id_vars= [\"MCF_Job_Ad_ID\", \n",
    "                                 \"Predicted_SSOC_2020\", \n",
    "                                 \"title\"], \n",
    "                       value_vars=[\"description_originial\", \n",
    "                                   \"wrd_emb_out\", \n",
    "                                   \"bk_trans_out\", \n",
    "                                   \"synonym_out\", \n",
    "                                   \"context_emb_out\", \n",
    "                                   \"sent_out\", \n",
    "                                   \"summ_out\"],\n",
    "                       var_name='Augment', \n",
    "                       value_name='job_description')\n",
    "    \n",
    "    # Pivot longer for df_test, we are only interested in testing on the orginal dataset\n",
    "    df_test = pd.melt(df_multiple_test, \n",
    "                       id_vars= [\"MCF_Job_Ad_ID\", \n",
    "                                 \"Predicted_SSOC_2020\", \n",
    "                                 \"title\"], \n",
    "                       value_vars=[\"description_originial\", \n",
    "                                   \"wrd_emb_out\", \n",
    "                                   \"bk_trans_out\", \n",
    "                                   \"synonym_out\", \n",
    "                                   \"context_emb_out\", \n",
    "                                   \"sent_out\", \n",
    "                                   \"summ_out\"],\n",
    "                       var_name='Augment', \n",
    "                       value_name='job_description')\n",
    "    \n",
    "    df_test = df_test[df_test[\"Augment\"] == \"description_originial\"]\n",
    "    \n",
    "    return df_train, df_test "
   ]
  },
  {
   "cell_type": "markdown",
   "id": "a74d84aa",
   "metadata": {},
   "source": [
    "#### C) Running functions\n"
   ]
  },
  {
   "cell_type": "markdown",
   "id": "368f90ad",
   "metadata": {},
   "source": [
    "Reading in the raw csv file and subsequently cleaning up the dataset, while extacting only the necessary columns. The input of the function only requires the path of the csv file for `Raw_Labelled.csv`"
   ]
  },
  {
   "cell_type": "code",
   "execution_count": null,
   "id": "7e905b2c",
   "metadata": {
    "scrolled": true
   },
   "outputs": [],
   "source": [
    "df = cleaning_up_dataset(path)\n",
    "\n",
    "df.to_csv(path + \"Processed/Processed_Labelled.csv\", index = False)"
   ]
  },
  {
   "cell_type": "markdown",
   "id": "a2365ec4",
   "metadata": {},
   "source": [
    "Once the dataset is extracted, we need to supplement information of SSOCS that are not present in the current dataset. This is done by merging the dataset with `SSOC2020 Detailed Definitions.xlsx`"
   ]
  },
  {
   "cell_type": "code",
   "execution_count": 12,
   "id": "afc7ee05",
   "metadata": {},
   "outputs": [],
   "source": [
    "# Chunk to read in output from above cell, only do this if you have run the above function before\n",
    "\n",
    "df = pd.read_csv(path + \"Processed/Processed_Labelled.csv\")"
   ]
  },
  {
   "cell_type": "code",
   "execution_count": 13,
   "id": "e1fcc2fb",
   "metadata": {
    "scrolled": false
   },
   "outputs": [
    {
     "name": "stderr",
     "output_type": "stream",
     "text": [
      "C:\\Users\\benjamin\\Desktop\\my_enviro\\lib\\site-packages\\openpyxl\\worksheet\\header_footer.py:48: UserWarning: Cannot parse header or footer so it will be ignored\n",
      "  warn(\"\"\"Cannot parse header or footer so it will be ignored\"\"\")\n"
     ]
    }
   ],
   "source": [
    "data_detailed_def = pd.read_excel(path + \"Reference/SSOC2020 Detailed Definitions.xlsx\", header = 4)\n",
    "\n",
    "df = supplementing_data(df, data_detailed_def)\n",
    "\n",
    "df.to_csv(path + \"Reference/Intermediate_Dataset.csv\", index = False)"
   ]
  },
  {
   "cell_type": "markdown",
   "id": "3d334a84",
   "metadata": {},
   "source": [
    "Because augmenting all 15k entries will take a while, we take a sample of the dataset to augment to test for now. We have to find a better way to run the augmentation, since it will take about 9-10 days to run locally on my own PC."
   ]
  },
  {
   "cell_type": "code",
   "execution_count": 14,
   "id": "bb4c2194",
   "metadata": {},
   "outputs": [],
   "source": [
    "df = df.sample(n = 200)"
   ]
  },
  {
   "cell_type": "markdown",
   "id": "5d0468ca",
   "metadata": {},
   "source": [
    "Augmenting the current dataset, where each row represnts a job description, and the additional columns added represents the augmented data"
   ]
  },
  {
   "cell_type": "code",
   "execution_count": 15,
   "id": "cae49f17",
   "metadata": {
    "scrolled": true
   },
   "outputs": [
    {
     "data": {
      "application/vnd.jupyter.widget-view+json": {
       "model_id": "8c7cbd9a1183442398656eaca95bd050",
       "version_major": 2,
       "version_minor": 0
      },
      "text/plain": [
       "  0%|          | 0/200 [00:00<?, ?it/s]"
      ]
     },
     "metadata": {},
     "output_type": "display_data"
    },
    {
     "name": "stderr",
     "output_type": "stream",
     "text": [
      "C:\\Users\\benjamin\\Desktop\\my_enviro\\lib\\site-packages\\torch\\_tensor.py:575: UserWarning: floor_divide is deprecated, and will be removed in a future version of pytorch. It currently rounds toward 0 (like the 'trunc' function NOT 'floor'). This results in incorrect rounding for negative values.\n",
      "To keep the current behavior, use torch.div(a, b, rounding_mode='trunc'), or for actual floor division, use torch.div(a, b, rounding_mode='floor'). (Triggered internally at  ..\\aten\\src\\ATen\\native\\BinaryOps.cpp:467.)\n",
      "  return torch.floor_divide(self, other)\n",
      "Input length of input_ids is 236, but ``max_length`` is set to 236.This can lead to unexpected behavior. You should consider increasing ``config.max_length`` or ``max_length``.\n",
      "Input length of input_ids is 139, but ``max_length`` is set to 115.This can lead to unexpected behavior. You should consider increasing ``config.max_length`` or ``max_length``.\n",
      "Input length of input_ids is 241, but ``max_length`` is set to 195.This can lead to unexpected behavior. You should consider increasing ``config.max_length`` or ``max_length``.\n",
      "Input length of input_ids is 13, but ``max_length`` is set to 13.This can lead to unexpected behavior. You should consider increasing ``config.max_length`` or ``max_length``.\n",
      "Your min_length is set to 50, but you input_length is only 17. You might consider decreasing min_length manually, e.g. summarizer('...', min_length=10)\n",
      "Your max_length is set to 50, but you input_length is only 17. You might consider decreasing max_length manually, e.g. summarizer('...', max_length=50)\n",
      "Input length of input_ids is 283, but ``max_length`` is set to 256.This can lead to unexpected behavior. You should consider increasing ``config.max_length`` or ``max_length``.\n",
      "Input length of input_ids is 114, but ``max_length`` is set to 97.This can lead to unexpected behavior. You should consider increasing ``config.max_length`` or ``max_length``.\n",
      "Input length of input_ids is 94, but ``max_length`` is set to 93.This can lead to unexpected behavior. You should consider increasing ``config.max_length`` or ``max_length``.\n",
      "Input length of input_ids is 93, but ``max_length`` is set to 75.This can lead to unexpected behavior. You should consider increasing ``config.max_length`` or ``max_length``.\n",
      "Input length of input_ids is 174, but ``max_length`` is set to 171.This can lead to unexpected behavior. You should consider increasing ``config.max_length`` or ``max_length``.\n",
      "Input length of input_ids is 165, but ``max_length`` is set to 155.This can lead to unexpected behavior. You should consider increasing ``config.max_length`` or ``max_length``.\n",
      "Input length of input_ids is 109, but ``max_length`` is set to 107.This can lead to unexpected behavior. You should consider increasing ``config.max_length`` or ``max_length``.\n",
      "Input length of input_ids is 104, but ``max_length`` is set to 102.This can lead to unexpected behavior. You should consider increasing ``config.max_length`` or ``max_length``.\n",
      "Input length of input_ids is 210, but ``max_length`` is set to 177.This can lead to unexpected behavior. You should consider increasing ``config.max_length`` or ``max_length``.\n",
      "Input length of input_ids is 87, but ``max_length`` is set to 73.This can lead to unexpected behavior. You should consider increasing ``config.max_length`` or ``max_length``.\n",
      "Input length of input_ids is 126, but ``max_length`` is set to 122.This can lead to unexpected behavior. You should consider increasing ``config.max_length`` or ``max_length``.\n",
      "Input length of input_ids is 154, but ``max_length`` is set to 146.This can lead to unexpected behavior. You should consider increasing ``config.max_length`` or ``max_length``.\n",
      "Input length of input_ids is 74, but ``max_length`` is set to 61.This can lead to unexpected behavior. You should consider increasing ``config.max_length`` or ``max_length``.\n",
      "Input length of input_ids is 300, but ``max_length`` is set to 267.This can lead to unexpected behavior. You should consider increasing ``config.max_length`` or ``max_length``.\n",
      "Input length of input_ids is 217, but ``max_length`` is set to 183.This can lead to unexpected behavior. You should consider increasing ``config.max_length`` or ``max_length``.\n",
      "Input length of input_ids is 94, but ``max_length`` is set to 90.This can lead to unexpected behavior. You should consider increasing ``config.max_length`` or ``max_length``.\n",
      "Input length of input_ids is 133, but ``max_length`` is set to 122.This can lead to unexpected behavior. You should consider increasing ``config.max_length`` or ``max_length``.\n",
      "Input length of input_ids is 55, but ``max_length`` is set to 45.This can lead to unexpected behavior. You should consider increasing ``config.max_length`` or ``max_length``.\n",
      "Input length of input_ids is 143, but ``max_length`` is set to 115.This can lead to unexpected behavior. You should consider increasing ``config.max_length`` or ``max_length``.\n",
      "Input length of input_ids is 121, but ``max_length`` is set to 101.This can lead to unexpected behavior. You should consider increasing ``config.max_length`` or ``max_length``.\n",
      "Input length of input_ids is 155, but ``max_length`` is set to 152.This can lead to unexpected behavior. You should consider increasing ``config.max_length`` or ``max_length``.\n",
      "Input length of input_ids is 221, but ``max_length`` is set to 220.This can lead to unexpected behavior. You should consider increasing ``config.max_length`` or ``max_length``.\n",
      "Input length of input_ids is 113, but ``max_length`` is set to 103.This can lead to unexpected behavior. You should consider increasing ``config.max_length`` or ``max_length``.\n",
      "Input length of input_ids is 115, but ``max_length`` is set to 105.This can lead to unexpected behavior. You should consider increasing ``config.max_length`` or ``max_length``.\n",
      "Input length of input_ids is 185, but ``max_length`` is set to 178.This can lead to unexpected behavior. You should consider increasing ``config.max_length`` or ``max_length``.\n",
      "Input length of input_ids is 429, but ``max_length`` is set to 366.This can lead to unexpected behavior. You should consider increasing ``config.max_length`` or ``max_length``.\n",
      "Input length of input_ids is 74, but ``max_length`` is set to 65.This can lead to unexpected behavior. You should consider increasing ``config.max_length`` or ``max_length``.\n",
      "Input length of input_ids is 188, but ``max_length`` is set to 177.This can lead to unexpected behavior. You should consider increasing ``config.max_length`` or ``max_length``.\n",
      "Input length of input_ids is 109, but ``max_length`` is set to 85.This can lead to unexpected behavior. You should consider increasing ``config.max_length`` or ``max_length``.\n",
      "Input length of input_ids is 273, but ``max_length`` is set to 268.This can lead to unexpected behavior. You should consider increasing ``config.max_length`` or ``max_length``.\n",
      "Input length of input_ids is 104, but ``max_length`` is set to 103.This can lead to unexpected behavior. You should consider increasing ``config.max_length`` or ``max_length``.\n",
      "Input length of input_ids is 78, but ``max_length`` is set to 76.This can lead to unexpected behavior. You should consider increasing ``config.max_length`` or ``max_length``.\n",
      "Input length of input_ids is 136, but ``max_length`` is set to 115.This can lead to unexpected behavior. You should consider increasing ``config.max_length`` or ``max_length``.\n",
      "Input length of input_ids is 115, but ``max_length`` is set to 115.This can lead to unexpected behavior. You should consider increasing ``config.max_length`` or ``max_length``.\n",
      "Input length of input_ids is 100, but ``max_length`` is set to 100.This can lead to unexpected behavior. You should consider increasing ``config.max_length`` or ``max_length``.\n",
      "Input length of input_ids is 82, but ``max_length`` is set to 82.This can lead to unexpected behavior. You should consider increasing ``config.max_length`` or ``max_length``.\n",
      "Input length of input_ids is 230, but ``max_length`` is set to 212.This can lead to unexpected behavior. You should consider increasing ``config.max_length`` or ``max_length``.\n",
      "Input length of input_ids is 71, but ``max_length`` is set to 65.This can lead to unexpected behavior. You should consider increasing ``config.max_length`` or ``max_length``.\n"
     ]
    },
    {
     "name": "stderr",
     "output_type": "stream",
     "text": [
      "Input length of input_ids is 93, but ``max_length`` is set to 75.This can lead to unexpected behavior. You should consider increasing ``config.max_length`` or ``max_length``.\n",
      "Input length of input_ids is 109, but ``max_length`` is set to 102.This can lead to unexpected behavior. You should consider increasing ``config.max_length`` or ``max_length``.\n",
      "Input length of input_ids is 90, but ``max_length`` is set to 83.This can lead to unexpected behavior. You should consider increasing ``config.max_length`` or ``max_length``.\n",
      "Input length of input_ids is 173, but ``max_length`` is set to 173.This can lead to unexpected behavior. You should consider increasing ``config.max_length`` or ``max_length``.\n",
      "Input length of input_ids is 49, but ``max_length`` is set to 46.This can lead to unexpected behavior. You should consider increasing ``config.max_length`` or ``max_length``.\n",
      "Input length of input_ids is 51, but ``max_length`` is set to 48.This can lead to unexpected behavior. You should consider increasing ``config.max_length`` or ``max_length``.\n",
      "Input length of input_ids is 264, but ``max_length`` is set to 226.This can lead to unexpected behavior. You should consider increasing ``config.max_length`` or ``max_length``.\n",
      "Input length of input_ids is 95, but ``max_length`` is set to 86.This can lead to unexpected behavior. You should consider increasing ``config.max_length`` or ``max_length``.\n",
      "Input length of input_ids is 68, but ``max_length`` is set to 67.This can lead to unexpected behavior. You should consider increasing ``config.max_length`` or ``max_length``.\n",
      "Input length of input_ids is 300, but ``max_length`` is set to 267.This can lead to unexpected behavior. You should consider increasing ``config.max_length`` or ``max_length``.\n",
      "Input length of input_ids is 202, but ``max_length`` is set to 171.This can lead to unexpected behavior. You should consider increasing ``config.max_length`` or ``max_length``.\n",
      "Input length of input_ids is 319, but ``max_length`` is set to 292.This can lead to unexpected behavior. You should consider increasing ``config.max_length`` or ``max_length``.\n",
      "Input length of input_ids is 43, but ``max_length`` is set to 41.This can lead to unexpected behavior. You should consider increasing ``config.max_length`` or ``max_length``.\n",
      "Input length of input_ids is 59, but ``max_length`` is set to 57.This can lead to unexpected behavior. You should consider increasing ``config.max_length`` or ``max_length``.\n",
      "Input length of input_ids is 292, but ``max_length`` is set to 266.This can lead to unexpected behavior. You should consider increasing ``config.max_length`` or ``max_length``.\n",
      "Input length of input_ids is 115, but ``max_length`` is set to 112.This can lead to unexpected behavior. You should consider increasing ``config.max_length`` or ``max_length``.\n",
      "Token indices sequence length is longer than the specified maximum sequence length for this model (526 > 512). Running this sequence through the model will result in indexing errors\n",
      "Input length of input_ids is 110, but ``max_length`` is set to 108.This can lead to unexpected behavior. You should consider increasing ``config.max_length`` or ``max_length``.\n",
      "Input length of input_ids is 238, but ``max_length`` is set to 213.This can lead to unexpected behavior. You should consider increasing ``config.max_length`` or ``max_length``.\n",
      "Input length of input_ids is 105, but ``max_length`` is set to 102.This can lead to unexpected behavior. You should consider increasing ``config.max_length`` or ``max_length``.\n",
      "Input length of input_ids is 34, but ``max_length`` is set to 26.This can lead to unexpected behavior. You should consider increasing ``config.max_length`` or ``max_length``.\n",
      "Your max_length is set to 50, but you input_length is only 36. You might consider decreasing max_length manually, e.g. summarizer('...', max_length=50)\n",
      "Input length of input_ids is 127, but ``max_length`` is set to 113.This can lead to unexpected behavior. You should consider increasing ``config.max_length`` or ``max_length``.\n",
      "Input length of input_ids is 344, but ``max_length`` is set to 312.This can lead to unexpected behavior. You should consider increasing ``config.max_length`` or ``max_length``.\n",
      "Input length of input_ids is 397, but ``max_length`` is set to 391.This can lead to unexpected behavior. You should consider increasing ``config.max_length`` or ``max_length``.\n",
      "Input length of input_ids is 84, but ``max_length`` is set to 80.This can lead to unexpected behavior. You should consider increasing ``config.max_length`` or ``max_length``.\n",
      "Input length of input_ids is 64, but ``max_length`` is set to 63.This can lead to unexpected behavior. You should consider increasing ``config.max_length`` or ``max_length``.\n",
      "Input length of input_ids is 71, but ``max_length`` is set to 70.This can lead to unexpected behavior. You should consider increasing ``config.max_length`` or ``max_length``.\n",
      "Input length of input_ids is 226, but ``max_length`` is set to 220.This can lead to unexpected behavior. You should consider increasing ``config.max_length`` or ``max_length``.\n",
      "Input length of input_ids is 115, but ``max_length`` is set to 112.This can lead to unexpected behavior. You should consider increasing ``config.max_length`` or ``max_length``.\n",
      "Input length of input_ids is 106, but ``max_length`` is set to 101.This can lead to unexpected behavior. You should consider increasing ``config.max_length`` or ``max_length``.\n",
      "Input length of input_ids is 113, but ``max_length`` is set to 103.This can lead to unexpected behavior. You should consider increasing ``config.max_length`` or ``max_length``.\n",
      "Input length of input_ids is 87, but ``max_length`` is set to 77.This can lead to unexpected behavior. You should consider increasing ``config.max_length`` or ``max_length``.\n",
      "Input length of input_ids is 125, but ``max_length`` is set to 112.This can lead to unexpected behavior. You should consider increasing ``config.max_length`` or ``max_length``.\n",
      "Input length of input_ids is 53, but ``max_length`` is set to 50.This can lead to unexpected behavior. You should consider increasing ``config.max_length`` or ``max_length``.\n",
      "Input length of input_ids is 83, but ``max_length`` is set to 80.This can lead to unexpected behavior. You should consider increasing ``config.max_length`` or ``max_length``.\n",
      "Input length of input_ids is 112, but ``max_length`` is set to 110.This can lead to unexpected behavior. You should consider increasing ``config.max_length`` or ``max_length``.\n",
      "Input length of input_ids is 26, but ``max_length`` is set to 16.This can lead to unexpected behavior. You should consider increasing ``config.max_length`` or ``max_length``.\n",
      "Your max_length is set to 50, but you input_length is only 31. You might consider decreasing max_length manually, e.g. summarizer('...', max_length=50)\n",
      "Input length of input_ids is 119, but ``max_length`` is set to 102.This can lead to unexpected behavior. You should consider increasing ``config.max_length`` or ``max_length``.\n",
      "Input length of input_ids is 128, but ``max_length`` is set to 120.This can lead to unexpected behavior. You should consider increasing ``config.max_length`` or ``max_length``.\n",
      "Input length of input_ids is 113, but ``max_length`` is set to 100.This can lead to unexpected behavior. You should consider increasing ``config.max_length`` or ``max_length``.\n",
      "Input length of input_ids is 116, but ``max_length`` is set to 106.This can lead to unexpected behavior. You should consider increasing ``config.max_length`` or ``max_length``.\n",
      "Input length of input_ids is 123, but ``max_length`` is set to 123.This can lead to unexpected behavior. You should consider increasing ``config.max_length`` or ``max_length``.\n",
      "Input length of input_ids is 114, but ``max_length`` is set to 102.This can lead to unexpected behavior. You should consider increasing ``config.max_length`` or ``max_length``.\n",
      "Input length of input_ids is 99, but ``max_length`` is set to 86.This can lead to unexpected behavior. You should consider increasing ``config.max_length`` or ``max_length``.\n",
      "Input length of input_ids is 206, but ``max_length`` is set to 171.This can lead to unexpected behavior. You should consider increasing ``config.max_length`` or ``max_length``.\n"
     ]
    },
    {
     "name": "stderr",
     "output_type": "stream",
     "text": [
      "Input length of input_ids is 91, but ``max_length`` is set to 71.This can lead to unexpected behavior. You should consider increasing ``config.max_length`` or ``max_length``.\n",
      "Input length of input_ids is 89, but ``max_length`` is set to 86.This can lead to unexpected behavior. You should consider increasing ``config.max_length`` or ``max_length``.\n",
      "Input length of input_ids is 264, but ``max_length`` is set to 205.This can lead to unexpected behavior. You should consider increasing ``config.max_length`` or ``max_length``.\n",
      "Input length of input_ids is 150, but ``max_length`` is set to 142.This can lead to unexpected behavior. You should consider increasing ``config.max_length`` or ``max_length``.\n",
      "Input length of input_ids is 146, but ``max_length`` is set to 142.This can lead to unexpected behavior. You should consider increasing ``config.max_length`` or ``max_length``.\n",
      "Input length of input_ids is 70, but ``max_length`` is set to 62.This can lead to unexpected behavior. You should consider increasing ``config.max_length`` or ``max_length``.\n",
      "Input length of input_ids is 102, but ``max_length`` is set to 97.This can lead to unexpected behavior. You should consider increasing ``config.max_length`` or ``max_length``.\n",
      "Input length of input_ids is 140, but ``max_length`` is set to 115.This can lead to unexpected behavior. You should consider increasing ``config.max_length`` or ``max_length``.\n",
      "Input length of input_ids is 251, but ``max_length`` is set to 230.This can lead to unexpected behavior. You should consider increasing ``config.max_length`` or ``max_length``.\n",
      "Input length of input_ids is 935, but ``max_length`` is set to 466.This can lead to unexpected behavior. You should consider increasing ``config.max_length`` or ``max_length``.\n",
      "Input length of input_ids is 433, but ``max_length`` is set to 410.This can lead to unexpected behavior. You should consider increasing ``config.max_length`` or ``max_length``.\n",
      "Input length of input_ids is 127, but ``max_length`` is set to 120.This can lead to unexpected behavior. You should consider increasing ``config.max_length`` or ``max_length``.\n",
      "Input length of input_ids is 223, but ``max_length`` is set to 187.This can lead to unexpected behavior. You should consider increasing ``config.max_length`` or ``max_length``.\n",
      "Input length of input_ids is 102, but ``max_length`` is set to 101.This can lead to unexpected behavior. You should consider increasing ``config.max_length`` or ``max_length``.\n",
      "Input length of input_ids is 102, but ``max_length`` is set to 102.This can lead to unexpected behavior. You should consider increasing ``config.max_length`` or ``max_length``.\n",
      "Input length of input_ids is 204, but ``max_length`` is set to 167.This can lead to unexpected behavior. You should consider increasing ``config.max_length`` or ``max_length``.\n",
      "Input length of input_ids is 326, but ``max_length`` is set to 313.This can lead to unexpected behavior. You should consider increasing ``config.max_length`` or ``max_length``.\n",
      "Input length of input_ids is 93, but ``max_length`` is set to 82.This can lead to unexpected behavior. You should consider increasing ``config.max_length`` or ``max_length``.\n",
      "Input length of input_ids is 113, but ``max_length`` is set to 105.This can lead to unexpected behavior. You should consider increasing ``config.max_length`` or ``max_length``.\n",
      "Input length of input_ids is 66, but ``max_length`` is set to 61.This can lead to unexpected behavior. You should consider increasing ``config.max_length`` or ``max_length``.\n",
      "Input length of input_ids is 147, but ``max_length`` is set to 130.This can lead to unexpected behavior. You should consider increasing ``config.max_length`` or ``max_length``.\n",
      "Input length of input_ids is 160, but ``max_length`` is set to 160.This can lead to unexpected behavior. You should consider increasing ``config.max_length`` or ``max_length``.\n",
      "Input length of input_ids is 303, but ``max_length`` is set to 246.This can lead to unexpected behavior. You should consider increasing ``config.max_length`` or ``max_length``.\n",
      "Input length of input_ids is 106, but ``max_length`` is set to 93.This can lead to unexpected behavior. You should consider increasing ``config.max_length`` or ``max_length``.\n",
      "Input length of input_ids is 113, but ``max_length`` is set to 110.This can lead to unexpected behavior. You should consider increasing ``config.max_length`` or ``max_length``.\n",
      "Input length of input_ids is 109, but ``max_length`` is set to 95.This can lead to unexpected behavior. You should consider increasing ``config.max_length`` or ``max_length``.\n",
      "Input length of input_ids is 187, but ``max_length`` is set to 180.This can lead to unexpected behavior. You should consider increasing ``config.max_length`` or ``max_length``.\n",
      "Input length of input_ids is 209, but ``max_length`` is set to 193.This can lead to unexpected behavior. You should consider increasing ``config.max_length`` or ``max_length``.\n",
      "Input length of input_ids is 110, but ``max_length`` is set to 108.This can lead to unexpected behavior. You should consider increasing ``config.max_length`` or ``max_length``.\n",
      "Input length of input_ids is 188, but ``max_length`` is set to 173.This can lead to unexpected behavior. You should consider increasing ``config.max_length`` or ``max_length``.\n",
      "Input length of input_ids is 115, but ``max_length`` is set to 112.This can lead to unexpected behavior. You should consider increasing ``config.max_length`` or ``max_length``.\n",
      "Input length of input_ids is 77, but ``max_length`` is set to 71.This can lead to unexpected behavior. You should consider increasing ``config.max_length`` or ``max_length``.\n",
      "Input length of input_ids is 102, but ``max_length`` is set to 95.This can lead to unexpected behavior. You should consider increasing ``config.max_length`` or ``max_length``.\n",
      "Input length of input_ids is 232, but ``max_length`` is set to 218.This can lead to unexpected behavior. You should consider increasing ``config.max_length`` or ``max_length``.\n",
      "Input length of input_ids is 91, but ``max_length`` is set to 82.This can lead to unexpected behavior. You should consider increasing ``config.max_length`` or ``max_length``.\n",
      "Input length of input_ids is 249, but ``max_length`` is set to 226.This can lead to unexpected behavior. You should consider increasing ``config.max_length`` or ``max_length``.\n",
      "Input length of input_ids is 106, but ``max_length`` is set to 101.This can lead to unexpected behavior. You should consider increasing ``config.max_length`` or ``max_length``.\n",
      "Input length of input_ids is 383, but ``max_length`` is set to 336.This can lead to unexpected behavior. You should consider increasing ``config.max_length`` or ``max_length``.\n",
      "Input length of input_ids is 209, but ``max_length`` is set to 185.This can lead to unexpected behavior. You should consider increasing ``config.max_length`` or ``max_length``.\n",
      "Input length of input_ids is 117, but ``max_length`` is set to 102.This can lead to unexpected behavior. You should consider increasing ``config.max_length`` or ``max_length``.\n",
      "Input length of input_ids is 189, but ``max_length`` is set to 161.This can lead to unexpected behavior. You should consider increasing ``config.max_length`` or ``max_length``.\n",
      "Input length of input_ids is 91, but ``max_length`` is set to 78.This can lead to unexpected behavior. You should consider increasing ``config.max_length`` or ``max_length``.\n",
      "Input length of input_ids is 134, but ``max_length`` is set to 118.This can lead to unexpected behavior. You should consider increasing ``config.max_length`` or ``max_length``.\n",
      "Input length of input_ids is 122, but ``max_length`` is set to 108.This can lead to unexpected behavior. You should consider increasing ``config.max_length`` or ``max_length``.\n",
      "Input length of input_ids is 120, but ``max_length`` is set to 107.This can lead to unexpected behavior. You should consider increasing ``config.max_length`` or ``max_length``.\n",
      "Input length of input_ids is 65, but ``max_length`` is set to 61.This can lead to unexpected behavior. You should consider increasing ``config.max_length`` or ``max_length``.\n",
      "Input length of input_ids is 48, but ``max_length`` is set to 42.This can lead to unexpected behavior. You should consider increasing ``config.max_length`` or ``max_length``.\n"
     ]
    },
    {
     "name": "stderr",
     "output_type": "stream",
     "text": [
      "Input length of input_ids is 111, but ``max_length`` is set to 106.This can lead to unexpected behavior. You should consider increasing ``config.max_length`` or ``max_length``.\n",
      "Input length of input_ids is 66, but ``max_length`` is set to 55.This can lead to unexpected behavior. You should consider increasing ``config.max_length`` or ``max_length``.\n",
      "Input length of input_ids is 177, but ``max_length`` is set to 171.This can lead to unexpected behavior. You should consider increasing ``config.max_length`` or ``max_length``.\n",
      "Input length of input_ids is 166, but ``max_length`` is set to 151.This can lead to unexpected behavior. You should consider increasing ``config.max_length`` or ``max_length``.\n",
      "Input length of input_ids is 76, but ``max_length`` is set to 66.This can lead to unexpected behavior. You should consider increasing ``config.max_length`` or ``max_length``.\n",
      "Input length of input_ids is 216, but ``max_length`` is set to 206.This can lead to unexpected behavior. You should consider increasing ``config.max_length`` or ``max_length``.\n",
      "Input length of input_ids is 90, but ``max_length`` is set to 73.This can lead to unexpected behavior. You should consider increasing ``config.max_length`` or ``max_length``.\n",
      "Input length of input_ids is 172, but ``max_length`` is set to 155.This can lead to unexpected behavior. You should consider increasing ``config.max_length`` or ``max_length``.\n",
      "Input length of input_ids is 90, but ``max_length`` is set to 62.This can lead to unexpected behavior. You should consider increasing ``config.max_length`` or ``max_length``.\n",
      "Input length of input_ids is 69, but ``max_length`` is set to 51.This can lead to unexpected behavior. You should consider increasing ``config.max_length`` or ``max_length``.\n",
      "Input length of input_ids is 226, but ``max_length`` is set to 192.This can lead to unexpected behavior. You should consider increasing ``config.max_length`` or ``max_length``.\n",
      "Input length of input_ids is 216, but ``max_length`` is set to 216.This can lead to unexpected behavior. You should consider increasing ``config.max_length`` or ``max_length``.\n",
      "Input length of input_ids is 82, but ``max_length`` is set to 63.This can lead to unexpected behavior. You should consider increasing ``config.max_length`` or ``max_length``.\n"
     ]
    }
   ],
   "source": [
    "df = augmenting_data(df, 0.5, True)\n",
    "\n",
    "df.to_csv(path + \"Processed/Processed_Augmented_Labelled_sample.csv\", index = False)"
   ]
  },
  {
   "cell_type": "markdown",
   "id": "88994215",
   "metadata": {},
   "source": [
    "Now we want to split the dataset into a train test set.\n",
    "\n",
    "If there is only one SSOC value present in the dataset, we leave that in as a training set.\n",
    "\n",
    "If there are more than one entry for a particular SSOC value, we split them up based on the second argument in the `train_test_split` function, and append the training section with the one above."
   ]
  },
  {
   "cell_type": "code",
   "execution_count": 6,
   "id": "9661c77b",
   "metadata": {},
   "outputs": [],
   "source": [
    "# Chunk to read in output from above cell, only do this if you have run the above function before\n",
    "\n",
    "df = pd.read_csv(path + \"Processed/Processed_Augmented_Labelled_sample.csv\")"
   ]
  },
  {
   "cell_type": "code",
   "execution_count": 7,
   "id": "675f96b2",
   "metadata": {},
   "outputs": [],
   "source": [
    "train, test = train_test_split(df, 0.8)\n",
    "\n",
    "train.to_csv(path + \"Train/Train.csv\", index = False)\n",
    "\n",
    "test.to_csv(path + \"Test/Test.csv\", index = False)"
   ]
  }
 ],
 "metadata": {
  "kernelspec": {
   "display_name": "my_enviro",
   "language": "python",
   "name": "my_enviro"
  },
  "language_info": {
   "codemirror_mode": {
    "name": "ipython",
    "version": 3
   },
   "file_extension": ".py",
   "mimetype": "text/x-python",
   "name": "python",
   "nbconvert_exporter": "python",
   "pygments_lexer": "ipython3",
   "version": "3.7.4"
  }
 },
 "nbformat": 4,
 "nbformat_minor": 5
}
