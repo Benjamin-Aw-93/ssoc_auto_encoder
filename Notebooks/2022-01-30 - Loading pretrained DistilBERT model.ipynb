{
 "cells": [
  {
   "cell_type": "markdown",
   "id": "e1454524-809e-4f02-8222-07d62acf4a64",
   "metadata": {
    "tags": []
   },
   "source": [
    "## Loading pretrained DistilBERT model"
   ]
  },
  {
   "cell_type": "code",
   "execution_count": 1,
   "id": "6a2b8bd1-d96e-4226-8276-d810db3ef960",
   "metadata": {},
   "outputs": [],
   "source": [
    "from transformers import DistilBertModel, DistilBertTokenizer, DistilBertForSequenceClassification"
   ]
  },
  {
   "cell_type": "code",
   "execution_count": 2,
   "id": "962dcf5d-a29e-43b2-91fe-49c71aa67824",
   "metadata": {},
   "outputs": [],
   "source": [
    "model_filepath = '../Models/mcf-pretrained-7epoch'\n",
    "tokenizer_filepath = '../Models/distilbert-tokenizer-pretrained-7epoch'"
   ]
  },
  {
   "cell_type": "code",
   "execution_count": 4,
   "id": "c5751937-d46f-4fae-82c2-34956d14bee8",
   "metadata": {},
   "outputs": [],
   "source": [
    "tokenizer = DistilBertTokenizer.from_pretrained(tokenizer_filepath)"
   ]
  },
  {
   "cell_type": "code",
   "execution_count": 5,
   "id": "cc793a02-35ea-47dd-9a0e-e7975b648784",
   "metadata": {},
   "outputs": [
    {
     "name": "stderr",
     "output_type": "stream",
     "text": [
      "Some weights of the model checkpoint at ../Models/mcf-pretrained-7epoch were not used when initializing DistilBertModel: ['vocab_projector.weight', 'vocab_transform.bias', 'vocab_transform.weight', 'vocab_layer_norm.bias', 'vocab_layer_norm.weight', 'vocab_projector.bias']\n",
      "- This IS expected if you are initializing DistilBertModel from the checkpoint of a model trained on another task or with another architecture (e.g. initializing a BertForSequenceClassification model from a BertForPreTraining model).\n",
      "- This IS NOT expected if you are initializing DistilBertModel from the checkpoint of a model that you expect to be exactly identical (initializing a BertForSequenceClassification model from a BertForSequenceClassification model).\n"
     ]
    }
   ],
   "source": [
    "model = DistilBertModel.from_pretrained(model_filepath, local_files_only = True)"
   ]
  }
 ],
 "metadata": {
  "kernelspec": {
   "display_name": "Python 3 (ipykernel)",
   "language": "python",
   "name": "python3"
  },
  "language_info": {
   "codemirror_mode": {
    "name": "ipython",
    "version": 3
   },
   "file_extension": ".py",
   "mimetype": "text/x-python",
   "name": "python",
   "nbconvert_exporter": "python",
   "pygments_lexer": "ipython3",
   "version": "3.9.5"
  }
 },
 "nbformat": 4,
 "nbformat_minor": 5
}
