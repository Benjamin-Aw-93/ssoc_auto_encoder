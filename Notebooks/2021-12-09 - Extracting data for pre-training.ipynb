{
 "cells": [
  {
   "cell_type": "markdown",
   "id": "b357abd3",
   "metadata": {},
   "source": [
    "## Extracting data from pre-trained\n",
    "\n",
    "**Author:** Benjamin Aw  \n",
    "**Date:** 9 Dec 2021  \n",
    "**Context:** Pre-training the model to contextualise the distilBERT model requires a particular format  \n",
    "**Objective:** Extracting the CSV files, and coverting them into text files while also removing all HTML tags  "
   ]
  },
  {
   "cell_type": "markdown",
   "id": "69f7db20",
   "metadata": {},
   "source": [
    "#### A) Setting up\n",
    "\n",
    "Importing the libraries and obtaing the file path for the datasets required"
   ]
  },
  {
   "cell_type": "code",
   "execution_count": 10,
   "id": "de275eed",
   "metadata": {},
   "outputs": [],
   "source": [
    "import pandas as pd\n",
    "import os\n",
    "import re\n",
    "from ssoc_autocoder.processing import final_cleaning\n",
    "\n",
    "path = \"../Data/Raw/\""
   ]
  },
  {
   "cell_type": "markdown",
   "id": "4ef5e7c0",
   "metadata": {},
   "source": [
    "#### B) Writing out the necessary functions\n",
    "\n",
    "Because a cleaning code `final_cleaning` has been written out, we can utilise that function instead of writing out our own."
   ]
  },
  {
   "cell_type": "code",
   "execution_count": 11,
   "id": "0dfc8cf1",
   "metadata": {},
   "outputs": [],
   "source": [
    "def cleaning_text_and_check(text):\n",
    "    \n",
    "    cleaned_text = final_cleaning(text)\n",
    "    \n",
    "    # add in additional check for proper sentences\n",
    "    \n",
    "    return cleaned_text"
   ]
  },
  {
   "cell_type": "markdown",
   "id": "c5c6305e",
   "metadata": {},
   "source": [
    "We need to loop through each individial file by year-month, and append each cleaned entry to the appropriate text file"
   ]
  },
  {
   "cell_type": "code",
   "execution_count": 12,
   "id": "a7c4021d",
   "metadata": {
    "scrolled": true
   },
   "outputs": [],
   "source": [
    "def output_individual_files(path):\n",
    "\n",
    "    for filename in os.listdir(path + \"mcf_api_responses_csv\"):\n",
    "\n",
    "        df = pd.read_csv(path + \"mcf_api_responses_csv/\" + filename)\n",
    "        df_desc = df['description'].apply(cleaning_text_and_check)\n",
    "\n",
    "        # Writing it out into a readable text file\n",
    "\n",
    "        filename_without_ext = filename.strip(\".csv\")\n",
    "\n",
    "        for jd in df_desc: \n",
    "            fi = open(\"../Data/Train/pre-training data/\" + filename_without_ext + \".txt\", \"a\")\n",
    "            fi.write(f'{jd}\\n\\n')\n",
    "            fi.close()\n",
    "        \n",
    "        print(f\"{filename_without_ext}.txt saved!\")"
   ]
  },
  {
   "cell_type": "markdown",
   "id": "2289d522",
   "metadata": {},
   "source": [
    "#### C) Putting it all together\n",
    "\n",
    "We run the functions as described above, to create the appropriate text files that is requried for pre-training of the distilledBERT model. "
   ]
  },
  {
   "cell_type": "code",
   "execution_count": 13,
   "id": "7a361323",
   "metadata": {
    "scrolled": false
   },
   "outputs": [
    {
     "name": "stdout",
     "output_type": "stream",
     "text": [
      "raw_2018-06.txt saved!\n",
      "raw_2018-07.txt saved!\n",
      "raw_2018-08.txt saved!\n",
      "raw_2018-09.txt saved!\n",
      "raw_2018-10.txt saved!\n",
      "raw_2018-11.txt saved!\n",
      "raw_2018-12.txt saved!\n",
      "raw_2019-01.txt saved!\n",
      "raw_2019-02.txt saved!\n",
      "raw_2019-03.txt saved!\n",
      "raw_2019-04.txt saved!\n",
      "raw_2019-05.txt saved!\n",
      "raw_2019-06.txt saved!\n",
      "raw_2019-07.txt saved!\n",
      "raw_2019-08.txt saved!\n",
      "raw_2019-09.txt saved!\n",
      "raw_2019-10.txt saved!\n",
      "raw_2019-11.txt saved!\n",
      "raw_2019-12.txt saved!\n",
      "raw_2020-01.txt saved!\n",
      "raw_2020-02.txt saved!\n",
      "raw_2020-03.txt saved!\n",
      "raw_2020-04.txt saved!\n",
      "raw_2020-05.txt saved!\n",
      "raw_2020-06.txt saved!\n",
      "raw_2020-07.txt saved!\n",
      "raw_2020-08.txt saved!\n",
      "raw_2020-09.txt saved!\n",
      "raw_2020-10.txt saved!\n",
      "raw_2020-11.txt saved!\n",
      "raw_2020-12.txt saved!\n",
      "raw_2021-01.txt saved!\n",
      "raw_2021-02.txt saved!\n",
      "raw_2021-03.txt saved!\n",
      "raw_2021-04.txt saved!\n",
      "raw_2021-05.txt saved!\n"
     ]
    }
   ],
   "source": [
    "output_individual_files(path)"
   ]
  }
 ],
 "metadata": {
  "kernelspec": {
   "display_name": "my_enviro",
   "language": "python",
   "name": "my_enviro"
  },
  "language_info": {
   "codemirror_mode": {
    "name": "ipython",
    "version": 3
   },
   "file_extension": ".py",
   "mimetype": "text/x-python",
   "name": "python",
   "nbconvert_exporter": "python",
   "pygments_lexer": "ipython3",
   "version": "3.7.4"
  }
 },
 "nbformat": 4,
 "nbformat_minor": 5
}
