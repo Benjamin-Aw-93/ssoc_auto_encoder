{
 "cells": [
  {
   "cell_type": "markdown",
   "id": "3777f847-7af3-49fe-a037-91b51c259225",
   "metadata": {},
   "source": [
    "## Assessing MRSD's model\n",
    "\n",
    "**Author:** Shaun Khoo  \n",
    "**Date:** 8 Sep 2021\n",
    "**Context:** Need to benchmark our model against existing alternatives to see how much better we do  \n",
    "**Objective:** Generate labels for our dataset using Lucas's pre-trained SSOC autocoder model so we can compare it to our own model's performance"
   ]
  },
  {
   "cell_type": "markdown",
   "id": "4e0ff59e-7933-443c-9370-21c88b8b4adb",
   "metadata": {},
   "source": [
    "#### A) Importing libraries and data"
   ]
  },
  {
   "cell_type": "code",
   "execution_count": 1,
   "id": "2bef3521-bc27-4a7b-8ada-1a0391d86ddb",
   "metadata": {},
   "outputs": [],
   "source": [
    "import pandas as pd\n",
    "import re"
   ]
  },
  {
   "cell_type": "code",
   "execution_count": 2,
   "id": "ce0a5844-d075-4b06-ba58-5715764cee0b",
   "metadata": {},
   "outputs": [],
   "source": [
    "mcf_data = pd.read_csv('../Data/Processed/Artifacts/Raw_Text.csv')"
   ]
  },
  {
   "cell_type": "code",
   "execution_count": 3,
   "id": "c19c9191-805a-453b-969b-4493e559dbea",
   "metadata": {},
   "outputs": [],
   "source": [
    "punct = \"/-'?!.,#$%\\'()*+-/:;<=>@[\\\\]^_`{|}~\" + '\"\"“”’' + '∞θ÷α•à−β∅³π‘₹´°£€\\×™√²—–&'\n",
    "table = str.maketrans(punct,' '*len(punct))\n",
    "\n",
    "def remove_html_tags_newline(text):\n",
    "    \"\"\"\n",
    "    Removes HTML and newline tags from a string with generic regex\n",
    "\n",
    "    Parameters:\n",
    "        text (str): Selected text\n",
    "\n",
    "    Returns:\n",
    "        cleaned_text(text) : Text with html tags and new line removed\n",
    "    \"\"\"\n",
    "\n",
    "    clean = re.compile('<.*?>')\n",
    "    newline_clean = re.compile('\\n')\n",
    "    non_punc = re.compile('[^\\w\\s]')\n",
    "    output = re.sub(non_punc, ' ', re.sub(newline_clean, ' ', re.sub(clean, '', text))).lower()\n",
    "    a = ' '.join([i for i in output.translate(table).split()])\n",
    "    return ' '.join(re.findall(\"[a-zA-Z]+\",a))"
   ]
  },
  {
   "cell_type": "code",
   "execution_count": 4,
   "id": "89695ae1-8e98-488d-a0cd-6697625c925e",
   "metadata": {},
   "outputs": [],
   "source": [
    "mcf_data['Cleaned_Description'] = mcf_data['Title'].apply(remove_html_tags_newline) + \" \" + mcf_data['Description'].apply(remove_html_tags_newline)"
   ]
  },
  {
   "cell_type": "code",
   "execution_count": 5,
   "id": "572ff97b-5ee3-4d79-bbc7-3492ad005e3b",
   "metadata": {},
   "outputs": [
    {
     "data": {
      "text/plain": [
       "'pega solution architect year contract technical specialists will be responsible for designing and building components of enterprise applications and providing consultative guidance on all project assignments he she will work as part of a project team to ensure that the business and technical architecture of the delivered solution matches customer requirements at times he she will be asked to lead aspects of design development and mentoring of resources below are the few vital things the resource need to possess strong communication and presentation skills primary skills must have good knowledge of general prpc architecture good understanding on bpm best practices implementation life cycles end to end experience of prpc based application design and implementation actively participate in the requirements design and construction phases to lead to successful delivery of the project able to plan and lead the execution of pprc implementation enhancements possess strong prpc knowledge in all features from every release and should be guiding all the team members technically hands on experience in prpc integration with other systems performance tuning and optimisation of prpc implementations ability to use application preflight tool pal db tracer profiler tool sma console pegaaes excellent knowledge of prpc features both on bpm and bre side well versant with release to release features should have good knowledge on all rule types understand the rules management and associated tools such as export amp import tools skimming and bulk processing tools should be able to understand the scalability and reuse aspects of the application in development and can provide and evaluate enterprise class structure that is scalable and extensible able to elaborate use cases in prpc language able to evaluate low level and high level designs good knowledge of prpc integration capabilities and able to use integration wizards good understanding of prpc security model integrating prpc with external managed security such as sso and ldap good handle on correspondence and reporting features in prpc sound understanding of user interfaces both prpc out of the box and generic experience working on declarative rules decision rules stream rules xml stream parse rules reportdefinition datapages agents services http soap connectors soap rest sql file good understating of prpc flows interpretation of flow shapes slas tickets interpretation of complex flow shapes for business scenarios activities activity step methods ootb activities possesses good knowledge on prpc construction and debugging tools such as tracer utility clipboard analysing log and alert files app accelerators documentation tools expression builders and form builders sql development ability to write and troubleshoot sql code strong familiarity with database systems and programming including oracle ms sql server mysql pl sql and or transact sql agile scrum experience'"
      ]
     },
     "execution_count": 5,
     "metadata": {},
     "output_type": "execute_result"
    }
   ],
   "source": [
    "mcf_data['Cleaned_Description'][0]"
   ]
  },
  {
   "cell_type": "markdown",
   "id": "6dcbd332-8d0b-4845-9b6f-4e315737d258",
   "metadata": {},
   "source": [
    "#### B) Generating predictions\n",
    "Importing the `fasttext` model and generating the predictions"
   ]
  },
  {
   "cell_type": "code",
   "execution_count": 8,
   "id": "8bffe8b5-307e-4a18-a9b0-49f3fc17506f",
   "metadata": {},
   "outputs": [],
   "source": [
    "import fasttext # note you have to install fasttext==0.8.4\n",
    "import numpy as np"
   ]
  },
  {
   "cell_type": "code",
   "execution_count": 9,
   "id": "5481546f-f1ac-4ad2-9430-56ab7889e804",
   "metadata": {},
   "outputs": [],
   "source": [
    "def ft_output_single(x):\n",
    "    return re.sub('__label__','',x[0][0])"
   ]
  },
  {
   "cell_type": "code",
   "execution_count": 10,
   "id": "be854784-3001-4773-8722-341d2e25c267",
   "metadata": {},
   "outputs": [],
   "source": [
    "model = fasttext.load_model(\"../Models/ft_epoch50_25wvs_mcf3.bin\")"
   ]
  },
  {
   "cell_type": "code",
   "execution_count": 11,
   "id": "cb6bbfda-b1df-42c8-a4d7-d6b9d1b9da2f",
   "metadata": {},
   "outputs": [
    {
     "ename": "NameError",
     "evalue": "name 'mcf_data' is not defined",
     "output_type": "error",
     "traceback": [
      "\u001b[1;31m---------------------------------------------------------------------------\u001b[0m",
      "\u001b[1;31mNameError\u001b[0m                                 Traceback (most recent call last)",
      "\u001b[1;32m~\\AppData\\Local\\Temp/ipykernel_17916/2997926696.py\u001b[0m in \u001b[0;36m<module>\u001b[1;34m\u001b[0m\n\u001b[1;32m----> 1\u001b[1;33m \u001b[0mpreds_raw\u001b[0m \u001b[1;33m=\u001b[0m \u001b[0mmodel\u001b[0m\u001b[1;33m.\u001b[0m\u001b[0mpredict\u001b[0m\u001b[1;33m(\u001b[0m\u001b[0mnp\u001b[0m\u001b[1;33m.\u001b[0m\u001b[0marray\u001b[0m\u001b[1;33m(\u001b[0m\u001b[0mmcf_data\u001b[0m\u001b[1;33m[\u001b[0m\u001b[1;34m'Cleaned_Description'\u001b[0m\u001b[1;33m]\u001b[0m\u001b[1;33m)\u001b[0m\u001b[1;33m,\u001b[0m \u001b[0mk\u001b[0m\u001b[1;33m=\u001b[0m\u001b[1;36m1\u001b[0m\u001b[1;33m)\u001b[0m\u001b[1;33m\u001b[0m\u001b[1;33m\u001b[0m\u001b[0m\n\u001b[0m",
      "\u001b[1;31mNameError\u001b[0m: name 'mcf_data' is not defined"
     ]
    }
   ],
   "source": [
    "preds_raw = model.predict(np.array(mcf_data['Cleaned_Description']), k=1)"
   ]
  },
  {
   "cell_type": "code",
   "execution_count": 10,
   "id": "d3df2faa-6ac2-48ce-8601-4fe3e3c18097",
   "metadata": {},
   "outputs": [],
   "source": [
    "mcf_data['Predicted SSOC'] = [pred[0].replace('__label__', '') for pred in preds_raw]"
   ]
  },
  {
   "cell_type": "markdown",
   "id": "b69aafbf-f261-4728-a9f9-40d65149462f",
   "metadata": {},
   "source": [
    "Importing the SSOC mapping table (v2018)"
   ]
  },
  {
   "cell_type": "code",
   "execution_count": 11,
   "id": "6ac5aa08-e176-4a00-93ac-98ac675b47fa",
   "metadata": {},
   "outputs": [],
   "source": [
    "ssoc = pd.read_csv('../Data/Raw/ssoc_v2018.csv', encoding='iso-8859-1')\n",
    "ssoc.dropna(inplace = True)\n",
    "ssoc['ssoc_f'] = ssoc['ssoc_f'].astype('float').astype('int').astype('str')"
   ]
  },
  {
   "cell_type": "markdown",
   "id": "1c6e099b-4d5e-4524-b7c4-eb172fc15ff1",
   "metadata": {},
   "source": [
    "Cleaning up the MCF data for the join"
   ]
  },
  {
   "cell_type": "code",
   "execution_count": 12,
   "id": "e0ec11d8-10e3-4b21-bf57-bc0d638e7591",
   "metadata": {},
   "outputs": [],
   "source": [
    "mcf_data = mcf_data[(mcf_data['SSOC_2015'] != 'X5000') & (mcf_data['SSOC_2015'].notnull())]"
   ]
  },
  {
   "cell_type": "code",
   "execution_count": 13,
   "id": "0c099a21-67df-425d-8333-d2da073c826e",
   "metadata": {},
   "outputs": [],
   "source": [
    "mcf_data['SSOC_2015'] = mcf_data['SSOC_2015'].astype('float').astype('int').astype('str')"
   ]
  },
  {
   "cell_type": "code",
   "execution_count": 14,
   "id": "0f8db7cb-3cfd-4eaf-8d3d-a8d8ea1d8fec",
   "metadata": {},
   "outputs": [],
   "source": [
    "mcf_data_final = mcf_data.merge(ssoc, left_on = 'SSOC_2015', right_on = 'ssoc_f', how = 'left').merge(ssoc, left_on = 'Predicted SSOC', right_on = 'ssoc_f', how = 'left')"
   ]
  },
  {
   "cell_type": "code",
   "execution_count": 15,
   "id": "7d338c49-92e1-45f2-996c-ea83ac40c27a",
   "metadata": {},
   "outputs": [],
   "source": [
    "mcf_data_final.drop(['ssoc_f_x', 'ssoc_f_y'], axis = 1, inplace = True)\n",
    "mcf_data_final.rename({'ssoc_desc_x': \"Reported SSOC Desc\", \"ssoc_desc_y\": \"Predicted SSOC Desc\"}, axis = 1, inplace = True)"
   ]
  },
  {
   "cell_type": "markdown",
   "id": "610d2491-debe-4531-a792-c1e38a6db3ab",
   "metadata": {},
   "source": [
    "Checking some job postings"
   ]
  },
  {
   "cell_type": "code",
   "execution_count": 16,
   "id": "62450180-eac9-4d1b-9e56-74a1f889348f",
   "metadata": {},
   "outputs": [
    {
     "name": "stdout",
     "output_type": "stream",
     "text": [
      "Job Title: digital marketing executive\n",
      "Reported SSOC: Other administrative and related associate professionals n.e.c. \n",
      "Predicted SSOC: Sales and marketing manager \n"
     ]
    },
    {
     "data": {
      "text/plain": [
       "'<p>We are searching for a highly-creative Digital Marketing Executive/Manager to lead our marketing team. In this position, you will be responsible for all aspects of our marketing operations. Your central goal is to help grow our brand’s influence locally while also increasing brand loyalty and awareness.</p>\\n<p>Your duties will include planning, implementing, and monitoring our digital marketing campaigns across all digital networks. Our ideal candidate is someone with experience in marketing, art direction, and social media management. In addition to being an outstanding communicator, you will also demonstrate excellent interpersonal and analytical skills.</p>\\n<h3>Responsibilities:</h3>\\n<ul>\\n  <li>Design and oversee all aspects of our digital marketing department including our marketing database, email, and display advertising campaigns.</li>\\n  <li>Develop and monitor campaign budgets.</li>\\n  <li>Plan and manage our social media platforms.</li>\\n  <li>Prepare accurate reports on our marketing campaign’s overall performance.</li>\\n  <li>Coordinate with advertising and media experts to improve marketing results.</li>\\n  <li>Identify the latest trends and technologies affecting our industry.</li>\\n  <li>Evaluate important metrics that affect our website traffic, service quotas, and target audience.</li>\\n  <li>Work with your team to brainstorm new and innovative growth strategies.</li>\\n  <li>Oversee and manage all contests, giveaways, and other digital projects.</li>\\n</ul>\\n<h3>Requirements:</h3>\\n<ul>\\n  <li>In-depth knowledge of various social media platforms, best practices, and website analytics.</li>\\n  <li>Solid understanding of HTML, CSS, and JavaScript is required.</li>\\n  <li>Highly creative with excellent analytical abilities.</li>\\n  <li>Outstanding communication and interpersonal skills.</li>\\n  <li>Up-to-date on the latest trends and technologies in digital marketing.</li>\\n</ul>'"
      ]
     },
     "execution_count": 16,
     "metadata": {},
     "output_type": "execute_result"
    }
   ],
   "source": [
    "idx = 160\n",
    "print(\"Job Title: \" + mcf_data_final['Title'][idx])\n",
    "print(\"Reported SSOC: \" + mcf_data_final['Reported SSOC Desc'][idx])\n",
    "print(\"Predicted SSOC: \" + mcf_data_final['Predicted SSOC Desc'][idx])\n",
    "mcf_data_final['Description'][idx]"
   ]
  },
  {
   "cell_type": "markdown",
   "id": "29eaca0d-5546-441b-8ba8-ea61191907b7",
   "metadata": {},
   "source": [
    "Exporting the file"
   ]
  },
  {
   "cell_type": "code",
   "execution_count": 17,
   "id": "f6ab2209-9823-4c86-8b65-971a4fbe851a",
   "metadata": {},
   "outputs": [],
   "source": [
    "mcf_data_final.to_csv('../Data/Processed/Artifacts/MCF_Subset_WithLabels.csv', index = False)"
   ]
  },
  {
   "cell_type": "markdown",
   "id": "c4413ffb-f23c-4320-905b-ab148c443463",
   "metadata": {},
   "source": [
    "#### C) Testing Lucas's model on the SSOC 2020 definitions"
   ]
  },
  {
   "cell_type": "markdown",
   "id": "22458111-51ce-4818-8391-ed819404e2b8",
   "metadata": {},
   "source": [
    "Import the SSOC 2020 definitions Excel file and combine the detailed definition for each SSOC with the job tasks (4D SSOC level)"
   ]
  },
  {
   "cell_type": "code",
   "execution_count": 17,
   "id": "e64d4ed6-c80b-41c0-af9c-57bd8a093514",
   "metadata": {},
   "outputs": [
    {
     "name": "stderr",
     "output_type": "stream",
     "text": [
      "c:\\users\\shaun\\pycharmprojects\\ssoc-autocoder\\venv\\lib\\site-packages\\openpyxl\\worksheet\\header_footer.py:48: UserWarning: Cannot parse header or footer so it will be ignored\n",
      "  warn(\"\"\"Cannot parse header or footer so it will be ignored\"\"\")\n"
     ]
    }
   ],
   "source": [
    "SSOC_Definitions = pd.read_excel('../Data/Raw/SSOC2020 Detailed Definitions.xlsx', skiprows = 4)"
   ]
  },
  {
   "cell_type": "code",
   "execution_count": 18,
   "id": "8c38a251-5793-45fd-b9e0-f4d606462ad2",
   "metadata": {},
   "outputs": [],
   "source": [
    "SSOC_4D = SSOC_Definitions[SSOC_Definitions['SSOC 2020'].apply(len) == 4][['SSOC 2020', 'Tasks']]\n",
    "SSOC_4D.columns = ['4D SSOC', 'Tasks']"
   ]
  },
  {
   "cell_type": "code",
   "execution_count": 19,
   "id": "3eecd775-e95a-40da-91a6-a63147cd5a46",
   "metadata": {},
   "outputs": [],
   "source": [
    "SSOC_5D = SSOC_Definitions[(SSOC_Definitions['SSOC 2020'].apply(len) == 5) & ~SSOC_Definitions['SSOC 2020'].str.contains('X')].reset_index(drop = True)\n",
    "SSOC_5D['4D SSOC'] = SSOC_5D['SSOC 2020'].str.slice(0, 4)\n",
    "SSOC_5D.drop('Tasks', axis = 1, inplace = True)"
   ]
  },
  {
   "cell_type": "code",
   "execution_count": 20,
   "id": "864dbc72-6df2-4096-8e60-7b114ea04651",
   "metadata": {},
   "outputs": [],
   "source": [
    "SSOC_Final = SSOC_5D.merge(SSOC_4D, how = 'left', on = '4D SSOC')\n",
    "SSOC_Final['Description'] = SSOC_Final['Detailed Definitions'] + \" \" + SSOC_Final['Tasks']"
   ]
  },
  {
   "cell_type": "code",
   "execution_count": 21,
   "id": "706c121c-ed92-49a7-bf12-f35c1454db12",
   "metadata": {},
   "outputs": [],
   "source": [
    "data = SSOC_Final[['SSOC 2020', 'Description']]"
   ]
  },
  {
   "cell_type": "code",
   "execution_count": 32,
   "id": "6a0b6a71-b338-492d-aafe-99c9bfe967bb",
   "metadata": {},
   "outputs": [],
   "source": [
    "data.to_csv('../Data/Processed/SSOC_2020_Detailed_Descriptions_For_Benchmarking.csv')"
   ]
  },
  {
   "cell_type": "markdown",
   "id": "c8063a3b-30d2-4b2f-8568-fab55b67d289",
   "metadata": {},
   "source": [
    "This test was completed but we didn't pursue further as SSOC 2020 definitions were not indicative of MCF performance. "
   ]
  },
  {
   "cell_type": "markdown",
   "id": "aab0d947-314a-48d9-ba04-6fdb171df7e2",
   "metadata": {},
   "source": [
    "#### D) Testing Lucas's model on our test set\n",
    "\n",
    "This enabled us to directly compare the performance between the two models."
   ]
  },
  {
   "cell_type": "code",
   "execution_count": 26,
   "id": "18606af8-1f7e-47a9-8807-e7fa0d493d04",
   "metadata": {},
   "outputs": [],
   "source": [
    "data = pd.read_csv('../Data/Train/Test.csv')"
   ]
  },
  {
   "cell_type": "code",
   "execution_count": 35,
   "id": "01dd02c4-cff1-4304-a756-ff1e0cb36275",
   "metadata": {},
   "outputs": [],
   "source": [
    "data['target'] = data['Predicted_SSOC_2020'].astype('str')\n",
    "data['Predicted_SSOC_2020'] = data['Predicted_SSOC_2020'].astype('str')"
   ]
  },
  {
   "cell_type": "markdown",
   "id": "208953ca-4895-42c3-89d7-f20fe3679395",
   "metadata": {},
   "source": [
    "Import the SSOC v2018 data and its mapping to SSOC 2020"
   ]
  },
  {
   "cell_type": "code",
   "execution_count": 5,
   "id": "53e4fc82-9297-4bc9-be11-d8d95f58ad58",
   "metadata": {},
   "outputs": [],
   "source": [
    "ssoc_v18_2020_mapping = pd.read_excel('../Data/Reference/Correspondence Tables between SSOC2020 and 2015v18.xlsx', skiprows = 4, sheet_name = 'SSOC2015(v2018)-SSOC2020')"
   ]
  },
  {
   "cell_type": "code",
   "execution_count": 6,
   "id": "d0c24dda-3cf7-4f62-abc3-8dc1c66df880",
   "metadata": {},
   "outputs": [],
   "source": [
    "ssoc_v18 = pd.read_csv('../Data/Archive/ssoc_v2018.csv', encoding='iso-8859-1')\n",
    "ssoc_v18.dropna(inplace = True)\n",
    "ssoc_v18['SSOC 2015 (Version 2018)'] = ssoc_v18['ssoc_f'].astype('float').astype('int').astype('str')\n",
    "ssoc_v2020 = ssoc_v18.merge(ssoc_v18_2020_mapping, how = 'left', on = 'SSOC 2015 (Version 2018)')"
   ]
  },
  {
   "cell_type": "code",
   "execution_count": 7,
   "id": "9302fd42-e96a-44e8-ab6c-f36e68fedd44",
   "metadata": {},
   "outputs": [],
   "source": [
    "ssoc_mapping_final = ssoc_v2020[['SSOC 2015 (Version 2018)', 'SSOC 2020']].drop_duplicates('SSOC 2015 (Version 2018)')\n",
    "ssoc_mapping_final.columns = ['SSOC 2015 v18', 'SSOC 2020']\n",
    "mapping = ssoc_mapping_final.set_index('SSOC 2015 v18')['SSOC 2020']"
   ]
  },
  {
   "cell_type": "markdown",
   "id": "738317c8-dca7-4a67-bb8a-2f28ec2e303c",
   "metadata": {},
   "source": [
    "Generate the predictions"
   ]
  },
  {
   "cell_type": "code",
   "execution_count": 36,
   "id": "6592f18a-1da4-4367-ad85-966997b70bdf",
   "metadata": {},
   "outputs": [],
   "source": [
    "data.drop('target', axis = 1, inplace = True)"
   ]
  },
  {
   "cell_type": "code",
   "execution_count": 39,
   "id": "c58838fc-9c62-4335-a223-406f3efde109",
   "metadata": {},
   "outputs": [],
   "source": [
    "preds_raw = model.predict(np.array(data['description']), k = 10)\n",
    "data['SSOC_5D_Top_10_Preds'] = ''\n",
    "for i, pred in enumerate(preds_raw):\n",
    "    data['SSOC_5D_Top_10_Preds'][i] = ','.join([mapping[p.replace('__label__', '')] for p in pred])\n",
    "    data['SSOC_5D_Top_10_Preds_Correct'][i] = data['Predicted_SSOC_2020'][i] in ','.join([mapping[p.replace('__label__', '')] for p in pred])"
   ]
  },
  {
   "cell_type": "markdown",
   "id": "dada1e74-40e2-4d8b-82de-06cf038fe358",
   "metadata": {},
   "source": [
    "Generate the same customised fields for checking 5D SSOC accuracy and output the file"
   ]
  },
  {
   "cell_type": "code",
   "execution_count": 45,
   "id": "746a97f4-dd75-47ff-826e-33332fdc0bc6",
   "metadata": {},
   "outputs": [],
   "source": [
    "data['SSOC_5D_Top_Pred'] = data['SSOC_5D_Top_10_Preds'].str.slice(0,5)\n",
    "data['SSOC_5D_Top_Pred_Correct'] = data['SSOC_5D_Top_Pred'] == data['Predicted_SSOC_2020']\n",
    "data['SSOC_5D_Top_5_Preds_Correct'] = [ssoc in preds.split(',')[0:5] for ssoc, preds in zip(data['Predicted_SSOC_2020'], data['SSOC_5D_Top_10_Preds'])]\n",
    "data['SSOC_5D_Top_10_Preds_Correct']= [ssoc in preds for ssoc, preds in zip(data['Predicted_SSOC_2020'], data['SSOC_5D_Top_10_Preds'])]"
   ]
  },
  {
   "cell_type": "code",
   "execution_count": 47,
   "id": "dae3ecdb-dcc7-4710-8e86-e7d92bddf85b",
   "metadata": {},
   "outputs": [],
   "source": [
    "data.to_csv('../Notebooks/Exported Files/Test_MRSD.csv', index = False)"
   ]
  }
 ],
 "metadata": {
  "kernelspec": {
   "display_name": "Python 3 (ipykernel)",
   "language": "python",
   "name": "python3"
  },
  "language_info": {
   "codemirror_mode": {
    "name": "ipython",
    "version": 3
   },
   "file_extension": ".py",
   "mimetype": "text/x-python",
   "name": "python",
   "nbconvert_exporter": "python",
   "pygments_lexer": "ipython3",
   "version": "3.9.5"
  }
 },
 "nbformat": 4,
 "nbformat_minor": 5
}
