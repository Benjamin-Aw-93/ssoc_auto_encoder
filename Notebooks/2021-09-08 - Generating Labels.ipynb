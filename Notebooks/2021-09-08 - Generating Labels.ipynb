{
 "cells": [
  {
   "cell_type": "markdown",
   "id": "3777f847-7af3-49fe-a037-91b51c259225",
   "metadata": {},
   "source": [
    "## Generating Labels for our Dataset\n",
    "\n",
    "**Author:** Shaun Khoo  \n",
    "**Date:** 8 Sep 2021\n",
    "**Context:** Need labelled data in order to train our model  \n",
    "**Objective:** Generate labels for our dataset using Lucas's pre-trained SSOC autocoder model (deprecated - see the notebook on assessing data distribution)"
   ]
  },
  {
   "cell_type": "markdown",
   "id": "4e0ff59e-7933-443c-9370-21c88b8b4adb",
   "metadata": {},
   "source": [
    "#### A) Importing libraries and data"
   ]
  },
  {
   "cell_type": "code",
   "execution_count": 1,
   "id": "2bef3521-bc27-4a7b-8ada-1a0391d86ddb",
   "metadata": {},
   "outputs": [],
   "source": [
    "import pandas as pd\n",
    "import re"
   ]
  },
  {
   "cell_type": "code",
   "execution_count": 2,
   "id": "ce0a5844-d075-4b06-ba58-5715764cee0b",
   "metadata": {},
   "outputs": [],
   "source": [
    "mcf_data = pd.read_csv('../Data/Processed/Artifacts/Raw_Text.csv')"
   ]
  },
  {
   "cell_type": "code",
   "execution_count": 3,
   "id": "c19c9191-805a-453b-969b-4493e559dbea",
   "metadata": {},
   "outputs": [],
   "source": [
    "punct = \"/-'?!.,#$%\\'()*+-/:;<=>@[\\\\]^_`{|}~\" + '\"\"“”’' + '∞θ÷α•à−β∅³π‘₹´°£€\\×™√²—–&'\n",
    "table = str.maketrans(punct,' '*len(punct))\n",
    "\n",
    "def remove_html_tags_newline(text):\n",
    "    \"\"\"\n",
    "    Removes HTML and newline tags from a string with generic regex\n",
    "\n",
    "    Parameters:\n",
    "        text (str): Selected text\n",
    "\n",
    "    Returns:\n",
    "        cleaned_text(text) : Text with html tags and new line removed\n",
    "    \"\"\"\n",
    "\n",
    "    clean = re.compile('<.*?>')\n",
    "    newline_clean = re.compile('\\n')\n",
    "    non_punc = re.compile('[^\\w\\s]')\n",
    "    output = re.sub(non_punc, ' ', re.sub(newline_clean, ' ', re.sub(clean, '', text))).lower()\n",
    "    a = ' '.join([i for i in output.translate(table).split()])\n",
    "    return ' '.join(re.findall(\"[a-zA-Z]+\",a))"
   ]
  },
  {
   "cell_type": "code",
   "execution_count": 4,
   "id": "89695ae1-8e98-488d-a0cd-6697625c925e",
   "metadata": {},
   "outputs": [],
   "source": [
    "mcf_data['Cleaned_Description'] = mcf_data['Title'].apply(remove_html_tags_newline) + \" \" + mcf_data['Description'].apply(remove_html_tags_newline)"
   ]
  },
  {
   "cell_type": "code",
   "execution_count": 5,
   "id": "572ff97b-5ee3-4d79-bbc7-3492ad005e3b",
   "metadata": {},
   "outputs": [
    {
     "data": {
      "text/plain": [
       "'pega solution architect year contract technical specialists will be responsible for designing and building components of enterprise applications and providing consultative guidance on all project assignments he she will work as part of a project team to ensure that the business and technical architecture of the delivered solution matches customer requirements at times he she will be asked to lead aspects of design development and mentoring of resources below are the few vital things the resource need to possess strong communication and presentation skills primary skills must have good knowledge of general prpc architecture good understanding on bpm best practices implementation life cycles end to end experience of prpc based application design and implementation actively participate in the requirements design and construction phases to lead to successful delivery of the project able to plan and lead the execution of pprc implementation enhancements possess strong prpc knowledge in all features from every release and should be guiding all the team members technically hands on experience in prpc integration with other systems performance tuning and optimisation of prpc implementations ability to use application preflight tool pal db tracer profiler tool sma console pegaaes excellent knowledge of prpc features both on bpm and bre side well versant with release to release features should have good knowledge on all rule types understand the rules management and associated tools such as export amp import tools skimming and bulk processing tools should be able to understand the scalability and reuse aspects of the application in development and can provide and evaluate enterprise class structure that is scalable and extensible able to elaborate use cases in prpc language able to evaluate low level and high level designs good knowledge of prpc integration capabilities and able to use integration wizards good understanding of prpc security model integrating prpc with external managed security such as sso and ldap good handle on correspondence and reporting features in prpc sound understanding of user interfaces both prpc out of the box and generic experience working on declarative rules decision rules stream rules xml stream parse rules reportdefinition datapages agents services http soap connectors soap rest sql file good understating of prpc flows interpretation of flow shapes slas tickets interpretation of complex flow shapes for business scenarios activities activity step methods ootb activities possesses good knowledge on prpc construction and debugging tools such as tracer utility clipboard analysing log and alert files app accelerators documentation tools expression builders and form builders sql development ability to write and troubleshoot sql code strong familiarity with database systems and programming including oracle ms sql server mysql pl sql and or transact sql agile scrum experience'"
      ]
     },
     "execution_count": 5,
     "metadata": {},
     "output_type": "execute_result"
    }
   ],
   "source": [
    "mcf_data['Cleaned_Description'][0]"
   ]
  },
  {
   "cell_type": "markdown",
   "id": "6dcbd332-8d0b-4845-9b6f-4e315737d258",
   "metadata": {},
   "source": [
    "#### B) Generating predictions\n",
    "Importing the `fasttext` model and generating the predictions"
   ]
  },
  {
   "cell_type": "code",
   "execution_count": 6,
   "id": "8bffe8b5-307e-4a18-a9b0-49f3fc17506f",
   "metadata": {},
   "outputs": [],
   "source": [
    "import fasttext # note you have to install fasttext==0.8.4\n",
    "import numpy as np"
   ]
  },
  {
   "cell_type": "code",
   "execution_count": 7,
   "id": "5481546f-f1ac-4ad2-9430-56ab7889e804",
   "metadata": {},
   "outputs": [],
   "source": [
    "def ft_output_single(x):\n",
    "    return re.sub('__label__','',x[0][0])"
   ]
  },
  {
   "cell_type": "code",
   "execution_count": 8,
   "id": "be854784-3001-4773-8722-341d2e25c267",
   "metadata": {},
   "outputs": [],
   "source": [
    "model = fasttext.load_model(\"../Models/ft_epoch50_25wvs_mcf3.bin\")"
   ]
  },
  {
   "cell_type": "code",
   "execution_count": 9,
   "id": "cb6bbfda-b1df-42c8-a4d7-d6b9d1b9da2f",
   "metadata": {},
   "outputs": [],
   "source": [
    "preds_raw = model.predict(np.array(mcf_data['Cleaned_Description']), k=1)"
   ]
  },
  {
   "cell_type": "code",
   "execution_count": 10,
   "id": "d3df2faa-6ac2-48ce-8601-4fe3e3c18097",
   "metadata": {},
   "outputs": [],
   "source": [
    "mcf_data['Predicted SSOC'] = [pred[0].replace('__label__', '') for pred in preds_raw]"
   ]
  },
  {
   "cell_type": "markdown",
   "id": "b69aafbf-f261-4728-a9f9-40d65149462f",
   "metadata": {},
   "source": [
    "Importing the SSOC mapping table (v2018)"
   ]
  },
  {
   "cell_type": "code",
   "execution_count": 11,
   "id": "6ac5aa08-e176-4a00-93ac-98ac675b47fa",
   "metadata": {},
   "outputs": [],
   "source": [
    "ssoc = pd.read_csv('../Data/Raw/ssoc_v2018.csv', encoding='iso-8859-1')\n",
    "ssoc.dropna(inplace = True)\n",
    "ssoc['ssoc_f'] = ssoc['ssoc_f'].astype('float').astype('int').astype('str')"
   ]
  },
  {
   "cell_type": "markdown",
   "id": "1c6e099b-4d5e-4524-b7c4-eb172fc15ff1",
   "metadata": {},
   "source": [
    "Cleaning up the MCF data for the join"
   ]
  },
  {
   "cell_type": "code",
   "execution_count": 12,
   "id": "e0ec11d8-10e3-4b21-bf57-bc0d638e7591",
   "metadata": {},
   "outputs": [],
   "source": [
    "mcf_data = mcf_data[(mcf_data['SSOC_2015'] != 'X5000') & (mcf_data['SSOC_2015'].notnull())]"
   ]
  },
  {
   "cell_type": "code",
   "execution_count": 13,
   "id": "0c099a21-67df-425d-8333-d2da073c826e",
   "metadata": {},
   "outputs": [],
   "source": [
    "mcf_data['SSOC_2015'] = mcf_data['SSOC_2015'].astype('float').astype('int').astype('str')"
   ]
  },
  {
   "cell_type": "code",
   "execution_count": 14,
   "id": "0f8db7cb-3cfd-4eaf-8d3d-a8d8ea1d8fec",
   "metadata": {},
   "outputs": [],
   "source": [
    "mcf_data_final = mcf_data.merge(ssoc, left_on = 'SSOC_2015', right_on = 'ssoc_f', how = 'left').merge(ssoc, left_on = 'Predicted SSOC', right_on = 'ssoc_f', how = 'left')"
   ]
  },
  {
   "cell_type": "code",
   "execution_count": 15,
   "id": "7d338c49-92e1-45f2-996c-ea83ac40c27a",
   "metadata": {},
   "outputs": [],
   "source": [
    "mcf_data_final.drop(['ssoc_f_x', 'ssoc_f_y'], axis = 1, inplace = True)\n",
    "mcf_data_final.rename({'ssoc_desc_x': \"Reported SSOC Desc\", \"ssoc_desc_y\": \"Predicted SSOC Desc\"}, axis = 1, inplace = True)"
   ]
  },
  {
   "cell_type": "markdown",
   "id": "610d2491-debe-4531-a792-c1e38a6db3ab",
   "metadata": {},
   "source": [
    "Checking some job postings"
   ]
  },
  {
   "cell_type": "code",
   "execution_count": 16,
   "id": "62450180-eac9-4d1b-9e56-74a1f889348f",
   "metadata": {},
   "outputs": [
    {
     "name": "stdout",
     "output_type": "stream",
     "text": [
      "Job Title: digital marketing executive\n",
      "Reported SSOC: Other administrative and related associate professionals n.e.c. \n",
      "Predicted SSOC: Sales and marketing manager \n"
     ]
    },
    {
     "data": {
      "text/plain": [
       "'<p>We are searching for a highly-creative Digital Marketing Executive/Manager to lead our marketing team. In this position, you will be responsible for all aspects of our marketing operations. Your central goal is to help grow our brand’s influence locally while also increasing brand loyalty and awareness.</p>\\n<p>Your duties will include planning, implementing, and monitoring our digital marketing campaigns across all digital networks. Our ideal candidate is someone with experience in marketing, art direction, and social media management. In addition to being an outstanding communicator, you will also demonstrate excellent interpersonal and analytical skills.</p>\\n<h3>Responsibilities:</h3>\\n<ul>\\n  <li>Design and oversee all aspects of our digital marketing department including our marketing database, email, and display advertising campaigns.</li>\\n  <li>Develop and monitor campaign budgets.</li>\\n  <li>Plan and manage our social media platforms.</li>\\n  <li>Prepare accurate reports on our marketing campaign’s overall performance.</li>\\n  <li>Coordinate with advertising and media experts to improve marketing results.</li>\\n  <li>Identify the latest trends and technologies affecting our industry.</li>\\n  <li>Evaluate important metrics that affect our website traffic, service quotas, and target audience.</li>\\n  <li>Work with your team to brainstorm new and innovative growth strategies.</li>\\n  <li>Oversee and manage all contests, giveaways, and other digital projects.</li>\\n</ul>\\n<h3>Requirements:</h3>\\n<ul>\\n  <li>In-depth knowledge of various social media platforms, best practices, and website analytics.</li>\\n  <li>Solid understanding of HTML, CSS, and JavaScript is required.</li>\\n  <li>Highly creative with excellent analytical abilities.</li>\\n  <li>Outstanding communication and interpersonal skills.</li>\\n  <li>Up-to-date on the latest trends and technologies in digital marketing.</li>\\n</ul>'"
      ]
     },
     "execution_count": 16,
     "metadata": {},
     "output_type": "execute_result"
    }
   ],
   "source": [
    "idx = 160\n",
    "print(\"Job Title: \" + mcf_data_final['Title'][idx])\n",
    "print(\"Reported SSOC: \" + mcf_data_final['Reported SSOC Desc'][idx])\n",
    "print(\"Predicted SSOC: \" + mcf_data_final['Predicted SSOC Desc'][idx])\n",
    "mcf_data_final['Description'][idx]"
   ]
  },
  {
   "cell_type": "markdown",
   "id": "29eaca0d-5546-441b-8ba8-ea61191907b7",
   "metadata": {},
   "source": [
    "Exporting the file"
   ]
  },
  {
   "cell_type": "code",
   "execution_count": 17,
   "id": "f6ab2209-9823-4c86-8b65-971a4fbe851a",
   "metadata": {},
   "outputs": [],
   "source": [
    "mcf_data_final.to_csv('../Data/Processed/Artifacts/MCF_Subset_WithLabels.csv', index = False)"
   ]
  },
  {
   "cell_type": "markdown",
   "id": "c4413ffb-f23c-4320-905b-ab148c443463",
   "metadata": {},
   "source": [
    "#### C) Testing Lucas's model on the SSOC 2020 definitions"
   ]
  },
  {
   "cell_type": "markdown",
   "id": "22458111-51ce-4818-8391-ed819404e2b8",
   "metadata": {},
   "source": [
    "Import the SSOC 2020 definitions Excel file and combine the detailed definition for each SSOC with the job tasks (4D SSOC level)"
   ]
  },
  {
   "cell_type": "code",
   "execution_count": 17,
   "id": "e64d4ed6-c80b-41c0-af9c-57bd8a093514",
   "metadata": {},
   "outputs": [
    {
     "name": "stderr",
     "output_type": "stream",
     "text": [
      "c:\\users\\shaun\\pycharmprojects\\ssoc-autocoder\\venv\\lib\\site-packages\\openpyxl\\worksheet\\header_footer.py:48: UserWarning: Cannot parse header or footer so it will be ignored\n",
      "  warn(\"\"\"Cannot parse header or footer so it will be ignored\"\"\")\n"
     ]
    }
   ],
   "source": [
    "SSOC_Definitions = pd.read_excel('../Data/Raw/SSOC2020 Detailed Definitions.xlsx', skiprows = 4)"
   ]
  },
  {
   "cell_type": "code",
   "execution_count": 18,
   "id": "8c38a251-5793-45fd-b9e0-f4d606462ad2",
   "metadata": {},
   "outputs": [],
   "source": [
    "SSOC_4D = SSOC_Definitions[SSOC_Definitions['SSOC 2020'].apply(len) == 4][['SSOC 2020', 'Tasks']]\n",
    "SSOC_4D.columns = ['4D SSOC', 'Tasks']"
   ]
  },
  {
   "cell_type": "code",
   "execution_count": 19,
   "id": "3eecd775-e95a-40da-91a6-a63147cd5a46",
   "metadata": {},
   "outputs": [],
   "source": [
    "SSOC_5D = SSOC_Definitions[(SSOC_Definitions['SSOC 2020'].apply(len) == 5) & ~SSOC_Definitions['SSOC 2020'].str.contains('X')].reset_index(drop = True)\n",
    "SSOC_5D['4D SSOC'] = SSOC_5D['SSOC 2020'].str.slice(0, 4)\n",
    "SSOC_5D.drop('Tasks', axis = 1, inplace = True)"
   ]
  },
  {
   "cell_type": "code",
   "execution_count": 20,
   "id": "864dbc72-6df2-4096-8e60-7b114ea04651",
   "metadata": {},
   "outputs": [],
   "source": [
    "SSOC_Final = SSOC_5D.merge(SSOC_4D, how = 'left', on = '4D SSOC')\n",
    "SSOC_Final['Description'] = SSOC_Final['Detailed Definitions'] + \" \" + SSOC_Final['Tasks']"
   ]
  },
  {
   "cell_type": "code",
   "execution_count": 21,
   "id": "706c121c-ed92-49a7-bf12-f35c1454db12",
   "metadata": {},
   "outputs": [],
   "source": [
    "data = SSOC_Final[['SSOC 2020', 'Description']]"
   ]
  },
  {
   "cell_type": "code",
   "execution_count": 32,
   "id": "6a0b6a71-b338-492d-aafe-99c9bfe967bb",
   "metadata": {},
   "outputs": [],
   "source": [
    "data.to_csv('../Data/Processed/SSOC_2020_Detailed_Descriptions_For_Benchmarking.csv')"
   ]
  },
  {
   "cell_type": "markdown",
   "id": "208953ca-4895-42c3-89d7-f20fe3679395",
   "metadata": {},
   "source": [
    "Import the SSOC v2018 data and its mapping to SSOC 2020"
   ]
  },
  {
   "cell_type": "code",
   "execution_count": 22,
   "id": "53e4fc82-9297-4bc9-be11-d8d95f58ad58",
   "metadata": {},
   "outputs": [],
   "source": [
    "ssoc_v18_2020_mapping = pd.read_excel('../Data/Raw/Correspondence Tables between SSOC2020 and 2015v18.xlsx', skiprows = 4, sheet_name = 'SSOC2015(v2018)-SSOC2020')"
   ]
  },
  {
   "cell_type": "code",
   "execution_count": 23,
   "id": "d0c24dda-3cf7-4f62-abc3-8dc1c66df880",
   "metadata": {},
   "outputs": [],
   "source": [
    "ssoc_v18 = pd.read_csv('../Data/Raw/ssoc_v2018.csv', encoding='iso-8859-1')\n",
    "ssoc_v18.dropna(inplace = True)\n",
    "ssoc_v18['SSOC 2015 (Version 2018)'] = ssoc_v18['ssoc_f'].astype('float').astype('int').astype('str')\n",
    "ssoc_v2020 = ssoc_v18.merge(ssoc_v18_2020_mapping, how = 'left', on = 'SSOC 2015 (Version 2018)')"
   ]
  },
  {
   "cell_type": "code",
   "execution_count": 24,
   "id": "9302fd42-e96a-44e8-ab6c-f36e68fedd44",
   "metadata": {},
   "outputs": [],
   "source": [
    "ssoc_mapping_final = ssoc_v2020[['SSOC 2015 (Version 2018)', 'SSOC 2020']].drop_duplicates('SSOC 2015 (Version 2018)')\n",
    "ssoc_mapping_final.columns = ['SSOC 2015 v18', 'SSOC 2020']\n",
    "mapping = ssoc_mapping_final.set_index('SSOC 2015 v18')['SSOC 2020']"
   ]
  },
  {
   "cell_type": "markdown",
   "id": "738317c8-dca7-4a67-bb8a-2f28ec2e303c",
   "metadata": {},
   "source": [
    "Generate the predictions"
   ]
  },
  {
   "cell_type": "code",
   "execution_count": 27,
   "id": "c58838fc-9c62-4335-a223-406f3efde109",
   "metadata": {},
   "outputs": [
    {
     "name": "stderr",
     "output_type": "stream",
     "text": [
      "C:\\Users\\shaun\\AppData\\Local\\Temp/ipykernel_21192/3821460752.py:2: SettingWithCopyWarning: \n",
      "A value is trying to be set on a copy of a slice from a DataFrame.\n",
      "Try using .loc[row_indexer,col_indexer] = value instead\n",
      "\n",
      "See the caveats in the documentation: https://pandas.pydata.org/pandas-docs/stable/user_guide/indexing.html#returning-a-view-versus-a-copy\n",
      "  data['Predicted SSOC 2015 v18'] = ''\n",
      "C:\\Users\\shaun\\AppData\\Local\\Temp/ipykernel_21192/3821460752.py:3: SettingWithCopyWarning: \n",
      "A value is trying to be set on a copy of a slice from a DataFrame.\n",
      "Try using .loc[row_indexer,col_indexer] = value instead\n",
      "\n",
      "See the caveats in the documentation: https://pandas.pydata.org/pandas-docs/stable/user_guide/indexing.html#returning-a-view-versus-a-copy\n",
      "  data['Predicted SSOC 2020'] = ''\n",
      "C:\\Users\\shaun\\AppData\\Local\\Temp/ipykernel_21192/3821460752.py:5: SettingWithCopyWarning: \n",
      "A value is trying to be set on a copy of a slice from a DataFrame\n",
      "\n",
      "See the caveats in the documentation: https://pandas.pydata.org/pandas-docs/stable/user_guide/indexing.html#returning-a-view-versus-a-copy\n",
      "  data['Predicted SSOC 2015 v18'][i] = ','.join([p.replace('__label__', '') for p in pred])\n",
      "C:\\Users\\shaun\\AppData\\Local\\Temp/ipykernel_21192/3821460752.py:6: SettingWithCopyWarning: \n",
      "A value is trying to be set on a copy of a slice from a DataFrame\n",
      "\n",
      "See the caveats in the documentation: https://pandas.pydata.org/pandas-docs/stable/user_guide/indexing.html#returning-a-view-versus-a-copy\n",
      "  data['Predicted SSOC 2020'][i] = ','.join([mapping[p.replace('__label__', '')] for p in pred])\n"
     ]
    }
   ],
   "source": [
    "preds_raw = model.predict(np.array(data['Description']), k = 5)\n",
    "data['Predicted SSOC 2015 v18'] = ''\n",
    "data['Predicted SSOC 2020'] = ''\n",
    "for i, pred in enumerate(preds_raw):\n",
    "    data['Predicted SSOC 2015 v18'][i] = ','.join([p.replace('__label__', '') for p in pred])\n",
    "    data['Predicted SSOC 2020'][i] = ','.join([mapping[p.replace('__label__', '')] for p in pred])"
   ]
  },
  {
   "cell_type": "code",
   "execution_count": 28,
   "id": "dae3ecdb-dcc7-4710-8e86-e7d92bddf85b",
   "metadata": {},
   "outputs": [
    {
     "data": {
      "text/html": [
       "<div>\n",
       "<style scoped>\n",
       "    .dataframe tbody tr th:only-of-type {\n",
       "        vertical-align: middle;\n",
       "    }\n",
       "\n",
       "    .dataframe tbody tr th {\n",
       "        vertical-align: top;\n",
       "    }\n",
       "\n",
       "    .dataframe thead th {\n",
       "        text-align: right;\n",
       "    }\n",
       "</style>\n",
       "<table border=\"1\" class=\"dataframe\">\n",
       "  <thead>\n",
       "    <tr style=\"text-align: right;\">\n",
       "      <th></th>\n",
       "      <th>SSOC 2020</th>\n",
       "      <th>Description</th>\n",
       "      <th>Predicted SSOC 2015 v18</th>\n",
       "      <th>Predicted SSOC 2020</th>\n",
       "    </tr>\n",
       "  </thead>\n",
       "  <tbody>\n",
       "    <tr>\n",
       "      <th>0</th>\n",
       "      <td>11110</td>\n",
       "      <td>Legislator determines, formulates and directs ...</td>\n",
       "      <td>33499,13499,12121,11201,33451</td>\n",
       "      <td>33499,13499,12121,11201,24233</td>\n",
       "    </tr>\n",
       "    <tr>\n",
       "      <th>1</th>\n",
       "      <td>11121</td>\n",
       "      <td>Senior government official plans, organises an...</td>\n",
       "      <td>13499,24220,12121,13301,13211</td>\n",
       "      <td>13499,24220,12121,13301,13210</td>\n",
       "    </tr>\n",
       "    <tr>\n",
       "      <th>2</th>\n",
       "      <td>11122</td>\n",
       "      <td>Senior statutory board official plans, organis...</td>\n",
       "      <td>12121,24220,13499,11201,13211</td>\n",
       "      <td>12121,24220,13499,11201,13210</td>\n",
       "    </tr>\n",
       "    <tr>\n",
       "      <th>3</th>\n",
       "      <td>11140</td>\n",
       "      <td>Senior official of political party organisatio...</td>\n",
       "      <td>33312,11201,11202,43231,26119</td>\n",
       "      <td>33312,11201,11202,43231,26119</td>\n",
       "    </tr>\n",
       "    <tr>\n",
       "      <th>4</th>\n",
       "      <td>11150</td>\n",
       "      <td>Senior official of employers', workers' and ot...</td>\n",
       "      <td>11201,11202,11203,33312,26431</td>\n",
       "      <td>11201,11202,11203,33312,26431</td>\n",
       "    </tr>\n",
       "  </tbody>\n",
       "</table>\n",
       "</div>"
      ],
      "text/plain": [
       "  SSOC 2020                                        Description  \\\n",
       "0     11110  Legislator determines, formulates and directs ...   \n",
       "1     11121  Senior government official plans, organises an...   \n",
       "2     11122  Senior statutory board official plans, organis...   \n",
       "3     11140  Senior official of political party organisatio...   \n",
       "4     11150  Senior official of employers', workers' and ot...   \n",
       "\n",
       "         Predicted SSOC 2015 v18            Predicted SSOC 2020  \n",
       "0  33499,13499,12121,11201,33451  33499,13499,12121,11201,24233  \n",
       "1  13499,24220,12121,13301,13211  13499,24220,12121,13301,13210  \n",
       "2  12121,24220,13499,11201,13211  12121,24220,13499,11201,13210  \n",
       "3  33312,11201,11202,43231,26119  33312,11201,11202,43231,26119  \n",
       "4  11201,11202,11203,33312,26431  11201,11202,11203,33312,26431  "
      ]
     },
     "execution_count": 28,
     "metadata": {},
     "output_type": "execute_result"
    }
   ],
   "source": [
    "data.head()"
   ]
  },
  {
   "cell_type": "markdown",
   "id": "59fbf428-a25f-40da-a435-74cff3b03127",
   "metadata": {},
   "source": [
    "Run below if k > 1 to calculate accuracy"
   ]
  },
  {
   "cell_type": "code",
   "execution_count": 29,
   "id": "8a7e3894-ad36-433f-af6e-ce2f2961bf0e",
   "metadata": {},
   "outputs": [
    {
     "name": "stderr",
     "output_type": "stream",
     "text": [
      "C:\\Users\\shaun\\AppData\\Local\\Temp/ipykernel_21192/2854996636.py:4: SettingWithCopyWarning: \n",
      "A value is trying to be set on a copy of a slice from a DataFrame.\n",
      "Try using .loc[row_indexer,col_indexer] = value instead\n",
      "\n",
      "See the caveats in the documentation: https://pandas.pydata.org/pandas-docs/stable/user_guide/indexing.html#returning-a-view-versus-a-copy\n",
      "  data[f'Correct_{lvl}D'] = False\n",
      "C:\\Users\\shaun\\AppData\\Local\\Temp/ipykernel_21192/2854996636.py:6: SettingWithCopyWarning: \n",
      "A value is trying to be set on a copy of a slice from a DataFrame\n",
      "\n",
      "See the caveats in the documentation: https://pandas.pydata.org/pandas-docs/stable/user_guide/indexing.html#returning-a-view-versus-a-copy\n",
      "  data[f'Correct_{lvl}D'][i] = data['SSOC 2020'][i][0:lvl] in [ssoc[0:lvl] for ssoc in data['Predicted SSOC 2020'][i].split(',')]\n"
     ]
    }
   ],
   "source": [
    "# Generate True/False depending on whether the actual SSOC is contained within the predicted SSOCs, at the 1D to 5D levels\n",
    "level = 5\n",
    "for lvl in range(1, level + 1):\n",
    "    data[f'Correct_{lvl}D'] = False\n",
    "    for i in range(len(data)):\n",
    "        data[f'Correct_{lvl}D'][i] = data['SSOC 2020'][i][0:lvl] in [ssoc[0:lvl] for ssoc in data['Predicted SSOC 2020'][i].split(',')]"
   ]
  },
  {
   "cell_type": "code",
   "execution_count": 30,
   "id": "3c335474-07ad-4242-aa3f-0b2ae2c8f01f",
   "metadata": {},
   "outputs": [
    {
     "data": {
      "text/plain": [
       "False    0.677031\n",
       "True     0.322969\n",
       "Name: Correct_5D, dtype: float64"
      ]
     },
     "execution_count": 30,
     "metadata": {},
     "output_type": "execute_result"
    }
   ],
   "source": [
    "# Check accuracy rate at the 5D level\n",
    "data['Correct_5D'].value_counts(normalize = True)"
   ]
  },
  {
   "cell_type": "code",
   "execution_count": 152,
   "id": "0be24ca6-ba28-4249-a259-ce0c0bf24d39",
   "metadata": {},
   "outputs": [],
   "source": [
    "# Breakdown by any SSOC level to check accuracy\n",
    "data['1D SSOC'] = data['SSOC 2020'].str.slice(0,1)\n",
    "data['2D SSOC'] = data['SSOC 2020'].str.slice(0,2)\n",
    "data['3D SSOC'] = data['SSOC 2020'].str.slice(0,3)\n",
    "data['4D SSOC'] = data['SSOC 2020'].str.slice(0,4)\n",
    "accuracy_1d = data.groupby('1D SSOC').agg({'SSOC 2020': 'count', 'Correct_1D': 'sum'})"
   ]
  },
  {
   "cell_type": "code",
   "execution_count": 153,
   "id": "8561c1a4-5532-4e9f-ad23-e3649c27ed2e",
   "metadata": {},
   "outputs": [],
   "source": [
    "accuracy_1d['Percentage Correct'] = accuracy_1d['Correct_1D'] / accuracy_1d['SSOC 2020'] * 100"
   ]
  },
  {
   "cell_type": "code",
   "execution_count": 154,
   "id": "acf5339a-6a81-420a-9340-96a19132fa2b",
   "metadata": {},
   "outputs": [
    {
     "data": {
      "text/html": [
       "<div>\n",
       "<style scoped>\n",
       "    .dataframe tbody tr th:only-of-type {\n",
       "        vertical-align: middle;\n",
       "    }\n",
       "\n",
       "    .dataframe tbody tr th {\n",
       "        vertical-align: top;\n",
       "    }\n",
       "\n",
       "    .dataframe thead th {\n",
       "        text-align: right;\n",
       "    }\n",
       "</style>\n",
       "<table border=\"1\" class=\"dataframe\">\n",
       "  <thead>\n",
       "    <tr style=\"text-align: right;\">\n",
       "      <th></th>\n",
       "      <th>Count</th>\n",
       "      <th>Correct_1D</th>\n",
       "      <th>Percentage Correct</th>\n",
       "    </tr>\n",
       "    <tr>\n",
       "      <th>1D SSOC</th>\n",
       "      <th></th>\n",
       "      <th></th>\n",
       "      <th></th>\n",
       "    </tr>\n",
       "  </thead>\n",
       "  <tbody>\n",
       "    <tr>\n",
       "      <th>1</th>\n",
       "      <td>80</td>\n",
       "      <td>68</td>\n",
       "      <td>85.000000</td>\n",
       "    </tr>\n",
       "    <tr>\n",
       "      <th>2</th>\n",
       "      <td>294</td>\n",
       "      <td>282</td>\n",
       "      <td>95.918367</td>\n",
       "    </tr>\n",
       "    <tr>\n",
       "      <th>3</th>\n",
       "      <td>216</td>\n",
       "      <td>202</td>\n",
       "      <td>93.518519</td>\n",
       "    </tr>\n",
       "    <tr>\n",
       "      <th>4</th>\n",
       "      <td>60</td>\n",
       "      <td>57</td>\n",
       "      <td>95.000000</td>\n",
       "    </tr>\n",
       "    <tr>\n",
       "      <th>5</th>\n",
       "      <td>88</td>\n",
       "      <td>68</td>\n",
       "      <td>77.272727</td>\n",
       "    </tr>\n",
       "    <tr>\n",
       "      <th>6</th>\n",
       "      <td>12</td>\n",
       "      <td>3</td>\n",
       "      <td>25.000000</td>\n",
       "    </tr>\n",
       "    <tr>\n",
       "      <th>7</th>\n",
       "      <td>99</td>\n",
       "      <td>51</td>\n",
       "      <td>51.515152</td>\n",
       "    </tr>\n",
       "    <tr>\n",
       "      <th>8</th>\n",
       "      <td>82</td>\n",
       "      <td>38</td>\n",
       "      <td>46.341463</td>\n",
       "    </tr>\n",
       "    <tr>\n",
       "      <th>9</th>\n",
       "      <td>66</td>\n",
       "      <td>52</td>\n",
       "      <td>78.787879</td>\n",
       "    </tr>\n",
       "  </tbody>\n",
       "</table>\n",
       "</div>"
      ],
      "text/plain": [
       "         Count  Correct_1D  Percentage Correct\n",
       "1D SSOC                                       \n",
       "1           80          68           85.000000\n",
       "2          294         282           95.918367\n",
       "3          216         202           93.518519\n",
       "4           60          57           95.000000\n",
       "5           88          68           77.272727\n",
       "6           12           3           25.000000\n",
       "7           99          51           51.515152\n",
       "8           82          38           46.341463\n",
       "9           66          52           78.787879"
      ]
     },
     "execution_count": 154,
     "metadata": {},
     "output_type": "execute_result"
    }
   ],
   "source": [
    "accuracy_1d.rename({'SSOC 2020': 'Count'}, axis = 1)"
   ]
  },
  {
   "cell_type": "markdown",
   "id": "1516e2aa-c10c-43e3-968c-a7a8558bef7b",
   "metadata": {},
   "source": [
    "Run below if k = 1"
   ]
  },
  {
   "cell_type": "code",
   "execution_count": 62,
   "id": "8d78fcd5-77a5-49fe-9ed8-79a8c70d3823",
   "metadata": {},
   "outputs": [],
   "source": [
    "final = data.merge(ssoc_v2020[['SSOC 2020', 'SSOC 2020 Title']].drop_duplicates('SSOC 2020'), how = 'left', on = 'SSOC 2020').merge(ssoc_v2020[['SSOC 2020', 'SSOC 2020 Title']].drop_duplicates('SSOC 2020'), how = 'left', left_on = 'Predicted SSOC 2020', right_on = 'SSOC 2020')"
   ]
  },
  {
   "cell_type": "code",
   "execution_count": 63,
   "id": "a5456c6b-6792-47af-a7ec-54179570da89",
   "metadata": {},
   "outputs": [],
   "source": [
    "final = final.rename({'SSOC 2020 Title_x': 'Actual SSOC Title', 'SSOC 2020 Title_y': 'Predicted SSOC Title', 'SSOC 2020_x': 'Actual SSOC 2020'}, axis = 1)"
   ]
  },
  {
   "cell_type": "markdown",
   "id": "223887fa-d622-4530-ad3c-4ebc70d33bcb",
   "metadata": {},
   "source": [
    "Calculate the score at the 1D SSOC level"
   ]
  },
  {
   "cell_type": "code",
   "execution_count": 75,
   "id": "9c6adf56-bbde-4409-967f-f719eadfc978",
   "metadata": {},
   "outputs": [
    {
     "data": {
      "text/plain": [
       "False    0.865597\n",
       "True     0.134403\n",
       "dtype: float64"
      ]
     },
     "execution_count": 75,
     "metadata": {},
     "output_type": "execute_result"
    }
   ],
   "source": [
    "level = 5\n",
    "(final['Actual SSOC 2020'].str.slice(0,level) == final['Predicted SSOC 2020'].str.slice(0,level)).value_counts(normalize = True)"
   ]
  },
  {
   "cell_type": "code",
   "execution_count": 65,
   "id": "03b70ff3-1a4d-4dbf-bd19-ae5a5029fe0d",
   "metadata": {},
   "outputs": [
    {
     "name": "stdout",
     "output_type": "stream",
     "text": [
      "Actual: Building construction engineer (21422)\n",
      "Predicted: Other engineering professionals n.e.c. (21499)\n",
      "------------------------------------------------------\n",
      "Building construction engineer determines and specifies construction methods, materials and quality standards, and directs construction work. He/she integrates engineering principles into designs of large buildings to ensure that structures are safe and structurally sound. He/she also plans, organises and supervises the erection, maintenance and repair of buildings. He/she works together with architects and other engineers to transform design ideas into executable plans. - conducting research and developing new or improved theories and methods related to civil engineering\n",
      "- advising on and designing structures such as bridges, dams, docks, roads, airports, railways, canals, pipelines, waste-disposal and flood-control systems, and industrial and other large buildings\n",
      "- determining and specifying construction methods, materials and quality standards, and directing construction work\n",
      "- establishing control systems to ensure efficient functioning of structures as well as safety and environmental protection\n",
      "- organising and directing maintenance and repair of existing civil engineering structures\n",
      "- analysing the behaviour of soil and rock when placed under pressure by proposed structures and designing structural foundations\n",
      "- analysing the stability of structures and testing the behaviour and durability of materials used in their construction\n"
     ]
    }
   ],
   "source": [
    "idx = 115\n",
    "print(f\"Actual: {final['Actual SSOC Title'][idx]} ({final['Actual SSOC 2020'][idx]})\")\n",
    "print(f\"Predicted: {final['Predicted SSOC Title'][idx]} ({final['Predicted SSOC 2020'][idx]})\")\n",
    "print('------------------------------------------------------')\n",
    "print(final['Description'][idx])"
   ]
  },
  {
   "cell_type": "code",
   "execution_count": 74,
   "id": "d9d81cf3-4a53-4757-9db6-53124947b2ee",
   "metadata": {},
   "outputs": [
    {
     "data": {
      "text/html": [
       "<div>\n",
       "<style scoped>\n",
       "    .dataframe tbody tr th:only-of-type {\n",
       "        vertical-align: middle;\n",
       "    }\n",
       "\n",
       "    .dataframe tbody tr th {\n",
       "        vertical-align: top;\n",
       "    }\n",
       "\n",
       "    .dataframe thead th {\n",
       "        text-align: right;\n",
       "    }\n",
       "</style>\n",
       "<table border=\"1\" class=\"dataframe\">\n",
       "  <thead>\n",
       "    <tr style=\"text-align: right;\">\n",
       "      <th></th>\n",
       "      <th>Actual SSOC 2020</th>\n",
       "      <th>Description</th>\n",
       "      <th>Predictions</th>\n",
       "      <th>Predicted SSOC 2015 v18</th>\n",
       "      <th>Predicted SSOC 2020</th>\n",
       "      <th>Actual SSOC Title</th>\n",
       "      <th>SSOC 2020_y</th>\n",
       "      <th>Predicted SSOC Title</th>\n",
       "    </tr>\n",
       "  </thead>\n",
       "  <tbody>\n",
       "    <tr>\n",
       "      <th>80</th>\n",
       "      <td>21110</td>\n",
       "      <td>Physicist/Astronomer conducts research, improv...</td>\n",
       "      <td>32599</td>\n",
       "      <td>32599</td>\n",
       "      <td>32599</td>\n",
       "      <td>Physicist/Astronomer</td>\n",
       "      <td>32599</td>\n",
       "      <td>Other health associate professionals n.e.c.</td>\n",
       "    </tr>\n",
       "    <tr>\n",
       "      <th>81</th>\n",
       "      <td>21120</td>\n",
       "      <td>Meteorologist prepares short-term or long-term...</td>\n",
       "      <td>11202</td>\n",
       "      <td>11202</td>\n",
       "      <td>11202</td>\n",
       "      <td>Meteorologist</td>\n",
       "      <td>11202</td>\n",
       "      <td>Company director</td>\n",
       "    </tr>\n",
       "    <tr>\n",
       "      <th>83</th>\n",
       "      <td>21141</td>\n",
       "      <td>Geologist conducts research into the nature an...</td>\n",
       "      <td>29090</td>\n",
       "      <td>29090</td>\n",
       "      <td>Deleted</td>\n",
       "      <td>Geologist</td>\n",
       "      <td>Deleted</td>\n",
       "      <td>NaN</td>\n",
       "    </tr>\n",
       "    <tr>\n",
       "      <th>84</th>\n",
       "      <td>21142</td>\n",
       "      <td>Geophysicist conducts research into the physic...</td>\n",
       "      <td>29090</td>\n",
       "      <td>29090</td>\n",
       "      <td>Deleted</td>\n",
       "      <td>Geophysicist</td>\n",
       "      <td>Deleted</td>\n",
       "      <td>NaN</td>\n",
       "    </tr>\n",
       "    <tr>\n",
       "      <th>85</th>\n",
       "      <td>21149</td>\n",
       "      <td>This group includes physical science professio...</td>\n",
       "      <td>29090</td>\n",
       "      <td>29090</td>\n",
       "      <td>Deleted</td>\n",
       "      <td>Other physical science professionals</td>\n",
       "      <td>Deleted</td>\n",
       "      <td>NaN</td>\n",
       "    </tr>\n",
       "    <tr>\n",
       "      <th>...</th>\n",
       "      <td>...</td>\n",
       "      <td>...</td>\n",
       "      <td>...</td>\n",
       "      <td>...</td>\n",
       "      <td>...</td>\n",
       "      <td>...</td>\n",
       "      <td>...</td>\n",
       "      <td>...</td>\n",
       "    </tr>\n",
       "    <tr>\n",
       "      <th>992</th>\n",
       "      <td>96272</td>\n",
       "      <td>Concierge (hotel) serves as the point of conta...</td>\n",
       "      <td>29090</td>\n",
       "      <td>29090</td>\n",
       "      <td>Deleted</td>\n",
       "      <td>Concierge (hotel)</td>\n",
       "      <td>Deleted</td>\n",
       "      <td>NaN</td>\n",
       "    </tr>\n",
       "    <tr>\n",
       "      <th>993</th>\n",
       "      <td>96291</td>\n",
       "      <td>Leaflet and newspaper distributor/deliverer ha...</td>\n",
       "      <td>83322</td>\n",
       "      <td>83322</td>\n",
       "      <td>83322</td>\n",
       "      <td>Leaflet and newspaper distributor/deliverer</td>\n",
       "      <td>83322</td>\n",
       "      <td>Trailer-truck driver (including prime mover dr...</td>\n",
       "    </tr>\n",
       "    <tr>\n",
       "      <th>994</th>\n",
       "      <td>96292</td>\n",
       "      <td>Meter reader/Vending-machine collector reads e...</td>\n",
       "      <td>83329</td>\n",
       "      <td>83329</td>\n",
       "      <td>83329</td>\n",
       "      <td>Meter reader/Vending-machine collector</td>\n",
       "      <td>83329</td>\n",
       "      <td>Other heavy truck and lorry drivers</td>\n",
       "    </tr>\n",
       "    <tr>\n",
       "      <th>995</th>\n",
       "      <td>96293</td>\n",
       "      <td>Odd job person performs tasks of a simple and ...</td>\n",
       "      <td>83441</td>\n",
       "      <td>83441</td>\n",
       "      <td>83441</td>\n",
       "      <td>Odd job person</td>\n",
       "      <td>83441</td>\n",
       "      <td>Fork lift truck operator</td>\n",
       "    </tr>\n",
       "    <tr>\n",
       "      <th>996</th>\n",
       "      <td>96299</td>\n",
       "      <td>This group includes elementary workers not els...</td>\n",
       "      <td>83322</td>\n",
       "      <td>83322</td>\n",
       "      <td>83322</td>\n",
       "      <td>Other elementary workers n.e.c.</td>\n",
       "      <td>83322</td>\n",
       "      <td>Trailer-truck driver (including prime mover dr...</td>\n",
       "    </tr>\n",
       "  </tbody>\n",
       "</table>\n",
       "<p>515 rows × 8 columns</p>\n",
       "</div>"
      ],
      "text/plain": [
       "    Actual SSOC 2020                                        Description  \\\n",
       "80             21110  Physicist/Astronomer conducts research, improv...   \n",
       "81             21120  Meteorologist prepares short-term or long-term...   \n",
       "83             21141  Geologist conducts research into the nature an...   \n",
       "84             21142  Geophysicist conducts research into the physic...   \n",
       "85             21149  This group includes physical science professio...   \n",
       "..               ...                                                ...   \n",
       "992            96272  Concierge (hotel) serves as the point of conta...   \n",
       "993            96291  Leaflet and newspaper distributor/deliverer ha...   \n",
       "994            96292  Meter reader/Vending-machine collector reads e...   \n",
       "995            96293  Odd job person performs tasks of a simple and ...   \n",
       "996            96299  This group includes elementary workers not els...   \n",
       "\n",
       "    Predictions Predicted SSOC 2015 v18 Predicted SSOC 2020  \\\n",
       "80        32599                   32599               32599   \n",
       "81        11202                   11202               11202   \n",
       "83        29090                   29090             Deleted   \n",
       "84        29090                   29090             Deleted   \n",
       "85        29090                   29090             Deleted   \n",
       "..          ...                     ...                 ...   \n",
       "992       29090                   29090             Deleted   \n",
       "993       83322                   83322               83322   \n",
       "994       83329                   83329               83329   \n",
       "995       83441                   83441               83441   \n",
       "996       83322                   83322               83322   \n",
       "\n",
       "                               Actual SSOC Title SSOC 2020_y  \\\n",
       "80                          Physicist/Astronomer       32599   \n",
       "81                                 Meteorologist       11202   \n",
       "83                                     Geologist     Deleted   \n",
       "84                                  Geophysicist     Deleted   \n",
       "85          Other physical science professionals     Deleted   \n",
       "..                                           ...         ...   \n",
       "992                            Concierge (hotel)     Deleted   \n",
       "993  Leaflet and newspaper distributor/deliverer       83322   \n",
       "994       Meter reader/Vending-machine collector       83329   \n",
       "995                               Odd job person       83441   \n",
       "996              Other elementary workers n.e.c.       83322   \n",
       "\n",
       "                                  Predicted SSOC Title  \n",
       "80         Other health associate professionals n.e.c.  \n",
       "81                                    Company director  \n",
       "83                                                 NaN  \n",
       "84                                                 NaN  \n",
       "85                                                 NaN  \n",
       "..                                                 ...  \n",
       "992                                                NaN  \n",
       "993  Trailer-truck driver (including prime mover dr...  \n",
       "994                Other heavy truck and lorry drivers  \n",
       "995                           Fork lift truck operator  \n",
       "996  Trailer-truck driver (including prime mover dr...  \n",
       "\n",
       "[515 rows x 8 columns]"
      ]
     },
     "execution_count": 74,
     "metadata": {},
     "output_type": "execute_result"
    }
   ],
   "source": [
    "final[(final['Actual SSOC 2020'].str.slice(0,1) != '1') & (final['Actual SSOC 2020'].str.slice(0,level) != final['Predicted SSOC 2020'].str.slice(0,level))]"
   ]
  }
 ],
 "metadata": {
  "kernelspec": {
   "display_name": "Python 3 (ipykernel)",
   "language": "python",
   "name": "python3"
  },
  "language_info": {
   "codemirror_mode": {
    "name": "ipython",
    "version": 3
   },
   "file_extension": ".py",
   "mimetype": "text/x-python",
   "name": "python",
   "nbconvert_exporter": "python",
   "pygments_lexer": "ipython3",
   "version": "3.9.5"
  }
 },
 "nbformat": 4,
 "nbformat_minor": 5
}
