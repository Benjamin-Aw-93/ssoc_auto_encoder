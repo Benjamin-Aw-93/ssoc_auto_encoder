{
 "cells": [
  {
   "cell_type": "markdown",
   "id": "eb458481-b243-450e-a56b-faf9a32e2749",
   "metadata": {},
   "source": [
    "## Data Augmentation\n",
    "\n",
    "In this notebook, we aim to resolve the data quality issue through various methods of augmenting our dataset."
   ]
  },
  {
   "cell_type": "markdown",
   "id": "c7d5d3db-2324-4b50-b8b2-653cf344db88",
   "metadata": {
    "tags": []
   },
   "source": [
    "### A) Setting up"
   ]
  },
  {
   "cell_type": "code",
   "execution_count": 1,
   "id": "61863244-e9e0-46e3-aeb0-71ebb62a3c86",
   "metadata": {},
   "outputs": [],
   "source": [
    "import os\n",
    "os.chdir('..')"
   ]
  },
  {
   "cell_type": "code",
   "execution_count": null,
   "id": "97231c13-250c-4070-b4fb-2712a55e9570",
   "metadata": {},
   "outputs": [],
   "source": [
    "import nlpaug.augmenter.char as nac\n",
    "import nlpaug.augmenter.word as naw\n",
    "import nlpaug.augmenter.sentence as nas\n",
    "import nlpaug.flow as nafc\n",
    "from nlpaug.util import Action"
   ]
  },
  {
   "cell_type": "code",
   "execution_count": 13,
   "id": "d12f5c09-43f2-468a-9d91-50cca94c1452",
   "metadata": {},
   "outputs": [],
   "source": [
    "# Download fasttext model, only run once\n",
    "#from nlpaug.util.file.download import DownloadUtil\n",
    "#DownloadUtil.download_fasttext(model_name = 'wiki-news-300d-1M', dest_dir = 'Models')"
   ]
  },
  {
   "cell_type": "code",
   "execution_count": 14,
   "id": "2105ff68-5db0-4bed-8329-e9bf06f140c2",
   "metadata": {},
   "outputs": [
    {
     "name": "stderr",
     "output_type": "stream",
     "text": [
      "[nltk_data] Downloading package averaged_perceptron_tagger to\n",
      "[nltk_data]     C:\\Users\\shaun\\AppData\\Roaming\\nltk_data...\n",
      "[nltk_data]   Unzipping taggers\\averaged_perceptron_tagger.zip.\n"
     ]
    },
    {
     "data": {
      "text/plain": [
       "True"
      ]
     },
     "execution_count": 14,
     "metadata": {},
     "output_type": "execute_result"
    }
   ],
   "source": [
    "#import nltk\n",
    "#nltk.download('averaged_perceptron_tagger')"
   ]
  },
  {
   "cell_type": "code",
   "execution_count": 3,
   "id": "c6869ff8-a264-4642-b51e-d1b2a316f3d9",
   "metadata": {},
   "outputs": [],
   "source": [
    "model_dir = 'Models/'"
   ]
  },
  {
   "cell_type": "code",
   "execution_count": 2,
   "id": "35976d66-fadd-4064-a52a-30099ee75af5",
   "metadata": {},
   "outputs": [],
   "source": [
    "import pandas as pd\n",
    "SSOC_2020 = pd.read_csv('Data/Processed/Training/train-aws/SSOC_2020.csv')\n",
    "data = pd.read_csv('Data/Processed/Training/train-aws/train_full.csv')\n",
    "extra_info = pd.read_csv('Data/Processed/MCF_Training_Set_Full.csv')"
   ]
  },
  {
   "cell_type": "code",
   "execution_count": 40,
   "id": "e013656f-5a10-412c-a374-646c611bddaa",
   "metadata": {},
   "outputs": [],
   "source": [
    "# with open('ssoc_autocoder/sentaugment/data/sentences.txt', 'w') as f:\n",
    "#     for item in SSOC_2020['Description'][295:296]:\n",
    "#         f.write(\"%s\\n\" % ''.join([i if ord(i) < 128 else ' ' for i in item]))\n",
    "#         f.write(\"%s\\n\" % ''.join([i if ord(i) < 128 else ' ' for i in item]))"
   ]
  },
  {
   "cell_type": "markdown",
   "id": "01a02bb7-0629-4205-9dc9-c764dffd9b59",
   "metadata": {
    "tags": []
   },
   "source": [
    "### B) Testing different types of augmentation"
   ]
  },
  {
   "cell_type": "code",
   "execution_count": 37,
   "id": "f6c5cfd8-991b-478d-9068-033c81abd1c8",
   "metadata": {},
   "outputs": [],
   "source": [
    "text = SSOC_2020['Description'][SSOC_2020['SSOC 2020'] == 25121].values[0]"
   ]
  },
  {
   "cell_type": "code",
   "execution_count": 38,
   "id": "b1dd1d0d-90c9-4b66-9da0-6f32c8bd52a6",
   "metadata": {},
   "outputs": [
    {
     "name": "stdout",
     "output_type": "stream",
     "text": [
      "Software developer researches, designs and develops computer and network software or specialised utility programs. He/she analyses user needs and develops software solutions, applying principles and techniques of computer science, engineering, and mathematical analysis. He/she also updates software, enhances existing software capabilities, and develops and directs software testing and validation procedures. He/she may work with computer hardware engineers to integrate hardware and software systems, and develop specifications and performance requirements. . researching, analysing and evaluating requirements for software, web and multimedia applications. designing, and developing computer software, web and multimedia systems. designing and developing digital animations, imaging, presentations, games, audio and video clips, and Internet applications using multimedia software, tools and utilities, interactive graphics and programming languages. consulting with engineering staff to evaluate interface between hardware and software. developing and directing software testing and validation procedures. modifying existing software to correct errors, to adapt it to new hardware or to upgrade interfaces and improve performance. directing software programming and development of documentation. assessing, developing, upgrading and documenting maintenance procedures for software, web and multimedia applications. assisting in analysing, specifying and developing Internet strategies, web.based methodologies and development plans. consulting with customers concerning maintenance of software, web and multimedia systems\n"
     ]
    }
   ],
   "source": [
    "print(text)"
   ]
  },
  {
   "cell_type": "markdown",
   "id": "5b592db7-5867-42fe-9584-97bd33055768",
   "metadata": {},
   "source": [
    "#### 1. Using pretrained word embeddings (`fasttext`)"
   ]
  },
  {
   "cell_type": "code",
   "execution_count": 23,
   "id": "3b1283d0-3b97-4841-aa94-538080a89337",
   "metadata": {},
   "outputs": [],
   "source": [
    "fasttext_aug = naw.WordEmbsAug(model_type = 'fasttext', \n",
    "                               model_path = model_dir + 'wiki-news-300d-1M.vec',\n",
    "                               action = \"substitute\",\n",
    "                               top_k = 5,\n",
    "                               aug_p = 0.5,\n",
    "                               aug_min = 10,\n",
    "                               aug_max = None)"
   ]
  },
  {
   "cell_type": "code",
   "execution_count": 40,
   "id": "f37eadad-aa61-42a7-b1cf-b1aa7cfe9e07",
   "metadata": {},
   "outputs": [
    {
     "name": "stdout",
     "output_type": "stream",
     "text": [
      "Politician determine, formulates which directs governement policies. His / --she creates, ratifies, amends either repeals laws, pubic rules. but regulations withing the statutory whether constitutional framework. . supreme nearly whether participating in to hearings the parliament. determining, formulating in directed govenment policies. make, approving, amending even repeals rules, pulic rule with regulations. investigating issues with interest to a public with promoting on interests in the electorate nevertheless they comprise. although memebers of the government, directing juniors admins and officals with govenment departments with statutory boards in a interpretation and implemenation with governemnt procedures\n"
     ]
    }
   ],
   "source": [
    "fasttext_augmented_text = aug.augment(text, num_thread = 4)\n",
    "print(fasttext_augmented_text)"
   ]
  },
  {
   "cell_type": "markdown",
   "id": "4b6bbe65-a6e3-4308-8278-aae853ccda50",
   "metadata": {},
   "source": [
    "#### 2. Using back translation\n",
    "Back translation means translating the whole text to another language and back to English."
   ]
  },
  {
   "cell_type": "code",
   "execution_count": 36,
   "id": "01088545-3e4c-4b03-b521-2e827db0a9d5",
   "metadata": {},
   "outputs": [],
   "source": [
    "back_translation_aug = naw.BackTranslationAug(from_model_name='facebook/wmt19-en-de', \n",
    "                                              to_model_name='facebook/wmt19-de-en',\n",
    "                                              device = 'cuda',\n",
    "                                              max_length = 2000)"
   ]
  },
  {
   "cell_type": "code",
   "execution_count": 39,
   "id": "768ee4f2-a81b-4471-9205-8e77eafb5ebf",
   "metadata": {},
   "outputs": [
    {
     "name": "stdout",
     "output_type": "stream",
     "text": [
      "The legislator determines, formulates and directs government policy. He / she adopts, ratifies, amends or repeals laws, public rules and ordinances within a legal or constitutional framework. He / she presides or participates in the proceedings of parliament. He / she determines, formulates and directs government policy. He / she adopts, ratifies, amends or repeals laws, public rules and ordinances. He / she investigates matters concerning the public and promotes the interests of the constituencies he / she represents. As members of government, heads senior administrative officers and officials of government departments and legal bodies in the interpretation and implementation of government policy.\n"
     ]
    }
   ],
   "source": [
    "backtransl_augmented_text = back_translation_aug.augment(text, num_thread = 4)\n",
    "print(backtransl_augmented_text)"
   ]
  },
  {
   "cell_type": "markdown",
   "id": "02cdb789-645c-49c5-a24a-3523db71e97e",
   "metadata": {},
   "source": [
    "#### 3. Using synonyms"
   ]
  },
  {
   "cell_type": "code",
   "execution_count": 10,
   "id": "a2cde746-a31e-402f-9f22-d0c96c038236",
   "metadata": {},
   "outputs": [],
   "source": [
    "synonym_aug = naw.SynonymAug(aug_src = 'ppdb', \n",
    "                             model_path = model_dir + 'ppdb-2.0-tldr',\n",
    "                             aug_p = 0.5,\n",
    "                             aug_min = 10,\n",
    "                             aug_max = None)"
   ]
  },
  {
   "cell_type": "code",
   "execution_count": 15,
   "id": "f6c36ad4-cd24-42ba-8a09-087f453b676c",
   "metadata": {},
   "outputs": [
    {
     "name": "stdout",
     "output_type": "stream",
     "text": [
      "Legislator notes, formulae and directs campaigns directives. He / she enjoys, signs, modifications or repealing acts, public roles and companies inside a obligatory or constitutional foundations. . presiding over or aiding requests the factors of senators. charges, emanating and levelling territories entitled. decisions, concluding, pertaining or discontinuing bylaws, pubic enactments and authorities. checking ingredients of worry to the perceptions and consolidating the interests of the interviewees which they originated. whereas rep of the provinces, advancing high level owners and magistrates of stakeholders parties and regulatory directories during the reinterpretation and applicability of skills agreements\n"
     ]
    }
   ],
   "source": [
    "synonym_augmented_text = synonym_aug.augment(text, num_thread = 4)\n",
    "print(synonym_augmented_text)"
   ]
  },
  {
   "cell_type": "markdown",
   "id": "35939835-17f6-4927-aaf6-3f536814f8c3",
   "metadata": {},
   "source": [
    "#### 4. Using contextual word embeddings"
   ]
  },
  {
   "cell_type": "code",
   "execution_count": 57,
   "id": "62efcf73-52ec-459b-9d2e-567ae0541cfa",
   "metadata": {},
   "outputs": [],
   "source": [
    "distilbert_aug = naw.ContextualWordEmbsAug(model_path = 'distilbert-base-uncased', \n",
    "                                           action = \"substitute\",\n",
    "                                           top_k = 10,\n",
    "                                           aug_p = 0.7,\n",
    "                                           aug_min = 5,\n",
    "                                           aug_max = None,\n",
    "                                           device = 'cuda')"
   ]
  },
  {
   "cell_type": "code",
   "execution_count": 58,
   "id": "2e85f3c1-240b-4bc4-936d-098551e3aa9b",
   "metadata": {},
   "outputs": [
    {
     "name": "stdout",
     "output_type": "stream",
     "text": [
      "he prepares, determines and manages constitutional policy. he / she establishes, ratifies, proposing or enforcing laws, establishing institutions and regulations within a legal or regulatory context.. sitting over or presiding in the sessions of legislatures. interpreting, modifying and interpreting public regulations. proposing, ratifying, enforcing or modifying laws, enforcing laws and regulations. maintaining laws of relevance to the constitution and maintaining the integrity of the parties whom they contest. as president of the legislature, appointing legislative committees and heads of public institutions and governing boards in the implementation and enforcement of laws ;\n"
     ]
    }
   ],
   "source": [
    "distilbert_augmented_text = distilbert_aug.augment(text, num_thread = 4)\n",
    "print(distilbert_augmented_text)"
   ]
  },
  {
   "cell_type": "markdown",
   "id": "98cd06b0-1f5a-498c-9078-5d2eae4a2b58",
   "metadata": {},
   "source": [
    "#### 5. Using sentence augmentation"
   ]
  },
  {
   "cell_type": "code",
   "execution_count": 29,
   "id": "f6e043ca-a196-4fe5-8877-81b09c5df567",
   "metadata": {},
   "outputs": [],
   "source": [
    "sentence_aug = nas.ContextualWordEmbsForSentenceAug(model_path = 'distilgpt2',\n",
    "                                                    min_length = 100,\n",
    "                                                    max_length = 300,\n",
    "                                                    top_k = 50,\n",
    "                                                    top_p = .9,\n",
    "                                                    device = 'cuda')"
   ]
  },
  {
   "cell_type": "code",
   "execution_count": 30,
   "id": "dfd6b579-1e4c-4577-af53-3ea6ea94e971",
   "metadata": {},
   "outputs": [
    {
     "name": "stderr",
     "output_type": "stream",
     "text": [
      "Using pad_token, but it is not set yet.\n"
     ]
    },
    {
     "name": "stdout",
     "output_type": "stream",
     "text": [
      "Legislator determines, formulates and directs government policies. He/she makes, ratifies, amends or repeals laws, public rules and regulations within a statutory or constitutional framework. . presiding over or participating in the proceedings of parliament. determining, formulating and directing government policies. making, ratifying, amending or repealing laws, public rules and regulations. investigating matters of concern to the public and promoting the interests of the constituencies which they represent. as members of the government, directing senior administrators and officials of government departments and statutory boards in the interpretation and implementation of government policies, and coordinating, or managing the functioning of government functions. , implementing, or directing legislation, public rules and regulations. investigating matters of concern to the public and promoting the interests of the constituencies which they represent. As members of the government, directing senior administrators and officials of government departments and statutory boards in the interpretation and implementation of government policies, and coordinating, or managing the functioning of government functions. the public and promoting the interests of the constituencies which they represent. as members of the government, directing senior administrators and officials of government departments and statutory boards in the interpretation and implementation of government policies, and coordinating, or managing the functioning of government functions. as members of the government, directing senior administrators and officials of government departments and statutory boards in the interpretation and implementation of government policies, and coordinating, or managing the functioning of government functions. as members of the government, directing senior administrators and officials of government departments and statutory boards\n"
     ]
    }
   ],
   "source": [
    "sentence_augmented_text = sentence_aug.augment(text, num_thread = 4)\n",
    "print(sentence_augmented_text)"
   ]
  },
  {
   "cell_type": "markdown",
   "id": "388bccb0-f6be-4565-b790-b53bc680415a",
   "metadata": {},
   "source": [
    "#### 6. Using summarisation"
   ]
  },
  {
   "cell_type": "code",
   "execution_count": 41,
   "id": "baff5459-bc6e-46f4-8b0e-1f978b273a9d",
   "metadata": {},
   "outputs": [],
   "source": [
    "summ_aug = nas.AbstSummAug(model_path = 't5-base', \n",
    "                           min_length = 50,\n",
    "                           max_length = 100,\n",
    "                           top_k = 20)"
   ]
  },
  {
   "cell_type": "code",
   "execution_count": 45,
   "id": "53f69f5c-9fb0-4228-9863-45678c53031b",
   "metadata": {},
   "outputs": [],
   "source": [
    "summ_augmented_text = summ_aug.augment(text, num_thread = 4)"
   ]
  },
  {
   "cell_type": "code",
   "execution_count": 46,
   "id": "7a1d2662-dce8-4872-9191-2d55f1d817d0",
   "metadata": {},
   "outputs": [
    {
     "data": {
      "text/plain": [
       "'Legislator determines, formulates and directs government policies . makes, ratifies, amends or repeals laws, public rules and regulations . investigating matters of concern to the public and promoting the interests of the constituencies which they represent .'"
      ]
     },
     "execution_count": 46,
     "metadata": {},
     "output_type": "execute_result"
    }
   ],
   "source": [
    "summ_augmented_text"
   ]
  },
  {
   "cell_type": "markdown",
   "id": "65a2eae7-d6ae-49ae-823c-6e7ab82b8f2c",
   "metadata": {},
   "source": [
    "### C) Using GloVE embeddings to find and label more examples"
   ]
  },
  {
   "cell_type": "code",
   "execution_count": 3,
   "id": "43ba96c0-c313-4345-89d1-0f3e22daa3ea",
   "metadata": {},
   "outputs": [],
   "source": [
    "import spacy\n",
    "from spacy.language import Language\n",
    "nlp = spacy.load('en_core_web_lg', disable = ['tagger', 'parser', 'ner', 'lemmatizer'])\n",
    "stopwords = nlp.Defaults.stop_words"
   ]
  },
  {
   "cell_type": "markdown",
   "id": "4ed20f1b-877b-49e5-8b08-3d7456f8068c",
   "metadata": {},
   "source": [
    "Add in additional preprocessing to remove the stop words"
   ]
  },
  {
   "cell_type": "code",
   "execution_count": 4,
   "id": "7d7c0ccc-82c0-48fd-a713-c19b5ea59765",
   "metadata": {},
   "outputs": [
    {
     "data": {
      "text/plain": [
       "<function __main__.additional_preprocessing(doc)>"
      ]
     },
     "execution_count": 4,
     "metadata": {},
     "output_type": "execute_result"
    }
   ],
   "source": [
    "@Language.component(\"additional_preprocessing\")\n",
    "def additional_preprocessing(doc):\n",
    "    lemma_list = [tok for tok in doc\n",
    "                  if tok.is_alpha and tok.text.lower() not in stopwords] \n",
    "    return lemma_list\n",
    "nlp.add_pipe('additional_preprocessing', last = True)"
   ]
  },
  {
   "cell_type": "markdown",
   "id": "0e43b7cf-a621-4782-b3bd-94e77b4c0126",
   "metadata": {},
   "source": [
    "Run the `nlp` processing pipeline over the two corpuses and convert the job postings into vectors"
   ]
  },
  {
   "cell_type": "code",
   "execution_count": 8,
   "id": "e7fc08d5-97e6-4718-a309-f0f7576b3246",
   "metadata": {},
   "outputs": [],
   "source": [
    "SSOC_2020_nlp = list(nlp.pipe(SSOC_2020['Description']))\n",
    "data_nlp = list(nlp.pipe(data['Cleaned_Description']))"
   ]
  },
  {
   "cell_type": "code",
   "execution_count": 11,
   "id": "1e12ca34-948b-41b7-b5f6-d994489c0405",
   "metadata": {},
   "outputs": [
    {
     "name": "stdout",
     "output_type": "stream",
     "text": [
      "Job posting 42800/42842...\r"
     ]
    }
   ],
   "source": [
    "target_vecs = []\n",
    "for i, desc in enumerate(data_nlp):\n",
    "    if i % 100 == 0:\n",
    "        print(f'Job posting {i}/{len(data_nlp)}...\\r', end = '')\n",
    "    if len(desc) == 0:\n",
    "        target_vecs.append(np.array([0]*300))\n",
    "    else:\n",
    "        target_vecs.append(np.mean([token.vector for token in desc], axis = 0))"
   ]
  },
  {
   "cell_type": "markdown",
   "id": "81fe8d43-b1ab-4bf4-b6eb-49d6b1e19168",
   "metadata": {},
   "source": []
  },
  {
   "cell_type": "code",
   "execution_count": 387,
   "id": "b421be98-6a9f-47d3-baa6-5c26f399a1c5",
   "metadata": {},
   "outputs": [
    {
     "name": "stderr",
     "output_type": "stream",
     "text": [
      "c:\\users\\shaun\\pycharmprojects\\ssoc-autocoder\\venv\\lib\\site-packages\\openpyxl\\worksheet\\header_footer.py:48: UserWarning: Cannot parse header or footer so it will be ignored\n",
      "  warn(\"\"\"Cannot parse header or footer so it will be ignored\"\"\")\n"
     ]
    }
   ],
   "source": [
    "detailed_definitions_raw = pd.read_excel('Data/Raw/SSOC2020 Detailed Definitions.xlsx', skiprows = 4)"
   ]
  },
  {
   "cell_type": "code",
   "execution_count": 391,
   "id": "ae8d3e5d-7aaa-41f0-b4fb-192a1574b7ae",
   "metadata": {},
   "outputs": [],
   "source": [
    "detailed_definitions = detailed_definitions_raw[(~detailed_definitions_raw['SSOC 2020'].astype('str').str.contains('X')) & (detailed_definitions_raw['SSOC 2020'].astype('str').apply(len) >= 5)]"
   ]
  },
  {
   "cell_type": "code",
   "execution_count": 419,
   "id": "ed3da59e-67ae-4076-bed4-6bcc19691e0a",
   "metadata": {},
   "outputs": [
    {
     "name": "stderr",
     "output_type": "stream",
     "text": [
      "C:\\Users\\shaun\\AppData\\Local\\Temp/ipykernel_40992/438202779.py:8: SettingWithCopyWarning: \n",
      "A value is trying to be set on a copy of a slice from a DataFrame.\n",
      "Try using .loc[row_indexer,col_indexer] = value instead\n",
      "\n",
      "See the caveats in the documentation: https://pandas.pydata.org/pandas-docs/stable/user_guide/indexing.html#returning-a-view-versus-a-copy\n",
      "  detailed_definitions['Jobs Cleaned'] = detailed_definitions['Examples of Job Classified Under this Code']\n",
      "C:\\Users\\shaun\\AppData\\Local\\Temp/ipykernel_40992/438202779.py:11: SettingWithCopyWarning: \n",
      "A value is trying to be set on a copy of a slice from a DataFrame.\n",
      "Try using .loc[row_indexer,col_indexer] = value instead\n",
      "\n",
      "See the caveats in the documentation: https://pandas.pydata.org/pandas-docs/stable/user_guide/indexing.html#returning-a-view-versus-a-copy\n",
      "  detailed_definitions['Jobs Cleaned'] = detailed_definitions['Jobs Cleaned'].str.replace(k, v)\n",
      "C:\\Users\\shaun\\AppData\\Local\\Temp/ipykernel_40992/438202779.py:11: FutureWarning: The default value of regex will change from True to False in a future version.\n",
      "  detailed_definitions['Jobs Cleaned'] = detailed_definitions['Jobs Cleaned'].str.replace(k, v)\n"
     ]
    }
   ],
   "source": [
    "to_replace = {\n",
    "    '•': '',\n",
    "    '\\n': '.',\n",
    "    '<Blank>': '',\n",
    "    '\\([A-Za-z0-9 ]+\\)': ''\n",
    "}\n",
    "\n",
    "detailed_definitions['Jobs Cleaned'] = detailed_definitions['Examples of Job Classified Under this Code']\n",
    "\n",
    "for k, v in to_replace.items():\n",
    "    detailed_definitions['Jobs Cleaned'] = detailed_definitions['Jobs Cleaned'].str.replace(k, v)"
   ]
  },
  {
   "cell_type": "code",
   "execution_count": 420,
   "id": "b7356cd1-be6f-43f3-ae46-670bb1514153",
   "metadata": {},
   "outputs": [
    {
     "data": {
      "text/plain": [
       "4               President .  Attorney general.  Minister \n",
       "6         Director-general.  High commissioner .  Perm...\n",
       "7         Chairman .  Chief executive .  Managing dire...\n",
       "9           Administrator of political party organisation\n",
       "11        Administrator of business association.  Admi...\n",
       "                              ...                        \n",
       "1599                                                     \n",
       "1601                               Newspaper delivery man\n",
       "1602      Parking meter reader.  Coin machine collecto...\n",
       "1603                                  Labourer.  Handyman\n",
       "1604                                Food delivery on foot\n",
       "Name: Jobs Cleaned, Length: 997, dtype: object"
      ]
     },
     "execution_count": 420,
     "metadata": {},
     "output_type": "execute_result"
    }
   ],
   "source": [
    "detailed_definitions['Jobs Cleaned']"
   ]
  },
  {
   "cell_type": "markdown",
   "id": "f431f306-0945-4d43-8629-9a4771b02b41",
   "metadata": {},
   "source": [
    "Write a simple function to identify the top `n` jobs that are closest to the selected SSOC"
   ]
  },
  {
   "cell_type": "code",
   "execution_count": 66,
   "id": "95e3eedf-1a34-4d2a-b6f8-a0676f8d551c",
   "metadata": {},
   "outputs": [],
   "source": [
    "from sklearn.metrics.pairwise import cosine_similarity\n",
    "def identify_top_n(selected,\n",
    "                   data,\n",
    "                   extra_info,\n",
    "                   target_vecs,\n",
    "                   top_n = 10,\n",
    "                   threshold = 0.9):\n",
    "    \n",
    "    source_vec = np.array([np.mean([token.vector for token in selected], axis = 0)])\n",
    "    matrix = cosine_similarity(source_vec, target_vecs)\n",
    "    indices = np.apply_along_axis(lambda x: x.argsort()[-top_n:][::-1], axis = 1, arr = matrix)\n",
    "    above_threshold = matrix[0][indices][0] >= threshold\n",
    "    indices = [idx for idx, above in zip(indices[0], above_threshold) if above]\n",
    "    if len(indices) == 0:\n",
    "        print('None meet the threshold required.')\n",
    "    else:\n",
    "        cosine_similarity_index = 0\n",
    "        for i, row in data.loc[indices, :].iterrows():\n",
    "            print(f'Index: {i}')\n",
    "            print(f'Cosine similarity: {matrix[0][indices][cosine_similarity_index]}')\n",
    "            print(f'Predicted SSOC: {row[\"SSOC 2020\"]}')\n",
    "            print(f'Job title: {extra_info[\"title\"][i]}')\n",
    "            print(f'Description: {row[\"Cleaned_Description\"]}')\n",
    "            print('================================================================')\n",
    "            cosine_similarity_index += 1"
   ]
  },
  {
   "cell_type": "code",
   "execution_count": 413,
   "id": "fdcb194f-2b03-4ac2-8629-381464f92bc6",
   "metadata": {},
   "outputs": [],
   "source": [
    "def find_matching_job_title(data,\n",
    "                            include,\n",
    "                            exclude):\n",
    "    \n",
    "    output = copy.deepcopy(data)\n",
    "    output['title'] = output['title'].str.lower()\n",
    "    \n",
    "    include_boolean = [False] * len(output)\n",
    "    for words in include:\n",
    "        entry_boolean = [True] * len(output)\n",
    "        for word in words.split(' '):\n",
    "            entry_boolean = entry_boolean & output['title'].str.contains(word.lower())\n",
    "        include_boolean = include_boolean | entry_boolean\n",
    "    \n",
    "    for words in exclude:\n",
    "        for word in words.split(' '):\n",
    "            include_boolean = include_boolean & ~output['title'].str.contains(word.lower())\n",
    "            \n",
    "    job_titles_idx = output[include_boolean.values].index.tolist()\n",
    "    return job_titles_idx\n",
    "            "
   ]
  },
  {
   "cell_type": "code",
   "execution_count": 383,
   "id": "c49bdea3-17da-401e-8f6a-3a68386365eb",
   "metadata": {},
   "outputs": [],
   "source": [
    "pd.set_option('display.max_rows', 500)\n",
    "import copy\n",
    "import json\n",
    "# Run this to initialise the dictionary object\n",
    "# with open('manual_tagging.json', 'r') as outfile:\n",
    "#     manual_tagging1 = json.load(outfile)"
   ]
  },
  {
   "cell_type": "code",
   "execution_count": 382,
   "id": "4070e05f-5ece-43fc-adca-ee844f52f2c1",
   "metadata": {},
   "outputs": [],
   "source": [
    "# Run this to export the manual tagging to the JSON file\n",
    "# with open('manual_tagging.json', 'w') as outfile:\n",
    "#     json.dump(manual_tagging, outfile)"
   ]
  },
  {
   "cell_type": "markdown",
   "id": "c1b40010-733a-4d23-9cb3-41b09738bada",
   "metadata": {},
   "source": [
    "Set the SSOC you are scanning for here"
   ]
  },
  {
   "cell_type": "code",
   "execution_count": 428,
   "id": "7e1bbdc2-1e40-420a-bef5-2c330598c088",
   "metadata": {},
   "outputs": [
    {
     "name": "stdout",
     "output_type": "stream",
     "text": [
      "Corporate Relations Manager\n",
      "Director of marketing communications\n",
      "Public relations  director\n"
     ]
    }
   ],
   "source": [
    "ssoc = 12221\n",
    "include_job_titles = [17640, 30290, 34491, 36065, 36409, 37141, 42499]\n",
    "for detailed_def_job in detailed_definitions['Jobs Cleaned'][detailed_definitions['SSOC 2020'] == str(ssoc)].values[0].split('.'):\n",
    "    print(detailed_def_job.strip())\n",
    "    include_job_titles.append(detailed_def_job.strip())"
   ]
  },
  {
   "cell_type": "code",
   "execution_count": 439,
   "id": "d8f42705-cbe4-4fc7-b1e9-744638be2941",
   "metadata": {},
   "outputs": [],
   "source": [
    "job_titles_idx = find_matching_job_title(extra_info,\n",
    "                                         include = ['public relations manager'],\n",
    "                                         exclude = [])"
   ]
  },
  {
   "cell_type": "code",
   "execution_count": 446,
   "id": "1bcaa1df-0052-4b8a-a3cb-eb8fc80b7868",
   "metadata": {},
   "outputs": [
    {
     "name": "stdout",
     "output_type": "stream",
     "text": [
      "[8884, 17640, 30290, 34491, 36065, 36409, 37141, 42499]\n",
      "8884: Account Manager (Public Relations)\n",
      "17640: Digital Public Relations Manager #SGUP\n",
      "30290: Senior Manager, Public Relations\n",
      "34491: Public Relations Manager #SGUNITED\n",
      "36065: Public Relations Manager\n",
      "36409: Public Relations Manager\n",
      "37141: Public Relations Manager\n",
      "42499: Public Relations and Marketing Manager\n"
     ]
    }
   ],
   "source": [
    "print(job_titles_idx)\n",
    "for i, title in extra_info.loc[job_titles_idx, 'title'].iteritems():\n",
    "    print(f\"{i}: {title}\")"
   ]
  },
  {
   "cell_type": "code",
   "execution_count": 445,
   "id": "5fac4437-1ec5-4eaa-9f8e-441f90592528",
   "metadata": {},
   "outputs": [
    {
     "name": "stdout",
     "output_type": "stream",
     "text": [
      "<p><strong>KEY ROLES &amp; RESPONSIBILITIES</strong></p>\n",
      "<p><strong>- </strong>Leading the planning and implementation of PR initiatives related to the company's brand(s).</p>\n",
      "<p>- Leveraging a variety of media channels to maximise brand and campaign exposure.</p>\n",
      "<p>- Building strong and positive relationships with media, influencers, and other related parties.</p>\n",
      "<p>- Tracking effectiveness of various campaigns and course correcting as required.</p>\n",
      "<p>- Maintain and develop relationship with the customers.</p>\n",
      "<p>-Execute any other job responsibilities which the management assigns from time to time.</p>\n",
      "<p><strong>Knowledge and Skill Requirements</strong></p>\n",
      "<p>&gt; Minimum Diploma in Marketing/Business/Creative Multimedia/Advertising/Media/Mass Communication or equivalent qualification</p>\n",
      "<p>&gt;Proficient in Microsoft Office (Word, Excel, PowerPoint) and prefer with Adobe Software skills.</p>\n",
      "<p>&gt;Proficient in managing social media networks for business purposes.</p>\n",
      "<p>&gt; Experience working in entertainment related field with corporate marketing role would be an advantage.</p>\n",
      "<p>&gt;Excellent verbal and written communication skills, preferably bilingual in English and Chinese Language</p>\n",
      "<p>&gt;Creative and meticulous individual</p>\n",
      "<p>&gt;Highly motivated and independent individual</p>\n"
     ]
    }
   ],
   "source": [
    "print(extra_info.loc[34491, 'description'])"
   ]
  },
  {
   "cell_type": "code",
   "execution_count": 447,
   "id": "d92d37df-b635-44ab-989b-f228a663ff05",
   "metadata": {},
   "outputs": [
    {
     "name": "stdout",
     "output_type": "stream",
     "text": [
      "Index: 8185\n",
      "Cosine similarity: 0.955994710767933\n",
      "Predicted SSOC: 24320\n",
      "Job title: Senior Executive – Corporate Communications and Community Engagement\n",
      "Description: Create engaging and creative messages, collaterals and publicity materials to support programmes and activities, including fundraising campaigns. Planning and writing publications for Newsletters, Annual Report, Brochures etc. Assist in the updating and maintaining of website and social media platform. Handling of media enquiries, interviews and media liaison where required. Assist in the management of community partnership projects with schools, corporate companies, sponsors, etc. Management of organisation-wide communications plans (internal and external) Participate in events for Marketing/ Fundraising. Conceptualise and implement integrated branding campaign across a various communication platform including internal and outward-facing channels. Develop and nurture good relationships with the external stakeholders, media and influencers to build goodwill. Build stakeholder relationships - Identify opportunities for volunteer partnerships through engagements with social service organisations, community stakeholders, corporate partners and government agencies. Maintain relationships with social service organisations, community stakeholders, corporate partners and government agencies for volunteer recruitment. Drive engagement with key stakeholders through various platforms, working in conjunction with corporate communications. Identify key sector trends which may impact engagement strategy and volunteer management practices. Draft media releases, media statements, responses to media and public queries, and develop communications collaterals.\n",
      "================================================================\n",
      "Index: 39944\n",
      "Cosine similarity: 0.9472520950252847\n",
      "Predicted SSOC: 12211\n",
      "Job title: Marketing and Communications Manager \n",
      "Description: Managing the corporate marketing and related communications needs of the company. These range from preparing marketing brochures & collaterals to creating online content while complying with branding requirements. Planning regular and timely internal communications for all company news and crafting key messages and materials for business leaders. Managing media relations and external speaking engagements to profile our senior leaders as subject matter experts when required. Developing and managing the content framework and pipeline for all communications channels whether internal, external, online and in social media. Leading corporate marketing activities as required,  for example, at company exhibitions, trade fairs and at other functions and events. Support recruitment marketing in outreach to attract new talent into the company.\n",
      "================================================================\n",
      "Index: 29234\n",
      "Cosine similarity: 0.9462775308570235\n",
      "Predicted SSOC: 33499\n",
      "Job title: Public Relations Executive\n",
      "Description: Reporting to the Public Relations Manager, you will monitor and track all news stories and reports on all media channels, draft content for social media and print media that include notices, advisories and posters. You are responsible to administer and co-ordinate the production of corporate communication collaterals such as banners and perform procurement of corporate gifts. Furthermore, you will work with residents on S&CC arrears management and conduct outreach activities with schools and VWOs as well as to assist in events management and other duties on an ad-hoc basis.\n",
      "================================================================\n",
      "Index: 26419\n",
      "Cosine similarity: 0.9447415383773363\n",
      "Predicted SSOC: 11201\n",
      "Job title: PR & Media Relation - Senior Manager/Assistant DirectorD\n",
      "Description: Lead the development and implementation of end-to-end PR strategies and editorial/media influencer programmes including messaging, pitching, briefing facilitation and management of speaking engagements. Manage media relations activities in Asia, and act as the interface between the business and the media with the support of our PR agency. Manage together with the PR agency profiling and speaking engagements for our C-Suite, Investment and Client Portfolio Managers as well as media interviews. Push important corporate and investment topics and promote key brand messages. Provide sound counsel to LBU markers and oversee the engagement of regional / global media. Develop key UK/Europe and US media relations and contacts including proactive dissemination of investment insights, fund manager profiling involving print, broadcast and wires, timely investment commentary, corporate press announcements/releases. Support to the Head of Marketing and Communications to manage corporate reputation issues including high level issues management and preparedness. Collaborate with the manager for internal communications to lead in the development of speeches, Q&As and briefing materials for senior executives including members of the investment team. In partnership with the PR agency plan and deliver comprehensive media/client messaging training to support brand and embed media engagement protocols within senior leadership and client-facing staff (UK/Europe/US) Support the LBUs in all sensitive communications activities through best practice sharing, collaboration and contribute to the continued growth of a “communications community” Help to develop and to enhance communications expertise and skills of local market Marketing Managers / PR Managers through orientation and on-going coaching to build and protect Eastspring's brand in the local markets. Help Plan and manage the annual Communications and PR budget. Work closely with the Communications and Corporate Affairs department of Prudential Corporations Asia and Group Head Office. Develop a good understanding of the business as well as products and be able to navigate complexity for the function.\n",
      "================================================================\n",
      "Index: 7639\n",
      "Cosine similarity: 0.942478090695753\n",
      "Predicted SSOC: 12211\n",
      "Job title: Marketing and Communication Executive / Senior Executive (Media Relations and Public Relations)\n",
      "Description: Develop a public relations and communications plan including strategy, goals, budget and tactics. Develop government, trade associations and media relationship strategy, seeking high-level placements in print, broadcast and online media. Manage media inquiries, interview requests, press conferences and other corporate events. Drive issues management and crisis communications in cases of adverse publicity. Evaluate opportunities for partnerships, sponsorships, CSR and advertising on an on-going basis. Working with key internal stakeholders, to understand business and marketing imperatives to align communications objectives. Maintain a keen understanding of industry trends affecting and make appropriate recommendations regarding communication strategy Monitor, analyze and communicate PR results. Other duties as assigned.\n",
      "================================================================\n",
      "Index: 20716\n",
      "Cosine similarity: 0.9423735668250961\n",
      "Predicted SSOC: 24132\n",
      "Job title: R0122819 Corporate Bank - Junior Marketing Manager and Social Media Specialist - Assistant Vice President\n",
      "Description: Build relationships and work proactively with regional stakeholders to develop marketing communication plans which contribute to local/regional business objectives while supporting the global business and marketing goals. Regional assistance with the planning, coordination and execution of marketing activities across the CB business lines (Cash management, FX, Trade Finance and Lending, Securities Services and Trust & Agency Services) and across the APAC franchise (currently China, Singapore, India, Indonesia, Korea, Japan, Vietnam, Hong Kong, Malaysia, Thailand, Taiwan, Sri Lanka, Philippines) Develop relationships and work closely with the marketing business specialists in the global CB marketing team and regional and global corporate communications colleagues, and business colleagues as well as managing external media, agencies and vendor relations. Profile and showcase the CB APAC business by identifying, managing and delivering client-centric campaigns. Regional participation in awards, surveys and polls. Manage the process from identifying awards, writing, editing, reviewing, submissions and judges presentations. Identify and provide regular and meaningful regional content marketing contributions to the global CB website and client email campaigns along with regional print/digital collateral, advertising and social media. Special responsibility for the management of CB's global social media channels including performance measurement and audience growth activities. Regional assistance with budget planning/cost management. Ensure all appropriate approvals are obtained for all activities and maintain appropriate records of such approvals.\n",
      "================================================================\n",
      "Index: 40679\n",
      "Cosine similarity: 0.9403646001006172\n",
      "Predicted SSOC: 33229\n",
      "Job title: Retail Marketing Officer\n",
      "Description: Plan and execute all digital marketing strategies including social media and analyse its effectiveness. Develop ATL and BTL promotional activities for local and regional offices. Organize marketing events and provide on-site support. Act as a brand guardian for the retail business. Liaise and coordinate with media agencies, vendors and suppliers. Manage other ad-hoc projects.\n",
      "================================================================\n",
      "Index: 40407\n",
      "Cosine similarity: 0.9397320704444675\n",
      "Predicted SSOC: 41109\n",
      "Job title: Marketing and Communications Assistant #SGUnitedTraineeships\n",
      "Description: online marketing campaigns pro-active website and social media management (update and maintain with content publications/news, website monitoring, SEO, site referencing, ad-paid service…) Traditional Marketing: offline marketing campaign and publications (press releases, article, advertising, advertorial…) Participate to commercial and corporate events, PR and networking (conferences, exhibitions, presentations…) Assist in events and PR management: A to Z preparation and organisation (conferences, seminars, workshop, webinar, exhibitions, site visits…) Assist in Webinars preparation and organisation. Coordinate with Managers on research projects, such as behavioural studies, market analysis activities to understand industries trends/dynamics. Assist in identifying marketing trends and key opportunities for innovation. Conduct and analyse clients rating/feedback forms reports and questionnaires. Help in monitoring and maintaining knowledge management tools & databases. Work closely with Managers in content development (case study, industry spotlight, storytelling…) Liaise with external stakeholders (Media, PR, Communications agencies, government agencies, chambers, associations, partners…) Update and maintain internal communications.\n",
      "================================================================\n",
      "Index: 31208\n",
      "Cosine similarity: 0.9391798956499025\n",
      "Predicted SSOC: 12211\n",
      "Job title: Marketing Executive #SGUnitedTraineeships #SGUP\n",
      "Description: Liaising with listed companies and investor relation firms in organising dialogue sessions and/or any corporate events. Working closely with the internal events team on the execution and operation of the aforesaid events. The marketing activities, focusing on digital platforms, to promote the events. Attending to all administrative work related to the events. Assisting the team in planning and executing SIAS Associate Membership campaigns and programmes. Understand listed companies' corporate timeline and actions. How to engage different stakeholders to achieve results. Learnt B2B and B2B2C marketing. Understand job functions of public relations and investor relations.\n",
      "================================================================\n",
      "Index: 23875\n",
      "Cosine similarity: 0.9377103103918697\n",
      "Predicted SSOC: 24212\n",
      "Job title: Senior Consultant\n",
      "Description: Assist with client counsel on all aspects of their communications programmes. Provide input into and draft various communications materials for client programmes across our different offerings of corporate communications, public affairs and financial communications areas (e g communications strategies, press releases, client memos, stakeholder and issues mapping, and briefing documents) Deliver high-quality work within project teams. Under guidance and supervision, manage various tasks related to corporate communications and media relations engagements ranging from executive profiling and brand positioning to issues and crisis management and top-tier media engagement. Assist senior team members in developing new business initiatives (e g conducting research on prospects, developing strategic approaches and ideas, reviewing PowerPoint presentations and proposals, etc.) Actively contribute to both internal and client meetings by offering strategic and creative insights. Maintain a self-motivated passion to stay abreast of client issues and related industry trends, participate in industry networking events and inform team leaders of potential new business opportunities.\n",
      "================================================================\n",
      "Index: 12521\n",
      "Cosine similarity: 0.9376164043025479\n",
      "Predicted SSOC: 24320\n",
      "Job title: public relation officer\n",
      "Description: Management and engagement of residents and public queries, feedback and complaints. Manage press queries and print/social media. Coordinate community events and provide event management support to property teams. Organize Town Council events (involving 1,000 to 2,000 participants) and private events involving 100 to 200 participants. Liaison with various stakeholders including Residents' Committees, Grassroots Organizations, Government Agencies and Contractors to ensure corporate and client's image are improved. Attend all relevant site meetings. Produce print / online media and collaterals for public engagement. Perform Public Relations / Customer Service support to property teams and to assist CSO if required. Assist the Public Relations Manager on special projects as required by Town Council.\n",
      "================================================================\n",
      "Index: 30365\n",
      "Cosine similarity: 0.9375827058920629\n",
      "Predicted SSOC: 12199\n",
      "Job title: Senior Manager or Manager, Communications\n",
      "Description: Deliver and develop a robust communications strategy and implementation plan which encompass PR and other communication vehicles, including new social platforms, video and other multi-media tools to understand AHL's multiple stakeholders and customers and build equity of AHL brand. Develop powerful narratives and compelling content to promote the suite of festivals and programmes under the initiative (e g media materials, profile stories and videos) to various target audiences, e g media, public, partners etc. Manage media relations and take the lead in handling media queries, drafting media materials and analysing media coverage. Responsible for Communications Planning & Message Development: To develop and execute PR plans craft media materials including press releases, speeches, message houses, media responses and interview talking points. Grow media partnerships organically and coordinate media interest in AHL and ensure regular contact with target media and appropriate response to media requests. Act as AHL's representative with the media and develop strong relationships with media representatives, locally and internationally. Establish and drive internal and external communications strategy that positively affects employees' and customers' understanding, engagement and commitment with the result of an even stronger connection to AHL. Work closely with marketing colleagues on integrating media communications initiatives within marketing strategies and campaigns/activities for key festivals and programmes. Assist Head of Marcomms to develop the department's strategic short and long term plan, and address critical issues in the communications area. The plan will set out objectives for each strategic area of the department and outlines plans and budget for achieving those objectives. Keep abreast of the development in the field of communications and public relations, not-for-profit management and governance. To carry out and assume any other duties and responsibilities as and when assigned by the AHL Management.\n",
      "================================================================\n",
      "Index: 21227\n",
      "Cosine similarity: 0.9360830628480632\n",
      "Predicted SSOC: 24312\n",
      "Job title: Brand Manager\n",
      "Description: Analyse brand positioning and consumer's characteristics to develop marketing strategies to achieve the business objectives. Prepare and present reports on annual marketing spending, strategies and planning to update the management on the company's marketing direction. Work within marketing budget to increase public awareness of the company. Conceptualise and develop digital and social media strategies, and execute paid digital and social media campaigns to achieve business growth. Produce engaging content for the company website and social media to attract the targeted audience. Monitor and report performance of the effectiveness of marketing initiatives engaged to identify business opportunities. Collaborate with the events executive to conduct publicity events to increase customer base. Collaborate and communicate with managers to ensure information are relayed accordingly and right support is provided on both sides. Review marketing materials to support product sales and services, including copywriting, proofreading and communicating proper brief to graphic designer. Any other marketing related initiatives and projects as assigned by the director.\n",
      "================================================================\n",
      "Index: 23256\n",
      "Cosine similarity: 0.9356359546433781\n",
      "Predicted SSOC: 33221\n",
      "Job title: Business Development Executive\n",
      "Description: Maintain and contact our existing customer database, as well as finding new prospects, establishing new business and cultivating and managing long-term relationships. Identifying marketing and sponsorship opportunities (including awards, conferences and targeted events) Development and servicing support of new and current sponsorship of the Technical-related Programme as well as Institutional activities. Conceptualisation, planning, management and execution of all content/programming aspects of the events, activities and roadshow including creative formalisation of general programme flow and execution. Coordination and direct liaison with relevant department/ teams for all Programme related marketing operations. General Event Management, Marketing, Client Servicing, Registration and Administration. Generate regular reports and proposals relating to responsibilities of the department. Manage general enquiries and potential disputes of account management.\n",
      "================================================================\n",
      "Index: 16790\n",
      "Cosine similarity: 0.9355489071754267\n",
      "Predicted SSOC: 12211\n",
      "Job title: Marcom Executive (Entry Level/West/B2C)\n",
      "Description: Create collateral materials for marketing campaign across various communication platforms including marketing events, shopping malls promotions, government-related initiatives and etc. Create awareness of marketing campaigns by generating creative message on social media platforms. Liaise with relevant parties such as event, logistics, and financial department to assure the marketing campaigns is well conducted. Ad hoc duties as and when assigned.\n",
      "================================================================\n"
     ]
    }
   ],
   "source": [
    "ssoc_index = SSOC_2020[SSOC_2020['SSOC 2020'] == ssoc].index[0]\n",
    "identify_top_n(SSOC_2020_nlp[ssoc_index], data, extra_info, target_vecs, top_n = 15, threshold = 0.85)"
   ]
  },
  {
   "cell_type": "markdown",
   "id": "91919bb2-3089-43bf-9c42-26245abdf1c9",
   "metadata": {},
   "source": [
    "Use this to find job postings with the exact job title"
   ]
  },
  {
   "cell_type": "code",
   "execution_count": 400,
   "id": "972be88c-7440-4c4e-879a-2dd33bcb0365",
   "metadata": {},
   "outputs": [
    {
     "name": "stdout",
     "output_type": "stream",
     "text": [
      "[36, 3712, 4096, 4234, 4282, 4814, 5087, 5125, 5657, 6845, 7185, 7221, 7245, 9761, 10365, 11048, 11254, 11894, 12867, 14357, 14573, 14652, 14748, 15072, 15314, 16527, 16822, 16999, 19009, 19756, 20075, 20098, 20105, 20209, 20319, 20426, 20815, 20899, 21097, 21911, 22086, 22249, 22414, 22588, 22625, 22739, 23144, 23148, 23370, 23488, 24173, 24440, 24704, 24999, 26027, 26832, 27082, 27821, 29594, 30976, 31347, 31541, 32018, 32176, 32478, 32516, 32967, 33005, 33542, 33724, 35692, 36537, 36674, 37348, 37682, 38313, 38352, 41510]\n"
     ]
    }
   ],
   "source": [
    "words = ['admin', 'manager'] # what words to include\n",
    "exclude = ['account', 'database', 'it', 'project'] # what words to exclude\n",
    "output = copy.deepcopy(extra_info)\n",
    "for word in words:\n",
    "    output = output[output['title'].str.lower().str.contains(word)]\n",
    "for word in exclude:\n",
    "    output = output[~output['title'].str.lower().str.contains(word)]\n",
    "job_titles_idx = output.index.tolist()\n",
    "print(job_titles_idx)"
   ]
  },
  {
   "cell_type": "code",
   "execution_count": null,
   "id": "69145a14-882b-484b-a6be-0abc3750c345",
   "metadata": {},
   "outputs": [],
   "source": []
  },
  {
   "cell_type": "code",
   "execution_count": null,
   "id": "9e5cb697-3a53-49c4-8487-767a233dd247",
   "metadata": {},
   "outputs": [],
   "source": [
    "#extra_info.loc[25834, 'description']"
   ]
  },
  {
   "cell_type": "markdown",
   "id": "287f12ec-5146-4683-912b-a3b1b6911ca7",
   "metadata": {},
   "source": [
    "Change the list `inputting` here to input the indices of the job postings that you want to manually tag as that SSOC"
   ]
  },
  {
   "cell_type": "code",
   "execution_count": 378,
   "id": "c948c3c2-d29d-444d-aee8-8d31ca2d331e",
   "metadata": {},
   "outputs": [
    {
     "name": "stdout",
     "output_type": "stream",
     "text": [
      "Duplicate detected for index 10797 which has already been marked for SSOC 12111\n",
      "Duplicate detected for index 40689 which has already been marked for SSOC 12111\n",
      "Duplicate detected for index 33662 which has already been marked for SSOC 12111\n",
      "Duplicate detected for index 16999 which has already been marked for SSOC 12121\n",
      "Duplicate detected for index 26832 which has already been marked for SSOC 12121\n",
      "Duplicate detected for index 14748 which has already been marked for SSOC 12121\n",
      "SSOC: 12112\n",
      "[4096, 5125, 7185, 14357, 5657, 9761, 36, 41510, 7221, 22588, 19009, 12867, 22086, 7245, 22625, 23144, 21097, 20075, 23148, 24173, 31347, 11894, 10365, 3712, 24704, 20098, 20105, 4234, 16527, 27821, 36537, 4282, 6845, 32967, 4814, 22739, 32478, 15072, 22249, 14573, 33005, 20209, 30976, 32516, 33542, 32018, 11048, 19756, 37682, 31541, 14652, 36674, 23370, 20815, 20319, 35692, 24440, 22414, 21911, 29594, 20899, 24999, 38313, 26027, 32176, 16822, 33724, 23488, 20426, 27082, 38352, 15314, 5087, 37348, 11254]\n"
     ]
    }
   ],
   "source": [
    "manual_tagging[ssoc] = []\n",
    "inputting = []\n",
    "inputting_dedup = list(set(inputting))\n",
    "for key in manual_tagging.keys():\n",
    "    for new_idx in inputting_dedup:\n",
    "        if new_idx in manual_tagging[key]:\n",
    "            print(f'Duplicate detected for index {new_idx} which has already been marked for SSOC {key}')\n",
    "            inputting_dedup.remove(new_idx)\n",
    "manual_tagging[ssoc].extend(inputting_dedup)\n",
    "print(f'SSOC: {ssoc}')\n",
    "print(manual_tagging[ssoc])"
   ]
  },
  {
   "cell_type": "code",
   "execution_count": 379,
   "id": "5ac5910f-1ff1-4868-8666-7a5e280860de",
   "metadata": {},
   "outputs": [],
   "source": []
  },
  {
   "cell_type": "code",
   "execution_count": 385,
   "id": "084a1431-9ea9-4b22-aba7-1f32712ee62d",
   "metadata": {},
   "outputs": [],
   "source": [
    "# ssoc_index = SSOC_2020[SSOC_2020['SSOC 2020'] == ssoc].index[0]\n",
    "# identify_top_n(SSOC_2020_nlp[ssoc_index], data, extra_info, target_vecs, top_n = 15, threshold = 0.85)"
   ]
  },
  {
   "cell_type": "markdown",
   "id": "c804e260-1e35-4013-a7c4-5043c285229c",
   "metadata": {},
   "source": [
    "### C) Implementing text augmentation"
   ]
  },
  {
   "cell_type": "code",
   "execution_count": 1,
   "id": "5f433f05-e9be-4bfd-9b20-02bbd65f6197",
   "metadata": {},
   "outputs": [
    {
     "ename": "NameError",
     "evalue": "name 'data' is not defined",
     "output_type": "error",
     "traceback": [
      "\u001b[1;31m---------------------------------------------------------------------------\u001b[0m",
      "\u001b[1;31mNameError\u001b[0m                                 Traceback (most recent call last)",
      "\u001b[1;32m~\\AppData\\Local\\Temp/ipykernel_18284/391604064.py\u001b[0m in \u001b[0;36m<module>\u001b[1;34m\u001b[0m\n\u001b[1;32m----> 1\u001b[1;33m \u001b[0mdata\u001b[0m\u001b[1;33m\u001b[0m\u001b[1;33m\u001b[0m\u001b[0m\n\u001b[0m",
      "\u001b[1;31mNameError\u001b[0m: name 'data' is not defined"
     ]
    }
   ],
   "source": []
  },
  {
   "cell_type": "code",
   "execution_count": null,
   "id": "df6cce9e-1f96-4b4b-8c6a-d04adbdf0e3e",
   "metadata": {},
   "outputs": [],
   "source": []
  }
 ],
 "metadata": {
  "kernelspec": {
   "display_name": "Python 3 (ipykernel)",
   "language": "python",
   "name": "python3"
  },
  "language_info": {
   "codemirror_mode": {
    "name": "ipython",
    "version": 3
   },
   "file_extension": ".py",
   "mimetype": "text/x-python",
   "name": "python",
   "nbconvert_exporter": "python",
   "pygments_lexer": "ipython3",
   "version": "3.9.5"
  }
 },
 "nbformat": 4,
 "nbformat_minor": 5
}
