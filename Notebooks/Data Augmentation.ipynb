{
 "cells": [
  {
   "cell_type": "markdown",
   "id": "eb458481-b243-450e-a56b-faf9a32e2749",
   "metadata": {},
   "source": [
    "## Data Augmentation\n",
    "\n",
    "In this notebook, we aim to resolve the data quality issue through various methods of augmenting our dataset."
   ]
  },
  {
   "cell_type": "markdown",
   "id": "c7d5d3db-2324-4b50-b8b2-653cf344db88",
   "metadata": {
    "tags": []
   },
   "source": [
    "### A) Setting up"
   ]
  },
  {
   "cell_type": "code",
   "execution_count": 1,
   "id": "61863244-e9e0-46e3-aeb0-71ebb62a3c86",
   "metadata": {},
   "outputs": [],
   "source": [
    "import os\n",
    "os.chdir('..')"
   ]
  },
  {
   "cell_type": "code",
   "execution_count": 2,
   "id": "97231c13-250c-4070-b4fb-2712a55e9570",
   "metadata": {},
   "outputs": [
    {
     "name": "stderr",
     "output_type": "stream",
     "text": [
      "C:\\Users\\benjamin\\Desktop\\my_enviro\\lib\\site-packages\\torchaudio\\backend\\utils.py:67: UserWarning: No audio backend is available.\n",
      "  warnings.warn('No audio backend is available.')\n"
     ]
    }
   ],
   "source": [
    "import nlpaug.augmenter.char as nac\n",
    "import nlpaug.augmenter.word as naw\n",
    "import nlpaug.augmenter.sentence as nas\n",
    "import nlpaug.flow as nafc\n",
    "from nlpaug.util import Action"
   ]
  },
  {
   "cell_type": "code",
   "execution_count": 3,
   "id": "d12f5c09-43f2-468a-9d91-50cca94c1452",
   "metadata": {},
   "outputs": [],
   "source": [
    "# Download fasttext model, only run once\n",
    "#from nlpaug.util.file.download import DownloadUtil\n",
    "#DownloadUtil.download_fasttext(model_name = 'wiki-news-300d-1M', dest_dir = 'Models')"
   ]
  },
  {
   "cell_type": "code",
   "execution_count": 4,
   "id": "2105ff68-5db0-4bed-8329-e9bf06f140c2",
   "metadata": {},
   "outputs": [],
   "source": [
    "#import nltk\n",
    "#nltk.download('averaged_perceptron_tagger')"
   ]
  },
  {
   "cell_type": "code",
   "execution_count": 5,
   "id": "c6869ff8-a264-4642-b51e-d1b2a316f3d9",
   "metadata": {},
   "outputs": [],
   "source": [
    "model_dir = 'Models/'"
   ]
  },
  {
   "cell_type": "code",
   "execution_count": 6,
   "id": "35976d66-fadd-4064-a52a-30099ee75af5",
   "metadata": {},
   "outputs": [
    {
     "name": "stderr",
     "output_type": "stream",
     "text": [
      "C:\\Users\\benjamin\\Desktop\\my_enviro\\lib\\site-packages\\IPython\\core\\interactiveshell.py:3441: DtypeWarning: Columns (1) have mixed types.Specify dtype option on import or set low_memory=False.\n",
      "  exec(code_obj, self.user_global_ns, self.user_ns)\n"
     ]
    }
   ],
   "source": [
    "import pandas as pd\n",
    "SSOC_2020 = pd.read_csv('Data/Processed/Training/train-aws/SSOC_2020.csv')\n",
    "data = pd.read_csv('Data/Processed/Training/train-aws/train_full.csv')\n",
    "extra_info = pd.read_csv('Data/Processed/MCF_Training_Set_Full.csv')"
   ]
  },
  {
   "cell_type": "code",
   "execution_count": 7,
   "id": "e013656f-5a10-412c-a374-646c611bddaa",
   "metadata": {},
   "outputs": [],
   "source": [
    "# with open('ssoc_autocoder/sentaugment/data/sentences.txt', 'w') as f:\n",
    "#     for item in SSOC_2020['Description'][295:296]:\n",
    "#         f.write(\"%s\\n\" % ''.join([i if ord(i) < 128 else ' ' for i in item]))\n",
    "#         f.write(\"%s\\n\" % ''.join([i if ord(i) < 128 else ' ' for i in item]))"
   ]
  },
  {
   "cell_type": "markdown",
   "id": "01a02bb7-0629-4205-9dc9-c764dffd9b59",
   "metadata": {
    "tags": []
   },
   "source": [
    "### B) Testing different types of augmentation"
   ]
  },
  {
   "cell_type": "code",
   "execution_count": 8,
   "id": "f6c5cfd8-991b-478d-9068-033c81abd1c8",
   "metadata": {},
   "outputs": [],
   "source": [
    "text = SSOC_2020['Description'][SSOC_2020['SSOC 2020'] == 25121].values[0]"
   ]
  },
  {
   "cell_type": "code",
   "execution_count": 9,
   "id": "b1dd1d0d-90c9-4b66-9da0-6f32c8bd52a6",
   "metadata": {},
   "outputs": [
    {
     "name": "stdout",
     "output_type": "stream",
     "text": [
      "Software developer researches, designs and develops computer and network software or specialised utility programs. He/she analyses user needs and develops software solutions, applying principles and techniques of computer science, engineering, and mathematical analysis. He/she also updates software, enhances existing software capabilities, and develops and directs software testing and validation procedures. He/she may work with computer hardware engineers to integrate hardware and software systems, and develop specifications and performance requirements. . researching, analysing and evaluating requirements for software, web and multimedia applications. designing, and developing computer software, web and multimedia systems. designing and developing digital animations, imaging, presentations, games, audio and video clips, and Internet applications using multimedia software, tools and utilities, interactive graphics and programming languages. consulting with engineering staff to evaluate interface between hardware and software. developing and directing software testing and validation procedures. modifying existing software to correct errors, to adapt it to new hardware or to upgrade interfaces and improve performance. directing software programming and development of documentation. assessing, developing, upgrading and documenting maintenance procedures for software, web and multimedia applications. assisting in analysing, specifying and developing Internet strategies, web.based methodologies and development plans. consulting with customers concerning maintenance of software, web and multimedia systems\n"
     ]
    }
   ],
   "source": [
    "print(text)"
   ]
  },
  {
   "cell_type": "markdown",
   "id": "5b592db7-5867-42fe-9584-97bd33055768",
   "metadata": {},
   "source": [
    "#### 1. Using pretrained word embeddings (`fasttext`)"
   ]
  },
  {
   "cell_type": "code",
   "execution_count": 16,
   "id": "3b1283d0-3b97-4841-aa94-538080a89337",
   "metadata": {},
   "outputs": [],
   "source": [
    "fasttext_aug = naw.WordEmbsAug(model_type = 'fasttext', \n",
    "                               model_path = model_dir + 'wiki-news-300d-1M.vec',\n",
    "                               action = \"substitute\",\n",
    "                               top_k = 5,\n",
    "                               aug_p = 0.5,\n",
    "                               aug_min = 10,\n",
    "                               aug_max = None)"
   ]
  },
  {
   "cell_type": "code",
   "execution_count": 18,
   "id": "f37eadad-aa61-42a7-b1cf-b1aa7cfe9e07",
   "metadata": {},
   "outputs": [
    {
     "name": "stdout",
     "output_type": "stream",
     "text": [
      "Software builder researches, prototypes and builds computer which networks software or specialized efficiency programs. .He / her Analysis interface wants in builds software issues, applies tenets, technologies of computing sceince, engineering, and algebraic anaylsis. He / she still updates softare, strengthens existing hardware capabilities, , develops which directs software tests and validation procedures. They / she will research along computing software engineering to combine firmware in software components, but cultivate specification but performance standards. . researching, summarising which examining requirments for software, websites and audio applications. constructing, but establishing computer software, web in multi-media system. designing in creating digital visuals, imaging, lectures, game, recordings and video- excerpts, in Internet applications using interactive sofware, toolkit and utilities, multimedia graphic and programs langauages. consulting with engineering faculty to analyze wildland-urban betweeen software with software. producing and instructing software testing and validating procedures. revising pre-existing hardware and corrrect inaccuracies, from adapt just to current equipment whether and upgrade interfaces and reduce perfomance. directing hardware programs and implementation 's documentation. examining, developing, upgraded with detailing upkeep practices in computer, web which multi-media applications. assisted in analysing, specify and creating Internet approaches, websites. basing methodologies but growth plans. consultants with customers concerning maintenance for software, web and multimedia mechanisms\n"
     ]
    }
   ],
   "source": [
    "fasttext_augmented_text = fasttext_aug.augment(text, num_thread = 4)\n",
    "print(fasttext_augmented_text)"
   ]
  },
  {
   "cell_type": "markdown",
   "id": "4b6bbe65-a6e3-4308-8278-aae853ccda50",
   "metadata": {},
   "source": [
    "#### 2. Using back translation\n",
    "Back translation means translating the whole text to another language and back to English."
   ]
  },
  {
   "cell_type": "code",
   "execution_count": null,
   "id": "01088545-3e4c-4b03-b521-2e827db0a9d5",
   "metadata": {},
   "outputs": [],
   "source": [
    "back_translation_aug = naw.BackTranslationAug(from_model_name='facebook/wmt19-en-de', \n",
    "                                              to_model_name='facebook/wmt19-de-en',\n",
    "                                              device = 'cuda',\n",
    "                                              max_length = 2000)"
   ]
  },
  {
   "cell_type": "code",
   "execution_count": null,
   "id": "768ee4f2-a81b-4471-9205-8e77eafb5ebf",
   "metadata": {},
   "outputs": [],
   "source": [
    "backtransl_augmented_text = back_translation_aug.augment(text, num_thread = 4)\n",
    "print(backtransl_augmented_text)"
   ]
  },
  {
   "cell_type": "markdown",
   "id": "02cdb789-645c-49c5-a24a-3523db71e97e",
   "metadata": {},
   "source": [
    "#### 3. Using synonyms"
   ]
  },
  {
   "cell_type": "code",
   "execution_count": null,
   "id": "a2cde746-a31e-402f-9f22-d0c96c038236",
   "metadata": {},
   "outputs": [],
   "source": [
    "synonym_aug = naw.SynonymAug(aug_src = 'ppdb', \n",
    "                             model_path = model_dir + 'ppdb-2.0-tldr',\n",
    "                             aug_p = 0.5,\n",
    "                             aug_min = 10,\n",
    "                             aug_max = None)"
   ]
  },
  {
   "cell_type": "code",
   "execution_count": null,
   "id": "f6c36ad4-cd24-42ba-8a09-087f453b676c",
   "metadata": {},
   "outputs": [],
   "source": [
    "synonym_augmented_text = synonym_aug.augment(text, num_thread = 4)\n",
    "print(synonym_augmented_text)"
   ]
  },
  {
   "cell_type": "markdown",
   "id": "35939835-17f6-4927-aaf6-3f536814f8c3",
   "metadata": {},
   "source": [
    "#### 4. Using contextual word embeddings"
   ]
  },
  {
   "cell_type": "code",
   "execution_count": 20,
   "id": "62efcf73-52ec-459b-9d2e-567ae0541cfa",
   "metadata": {},
   "outputs": [],
   "source": [
    "distilbert_aug = naw.ContextualWordEmbsAug(model_path = 'distilbert-base-uncased', \n",
    "                                           action = \"substitute\",\n",
    "                                           top_k = 10,\n",
    "                                           aug_p = 0.7,\n",
    "                                           aug_min = 5,\n",
    "                                           aug_max = None,\n",
    "                                           device = 'cpu')"
   ]
  },
  {
   "cell_type": "code",
   "execution_count": 21,
   "id": "2e85f3c1-240b-4bc4-936d-098551e3aa9b",
   "metadata": {},
   "outputs": [
    {
     "name": "stdout",
     "output_type": "stream",
     "text": [
      "website designer prepares, implements and develops network and database architecture or virtual web hardware. he / she directs user design and engineers internal hardware, designs hardware and tools of information hardware, automation, and industrial physics. he / she also builds computers, manufactures computing system components, and maintains and maintains performance analysis and assessment programs. he / she may work with application network developers to develop website and server products, and implements standards and compliance standards.. develops, analysing and verification procedures for network, web and web services. preparing, and supervising interactive networking, web and desktop applications. design and producing electronic audio, audio, graphic, multimedia, web and multimedia presentations, and graphical products. multimedia systems, graphics and components, presentation programs and interactive products. assists with application professionals to update components of hardware and application. develops and implements application repair and inspection techniques. prepares external hardware to identify weaknesses, to add it to new specifications or to update hardware and increase accessibility. performs internal upgrades and repair of hardware. preparing, managing, testing and implementing application procedure for application, web and web software. assistance in analysing, maintaining and implementing software software, web. performs engineering and maintenance procedures. consultation with personnel on evaluation of internet, web and embedded systems\n"
     ]
    }
   ],
   "source": [
    "distilbert_augmented_text = distilbert_aug.augment(text, num_thread = 4)\n",
    "print(distilbert_augmented_text)"
   ]
  },
  {
   "cell_type": "markdown",
   "id": "98cd06b0-1f5a-498c-9078-5d2eae4a2b58",
   "metadata": {},
   "source": [
    "#### 5. Using sentence augmentation"
   ]
  },
  {
   "cell_type": "code",
   "execution_count": null,
   "id": "f6e043ca-a196-4fe5-8877-81b09c5df567",
   "metadata": {},
   "outputs": [],
   "source": [
    "sentence_aug = nas.ContextualWordEmbsForSentenceAug(model_path = 'distilgpt2',\n",
    "                                                    min_length = 100,\n",
    "                                                    max_length = 300,\n",
    "                                                    top_k = 50,\n",
    "                                                    top_p = .9,\n",
    "                                                    device = 'cuda')"
   ]
  },
  {
   "cell_type": "code",
   "execution_count": null,
   "id": "dfd6b579-1e4c-4577-af53-3ea6ea94e971",
   "metadata": {},
   "outputs": [],
   "source": [
    "sentence_augmented_text = sentence_aug.augment(text, num_thread = 4)\n",
    "print(sentence_augmented_text)"
   ]
  },
  {
   "cell_type": "markdown",
   "id": "388bccb0-f6be-4565-b790-b53bc680415a",
   "metadata": {},
   "source": [
    "#### 6. Using summarisation"
   ]
  },
  {
   "cell_type": "code",
   "execution_count": null,
   "id": "baff5459-bc6e-46f4-8b0e-1f978b273a9d",
   "metadata": {},
   "outputs": [],
   "source": [
    "summ_aug = nas.AbstSummAug(model_path = 't5-base', \n",
    "                           min_length = 50,\n",
    "                           max_length = 100,\n",
    "                           top_k = 20)"
   ]
  },
  {
   "cell_type": "code",
   "execution_count": null,
   "id": "53f69f5c-9fb0-4228-9863-45678c53031b",
   "metadata": {},
   "outputs": [],
   "source": [
    "summ_augmented_text = summ_aug.augment(text, num_thread = 4)"
   ]
  },
  {
   "cell_type": "code",
   "execution_count": null,
   "id": "7a1d2662-dce8-4872-9191-2d55f1d817d0",
   "metadata": {},
   "outputs": [],
   "source": [
    "summ_augmented_text"
   ]
  },
  {
   "cell_type": "markdown",
   "id": "f6804514-356f-4081-a136-775c3b01d1c6",
   "metadata": {},
   "source": [
    "#### 7. Adding spelling mistakes"
   ]
  },
  {
   "cell_type": "code",
   "execution_count": 31,
   "id": "a8ffe5f0-0144-476e-80fb-4e806fce0158",
   "metadata": {},
   "outputs": [],
   "source": [
    "spl_aug = naw.SpellingAug(dict_path=None, \n",
    "                          name='Spelling_aug',\n",
    "                          aug_min=1, \n",
    "                          aug_max=10, \n",
    "                          aug_p=0.3)"
   ]
  },
  {
   "cell_type": "code",
   "execution_count": 32,
   "id": "8ac96ef1-1ff2-47cc-9d5a-ef1307b63a56",
   "metadata": {},
   "outputs": [],
   "source": [
    "spl_augmented_text = spl_aug.augment(text)"
   ]
  },
  {
   "cell_type": "code",
   "execution_count": 33,
   "id": "f9357b46-5b8a-4fdc-a156-9d957973d99d",
   "metadata": {},
   "outputs": [
    {
     "data": {
      "text/plain": [
       "'Software developer researches, designs and develops computer amd network software or specialised utility programs. He / she analisys user needs and develops software soliutions, applying princilpes and techniques of computer science, engineering, and mathematical analysis. He / whe also updates software, enhances existing softwares capabilities, and develops and directs software testing an validation procedures. He / she may work with computer hardware engineers to integrate hardware and software systems, and develop specifications and performance requirements. . researching, analysing and evaluating requirements for software, web and multimedia applications. designing, and developing computer sotfware, web and multimedia systems. designing and developing digital animations, imaging, presentations, games, audio and video clips, and Internet applications using multimedia software, tools and utilities, interactive graphics and programming languages. consulting with engineering staff to evaluate interface between hardware and software. developing and directing software testing and validation prosedures. modifying existing software to correct errors, to adapt it to new hardware or to upgrade interfaces and improve performance. directing software programming and development of documentation. assessing, developing, upgrading and documenting maintenance procedures for sowftware, web and multimedia applications. assisting in analysing, specifying and developing Internet strategies, web. based methodologies and development plans. consulting with customers concerning maintenance of software, web and multimedia systems'"
      ]
     },
     "execution_count": 33,
     "metadata": {},
     "output_type": "execute_result"
    }
   ],
   "source": [
    "spl_augmented_text"
   ]
  },
  {
   "cell_type": "markdown",
   "id": "65a2eae7-d6ae-49ae-823c-6e7ab82b8f2c",
   "metadata": {},
   "source": [
    "### C) Using GloVE embeddings to find and label more examples"
   ]
  },
  {
   "cell_type": "code",
   "execution_count": 3,
   "id": "43ba96c0-c313-4345-89d1-0f3e22daa3ea",
   "metadata": {},
   "outputs": [],
   "source": [
    "import spacy\n",
    "from spacy.language import Language\n",
    "nlp = spacy.load('en_core_web_lg', disable = ['tagger', 'parser', 'ner', 'lemmatizer'])\n",
    "stopwords = nlp.Defaults.stop_words"
   ]
  },
  {
   "cell_type": "markdown",
   "id": "4ed20f1b-877b-49e5-8b08-3d7456f8068c",
   "metadata": {},
   "source": [
    "Add in additional preprocessing to remove the stop words"
   ]
  },
  {
   "cell_type": "code",
   "execution_count": 4,
   "id": "7d7c0ccc-82c0-48fd-a713-c19b5ea59765",
   "metadata": {},
   "outputs": [
    {
     "data": {
      "text/plain": [
       "<function __main__.additional_preprocessing(doc)>"
      ]
     },
     "execution_count": 4,
     "metadata": {},
     "output_type": "execute_result"
    }
   ],
   "source": [
    "@Language.component(\"additional_preprocessing\")\n",
    "def additional_preprocessing(doc):\n",
    "    lemma_list = [tok for tok in doc\n",
    "                  if tok.is_alpha and tok.text.lower() not in stopwords] \n",
    "    return lemma_list\n",
    "nlp.add_pipe('additional_preprocessing', last = True)"
   ]
  },
  {
   "cell_type": "code",
   "execution_count": 6,
   "id": "4c87ad15-66c8-480a-964b-7cb281cf8c27",
   "metadata": {},
   "outputs": [],
   "source": [
    "import pandas as pd\n",
    "import numpy as np\n",
    "SSOC_2020 = pd.read_csv('Data/Processed/Training/train-aws/SSOC_2020.csv')\n",
    "data = pd.read_csv('Data/Processed/Training/train-aws/train_full.csv')\n",
    "extra_info = pd.read_csv('Data/Processed/MCF_Training_Set_Full.csv')"
   ]
  },
  {
   "cell_type": "markdown",
   "id": "0e43b7cf-a621-4782-b3bd-94e77b4c0126",
   "metadata": {},
   "source": [
    "Run the `nlp` processing pipeline over the two corpuses and convert the job postings into vectors"
   ]
  },
  {
   "cell_type": "code",
   "execution_count": 8,
   "id": "e7fc08d5-97e6-4718-a309-f0f7576b3246",
   "metadata": {},
   "outputs": [],
   "source": [
    "SSOC_2020_nlp = list(nlp.pipe(SSOC_2020['Description']))\n",
    "data_nlp = list(nlp.pipe(data['Cleaned_Description']))"
   ]
  },
  {
   "cell_type": "code",
   "execution_count": 11,
   "id": "1e12ca34-948b-41b7-b5f6-d994489c0405",
   "metadata": {},
   "outputs": [
    {
     "name": "stdout",
     "output_type": "stream",
     "text": [
      "Job posting 42800/42842...\r"
     ]
    }
   ],
   "source": [
    "target_vecs = []\n",
    "for i, desc in enumerate(data_nlp):\n",
    "    if i % 100 == 0:\n",
    "        print(f'Job posting {i}/{len(data_nlp)}...\\r', end = '')\n",
    "    if len(desc) == 0:\n",
    "        target_vecs.append(np.array([0]*300))\n",
    "    else:\n",
    "        target_vecs.append(np.mean([token.vector for token in desc], axis = 0))"
   ]
  },
  {
   "cell_type": "markdown",
   "id": "f431f306-0945-4d43-8629-9a4771b02b41",
   "metadata": {},
   "source": [
    "Write a simple function to identify the top `n` jobs that are closest to the selected SSOC"
   ]
  },
  {
   "cell_type": "code",
   "execution_count": 66,
   "id": "95e3eedf-1a34-4d2a-b6f8-a0676f8d551c",
   "metadata": {},
   "outputs": [],
   "source": [
    "from sklearn.metrics.pairwise import cosine_similarity\n",
    "def identify_top_n(selected,\n",
    "                   data,\n",
    "                   extra_info,\n",
    "                   target_vecs,\n",
    "                   top_n = 10,\n",
    "                   threshold = 0.9):\n",
    "    \n",
    "    source_vec = np.array([np.mean([token.vector for token in selected], axis = 0)])\n",
    "    matrix = cosine_similarity(source_vec, target_vecs)\n",
    "    indices = np.apply_along_axis(lambda x: x.argsort()[-top_n:][::-1], axis = 1, arr = matrix)\n",
    "    above_threshold = matrix[0][indices][0] >= threshold\n",
    "    indices = [idx for idx, above in zip(indices[0], above_threshold) if above]\n",
    "    if len(indices) == 0:\n",
    "        print('None meet the threshold required.')\n",
    "    else:\n",
    "        cosine_similarity_index = 0\n",
    "        for i, row in data.loc[indices, :].iterrows():\n",
    "            print(f'Index: {i}')\n",
    "            print(f'Cosine similarity: {matrix[0][indices][cosine_similarity_index]}')\n",
    "            print(f'Predicted SSOC: {row[\"SSOC 2020\"]}')\n",
    "            print(f'Job title: {extra_info[\"title\"][i]}')\n",
    "            print(f'Description: {row[\"Cleaned_Description\"]}')\n",
    "            print('================================================================')\n",
    "            cosine_similarity_index += 1"
   ]
  },
  {
   "cell_type": "code",
   "execution_count": 382,
   "id": "4070e05f-5ece-43fc-adca-ee844f52f2c1",
   "metadata": {},
   "outputs": [],
   "source": [
    "#manual_tagging = {}\n",
    "pd.set_option('display.max_rows', 500)\n",
    "import copy\n",
    "import json\n",
    "with open('manual_tagging.json', 'w') as outfile:\n",
    "    json.dump(manual_tagging, outfile)"
   ]
  },
  {
   "cell_type": "code",
   "execution_count": 381,
   "id": "e774e90e-9ca5-4078-9af8-8334fa68cb78",
   "metadata": {},
   "outputs": [
    {
     "data": {
      "text/plain": [
       "19"
      ]
     },
     "execution_count": 381,
     "metadata": {},
     "output_type": "execute_result"
    }
   ],
   "source": [
    "len(manual_tagging.keys())"
   ]
  },
  {
   "cell_type": "code",
   "execution_count": 380,
   "id": "b253434a-89a5-4bfa-85aa-109d0cb3200d",
   "metadata": {},
   "outputs": [],
   "source": [
    "#print(manual_tagging[12191])"
   ]
  },
  {
   "cell_type": "code",
   "execution_count": 246,
   "id": "d139038e-8f45-43cb-bc38-0ed2e5a1bec3",
   "metadata": {},
   "outputs": [],
   "source": [
    "#manual_tagging[12191].append(42271)"
   ]
  },
  {
   "cell_type": "code",
   "execution_count": 378,
   "id": "c948c3c2-d29d-444d-aee8-8d31ca2d331e",
   "metadata": {},
   "outputs": [
    {
     "name": "stdout",
     "output_type": "stream",
     "text": [
      "Duplicate detected for index 10797 which has already been marked for SSOC 12111\n",
      "Duplicate detected for index 40689 which has already been marked for SSOC 12111\n",
      "Duplicate detected for index 33662 which has already been marked for SSOC 12111\n",
      "Duplicate detected for index 16999 which has already been marked for SSOC 12121\n",
      "Duplicate detected for index 26832 which has already been marked for SSOC 12121\n",
      "Duplicate detected for index 14748 which has already been marked for SSOC 12121\n",
      "SSOC: 12112\n",
      "[4096, 5125, 7185, 14357, 5657, 9761, 36, 41510, 7221, 22588, 19009, 12867, 22086, 7245, 22625, 23144, 21097, 20075, 23148, 24173, 31347, 11894, 10365, 3712, 24704, 20098, 20105, 4234, 16527, 27821, 36537, 4282, 6845, 32967, 4814, 22739, 32478, 15072, 22249, 14573, 33005, 20209, 30976, 32516, 33542, 32018, 11048, 19756, 37682, 31541, 14652, 36674, 23370, 20815, 20319, 35692, 24440, 22414, 21911, 29594, 20899, 24999, 38313, 26027, 32176, 16822, 33724, 23488, 20426, 27082, 38352, 15314, 5087, 37348, 11254]\n"
     ]
    }
   ],
   "source": [
    "manual_tagging[ssoc] = []\n",
    "inputting = []\n",
    "inputting_dedup = list(set(inputting))\n",
    "for key in manual_tagging.keys():\n",
    "    for new_idx in inputting_dedup:\n",
    "        if new_idx in manual_tagging[key]:\n",
    "            print(f'Duplicate detected for index {new_idx} which has already been marked for SSOC {key}')\n",
    "            inputting_dedup.remove(new_idx)\n",
    "manual_tagging[ssoc].extend(inputting_dedup)\n",
    "print(f'SSOC: {ssoc}')\n",
    "print(manual_tagging[ssoc])"
   ]
  },
  {
   "cell_type": "code",
   "execution_count": 379,
   "id": "5ac5910f-1ff1-4868-8666-7a5e280860de",
   "metadata": {},
   "outputs": [],
   "source": [
    "ssoc = 12221\n",
    "# stopped here"
   ]
  },
  {
   "cell_type": "code",
   "execution_count": 374,
   "id": "8d0304c2-77d0-435d-829f-9139e1829474",
   "metadata": {},
   "outputs": [
    {
     "name": "stdout",
     "output_type": "stream",
     "text": [
      "[36, 3712, 4096, 4234, 4282, 4814, 5087, 5125, 5657, 6845, 7185, 7221, 7245, 9761, 10365, 11048, 11254, 11894, 12867, 14357, 14573, 14652, 14748, 15072, 15314, 16527, 16822, 16999, 19009, 19756, 20075, 20098, 20105, 20209, 20319, 20426, 20815, 20899, 21097, 21911, 22086, 22249, 22414, 22588, 22625, 22739, 23144, 23148, 23370, 23488, 24173, 24440, 24704, 24999, 26027, 26832, 27082, 27821, 29594, 30976, 31347, 31541, 32018, 32176, 32478, 32516, 32967, 33005, 33542, 33724, 35692, 36537, 36674, 37348, 37682, 38313, 38352, 41510]\n"
     ]
    }
   ],
   "source": [
    "words = ['admin', 'manager']\n",
    "exclude = ['account', 'database', 'it', 'project']\n",
    "output = copy.deepcopy(extra_info)\n",
    "for word in words:\n",
    "    output = output[output['title'].str.lower().str.contains(word)]\n",
    "for word in exclude:\n",
    "    output = output[~output['title'].str.lower().str.contains(word)]\n",
    "job_titles_idx = output.index.tolist()\n",
    "print(job_titles_idx)"
   ]
  },
  {
   "cell_type": "code",
   "execution_count": 375,
   "id": "96ef84a9-fe28-41c5-8af8-c90ee3d9f6d5",
   "metadata": {},
   "outputs": [],
   "source": [
    "#extra_info.loc[25834, 'description']"
   ]
  },
  {
   "cell_type": "code",
   "execution_count": 376,
   "id": "57423a81-5105-448f-9187-7afcb34787f1",
   "metadata": {},
   "outputs": [
    {
     "data": {
      "text/plain": [
       "36                                  Administrative Manager\n",
       "3712     Senior Executive / Assistant Manager (Ophthalm...\n",
       "4096               Human Resource & Administration Manager\n",
       "4234                                         Admin Manager\n",
       "4282                      ASSISTANT ADMINISTRATIVE MANAGER\n",
       "4814                                Administration Manager\n",
       "5087                    Finance and Administrative Manager\n",
       "5125                                Administrative Manager\n",
       "5657                        Manager (Finance & Fund Admin)\n",
       "6845     Finance & Admin Manager (Fullset SAGE, HR Admi...\n",
       "7185     R00004959 Assistant Manager, Student Administr...\n",
       "7221                              Admin operations manager\n",
       "7245                                         ADMIN MANAGER\n",
       "9761                    Finance and Administrative Manager\n",
       "10365              Human Resource & Administration Manager\n",
       "11048                      Assistant Manager (Admin Sales)\n",
       "11254                 General Manager, HR & Administration\n",
       "11894             Customer Service cum Sales Admin Manager\n",
       "12867                  ASSISTANT FINANCE AND ADMIN MANAGER\n",
       "14357                                        Admin Manager\n",
       "14573    Senior Manager, Deputy President Administratio...\n",
       "14652              Human Resource & Administrative Manager\n",
       "14748                                   HR & Admin Manager\n",
       "15072                               administration manager\n",
       "15314    Hedge Fund Administration – Manager – Transfer...\n",
       "16527                               Administration Manager\n",
       "16822                     Assistant Administrative Manager\n",
       "16999                                HR CUM ADMIN MANAGER \n",
       "19009           Human Resource/Admin & Food Safety Manager\n",
       "19756    Business Operations & Administrative Manager (...\n",
       "20075                                   HR & Admin Manager\n",
       "20098              Senior Manager (Finance Administration)\n",
       "20105                    Manager(Finance & Administration)\n",
       "20209                               Administrative Manager\n",
       "20319                                        Admin Manager\n",
       "20426        Manager, Business Administration and Planning\n",
       "20815                              Sales Cum Admin Manager\n",
       "20899      Senior Executive/Assistant Manager (HR & Admin)\n",
       "21097                 Senior/Manager Finance Administrator\n",
       "21911              HR Executive/ Manager cum Administrator\n",
       "22086                              Admin Assistant Manager\n",
       "22249                         HR & Admin Manager (Hougang)\n",
       "22414                              Finance & Admin Manager\n",
       "22588                   Finance and Administration Manager\n",
       "22625                               Administrative Manager\n",
       "22739    Senior Executive/ Assistant Manager, Lease Adm...\n",
       "23144                               Administration Manager\n",
       "23148    Assistant Human Resources & Admin Manager - RE...\n",
       "23370                   Finance and Administrative Manager\n",
       "23488            Clinic Administration and Therapy Manager\n",
       "24173                     Admin Manager / Senior Executive\n",
       "24440    Assistant Manager/Manager, Programme administr...\n",
       "24704    Assistant Human Resources & Admin Manager - RE...\n",
       "24999                        SYSTEM ADMINISTRATOR  MANAGER\n",
       "26027                  Strive Admin and Operations Manager\n",
       "26832                                 HR Manager cum Admin\n",
       "27082              HUMAN RESOURCE & ADMINISTRATION MANAGER\n",
       "27821    Asst. Manager - Office Admin / Central / Immed...\n",
       "29594                               Administration Manager\n",
       "30976                               Administration Manager\n",
       "31347                        Office Administration Manager\n",
       "31541                               Administrative Manager\n",
       "32018                               Administrative Manager\n",
       "32176    CC11780115 - Senior HR & Admin Manager (MNC, p...\n",
       "32478    7104-HR & Admin Manager [FinTech industry/ Ful...\n",
       "32516                                   HR & Admin Manager\n",
       "32967    Senior Executive/Asst Manager, Paralegal and A...\n",
       "33005                                   HR & Admin Manager\n",
       "33542                              ASSISTANT ADMIN MANAGER\n",
       "33724                     Finance & Administrative Manager\n",
       "35692                            Finance and Admin Manager\n",
       "36537                       Academy Administration Manager\n",
       "36674    Senior Assistant Manager, Research Grant Admin...\n",
       "37348    Manager, Research Grant Administration (R00006...\n",
       "37682                               Administrative Manager\n",
       "38313                         SYSTEM ADMINISTRATOR MANAGER\n",
       "38352                         SYSTEM ADMINISTRATOR MANAGER\n",
       "41510                               Administration Manager\n",
       "Name: title, dtype: object"
      ]
     },
     "execution_count": 376,
     "metadata": {},
     "output_type": "execute_result"
    }
   ],
   "source": [
    "extra_info.loc[job_titles_idx, 'title']"
   ]
  },
  {
   "cell_type": "code",
   "execution_count": 377,
   "id": "084a1431-9ea9-4b22-aba7-1f32712ee62d",
   "metadata": {},
   "outputs": [
    {
     "name": "stdout",
     "output_type": "stream",
     "text": [
      "Index: 41600\n",
      "Cosine similarity: 0.9692999556017325\n",
      "Predicted SSOC: 12111\n",
      "Job title: Finance Manager (Up $8000 / Group Conso / Manufacturing / North)\n",
      "Description: Lead staff in accordance with organization's policies and applicable legislation. Responsibilities include planning, assigning, and directing work appraising performance and guiding professional development rewarding and disciplining employees addressing employee relations issues and resolving problems. Approve actions on human resources matters. May contribute to discussions on implementation of Finance strategy on a group/regional basis and implement objectives, as appropriate. Ensure staff have a consistent understanding and positive impression of business strategy in local country. Ensure compliance with established financial processes, and local compliance requirements, statutory government reporting, procedures and controls financial reporting and review of revenue, expenditures, asset management, tax, management reporting and administration. Advise operational leaders on financial, strategic, organizational, and business issues for both short- and long-term growth strategies. Assist in implementation of management and administrative financial systems, policies, and procedures to provide structure and discipline for sustained business growth. Oversee financial planning & business performance analysis, including budgeting, forecasting, cash flow, investment & risk management activities. Ensure the accuracy of financial statements and the adherence to corporate reporting timetables. Manage & liaise with external auditor/tax agent. Perform other duties as assigned.\n",
      "================================================================\n",
      "Index: 27395\n",
      "Cosine similarity: 0.9672300780254826\n",
      "Predicted SSOC: 12111\n",
      "Job title: #SGUnitedjobs Finance Manager\n",
      "Description: Oversee the financial activities and management information reporting requirements of local and regional based operations. Financial planning, preparation of forecast and annual budget, cash flow and inventory management of local and regional operations. Review and analyze monthly financial and management reports of the local and regional based operations. Formulate and manage the P&L of the manufacturing cycles of projects and accounting system. Support Management in formulating and reviewing financial policy, ensure maintenance of appropriate financial internal control safeguards, including review of risks and insurance matters. Support Management in the reporting requirements, as well as corporate secretarial matters. Support Management in liaising with auditors, bankers, legal advisors, tax agents and relevant governmental authorities. Spearheading all initiatives pertaining to the financial controls and corporate governance for the business. Leading team of Finance personnel to oversee the entire financial accounting and reporting functions.\n",
      "================================================================\n",
      "Index: 13072\n",
      "Cosine similarity: 0.9656317636138535\n",
      "Predicted SSOC: 33499\n",
      "Job title: Assistant General Manager for Luxury Shopping Malls #SGUnitedJobs\n",
      "Description: Ensure smooth operations to achieve operating goals. Develop and implement effective business strategies to the division. Lead and mentor divisional teams, including managers. Responsible for achieving maximum performance of the division by forecasting, planning and controlling of all expenses. Establish good financial planning and improvements. Perform risk management by analyzing the organization's liabilities and investments. Control and evaluate the organization's business plans and capital structureEnsure compliance with the law and Company's policies (such as IRAS for all Tax matters, Accounting procedures and processes etc.) Formulate HR policy aim at optimising producitivity and results. Ensure corporate governance activities in the Company (Managing Board of Directors Meeting, Annual General Meeting, Corporate Secretary function and etc.) Ensure compliance with the law and Company's policies (such as provide pragmatic advice on legal and compliance issues relating to the Corporate and Shopping Centre Management).\n",
      "================================================================\n",
      "Index: 22270\n",
      "Cosine similarity: 0.9632581601946819\n",
      "Predicted SSOC: 12111\n",
      "Job title: Accounting and Adminstration Manager\n",
      "Description: Oversee administrative processes of the company's offices, in coordination with local teams. Overseeing and reviewing works of the operational/administration team that are directly or indirectly linked to company's accounts, systems and controls. Understand company's invoicing, stocks and accounting and financial system and communicate with the entire team to ensure all entries results in no errors. Hold strong initiatives in strengthening current internal control and process improvement and setting up SOPs and provide guidance to the operational team. Managing and overseeing the daily operations of the administration and accounting department. Establishing and enforcing proper accounting methods, policies and principles. Accepting all new tasks and is able to find solutions independently to complete the tasks impeccably. Taking Minutes and keeping track of job tasks. To manage company administrative and secretarial duties. Has experience of Corporate secretarial processes (AGM, registering of company etc) Setting up of Bank Accounts. To arrange local and overseas documents for endorsement and courier. To assist with company book-keeping, bank statement reconciliation and CEO's claims. Assist filing of contracts and documents for intercompany transactions/ inter-country. Organize and maintain document filing system for easy reference. Setting up of and review of contracts and MOU. Liaising with external parties such as accountants, auditors and tax agents and others.\n",
      "================================================================\n",
      "Index: 40037\n",
      "Cosine similarity: 0.962876391397629\n",
      "Predicted SSOC: 12111\n",
      "Job title: Assistant Finance Manager\n",
      "Description: Directs and oversees all aspects of finance and accounting functions of the Group entities. Ensure timely closing of monthly management accounts, half-yearly and full year release of financial results to SGX-NT. Oversees the financial operations of foreign subsidiaries. Preparation of operating / Capex budgets for Board's approval. Co-ordinate the preparation of Annual Report, responsible for the integrity of financial information therein. Assists the Executive Director in managing the operational aspects of manufacturing and business activities, including review of legal agreements and documentations. Maintain relations with internal auditor, external auditors, company secretary, lawyers. Investigate their findings and recommendation and to ensure the company complies with all legal and regulatory requirements.\n",
      "================================================================\n",
      "Index: 3627\n",
      "Cosine similarity: 0.9627559924360685\n",
      "Predicted SSOC: 11202\n",
      "Job title: Chief of Staff\n",
      "Description: Serve as liaison between staff, executives, senior leaders and CEO, regarding company climate, employee well-being, project updates, proposals, and planning. Assist the human resources department with new hires, including documentation and on-boarding, and collaborate to address and resolve all employee concerns. Oversee daily operations through collaboration with senior management and department leaders, performing an array of administrative tasks from managing calendars, generating correspondence, maintaining hard copy and electronic files, planning and coordinating annual corporate meetings, and scheduling facilities. Build and develop relationships with all employees for increased efficiency and effective responsiveness into existing operations, and help to define new operational strategies. Participates in strategic initiatives by leading them and reporting results back to the Chief Executive Officer. Serve as a subject matter expert, handling inquiries and developing action plans to address them, and assisting with the preparation and dissemination of communications.\n",
      "================================================================\n",
      "Index: 3845\n",
      "Cosine similarity: 0.9611791248617192\n",
      "Predicted SSOC: 11201\n",
      "Job title: CFO/CRO\n",
      "Description: Responsible for all cash management, budgeting, financial planning and financial reporting, helping to drive the Company's financial strategy and fundraising targets. Coordinate the development of the annual operating, capital, and program budgets, and reporting against the same. Ensure cash flow is compatible with Company operations, by overseeing the day-to-day accounting, recording, reporting, and internal control activities of the organization. Manage 3rd parties including auditors, accountants and tax advisors. Lead the development and use of best-practice policies, practices, and tools that ensure a well-controlled yet flexible organization with strong fiscal management, project management, cross team communications and workflow. Responsible for managing the risk analytics team to ensure robust monitoring of loan portfolios and appropriate escalation and mitigation actions depending on criticality of the risk. Responsible for customer contracting and invoicing. Ensure compliance with all relevant regulations through direct coverage of Singapore jurisdiction and management of other country-specific compliance officers. Build and lead teams of high-performing professionals across Finance, Risk and Compliance functions.\n",
      "================================================================\n",
      "Index: 32336\n",
      "Cosine similarity: 0.9606344027950052\n",
      "Predicted SSOC: 12111\n",
      "Job title: Manager ( Finance )\n",
      "Description: Oversee the full range of financial functions and accountings in accordance with statutory requirements, company policies and procedures. Review financial policies, procedures, key internal control tools and continue to provide recommendations for further improvements. Liaise with all relevant authorities including bankers, auditors, tax agents and / or statutory boards. Manage and provide leadership to a team of Finance personnel. Provide advisory role in other areas such as financial matters of resident, procurement, information technology, submission of data to relevant authorities and application of project / one time funding. Administration of access rights to IT system.\n",
      "================================================================\n",
      "Index: 23096\n",
      "Cosine similarity: 0.9605275668845255\n",
      "Predicted SSOC: 12111\n",
      "Job title: Finance Manager\n",
      "Description: Manage and supervise Finance and Accounting Operations inshore and offshore team providing leadership, developing objectives for the group and monitoring achievement with respect to KPIs. Manage and oversee the daily operation of the accounting department of Singapore and APAC countries which includes GL, AP, AR, fixed assets and cashflow management. Timely preparation of year-end statutory financial statements. Work closely with respective finance team of APAC owned entities to drive for better transparency in financial information in compliance with BCD Group policies. Improve internal control procedure and governance compliance in accordance with local and international accounting standards. Supervise and participate in the preparation to ensure an accurate and timely preparation of monthly, quarterly, annual financial and management reports for respective stakeholders. Assist in cashflow management in maximizing cash availability and utilizations. Support management and advise on business and cost performance. Jointly liaise with internal and external parties on all industry related/regulatory requirements in compliance with local and global accounting standard. Lead initiatives on process improvements and other finance and ad hoc projects.\n",
      "================================================================\n",
      "Index: 25519\n",
      "Cosine similarity: 0.9604965312573921\n",
      "Predicted SSOC: 12111\n",
      "Job title: ACCOUNTING MANAGER\n",
      "Description: Hiring, training, and motivating accounting staff members while supervising and delegating department tasks. Evaluating, developing, and improving department controls, systems, and procedures that increase accuracy and efficiency. Overseeing the daily activities of the accounting department and ensuring that all major projects, month-end, and year-end reports are completed accurately and on time. Ensuring that all accounting processes align with GAAP and current financial legislation. Analyzing financial data and creating reports for management, stakeholders, and external parties, such as vendors or lenders. Maintaining accurate and complete financial records and participating in audits or reconciliations, as needed. Assisting other departments as they develop strategies, establish objectives, and make decisions that could have a financial impact on the business. Keeping informed about the latest developments in the finance industry.\n",
      "================================================================\n",
      "Index: 30106\n",
      "Cosine similarity: 0.9596169405369361\n",
      "Predicted SSOC: 12111\n",
      "Job title: Finance Manager\n",
      "Description: Oversee and manage the company's finance and accounting function and play a key role in shaping Visenze's financial planning and development. Drive the company's financial controls, reporting, and analysis, providing related ongoing advice to leadership team, whilst advocating continuous improvements in all aspects of finance. Manage month end closing activities which include preparing detailed consolidated management accounts in accordance with accounting standards (P&L, balance sheet and cash flow statements) for internal and external stakeholders. Responsible for day-to-day financial and accounting operations within the group which may include vendor payments, AR & AP entries, intercompany entries, bank reconciliation, revenue billing, capital expenditures and other transactions. Oversee all corporate secretarial matters and be the liaison role for all things finance including and not limited to, maintaining and owning financial policies and procedures for the company (adherence to financial regulations and legislations) Manage all tax-related matters such as international tax, GST reporting, transfer pricing and corporate tax etc. Owner of audit process and completion, includes and not limited to, managing outside services for tax preparation, auditing and banking. Manage 3rd party service providers in China and Japan. Manage external relations, grants, collaborations etc with external parties such as and not limited to audit, tax, government bodies, banks, vendors etc. Develop, implement and review efficient and effective accounting and finance processes, exploring ways to leverage technology, streamline processes for end-to-end financial management. Support necessary reporting and board of director deliverables, including financial aspects of board meeting materials. Perform any tasks/projects as assigned, in support of the senior leadership team. Collaborate on cross-functional projects and provide finance advice and input on new initiatives as and when required.\n",
      "================================================================\n",
      "Index: 23507\n",
      "Cosine similarity: 0.9593160440770668\n",
      "Predicted SSOC: 12111\n",
      "Job title: Regional Cost Controller Manager\n",
      "Description: Advise the General Management on Finance related issues in order to contribute to the sustainable development of the entity. Ensure respect of Group standards (Finance, Accounting, Controlling, Legal and Tax) in line with legislation and best practices of internal audit. Manage the plan, budget and trends. Supervise the reporting process. Set up and update procedures to guarantee the consistency, relevance and reliability of administrative and financial flow of information (expenditures, payments to suppliers) Anticipate financial risks when necessary, take appropriate corrective measures. Manage Information Technologies of the entity in accordance with the Group's policies ensuring sustainability and safety. Consolidate the entity accounts and monitor treasury flows. Manage the foreign exchange hedging. Supervise the closing of statutory accounts. Recruit, develop and manage his/her teams. Ensure development of expertise and know-how and lead the organisation development. Lead relationships with external auditors, banks and the Tax Department. Ensure legal compliance of activities by a close follow-up of contracts and litigations (in connection with the Corporate Legal Department or local one if any).\n",
      "================================================================\n",
      "Index: 1881\n",
      "Cosine similarity: 0.9591081758850961\n",
      "Predicted SSOC: 41201\n",
      "Job title: Senior Corporate Secretarial Consultant\n",
      "Description: Background Acclime has recently acquired 2 businesses in Singapore and continues to grow its accounting, tax, advisory and corporate services organically. With the continued growth in scope and size, Acclime is looking to increase its professional capacity. Role Description As a Senior Corporate Secretarial Consultant, you will assist the Team Manager in managing and directing work activities of the Corporate Secretarial team as well as in providing support and advice to clients and internally. You will be a key point of contact for our local and international clients. Your responsibilities include: Collaboration with other functions within the company and across offices in other countries for excellent service delivery with regard to internal and client corporate transactions. Provide advice and guidance on good corporate governance, best practices and legalities surrounding entity administration and compliance. Interpretation of regulations and by-laws and provision of advice and counsel on statutory documentation, company policies and procedures. Updating of compliance policies and frameworks. Drive improvements to the Company Secretary function through the successful implementation of projects and initiatives. Monitor developments in corporate governance and changes to company law and relevant regulations. Undertaking company secretarial responsibilities such as: Company incorporations, registration of foreign branches and representative offices, striking-off of companies Directors' / shareholders' resolutions for corporate transactions and changes. Review, draft, negotiate and/or update contracts and documentation including but not limited to shareholders agreements, term sheets, NDAs, constitution, SPAs, due diligence documentation, employment contracts and ESOP's, etc. Managing the operational aspects of shareholders' and directors' meetings Liaison with Auditors, Directors & Government agencies Licensing matters Onboarding of new clients Requirements We are keen to speak with individuals with a demonstrated track record in a similar role, ideally within professional service provider space, and strong knowledge of company secretarial practices and procedures. Diploma/Degree in Business Administration or Business Law is preferred, ICSA / CSIS qualification is an advantage. The ideal candidate would possess the following: Excellent planning and organisation skills, verbal and written skills, attention to detail and enjoys working in a fast-paced, varied environment. Adaptable to different cultures and working with diverse and virtual teams.Solid understanding of Companies Act and all ancillary regulations. Skilled in using Microsoft Office, SharePoint and Docusign familiarity with Xero and QuickBooks is an advantage Good people management and interpersonal skills.\n",
      "================================================================\n",
      "Index: 30402\n",
      "Cosine similarity: 0.9589682489150128\n",
      "Predicted SSOC: 33499\n",
      "Job title: Executive, Psychosocial Services\n",
      "Description: Support cross-unit/ team programmes and initiatives of the department /organization. Supervise the consolidation of management reports/ documents to ensure accuracy and completeness. Oversees department database & maintain statistical data for reporting. Collate and submit timely updates/ reports to relevant committees/authorities/agencies. Responsible for all office systems, equipment, supplies and stationeries, including procurement, maintenance, repairs and stock level. Seek quotations, raise purchase requisitions/ orders and obtain necessary approvals for all office-related procurements in compliance with corporate policies. Assist in coordinating and supporting various meetings &/or programmes. Coordinating patients' applications for government payouts. Manage department's intranet and IT-related matters. Lead team of admin staff. Highlight areas of enhancement and provide inputs to improve the operational efficiency to support the work of the department. Monitor the delivery of administrative duties to ensure that they adhere to service standards, performance indicators and operating guidelines.\n",
      "================================================================\n",
      "Index: 2125\n",
      "Cosine similarity: 0.9589328432470894\n",
      "Predicted SSOC: 33499\n",
      "Job title: Assistant Vice President, Corporate Secretariat\n",
      "Description: You will be designated as Company Secretary and lead the Company's in house secretariat team in providing corporate secretarial support for the Group, with both local and overseas interests. Provide leadership, supervision and staff development for an effective and motivated team. Manage the functions of the corporate secretariat department, ensure regulatory compliance with the Companies Act and other requirements. Handle a wide spectrum of corporate secretarial works including preparation of Board resolutions, minutes of meetings and documents for joint ventures and liaising with investors and partners. Assist in the logistics for the Annual General Meeting and Board Meetings. Ensure that the statutory records of a group of companies are updated and maintained on a timely basis, as required under the provisions of the Companies Act, Cap 50. Liaise with auditors, ACRA officers and other external parties. Support supervisor in all aspects of secretarial and compliance, participate in new initiatives, and ad-hoc projects assigned by him/her.\n",
      "================================================================\n"
     ]
    }
   ],
   "source": [
    "ssoc_index = SSOC_2020[SSOC_2020['SSOC 2020'] == ssoc].index[0]\n",
    "identify_top_n(SSOC_2020_nlp[ssoc_index], data, extra_info, target_vecs, top_n = 15, threshold = 0.85)"
   ]
  },
  {
   "cell_type": "code",
   "execution_count": 56,
   "id": "d769a39c-d11a-46c0-95e7-bc8ab91bff32",
   "metadata": {},
   "outputs": [
    {
     "name": "stdout",
     "output_type": "stream",
     "text": [
      "Group Legal & Compliance Counsel\n",
      "<p>This incumbent will assist to monitor changes to laws and regulations in Singapore and APAC offices, coordinate between Compliance Team and other depts on implementation, give guidance on operationalising changes in laws and interpretation of laws and regulations and on compliance matters that require legal input, updating and maintenance of cross border opinions on permissibility of marketing in various countries, advising on laws and regulations relating to new products and businesses, assist Dept Head in managing litigations and projects related to legal or regulatory matters.</p>\n",
      "<p><br></p>\n",
      "<p><strong>Responsibilities:</strong></p>\n",
      "<ul>\n",
      "  <li>Monitoring for changes to laws and regulations.</li>\n",
      "  <li>Summarising changes to laws, understanding implications and impact and advising      relevant depts on the changes and on implementation.</li>\n",
      "  <li>Ensuring Legal Team is aware of and understands the changes to laws.</li>\n",
      "  <li>Updating and maintenance of cross border opinions on permissibility of marketing in various countries</li>\n",
      "  <li>Advising on laws and regulations relating to new products and businesses,</li>\n",
      "  <li>Assist dept head in managing litigations.</li>\n",
      "  <li>Coordinate with Compliance Team on implementation and interpretation of laws and regulations and on compliance matters that require legal input.</li>\n",
      "  <li>Such other matters as advised by team or dept head.</li>\n",
      "</ul>\n",
      "<p><strong>Requirements:</strong></p>\n",
      "<ul>\n",
      "  <li>LLB Degree above third class and called to Singapore Bar.</li>\n",
      "  <li>At least 4 years’ experience in a law firm or in a financial institution’s legal dept as a regulatory lawyer.</li>\n",
      "  <li>Worked on cross border/regional legal matters and on regulations and regulatory matters; Prepared to be involved in regulatory compliance and give guidance on operationalising changes in laws is desirable.</li>\n",
      "  <li>Knowledge of regulatory requirements and recent developments; knowledge of banking laws and regulations and products and services.</li>\n",
      "  <li>Project management skills is good-to-have.</li>\n",
      "  <li>Able to work independently; self motivated.</li>\n",
      "  <li>Good communications skills, hands on individual.</li>\n",
      "  <li>Matured with good analytical and problem-solving skills.</li>\n",
      "  <li>Has interest in legal and regulatory matters and how this relates to the bank’s actual business and      processes. Able to apply technical knowledge to day to day realities. Not looking for an easier pace of work than in a law firm.</li>\n",
      "  <li>Not fixed in ways or thinking; prepared to consider alternatives and to reach a balanced decision; Comfortable in dealing with grey areas and making judgment calls where necessary.</li>\n",
      "</ul>\n",
      "<p><strong>Interested applicants, please submit your application with an attached resume.</strong></p>\n"
     ]
    }
   ],
   "source": [
    "picked = 25513\n",
    "print(extra_info.loc[picked, 'title'])\n",
    "print(extra_info.loc[picked, 'description'])"
   ]
  },
  {
   "cell_type": "markdown",
   "id": "c804e260-1e35-4013-a7c4-5043c285229c",
   "metadata": {
    "tags": []
   },
   "source": [
    "### D) Trying out lambada\n",
    "\n",
    "Ref: https://github.com/makcedward/nlpaug/blob/master/example/lambada-train_model.ipynb"
   ]
  },
  {
   "cell_type": "code",
   "execution_count": 71,
   "id": "cb197d9e-bad9-4a93-8781-cdf7a24704db",
   "metadata": {},
   "outputs": [],
   "source": [
    "test_data = data.sample(100)\n",
    "\n",
    "test_data = test_data[['SSOC 2020', 'Cleaned_Description']]"
   ]
  },
  {
   "cell_type": "code",
   "execution_count": 72,
   "id": "57ecde3b-1665-4fb2-81ad-8f1425c623ca",
   "metadata": {},
   "outputs": [],
   "source": [
    "test_data.rename({'SSOC 2020': 'label', 'Cleaned_Description': 'text'}, axis=1, inplace=True)"
   ]
  },
  {
   "cell_type": "code",
   "execution_count": 73,
   "id": "60c8f9aa-309f-4b1e-bd18-4dab864a9f72",
   "metadata": {},
   "outputs": [],
   "source": [
    "test_data = test_data[['text', 'label']]"
   ]
  },
  {
   "cell_type": "code",
   "execution_count": 76,
   "id": "c4dae864-e575-426f-832a-5d98cf5aec6d",
   "metadata": {},
   "outputs": [],
   "source": [
    "test_data.to_csv('Data/test/classification.csv', index = False)"
   ]
  },
  {
   "cell_type": "markdown",
   "id": "06967df2-b3ce-48e9-abd6-53acf1780a8d",
   "metadata": {},
   "source": [
    "Training classifier\n",
    "\n",
    "DL files from nlpaug\n",
    "Copy and paste scripts from nlpaug to Models folder\n",
    "Create file path model\\lambada\\cls in Models folder\n",
    "Uploaded c"
   ]
  },
  {
   "cell_type": "code",
   "execution_count": 78,
   "id": "24f3a89b-23ff-4ed2-9318-edeb794f1cb8",
   "metadata": {},
   "outputs": [
    {
     "name": "stderr",
     "output_type": "stream",
     "text": [
      "C:\\Users\\benjamin\\Desktop\\my_enviro\\lib\\site-packages\\torchaudio\\backend\\utils.py:67: UserWarning: No audio backend is available.\n",
      "  warnings.warn('No audio backend is available.')\n",
      "Some weights of the model checkpoint at roberta-base were not used when initializing RobertaForSequenceClassification: ['lm_head.bias', 'lm_head.layer_norm.weight', 'roberta.pooler.dense.weight', 'lm_head.dense.weight', 'lm_head.layer_norm.bias', 'lm_head.decoder.weight', 'lm_head.dense.bias', 'roberta.pooler.dense.bias']\n",
      "- This IS expected if you are initializing RobertaForSequenceClassification from the checkpoint of a model trained on another task or with another architecture (e.g. initializing a BertForSequenceClassification model from a BertForPreTraining model).\n",
      "- This IS NOT expected if you are initializing RobertaForSequenceClassification from the checkpoint of a model that you expect to be exactly identical (initializing a BertForSequenceClassification model from a BertForSequenceClassification model).\n",
      "Some weights of RobertaForSequenceClassification were not initialized from the model checkpoint at roberta-base and are newly initialized: ['classifier.dense.weight', 'classifier.out_proj.weight', 'classifier.out_proj.bias', 'classifier.dense.bias']\n",
      "You should probably TRAIN this model on a down-stream task to be able to use it for predictions and inference.\n",
      "C:\\Users\\benjamin\\Desktop\\my_enviro\\lib\\site-packages\\simpletransformers\\classification\\classification_model.py:586: UserWarning: Dataframe headers not specified. Falling back to using column 0 as text and column 1 as labels.\n",
      "  \"Dataframe headers not specified. Falling back to using column 0 as text and column 1 as labels.\"\n",
      "\n",
      "  0%|          | 0/8 [00:00<?, ?it/s]\n",
      " 12%|#2        | 1/8 [00:04<00:34,  4.91s/it]\n",
      " 12%|#2        | 1/8 [00:04<00:34,  4.91s/it]C:\\Users\\benjamin\\Desktop\\my_enviro\\lib\\site-packages\\torchaudio\\backend\\utils.py:67: UserWarning: No audio backend is available.\n",
      "  warnings.warn('No audio backend is available.')\n",
      "C:\\Users\\benjamin\\Desktop\\my_enviro\\lib\\site-packages\\torchaudio\\backend\\utils.py:67: UserWarning: No audio backend is available.\n",
      "  warnings.warn('No audio backend is available.')\n",
      "C:\\Users\\benjamin\\Desktop\\my_enviro\\lib\\site-packages\\torchaudio\\backend\\utils.py:67: UserWarning: No audio backend is available.\n",
      "  warnings.warn('No audio backend is available.')\n",
      "C:\\Users\\benjamin\\Desktop\\my_enviro\\lib\\site-packages\\torchaudio\\backend\\utils.py:67: UserWarning: No audio backend is available.\n",
      "  warnings.warn('No audio backend is available.')\n",
      "C:\\Users\\benjamin\\Desktop\\my_enviro\\lib\\site-packages\\torchaudio\\backend\\utils.py:67: UserWarning: No audio backend is available.\n",
      "  warnings.warn('No audio backend is available.')\n",
      "\n",
      "\n",
      "Epoch:   0%|          | 0/2 [00:00<?, ?it/s]\n",
      "Epoch 1 of 2:   0%|          | 0/2 [00:00<?, ?it/s]\n",
      "\n",
      "Running Epoch 0 of 2:   0%|          | 0/1 [00:00<?, ?it/s]\u001b[A\n",
      "\n",
      "Epochs 0/2. Running Loss:    1.0667:   0%|          | 0/1 [00:03<?, ?it/s]\u001b[A\n",
      "\n",
      "Epochs 0/2. Running Loss:    1.0667: 100%|##########| 1/1 [00:09<00:00,  9.24s/it]\u001b[A\n",
      "Epochs 0/2. Running Loss:    1.0667: 100%|##########| 1/1 [00:09<00:00,  9.24s/it]\n",
      "\n",
      "Epoch 1 of 2:  50%|#####     | 1/2 [00:21<00:21, 21.15s/it]\n",
      "Epoch 2 of 2:  50%|#####     | 1/2 [00:21<00:21, 21.15s/it]\n",
      "\n",
      "Running Epoch 1 of 2:   0%|          | 0/1 [00:00<?, ?it/s]\u001b[A\n",
      "\n",
      "Epochs 1/2. Running Loss:    1.0800:   0%|          | 0/1 [00:04<?, ?it/s]\u001b[A\n",
      "\n",
      "Epochs 1/2. Running Loss:    1.0800: 100%|##########| 1/1 [00:09<00:00,  9.87s/it]\u001b[A\n",
      "Epochs 1/2. Running Loss:    1.0800: 100%|##########| 1/1 [00:09<00:00,  9.87s/it]\n",
      "\n",
      "Epoch 2 of 2: 100%|##########| 2/2 [00:43<00:00, 21.60s/it]\n",
      "Epoch 2 of 2: 100%|##########| 2/2 [00:43<00:00, 21.53s/it]\n"
     ]
    }
   ],
   "source": [
    "!python Models/scripts/lambada/train_cls.py  \\\n",
    "    --train_data_path Data/test/classification.csv \\\n",
    "    --val_data_path Data/test/classification.csv \\\n",
    "    --output_dir Models/model/lambada/cls \\\n",
    "    --device cpu \\\n",
    "    --num_epoch 2"
   ]
  },
  {
   "cell_type": "markdown",
   "id": "7f4a77c5-cd76-4395-a006-82a8f74bb7dd",
   "metadata": {},
   "source": [
    "Output processing data as mlm_data.txt"
   ]
  },
  {
   "cell_type": "code",
   "execution_count": 79,
   "id": "215d5d70-be1f-49f8-844a-71769ed33df6",
   "metadata": {},
   "outputs": [],
   "source": [
    "!python Models/scripts/lambada/data_processing.py \\\n",
    "    --data_path Data/test/classification.csv \\\n",
    "    --output_dir Data/test"
   ]
  },
  {
   "cell_type": "code",
   "execution_count": 98,
   "id": "bab36686-9f2f-44be-a1e2-baca36c41a07",
   "metadata": {},
   "outputs": [
    {
     "name": "stdout",
     "output_type": "stream",
     "text": [
      "10/15/2021 17:53:44 - WARNING - __main__ -   Process rank: -1, device: cpu, n_gpu: 0distributed training: False, 16-bits training: False\n",
      "10/15/2021 17:53:44 - INFO - __main__ -   Training/evaluation parameters TrainingArguments(\n",
      "_n_gpu=0,\n",
      "adafactor=False,\n",
      "adam_beta1=0.9,\n",
      "adam_beta2=0.999,\n",
      "adam_epsilon=1e-08,\n",
      "dataloader_drop_last=False,\n",
      "dataloader_num_workers=0,\n",
      "dataloader_pin_memory=True,\n",
      "ddp_find_unused_parameters=None,\n",
      "debug=[],\n",
      "deepspeed=None,\n",
      "disable_tqdm=False,\n",
      "do_eval=False,\n",
      "do_predict=False,\n",
      "do_train=True,\n",
      "eval_accumulation_steps=None,\n",
      "eval_steps=None,\n",
      "evaluation_strategy=IntervalStrategy.NO,\n",
      "fp16=False,\n",
      "fp16_backend=auto,\n",
      "fp16_full_eval=False,\n",
      "fp16_opt_level=O1,"
     ]
    },
    {
     "name": "stderr",
     "output_type": "stream",
     "text": [
      "Using the `WAND_DISABLED` environment variable is deprecated and will be removed in v5. Use the --report_to flag to control the integrations used for logging result (for instance --report_to none).\n",
      "\n",
      "0 tables [00:00, ? tables/s]\n",
      "                            \n",
      "[INFO|file_utils.py:1631] 2021-10-15 17:53:46,440 >> https://huggingface.co/gpt2/resolve/main/config.json not found in cache or force_download set to True, downloading to C:\\Users\\benjamin\\.cache\\huggingface\\transformers\\tmpgxgi5rlu\n",
      "\n",
      "Downloading:   0%|          | 0.00/665 [00:00<?, ?B/s]\n",
      "Downloading: 100%|##########| 665/665 [00:00<00:00, 166kB/s]\n",
      "[INFO|file_utils.py:1635] 2021-10-15 17:53:47,507 >> storing https://huggingface.co/gpt2/resolve/main/config.json in cache at C:\\Users\\benjamin/.cache\\huggingface\\transformers\\fc674cd6907b4c9e933cb42d67662436b89fa9540a1f40d7c919d0109289ad01.7d2e0efa5ca20cef4fb199382111e9d3ad96fd77b849e1d4bed13a66e1336f51\n",
      "[INFO|file_utils.py:1643] 2021-10-15 17:53:47,510 >> creating metadata file for C:\\Users\\benjamin/.cache\\huggingface\\transformers\\fc674cd6907b4c9e933cb42d67662436b89fa9540a1f40d7c919d0109289ad01.7d2e0efa5ca20cef4fb199382111e9d3ad96fd77b849e1d4bed13a66e1336f51\n",
      "[INFO|configuration_utils.py:545] 2021-10-15 17:53:47,519 >> loading configuration file https://huggingface.co/gpt2/resolve/main/config.json from cache at C:\\Users\\benjamin/.cache\\huggingface\\transformers\\fc674cd6907b4c9e933cb42d67662436b89fa9540a1f40d7c919d0109289ad01.7d2e0efa5ca20cef4fb199382111e9d3ad96fd77b849e1d4bed13a66e1336f51\n",
      "[INFO|configuration_utils.py:581] 2021-10-15 17:53:47,521 >> Model config GPT2Config {\n",
      "  \"activation_function\": \"gelu_new\",\n",
      "  \"architectures\": [\n",
      "    \"GPT2LMHeadModel\"\n",
      "  ],\n",
      "  \"attn_pdrop\": 0.1,\n",
      "  \"bos_token_id\": 50256,\n",
      "  \"embd_pdrop\": 0.1,\n",
      "  \"eos_token_id\": 50256,\n",
      "  \"gradient_checkpointing\": false,\n",
      "  \"initializer_range\": 0.02,\n",
      "  \"layer_norm_epsilon\": 1e-05,\n",
      "  \"model_type\": \"gpt2\",\n",
      "  \"n_ctx\": 1024,\n",
      "  \"n_embd\": 768,\n",
      "  \"n_head\": 12,\n",
      "  \"n_inner\": null,\n",
      "  \"n_layer\": 12,\n",
      "  \"n_positions\": 1024,\n",
      "  \"resid_pdrop\": 0.1,\n",
      "  \"scale_attn_weights\": true,\n",
      "  \"summary_activation\": null,\n",
      "  \"summary_first_dropout\": 0.1,\n",
      "  \"summary_proj_to_labels\": true,\n",
      "  \"summary_type\": \"cls_index\",\n",
      "  \"summary_use_proj\": true,\n",
      "  \"task_specific_params\": {\n",
      "    \"text-generation\": {\n",
      "      \"do_sample\": true,\n",
      "      \"max_length\": 50\n",
      "    }\n",
      "  },\n",
      "  \"transformers_version\": \"4.9.2\",\n",
      "  \"use_cache\": true,\n",
      "  \"vocab_size\": 50257\n",
      "}\n",
      "\n",
      "[INFO|tokenization_utils_base.py:1664] 2021-10-15 17:53:47,529 >> Didn't find file Models/model/lambada/cls\\added_tokens.json. We won't load it.\n",
      "[INFO|tokenization_utils_base.py:1728] 2021-10-15 17:53:47,531 >> loading file Models/model/lambada/cls\\vocab.json\n",
      "[INFO|tokenization_utils_base.py:1728] 2021-10-15 17:53:47,532 >> loading file Models/model/lambada/cls\\merges.txt\n",
      "[INFO|tokenization_utils_base.py:1728] 2021-10-15 17:53:47,532 >> loading file Models/model/lambada/cls\\tokenizer.json\n",
      "[INFO|tokenization_utils_base.py:1728] 2021-10-15 17:53:47,532 >> loading file None\n",
      "[INFO|tokenization_utils_base.py:1728] 2021-10-15 17:53:47,532 >> loading file Models/model/lambada/cls\\special_tokens_map.json\n",
      "[INFO|tokenization_utils_base.py:1728] 2021-10-15 17:53:47,532 >> loading file Models/model/lambada/cls\\tokenizer_config.json\n",
      "[INFO|file_utils.py:1631] 2021-10-15 17:53:48,684 >> https://huggingface.co/gpt2/resolve/main/pytorch_model.bin not found in cache or force_download set to True, downloading to C:\\Users\\benjamin\\.cache\\huggingface\\transformers\\tmpjm6zvm74\n",
      "\n",
      "Downloading:   0%|          | 0.00/548M [00:00<?, ?B/s]\n",
      "Downloading:   1%|          | 3.78M/548M [00:00<00:14, 37.8MB/s]\n",
      "Downloading:   2%|1         | 10.6M/548M [00:00<00:09, 55.4MB/s]\n",
      "Downloading:   3%|2         | 16.4M/548M [00:00<00:09, 56.3MB/s]\n",
      "Downloading:   4%|4         | 23.2M/548M [00:00<00:08, 60.7MB/s]\n",
      "Downloading:   5%|5         | 29.2M/548M [00:00<00:08, 58.8MB/s]\n",
      "Downloading:   7%|6         | 35.8M/548M [00:00<00:08, 61.0MB/s]\n",
      "Downloading:   8%|7         | 41.9M/548M [00:00<00:09, 54.3MB/s]\n",
      "Downloading:   9%|8         | 49.2M/548M [00:00<00:08, 59.7MB/s]\n",
      "Downloading:  10%|#         | 55.3M/548M [00:00<00:08, 55.4MB/s]\n",
      "Downloading:  11%|#1        | 62.5M/548M [00:01<00:08, 59.8MB/s]\n",
      "Downloading:  13%|#2        | 68.6M/548M [00:01<00:08, 57.5MB/s]\n",
      "Downloading:  14%|#3        | 75.5M/548M [00:01<00:07, 60.7MB/s]\n",
      "Downloading:  15%|#4        | 81.7M/548M [00:01<00:07, 58.4MB/s]\n",
      "Downloading:  16%|#6        | 88.6M/548M [00:01<00:07, 61.1MB/s]\n",
      "Downloading:  17%|#7        | 94.7M/548M [00:01<00:07, 60.8MB/s]\n",
      "Downloading:  18%|#8        | 101M/548M [00:01<00:07, 61.9MB/s] \n",
      "Downloading:  20%|#9        | 107M/548M [00:01<00:07, 55.9MB/s]\n",
      "Downloading:  21%|##        | 115M/548M [00:01<00:07, 60.3MB/s]\n",
      "Downloading:  22%|##2       | 121M/548M [00:02<00:06, 61.8MB/s]\n",
      "Downloading:  24%|##3       | 129M/548M [00:02<00:06, 66.3MB/s]\n",
      "Downloading:  25%|##4       | 136M/548M [00:02<00:06, 63.8MB/s]\n",
      "Downloading:  26%|##5       | 142M/548M [00:02<00:06, 62.9MB/s]\n",
      "Downloading:  27%|##7       | 149M/548M [00:02<00:06, 60.3MB/s]\n",
      "Downloading:  28%|##8       | 156M/548M [00:02<00:06, 63.3MB/s]\n",
      "Downloading:  30%|##9       | 162M/548M [00:02<00:06, 63.5MB/s]\n",
      "Downloading:  31%|###       | 169M/548M [00:02<00:05, 63.6MB/s]\n",
      "Downloading:  32%|###1      | 175M/548M [00:02<00:06, 59.2MB/s]\n",
      "Downloading:  33%|###3      | 183M/548M [00:03<00:05, 65.0MB/s]\n",
      "Downloading:  35%|###4      | 190M/548M [00:03<00:05, 62.8MB/s]\n",
      "Downloading:  36%|###5      | 196M/548M [00:03<00:05, 61.3MB/s]\n",
      "Downloading:  37%|###6      | 202M/548M [00:03<00:05, 60.4MB/s]\n",
      "Downloading:  38%|###8      | 209M/548M [00:03<00:05, 61.9MB/s]\n",
      "Downloading:  39%|###9      | 215M/548M [00:03<00:05, 60.8MB/s]\n",
      "Downloading:  40%|####      | 221M/548M [00:03<00:05, 62.2MB/s]\n",
      "Downloading:  42%|####1     | 228M/548M [00:03<00:04, 64.1MB/s]\n",
      "Downloading:  43%|####3     | 236M/548M [00:03<00:04, 69.1MB/s]\n",
      "Downloading:  44%|####4     | 243M/548M [00:03<00:04, 67.6MB/s]\n",
      "Downloading:  46%|####5     | 250M/548M [00:04<00:04, 64.6MB/s]\n",
      "Downloading:  47%|####6     | 257M/548M [00:04<00:04, 62.3MB/s]\n",
      "Downloading:  48%|####7     | 263M/548M [00:04<00:04, 59.8MB/s]\n",
      "Downloading:  49%|####9     | 270M/548M [00:04<00:04, 62.7MB/s]\n",
      "Downloading:  50%|#####     | 276M/548M [00:04<00:04, 60.1MB/s]\n",
      "Downloading:  52%|#####1    | 284M/548M [00:04<00:03, 66.0MB/s]\n",
      "Downloading:  53%|#####3    | 291M/548M [00:04<00:04, 63.3MB/s]\n",
      "Downloading:  54%|#####4    | 298M/548M [00:04<00:03, 64.8MB/s]\n",
      "Downloading:  56%|#####5    | 305M/548M [00:04<00:03, 62.3MB/s]\n",
      "Downloading:  57%|#####6    | 312M/548M [00:05<00:03, 65.0MB/s]\n",
      "Downloading:  58%|#####8    | 318M/548M [00:05<00:03, 62.8MB/s]\n",
      "Downloading:  59%|#####9    | 325M/548M [00:05<00:03, 62.8MB/s]\n",
      "Downloading:  60%|######    | 331M/548M [00:05<00:03, 59.8MB/s]\n"
     ]
    },
    {
     "name": "stdout",
     "output_type": "stream",
     "text": [
      "\n",
      "gradient_accumulation_steps=1,\n",
      "greater_is_better=None,\n",
      "group_by_length=False,\n",
      "ignore_data_skip=False,\n",
      "label_names=None,\n",
      "label_smoothing_factor=0.0,\n",
      "learning_rate=5e-05,\n",
      "length_column_name=length,\n",
      "load_best_model_at_end=False,\n",
      "local_rank=-1,\n",
      "log_level=-1,\n",
      "log_level_replica=-1,\n",
      "log_on_each_node=True,\n",
      "logging_dir=Models/scripts/lambada/gen\\runs\\Oct15_17-53-44_benjamin-PC,\n",
      "logging_first_step=False,\n",
      "logging_steps=500,\n",
      "logging_strategy=IntervalStrategy.STEPS,\n",
      "lr_scheduler_type=SchedulerType.LINEAR,\n",
      "max_grad_norm=1.0,\n",
      "max_steps=-1,\n",
      "metric_for_best_model=None,\n",
      "mp_parameters=,\n",
      "no_cuda=False,\n",
      "num_train_epochs=2.0,\n",
      "output_dir=Models/scripts/lambada/gen,\n",
      "overwrite_output_dir=True,\n",
      "past_index=-1,\n",
      "per_device_eval_batch_size=4,\n",
      "per_device_train_batch_size=4,\n",
      "prediction_loss_only=False,\n",
      "push_to_hub=False,\n",
      "push_to_hub_model_id=gen,\n",
      "push_to_hub_organization=None,\n",
      "push_to_hub_token=None,\n",
      "remove_unused_columns=True,\n",
      "report_to=['tensorboard'],\n",
      "resume_from_checkpoint=None,\n",
      "run_name=Models/scripts/lambada/gen,\n",
      "save_on_each_node=False,\n",
      "save_steps=10000,\n",
      "save_strategy=IntervalStrategy.STEPS,\n",
      "save_total_limit=None,\n",
      "seed=42,\n",
      "sharded_ddp=[],\n",
      "skip_memory_metrics=True,\n",
      "tpu_metrics_debug=False,\n",
      "tpu_num_cores=None,\n",
      "use_legacy_prediction_loop=False,\n",
      "warmup_ratio=0.0,\n",
      "warmup_steps=0,\n",
      "weight_decay=0.0,\n",
      ")\n",
      "here\n",
      "10/15/2021 17:53:45 - WARNING - datasets.builder -   Using custom data configuration default-aae446fc9adb2493\n",
      "Downloading and preparing dataset text/default (download: Unknown size, generated: Unknown size, post-processed: Unknown size, total: Unknown size) to C:\\Users\\benjamin\\.cache\\huggingface\\datasets\\text\\default-aae446fc9adb2493\\0.0.0\\e16f44aa1b321ece1f87b07977cc5d70be93d69b20486d6dacd62e12cf25c9a5...\n",
      "Dataset text downloaded and prepared to C:\\Users\\benjamin\\.cache\\huggingface\\datasets\\text\\default-aae446fc9adb2493\\0.0.0\\e16f44aa1b321ece1f87b07977cc5d70be93d69b20486d6dacd62e12cf25c9a5. Subsequent calls will reuse this data.\n",
      "{'train_runtime': 41.6475, 'train_samples_per_second': 0.096, 'train_steps_per_second': 0.048, 'train_loss': 42.01639938354492, 'epoch': 2.0}\n",
      "***** train metrics *****\n",
      "  epoch                    =        2.0\n",
      "  train_loss               =    42.0164\n",
      "  train_runtime            = 0:00:41.64\n",
      "  train_samples            =          2\n",
      "  train_samples_per_second =      0.096\n",
      "  train_steps_per_second   =      0.048\n"
     ]
    },
    {
     "name": "stderr",
     "output_type": "stream",
     "text": [
      "Downloading:  62%|######1   | 337M/548M [00:05<00:03, 60.2MB/s]\n",
      "Downloading:  63%|######2   | 343M/548M [00:05<00:03, 54.0MB/s]\n",
      "Downloading:  64%|######3   | 350M/548M [00:05<00:03, 58.2MB/s]\n",
      "Downloading:  65%|######5   | 357M/548M [00:05<00:03, 59.8MB/s]\n",
      "Downloading:  66%|######6   | 363M/548M [00:05<00:03, 60.5MB/s]\n",
      "Downloading:  67%|######7   | 369M/548M [00:06<00:02, 60.5MB/s]\n",
      "Downloading:  69%|######8   | 377M/548M [00:06<00:02, 67.2MB/s]\n",
      "Downloading:  70%|#######   | 384M/548M [00:06<00:02, 61.6MB/s]\n",
      "Downloading:  71%|#######1  | 392M/548M [00:06<00:02, 66.2MB/s]\n",
      "Downloading:  73%|#######2  | 399M/548M [00:06<00:02, 62.2MB/s]\n",
      "Downloading:  74%|#######3  | 405M/548M [00:06<00:02, 62.9MB/s]\n",
      "Downloading:  75%|#######5  | 412M/548M [00:06<00:02, 65.8MB/s]\n",
      "Downloading:  76%|#######6  | 419M/548M [00:06<00:01, 66.1MB/s]\n",
      "Downloading:  78%|#######7  | 426M/548M [00:06<00:01, 62.2MB/s]\n",
      "Downloading:  79%|#######8  | 432M/548M [00:07<00:01, 63.2MB/s]\n",
      "Downloading:  80%|########  | 439M/548M [00:07<00:01, 64.5MB/s]\n",
      "Downloading:  82%|########1 | 447M/548M [00:07<00:01, 67.8MB/s]\n",
      "Downloading:  83%|########2 | 455M/548M [00:07<00:01, 70.6MB/s]\n",
      "Downloading:  84%|########4 | 462M/548M [00:07<00:01, 70.6MB/s]\n",
      "Downloading:  86%|########5 | 469M/548M [00:07<00:01, 70.4MB/s]\n",
      "Downloading:  87%|########6 | 476M/548M [00:07<00:01, 66.7MB/s]\n",
      "Downloading:  88%|########8 | 483M/548M [00:07<00:00, 66.3MB/s]\n",
      "Downloading:  89%|########9 | 489M/548M [00:07<00:01, 58.6MB/s]\n",
      "Downloading:  91%|######### | 497M/548M [00:07<00:00, 62.2MB/s]\n",
      "Downloading:  92%|#########1| 503M/548M [00:08<00:00, 59.5MB/s]\n",
      "Downloading:  93%|#########2| 509M/548M [00:08<00:00, 54.0MB/s]\n",
      "Downloading:  94%|#########3| 515M/548M [00:08<00:00, 51.9MB/s]\n",
      "Downloading:  95%|#########5| 522M/548M [00:08<00:00, 57.0MB/s]\n",
      "Downloading:  96%|#########6| 528M/548M [00:08<00:00, 55.3MB/s]\n",
      "Downloading:  98%|#########7| 535M/548M [00:08<00:00, 59.3MB/s]\n",
      "Downloading:  99%|#########8| 541M/548M [00:08<00:00, 56.6MB/s]\n",
      "Downloading: 100%|#########9| 546M/548M [00:08<00:00, 53.6MB/s]\n",
      "Downloading: 100%|##########| 548M/548M [00:08<00:00, 61.3MB/s]\n",
      "[INFO|file_utils.py:1635] 2021-10-15 17:53:57,707 >> storing https://huggingface.co/gpt2/resolve/main/pytorch_model.bin in cache at C:\\Users\\benjamin/.cache\\huggingface\\transformers\\752929ace039baa8ef70fe21cdf9ab9445773d20e733cf693d667982e210837e.323c769945a351daa25546176f8208b3004b6f563438a7603e7932bae9025925\n",
      "[INFO|file_utils.py:1643] 2021-10-15 17:53:57,708 >> creating metadata file for C:\\Users\\benjamin/.cache\\huggingface\\transformers\\752929ace039baa8ef70fe21cdf9ab9445773d20e733cf693d667982e210837e.323c769945a351daa25546176f8208b3004b6f563438a7603e7932bae9025925\n",
      "[INFO|modeling_utils.py:1275] 2021-10-15 17:53:57,709 >> loading weights file https://huggingface.co/gpt2/resolve/main/pytorch_model.bin from cache at C:\\Users\\benjamin/.cache\\huggingface\\transformers\\752929ace039baa8ef70fe21cdf9ab9445773d20e733cf693d667982e210837e.323c769945a351daa25546176f8208b3004b6f563438a7603e7932bae9025925\n",
      "[INFO|modeling_utils.py:1514] 2021-10-15 17:53:59,120 >> All model checkpoint weights were used when initializing GPT2LMHeadModel.\n",
      "\n",
      "[INFO|modeling_utils.py:1523] 2021-10-15 17:53:59,120 >> All the weights of GPT2LMHeadModel were initialized from the model checkpoint at gpt2.\n",
      "If your task is similar to the task the model of the checkpoint was trained on, you can already use GPT2LMHeadModel for predictions without further training.\n",
      "\n",
      "Running tokenizer on dataset:   0%|          | 0/1 [00:00<?, ?ba/s][WARNING|tokenization_utils_base.py:3251] 2021-10-15 17:53:59,688 >> Token indices sequence length is longer than the specified maximum sequence length for this model (521 > 512). Running this sequence through the model will result in indexing errors\n",
      "[WARNING|run_clm.py:350] 2021-10-15 17:53:59,688 >> ^^^^^^^^^^^^^^^^ Please ignore the warning above - this long input will be chunked into smaller bits before being passed to the model.\n",
      "\n",
      "Running tokenizer on dataset: 100%|##########| 1/1 [00:00<00:00, 52.63ba/s]\n",
      "\n",
      "Grouping texts in chunks of 512:   0%|          | 0/1 [00:00<?, ?ba/s]\n",
      "Grouping texts in chunks of 512: 100%|##########| 1/1 [00:00<00:00, 142.86ba/s]\n",
      "[INFO|trainer.py:1170] 2021-10-15 17:54:00,229 >> ***** Running training *****\n",
      "[INFO|trainer.py:1171] 2021-10-15 17:54:00,229 >>   Num examples = 2\n",
      "[INFO|trainer.py:1172] 2021-10-15 17:54:00,229 >>   Num Epochs = 2\n",
      "[INFO|trainer.py:1173] 2021-10-15 17:54:00,229 >>   Instantaneous batch size per device = 4\n",
      "[INFO|trainer.py:1174] 2021-10-15 17:54:00,229 >>   Total train batch size (w. parallel, distributed & accumulation) = 4\n",
      "[INFO|trainer.py:1175] 2021-10-15 17:54:00,229 >>   Gradient Accumulation steps = 1\n",
      "[INFO|trainer.py:1176] 2021-10-15 17:54:00,229 >>   Total optimization steps = 2\n",
      "\n",
      "  0%|          | 0/2 [00:00<?, ?it/s]\n",
      " 50%|#####     | 1/2 [00:32<00:32, 32.51s/it]\n",
      "100%|##########| 2/2 [00:41<00:00, 18.75s/it][INFO|trainer.py:1366] 2021-10-15 17:54:41,877 >> \n",
      "\n",
      "Training completed. Do not forget to share your model on huggingface.co/models =)\n",
      "\n",
      "\n",
      "\n",
      "                                             \n",
      "\n",
      "100%|##########| 2/2 [00:41<00:00, 18.75s/it]\n",
      "100%|##########| 2/2 [00:41<00:00, 20.81s/it]\n",
      "[INFO|trainer.py:1925] 2021-10-15 17:54:41,881 >> Saving model checkpoint to Models/scripts/lambada/gen\n",
      "[INFO|configuration_utils.py:379] 2021-10-15 17:54:41,883 >> Configuration saved in Models/scripts/lambada/gen\\config.json\n",
      "[INFO|modeling_utils.py:1001] 2021-10-15 17:54:45,320 >> Model weights saved in Models/scripts/lambada/gen\\pytorch_model.bin\n",
      "[INFO|tokenization_utils_base.py:2006] 2021-10-15 17:54:45,326 >> tokenizer config file saved in Models/scripts/lambada/gen\\tokenizer_config.json\n",
      "[INFO|tokenization_utils_base.py:2012] 2021-10-15 17:54:45,327 >> Special tokens file saved in Models/scripts/lambada/gen\\special_tokens_map.json\n"
     ]
    }
   ],
   "source": [
    "!python Models/scripts/lambada/run_clm.py \\\n",
    "    --tokenizer_name Models/model/lambada/cls \\\n",
    "    --model_name_or_path gpt2 \\\n",
    "    --model_type gpt2 \\\n",
    "    --train_file Data/test/mlm_data.txt \\\n",
    "    --output_dir Models/scripts/lambada/gen \\\n",
    "    --do_train \\\n",
    "    --overwrite_output_dir \\\n",
    "    --per_device_train_batch_size 4 \\\n",
    "    --per_device_eval_batch_size 4 \\\n",
    "    --save_steps=10000 \\\n",
    "    --num_train_epochs 2"
   ]
  },
  {
   "cell_type": "markdown",
   "id": "d4d055e1-ac73-485d-af89-2146c33e9b91",
   "metadata": {},
   "source": [
    "Not tested yet"
   ]
  },
  {
   "cell_type": "code",
   "execution_count": null,
   "id": "046db47f-9683-43b5-9474-f6957fe6e988",
   "metadata": {},
   "outputs": [],
   "source": [
    "aug = nas.LambadaAug(model_dir='../model/lambada', threshold=0.3, batch_size=4)"
   ]
  },
  {
   "cell_type": "code",
   "execution_count": null,
   "id": "c2de8a15-5791-48a8-ba84-06c32d1f44f9",
   "metadata": {},
   "outputs": [],
   "source": [
    "aug.augment(['24111', '23619'], n=10)"
   ]
  },
  {
   "cell_type": "markdown",
   "id": "809f5b32-838a-4617-a604-2543b11c33ed",
   "metadata": {},
   "source": [
    "This entry gave errors, a character is not UTF-8 compliant, not sure which one though."
   ]
  },
  {
   "cell_type": "code",
   "execution_count": 96,
   "id": "b608b122-4829-4eea-bc2d-f3c34834753a",
   "metadata": {},
   "outputs": [
    {
     "data": {
      "text/plain": [
       "' Oracle Financial modules –Gen'"
      ]
     },
     "execution_count": 96,
     "metadata": {},
     "output_type": "execute_result"
    }
   ],
   "source": [
    "'''Atleast 7 years of working experience in Oracle Financial Cloud consultant and 2 live projects implementation. Strong expertise on Oracle Financial modules –General Ledger, Payables, Fixed Assets, Cash Management, Accounts Payables, Accounts Receivables, Inventory, Purchasing and order Management modules and preparing the Financial Statements for client. Strong technical and analytical skills on problem-solving and suggest solutions. Working experience on Integrations between Cloud and on-premise systems. Should have ability to work independently on Project deliverables.'''\n"
   ]
  },
  {
   "cell_type": "markdown",
   "id": "1f87bbc6-f8da-4355-b57e-3d650e108d92",
   "metadata": {},
   "source": [
    "#### E) Implementing Data Augmentation"
   ]
  }
 ],
 "metadata": {
  "kernelspec": {
   "display_name": "my_enviro",
   "language": "python",
   "name": "my_enviro"
  },
  "language_info": {
   "codemirror_mode": {
    "name": "ipython",
    "version": 3
   },
   "file_extension": ".py",
   "mimetype": "text/x-python",
   "name": "python",
   "nbconvert_exporter": "python",
   "pygments_lexer": "ipython3",
   "version": "3.7.4"
  }
 },
 "nbformat": 4,
 "nbformat_minor": 5
}
