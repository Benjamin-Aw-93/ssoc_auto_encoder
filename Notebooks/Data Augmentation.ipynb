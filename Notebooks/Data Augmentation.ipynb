{
 "cells": [
  {
   "cell_type": "code",
   "execution_count": null,
   "id": "34c1b603-eafa-41b3-be22-6128e0f9e6d9",
   "metadata": {},
   "outputs": [],
   "source": []
  },
  {
   "cell_type": "markdown",
   "id": "c7d5d3db-2324-4b50-b8b2-653cf344db88",
   "metadata": {
    "tags": []
   },
   "source": [
    "### A) Setting up"
   ]
  },
  {
   "cell_type": "code",
   "execution_count": 1,
   "id": "61863244-e9e0-46e3-aeb0-71ebb62a3c86",
   "metadata": {},
   "outputs": [],
   "source": [
    "import os\n",
    "os.chdir('..')"
   ]
  },
  {
   "cell_type": "code",
   "execution_count": 8,
   "id": "97231c13-250c-4070-b4fb-2712a55e9570",
   "metadata": {},
   "outputs": [],
   "source": [
    "import nlpaug.augmenter.char as nac\n",
    "import nlpaug.augmenter.word as naw\n",
    "import nlpaug.augmenter.sentence as nas\n",
    "import nlpaug.flow as nafc\n",
    "from nlpaug.util import Action"
   ]
  },
  {
   "cell_type": "code",
   "execution_count": 13,
   "id": "d12f5c09-43f2-468a-9d91-50cca94c1452",
   "metadata": {},
   "outputs": [],
   "source": [
    "# Download fasttext model, only run once\n",
    "#from nlpaug.util.file.download import DownloadUtil\n",
    "#DownloadUtil.download_fasttext(model_name = 'wiki-news-300d-1M', dest_dir = 'Models')"
   ]
  },
  {
   "cell_type": "code",
   "execution_count": 14,
   "id": "2105ff68-5db0-4bed-8329-e9bf06f140c2",
   "metadata": {},
   "outputs": [
    {
     "name": "stderr",
     "output_type": "stream",
     "text": [
      "[nltk_data] Downloading package averaged_perceptron_tagger to\n",
      "[nltk_data]     C:\\Users\\shaun\\AppData\\Roaming\\nltk_data...\n",
      "[nltk_data]   Unzipping taggers\\averaged_perceptron_tagger.zip.\n"
     ]
    },
    {
     "data": {
      "text/plain": [
       "True"
      ]
     },
     "execution_count": 14,
     "metadata": {},
     "output_type": "execute_result"
    }
   ],
   "source": [
    "#import nltk\n",
    "#nltk.download('averaged_perceptron_tagger')"
   ]
  },
  {
   "cell_type": "code",
   "execution_count": 3,
   "id": "c6869ff8-a264-4642-b51e-d1b2a316f3d9",
   "metadata": {},
   "outputs": [],
   "source": [
    "model_dir = 'Models/'"
   ]
  },
  {
   "cell_type": "code",
   "execution_count": 4,
   "id": "35976d66-fadd-4064-a52a-30099ee75af5",
   "metadata": {},
   "outputs": [],
   "source": [
    "import pandas as pd\n",
    "SSOC_2020 = pd.read_csv('Data/Processed/Training/train-aws/SSOC_2020.csv')"
   ]
  },
  {
   "cell_type": "markdown",
   "id": "01a02bb7-0629-4205-9dc9-c764dffd9b59",
   "metadata": {
    "tags": []
   },
   "source": [
    "### B) Testing different types of augmentation"
   ]
  },
  {
   "cell_type": "code",
   "execution_count": 5,
   "id": "f6c5cfd8-991b-478d-9068-033c81abd1c8",
   "metadata": {},
   "outputs": [],
   "source": [
    "text = SSOC_2020['Description'][0]"
   ]
  },
  {
   "cell_type": "code",
   "execution_count": 6,
   "id": "b1dd1d0d-90c9-4b66-9da0-6f32c8bd52a6",
   "metadata": {},
   "outputs": [
    {
     "name": "stdout",
     "output_type": "stream",
     "text": [
      "Legislator determines, formulates and directs government policies. He/she makes, ratifies, amends or repeals laws, public rules and regulations within a statutory or constitutional framework. . presiding over or participating in the proceedings of parliament. determining, formulating and directing government policies. making, ratifying, amending or repealing laws, public rules and regulations. investigating matters of concern to the public and promoting the interests of the constituencies which they represent. as members of the government, directing senior administrators and officials of government departments and statutory boards in the interpretation and implementation of government policies\n"
     ]
    }
   ],
   "source": [
    "print(text)"
   ]
  },
  {
   "cell_type": "markdown",
   "id": "5b592db7-5867-42fe-9584-97bd33055768",
   "metadata": {},
   "source": [
    "#### 1. Using pretrained word embeddings (`fasttext`)"
   ]
  },
  {
   "cell_type": "code",
   "execution_count": 23,
   "id": "3b1283d0-3b97-4841-aa94-538080a89337",
   "metadata": {},
   "outputs": [],
   "source": [
    "fasttext_aug = naw.WordEmbsAug(model_type = 'fasttext', \n",
    "                               model_path = model_dir + 'wiki-news-300d-1M.vec',\n",
    "                               action = \"substitute\",\n",
    "                               top_k = 5,\n",
    "                               aug_p = 0.5,\n",
    "                               aug_min = 10,\n",
    "                               aug_max = None)"
   ]
  },
  {
   "cell_type": "code",
   "execution_count": 40,
   "id": "f37eadad-aa61-42a7-b1cf-b1aa7cfe9e07",
   "metadata": {},
   "outputs": [
    {
     "name": "stdout",
     "output_type": "stream",
     "text": [
      "Politician determine, formulates which directs governement policies. His / --she creates, ratifies, amends either repeals laws, pubic rules. but regulations withing the statutory whether constitutional framework. . supreme nearly whether participating in to hearings the parliament. determining, formulating in directed govenment policies. make, approving, amending even repeals rules, pulic rule with regulations. investigating issues with interest to a public with promoting on interests in the electorate nevertheless they comprise. although memebers of the government, directing juniors admins and officals with govenment departments with statutory boards in a interpretation and implemenation with governemnt procedures\n"
     ]
    }
   ],
   "source": [
    "fasttext_augmented_text = aug.augment(text, num_thread = 4)\n",
    "print(fasttext_augmented_text)"
   ]
  },
  {
   "cell_type": "markdown",
   "id": "4b6bbe65-a6e3-4308-8278-aae853ccda50",
   "metadata": {},
   "source": [
    "#### 2. Using back translation\n",
    "Back translation means translating the whole text to another language and back to English."
   ]
  },
  {
   "cell_type": "code",
   "execution_count": 36,
   "id": "01088545-3e4c-4b03-b521-2e827db0a9d5",
   "metadata": {},
   "outputs": [],
   "source": [
    "back_translation_aug = naw.BackTranslationAug(from_model_name='facebook/wmt19-en-de', \n",
    "                                              to_model_name='facebook/wmt19-de-en',\n",
    "                                              device = 'cuda',\n",
    "                                              max_length = 2000)"
   ]
  },
  {
   "cell_type": "code",
   "execution_count": 39,
   "id": "768ee4f2-a81b-4471-9205-8e77eafb5ebf",
   "metadata": {},
   "outputs": [
    {
     "name": "stdout",
     "output_type": "stream",
     "text": [
      "The legislator determines, formulates and directs government policy. He / she adopts, ratifies, amends or repeals laws, public rules and ordinances within a legal or constitutional framework. He / she presides or participates in the proceedings of parliament. He / she determines, formulates and directs government policy. He / she adopts, ratifies, amends or repeals laws, public rules and ordinances. He / she investigates matters concerning the public and promotes the interests of the constituencies he / she represents. As members of government, heads senior administrative officers and officials of government departments and legal bodies in the interpretation and implementation of government policy.\n"
     ]
    }
   ],
   "source": [
    "backtransl_augmented_text = back_translation_aug.augment(text, num_thread = 4)\n",
    "print(backtransl_augmented_text)"
   ]
  },
  {
   "cell_type": "markdown",
   "id": "02cdb789-645c-49c5-a24a-3523db71e97e",
   "metadata": {},
   "source": [
    "#### 3. Using synonyms"
   ]
  },
  {
   "cell_type": "code",
   "execution_count": 10,
   "id": "a2cde746-a31e-402f-9f22-d0c96c038236",
   "metadata": {},
   "outputs": [],
   "source": [
    "synonym_aug = naw.SynonymAug(aug_src = 'ppdb', \n",
    "                             model_path = model_dir + 'ppdb-2.0-tldr',\n",
    "                             aug_p = 0.5,\n",
    "                             aug_min = 10,\n",
    "                             aug_max = None)"
   ]
  },
  {
   "cell_type": "code",
   "execution_count": 15,
   "id": "f6c36ad4-cd24-42ba-8a09-087f453b676c",
   "metadata": {},
   "outputs": [
    {
     "name": "stdout",
     "output_type": "stream",
     "text": [
      "Legislator notes, formulae and directs campaigns directives. He / she enjoys, signs, modifications or repealing acts, public roles and companies inside a obligatory or constitutional foundations. . presiding over or aiding requests the factors of senators. charges, emanating and levelling territories entitled. decisions, concluding, pertaining or discontinuing bylaws, pubic enactments and authorities. checking ingredients of worry to the perceptions and consolidating the interests of the interviewees which they originated. whereas rep of the provinces, advancing high level owners and magistrates of stakeholders parties and regulatory directories during the reinterpretation and applicability of skills agreements\n"
     ]
    }
   ],
   "source": [
    "synonym_augmented_text = synonym_aug.augment(text, num_thread = 4)\n",
    "print(synonym_augmented_text)"
   ]
  },
  {
   "cell_type": "markdown",
   "id": "35939835-17f6-4927-aaf6-3f536814f8c3",
   "metadata": {},
   "source": [
    "#### 4. Using contextual word embeddings"
   ]
  },
  {
   "cell_type": "code",
   "execution_count": 57,
   "id": "62efcf73-52ec-459b-9d2e-567ae0541cfa",
   "metadata": {},
   "outputs": [],
   "source": [
    "distilbert_aug = naw.ContextualWordEmbsAug(model_path = 'distilbert-base-uncased', \n",
    "                                           action = \"substitute\",\n",
    "                                           top_k = 10,\n",
    "                                           aug_p = 0.7,\n",
    "                                           aug_min = 5,\n",
    "                                           aug_max = None,\n",
    "                                           device = 'cuda')"
   ]
  },
  {
   "cell_type": "code",
   "execution_count": 58,
   "id": "2e85f3c1-240b-4bc4-936d-098551e3aa9b",
   "metadata": {},
   "outputs": [
    {
     "name": "stdout",
     "output_type": "stream",
     "text": [
      "he prepares, determines and manages constitutional policy. he / she establishes, ratifies, proposing or enforcing laws, establishing institutions and regulations within a legal or regulatory context.. sitting over or presiding in the sessions of legislatures. interpreting, modifying and interpreting public regulations. proposing, ratifying, enforcing or modifying laws, enforcing laws and regulations. maintaining laws of relevance to the constitution and maintaining the integrity of the parties whom they contest. as president of the legislature, appointing legislative committees and heads of public institutions and governing boards in the implementation and enforcement of laws ;\n"
     ]
    }
   ],
   "source": [
    "distilbert_augmented_text = distilbert_aug.augment(text, num_thread = 4)\n",
    "print(distilbert_augmented_text)"
   ]
  },
  {
   "cell_type": "markdown",
   "id": "98cd06b0-1f5a-498c-9078-5d2eae4a2b58",
   "metadata": {},
   "source": [
    "#### 5. Using sentence augmentation"
   ]
  },
  {
   "cell_type": "code",
   "execution_count": 29,
   "id": "f6e043ca-a196-4fe5-8877-81b09c5df567",
   "metadata": {},
   "outputs": [],
   "source": [
    "sentence_aug = nas.ContextualWordEmbsForSentenceAug(model_path = 'distilgpt2',\n",
    "                                                    min_length = 100,\n",
    "                                                    max_length = 300,\n",
    "                                                    top_k = 50,\n",
    "                                                    top_p = .9,\n",
    "                                                    device = 'cuda')"
   ]
  },
  {
   "cell_type": "code",
   "execution_count": 30,
   "id": "dfd6b579-1e4c-4577-af53-3ea6ea94e971",
   "metadata": {},
   "outputs": [
    {
     "name": "stderr",
     "output_type": "stream",
     "text": [
      "Using pad_token, but it is not set yet.\n"
     ]
    },
    {
     "name": "stdout",
     "output_type": "stream",
     "text": [
      "Legislator determines, formulates and directs government policies. He/she makes, ratifies, amends or repeals laws, public rules and regulations within a statutory or constitutional framework. . presiding over or participating in the proceedings of parliament. determining, formulating and directing government policies. making, ratifying, amending or repealing laws, public rules and regulations. investigating matters of concern to the public and promoting the interests of the constituencies which they represent. as members of the government, directing senior administrators and officials of government departments and statutory boards in the interpretation and implementation of government policies, and coordinating, or managing the functioning of government functions. , implementing, or directing legislation, public rules and regulations. investigating matters of concern to the public and promoting the interests of the constituencies which they represent. As members of the government, directing senior administrators and officials of government departments and statutory boards in the interpretation and implementation of government policies, and coordinating, or managing the functioning of government functions. the public and promoting the interests of the constituencies which they represent. as members of the government, directing senior administrators and officials of government departments and statutory boards in the interpretation and implementation of government policies, and coordinating, or managing the functioning of government functions. as members of the government, directing senior administrators and officials of government departments and statutory boards in the interpretation and implementation of government policies, and coordinating, or managing the functioning of government functions. as members of the government, directing senior administrators and officials of government departments and statutory boards\n"
     ]
    }
   ],
   "source": [
    "sentence_augmented_text = sentence_aug.augment(text, num_thread = 4)\n",
    "print(sentence_augmented_text)"
   ]
  },
  {
   "cell_type": "markdown",
   "id": "388bccb0-f6be-4565-b790-b53bc680415a",
   "metadata": {},
   "source": [
    "#### 6. Using summarisation"
   ]
  },
  {
   "cell_type": "code",
   "execution_count": 41,
   "id": "baff5459-bc6e-46f4-8b0e-1f978b273a9d",
   "metadata": {},
   "outputs": [],
   "source": [
    "summ_aug = nas.AbstSummAug(model_path = 't5-base', \n",
    "                           min_length = 50,\n",
    "                           max_length = 100,\n",
    "                           top_k = 20)"
   ]
  },
  {
   "cell_type": "code",
   "execution_count": 45,
   "id": "53f69f5c-9fb0-4228-9863-45678c53031b",
   "metadata": {},
   "outputs": [],
   "source": [
    "summ_augmented_text = summ_aug.augment(text, num_thread = 4)"
   ]
  },
  {
   "cell_type": "code",
   "execution_count": 46,
   "id": "7a1d2662-dce8-4872-9191-2d55f1d817d0",
   "metadata": {},
   "outputs": [
    {
     "data": {
      "text/plain": [
       "'Legislator determines, formulates and directs government policies . makes, ratifies, amends or repeals laws, public rules and regulations . investigating matters of concern to the public and promoting the interests of the constituencies which they represent .'"
      ]
     },
     "execution_count": 46,
     "metadata": {},
     "output_type": "execute_result"
    }
   ],
   "source": [
    "summ_augmented_text"
   ]
  },
  {
   "cell_type": "markdown",
   "id": "c804e260-1e35-4013-a7c4-5043c285229c",
   "metadata": {},
   "source": [
    "### C) Implementing text augmentation\n",
    "\n"
   ]
  },
  {
   "cell_type": "code",
   "execution_count": null,
   "id": "5f433f05-e9be-4bfd-9b20-02bbd65f6197",
   "metadata": {},
   "outputs": [],
   "source": []
  },
  {
   "cell_type": "code",
   "execution_count": null,
   "id": "df6cce9e-1f96-4b4b-8c6a-d04adbdf0e3e",
   "metadata": {},
   "outputs": [],
   "source": []
  }
 ],
 "metadata": {
  "kernelspec": {
   "display_name": "Python 3 (ipykernel)",
   "language": "python",
   "name": "python3"
  },
  "language_info": {
   "codemirror_mode": {
    "name": "ipython",
    "version": 3
   },
   "file_extension": ".py",
   "mimetype": "text/x-python",
   "name": "python",
   "nbconvert_exporter": "python",
   "pygments_lexer": "ipython3",
   "version": "3.9.5"
  }
 },
 "nbformat": 4,
 "nbformat_minor": 5
}
