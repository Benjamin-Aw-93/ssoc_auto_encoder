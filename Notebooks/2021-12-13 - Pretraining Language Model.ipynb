{
 "cells": [
  {
   "cell_type": "markdown",
   "id": "8b32dbb2-ca2a-4fd2-918f-4a113be3e2e9",
   "metadata": {},
   "source": [
    "## Pretraining Language Model\n",
    "\n",
    "**Author:** Shaun Khoo  \n",
    "**Date:** 13 Dec 2021  \n",
    "**Context:** Following discussions with Prof. Hwee Kuan (technical adviser to the QS team), we decided to try pre-training the DistilBERT model with unlabelled MCF data so the model 'learns' more about MCF data. This would improve downstream performance in the hierarchical classifier.  \n",
    "**Objective:** Pre-train the DistilBERT model on AWS Sagemaker"
   ]
  },
  {
   "cell_type": "markdown",
   "id": "bb8bc303-dbfa-4fbb-8c9c-7bdbdb7917bd",
   "metadata": {},
   "source": [
    "Changing the working directory"
   ]
  },
  {
   "cell_type": "code",
   "execution_count": 1,
   "id": "66d64a62-3666-4a05-8199-a337e19f6bb1",
   "metadata": {},
   "outputs": [],
   "source": [
    "import os\n",
    "os.chdir('..')"
   ]
  },
  {
   "cell_type": "markdown",
   "id": "e967c99e-130f-4220-b821-1c00577a6705",
   "metadata": {},
   "source": [
    "Execute the command below - the script must be run within your Python virtual environment"
   ]
  },
  {
   "cell_type": "code",
   "execution_count": null,
   "id": "26482d83-738f-4c2a-96f6-55fc825c623f",
   "metadata": {},
   "outputs": [],
   "source": [
    "distilbert-base-uncased"
   ]
  },
  {
   "cell_type": "code",
   "execution_count": null,
   "id": "58944284-ed1c-43e1-b063-4760aa129798",
   "metadata": {},
   "outputs": [],
   "source": [
    "%%cmd\n",
    "\n",
    "python \"ssoc_autocoder/run_mlm.py\"^\n",
    "    --model_name_or_path \"Models/mcf-pretrained-1epoch/\"^\n",
    "    --train_file \"Data/Train/pre-training-sample1000.txt\"^\n",
    "    --line_by_line^\n",
    "    --do_train^\n",
    "    --do_eval^\n",
    "    --evaluation_strategy \"epoch\"^\n",
    "    --validation_split_percentage 5^\n",
    "    --overwrite_output_dir^\n",
    "    --logging-steps 100^\n",
    "    --output_dir \"Models/pretrain/20211231_pretrain_test_local\""
   ]
  }
 ],
 "metadata": {
  "kernelspec": {
   "display_name": "Python 3 (ipykernel)",
   "language": "python",
   "name": "python3"
  },
  "language_info": {
   "codemirror_mode": {
    "name": "ipython",
    "version": 3
   },
   "file_extension": ".py",
   "mimetype": "text/x-python",
   "name": "python",
   "nbconvert_exporter": "python",
   "pygments_lexer": "ipython3",
   "version": "3.9.5"
  }
 },
 "nbformat": 4,
 "nbformat_minor": 5
}
