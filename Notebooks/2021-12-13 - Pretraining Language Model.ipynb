{
 "cells": [
  {
   "cell_type": "markdown",
   "id": "8b32dbb2-ca2a-4fd2-918f-4a113be3e2e9",
   "metadata": {},
   "source": [
    "## Pretraining Language Model\n",
    "\n",
    "**Author:**"
   ]
  },
  {
   "cell_type": "code",
   "execution_count": null,
   "id": "d1e09728-a751-4d2c-933c-61afca563784",
   "metadata": {},
   "outputs": [],
   "source": []
  },
  {
   "cell_type": "code",
   "execution_count": null,
   "id": "66258efe-0f5a-4900-a8e1-0671ff9f5eeb",
   "metadata": {},
   "outputs": [],
   "source": []
  },
  {
   "cell_type": "code",
   "execution_count": null,
   "id": "db43de0b-8874-422c-b708-8d7193eb4090",
   "metadata": {},
   "outputs": [],
   "source": []
  },
  {
   "cell_type": "code",
   "execution_count": null,
   "id": "58944284-ed1c-43e1-b063-4760aa129798",
   "metadata": {},
   "outputs": [],
   "source": []
  }
 ],
 "metadata": {
  "kernelspec": {
   "display_name": "Python 3 (ipykernel)",
   "language": "python",
   "name": "python3"
  },
  "language_info": {
   "codemirror_mode": {
    "name": "ipython",
    "version": 3
   },
   "file_extension": ".py",
   "mimetype": "text/x-python",
   "name": "python",
   "nbconvert_exporter": "python",
   "pygments_lexer": "ipython3",
   "version": "3.9.5"
  }
 },
 "nbformat": 4,
 "nbformat_minor": 5
}
