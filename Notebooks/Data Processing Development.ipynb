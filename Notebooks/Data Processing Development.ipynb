{
 "cells": [
  {
   "cell_type": "code",
   "execution_count": 25,
   "id": "1b7c456c-eb9f-4127-9a42-5aa964574b6d",
   "metadata": {},
   "outputs": [],
   "source": [
    "import pandas as pd\n",
    "import re\n",
    "import spacy\n",
    "import string\n",
    "nlp = spacy.load('en_core_web_lg')"
   ]
  },
  {
   "cell_type": "code",
   "execution_count": null,
   "id": "38e30936-250c-4490-b9a6-0fb077eea649",
   "metadata": {},
   "outputs": [],
   "source": [
    "mcf_df = pd.read_csv(\"..\\Data\\Processed\\WGS_Dataset_JobInfo_precleaned.csv\")\n",
    "mcf_df = mcf_df[[\"Job_ID\", \"Title\", \"Description\", \"SSOC_2015\"]].sample(frac=0.1, random_state=1).reset_index(drop = True)\n",
    "#mcf_df.to_csv(\"..\\Data\\Processed\\Artifacts\\Raw_Text.csv\", index=False)"
   ]
  },
  {
   "cell_type": "code",
   "execution_count": 59,
   "id": "b2f21c25-2c62-49a4-8193-b2c74743d18d",
   "metadata": {},
   "outputs": [],
   "source": [
    "def remove_html_tags_newline(text):\n",
    "    \"\"\"\n",
    "    Removes HTML and newline tags from a string with generic regex\n",
    "\n",
    "    Parameters:\n",
    "        text (str): Selected text\n",
    "\n",
    "    Returns:\n",
    "        cleaned_text(text) : Text with html tags and new line removed\n",
    "    \"\"\"\n",
    "\n",
    "    clean = re.compile('<.*?>')\n",
    "    newline_clean = re.compile('\\n')\n",
    "    return re.sub(newline_clean, ' ', re.sub(clean, '', text)).lower()\n",
    "\n",
    "def lemmatize_remove_punct(doc):\n",
    "    '''\n",
    "    Take the `token.lemma_` of each non-stop word\n",
    "    '''\n",
    "    return [token.lemma_ for token in doc if not token.is_stop and not token.is_punct]\n",
    "\n",
    "def max_similarity(lst, word):\n",
    "    return nlp(' '.join(lst)).similarity(nlp(word))\n",
    "\n",
    "# Extracting based on ul tag to get title and description\n",
    "def extracting_job_desc_ultag(text):\n",
    "    \"\"\"\n",
    "    Extract job description using specific header text\n",
    "\n",
    "    Parameters:\n",
    "        text (str): Selected text\n",
    "\n",
    "    Returns:\n",
    "        list_extracted_text(list[text]): Extracted text\n",
    "    \"\"\"\n",
    "\n",
    "    # Extract all lists in the HTML with a preceding <p> tag\n",
    "    pattern = re.compile(r'(?=<p>).*?(?<=</p>).*?(?=<ol>|<ul>).*?(?<=</ol>|</ul>)')\n",
    "    matches = pattern.findall(text)\n",
    "\n",
    "    # Check if there are any matches at all\n",
    "    # If none, we return an empty list\n",
    "    if len(matches) == 0:\n",
    "        return []\n",
    "\n",
    "    # Initialise an empty list to store our cleaned texts\n",
    "    cleaned_texts = []\n",
    "\n",
    "    # For each regex match\n",
    "    for match in matches:\n",
    "\n",
    "        # Split the entire HTML string on the closing </p> tag\n",
    "        texts = match.split(r'</p>')\n",
    "\n",
    "        # Take the last 2 items: second-last item is the <p> element\n",
    "        # directly preceding the list, and the last item is the\n",
    "        # HTML list that we are interested in.\n",
    "        cleaned_texts.append({\n",
    "            # Note: should merge the functions for lemmatisation and removing HTML into a single function with multiple options\n",
    "            'job_title': lemmatize_remove_punct(nlp(remove_html_tags_newline(texts[-2]))),\n",
    "            'job_description': remove_html_tags_newline(texts[-1]),\n",
    "            'match': match\n",
    "        })\n",
    "\n",
    "    # Iterate over each cleaned text to generate the similarity score\n",
    "    # Note: Should be merged in with the previous iteration\n",
    "    for cleaned_text in cleaned_texts:\n",
    "        relevance_score = max_similarity(cleaned_text['job_title'], \"description duty responsibility role expect\")\n",
    "        irrelevance_score = max_similarity(cleaned_text['job_title'], \"possess quality requirement skills ideal candidate\")\n",
    "\n",
    "        # max dissimilarity?\n",
    "        cleaned_text['relevance_score'] = (relevance_score, irrelevance_score)\n",
    "\n",
    "    # Create a list with all the relevance scores and find the\n",
    "    # index of the top relevance scores\n",
    "    relevance_scores_all = [cleaned_text['relevance_score'] for cleaned_text in cleaned_texts]\n",
    "    most_relevant_text_idx = relevance_scores_all.index(max(relevance_scores_all))\n",
    "\n",
    "    return cleaned_texts, cleaned_texts[most_relevant_text_idx]\n"
   ]
  },
  {
   "cell_type": "code",
   "execution_count": null,
   "id": "76687df3-0d47-44fd-b1a3-2087aa7713f7",
   "metadata": {},
   "outputs": [],
   "source": []
  },
  {
   "cell_type": "code",
   "execution_count": 60,
   "id": "000fd6bc-dbf9-489d-810d-d4ee60d8f4e3",
   "metadata": {},
   "outputs": [
    {
     "name": "stderr",
     "output_type": "stream",
     "text": [
      "C:\\Users\\shaun\\AppData\\Local\\Temp/ipykernel_22688/2949804808.py:23: UserWarning: [W008] Evaluating Doc.similarity based on empty vectors.\n",
      "  return nlp(' '.join(lst)).similarity(nlp(word))\n"
     ]
    }
   ],
   "source": [
    "output = mcf_df[\"Description\"].apply(extracting_job_desc_ultag)"
   ]
  },
  {
   "cell_type": "code",
   "execution_count": 31,
   "id": "2e35165d-e489-4743-bd16-a0516d745684",
   "metadata": {},
   "outputs": [
    {
     "data": {
      "text/plain": [
       "196      ([{'job_title': [' ', 'ux', 'designer'], 'job_...\n",
       "220      ([{'job_title': [' ', 'key', 'member', 'digita...\n",
       "315      ([{'job_title': ['   ', 'coordinate', 'centre'...\n",
       "320      ([{'job_title': ['responsibility'], 'job_descr...\n",
       "456      ([{'job_title': [' ', 'key', 'responsibility',...\n",
       "                               ...                        \n",
       "22895    ([{'job_title': ['responsibility'], 'job_descr...\n",
       "23191    ([{'job_title': [' ', 'human', 'resource'], 'j...\n",
       "23272    ([{'job_title': [' ', 'expect'], 'job_descript...\n",
       "23345    ([{'job_title': [' ', 'job', 'responsibility']...\n",
       "23545    ([{'job_title': [' \\xa0'], 'job_description': ...\n",
       "Name: Description, Length: 317, dtype: object"
      ]
     },
     "execution_count": 31,
     "metadata": {},
     "output_type": "execute_result"
    }
   ],
   "source": [
    "output[output.apply(len) != 0]"
   ]
  },
  {
   "cell_type": "code",
   "execution_count": null,
   "id": "9d08c467-3fdb-4300-87c3-395dfc2b8d6b",
   "metadata": {},
   "outputs": [],
   "source": [
    "# to do\n",
    "# replace <p> tags within <li> tags !\n",
    "# pick <p> tag with closest match instead of preceding <p> tag only? or preceding 2 <p> tags\n",
    "# if <p> tag is empty then hunt for another tag (maybe h1?)\n",
    "# max length of <p> tag?\n",
    "# need to capture all <li> tags instead of just those with <p> preceding\n",
    "# should we just go straight to labelling?"
   ]
  },
  {
   "cell_type": "code",
   "execution_count": 70,
   "id": "0e639b4b-f91e-45d9-b82a-684a36495c22",
   "metadata": {},
   "outputs": [
    {
     "name": "stdout",
     "output_type": "stream",
     "text": [
      "Index: 7812\n",
      "Job title: [' ', 'role', 'require']\n",
      "Relevance score: (0.8131860515948719, 0.7435575268310051)\n",
      "Job description:   recommend and implement communication strategies to support organisation development and initiatives conceptualise and execute corporate communications plans through an array of communication platforms and channels including media, social media and event publicity, online and print publications, with a focus on visual communication as key enabler create engaging content through communication platforms ensure consistent messaging across multiple platforms plan and implement publicity efforts for project milestones and events handle media requests and queries \n",
      "Match: <p>At DSTA, we develop leading-edge technological and engineering solutions for the defence and security of our nation. Look forward to comprehensive professional and personal development programmes, and grow in a collaborative and dynamic environment. Join us in the engineering, IT or the corporate domains to make an impact on the defence and security of the nation!</p> <p><strong>Opportunity</strong></p> <p>We are looking for an individual to join us in our Corporate Communications team where you will plan, develop and implement internal and external communication strategies that will build, strengthen and sustain DSTA’s branding and shape organisational culture and behaviour.</p> <p>The role will require you to:</p> <ul> <li>Recommend and implement communication strategies to support organisation development and initiatives</li> <li>Conceptualise and execute corporate communications plans through an array of communication platforms and channels including media, social media and event publicity, online and print publications, with a focus on visual communication as key enabler</li> <li>Create engaging content through communication platforms</li> <li>Ensure consistent messaging across multiple platforms</li> <li>Plan and implement publicity efforts for project milestones and events</li> <li>Handle media requests and queries</li> </ul>\n",
      "-----------------------\n",
      "Job title: ['requirement']\n",
      "Relevance score: (0.5595468283295763, 0.6796088414530175)\n",
      "Job description:   degree with minimum 2 years of working experience preferably in communications or related fields flair for copywriting for various communication platforms knowledge of web content management and publishing tools keen interest in creative web, graphic design, photography and video production experience with adobe creative cloud (e.g.  photoshop, illustrator, indesign), powerpoint, final cut pro, premiere pro and/or other mac applications will be an added advantage strong analytical and problem-solving skills strong interpersonal skills with good command of english, written and spoken \n",
      "Match: <p><strong>Requirements</strong></p> <ul> <li>Degree with minimum 2 years of working experience preferably in communications or related fields</li> <li>Flair for copywriting for various communication platforms</li> <li>Knowledge of web content management and publishing tools</li> <li>Keen interest in creative web, graphic design, photography and video production</li> <li>Experience with Adobe Creative Cloud (e.g.  Photoshop, Illustrator, InDesign), PowerPoint, Final Cut Pro, Premiere Pro and/or other Mac applications will be an added advantage</li> <li>Strong analytical and problem-solving skills</li> <li>Strong interpersonal skills with good command of English, written and spoken</li> </ul>\n",
      "-----------------------\n",
      "==============================================\n",
      "<p>At DSTA, we develop leading-edge technological and engineering solutions for the defence and security of our nation. Look forward to comprehensive professional and personal development programmes, and grow in a collaborative and dynamic environment. Join us in the engineering, IT or the corporate domains to make an impact on the defence and security of the nation!</p> <p><strong>Opportunity</strong></p> <p>We are looking for an individual to join us in our Corporate Communications team where you will plan, develop and implement internal and external communication strategies that will build, strengthen and sustain DSTA’s branding and shape organisational culture and behaviour.</p> <p>The role will require you to:</p> <ul> <li>Recommend and implement communication strategies to support organisation development and initiatives</li> <li>Conceptualise and execute corporate communications plans through an array of communication platforms and channels including media, social media and event publicity, online and print publications, with a focus on visual communication as key enabler</li> <li>Create engaging content through communication platforms</li> <li>Ensure consistent messaging across multiple platforms</li> <li>Plan and implement publicity efforts for project milestones and events</li> <li>Handle media requests and queries</li> </ul> <p><strong>Requirements</strong></p> <ul> <li>Degree with minimum 2 years of working experience preferably in communications or related fields</li> <li>Flair for copywriting for various communication platforms</li> <li>Knowledge of web content management and publishing tools</li> <li>Keen interest in creative web, graphic design, photography and video production</li> <li>Experience with Adobe Creative Cloud (e.g.  Photoshop, Illustrator, InDesign), PowerPoint, Final Cut Pro, Premiere Pro and/or other Mac applications will be an added advantage</li> <li>Strong analytical and problem-solving skills</li> <li>Strong interpersonal skills with good command of English, written and spoken</li> </ul>\n"
     ]
    }
   ],
   "source": [
    "import random\n",
    "idx = random.sample(output[output.apply(len) != 0].index.tolist(), 1)[0]\n",
    "#idx = 23272\n",
    "#idx = 18514\n",
    "#idx = 835\n",
    "print(f\"Index: {idx}\")\n",
    "for i in output[idx][0]:\n",
    "    print(f\"Job title: {i['job_title']}\")\n",
    "    print(f\"Relevance score: {i['relevance_score']}\")\n",
    "    print(f\"Job description: {i['job_description']}\")\n",
    "    print(f\"Match: {i['match']}\")\n",
    "    print(\"-----------------------\")\n",
    "print(\"==============================================\")\n",
    "print(mcf_df.iloc[idx]['Description'])"
   ]
  },
  {
   "cell_type": "code",
   "execution_count": 52,
   "id": "36e422cb-3e89-4d80-b55c-33711b4634c0",
   "metadata": {},
   "outputs": [
    {
     "data": {
      "text/plain": [
       "([{'job_title': ['responsibility'],\n",
       "   'job_description': '  strong background in computer science, computer or electronics engineering, information technology or related technical discipline experience/knowledge in front-end and backend languages and libraries (e.g. html/ css, javascript, xml, jquery, java) experience in modern web application technology stack such as node.js, react.js, spring familiar with version-control software (e.g git, serena dimensions) familiar with best practices, such as tdd and ci/cd experience in an agile environment ',\n",
       "   'match': '<p><strong><u>Responsibilities</u></strong></p> <ul> <li>Strong background in Computer Science, Computer or Electronics Engineering, Information Technology or related technical discipline</li> <li>Experience/Knowledge in front-end and backend languages and libraries (e.g. HTML/ CSS, JavaScript, XML, jQuery, Java)</li> <li>Experience in modern web application technology stack such as Node.js, React.js, Spring</li> <li>Familiar with version-control software (e.g Git, Serena Dimensions)</li> <li>Familiar with best practices, such as TDD and CI/CD</li> <li>Experience in an Agile environment</li> </ul>',\n",
       "   'relevance_score': 0.7994106422087267}],\n",
       " {'job_title': ['responsibility'],\n",
       "  'job_description': '  strong background in computer science, computer or electronics engineering, information technology or related technical discipline experience/knowledge in front-end and backend languages and libraries (e.g. html/ css, javascript, xml, jquery, java) experience in modern web application technology stack such as node.js, react.js, spring familiar with version-control software (e.g git, serena dimensions) familiar with best practices, such as tdd and ci/cd experience in an agile environment ',\n",
       "  'match': '<p><strong><u>Responsibilities</u></strong></p> <ul> <li>Strong background in Computer Science, Computer or Electronics Engineering, Information Technology or related technical discipline</li> <li>Experience/Knowledge in front-end and backend languages and libraries (e.g. HTML/ CSS, JavaScript, XML, jQuery, Java)</li> <li>Experience in modern web application technology stack such as Node.js, React.js, Spring</li> <li>Familiar with version-control software (e.g Git, Serena Dimensions)</li> <li>Familiar with best practices, such as TDD and CI/CD</li> <li>Experience in an Agile environment</li> </ul>',\n",
       "  'relevance_score': 0.7994106422087267})"
      ]
     },
     "execution_count": 52,
     "metadata": {},
     "output_type": "execute_result"
    }
   ],
   "source": [
    "output[320]"
   ]
  },
  {
   "cell_type": "code",
   "execution_count": null,
   "id": "c225de94-eee4-44db-ae4f-449613537fca",
   "metadata": {},
   "outputs": [],
   "source": []
  },
  {
   "cell_type": "code",
   "execution_count": null,
   "id": "559b36a1-5561-4851-9b42-e7bbc489bc23",
   "metadata": {},
   "outputs": [],
   "source": []
  },
  {
   "cell_type": "code",
   "execution_count": null,
   "id": "07c467c0-3216-44b7-b162-571d98b21626",
   "metadata": {},
   "outputs": [],
   "source": []
  },
  {
   "cell_type": "code",
   "execution_count": null,
   "id": "552f94d7-a059-4c9c-8e45-32b20f25f36c",
   "metadata": {},
   "outputs": [],
   "source": []
  },
  {
   "cell_type": "code",
   "execution_count": null,
   "id": "db67bd84-dc78-478b-86f2-c428f02fcf6a",
   "metadata": {},
   "outputs": [],
   "source": []
  },
  {
   "cell_type": "code",
   "execution_count": null,
   "id": "40ec9769-5013-4013-a75f-b6bd70cba1ed",
   "metadata": {},
   "outputs": [],
   "source": []
  },
  {
   "cell_type": "code",
   "execution_count": null,
   "id": "fdbb6508-8410-4ef3-9d22-dd520ea580f0",
   "metadata": {},
   "outputs": [],
   "source": []
  }
 ],
 "metadata": {
  "kernelspec": {
   "display_name": "Python 3 (ipykernel)",
   "language": "python",
   "name": "python3"
  },
  "language_info": {
   "codemirror_mode": {
    "name": "ipython",
    "version": 3
   },
   "file_extension": ".py",
   "mimetype": "text/x-python",
   "name": "python",
   "nbconvert_exporter": "python",
   "pygments_lexer": "ipython3",
   "version": "3.9.5"
  }
 },
 "nbformat": 4,
 "nbformat_minor": 5
}
