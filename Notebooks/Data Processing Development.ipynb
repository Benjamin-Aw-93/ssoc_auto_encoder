{
 "cells": [
  {
   "cell_type": "markdown",
   "id": "85ee8889-feba-4ac8-95b8-1cfaeed27c5c",
   "metadata": {
    "tags": []
   },
   "source": [
    "# Developing code for Data Processing\n",
    "\n",
    "Last updated: 8th September 2021\n",
    "\n",
    "Changelog:\n",
    "* dd"
   ]
  },
  {
   "cell_type": "markdown",
   "id": "92f321eb-14af-4928-b52d-5161d0ed076f",
   "metadata": {
    "tags": []
   },
   "source": [
    "### Importing libraries, data, and functions"
   ]
  },
  {
   "cell_type": "code",
   "execution_count": 1,
   "id": "1b7c456c-eb9f-4127-9a42-5aa964574b6d",
   "metadata": {},
   "outputs": [],
   "source": [
    "import pandas as pd\n",
    "import re\n",
    "import spacy\n",
    "import string\n",
    "nlp = spacy.load('en_core_web_lg')"
   ]
  },
  {
   "cell_type": "code",
   "execution_count": 2,
   "id": "38e30936-250c-4490-b9a6-0fb077eea649",
   "metadata": {},
   "outputs": [],
   "source": [
    "mcf_df = pd.read_csv(\"..\\Data\\Processed\\WGS_Dataset_JobInfo_precleaned.csv\")\n",
    "mcf_df = mcf_df[[\"Job_ID\", \"Title\", \"Description\", \"SSOC_2015\"]].sample(frac=0.1, random_state=1).reset_index(drop = True)\n",
    "#mcf_df.to_csv(\"..\\Data\\Processed\\Artifacts\\Raw_Text.csv\", index=False)"
   ]
  },
  {
   "cell_type": "code",
   "execution_count": 49,
   "id": "b2f21c25-2c62-49a4-8193-b2c74743d18d",
   "metadata": {},
   "outputs": [],
   "source": [
    "def remove_html_tags_newline(text):\n",
    "    \"\"\"\n",
    "    Removes HTML and newline tags from a string with generic regex\n",
    "\n",
    "    Parameters:\n",
    "        text (str): Selected text\n",
    "\n",
    "    Returns:\n",
    "        cleaned_text(text) : Text with html tags and new line removed\n",
    "    \"\"\"\n",
    "\n",
    "    clean = re.compile('<.*?>')\n",
    "    newline_clean = re.compile('\\n')\n",
    "    return re.sub(newline_clean, ' ', re.sub(clean, '', text)).lower()\n",
    "\n",
    "def lemmatize_remove_punct(doc):\n",
    "    '''\n",
    "    Take the `token.lemma_` of each non-stop word\n",
    "    '''\n",
    "    return [token.lemma_ for token in doc if not token.is_stop and not token.is_punct]\n",
    "\n",
    "def max_similarity(lst, word):\n",
    "    return nlp(' '.join(lst)).similarity(nlp(word))\n",
    "\n",
    "# Extracting based on ul tag to get title and description\n",
    "def extracting_job_desc_ultag(text):\n",
    "    \"\"\"\n",
    "    Extract job description using specific header text\n",
    "\n",
    "    Parameters:\n",
    "        text (str): Selected text\n",
    "\n",
    "    Returns:\n",
    "        list_extracted_text(list[text]): Extracted text\n",
    "    \"\"\"\n",
    "\n",
    "    # Extract all lists in the HTML with a list tag (<ol> or <ul>)\n",
    "    # Regex explanation: \n",
    "    # (?=<ol>|<ul>) is the lookahead for the <ol> or <ul> tag\n",
    "    # .* captures everything between the tags, ? restricts it to capturing one set only\n",
    "    # (?<=</ol>|</ul>) is the lookbehind for the </ol> or </ul> tag\n",
    "    list_pattern = re.compile(r'(?=<ol>|<ul>).*?(?<=</ol>|</ul>)')\n",
    "    list_elements = list_pattern.findall(text)\n",
    "\n",
    "    # Check if there are any matches at all\n",
    "    # If none, we return an empty list\n",
    "    if len(list_elements) == 0:\n",
    "        return []\n",
    "    \n",
    "    # Extract all the non-list items in the text\n",
    "    # Iteratively split the text by the match until the last match\n",
    "    non_list_elements = []\n",
    "    text_placeholder = text\n",
    "    for list_element in list_elements:\n",
    "        non_list_elements.append(text_placeholder.split(match)[0])\n",
    "        text_placeholder = text_placeholder.split(match)[1]\n",
    "    if len(text_placeholder) != 0: # If last item is non-empty\n",
    "        non_list_elements.append(text_placeholder)\n",
    "    \n",
    "    # Clean out all other HTML tags in the list items\n",
    "    html_tag_pattern = re.compile()\n",
    "    list_tags = ['<ul>' '<li>', '<ol>', '</ul>' '</li>', '</ol>']\n",
    "    list_tags_repl = ['ul_element_op' 'li_element_op', 'ol_element_op', 'ul_element_cl' 'li_element_cl', 'ol_element_cl']\n",
    "    for list_element in list_elements:\n",
    "        for list_tag, list_tag_repl in zip(list_tags, list_tags_repl):\n",
    "            list_element.replace(list_tag, list_tags_repl)\n",
    "            re.sub('<.*?>', '')\n",
    "            list_element.replace(list_tag_repl, list_tags)\n",
    "\n",
    "            \n",
    "    # Initialise an empty list to store our cleaned texts\n",
    "    cleaned_texts = []\n",
    "\n",
    "    # For each regex match\n",
    "    for match in matches:\n",
    "\n",
    "        # Split the entire HTML string on the closing </p> tag\n",
    "        texts = match.split(r'</p>')\n",
    "\n",
    "        # Take the last 2 items: second-last item is the <p> element\n",
    "        # directly preceding the list, and the last item is the\n",
    "        # HTML list that we are interested in.\n",
    "        cleaned_texts.append({\n",
    "            # Note: should merge the functions for lemmatisation and removing HTML into a single function with multiple options\n",
    "            'job_title': lemmatize_remove_punct(nlp(remove_html_tags_newline(texts[-2]))),\n",
    "            'job_description': remove_html_tags_newline(texts[-1]),\n",
    "            'match': match\n",
    "        })\n",
    "\n",
    "    # Iterate over each cleaned text to generate the similarity score\n",
    "    # Note: Should be merged in with the previous iteration\n",
    "    for cleaned_text in cleaned_texts:\n",
    "        relevance_score = max_similarity(cleaned_text['job_title'], \"description duty responsibility role expect\")\n",
    "        irrelevance_score = max_similarity(cleaned_text['job_title'], \"possess quality requirement skills ideal candidate\")\n",
    "\n",
    "        # max dissimilarity?\n",
    "        cleaned_text['relevance_score'] = (relevance_score, irrelevance_score)\n",
    "\n",
    "    # Create a list with all the relevance scores and find the\n",
    "    # index of the top relevance scores\n",
    "    relevance_scores_all = [cleaned_text['relevance_score'] for cleaned_text in cleaned_texts]\n",
    "    most_relevant_text_idx = relevance_scores_all.index(max(relevance_scores_all))\n",
    "\n",
    "    return cleaned_texts, cleaned_texts[most_relevant_text_idx]\n"
   ]
  },
  {
   "cell_type": "markdown",
   "id": "79266a39-f636-42cc-931c-fc864036a4e9",
   "metadata": {},
   "source": [
    "### Processing the raw description data"
   ]
  },
  {
   "cell_type": "code",
   "execution_count": 50,
   "id": "000fd6bc-dbf9-489d-810d-d4ee60d8f4e3",
   "metadata": {},
   "outputs": [
    {
     "name": "stderr",
     "output_type": "stream",
     "text": [
      "C:\\Users\\shaun\\AppData\\Local\\Temp/ipykernel_22752/2949804808.py:23: UserWarning: [W008] Evaluating Doc.similarity based on empty vectors.\n",
      "  return nlp(' '.join(lst)).similarity(nlp(word))\n"
     ]
    },
    {
     "name": "stdout",
     "output_type": "stream",
     "text": [
      "Coverage: 1.34%\n"
     ]
    }
   ],
   "source": [
    "output = mcf_df[\"Description\"].apply(extracting_job_desc_ultag)\n",
    "print(f\"Coverage: {len(output[output.apply(len) != 0]) / len(output)*100:.2f}%\")"
   ]
  },
  {
   "cell_type": "code",
   "execution_count": 80,
   "id": "762b7d44-7ab1-4dc5-93bb-a112756b88ea",
   "metadata": {},
   "outputs": [
    {
     "data": {
      "text/plain": [
       "'<p>Job Description:</p> <p>\\xa0</p> <ul> <li>Provide client servicing advice (face to face, phone and email) and all membership related administrative functions (including card printing and membership kit mailing) for the National Registry of Coaches (NROC)</li> </ul> <p><strong>\\xa0</strong></p> <ul> <li>Coordinate and provide procurement, logistics and administrative support (such as registration, catering, letters, feedback collation and set up) for COACHSG’s courses, events and programmes<br /><br /></li> <li>Perform data entry and verification of information using in-house IT systems<br /><br /></li> <li>Contribute content on social media platforms (Facebook-CoachSG1 & Instagram-CoachSGOfficial) to generate publicity<br /><br /></li> <li>Conduct research for various initiatives and programmes (e.g. coaching statistics, coaching programmes from other countries) for policy and benchmarking purposes<br /><br /></li> </ul> <p>Manage feedback from coaches and stakeholders (e.g conduct fact-finding, drafting responses)</p>'"
      ]
     },
     "execution_count": 80,
     "metadata": {},
     "output_type": "execute_result"
    }
   ],
   "source": [
    "text = mcf_df[\"Description\"][23545].replace('\\n', '')\n",
    "text"
   ]
  },
  {
   "cell_type": "code",
   "execution_count": 81,
   "id": "71d2ebf0-e77b-4896-8326-a3fcc354bd21",
   "metadata": {},
   "outputs": [
    {
     "data": {
      "text/plain": [
       "['<ul> <li>Provide client servicing advice (face to face, phone and email) and all membership related administrative functions (including card printing and membership kit mailing) for the National Registry of Coaches (NROC)</li> </ul>',\n",
       " '<ul> <li>Coordinate and provide procurement, logistics and administrative support (such as registration, catering, letters, feedback collation and set up) for COACHSG’s courses, events and programmes<br /><br /></li> <li>Perform data entry and verification of information using in-house IT systems<br /><br /></li> <li>Contribute content on social media platforms (Facebook-CoachSG1 & Instagram-CoachSGOfficial) to generate publicity<br /><br /></li> <li>Conduct research for various initiatives and programmes (e.g. coaching statistics, coaching programmes from other countries) for policy and benchmarking purposes<br /><br /></li> </ul>']"
      ]
     },
     "execution_count": 81,
     "metadata": {},
     "output_type": "execute_result"
    }
   ],
   "source": [
    "pattern = re.compile(r'(?=<ol>|<ul>).*?(?<=<\\/ol>|<\\/ul>)')\n",
    "matches = pattern.findall(text)\n",
    "matches"
   ]
  },
  {
   "cell_type": "code",
   "execution_count": 378,
   "id": "c2e37afc-4d36-4246-ac45-d2033648e657",
   "metadata": {},
   "outputs": [],
   "source": [
    "def check_if_first_word_is_verb(string):\n",
    "    override_false_list = ['proven']\n",
    "    override_true_list = ['review' ,'responsible']\n",
    "    if string.split(' ')[0].lower() in override_false_list:\n",
    "        return False\n",
    "    if string.split(' ')[0].lower() in override_true_list:\n",
    "        return True\n",
    "    if string.lower()[0:8] == 'you are':\n",
    "        string = string.replace(string[0:8], '')\n",
    "    return nlp(string)[0].pos_ == 'VERB'\n",
    "\n",
    "#178\n",
    "#308\n",
    "text = mcf_df[\"Description\"][318]\n",
    "\n",
    "def clean_raw_string(string):\n",
    "    \n",
    "    # Identify some common problematic strings to remove\n",
    "    to_remove = ['\\n', '\\xa0', '&nbsp;', '&amp;', '\\t']\n",
    "    for item in to_remove:\n",
    "        string = string.replace(item, '')\n",
    "        \n",
    "    to_replace = [('No.', 'Number')]\n",
    "    for item1, item2 in to_replace:\n",
    "        string = string.replace(item1, item2)\n",
    "        \n",
    "    # Remove all non-unicode characters\n",
    "    #string = ''.join([i if ord(i) < 128 else ' ' for i in string])\n",
    "    \n",
    "    return string\n",
    "\n",
    "def process_li_tag(text):\n",
    "\n",
    "    # Extract all lists in the HTML with a list tag (<ol> or <ul>)\n",
    "    # Regex explanation: \n",
    "    # (?=<ol>|<ul>) is the lookahead for the <ol> or <ul> tag\n",
    "    # .* captures everything between the tags, ? restricts it to capturing one set only\n",
    "    # (?<=</ol>|</ul>) is the lookbehind for the </ol> or </ul> tag\n",
    "    list_pattern = re.compile(r'(?=<ol>|<ul>).*?(?<=</ol>|</ul>)')\n",
    "    list_elements = list_pattern.findall(text)\n",
    "    \n",
    "    if len(list_elements) == 0:\n",
    "        return []\n",
    "    \n",
    "    # Iterate through each list item to see which list has more\n",
    "    # items with a verb as the first word\n",
    "    verb_scores = []\n",
    "    for list_element in list_elements:\n",
    "        \n",
    "        # Use regex to split up the list into items\n",
    "        list_items_pattern = re.compile(r'(?=<li>).*?(?<=</li>)')\n",
    "        list_items = list_items_pattern.findall(list_element)\n",
    "        \n",
    "        # Initialise a count of number of items beginning with a verb\n",
    "        count = 0\n",
    "        \n",
    "        # Iterate through each item in the list\n",
    "        for list_item in list_items:\n",
    "            \n",
    "            # Remove all the HTML tags and check if the first word is a verb\n",
    "            list_item = re.sub('<.*?>', '', list_item)\n",
    "            if check_if_first_word_is_verb(list_item):\n",
    "                count += 1\n",
    "        \n",
    "        # Append the verb score to the list\n",
    "        # with a exception for very short lists\n",
    "        if len(list_items) < 3:\n",
    "            verb_scores.append(min(count/len(list_items), 0.5))\n",
    "        else:\n",
    "            verb_scores.append(count/len(list_items))\n",
    "    \n",
    "    # Return the list with maximum verb score, assuming at least\n",
    "    # 50% of the list contains verbs (to avoid situations of only\n",
    "    # a single list)\n",
    "    if max(verb_scores) > 0.5:\n",
    "        return list_elements[verb_scores.index(max(verb_scores))]\n",
    "    else:\n",
    "        return []\n",
    "    \n",
    "def process_p_list(text):\n",
    "    \n",
    "    # Extract all lists in the HTML with a paragraph tag (<p>)\n",
    "    # Regex explanation: \n",
    "    # (?=<p>) is the lookahead for the <p> tag\n",
    "    # .* captures everything between the tags, ? restricts it to capturing one set only\n",
    "    # (?<=</p>) is the lookbehind for the </p> tag\n",
    "    para_pattern = re.compile(r'(?=<p>).*?(?<=</p>)')\n",
    "    para_elements = para_pattern.findall(text)\n",
    "            \n",
    "    unicode_to_check = ['\\u2022', '\\u002d']\n",
    "    unicode_presence = []\n",
    "    for para_element in para_elements:\n",
    "        \n",
    "        # Remove all the HTML tags and check if the first word is a verb\n",
    "        para_element_cleaned = re.sub('<.*?>', '', para_element).strip()\n",
    "        \n",
    "        # Check if the string is non-empty, and if it is, check if it has the unicodes\n",
    "        if len(para_element_cleaned) > 0:\n",
    "            unicode_presence.append(para_element_cleaned[0] in unicode_to_check)\n",
    "        else:\n",
    "            unicode_presence.append(False)\n",
    "    \n",
    "    # Initialise the lists\n",
    "    output = []\n",
    "    p_list = []\n",
    "    \n",
    "    # Iterate through the boolean list indicating if there is\n",
    "    # a bullet point character at the start of the string\n",
    "    for i, value in enumerate(unicode_presence):\n",
    "        \n",
    "        # If there is a bullet point character\n",
    "        if value:\n",
    "            \n",
    "            # Append the string to the para list\n",
    "            p_list.append(para_elements[i])\n",
    "            \n",
    "        # If there is no bullet point character\n",
    "        else:\n",
    "            \n",
    "            # Append the para list if it is non-empty\n",
    "            if len(p_list) > 0:\n",
    "                output.append(' '.join(p_list))\n",
    "            \n",
    "            # Reset the para list\n",
    "            p_list = []\n",
    "            \n",
    "    if len(output) == 0:\n",
    "        return []\n",
    "\n",
    "    # Iterate through each list item to see which list has more\n",
    "    # items with a verb as the first word\n",
    "    verb_scores = []\n",
    "    for list_element in output:\n",
    "        \n",
    "        # Use regex to split up the list into items\n",
    "        list_items_pattern = re.compile(r'(?=<p>).*?(?<=</p>)')\n",
    "        list_items = list_items_pattern.findall(list_element)\n",
    "        \n",
    "        # Initialise a count of number of items beginning with a verb\n",
    "        count = 0\n",
    "        \n",
    "        # Iterate through each item in the list\n",
    "        for list_item in list_items:\n",
    "            \n",
    "            # Remove all the HTML tags and check if the first word is a verb\n",
    "            list_item = re.sub('<.*?>', '', list_item).replace('\\t', '').strip()\n",
    "            if check_if_first_word_is_verb(list_item):\n",
    "                count += 1\n",
    "        \n",
    "        # Append the verb score to the list\n",
    "        # with a exception for very short lists\n",
    "        if len(list_items) < 3:\n",
    "            verb_scores.append(min(count/len(list_items), 0.5))\n",
    "        else:\n",
    "            verb_scores.append(count/len(list_items))\n",
    "    print(verb_scores)\n",
    "    # Return the list with maximum verb score, assuming at least\n",
    "    # 50% of the list contains verbs (to avoid situations of only\n",
    "    # a single list)\n",
    "    if max(verb_scores) > 0.5:\n",
    "        return output[verb_scores.index(max(verb_scores))]\n",
    "    else:\n",
    "        return []\n",
    "\n",
    "def process_p_tag(text):\n",
    "    \n",
    "    # Extract all lists in the HTML with a paragraph tag (<p>)\n",
    "    # Regex explanation: \n",
    "    # (?=<p>) is the lookahead for the <p> tag\n",
    "    # .* captures everything between the tags, ? restricts it to capturing one set only\n",
    "    # (?<=</p>) is the lookbehind for the </p> tag\n",
    "    para_pattern = re.compile(r'(?=<p>).*?(?<=</p>)')\n",
    "    para_elements = para_pattern.findall(text)\n",
    "    \n",
    "    if len(para_elements) == 0:\n",
    "        return []\n",
    "    \n",
    "    # Iterate through each paragraph element to see which one starts\n",
    "    # with a verb, and we keep that paragraph element\n",
    "    output = []\n",
    "    for para_element in para_elements:\n",
    "\n",
    "        # Remove all the HTML tags and check if the first word is a verb\n",
    "        para_element_cleaned = re.sub(\"[^\\w\\s]\", \"\", re.sub('<.*?>', '', para_element)).strip()\n",
    "        if len(para_element_cleaned) > 0:\n",
    "            if check_if_first_word_is_verb(para_element_cleaned):\n",
    "                output.append(para_element)\n",
    "\n",
    "    return \" \".join(output)\n",
    "            \n",
    "def process_text(raw_text):\n",
    "    \n",
    "    # Remove problematic characters\n",
    "    text = clean_raw_string(raw_text)\n",
    "    \n",
    "    li_results = process_li_tag(text)\n",
    "    p_list_results = process_p_list(raw_text)\n",
    "    p_results = process_p_tag(text)\n",
    "    \n",
    "    if len(li_results) > 0:\n",
    "        return li_results\n",
    "    elif len(p_list_results) > 0:\n",
    "        return p_list_results\n",
    "    elif len(p_results) > 0:\n",
    "        return p_results\n",
    "    else:\n",
    "        return re.sub('<.*?>', ' ', text)\n",
    "        \n",
    "    \n",
    "    \n",
    "    # Extract all the non-list items in the text\n",
    "    # Iteratively split the text by the match until the last match\n",
    "#     \n",
    "#     non_list_elements = []\n",
    "#     text_placeholder = text\n",
    "#     for list_element in list_elements:\n",
    "#         non_list_elements.append(re.sub('<.*?>', '', text_placeholder.split(list_element)[0]).strip())\n",
    "#         text_placeholder = text_placeholder.split(list_element)[1]\n",
    "#     if len(text_placeholder) != 0: # If last item is non-empty\n",
    "#         non_list_elements.append(text_placeholder)\n",
    "\n",
    "\n",
    "#def clean_p_tag():\n",
    "    \n",
    "        #list_pattern = re.compile(r'(?=<li>|<p>).*?(?:(?<=</li>)|(?<=</p>))')\n"
   ]
  },
  {
   "cell_type": "code",
   "execution_count": 379,
   "id": "fe27d024-7a8a-405e-b6af-9d47ce03d500",
   "metadata": {},
   "outputs": [
    {
     "name": "stdout",
     "output_type": "stream",
     "text": [
      "[0.375, 0.5, 0.3333333333333333]\n",
      "<p>•Responsible for the design and preparation of technical proposal, generating system and equipment specifications for the Security and Traffic solutions in compliances for bid projects.</p> <p>•Prepare technical presentation, taking lead in technical reviews and clarification meetings with customers before and during bid phase</p> <p>•Work with vendors, analyze and identify best suitable product and maintain database of it for future use and group sharing.</p> <p>•Negotiate with stakeholders related to tender proposals, budgetary quotations, company’s advantage and operational availability.</p> <p>•Drafting and reviewing contracts between company and client in compliance with legal requirements</p> <p>•Keep abreast with updated technical knowledge of competitive solutions.</p> <p>•Identifying and mapping business strengths and customer needs</p> <p>•Handle various stages of solution sales from presales to fulfillment.</p> <p>•Performs technical support duties, including product configuration and troubleshooting of customer issues during Project and Operations.</p> <p>•Managing and retaining relationships with existing clients, ensure increasing of client base</p>\n",
      "----------------------------------------\n",
      "<p><strong>Pre-sales Activities</strong></p>\n",
      "<p>•\tResponsible for the design and preparation of technical proposal, generating system and equipment specifications for the Security and Traffic solutions in compliances for bid projects.</p>\n",
      "<p>•\tSupport presales engagement including customer requirement analysis, solution proposal preparation and presentation, setting up POC, clarification of solution and preparation of costing.</p>\n",
      "<p>•\tPrepare technical presentation, taking lead in technical reviews and clarification meetings with customers before and during bid phase</p>\n",
      "<p>•\tWork with vendors, analyze and identify best suitable product and maintain database of it for future use and group sharing.</p>\n",
      "<p>•\tNegotiate with stakeholders related to tender proposals, budgetary quotations, company’s advantage and operational availability.</p>\n",
      "<p>•\tDrafting and reviewing contracts between company and client in compliance with legal requirements</p>\n",
      "<p>•\tKeep abreast with updated technical knowledge of competitive solutions.</p>\n",
      "<p>•\tIdentifying and mapping business strengths and customer needs</p>\n",
      "<p><br></p>\n",
      "<p><strong>Post-sales Activities</strong></p>\n",
      "<p>•\tHandle various stages of solution sales from presales to fulfillment.</p>\n",
      "<p>•\tFulfillment of activities including handover of proposed solution to project and operation teams and provides guidance on technical solution proposed.</p>\n",
      "<p>•\tPerforms technical support duties, including product configuration and troubleshooting of customer issues during Project and Operations.</p>\n",
      "<p>•\tManaging and retaining relationships with existing clients, ensure increasing of client base</p>\n",
      "<p><br></p>\n",
      "<p><strong>Job Requirements</strong></p>\n",
      "<p>•\tDegree in Electrical, Electronic Engineering or related fields</p>\n",
      "<p>•\tMinimum 3 years relevant working experience in Security industry</p>\n",
      "<p>•\tFamiliar with integrated security systems like CCTV, Card Access, Face Recognition</p>\n",
      "<p>•\tFamiliar with Public Sector Standard Conditions of Contract</p>\n",
      "<p>•\tExcellent interpersonal, communication and presentation skills</p>\n",
      "<p>•\tGood sales follow up &amp; good track records of sales</p>\n",
      "<p>•\tStrong interpersonal skills</p>\n",
      "<p>•\tDynamic, resourceful and able to carry out tasks independently</p>\n",
      "<p>•\tPassionate about meeting people</p>\n",
      "<p><br></p>\n"
     ]
    }
   ],
   "source": [
    "print(process_text(mcf_df[\"Description\"][19277]))\n",
    "print('----------------------------------------')\n",
    "print(mcf_df[\"Description\"][19277])"
   ]
  },
  {
   "cell_type": "code",
   "execution_count": null,
   "id": "b674fb82-4e3b-43c1-b1a2-06daf4915a1d",
   "metadata": {},
   "outputs": [],
   "source": []
  },
  {
   "cell_type": "code",
   "execution_count": 272,
   "id": "e992b340-5139-461e-bcce-bb45aab64f67",
   "metadata": {},
   "outputs": [],
   "source": [
    "ssoc = pd.read_csv('../Data/Raw/ssoc_v2018.csv', encoding='iso-8859-1')\n",
    "ssoc.dropna(inplace = True)\n",
    "ssoc['ssoc_f'] = ssoc['ssoc_f'].astype('float').astype('int').astype('str')\n",
    "mcf_df = mcf_df[(mcf_df['SSOC_2015'] != 'X5000') & (mcf_df['SSOC_2015'].notnull())]\n",
    "mcf_df['SSOC_2015'] = mcf_df['SSOC_2015'].astype('float').astype('int').astype('str')\n",
    "mcf_data_final = mcf_df.merge(ssoc, left_on = 'SSOC_2015', right_on = 'ssoc_f', how = 'left')\n",
    "mcf_data_final.rename({'ssoc_desc': \"Reported SSOC Desc\"}, axis = 1, inplace = True)"
   ]
  },
  {
   "cell_type": "code",
   "execution_count": 319,
   "id": "677ef878-d5e5-435e-8eb4-897b84abd5cf",
   "metadata": {},
   "outputs": [
    {
     "name": "stdout",
     "output_type": "stream",
     "text": [
      "<p>If you are a Backend Developer using Node.JS , looking for an opportunity to work in a great team and advance your skills and career, we have the perfect role for you.</p>\n",
      "<p>Mandatory Skill-set</p>\n",
      "<ul>\n",
      "  <li>Degree in Computer Science/ Computer Engineering or equivalent;</li>\n",
      "  <li>Minimum 2 years experience as a Node.js developer, especially on large scale custom build, complex projects;</li>\n",
      "  <li>Hands on in SQL Server, WCF, Web API, HTML, CSS,JavaScript;</li>\n",
      "  <li>Should have good exposure in Web Applications Development using object oriented Programming;</li>\n",
      "  <li>Familiarity with the whole web stack, including protocols and web server optimization techniques;</li>\n",
      "  <li>Strong analytical skills and problem solving aptitude;</li>\n",
      "  <li>A good team player with the ability to function independently;</li>\n",
      "  <li>Good communication and documentation skills.</li>\n",
      "</ul>\n",
      "<p>Desired Skill-set</p>\n",
      "<ul>\n",
      "  <li>React JS experience.</li>\n",
      "</ul>\n",
      "<p>Responsibilities</p>\n",
      "<ul>\n",
      "  <li>Gather requirements from the business users and translate them into technical specifications;</li>\n",
      "  <li>Undertake product impact analysis, development, testing and support activities;</li>\n",
      "  <li>Responsible for developing technical specifications, coding, implementation, integration, documentation and user guide according to agreed standards;</li>\n",
      "  <li>Aid in troubleshooting problems and providing effective solutions for UAT and SIT;</li>\n",
      "  <li>Provide continuous post implementation support and enhancement based on business needs;</li>\n",
      "  <li>Working closely with co-developers, testers and various business users to develop and improve operations processes and procedures;</li>\n",
      "  <li>Participate in evaluation of technical risks and perform impact analysis to ensure effort estimate is accurate;</li>\n",
      "  <li>Be proactive in putting up recommendations to achieve better system performance and efficiency.</li>\n",
      "</ul>\n",
      "<p>Should you be interested in this career opportunity, please send in your updated resume to apply@sciente.com at the earliest.&nbsp;</p>\n",
      "<p><br></p>\n",
      "<p>When you apply, you voluntarily consent to the disclosure, collection and use of your personal data for employment/recruitment and related purposes in accordance with the SCIENTE Group Privacy Policy, a copy of which is published at SCIENTE’s website (https://www.sciente.com/privacy-policy).</p>\n",
      "<p><br></p>\n",
      "<p>Confidentiality is assured, and only shortlisted candidates will be notified for interviews.</p>\n",
      "<p><br></p>\n",
      "<p>EA Licence No. 07C5639</p>\n"
     ]
    },
    {
     "data": {
      "text/plain": [
       "'<ul>  <li>Gather requirements from the business users and translate them into technical specifications;</li>  <li>Undertake product impact analysis, development, testing and support activities;</li>  <li>Responsible for developing technical specifications, coding, implementation, integration, documentation and user guide according to agreed standards;</li>  <li>Aid in troubleshooting problems and providing effective solutions for UAT and SIT;</li>  <li>Provide continuous post implementation support and enhancement based on business needs;</li>  <li>Working closely with co-developers, testers and various business users to develop and improve operations processes and procedures;</li>  <li>Participate in evaluation of technical risks and perform impact analysis to ensure effort estimate is accurate;</li>  <li>Be proactive in putting up recommendations to achieve better system performance and efficiency.</li></ul>'"
      ]
     },
     "execution_count": 319,
     "metadata": {},
     "output_type": "execute_result"
    }
   ],
   "source": [
    "print(mcf_df['Description'][idx])\n",
    "process_text(mcf_df['Description'][idx])"
   ]
  },
  {
   "cell_type": "code",
   "execution_count": 293,
   "id": "2ccea4f7-ee2b-4eec-9802-c1f2feb09256",
   "metadata": {},
   "outputs": [
    {
     "data": {
      "text/plain": [
       "True"
      ]
     },
     "execution_count": 293,
     "metadata": {},
     "output_type": "execute_result"
    }
   ],
   "source": [
    "check_if_first_word_is_verb('Selfmotivated with excellent interpersonal and communication skills')"
   ]
  },
  {
   "cell_type": "code",
   "execution_count": 330,
   "id": "69e04871-ea15-4836-a130-752d4bdae026",
   "metadata": {},
   "outputs": [
    {
     "data": {
      "text/plain": [
       "True"
      ]
     },
     "execution_count": 330,
     "metadata": {},
     "output_type": "execute_result"
    }
   ],
   "source": [
    "'•\tResponsible for the design and preparation of technical proposal, generating system and equipment specifications for the Security and Traffic solutions in compliances for bid projects.'[0] == '\\u2022'"
   ]
  },
  {
   "cell_type": "code",
   "execution_count": 331,
   "id": "5a717417-390d-4b65-b065-632b6f872f11",
   "metadata": {},
   "outputs": [
    {
     "name": "stdout",
     "output_type": "stream",
     "text": [
      "-\n"
     ]
    }
   ],
   "source": [
    "print('\\u002d')"
   ]
  },
  {
   "cell_type": "code",
   "execution_count": 324,
   "id": "29bc7d35-895c-4aba-a4da-8b2e7b961820",
   "metadata": {},
   "outputs": [
    {
     "name": "stdout",
     "output_type": "stream",
     "text": [
      "Index: 19277\n",
      "Job title: pre-sales engineer\n",
      "SSOC: 24331\n",
      "Job tasks: <p> \tPrepare technical presentation, taking lead in technical reviews and clarification meetings with customers before and during bid phase</p> <p> \tWork with vendors, analyze and identify best suitable product and maintain database of it for future use and group sharing.</p> <p> \tNegotiate with stakeholders related to tender proposals, budgetary quotations, company s advantage and operational availability.</p> <p> \tDrafting and reviewing contracts between company and client in compliance with legal requirements</p> <p> \tKeep abreast with updated technical knowledge of competitive solutions.</p> <p> \tIdentifying and mapping business strengths and customer needs</p> <p> \tHandle various stages of solution sales from presales to fulfillment.</p> <p> \tPerforms technical support duties, including product configuration and troubleshooting of customer issues during Project and Operations.</p> <p> \tManaging and retaining relationships with existing clients, ensure increasing of client base</p>\n",
      "-----------------------\n",
      "==============================================\n",
      "<p><strong>Pre-sales Activities</strong></p>\n",
      "<p>•\tResponsible for the design and preparation of technical proposal, generating system and equipment specifications for the Security and Traffic solutions in compliances for bid projects.</p>\n",
      "<p>•\tSupport presales engagement including customer requirement analysis, solution proposal preparation and presentation, setting up POC, clarification of solution and preparation of costing.</p>\n",
      "<p>•\tPrepare technical presentation, taking lead in technical reviews and clarification meetings with customers before and during bid phase</p>\n",
      "<p>•\tWork with vendors, analyze and identify best suitable product and maintain database of it for future use and group sharing.</p>\n",
      "<p>•\tNegotiate with stakeholders related to tender proposals, budgetary quotations, company’s advantage and operational availability.</p>\n",
      "<p>•\tDrafting and reviewing contracts between company and client in compliance with legal requirements</p>\n",
      "<p>•\tKeep abreast with updated technical knowledge of competitive solutions.</p>\n",
      "<p>•\tIdentifying and mapping business strengths and customer needs</p>\n",
      "<p><br></p>\n",
      "<p><strong>Post-sales Activities</strong></p>\n",
      "<p>•\tHandle various stages of solution sales from presales to fulfillment.</p>\n",
      "<p>•\tFulfillment of activities including handover of proposed solution to project and operation teams and provides guidance on technical solution proposed.</p>\n",
      "<p>•\tPerforms technical support duties, including product configuration and troubleshooting of customer issues during Project and Operations.</p>\n",
      "<p>•\tManaging and retaining relationships with existing clients, ensure increasing of client base</p>\n",
      "<p><br></p>\n",
      "<p><strong>Job Requirements</strong></p>\n",
      "<p>•\tDegree in Electrical, Electronic Engineering or related fields</p>\n",
      "<p>•\tMinimum 3 years relevant working experience in Security industry</p>\n",
      "<p>•\tFamiliar with integrated security systems like CCTV, Card Access, Face Recognition</p>\n",
      "<p>•\tFamiliar with Public Sector Standard Conditions of Contract</p>\n",
      "<p>•\tExcellent interpersonal, communication and presentation skills</p>\n",
      "<p>•\tGood sales follow up &amp; good track records of sales</p>\n",
      "<p>•\tStrong interpersonal skills</p>\n",
      "<p>•\tDynamic, resourceful and able to carry out tasks independently</p>\n",
      "<p>•\tPassionate about meeting people</p>\n",
      "<p><br></p>\n"
     ]
    }
   ],
   "source": [
    "import random\n",
    "idx = random.sample(mcf_df.index.tolist(), 1)[0]\n",
    "#idx = 23272\n",
    "#idx = 18514\n",
    "#idx = 835\n",
    "print(f\"Index: {idx}\")\n",
    "print(f\"Job title: {mcf_df['Title'][idx]}\")\n",
    "print(f\"SSOC: {mcf_df['SSOC_2015'][idx]}\")\n",
    "print(f\"Job tasks: {process_text(mcf_df['Description'][idx])}\")\n",
    "print(\"-----------------------\")\n",
    "print(\"==============================================\")\n",
    "print(mcf_df['Description'][idx])"
   ]
  },
  {
   "cell_type": "code",
   "execution_count": 249,
   "id": "b9fbeb75-f128-4996-a111-5f2f2d87d7b9",
   "metadata": {},
   "outputs": [
    {
     "data": {
      "text/plain": [
       "'  Proven software development experience and Android skills development (minimum 3 years)  Proven working experience in Android app development (minimum 3 years)  Experience with Android SDK  Experience working with remote data via REST and JSON  Experience with third-party libraries and APIs  Working knowledge of the general mobile landscape, architectures, trends, and emerging technologies  Solid understanding of the full mobile development life cycle.  Proficient understanding of code versioning git  Familiarity with continuous integration'"
      ]
     },
     "execution_count": 249,
     "metadata": {},
     "output_type": "execute_result"
    }
   ],
   "source": [
    "process_text(mcf_df[\"Description\"][103])"
   ]
  },
  {
   "cell_type": "code",
   "execution_count": 250,
   "id": "468b0b4e-fb99-487c-9b40-f9867d4d24f8",
   "metadata": {},
   "outputs": [
    {
     "data": {
      "text/plain": [
       "'<ul>\\n  <li>Proven software development experience and Android skills development (minimum 3 years)</li>\\n  <li>Proven working experience in Android app development (minimum 3 years)</li>\\n  <li>Experience with Android SDK</li>\\n  <li>Experience working with remote data via REST and JSON</li>\\n  <li>Experience with third-party libraries and APIs</li>\\n  <li>Working knowledge of the general mobile landscape, architectures, trends, and emerging technologies</li>\\n  <li>Solid understanding of the full mobile development life cycle.</li>\\n  <li>Proficient understanding of code versioning git</li>\\n  <li>Familiarity with continuous integration</li>\\n</ul>'"
      ]
     },
     "execution_count": 250,
     "metadata": {},
     "output_type": "execute_result"
    }
   ],
   "source": [
    "mcf_df[\"Description\"][103]"
   ]
  },
  {
   "cell_type": "code",
   "execution_count": 156,
   "id": "bd0340de-4933-4160-a24a-9e41cd2adf2c",
   "metadata": {},
   "outputs": [
    {
     "name": "stdout",
     "output_type": "stream",
     "text": [
      "NOUN\n",
      "False\n"
     ]
    }
   ],
   "source": [
    "for token in nlp(output[0].split(' ')[0]):\n",
    "    print(token.pos_)\n",
    "    print(nlp(output[0].split(' ')[0])[0].pos_ == 'VERB')"
   ]
  },
  {
   "cell_type": "code",
   "execution_count": 157,
   "id": "82e54b80-89b6-489b-abf0-16aa55b0b992",
   "metadata": {},
   "outputs": [
    {
     "data": {
      "text/plain": [
       "['<ul>  <li>Qualified lawyer with a minimum of 3- 5yrs PQE in a common law jurisdiction including England &amp; Wales, Australian qualifications due to the cross border nature of our work</li>  <li>Experience in complex cross border and multi-jurisdicitonal banking work</li>  <li>Strong Technical banking knowledge</li>  <li>Excellent Client Relationships skills</li>  <li>Strong commercial/business acumen with the ability to deliver creative and pragmatic solutions and advice</li>  <li>Excellent communication and interpersonal skills, with the ability to interface at all levels and particularly to win the respect of the partner and fee-earner community, building strong relationships with both internal and external stakeholders</li>  <li>Collaborative team player with the ability to develop and work in a fast paced, intellectually rigorous environment</li></ul>']"
      ]
     },
     "execution_count": 157,
     "metadata": {},
     "output_type": "execute_result"
    }
   ],
   "source": [
    "list_elements"
   ]
  },
  {
   "cell_type": "code",
   "execution_count": 158,
   "id": "1deb72b7-d0fd-48a4-917a-b863c92594d1",
   "metadata": {},
   "outputs": [
    {
     "data": {
      "text/plain": [
       "['Allen &amp; Overy is a leading global law firm operating in over thirty countries. Embracing new trends and harnessing decades of experience, we’ve earned our place at the forefront of the legal industry. Our partners are recognised as leaders in their field and our deals and cases often make headline business news. As a result, we’ve developed a reputation for delivering excellence, in all that we do. Today, we’re continuing to break new ground. By embracing new ways of thinking and integrating technology into our everyday work, we’ve been named as the Most Innovative Law Firm in Europe by the Financial Times six times. Join our team and you’ll be part of a flexible, inclusive culture underpinned by openness and acceptance. We’re driven by the belief that, to perform, people need support and space to collaborate. By combining those values with an ambitious outlook, we can give you the opportunity to thrive.Department &amp; RoleAllen &amp; Overy Singapore is a hub for the firms work across ASEAN and India. Our history in Singapore spans more than 20 years. We were one of the first international firms to be granted a Singapore Qualifying Foreign Law Practice (QFLP) licence in 2008, allowing us to practice Singapore law, and only one of four to have had the licence renewed for a further full five-year term in 2014. We have developed a culture in which difference is positively valued, and our people are free to be themselves. We are in every sense one global team; supportive and collaborative, but also ambitious and driven. Our capacity to combine these qualities and provide a setting in which our people can thrive is what makes us different. The Singapore banking team is a market-leading practice. The team predominantly advises on cross-border financings across all Southeast Asian jurisdictions, India and on deals across the broader Asia Pacific region. The group has a particular focus on leverage finance, acquisition finance, private equity driven finance, property/real estate finance, project finance, share-backed finance and general corporate financings. The team is consistently ranked tier 1 across all of the major legal directories. Our work spans a variety of sectors ranging from financial services, insurance, mining, pharmaceuticals, real estate and retail to telecommunications and manufacturing.Role&nbsp;requirements']"
      ]
     },
     "execution_count": 158,
     "metadata": {},
     "output_type": "execute_result"
    }
   ],
   "source": [
    "non_list_elements"
   ]
  },
  {
   "cell_type": "code",
   "execution_count": 38,
   "id": "effe5489-96cc-4d71-9d6d-828a22f25e67",
   "metadata": {},
   "outputs": [
    {
     "data": {
      "text/plain": [
       "196      ([{'job_title': [' ', 'ux', 'designer'], 'job_...\n",
       "220      ([{'job_title': [' ', 'key', 'member', 'digita...\n",
       "315      ([{'job_title': ['   ', 'coordinate', 'centre'...\n",
       "320      ([{'job_title': ['responsibility'], 'job_descr...\n",
       "456      ([{'job_title': [' ', 'key', 'responsibility',...\n",
       "                               ...                        \n",
       "22895    ([{'job_title': ['responsibility'], 'job_descr...\n",
       "23191    ([{'job_title': [' ', 'human', 'resource'], 'j...\n",
       "23272    ([{'job_title': [' ', 'expect'], 'job_descript...\n",
       "23345    ([{'job_title': [' ', 'job', 'responsibility']...\n",
       "23545    ([{'job_title': [' \\xa0'], 'job_description': ...\n",
       "Name: Description, Length: 317, dtype: object"
      ]
     },
     "execution_count": 38,
     "metadata": {},
     "output_type": "execute_result"
    }
   ],
   "source": [
    "output[output.apply(len) != 0]"
   ]
  },
  {
   "cell_type": "code",
   "execution_count": 115,
   "id": "2e35165d-e489-4743-bd16-a0516d745684",
   "metadata": {},
   "outputs": [
    {
     "data": {
      "text/html": [
       "<div>\n",
       "<style scoped>\n",
       "    .dataframe tbody tr th:only-of-type {\n",
       "        vertical-align: middle;\n",
       "    }\n",
       "\n",
       "    .dataframe tbody tr th {\n",
       "        vertical-align: top;\n",
       "    }\n",
       "\n",
       "    .dataframe thead th {\n",
       "        text-align: right;\n",
       "    }\n",
       "</style>\n",
       "<table border=\"1\" class=\"dataframe\">\n",
       "  <thead>\n",
       "    <tr style=\"text-align: right;\">\n",
       "      <th></th>\n",
       "      <th>Job_ID</th>\n",
       "      <th>Title</th>\n",
       "      <th>Description</th>\n",
       "      <th>SSOC_2015</th>\n",
       "    </tr>\n",
       "  </thead>\n",
       "  <tbody>\n",
       "    <tr>\n",
       "      <th>76</th>\n",
       "      <td>MCF-2020-0221485</td>\n",
       "      <td>business development manager</td>\n",
       "      <td>&lt;p&gt;Genesis-Global is a purveyor of fine luxury...</td>\n",
       "      <td>12212.0</td>\n",
       "    </tr>\n",
       "    <tr>\n",
       "      <th>77</th>\n",
       "      <td>MCF-2020-0078824</td>\n",
       "      <td>security officer #sgunitedjobs</td>\n",
       "      <td>&lt;p&gt;&lt;u&gt;&lt;strong&gt;Duties &amp;amp; Responsibilities&lt;/s...</td>\n",
       "      <td>54142</td>\n",
       "    </tr>\n",
       "    <tr>\n",
       "      <th>94</th>\n",
       "      <td>MCF-2020-0103552</td>\n",
       "      <td>junior accountant #sgunitedtraineeships</td>\n",
       "      <td>&lt;p&gt;&lt;u&gt;&lt;strong&gt;Traineeship Description:&lt;/strong...</td>\n",
       "      <td>33130</td>\n",
       "    </tr>\n",
       "    <tr>\n",
       "      <th>136</th>\n",
       "      <td>MCF-2020-0142738</td>\n",
       "      <td>#sgunitedtraineeships executive (clinician rem...</td>\n",
       "      <td>&lt;p&gt;&lt;strong&gt;Job Description:&lt;/strong&gt;&lt;/p&gt;\\n&lt;p&gt;T...</td>\n",
       "      <td>29090</td>\n",
       "    </tr>\n",
       "    <tr>\n",
       "      <th>160</th>\n",
       "      <td>MCF-2020-0024938</td>\n",
       "      <td>biofire market development manager aspac</td>\n",
       "      <td>&lt;p&gt;&lt;strong&gt;Position Summary:&lt;/strong&gt;&lt;/p&gt;\\n&lt;p&gt;...</td>\n",
       "      <td>11202</td>\n",
       "    </tr>\n",
       "    <tr>\n",
       "      <th>...</th>\n",
       "      <td>...</td>\n",
       "      <td>...</td>\n",
       "      <td>...</td>\n",
       "      <td>...</td>\n",
       "    </tr>\n",
       "    <tr>\n",
       "      <th>23516</th>\n",
       "      <td>MCF-2020-0144392</td>\n",
       "      <td>associate (marketing &amp; development) #sgunitedt...</td>\n",
       "      <td>&lt;p&gt;&lt;u&gt;&lt;strong&gt;Traineeship Description:&lt;/strong...</td>\n",
       "      <td>39990</td>\n",
       "    </tr>\n",
       "    <tr>\n",
       "      <th>23568</th>\n",
       "      <td>MCF-2020-0124783</td>\n",
       "      <td>founders office trainee associate #sgunitedtra...</td>\n",
       "      <td>&lt;p&gt;&lt;strong&gt;Traineeship Description:&lt;/strong&gt;&lt;/...</td>\n",
       "      <td>13499</td>\n",
       "    </tr>\n",
       "    <tr>\n",
       "      <th>23569</th>\n",
       "      <td>MCF-2020-0175196</td>\n",
       "      <td>automation software engineer #sgunitedtrainees...</td>\n",
       "      <td>&lt;p&gt;The Analyst Programmer (Automation COE) wil...</td>\n",
       "      <td>25121</td>\n",
       "    </tr>\n",
       "    <tr>\n",
       "      <th>23593</th>\n",
       "      <td>MCF-2020-0066592</td>\n",
       "      <td>senior / lead mobile developer</td>\n",
       "      <td>&lt;p&gt;Do you believe your designs and code could ...</td>\n",
       "      <td>29090.0</td>\n",
       "    </tr>\n",
       "    <tr>\n",
       "      <th>23600</th>\n",
       "      <td>MCF-2020-0110155</td>\n",
       "      <td>rpa associate #sgunitedtraineeships #sgup</td>\n",
       "      <td>&lt;p&gt;CFB Bots is a technology service provider s...</td>\n",
       "      <td>25121.0</td>\n",
       "    </tr>\n",
       "  </tbody>\n",
       "</table>\n",
       "<p>871 rows × 4 columns</p>\n",
       "</div>"
      ],
      "text/plain": [
       "                 Job_ID                                              Title  \\\n",
       "76     MCF-2020-0221485                       business development manager   \n",
       "77     MCF-2020-0078824                     security officer #sgunitedjobs   \n",
       "94     MCF-2020-0103552            junior accountant #sgunitedtraineeships   \n",
       "136    MCF-2020-0142738  #sgunitedtraineeships executive (clinician rem...   \n",
       "160    MCF-2020-0024938           biofire market development manager aspac   \n",
       "...                 ...                                                ...   \n",
       "23516  MCF-2020-0144392  associate (marketing & development) #sgunitedt...   \n",
       "23568  MCF-2020-0124783  founders office trainee associate #sgunitedtra...   \n",
       "23569  MCF-2020-0175196  automation software engineer #sgunitedtrainees...   \n",
       "23593  MCF-2020-0066592                     senior / lead mobile developer   \n",
       "23600  MCF-2020-0110155          rpa associate #sgunitedtraineeships #sgup   \n",
       "\n",
       "                                             Description SSOC_2015  \n",
       "76     <p>Genesis-Global is a purveyor of fine luxury...   12212.0  \n",
       "77     <p><u><strong>Duties &amp; Responsibilities</s...     54142  \n",
       "94     <p><u><strong>Traineeship Description:</strong...     33130  \n",
       "136    <p><strong>Job Description:</strong></p>\\n<p>T...     29090  \n",
       "160    <p><strong>Position Summary:</strong></p>\\n<p>...     11202  \n",
       "...                                                  ...       ...  \n",
       "23516  <p><u><strong>Traineeship Description:</strong...     39990  \n",
       "23568  <p><strong>Traineeship Description:</strong></...     13499  \n",
       "23569  <p>The Analyst Programmer (Automation COE) wil...     25121  \n",
       "23593  <p>Do you believe your designs and code could ...   29090.0  \n",
       "23600  <p>CFB Bots is a technology service provider s...   25121.0  \n",
       "\n",
       "[871 rows x 4 columns]"
      ]
     },
     "execution_count": 115,
     "metadata": {},
     "output_type": "execute_result"
    }
   ],
   "source": [
    "mcf_df[mcf_df[\"Description\"].str.contains('<ol>')]"
   ]
  },
  {
   "cell_type": "code",
   "execution_count": 116,
   "id": "155b4f05-79e5-4e19-b8b3-998c11459188",
   "metadata": {},
   "outputs": [
    {
     "data": {
      "text/plain": [
       "'<p>Genesis-Global is a purveyor of fine luxury gems and jewellery with an increasingly global outreach, whilst having business presence in Singapore and Hong Kong for more than 7 years.</p>\\n<p>Having consolidated its operational activities into its new head office in Singapore in May 2019 as part of its new focus away from the Hong Kong market, Genesis-Global is now seeking to expand its team in Singapore to capture market share in the luxury gems market in Singapore and Europe, with special focus in expansion into the French luxury market as the initial footprint in Europe.</p>\\n<p>With that in mind, the company now wishes to hire, on a full-time basis, a Business Development Manager with specific abilities and experience as more particularly described below, who shall already be physically located in Singapore as at the time of job application. The person should possess the following qualities:</p>\\n<ol>\\n  <li>At least 3 years of living and working in Singapore.</li>\\n  <li>Had been a local entrepreneur or self-employed business owner in Singapore with at least 3 consecutive years of recent entrepreneurial experience in Singapore acquired within the period commencing on the date of job application counting backwards. (The entrepreneurial experience does not necessarily have to be gained within the gems and jewellery industry.) We deeply value entrepreneurial experience as we believe that such experience makes one a more effective business development specialist.</li>\\n  <li>Has extensive business networking experience of at least 3 consecutive years within Singapore in both local and European expatriate communities.</li>\\n  <li>In addition to fluent written and oral English language ability, the ability to communicate fluently (both orally and in writing) in the French language.</li>\\n  <li>Has a good knowledge of the various qualities of rare precious stones such as Tsavorites, Tanzanites, Spinels, Alexandrites, Rubies, Sapphires and Emeralds. (There is no need for any professional gemological knowledge or qualifications.)</li>\\n  <li>Has a strong passion for precious gemstones, be it as a collector, trader or someone who is passionate about, and believes, in precious gemstones as an alternative investment with the ability to convince prospective customers using relevant knowledge.</li>\\n  <li>Possession of qualification(s) and/or a deep knowledge in fine wines and fine dining will be strongly preferred due to our clientele’s high net-worth background and the need to entertain them in sophisticated gourmet dining settings.</li>\\n  <li>Has the ability to comfortably network and socialise with high society and sophisticated individuals in sophisticated social settings.</li>\\n  <li>Tertiary education qualification(s) will be preferred, although not necessary.</li>\\n  <li>The willingness to travel outside of Singapore for business development purposes.</li>\\n</ol>'"
      ]
     },
     "execution_count": 116,
     "metadata": {},
     "output_type": "execute_result"
    }
   ],
   "source": [
    "mcf_df[\"Description\"][76]"
   ]
  },
  {
   "cell_type": "code",
   "execution_count": null,
   "id": "9d08c467-3fdb-4300-87c3-395dfc2b8d6b",
   "metadata": {},
   "outputs": [],
   "source": [
    "# to do\n",
    "# replace <p> tags within <li> tags !\n",
    "# pick <p> tag with closest match instead of preceding <p> tag only? or preceding 2 <p> tags\n",
    "# if <p> tag is empty then hunt for another tag (maybe h1?)\n",
    "# max length of <p> tag?\n",
    "# need to capture all <li> tags instead of just those with <p> preceding\n",
    "# should we just go straight to labelling?"
   ]
  },
  {
   "cell_type": "code",
   "execution_count": 100,
   "id": "31b7438d-5016-4923-bfc2-e003dcd51b92",
   "metadata": {},
   "outputs": [
    {
     "data": {
      "text/plain": [
       "'<p>Unveiled in 1989, Expressions is a recognized pioneer in the beauty industry. It adopts the philosophy of total wellness, offering a wide range of facial and slimming treatment, as well as spa therapy. All of which are supported by high technology equipment and service-excellence standards.</p>\\n<p><br></p>\\n<p>Trainee will be stationed in the retail store setting to work with other retail staff and undergo training to nurture skills in retail operation management. Trainee will also be in direct interactions with the customers and be responsible to oversee customer service.</p>\\n<p><br></p>\\n<p>Responsibilities include, but not limited to:</p>\\n<ul>\\n  <li>Support the Operations Manager in the supervision of store operations and the management of retail manpower</li>\\n  <li>Manage front desk operations (appointment system, point-of-sales system, credit card and digital payment terminals).</li>\\n  <li>Attend to customer enquiries and advise customers on the benefits of massages</li>\\n  <li>Perform sales pitch to prospective customers for spa and massage services</li>\\n  <li>Provide service excellence to garner good service reviews</li>\\n  <li>Handle customer complaints, if any, and provide appropriate solutions and maintain excellence after-sales customer relationships.</li>\\n  <li>Responsible for merchandising presentation</li>\\n  <li>Work with HQ marketing team to brainstorm and propose promotion activities, and ensure prompt promotion and display execution</li>\\n  <li>Maintain exemplary spa environment in terms of cleanliness and tidiness</li>\\n  <li>Manage store inventory through requisition and stock taking.</li>\\n  <li>Daily reporting of spa and massage services and any other operational issues to management</li>\\n</ul>\\n<p>Technical Skills and Competencies Trainee will learn during SGUnited Traineeship Programme:</p>\\n<ul>\\n  <li>Knowledge of the Company’s products and services</li>\\n  <li>Theory and practical on the Company’s internal and external point-of sales system, and front desk operations</li>\\n  <li>Customer service &amp; Sales Pitch</li>\\n  <li>Retail Operations Management</li>\\n  <li>Manpower coordination</li>\\n  <li>Active participation in marketing activities</li>\\n  <li>Knowledge in merchandising presentation</li>\\n</ul>\\n<p>Eligibility Criteria</p>\\n<ul>\\n  <li>Singaporean / PR with Degree in Spa/Hospitality /Business Management</li>\\n  <li>Graduated in 2019 or graduating in 2020</li>\\n  <li>Customer-oriented</li>\\n  <li>Strong communication and problem-solving skills</li>\\n</ul>\\n<p>Traineeship Duration: 12months</p>'"
      ]
     },
     "execution_count": 100,
     "metadata": {},
     "output_type": "execute_result"
    }
   ],
   "source": [
    "mcf_df.iloc[18]['Description']"
   ]
  },
  {
   "cell_type": "code",
   "execution_count": 96,
   "id": "0e639b4b-f91e-45d9-b82a-684a36495c22",
   "metadata": {},
   "outputs": [
    {
     "name": "stdout",
     "output_type": "stream",
     "text": [
      "Index: 6535\n",
      "Job title: [' \\xa0\\xa0\\xa0\\xa0\\xa0\\xa0 ', 'job', 'responsibility']\n",
      "Relevance score: (0.8285877897785132, 0.6670268372784524)\n",
      "Job description:   support requests for data or data related collaboration or projects, and ensure that all deliverables and outcomes are accurate and timely; manage day-day data administration and management issues; expected to present imd and ica in data-driven collaborations/projects within ica and across wog respectively; assist in the project management of ica’s analytic projects and initiatives; manage the entire end to end lifecycle of an analytics project, including scoping of data inputs, data preparation, data pre-processing, feature engineering, basic data modelling, model deployment and monitoring; ensure projects adhere to ica’s data management framework, data quality and protection standards pertaining to ica’s information; responsible for the management of ica’s data resources; perform all other duties as and when assigned by the supervisor. \n",
      "Match: <p><strong><u>Data Analyst </u></strong><strong><u>(Data Management and Analytics)</u></strong></p> <p>The Immigration & Checkpoints Authority (ICA) is responsible for the security of Singapore's borders, against the entry of undesirable persons and cargo through our land, air and sea checkpoints.  ICA also performs immigration and registration functions in the issuance of travel documents and identity cards to Singapore citizens, and various immigration passes and permits to foreigners.</p> <p>The Data Analyst shall assist the unit to oversee all data management related issues across ICA. He/she is also expected to take the lead on analytics projects, working closely with stakeholders to deliver on the expected analytics outcomes. </p> <p><strong>      </strong> <strong><u>Job Responsibilities</u></strong></p> <ul> <li>Support requests for data or data related collaboration or projects, and ensure that all deliverables and outcomes are accurate and timely;</li> <li>Manage day-day data administration and management issues;</li> <li>Expected to present IMD and ICA in data-driven collaborations/projects within ICA and across WOG respectively;</li> <li>Assist in the project management of ICA’s analytic projects and initiatives;</li> <li>Manage the entire end to end lifecycle of an analytics project, including scoping of data inputs, data preparation, data pre-processing, feature engineering, basic data modelling, model deployment and monitoring;</li> <li>Ensure projects adhere to ICA’s data management framework, data quality and protection standards pertaining to ICA’s information;</li> <li>Responsible for the management of ICA’s data resources;</li> <li>Perform all other duties as and when assigned by the supervisor.</li> </ul>\n",
      "-----------------------\n",
      "Job title: ['job', 'requirement']\n",
      "Relevance score: (0.7151557339071319, 0.7643880895040297)\n",
      "Job description:   possess good knowledge or experience preferably in area of statistics, engineering, computer science, applied mathematics, quantitative social science. proficient in using microsoft applications, particularly in using excel to manage data and use of visualisation tools to present data-related outcomes in a clear and concise manner. possess skills in either sas, r, python, qlik, tableau softwares would be ideal. ability to work under pressure and within tight deadlines. ability to communicate and collaborate with multiple stakeholders. excellent analytical and critical thinking skills. strong interpersonal, communication and report writing skills. independent and capable of being a team player. \n",
      "Match: <p><strong><u>Job Requirements</u></strong></p> <ul> <li>Possess good knowledge or experience preferably in area of Statistics, Engineering, Computer Science, Applied Mathematics, Quantitative Social Science.</li> <li>Proficient in using Microsoft Applications, particularly in using EXCEL to manage data and use of visualisation tools to present data-related outcomes in a clear and concise manner.</li> <li>Possess skills in either SAS, R, Python, Qlik, Tableau softwares would be ideal.</li> <li>Ability to work under pressure and within tight deadlines.</li> <li>Ability to communicate and collaborate with multiple stakeholders.</li> <li>Excellent analytical and critical thinking skills.</li> <li>Strong interpersonal, communication and report writing skills.</li> <li>Independent and capable of being a team player.</li> </ul>\n",
      "-----------------------\n",
      "==============================================\n",
      "<p><strong><u>Data Analyst </u></strong><strong><u>(Data Management and Analytics)</u></strong></p> <p>The Immigration & Checkpoints Authority (ICA) is responsible for the security of Singapore's borders, against the entry of undesirable persons and cargo through our land, air and sea checkpoints.  ICA also performs immigration and registration functions in the issuance of travel documents and identity cards to Singapore citizens, and various immigration passes and permits to foreigners.</p> <p>The Data Analyst shall assist the unit to oversee all data management related issues across ICA. He/she is also expected to take the lead on analytics projects, working closely with stakeholders to deliver on the expected analytics outcomes. </p> <p><strong>      </strong> <strong><u>Job Responsibilities</u></strong></p> <ul> <li>Support requests for data or data related collaboration or projects, and ensure that all deliverables and outcomes are accurate and timely;</li> <li>Manage day-day data administration and management issues;</li> <li>Expected to present IMD and ICA in data-driven collaborations/projects within ICA and across WOG respectively;</li> <li>Assist in the project management of ICA’s analytic projects and initiatives;</li> <li>Manage the entire end to end lifecycle of an analytics project, including scoping of data inputs, data preparation, data pre-processing, feature engineering, basic data modelling, model deployment and monitoring;</li> <li>Ensure projects adhere to ICA’s data management framework, data quality and protection standards pertaining to ICA’s information;</li> <li>Responsible for the management of ICA’s data resources;</li> <li>Perform all other duties as and when assigned by the supervisor.</li> </ul> <p><strong><u>Job Requirements</u></strong></p> <ul> <li>Possess good knowledge or experience preferably in area of Statistics, Engineering, Computer Science, Applied Mathematics, Quantitative Social Science.</li> <li>Proficient in using Microsoft Applications, particularly in using EXCEL to manage data and use of visualisation tools to present data-related outcomes in a clear and concise manner.</li> <li>Possess skills in either SAS, R, Python, Qlik, Tableau softwares would be ideal.</li> <li>Ability to work under pressure and within tight deadlines.</li> <li>Ability to communicate and collaborate with multiple stakeholders.</li> <li>Excellent analytical and critical thinking skills.</li> <li>Strong interpersonal, communication and report writing skills.</li> <li>Independent and capable of being a team player.</li> </ul> <p> </p>\n"
     ]
    }
   ],
   "source": [
    "import random\n",
    "idx = random.sample(output[output.apply(len) != 0].index.tolist(), 1)[0]\n",
    "#idx = 23272\n",
    "#idx = 18514\n",
    "#idx = 835\n",
    "print(f\"Index: {idx}\")\n",
    "for i in output[idx][0]:\n",
    "    print(f\"Job title: {i['job_title']}\")\n",
    "    print(f\"Relevance score: {i['relevance_score']}\")\n",
    "    print(f\"Job description: {i['job_description']}\")\n",
    "    print(f\"Match: {i['match']}\")\n",
    "    print(\"-----------------------\")\n",
    "print(\"==============================================\")\n",
    "print(mcf_df.iloc[idx]['Description'])"
   ]
  },
  {
   "cell_type": "code",
   "execution_count": 52,
   "id": "36e422cb-3e89-4d80-b55c-33711b4634c0",
   "metadata": {},
   "outputs": [
    {
     "data": {
      "text/plain": [
       "([{'job_title': ['responsibility'],\n",
       "   'job_description': '  strong background in computer science, computer or electronics engineering, information technology or related technical discipline experience/knowledge in front-end and backend languages and libraries (e.g. html/ css, javascript, xml, jquery, java) experience in modern web application technology stack such as node.js, react.js, spring familiar with version-control software (e.g git, serena dimensions) familiar with best practices, such as tdd and ci/cd experience in an agile environment ',\n",
       "   'match': '<p><strong><u>Responsibilities</u></strong></p> <ul> <li>Strong background in Computer Science, Computer or Electronics Engineering, Information Technology or related technical discipline</li> <li>Experience/Knowledge in front-end and backend languages and libraries (e.g. HTML/ CSS, JavaScript, XML, jQuery, Java)</li> <li>Experience in modern web application technology stack such as Node.js, React.js, Spring</li> <li>Familiar with version-control software (e.g Git, Serena Dimensions)</li> <li>Familiar with best practices, such as TDD and CI/CD</li> <li>Experience in an Agile environment</li> </ul>',\n",
       "   'relevance_score': 0.7994106422087267}],\n",
       " {'job_title': ['responsibility'],\n",
       "  'job_description': '  strong background in computer science, computer or electronics engineering, information technology or related technical discipline experience/knowledge in front-end and backend languages and libraries (e.g. html/ css, javascript, xml, jquery, java) experience in modern web application technology stack such as node.js, react.js, spring familiar with version-control software (e.g git, serena dimensions) familiar with best practices, such as tdd and ci/cd experience in an agile environment ',\n",
       "  'match': '<p><strong><u>Responsibilities</u></strong></p> <ul> <li>Strong background in Computer Science, Computer or Electronics Engineering, Information Technology or related technical discipline</li> <li>Experience/Knowledge in front-end and backend languages and libraries (e.g. HTML/ CSS, JavaScript, XML, jQuery, Java)</li> <li>Experience in modern web application technology stack such as Node.js, React.js, Spring</li> <li>Familiar with version-control software (e.g Git, Serena Dimensions)</li> <li>Familiar with best practices, such as TDD and CI/CD</li> <li>Experience in an Agile environment</li> </ul>',\n",
       "  'relevance_score': 0.7994106422087267})"
      ]
     },
     "execution_count": 52,
     "metadata": {},
     "output_type": "execute_result"
    }
   ],
   "source": [
    "output[320]"
   ]
  },
  {
   "cell_type": "code",
   "execution_count": null,
   "id": "c225de94-eee4-44db-ae4f-449613537fca",
   "metadata": {},
   "outputs": [],
   "source": []
  },
  {
   "cell_type": "code",
   "execution_count": null,
   "id": "559b36a1-5561-4851-9b42-e7bbc489bc23",
   "metadata": {},
   "outputs": [],
   "source": []
  },
  {
   "cell_type": "code",
   "execution_count": null,
   "id": "07c467c0-3216-44b7-b162-571d98b21626",
   "metadata": {},
   "outputs": [],
   "source": []
  },
  {
   "cell_type": "code",
   "execution_count": null,
   "id": "552f94d7-a059-4c9c-8e45-32b20f25f36c",
   "metadata": {},
   "outputs": [],
   "source": []
  },
  {
   "cell_type": "code",
   "execution_count": null,
   "id": "db67bd84-dc78-478b-86f2-c428f02fcf6a",
   "metadata": {},
   "outputs": [],
   "source": []
  },
  {
   "cell_type": "code",
   "execution_count": null,
   "id": "40ec9769-5013-4013-a75f-b6bd70cba1ed",
   "metadata": {},
   "outputs": [],
   "source": []
  },
  {
   "cell_type": "code",
   "execution_count": null,
   "id": "fdbb6508-8410-4ef3-9d22-dd520ea580f0",
   "metadata": {},
   "outputs": [],
   "source": []
  }
 ],
 "metadata": {
  "kernelspec": {
   "display_name": "Python 3 (ipykernel)",
   "language": "python",
   "name": "python3"
  },
  "language_info": {
   "codemirror_mode": {
    "name": "ipython",
    "version": 3
   },
   "file_extension": ".py",
   "mimetype": "text/x-python",
   "name": "python",
   "nbconvert_exporter": "python",
   "pygments_lexer": "ipython3",
   "version": "3.9.5"
  }
 },
 "nbformat": 4,
 "nbformat_minor": 5
}
