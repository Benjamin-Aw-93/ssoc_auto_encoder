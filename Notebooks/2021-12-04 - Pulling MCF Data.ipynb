{
 "cells": [
  {
   "cell_type": "markdown",
   "id": "0a2aba3a-5016-4809-be41-e59ac2e8e968",
   "metadata": {},
   "source": [
    "## Pulling MCF Data\n",
    "\n",
    "**Author:** Shaun Khoo  \n",
    "**Date:** 4 Dec 2021  \n",
    "**Context:** Need the full set of MCF job ads data to run language modelling (pre-training) for the DistilBERT model  \n",
    "**Objective:** Call the MCF Jobs API for all the job ad IDs that we have in our dataset"
   ]
  },
  {
   "cell_type": "markdown",
   "id": "0fc09b81-ead1-461f-ae4e-9b6aced19dc6",
   "metadata": {
    "jp-MarkdownHeadingCollapsed": true,
    "tags": []
   },
   "source": [
    "#### A) Setting up\n",
    "\n",
    "Importing the libraries and the dataset containing the job ad IDs to be pulled"
   ]
  },
  {
   "cell_type": "code",
   "execution_count": null,
   "id": "24269489-b5c6-4846-ae21-47e02abb2d23",
   "metadata": {},
   "outputs": [],
   "source": [
    "import pandas as pd\n",
    "import requests\n",
    "import hashlib \n",
    "import time\n",
    "import random\n",
    "import json\n",
    "import os"
   ]
  },
  {
   "cell_type": "markdown",
   "id": "d08bd2fc-2236-4c31-bbd5-ee6ea85989aa",
   "metadata": {},
   "source": [
    "`existing1` contains the 50k subset which we previously pulled data for. `existing2` contains the 200k subset which we received from the Jumpstart team from DSAID's hackathon in Jan 2021."
   ]
  },
  {
   "cell_type": "code",
   "execution_count": 2,
   "id": "ba66c42d-7880-40d3-8800-bc1efe01514e",
   "metadata": {},
   "outputs": [],
   "source": [
    "existing1 = pd.read_csv('../Data/Archive/MCF_Training_Set_Full.csv')"
   ]
  },
  {
   "cell_type": "code",
   "execution_count": 3,
   "id": "b48458c8-1e6f-4cd5-8aa4-deba51ac5b72",
   "metadata": {},
   "outputs": [],
   "source": [
    "existing1 = existing1[['MCF_Job_Ad_ID', 'uuid']]"
   ]
  },
  {
   "cell_type": "code",
   "execution_count": 5,
   "id": "43ab4167-f78a-487b-b7e6-824205b8f522",
   "metadata": {},
   "outputs": [],
   "source": [
    "existing2 = pd.read_csv('../Data/Archive/WGS_Dataset_Part_1_JobInfo.csv')"
   ]
  },
  {
   "cell_type": "code",
   "execution_count": 6,
   "id": "1f8a8a8d-5ae6-45b3-bbea-da8af61ca1b3",
   "metadata": {},
   "outputs": [],
   "source": [
    "existing2 = existing2[['job_post_id', 'status']]\n",
    "existing2.columns = ['MCF_Job_Ad_ID', 'uuid']"
   ]
  },
  {
   "cell_type": "markdown",
   "id": "ef562571-adef-4ac9-bb09-1f1f4c325080",
   "metadata": {},
   "source": [
    "`new` contains all the job ad IDs between Jan 2019 to Jun 2021, which we extracted from the Data Lab."
   ]
  },
  {
   "cell_type": "code",
   "execution_count": 8,
   "id": "3810dbc1-86c4-4fac-87cd-970bf5e3e53d",
   "metadata": {},
   "outputs": [],
   "source": [
    "new = pd.read_csv('../Data/Archive/MCF_Job_Ad_ID.csv')\n",
    "new.drop('Unnamed: 0', axis = 1, inplace = True)\n",
    "new.columns = ['MCF_Job_Ad_ID']"
   ]
  },
  {
   "cell_type": "markdown",
   "id": "5ea47d07-aee5-49f8-9024-bd60b9c837e3",
   "metadata": {},
   "source": [
    "`total` is the merged dataset between `new` and `existing1` and `existing2`. A successful join indicates to us that we already have the data."
   ]
  },
  {
   "cell_type": "code",
   "execution_count": 9,
   "id": "e15ed509-dce7-43ac-892c-08e2f2af6387",
   "metadata": {},
   "outputs": [],
   "source": [
    "total = new.merge(existing1, on = 'MCF_Job_Ad_ID', how = 'left').merge(existing2, on = ['MCF_Job_Ad_ID'], how = 'left')"
   ]
  },
  {
   "cell_type": "markdown",
   "id": "82257fa9-1779-4db6-ae0f-0dbed9c759ba",
   "metadata": {},
   "source": [
    "We initially prioritised those that were not already pulled, in case we get blocked from the API. Then we pulled data for those which we already have to complete our raw dataset."
   ]
  },
  {
   "cell_type": "code",
   "execution_count": 10,
   "id": "2346ff58-989d-427f-b2ca-0b73f309f4bb",
   "metadata": {},
   "outputs": [],
   "source": [
    "total['avail'] = total['uuid_x'].notnull() | total['uuid_y'].notnull()"
   ]
  },
  {
   "cell_type": "code",
   "execution_count": 11,
   "id": "ce9fbc36-b116-419a-aa22-52ecebcebb69",
   "metadata": {},
   "outputs": [],
   "source": [
    "to_be_pulled = total[total['avail']][['MCF_Job_Ad_ID']]"
   ]
  },
  {
   "cell_type": "markdown",
   "id": "b735c6ab-adb0-4c3c-95f5-631ff3c6b4dd",
   "metadata": {},
   "source": [
    "Checking the total number of job ad IDs to pull data for"
   ]
  },
  {
   "cell_type": "code",
   "execution_count": 12,
   "id": "9e636762-2ef7-4ce6-9c9f-a4b568d4b3f5",
   "metadata": {},
   "outputs": [
    {
     "data": {
      "text/plain": [
       "(271258, 1)"
      ]
     },
     "execution_count": 12,
     "metadata": {},
     "output_type": "execute_result"
    }
   ],
   "source": [
    "to_be_pulled.shape"
   ]
  },
  {
   "cell_type": "markdown",
   "id": "ea0adb83-b2a6-4b35-a6b4-31fa88a40689",
   "metadata": {
    "jp-MarkdownHeadingCollapsed": true,
    "tags": []
   },
   "source": [
    "#### B) Preparing to pull the data\n",
    "\n",
    "Applying the MD5 hash to each job ad ID to get the `uuid` for querying the API."
   ]
  },
  {
   "cell_type": "code",
   "execution_count": 13,
   "id": "43b5e6c5-d124-4b5a-a96e-7d03a6b99376",
   "metadata": {},
   "outputs": [],
   "source": [
    "to_be_pulled['uuid'] = [hashlib.md5(job_id.encode()).hexdigest() for job_id in to_be_pulled['MCF_Job_Ad_ID']]"
   ]
  },
  {
   "cell_type": "code",
   "execution_count": 14,
   "id": "f6db4b71-e7f2-416c-b754-11391b4e9347",
   "metadata": {},
   "outputs": [
    {
     "data": {
      "text/html": [
       "<div>\n",
       "<style scoped>\n",
       "    .dataframe tbody tr th:only-of-type {\n",
       "        vertical-align: middle;\n",
       "    }\n",
       "\n",
       "    .dataframe tbody tr th {\n",
       "        vertical-align: top;\n",
       "    }\n",
       "\n",
       "    .dataframe thead th {\n",
       "        text-align: right;\n",
       "    }\n",
       "</style>\n",
       "<table border=\"1\" class=\"dataframe\">\n",
       "  <thead>\n",
       "    <tr style=\"text-align: right;\">\n",
       "      <th></th>\n",
       "      <th>MCF_Job_Ad_ID</th>\n",
       "      <th>uuid</th>\n",
       "    </tr>\n",
       "  </thead>\n",
       "  <tbody>\n",
       "    <tr>\n",
       "      <th>254979</th>\n",
       "      <td>JOB-2020-0000007</td>\n",
       "      <td>92f307a9f0eed799d73a0d105415cc8a</td>\n",
       "    </tr>\n",
       "    <tr>\n",
       "      <th>254980</th>\n",
       "      <td>JOB-2020-0000008</td>\n",
       "      <td>25f5ed1896dc86da537fe0fee4c00928</td>\n",
       "    </tr>\n",
       "    <tr>\n",
       "      <th>254981</th>\n",
       "      <td>JOB-2020-0000016</td>\n",
       "      <td>dc63df578b3fac5ae605b09962ea19c9</td>\n",
       "    </tr>\n",
       "    <tr>\n",
       "      <th>254982</th>\n",
       "      <td>JOB-2020-0000018</td>\n",
       "      <td>7c73f2caa9dd923b109bdd63ba28dff1</td>\n",
       "    </tr>\n",
       "    <tr>\n",
       "      <th>254983</th>\n",
       "      <td>JOB-2020-0000032</td>\n",
       "      <td>0ebf6690c67b53ba9ce1d506605665b2</td>\n",
       "    </tr>\n",
       "  </tbody>\n",
       "</table>\n",
       "</div>"
      ],
      "text/plain": [
       "           MCF_Job_Ad_ID                              uuid\n",
       "254979  JOB-2020-0000007  92f307a9f0eed799d73a0d105415cc8a\n",
       "254980  JOB-2020-0000008  25f5ed1896dc86da537fe0fee4c00928\n",
       "254981  JOB-2020-0000016  dc63df578b3fac5ae605b09962ea19c9\n",
       "254982  JOB-2020-0000018  7c73f2caa9dd923b109bdd63ba28dff1\n",
       "254983  JOB-2020-0000032  0ebf6690c67b53ba9ce1d506605665b2"
      ]
     },
     "execution_count": 14,
     "metadata": {},
     "output_type": "execute_result"
    }
   ],
   "source": [
    "to_be_pulled.head()"
   ]
  },
  {
   "cell_type": "markdown",
   "id": "15f565c1-304a-4935-8312-d3fd2538c71b",
   "metadata": {},
   "source": [
    "We query for a MCF job ad that doesn't exist in the database to get the error message, so we can avoid writing the error message out as a JSON file."
   ]
  },
  {
   "cell_type": "code",
   "execution_count": 17,
   "id": "31039f38-2439-404c-a482-134529e5f579",
   "metadata": {},
   "outputs": [],
   "source": [
    "test = requests.get('https://api.mycareersfuture.gov.sg/v2/jobs/bb5faebc85f3504c17b83e16d2b4dafb')"
   ]
  },
  {
   "cell_type": "code",
   "execution_count": 19,
   "id": "077faca1-d69d-4456-a3b9-3abf5c3f1db4",
   "metadata": {},
   "outputs": [
    {
     "name": "stdout",
     "output_type": "stream",
     "text": [
      "{'message': 'UUID is not found in the database.'}\n"
     ]
    }
   ],
   "source": [
    "uuid_not_found = test.json()\n",
    "print(uuid_not_found)"
   ]
  },
  {
   "cell_type": "markdown",
   "id": "2edafc55-f3da-43c6-9168-0adb9c2fb096",
   "metadata": {},
   "source": [
    "Initialise the variables for monitoring the progress of calling the API - `rate_limit_count` checks how many times we have been rate-limited (so we can adjust the time delay if needed) and `errors` is a list of MCF job ad IDs which we couldn't pull any info for."
   ]
  },
  {
   "cell_type": "code",
   "execution_count": 22,
   "id": "5026275f-d9cf-4fab-a2ea-148cafe1a90c",
   "metadata": {},
   "outputs": [],
   "source": [
    "rate_limit_count = 0 \n",
    "errors = []"
   ]
  },
  {
   "cell_type": "markdown",
   "id": "38a84dd3-bb5f-4dd1-a315-cff1a9682ea1",
   "metadata": {
    "jp-MarkdownHeadingCollapsed": true,
    "tags": []
   },
   "source": [
    "#### C) Pulling the data\n",
    "\n",
    "Run the code below to call the MCF jobs API for the list of MCF job ad IDs from above. Note the file directory structure - the JSON response will be written to the `Data/Raw/mcf_api_responses` folder."
   ]
  },
  {
   "cell_type": "code",
   "execution_count": 31,
   "id": "25ebec44-a7c0-4922-9f9a-35e981f2f241",
   "metadata": {},
   "outputs": [],
   "source": [
    "base_url = 'https://api.mycareersfuture.gov.sg/v2/jobs'\n",
    "\n",
    "completed = [filename.replace('.json', '') for filename in os.listdir('../Data/Raw/mcf_api_responses')]\n",
    "total_count = len(to_be_pulled)\n",
    "    \n",
    "for i, ad_id, uuid in zip(list(range(1, len(to_be_pulled)+1)), to_be_pulled['MCF_Job_Ad_ID'], to_be_pulled['uuid']):\n",
    "        \n",
    "    if ad_id in completed:\n",
    "        continue\n",
    "    \n",
    "    req = requests.get(base_url + \"/\" + uuid)\n",
    "    \n",
    "    if req.status_code != 200:\n",
    "        try:\n",
    "            # if the uuid can't be found\n",
    "            if req.json() == uuid_not_found:\n",
    "                errors.append(ad_id)\n",
    "        except:\n",
    "            # if we are getting rate limited\n",
    "            print('Backing off...\\r', end = '')\n",
    "            rate_limit_count += 1\n",
    "            time.sleep(2)\n",
    "            req = requests.get(base_url + \"/\" + uuid)\n",
    "            if req.status_code != 200:\n",
    "                errors.append(ad_id)\n",
    "            \n",
    "    if req.status_code == 200:\n",
    "        try:                    \n",
    "            with open(f'../Data/Raw/mcf_raw/{ad_id}.json', 'w') as file:\n",
    "                json.dump(req.json(), file)\n",
    "            print(f'{i}/{total_count} completed - called {ad_id} successfully! Error count: {len(errors)}, Rate limit count: {rate_limit_count}\\r', end = '')\n",
    "        except:\n",
    "            errors.append(ad_id)"
   ]
  },
  {
   "cell_type": "markdown",
   "id": "229c6964-a4a8-4916-8bd2-3da36cbd17e5",
   "metadata": {},
   "source": [
    "Checking how many MCF job ad IDs have been pulled successfully. Note that due to an earlier bug, some JSONs were exported even though there was no data. These will be removed by Ben."
   ]
  },
  {
   "cell_type": "code",
   "execution_count": 25,
   "id": "a4589086-a9b7-4c1d-b2f4-690357e6c02e",
   "metadata": {},
   "outputs": [
    {
     "data": {
      "text/plain": [
       "882583"
      ]
     },
     "execution_count": 25,
     "metadata": {},
     "output_type": "execute_result"
    }
   ],
   "source": [
    "completed = [filename.replace('.json', '') for filename in os.listdir('../Data/Raw/mcf_raw')]\n",
    "len(completed)"
   ]
  },
  {
   "cell_type": "code",
   "execution_count": 32,
   "id": "eb4442c3-1c29-457b-ad55-abf515376ebc",
   "metadata": {},
   "outputs": [
    {
     "data": {
      "text/plain": [
       "883402"
      ]
     },
     "execution_count": 32,
     "metadata": {},
     "output_type": "execute_result"
    }
   ],
   "source": [
    "len(total)"
   ]
  }
 ],
 "metadata": {
  "kernelspec": {
   "display_name": "Python 3 (ipykernel)",
   "language": "python",
   "name": "python3"
  },
  "language_info": {
   "codemirror_mode": {
    "name": "ipython",
    "version": 3
   },
   "file_extension": ".py",
   "mimetype": "text/x-python",
   "name": "python",
   "nbconvert_exporter": "python",
   "pygments_lexer": "ipython3",
   "version": "3.9.5"
  }
 },
 "nbformat": 4,
 "nbformat_minor": 5
}
