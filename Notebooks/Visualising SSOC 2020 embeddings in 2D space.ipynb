{
 "cells": [
  {
   "cell_type": "code",
   "execution_count": null,
   "id": "88b41eeb-e21f-4755-bd1b-55573a61a651",
   "metadata": {},
   "outputs": [],
   "source": []
  },
  {
   "cell_type": "code",
   "execution_count": 46,
   "id": "c1449495-58e0-4faa-875d-ee427447ee4e",
   "metadata": {},
   "outputs": [],
   "source": [
    "import re\n",
    "text1 = '<p>Job Description:</p><ul>  <li>Flexible benefits plan including virtual doctor consultation services</li>  <li>Comprehensive leave benefits</li>  <li>Gender Neutral Parental Leave</li>  <li>Flexible working arrangements</li>  <li>25 days Annual leave, plus public holiday &amp; Flexible Working Arrangement</li></ul><ul>  <li>Packed finished goods   &amp;checking to meet daily shipping requirements to our customers.</li>  <li>Receiving materials into Warehouse and issuance of GRN (Goods Received Note).</li>  <li>Ensure proper warehousing and issuance of items/goods to the production shop floor based on FIFO practices.</li>  <li>Generate shipping documents and liaise with forwarders regarding truck/flight booking and shipment arrangements.</li>  <li>Maintain an accurate and complete record keeping system to ensure stock accuracy and report discrepancies.</li>  <li>Ensure that the store meets the standard of internal controls and audits  participate in stock counting.</li>  <li>Observe and comply with standard operating procedures in a timely manner to ensure no receiving/picking and shipping errors.</li>  <li>Other Ad hoc duties assigned by immediate supervisor or manager to support business requirements.</li></ul><p>Job Requirements:</p><ul>  <li>Candidate must possess at least A level and above or equivalent.</li>  <li>Good communicator in oral and written English.</li>  <li>Good organizational  time management skills.</li>  <li>Detail oriented and willingess to learn.</li>  <li>Able to handle multiple tasks and other assigned workload.</li>  <li>At least 1Year(s) of working experience in the related field is required for this position.</li>  <li>Able to start work immediately/ given short notice.</li></ul>'\n",
    "text = '<p>Details of the Division and Team:</p><p>Everyday DB observes thousands of intrusion attempts. Integrated in Deutsche Bank’s Chief Security Office (CSO), the Information Security Operations team is responsible for mitigating these risks. The Information Security Operations team enables the business of Deutsche Bank by providing agile security operational capabilities. The teams: Cyber Threat Operations, Malware Response  Cyber Forensics, Incident Response, and Vulnerability Management provide global services from key locations in Frankfurt, Jacksonville and Singapore.</p><p>What we will offer you:</p><p>A healthy, engaged and well-supported workforce are better equipped to do their best work and, more importantly, enjoy their lives inside and outside the workplace. That’s why we are committed to providing an environment with your development and wellbeing at its center.</p><p>You can expect:</p><ul>  <li>Flexible benefits plan including virtual doctor consultation services</li>  <li>Comprehensive leave benefits</li>  <li>Gender Neutral Parental Leave</li>  <li>Flexible working arrangements</li>  <li>25 days Annual leave, plus public holiday  Flexible Working Arrangement</li></ul><p>Your key responsibilities:</p><p>As the Malware Analyst will work closely in a team of subject-matter experts from different areas, excellent communication skills are required for this position.</p><p>Roles and Responsibilities overview:</p><ul>  <li>Dissect and analyze artifacts from potentially compromised Bank systems with the help of static and dynamic analysis solutions.</li>  <li>Identify infection vectors as well as respective possibilities for remediation, and correlate findings with network and application log files if required.</li>  <li>Support the Security Operations Centre and other groups within CSO – Information Security Operations during ongoing incidents and investigations, and advise stakeholders with respect to available remediation actions.</li></ul><p>Your skills and experience:</p><p><em>Technical Experience:</em></p><ul>  <li>Expert knowledge in the field of IT security, incident response, and/or computer forensics.</li>  <li>Strong knowledge of common software vulnerabilities, attack vectors, and exploitation methods.</li>  <li>Good knowledge of common network protocols, in particular on the application layer.</li>  <li>Capability of or strong interest in automating analysis tasks in a short amount of time, e.g., with scripting languages such as Python or PowerShell.</li>  <li>Familiarity with common software disassemblers and debuggers, e.g., IDA Pro, OllyDbg, or Immunity Debugger.</li>  <li>Knowledge of Microsoft Windows and Linux operating system internals is considered a significant plus.</li>  <li>Knowledge of penetration testing techniques is considered a plus.</li>  <li>Capability of explaining the implications of modern threats to both technical and potentially non-technical parties.</li>  <li>Self-motivated, strong team player, and interested in learning.</li></ul><p><em>Desired Education  Certifications:</em></p><ul>  <li>Degree from a four-year university with a focus on IT security or computer forensics or major course work in related fields of study.</li>  <li>GIAC Reverse Engineering Malware (GREM) or related certifications.</li></ul><p>How we’ll support you:</p><ul>  <li>Training and development to help you excel in your career</li>  <li>Flexible working to assist you balance your personal priorities</li>  <li>Coaching and support from experts in your team</li>  <li>A culture of continuous learning to aid progression</li>  <li>A range of flexible benefits that you can tailor to suit your needs</li></ul><p>About us and our teams:</p><p>Deutsche Bank is the leading German bank with strong European roots and a global network.</p><p>Deutsche Bank  Diversity</p><p>Our values define the working environment we strive to create – diverse, supportive and welcoming of different views. We embrace a culture reflecting a variety of perspectives, insights and backgrounds to drive innovation. We build talented and diverse teams to drive business results and encourage our people to develop to their full potential. Talk to us about flexible work arrangements and other initiatives we offer.</p><p>We promote good working relationships and encourage high standards of conduct and work performance. We welcome applications from talented people from all cultures, countries, races, genders, sexual orientations, disabilities, beliefs and generations and are committed to providing a working environment free from harassment, discrimination and retaliation.</p>'\n",
    "list_pattern = re.compile(r'(?=<ol>|<ul>).*?(?<=</ol>|</ul>)')\n",
    "list_elements = list_pattern.findall(text1)"
   ]
  },
  {
   "cell_type": "code",
   "execution_count": 47,
   "id": "02c91e00-3f05-4ce6-9b09-8bc05e2fabd4",
   "metadata": {},
   "outputs": [
    {
     "data": {
      "text/plain": [
       "['<ul>  <li>Flexible benefits plan including virtual doctor consultation services</li>  <li>Comprehensive leave benefits</li>  <li>Gender Neutral Parental Leave</li>  <li>Flexible working arrangements</li>  <li>25 days Annual leave, plus public holiday &amp; Flexible Working Arrangement</li></ul>',\n",
       " '',\n",
       " '<ul>  <li>Packed finished goods   &amp;checking to meet daily shipping requirements to our customers.</li>  <li>Receiving materials into Warehouse and issuance of GRN (Goods Received Note).</li>  <li>Ensure proper warehousing and issuance of items/goods to the production shop floor based on FIFO practices.</li>  <li>Generate shipping documents and liaise with forwarders regarding truck/flight booking and shipment arrangements.</li>  <li>Maintain an accurate and complete record keeping system to ensure stock accuracy and report discrepancies.</li>  <li>Ensure that the store meets the standard of internal controls and audits  participate in stock counting.</li>  <li>Observe and comply with standard operating procedures in a timely manner to ensure no receiving/picking and shipping errors.</li>  <li>Other Ad hoc duties assigned by immediate supervisor or manager to support business requirements.</li></ul>',\n",
       " '<ul>  <li>Candidate must possess at least A level and above or equivalent.</li>  <li>Good communicator in oral and written English.</li>  <li>Good organizational  time management skills.</li>  <li>Detail oriented and willingess to learn.</li>  <li>Able to handle multiple tasks and other assigned workload.</li>  <li>At least 1Year(s) of working experience in the related field is required for this position.</li>  <li>Able to start work immediately/ given short notice.</li></ul>']"
      ]
     },
     "execution_count": 47,
     "metadata": {},
     "output_type": "execute_result"
    }
   ],
   "source": [
    "list_elements"
   ]
  },
  {
   "cell_type": "code",
   "execution_count": 54,
   "id": "ce6b144a-f927-4b0b-adeb-0bf1195caae2",
   "metadata": {},
   "outputs": [],
   "source": [
    "list_pattern = re.compile(r'.*?(?<=</ol>|</ul>)')\n",
    "list_elements = list_pattern.findall(text)"
   ]
  },
  {
   "cell_type": "code",
   "execution_count": 53,
   "id": "2d036d15-fa0a-4f57-a244-b71f010732ff",
   "metadata": {},
   "outputs": [
    {
     "data": {
      "text/plain": [
       "['<ul>  <li>Flexible benefits plan including virtual doctor consultation services</li>  <li>Comprehensive leave benefits</li>  <li>Gender Neutral Parental Leave</li>  <li>Flexible working arrangements</li>  <li>25 days Annual leave, plus public holiday  Flexible Working Arrangement</li></ul>',\n",
       " '<ul>  <li>Dissect and analyze artifacts from potentially compromised Bank systems with the help of static and dynamic analysis solutions.</li>  <li>Identify infection vectors as well as respective possibilities for remediation, and correlate findings with network and application log files if required.</li>  <li>Support the Security Operations Centre and other groups within CSO – Information Security Operations during ongoing incidents and investigations, and advise stakeholders with respect to available remediation actions.</li></ul>',\n",
       " '<ul>  <li>Expert knowledge in the field of IT security, incident response, and/or computer forensics.</li>  <li>Strong knowledge of common software vulnerabilities, attack vectors, and exploitation methods.</li>  <li>Good knowledge of common network protocols, in particular on the application layer.</li>  <li>Capability of or strong interest in automating analysis tasks in a short amount of time, e.g., with scripting languages such as Python or PowerShell.</li>  <li>Familiarity with common software disassemblers and debuggers, e.g., IDA Pro, OllyDbg, or Immunity Debugger.</li>  <li>Knowledge of Microsoft Windows and Linux operating system internals is considered a significant plus.</li>  <li>Knowledge of penetration testing techniques is considered a plus.</li>  <li>Capability of explaining the implications of modern threats to both technical and potentially non-technical parties.</li>  <li>Self-motivated, strong team player, and interested in learning.</li></ul>',\n",
       " '<ul>  <li>Degree from a four-year university with a focus on IT security or computer forensics or major course work in related fields of study.</li>  <li>GIAC Reverse Engineering Malware (GREM) or related certifications.</li></ul>',\n",
       " '<ul>  <li>Training and development to help you excel in your career</li>  <li>Flexible working to assist you balance your personal priorities</li>  <li>Coaching and support from experts in your team</li>  <li>A culture of continuous learning to aid progression</li>  <li>A range of flexible benefits that you can tailor to suit your needs</li></ul>']"
      ]
     },
     "execution_count": 53,
     "metadata": {},
     "output_type": "execute_result"
    }
   ],
   "source": [
    "list_elements"
   ]
  },
  {
   "cell_type": "code",
   "execution_count": null,
   "id": "b0a97b43-7929-4f1a-8581-f23ee97332c3",
   "metadata": {},
   "outputs": [],
   "source": []
  },
  {
   "cell_type": "code",
   "execution_count": null,
   "id": "243e5f93-3c3f-4c0a-a009-b1e1ebbcb838",
   "metadata": {},
   "outputs": [],
   "source": []
  },
  {
   "cell_type": "code",
   "execution_count": 1,
   "id": "5d7403e9-84ea-43ea-a445-c5878d1e6646",
   "metadata": {},
   "outputs": [],
   "source": [
    "import spacy\n",
    "import numpy as np\n",
    "import pandas as pd"
   ]
  },
  {
   "cell_type": "code",
   "execution_count": 2,
   "id": "7553fe0e-54b9-4b9f-a9b2-4c0006764cea",
   "metadata": {},
   "outputs": [
    {
     "name": "stderr",
     "output_type": "stream",
     "text": [
      "c:\\users\\shaun\\pycharmprojects\\ssoc-autocoder\\venv\\lib\\site-packages\\openpyxl\\worksheet\\header_footer.py:48: UserWarning: Cannot parse header or footer so it will be ignored\n",
      "  warn(\"\"\"Cannot parse header or footer so it will be ignored\"\"\")\n"
     ]
    }
   ],
   "source": [
    "SSOC_Definitions = pd.read_excel('../Data/Raw/SSOC2020 Detailed Definitions.xlsx', skiprows = 4)"
   ]
  },
  {
   "cell_type": "code",
   "execution_count": 3,
   "id": "0570ee32-1074-4ffd-a7da-a20fe0fe2f00",
   "metadata": {},
   "outputs": [],
   "source": [
    "SSOC_4D = SSOC_Definitions[SSOC_Definitions['SSOC 2020'].apply(len) == 4][['SSOC 2020', 'Tasks']]\n",
    "SSOC_4D.columns = ['4D SSOC', 'Tasks']\n",
    "SSOC_5D = SSOC_Definitions[(SSOC_Definitions['SSOC 2020'].apply(len) == 5) & ~SSOC_Definitions['SSOC 2020'].str.contains('X')].reset_index(drop = True)\n",
    "SSOC_5D['4D SSOC'] = SSOC_5D['SSOC 2020'].str.slice(0, 4)\n",
    "SSOC_5D.drop('Tasks', axis = 1, inplace = True)\n",
    "SSOC_Final = SSOC_5D.merge(SSOC_4D, how = 'left', on = '4D SSOC')\n",
    "SSOC_Final['Description'] = SSOC_Final['Detailed Definitions'] + \" \" + SSOC_Final['Tasks']\n",
    "data = SSOC_Final[['SSOC 2020', 'Description']]"
   ]
  },
  {
   "cell_type": "code",
   "execution_count": null,
   "id": "97f03f55-f4d7-4ce9-9f19-578505cce05f",
   "metadata": {},
   "outputs": [
    {
     "data": {
      "text/html": [
       "<div>\n",
       "<style scoped>\n",
       "    .dataframe tbody tr th:only-of-type {\n",
       "        vertical-align: middle;\n",
       "    }\n",
       "\n",
       "    .dataframe tbody tr th {\n",
       "        vertical-align: top;\n",
       "    }\n",
       "\n",
       "    .dataframe thead th {\n",
       "        text-align: right;\n",
       "    }\n",
       "</style>\n",
       "<table border=\"1\" class=\"dataframe\">\n",
       "  <thead>\n",
       "    <tr style=\"text-align: right;\">\n",
       "      <th></th>\n",
       "      <th>SSOC 2020</th>\n",
       "      <th>SSOC 2020 Title</th>\n",
       "      <th>Groups Classified Under this Code</th>\n",
       "      <th>Detailed Definitions</th>\n",
       "      <th>Notes</th>\n",
       "      <th>Examples of Job Classified Under this Code</th>\n",
       "      <th>Examples of Job Classified Elsewhere</th>\n",
       "      <th>4D SSOC</th>\n",
       "      <th>Tasks</th>\n",
       "      <th>Description</th>\n",
       "    </tr>\n",
       "  </thead>\n",
       "  <tbody>\n",
       "    <tr>\n",
       "      <th>0</th>\n",
       "      <td>11110</td>\n",
       "      <td>Legislator</td>\n",
       "      <td>&lt;Blank&gt;</td>\n",
       "      <td>Legislator determines, formulates and directs ...</td>\n",
       "      <td>&lt;Blank&gt;</td>\n",
       "      <td>•  President (government)\\n•  Attorney general...</td>\n",
       "      <td>&lt;Blank&gt;</td>\n",
       "      <td>1111</td>\n",
       "      <td>- presiding over or participating in the proce...</td>\n",
       "      <td>Legislator determines, formulates and directs ...</td>\n",
       "    </tr>\n",
       "    <tr>\n",
       "      <th>1</th>\n",
       "      <td>11121</td>\n",
       "      <td>Senior government official</td>\n",
       "      <td>&lt;Blank&gt;</td>\n",
       "      <td>Senior government official plans, organises an...</td>\n",
       "      <td>&lt;Blank&gt;</td>\n",
       "      <td>•  Director-general\\n•  High commissioner (gov...</td>\n",
       "      <td>•  Commissioned police officer, see 33551</td>\n",
       "      <td>1112</td>\n",
       "      <td>- advising government and legislators on polic...</td>\n",
       "      <td>Senior government official plans, organises an...</td>\n",
       "    </tr>\n",
       "    <tr>\n",
       "      <th>2</th>\n",
       "      <td>11122</td>\n",
       "      <td>Senior statutory board official</td>\n",
       "      <td>&lt;Blank&gt;</td>\n",
       "      <td>Senior statutory board official plans, organis...</td>\n",
       "      <td>Senior statutory board official may be designa...</td>\n",
       "      <td>•  Chairman (statutory board)\\n•  Chief execut...</td>\n",
       "      <td>•  Chief executive (company), see 11201\\n•  Ex...</td>\n",
       "      <td>1112</td>\n",
       "      <td>- advising government and legislators on polic...</td>\n",
       "      <td>Senior statutory board official plans, organis...</td>\n",
       "    </tr>\n",
       "    <tr>\n",
       "      <th>3</th>\n",
       "      <td>11140</td>\n",
       "      <td>Senior official of political party organisation</td>\n",
       "      <td>&lt;Blank&gt;</td>\n",
       "      <td>Senior official of political party organisatio...</td>\n",
       "      <td>&lt;Blank&gt;</td>\n",
       "      <td>•  Administrator of political party organisation</td>\n",
       "      <td>&lt;Blank&gt;</td>\n",
       "      <td>1114</td>\n",
       "      <td>- determining and formulating the policies, ru...</td>\n",
       "      <td>Senior official of political party organisatio...</td>\n",
       "    </tr>\n",
       "    <tr>\n",
       "      <th>4</th>\n",
       "      <td>11150</td>\n",
       "      <td>Senior official of employers', workers' and ot...</td>\n",
       "      <td>&lt;Blank&gt;</td>\n",
       "      <td>Senior official of employers', workers' and ot...</td>\n",
       "      <td>&lt;Blank&gt;</td>\n",
       "      <td>•  Administrator of business association\\n•  A...</td>\n",
       "      <td>&lt;Blank&gt;</td>\n",
       "      <td>1115</td>\n",
       "      <td>- determining and formulating the policies, ru...</td>\n",
       "      <td>Senior official of employers', workers' and ot...</td>\n",
       "    </tr>\n",
       "    <tr>\n",
       "      <th>...</th>\n",
       "      <td>...</td>\n",
       "      <td>...</td>\n",
       "      <td>...</td>\n",
       "      <td>...</td>\n",
       "      <td>...</td>\n",
       "      <td>...</td>\n",
       "      <td>...</td>\n",
       "      <td>...</td>\n",
       "      <td>...</td>\n",
       "      <td>...</td>\n",
       "    </tr>\n",
       "    <tr>\n",
       "      <th>992</th>\n",
       "      <td>96272</td>\n",
       "      <td>Concierge (hotel)</td>\n",
       "      <td>&lt;Blank&gt;</td>\n",
       "      <td>Concierge (hotel) serves as the point of conta...</td>\n",
       "      <td>&lt;Blank&gt;</td>\n",
       "      <td>&lt;Blank&gt;</td>\n",
       "      <td>•  Hotel front office agent, see 42242\\n•  Apa...</td>\n",
       "      <td>9627</td>\n",
       "      <td>- co-ordinating and carrying out customers' re...</td>\n",
       "      <td>Concierge (hotel) serves as the point of conta...</td>\n",
       "    </tr>\n",
       "    <tr>\n",
       "      <th>993</th>\n",
       "      <td>96291</td>\n",
       "      <td>Leaflet and newspaper distributor/deliverer</td>\n",
       "      <td>&lt;Blank&gt;</td>\n",
       "      <td>Leaflet and newspaper distributor/deliverer ha...</td>\n",
       "      <td>&lt;Blank&gt;</td>\n",
       "      <td>•  Newspaper delivery man</td>\n",
       "      <td>&lt;Blank&gt;</td>\n",
       "      <td>9629</td>\n",
       "      <td>- handing out leaflets and free newspapers at ...</td>\n",
       "      <td>Leaflet and newspaper distributor/deliverer ha...</td>\n",
       "    </tr>\n",
       "    <tr>\n",
       "      <th>994</th>\n",
       "      <td>96292</td>\n",
       "      <td>Meter reader/Vending-machine collector</td>\n",
       "      <td>&lt;Blank&gt;</td>\n",
       "      <td>Meter reader/Vending-machine collector reads e...</td>\n",
       "      <td>&lt;Blank&gt;</td>\n",
       "      <td>•  Parking meter reader\\n•  Coin machine colle...</td>\n",
       "      <td>&lt;Blank&gt;</td>\n",
       "      <td>9629</td>\n",
       "      <td>- handing out leaflets and free newspapers at ...</td>\n",
       "      <td>Meter reader/Vending-machine collector reads e...</td>\n",
       "    </tr>\n",
       "    <tr>\n",
       "      <th>995</th>\n",
       "      <td>96293</td>\n",
       "      <td>Odd job person</td>\n",
       "      <td>&lt;Blank&gt;</td>\n",
       "      <td>Odd job person performs tasks of a simple and ...</td>\n",
       "      <td>&lt;Blank&gt;</td>\n",
       "      <td>•  Labourer\\n•  Handyman</td>\n",
       "      <td>&lt;Blank&gt;</td>\n",
       "      <td>9629</td>\n",
       "      <td>- handing out leaflets and free newspapers at ...</td>\n",
       "      <td>Odd job person performs tasks of a simple and ...</td>\n",
       "    </tr>\n",
       "    <tr>\n",
       "      <th>996</th>\n",
       "      <td>96299</td>\n",
       "      <td>Other elementary workers n.e.c.</td>\n",
       "      <td>&lt;Blank&gt;</td>\n",
       "      <td>This group includes elementary workers not els...</td>\n",
       "      <td>&lt;Blank&gt;</td>\n",
       "      <td>•  Food delivery on foot</td>\n",
       "      <td>&lt;Blank&gt;</td>\n",
       "      <td>9629</td>\n",
       "      <td>- handing out leaflets and free newspapers at ...</td>\n",
       "      <td>This group includes elementary workers not els...</td>\n",
       "    </tr>\n",
       "  </tbody>\n",
       "</table>\n",
       "<p>997 rows × 10 columns</p>\n",
       "</div>"
      ],
      "text/plain": [
       "    SSOC 2020                                    SSOC 2020 Title  \\\n",
       "0       11110                                         Legislator   \n",
       "1       11121                         Senior government official   \n",
       "2       11122                    Senior statutory board official   \n",
       "3       11140    Senior official of political party organisation   \n",
       "4       11150  Senior official of employers', workers' and ot...   \n",
       "..        ...                                                ...   \n",
       "992     96272                                  Concierge (hotel)   \n",
       "993     96291        Leaflet and newspaper distributor/deliverer   \n",
       "994     96292             Meter reader/Vending-machine collector   \n",
       "995     96293                                     Odd job person   \n",
       "996     96299                    Other elementary workers n.e.c.   \n",
       "\n",
       "    Groups Classified Under this Code  \\\n",
       "0                             <Blank>   \n",
       "1                             <Blank>   \n",
       "2                             <Blank>   \n",
       "3                             <Blank>   \n",
       "4                             <Blank>   \n",
       "..                                ...   \n",
       "992                           <Blank>   \n",
       "993                           <Blank>   \n",
       "994                           <Blank>   \n",
       "995                           <Blank>   \n",
       "996                           <Blank>   \n",
       "\n",
       "                                  Detailed Definitions  \\\n",
       "0    Legislator determines, formulates and directs ...   \n",
       "1    Senior government official plans, organises an...   \n",
       "2    Senior statutory board official plans, organis...   \n",
       "3    Senior official of political party organisatio...   \n",
       "4    Senior official of employers', workers' and ot...   \n",
       "..                                                 ...   \n",
       "992  Concierge (hotel) serves as the point of conta...   \n",
       "993  Leaflet and newspaper distributor/deliverer ha...   \n",
       "994  Meter reader/Vending-machine collector reads e...   \n",
       "995  Odd job person performs tasks of a simple and ...   \n",
       "996  This group includes elementary workers not els...   \n",
       "\n",
       "                                                 Notes  \\\n",
       "0                                              <Blank>   \n",
       "1                                              <Blank>   \n",
       "2    Senior statutory board official may be designa...   \n",
       "3                                              <Blank>   \n",
       "4                                              <Blank>   \n",
       "..                                                 ...   \n",
       "992                                            <Blank>   \n",
       "993                                            <Blank>   \n",
       "994                                            <Blank>   \n",
       "995                                            <Blank>   \n",
       "996                                            <Blank>   \n",
       "\n",
       "            Examples of Job Classified Under this Code  \\\n",
       "0    •  President (government)\\n•  Attorney general...   \n",
       "1    •  Director-general\\n•  High commissioner (gov...   \n",
       "2    •  Chairman (statutory board)\\n•  Chief execut...   \n",
       "3     •  Administrator of political party organisation   \n",
       "4    •  Administrator of business association\\n•  A...   \n",
       "..                                                 ...   \n",
       "992                                            <Blank>   \n",
       "993                          •  Newspaper delivery man   \n",
       "994  •  Parking meter reader\\n•  Coin machine colle...   \n",
       "995                           •  Labourer\\n•  Handyman   \n",
       "996                           •  Food delivery on foot   \n",
       "\n",
       "                  Examples of Job Classified Elsewhere 4D SSOC  \\\n",
       "0                                              <Blank>    1111   \n",
       "1            •  Commissioned police officer, see 33551    1112   \n",
       "2    •  Chief executive (company), see 11201\\n•  Ex...    1112   \n",
       "3                                              <Blank>    1114   \n",
       "4                                              <Blank>    1115   \n",
       "..                                                 ...     ...   \n",
       "992  •  Hotel front office agent, see 42242\\n•  Apa...    9627   \n",
       "993                                            <Blank>    9629   \n",
       "994                                            <Blank>    9629   \n",
       "995                                            <Blank>    9629   \n",
       "996                                            <Blank>    9629   \n",
       "\n",
       "                                                 Tasks  \\\n",
       "0    - presiding over or participating in the proce...   \n",
       "1    - advising government and legislators on polic...   \n",
       "2    - advising government and legislators on polic...   \n",
       "3    - determining and formulating the policies, ru...   \n",
       "4    - determining and formulating the policies, ru...   \n",
       "..                                                 ...   \n",
       "992  - co-ordinating and carrying out customers' re...   \n",
       "993  - handing out leaflets and free newspapers at ...   \n",
       "994  - handing out leaflets and free newspapers at ...   \n",
       "995  - handing out leaflets and free newspapers at ...   \n",
       "996  - handing out leaflets and free newspapers at ...   \n",
       "\n",
       "                                           Description  \n",
       "0    Legislator determines, formulates and directs ...  \n",
       "1    Senior government official plans, organises an...  \n",
       "2    Senior statutory board official plans, organis...  \n",
       "3    Senior official of political party organisatio...  \n",
       "4    Senior official of employers', workers' and ot...  \n",
       "..                                                 ...  \n",
       "992  Concierge (hotel) serves as the point of conta...  \n",
       "993  Leaflet and newspaper distributor/deliverer ha...  \n",
       "994  Meter reader/Vending-machine collector reads e...  \n",
       "995  Odd job person performs tasks of a simple and ...  \n",
       "996  This group includes elementary workers not els...  \n",
       "\n",
       "[997 rows x 10 columns]"
      ]
     },
     "execution_count": 16,
     "metadata": {},
     "output_type": "execute_result"
    }
   ],
   "source": [
    "SSOC_Final"
   ]
  },
  {
   "cell_type": "code",
   "execution_count": 4,
   "id": "1df53522-b74d-4df2-ba92-f9498d628ee1",
   "metadata": {},
   "outputs": [],
   "source": [
    "import spacy\n",
    "from spacy.language import Language"
   ]
  },
  {
   "cell_type": "code",
   "execution_count": 5,
   "id": "6fea64b6-cd4e-4e1f-98a0-467d96c41501",
   "metadata": {},
   "outputs": [],
   "source": [
    "nlp = spacy.load('en_core_web_lg', disable = ['tagger', 'parser', 'ner', 'lemmatizer'])"
   ]
  },
  {
   "cell_type": "code",
   "execution_count": 6,
   "id": "359ac413-f153-4ec5-815f-a0ca2bea8576",
   "metadata": {},
   "outputs": [
    {
     "data": {
      "text/plain": [
       "<function __main__.additional_preprocessing(doc)>"
      ]
     },
     "execution_count": 6,
     "metadata": {},
     "output_type": "execute_result"
    }
   ],
   "source": [
    "stopwords = nlp.Defaults.stop_words\n",
    "\n",
    "@Language.component(\"additional_preprocessing\")\n",
    "def additional_preprocessing(doc):\n",
    "    lemma_list = [tok for tok in doc\n",
    "                  if tok.is_alpha and tok.text.lower() not in stopwords] \n",
    "    return lemma_list\n",
    "\n",
    "nlp.add_pipe('additional_preprocessing', last = True)"
   ]
  },
  {
   "cell_type": "code",
   "execution_count": 7,
   "id": "dd31866b-79e4-4de1-b5a2-bc43018e2df0",
   "metadata": {},
   "outputs": [],
   "source": [
    "job_desc = list(nlp.pipe(data['Description']))"
   ]
  },
  {
   "cell_type": "code",
   "execution_count": 8,
   "id": "767a455c-c3eb-499b-92e9-6b24fe9c3d3e",
   "metadata": {},
   "outputs": [
    {
     "name": "stdout",
     "output_type": "stream",
     "text": [
      "Job description 900/997...\r"
     ]
    }
   ],
   "source": [
    "job_vecs = []\n",
    "for i, desc in enumerate(job_desc):\n",
    "    if i % 100 == 0:\n",
    "        print(f'Job description {i}/{len(job_desc)}...\\r', end = '')\n",
    "    if len(desc) == 0:\n",
    "        job_vecs.append(np.array([0]*300))\n",
    "    else:\n",
    "        job_vecs.append(np.mean([token.vector for token in desc], axis = 0))"
   ]
  },
  {
   "cell_type": "code",
   "execution_count": 9,
   "id": "7a597617-bb21-450b-9d54-0eb550bdcd82",
   "metadata": {},
   "outputs": [],
   "source": [
    "import umap"
   ]
  },
  {
   "cell_type": "code",
   "execution_count": 12,
   "id": "225dc164-e7e1-48ff-8ef5-6b00c386573c",
   "metadata": {},
   "outputs": [],
   "source": [
    "reducer = umap.UMAP()"
   ]
  },
  {
   "cell_type": "code",
   "execution_count": 13,
   "id": "a1606c55-d16d-4ca4-a6c4-5eb8855f5328",
   "metadata": {},
   "outputs": [],
   "source": [
    "job_vecs_umap = reducer.fit_transform(job_vecs)"
   ]
  },
  {
   "cell_type": "code",
   "execution_count": 14,
   "id": "cd2ccc1c-e271-4efa-844c-c2997b7ebcd4",
   "metadata": {},
   "outputs": [
    {
     "data": {
      "text/plain": [
       "(997, 2)"
      ]
     },
     "execution_count": 14,
     "metadata": {},
     "output_type": "execute_result"
    }
   ],
   "source": [
    "job_vecs_umap.shape"
   ]
  },
  {
   "cell_type": "code",
   "execution_count": 17,
   "id": "89b5fd3d-7917-41eb-8f43-d68472131f3b",
   "metadata": {},
   "outputs": [
    {
     "name": "stderr",
     "output_type": "stream",
     "text": [
      "C:\\Users\\shaun\\AppData\\Local\\Temp/ipykernel_4312/1313242450.py:1: SettingWithCopyWarning: \n",
      "A value is trying to be set on a copy of a slice from a DataFrame.\n",
      "Try using .loc[row_indexer,col_indexer] = value instead\n",
      "\n",
      "See the caveats in the documentation: https://pandas.pydata.org/pandas-docs/stable/user_guide/indexing.html#returning-a-view-versus-a-copy\n",
      "  data['SSOC 2020 Title'] = SSOC_Final['SSOC 2020 Title']\n",
      "C:\\Users\\shaun\\AppData\\Local\\Temp/ipykernel_4312/1313242450.py:2: SettingWithCopyWarning: \n",
      "A value is trying to be set on a copy of a slice from a DataFrame.\n",
      "Try using .loc[row_indexer,col_indexer] = value instead\n",
      "\n",
      "See the caveats in the documentation: https://pandas.pydata.org/pandas-docs/stable/user_guide/indexing.html#returning-a-view-versus-a-copy\n",
      "  data['x'] = job_vecs_umap[:, 0]\n",
      "C:\\Users\\shaun\\AppData\\Local\\Temp/ipykernel_4312/1313242450.py:3: SettingWithCopyWarning: \n",
      "A value is trying to be set on a copy of a slice from a DataFrame.\n",
      "Try using .loc[row_indexer,col_indexer] = value instead\n",
      "\n",
      "See the caveats in the documentation: https://pandas.pydata.org/pandas-docs/stable/user_guide/indexing.html#returning-a-view-versus-a-copy\n",
      "  data['y'] = job_vecs_umap[:, 1]\n"
     ]
    }
   ],
   "source": [
    "data['SSOC 2020 Title'] = SSOC_Final['SSOC 2020 Title']\n",
    "data['x'] = job_vecs_umap[:, 0]\n",
    "data['y'] = job_vecs_umap[:, 1]"
   ]
  },
  {
   "cell_type": "code",
   "execution_count": 19,
   "id": "c896e0af-01fd-4667-b06d-6a03debc9054",
   "metadata": {},
   "outputs": [],
   "source": [
    "data.to_csv('../Data/Processed/SSOC_2020_UMAP.csv', index = False)"
   ]
  },
  {
   "cell_type": "code",
   "execution_count": 20,
   "id": "f09a517d-70b9-4d4d-a3f6-2b078eeec554",
   "metadata": {},
   "outputs": [
    {
     "data": {
      "text/html": [
       "<div>\n",
       "<style scoped>\n",
       "    .dataframe tbody tr th:only-of-type {\n",
       "        vertical-align: middle;\n",
       "    }\n",
       "\n",
       "    .dataframe tbody tr th {\n",
       "        vertical-align: top;\n",
       "    }\n",
       "\n",
       "    .dataframe thead th {\n",
       "        text-align: right;\n",
       "    }\n",
       "</style>\n",
       "<table border=\"1\" class=\"dataframe\">\n",
       "  <thead>\n",
       "    <tr style=\"text-align: right;\">\n",
       "      <th></th>\n",
       "      <th>SSOC 2020</th>\n",
       "      <th>Description</th>\n",
       "      <th>SSOC 2020 Title</th>\n",
       "      <th>x</th>\n",
       "      <th>y</th>\n",
       "    </tr>\n",
       "  </thead>\n",
       "  <tbody>\n",
       "    <tr>\n",
       "      <th>0</th>\n",
       "      <td>11110</td>\n",
       "      <td>Legislator determines, formulates and directs ...</td>\n",
       "      <td>Legislator</td>\n",
       "      <td>2.668436</td>\n",
       "      <td>2.965331</td>\n",
       "    </tr>\n",
       "    <tr>\n",
       "      <th>1</th>\n",
       "      <td>11121</td>\n",
       "      <td>Senior government official plans, organises an...</td>\n",
       "      <td>Senior government official</td>\n",
       "      <td>2.754100</td>\n",
       "      <td>2.935222</td>\n",
       "    </tr>\n",
       "    <tr>\n",
       "      <th>2</th>\n",
       "      <td>11122</td>\n",
       "      <td>Senior statutory board official plans, organis...</td>\n",
       "      <td>Senior statutory board official</td>\n",
       "      <td>2.775443</td>\n",
       "      <td>2.977211</td>\n",
       "    </tr>\n",
       "    <tr>\n",
       "      <th>3</th>\n",
       "      <td>11140</td>\n",
       "      <td>Senior official of political party organisatio...</td>\n",
       "      <td>Senior official of political party organisation</td>\n",
       "      <td>2.796750</td>\n",
       "      <td>2.969191</td>\n",
       "    </tr>\n",
       "    <tr>\n",
       "      <th>4</th>\n",
       "      <td>11150</td>\n",
       "      <td>Senior official of employers', workers' and ot...</td>\n",
       "      <td>Senior official of employers', workers' and ot...</td>\n",
       "      <td>2.850779</td>\n",
       "      <td>3.035420</td>\n",
       "    </tr>\n",
       "    <tr>\n",
       "      <th>...</th>\n",
       "      <td>...</td>\n",
       "      <td>...</td>\n",
       "      <td>...</td>\n",
       "      <td>...</td>\n",
       "      <td>...</td>\n",
       "    </tr>\n",
       "    <tr>\n",
       "      <th>992</th>\n",
       "      <td>96272</td>\n",
       "      <td>Concierge (hotel) serves as the point of conta...</td>\n",
       "      <td>Concierge (hotel)</td>\n",
       "      <td>-0.668444</td>\n",
       "      <td>8.182647</td>\n",
       "    </tr>\n",
       "    <tr>\n",
       "      <th>993</th>\n",
       "      <td>96291</td>\n",
       "      <td>Leaflet and newspaper distributor/deliverer ha...</td>\n",
       "      <td>Leaflet and newspaper distributor/deliverer</td>\n",
       "      <td>-2.004738</td>\n",
       "      <td>9.974261</td>\n",
       "    </tr>\n",
       "    <tr>\n",
       "      <th>994</th>\n",
       "      <td>96292</td>\n",
       "      <td>Meter reader/Vending-machine collector reads e...</td>\n",
       "      <td>Meter reader/Vending-machine collector</td>\n",
       "      <td>-2.003415</td>\n",
       "      <td>10.021562</td>\n",
       "    </tr>\n",
       "    <tr>\n",
       "      <th>995</th>\n",
       "      <td>96293</td>\n",
       "      <td>Odd job person performs tasks of a simple and ...</td>\n",
       "      <td>Odd job person</td>\n",
       "      <td>-2.053076</td>\n",
       "      <td>9.994143</td>\n",
       "    </tr>\n",
       "    <tr>\n",
       "      <th>996</th>\n",
       "      <td>96299</td>\n",
       "      <td>This group includes elementary workers not els...</td>\n",
       "      <td>Other elementary workers n.e.c.</td>\n",
       "      <td>-2.010134</td>\n",
       "      <td>9.950836</td>\n",
       "    </tr>\n",
       "  </tbody>\n",
       "</table>\n",
       "<p>997 rows × 5 columns</p>\n",
       "</div>"
      ],
      "text/plain": [
       "    SSOC 2020                                        Description  \\\n",
       "0       11110  Legislator determines, formulates and directs ...   \n",
       "1       11121  Senior government official plans, organises an...   \n",
       "2       11122  Senior statutory board official plans, organis...   \n",
       "3       11140  Senior official of political party organisatio...   \n",
       "4       11150  Senior official of employers', workers' and ot...   \n",
       "..        ...                                                ...   \n",
       "992     96272  Concierge (hotel) serves as the point of conta...   \n",
       "993     96291  Leaflet and newspaper distributor/deliverer ha...   \n",
       "994     96292  Meter reader/Vending-machine collector reads e...   \n",
       "995     96293  Odd job person performs tasks of a simple and ...   \n",
       "996     96299  This group includes elementary workers not els...   \n",
       "\n",
       "                                       SSOC 2020 Title         x          y  \n",
       "0                                           Legislator  2.668436   2.965331  \n",
       "1                           Senior government official  2.754100   2.935222  \n",
       "2                      Senior statutory board official  2.775443   2.977211  \n",
       "3      Senior official of political party organisation  2.796750   2.969191  \n",
       "4    Senior official of employers', workers' and ot...  2.850779   3.035420  \n",
       "..                                                 ...       ...        ...  \n",
       "992                                  Concierge (hotel) -0.668444   8.182647  \n",
       "993        Leaflet and newspaper distributor/deliverer -2.004738   9.974261  \n",
       "994             Meter reader/Vending-machine collector -2.003415  10.021562  \n",
       "995                                     Odd job person -2.053076   9.994143  \n",
       "996                    Other elementary workers n.e.c. -2.010134   9.950836  \n",
       "\n",
       "[997 rows x 5 columns]"
      ]
     },
     "execution_count": 20,
     "metadata": {},
     "output_type": "execute_result"
    }
   ],
   "source": [
    "data"
   ]
  }
 ],
 "metadata": {
  "kernelspec": {
   "display_name": "Python 3 (ipykernel)",
   "language": "python",
   "name": "python3"
  },
  "language_info": {
   "codemirror_mode": {
    "name": "ipython",
    "version": 3
   },
   "file_extension": ".py",
   "mimetype": "text/x-python",
   "name": "python",
   "nbconvert_exporter": "python",
   "pygments_lexer": "ipython3",
   "version": "3.9.5"
  }
 },
 "nbformat": 4,
 "nbformat_minor": 5
}
