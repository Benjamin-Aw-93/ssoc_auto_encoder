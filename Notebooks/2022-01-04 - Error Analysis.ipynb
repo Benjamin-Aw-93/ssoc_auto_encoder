{
 "cells": [
  {
   "cell_type": "markdown",
   "id": "3272bc44-5fe4-45f6-8bbb-f30b06404ead",
   "metadata": {},
   "source": [
    "## Error Analysis\n",
    "\n",
    "**Author:** Shaun Khoo  \n",
    "**Date:** 4 Jan 2022  \n",
    "**Context:** Model is performing decently, but need to identify where the model is struggling and see what we can do to improve performance  \n",
    "**Objective:** Identify where the model is doing worse in, hypothesize why, and think of what we can do to improve this     "
   ]
  },
  {
   "cell_type": "markdown",
   "id": "f493921f-c4c3-4759-87e4-1a8e92d62d84",
   "metadata": {},
   "source": [
    "#### A) Importing libaries and data"
   ]
  },
  {
   "cell_type": "code",
   "execution_count": 114,
   "id": "72070588-1ee1-4d0a-b4c2-766764a41520",
   "metadata": {},
   "outputs": [],
   "source": [
    "import pandas as pd\n",
    "import numpy as np\n",
    "import pickle\n",
    "import matplotlib.pyplot as plt\n",
    "import seaborn as sns\n",
    "import json"
   ]
  },
  {
   "cell_type": "code",
   "execution_count": 3,
   "id": "75820f2c-bbc3-4de9-8c46-ff03e870e1f1",
   "metadata": {},
   "outputs": [],
   "source": [
    "import os\n",
    "os.chdir('..')"
   ]
  },
  {
   "cell_type": "code",
   "execution_count": 160,
   "id": "56e1d378-3fd5-42ca-b40c-94e931dd82ca",
   "metadata": {},
   "outputs": [],
   "source": [
    "test = pd.read_csv('Data/Train/Test.csv')\n",
    "test['Predicted_SSOC_2020'] = test['Predicted_SSOC_2020'].astype('str')\n",
    "with open('all_predictions_v2pt2_34ep.pickle', 'rb') as handle:\n",
    "    test_predictions = pickle.load(handle)"
   ]
  },
  {
   "cell_type": "code",
   "execution_count": 217,
   "id": "dcfb8476-daf1-4f55-a83c-aae5a7ec6f63",
   "metadata": {},
   "outputs": [],
   "source": [
    "test_MRSD = pd.read_csv('Data/Test_MRSD.csv')"
   ]
  },
  {
   "cell_type": "markdown",
   "id": "b06ddbbd-25e9-46ed-be64-5c216387fbea",
   "metadata": {},
   "source": [
    "#### B) Processing the predictions data"
   ]
  },
  {
   "cell_type": "markdown",
   "id": "eba556a2-3414-4806-b579-39c0231a540a",
   "metadata": {},
   "source": [
    "Here we convert the predictions into a Pandas dataframe."
   ]
  },
  {
   "cell_type": "code",
   "execution_count": 161,
   "id": "27de10fd-3a2c-4dad-9147-3f81f79ac480",
   "metadata": {},
   "outputs": [],
   "source": [
    "df_output = []\n",
    "\n",
    "for test_prediction in test_predictions:\n",
    "    \n",
    "    row_output = {}\n",
    "    \n",
    "    row_output['SSOC_4D_Top_Pred'] = test_prediction['SSOC_4D']['predicted_ssoc'][0]\n",
    "    row_output['SSOC_4D_Top_5_Preds'] = ','.join(test_prediction['SSOC_4D']['predicted_ssoc'])\n",
    "    row_output['SSOC_4D_Top_5_Preds_Correct'] = test_prediction['SSOC_4D']['accurate_prediction']\n",
    "\n",
    "    row_output['SSOC_5D_Top_Pred'] = test_prediction['SSOC_5D']['predicted_ssoc'][0]\n",
    "    row_output['SSOC_5D_Top_10_Preds'] = ','.join(test_prediction['SSOC_5D']['predicted_ssoc'])\n",
    "    row_output['SSOC_5D_Top_10_Preds_Proba'] = ','.join([str(prob) for prob in test_prediction['SSOC_5D']['predicted_proba']])\n",
    "    row_output['SSOC_5D_Top_10_Preds_Correct'] = test_prediction['SSOC_5D']['accurate_prediction']\n",
    "\n",
    "    df_output.append(row_output)"
   ]
  },
  {
   "cell_type": "markdown",
   "id": "70e0ccb7-0584-430b-afd1-8356e258b0cb",
   "metadata": {},
   "source": [
    "Concatenate the dataframe together and add additional fields for error analysis"
   ]
  },
  {
   "cell_type": "code",
   "execution_count": 216,
   "id": "ebfc3d37-1fd0-49c1-8dd2-aba77ed22142",
   "metadata": {},
   "outputs": [],
   "source": [
    "test_enhanced = pd.concat([test, pd.DataFrame(df_output)], axis = 1)\n",
    "test_enhanced['SSOC_4D_Top_Pred_Correct'] = test_enhanced['Predicted_SSOC_2020'].str.slice(0, 4) == test_enhanced['SSOC_4D_Top_Pred']\n",
    "test_enhanced['SSOC_5D_Top_Pred_Correct'] = test_enhanced['Predicted_SSOC_2020'] == test_enhanced['SSOC_5D_Top_Pred']\n",
    "test_enhanced['SSOC_5D_Top_5_Preds_Correct'] = [ssoc in preds.split(',')[0:5] for ssoc, preds in zip(test_enhanced['Predicted_SSOC_2020'], test_enhanced['SSOC_5D_Top_10_Preds'])]"
   ]
  },
  {
   "cell_type": "code",
   "execution_count": 219,
   "id": "241d6a61-e603-4a13-a1d2-30e2a47ec4cb",
   "metadata": {},
   "outputs": [],
   "source": [
    "test_MRSD['model'] = 'mrsd'\n",
    "test_enhanced['model'] = 'colab'"
   ]
  },
  {
   "cell_type": "code",
   "execution_count": 221,
   "id": "01e5ccb8-cd43-48c7-940f-afa7e9c92459",
   "metadata": {},
   "outputs": [],
   "source": [
    "test_combined = pd.concat([test_enhanced, test_MRSD], axis = 0, ignore_index = True)"
   ]
  },
  {
   "cell_type": "code",
   "execution_count": 224,
   "id": "7f961abe-fe59-4abf-91bb-59f83857febc",
   "metadata": {},
   "outputs": [],
   "source": [
    "test_combined.drop(['SSOC_4D_Top_Pred', 'SSOC_4D_Top_5_Preds', 'SSOC_4D_Top_5_Preds_Correct', 'SSOC_5D_Top_10_Preds_Proba', 'SSOC_4D_Top_Pred_Correct'], axis = 1, inplace = True)"
   ]
  },
  {
   "cell_type": "code",
   "execution_count": 234,
   "id": "b796152e-96bf-4c69-a4fc-53db03025001",
   "metadata": {},
   "outputs": [],
   "source": [
    "test_combined.to_csv('Data/Test_Combined.csv', index = False)"
   ]
  },
  {
   "cell_type": "code",
   "execution_count": 245,
   "id": "4f2fd86a-c615-4b50-9d77-e42ff4bd6ba5",
   "metadata": {},
   "outputs": [],
   "source": [
    "test_enhanced['SSOC_1D'] = test_enhanced['Predicted_SSOC_2020'].str.slice(0, 1)\n",
    "test_enhanced['SSOC_2D'] = test_enhanced['Predicted_SSOC_2020'].str.slice(0, 2)"
   ]
  },
  {
   "cell_type": "markdown",
   "id": "96268fa8-43d7-479b-a38c-dca8321444b3",
   "metadata": {},
   "source": [
    "Add the SSOC title"
   ]
  },
  {
   "cell_type": "code",
   "execution_count": 227,
   "id": "add1614f-a0ab-4ea6-8847-75c342da9d8f",
   "metadata": {},
   "outputs": [],
   "source": [
    "with open('Deployments/lambda/dummy-api/ssoc_desc.json') as json_file:\n",
    "    ssoc_desc = json.load(json_file)"
   ]
  },
  {
   "cell_type": "code",
   "execution_count": 232,
   "id": "51bbc26d-88ea-4bdb-84b2-007587be62a1",
   "metadata": {},
   "outputs": [],
   "source": [
    "test_combined['SSOC_Title'] = [ssoc_desc[ssoc]['title'] for ssoc in test_combined['Predicted_SSOC_2020'].astype('str')]\n",
    "test_combined['SSOC_Description'] = [ssoc_desc[ssoc]['description'] for ssoc in test_combined['Predicted_SSOC_2020'].astype('str')]"
   ]
  },
  {
   "cell_type": "markdown",
   "id": "da858f6b-af2f-4091-a9c3-e1797c7a8dc7",
   "metadata": {},
   "source": [
    "#### C) Conducting error analysis"
   ]
  },
  {
   "cell_type": "markdown",
   "id": "bbe8459e-9a87-44e1-b2d8-f14971a63f02",
   "metadata": {},
   "source": [
    "Check what the top-1 accuracy is for 5D SSOC"
   ]
  },
  {
   "cell_type": "code",
   "execution_count": 165,
   "id": "79e0f7a7-9abb-432e-8078-15d73f9ef197",
   "metadata": {},
   "outputs": [
    {
     "data": {
      "text/plain": [
       "True     0.587889\n",
       "False    0.412111\n",
       "Name: SSOC_5D_Top_Pred_Correct, dtype: float64"
      ]
     },
     "execution_count": 165,
     "metadata": {},
     "output_type": "execute_result"
    }
   ],
   "source": [
    "test_enhanced['SSOC_5D_Top_Pred_Correct'].value_counts(normalize=True)"
   ]
  },
  {
   "cell_type": "markdown",
   "id": "58413afa-94cb-4223-8607-b7f2c2c70a93",
   "metadata": {},
   "source": [
    "Check what the top-5 accuracy is for 5D SSOC"
   ]
  },
  {
   "cell_type": "code",
   "execution_count": 166,
   "id": "bf801fb0-4041-424b-8808-67f8e22ec742",
   "metadata": {},
   "outputs": [
    {
     "data": {
      "text/plain": [
       "True     0.893772\n",
       "False    0.106228\n",
       "Name: SSOC_5D_Top_5_Preds_Correct, dtype: float64"
      ]
     },
     "execution_count": 166,
     "metadata": {},
     "output_type": "execute_result"
    }
   ],
   "source": [
    "test_enhanced['SSOC_5D_Top_5_Preds_Correct'].value_counts(normalize=True)"
   ]
  },
  {
   "cell_type": "markdown",
   "id": "ea9853c8-2f1c-4700-b3d1-a3d04230a14f",
   "metadata": {},
   "source": [
    "Check what the top-10 accuracy is for 5D SSOC"
   ]
  },
  {
   "cell_type": "code",
   "execution_count": 167,
   "id": "8a8374b9-5a81-4333-964e-96c9284831c0",
   "metadata": {},
   "outputs": [
    {
     "data": {
      "text/plain": [
       "True     0.942215\n",
       "False    0.057785\n",
       "Name: SSOC_5D_Top_10_Preds_Correct, dtype: float64"
      ]
     },
     "execution_count": 167,
     "metadata": {},
     "output_type": "execute_result"
    }
   ],
   "source": [
    "test_enhanced['SSOC_5D_Top_10_Preds_Correct'].value_counts(normalize=True)"
   ]
  },
  {
   "cell_type": "markdown",
   "id": "dd3cf34a-5de8-47c4-ac4f-a4924e17f517",
   "metadata": {},
   "source": [
    "Plot a chart of number of samples vs accuracy"
   ]
  },
  {
   "cell_type": "markdown",
   "id": "040a587c-09fa-49ba-a059-bd20e65594d7",
   "metadata": {},
   "source": [
    "Plotting chart for number of samples vs top-10 accuracy"
   ]
  },
  {
   "cell_type": "code",
   "execution_count": 250,
   "id": "17396a16-9707-43a0-b1e9-0a09962c2fa8",
   "metadata": {},
   "outputs": [
    {
     "data": {
      "image/png": "[encoded data removed]",
      "text/plain": [
       "<Figure size 576x360 with 1 Axes>"
      ]
     },
     "metadata": {},
     "output_type": "display_data"
    }
   ],
   "source": [
    "# Create a dataframe of accuracy and counts at the 5D level\n",
    "SSOC_5D_error_analysis = test_enhanced.groupby('Predicted_SSOC_2020').agg(\n",
    "    SSOC_5D_Correct_5DLevel = pd.NamedAgg(column = \"SSOC_5D_Top_10_Preds_Correct\", aggfunc = \"sum\"),\n",
    "    SSOC_Title = pd.NamedAgg(column = \"SSOC_Title\", aggfunc = \"min\"),\n",
    "    SSOC_1D = pd.NamedAgg(column = \"SSOC_1D\", aggfunc = \"min\"),\n",
    "    Count = pd.NamedAgg(column = \"SSOC_5D_Top_Pred_Correct\", aggfunc = \"count\")\n",
    ").reset_index()\n",
    "SSOC_5D_error_analysis['Accuracy'] = round(SSOC_5D_error_analysis['SSOC_5D_Correct_5DLevel']/SSOC_5D_error_analysis['Count']*100, 1)\n",
    "\n",
    "plt.figure(figsize = (8, 5))\n",
    "plt.title('No. of samples vs top-10 accuracy for 5D SSOC')\n",
    "plt.xlabel('Number of samples (5D SSOC)')\n",
    "plt.ylabel('Top-10 Accuracy (5D SSOC)')\n",
    "sns.scatterplot(x = 'Count',\n",
    "                y = 'Accuracy',\n",
    "                s = 80,\n",
    "                data = SSOC_5D_error_analysis)\n",
    "plt.savefig('Notebooks/Plots/NumSamples_Top10Accuracy_5DSSOC.png', dpi = 300)"
   ]
  },
  {
   "cell_type": "markdown",
   "id": "97c31068-98d8-4f31-9d66-6d6cff3d8b3c",
   "metadata": {},
   "source": [
    "We can see that model only struggles when number of samples < 20, and only does well when number of samples > 50. Data is a big constraint for this model."
   ]
  },
  {
   "cell_type": "code",
   "execution_count": 213,
   "id": "b1a88257-5c07-43fc-b8d3-f496e8b73d7e",
   "metadata": {},
   "outputs": [
    {
     "data": {
      "text/plain": [
       "58.088235294117645"
      ]
     },
     "execution_count": 213,
     "metadata": {},
     "output_type": "execute_result"
    }
   ],
   "source": [
    "np.mean(SSOC_5D_error_analysis[SSOC_5D_error_analysis['Count'] == 1]['Accuracy'])"
   ]
  },
  {
   "cell_type": "markdown",
   "id": "d947bb4d-ebc8-4689-be43-18e3aca7610f",
   "metadata": {},
   "source": [
    "Avg top-10 accuracy for SSOCs with only 1 observation is 58%."
   ]
  },
  {
   "cell_type": "code",
   "execution_count": 170,
   "id": "c7c79c35-a98b-43f4-9ec7-33be682649ce",
   "metadata": {},
   "outputs": [
    {
     "data": {
      "text/html": [
       "<div>\n",
       "<style scoped>\n",
       "    .dataframe tbody tr th:only-of-type {\n",
       "        vertical-align: middle;\n",
       "    }\n",
       "\n",
       "    .dataframe tbody tr th {\n",
       "        vertical-align: top;\n",
       "    }\n",
       "\n",
       "    .dataframe thead th {\n",
       "        text-align: right;\n",
       "    }\n",
       "</style>\n",
       "<table border=\"1\" class=\"dataframe\">\n",
       "  <thead>\n",
       "    <tr style=\"text-align: right;\">\n",
       "      <th></th>\n",
       "      <th>Predicted_SSOC_2020</th>\n",
       "      <th>SSOC_5D_Correct_5DLevel</th>\n",
       "      <th>SSOC_Title</th>\n",
       "      <th>SSOC_1D</th>\n",
       "      <th>Count</th>\n",
       "      <th>Accuracy</th>\n",
       "    </tr>\n",
       "  </thead>\n",
       "  <tbody>\n",
       "    <tr>\n",
       "      <th>348</th>\n",
       "      <td>82139</td>\n",
       "      <td>0</td>\n",
       "      <td>Other quality checkers and testers</td>\n",
       "      <td>8</td>\n",
       "      <td>1</td>\n",
       "      <td>0.0</td>\n",
       "    </tr>\n",
       "    <tr>\n",
       "      <th>361</th>\n",
       "      <td>83423</td>\n",
       "      <td>0</td>\n",
       "      <td>Pile driver/Drilling machine operator</td>\n",
       "      <td>8</td>\n",
       "      <td>1</td>\n",
       "      <td>0.0</td>\n",
       "    </tr>\n",
       "    <tr>\n",
       "      <th>376</th>\n",
       "      <td>93337</td>\n",
       "      <td>0</td>\n",
       "      <td>Lashing worker</td>\n",
       "      <td>9</td>\n",
       "      <td>1</td>\n",
       "      <td>0.0</td>\n",
       "    </tr>\n",
       "    <tr>\n",
       "      <th>378</th>\n",
       "      <td>94102</td>\n",
       "      <td>0</td>\n",
       "      <td>Food/Drink stall assistant</td>\n",
       "      <td>9</td>\n",
       "      <td>1</td>\n",
       "      <td>0.0</td>\n",
       "    </tr>\n",
       "    <tr>\n",
       "      <th>380</th>\n",
       "      <td>96255</td>\n",
       "      <td>0</td>\n",
       "      <td>Sports and recreational attendant (e.g. golf m...</td>\n",
       "      <td>9</td>\n",
       "      <td>1</td>\n",
       "      <td>0.0</td>\n",
       "    </tr>\n",
       "  </tbody>\n",
       "</table>\n",
       "</div>"
      ],
      "text/plain": [
       "    Predicted_SSOC_2020  SSOC_5D_Correct_5DLevel  \\\n",
       "348               82139                        0   \n",
       "361               83423                        0   \n",
       "376               93337                        0   \n",
       "378               94102                        0   \n",
       "380               96255                        0   \n",
       "\n",
       "                                            SSOC_Title SSOC_1D  Count  \\\n",
       "348                 Other quality checkers and testers       8      1   \n",
       "361              Pile driver/Drilling machine operator       8      1   \n",
       "376                                     Lashing worker       9      1   \n",
       "378                         Food/Drink stall assistant       9      1   \n",
       "380  Sports and recreational attendant (e.g. golf m...       9      1   \n",
       "\n",
       "     Accuracy  \n",
       "348       0.0  \n",
       "361       0.0  \n",
       "376       0.0  \n",
       "378       0.0  \n",
       "380       0.0  "
      ]
     },
     "execution_count": 170,
     "metadata": {},
     "output_type": "execute_result"
    }
   ],
   "source": [
    "SSOC_5D_error_analysis.sort_values(['Count', 'Accuracy'], ascending = False).tail(5)"
   ]
  },
  {
   "cell_type": "markdown",
   "id": "d06641fb-d6c5-485a-9d2a-a7d65bf607b1",
   "metadata": {},
   "source": [
    "Examining top-10 SSOC accuracy by 1D SSOC to understand how different the accuracy is for different 1D SSOCs"
   ]
  },
  {
   "cell_type": "code",
   "execution_count": 190,
   "id": "ec96593c-fa26-4e57-bf04-c0d8c5da7101",
   "metadata": {},
   "outputs": [
    {
     "data": {
      "image/png": "[encoded data removed]",
      "text/plain": [
       "<Figure size 576x360 with 1 Axes>"
      ]
     },
     "metadata": {},
     "output_type": "display_data"
    }
   ],
   "source": [
    "# Create a dataframe of accuracy and counts at the 1D level\n",
    "SSOC_1D_error_analysis = SSOC_5D_error_analysis[(SSOC_5D_error_analysis['Count'] >= 2)].groupby('SSOC_1D').agg(\n",
    "    Accuracy = pd.NamedAgg(column = \"Accuracy\", aggfunc = \"mean\"),\n",
    "    Count = pd.NamedAgg(column = \"Count\", aggfunc = \"sum\")\n",
    ").reset_index()\n",
    "SSOC_1D_error_analysis['Group'] = SSOC_1D_error_analysis['Accuracy'].apply(lambda x: \"Above 80%\" if x >= 90 else \"Below 80%\")\n",
    "\n",
    "\n",
    "plt.figure(figsize = (8, 5))\n",
    "plt.title('Average top-10 accuracy at 1D SSOC level')\n",
    "p = sns.barplot(x = 'SSOC_1D',\n",
    "                y = 'Accuracy',\n",
    "                hue = 'Group',\n",
    "                dodge = False,\n",
    "                #color = '#426cf5',\n",
    "                data = SSOC_1D_error_analysis)\n",
    "p.set(xlabel = '1D SSOC',\n",
    "      label = 'Top-10 Accuracy (5D SSOC)')\n",
    "plt.savefig('Notebooks/Plots/Top10Accuracy_by_1DSSOC.png', dpi = 300)"
   ]
  },
  {
   "cell_type": "markdown",
   "id": "c55579cc-4533-4a2a-b3d2-558a70e0c816",
   "metadata": {},
   "source": [
    "Subset the data to SSOCs beginning with '1' or '2', and do a 2D level analysis instead"
   ]
  },
  {
   "cell_type": "code",
   "execution_count": 214,
   "id": "4e085bc3-602b-45c8-95ab-6c8faece4c18",
   "metadata": {},
   "outputs": [
    {
     "name": "stderr",
     "output_type": "stream",
     "text": [
      "C:\\Users\\shaun\\AppData\\Local\\Temp/ipykernel_20420/2942951117.py:3: SettingWithCopyWarning: \n",
      "A value is trying to be set on a copy of a slice from a DataFrame.\n",
      "Try using .loc[row_indexer,col_indexer] = value instead\n",
      "\n",
      "See the caveats in the documentation: https://pandas.pydata.org/pandas-docs/stable/user_guide/indexing.html#returning-a-view-versus-a-copy\n",
      "  SSOC_5D_error_analysis_12['SSOC_2D'] = SSOC_5D_error_analysis_12['Predicted_SSOC_2020'].str.slice(0, 2)\n"
     ]
    },
    {
     "data": {
      "text/plain": [
       "[Text(0.5, 0, '1D SSOC'), None]"
      ]
     },
     "execution_count": 214,
     "metadata": {},
     "output_type": "execute_result"
    },
    {
     "data": {
      "image/png": "[encoded data removed]",
      "text/plain": [
       "<Figure size 576x360 with 1 Axes>"
      ]
     },
     "metadata": {},
     "output_type": "display_data"
    }
   ],
   "source": [
    "# Create a dataframe of accuracy and counts at the 1D level\n",
    "SSOC_5D_error_analysis_12 = SSOC_5D_error_analysis[SSOC_5D_error_analysis['SSOC_1D'].isin(['1', '2']) & (SSOC_5D_error_analysis['Count'] >= 3)]\n",
    "SSOC_5D_error_analysis_12['SSOC_2D'] = SSOC_5D_error_analysis_12['Predicted_SSOC_2020'].str.slice(0, 2)\n",
    "SSOC_2D_error_analysis = SSOC_5D_error_analysis_12.groupby('SSOC_2D').agg(\n",
    "    Accuracy = pd.NamedAgg(column = \"Accuracy\", aggfunc = \"mean\"),\n",
    "    Count = pd.NamedAgg(column = \"Count\", aggfunc = \"sum\")\n",
    ").reset_index()\n",
    "\n",
    "plt.figure(figsize = (8, 5))\n",
    "plt.title('Average top-10 accuracy at 1D SSOC level')\n",
    "p = sns.barplot(x = 'SSOC_2D',\n",
    "                y = 'Accuracy',\n",
    "                data = SSOC_2D_error_analysis)\n",
    "p.set(xlabel = '1D SSOC',\n",
    "      label = 'Top-10 Accuracy (5D SSOC)')\n",
    "#plt.savefig('Notebooks/Plots/Top10Accuracy_by_1DSSOC.png', dpi = 300)"
   ]
  },
  {
   "cell_type": "markdown",
   "id": "ff546def-8dba-453a-bcde-aba82bb2643c",
   "metadata": {},
   "source": [
    "Examining specific examples"
   ]
  },
  {
   "cell_type": "code",
   "execution_count": 203,
   "id": "79a0c855-a21a-4f23-a0ae-4685ba7a743f",
   "metadata": {},
   "outputs": [
    {
     "data": {
      "text/html": [
       "<div>\n",
       "<style scoped>\n",
       "    .dataframe tbody tr th:only-of-type {\n",
       "        vertical-align: middle;\n",
       "    }\n",
       "\n",
       "    .dataframe tbody tr th {\n",
       "        vertical-align: top;\n",
       "    }\n",
       "\n",
       "    .dataframe thead th {\n",
       "        text-align: right;\n",
       "    }\n",
       "</style>\n",
       "<table border=\"1\" class=\"dataframe\">\n",
       "  <thead>\n",
       "    <tr style=\"text-align: right;\">\n",
       "      <th></th>\n",
       "      <th>MCF_Job_Ad_ID</th>\n",
       "      <th>Predicted_SSOC_2020</th>\n",
       "      <th>title</th>\n",
       "      <th>description</th>\n",
       "      <th>SSOC_4D_Top_Pred</th>\n",
       "      <th>SSOC_4D_Top_5_Preds</th>\n",
       "      <th>SSOC_4D_Top_5_Preds_Correct</th>\n",
       "      <th>SSOC_5D_Top_Pred</th>\n",
       "      <th>SSOC_5D_Top_10_Preds</th>\n",
       "      <th>SSOC_5D_Top_10_Preds_Proba</th>\n",
       "      <th>SSOC_5D_Top_10_Preds_Correct</th>\n",
       "      <th>SSOC_4D_Top_Pred_Correct</th>\n",
       "      <th>SSOC_5D_Top_Pred_Correct</th>\n",
       "      <th>SSOC_5D_Top_5_Preds_Correct</th>\n",
       "      <th>SSOC_1D</th>\n",
       "      <th>SSOC_2D</th>\n",
       "      <th>SSOC_Title</th>\n",
       "    </tr>\n",
       "  </thead>\n",
       "  <tbody>\n",
       "    <tr>\n",
       "      <th>3</th>\n",
       "      <td>MCF-2021-0090664</td>\n",
       "      <td>12133</td>\n",
       "      <td>Compliance Manager [FinTech / Risk Management ...</td>\n",
       "      <td>Manage compliance risk strategies, policies an...</td>\n",
       "      <td>2413</td>\n",
       "      <td>2413,2524,2611,3322,2412</td>\n",
       "      <td>False</td>\n",
       "      <td>26112</td>\n",
       "      <td>26112,24132,26111,34110,13461,24121,24212,1221...</td>\n",
       "      <td>0.27128273,0.14566444,0.09715523,0.08572645,0....</td>\n",
       "      <td>True</td>\n",
       "      <td>False</td>\n",
       "      <td>False</td>\n",
       "      <td>False</td>\n",
       "      <td>1</td>\n",
       "      <td>12</td>\n",
       "      <td>Risk management manager</td>\n",
       "    </tr>\n",
       "    <tr>\n",
       "      <th>9</th>\n",
       "      <td>MCF-2020-0306138</td>\n",
       "      <td>12222</td>\n",
       "      <td>Marketing Manager - Performance &amp; Growth</td>\n",
       "      <td>Own and manage.B2B and B2C marketing campaigns...</td>\n",
       "      <td>1222</td>\n",
       "      <td>1222,3322,2431,1221,2421</td>\n",
       "      <td>True</td>\n",
       "      <td>12222</td>\n",
       "      <td>12222,24314,33221,12212,33223,33225,33224,1221...</td>\n",
       "      <td>0.7081433,0.114039086,0.06353463,0.0360022,0.0...</td>\n",
       "      <td>True</td>\n",
       "      <td>True</td>\n",
       "      <td>True</td>\n",
       "      <td>True</td>\n",
       "      <td>1</td>\n",
       "      <td>12</td>\n",
       "      <td>Marketing manager</td>\n",
       "    </tr>\n",
       "    <tr>\n",
       "      <th>27</th>\n",
       "      <td>MCF-2021-0114497</td>\n",
       "      <td>12112</td>\n",
       "      <td>Finance and Administration Manager</td>\n",
       "      <td>Supporting day-to-day accounting and administr...</td>\n",
       "      <td>2411</td>\n",
       "      <td>2411,4311,3313,1211,2423</td>\n",
       "      <td>True</td>\n",
       "      <td>24111</td>\n",
       "      <td>24111,43112,33131,41101,12112,33132,24112,2423...</td>\n",
       "      <td>0.46214554,0.29564542,0.12191567,0.03631527,0....</td>\n",
       "      <td>True</td>\n",
       "      <td>False</td>\n",
       "      <td>False</td>\n",
       "      <td>True</td>\n",
       "      <td>1</td>\n",
       "      <td>12</td>\n",
       "      <td>Administration manager</td>\n",
       "    </tr>\n",
       "    <tr>\n",
       "      <th>29</th>\n",
       "      <td>MCF-2021-0121462</td>\n",
       "      <td>12212</td>\n",
       "      <td>Business Development Manager (IT/ Software)</td>\n",
       "      <td>Maintaining current client relationships and i...</td>\n",
       "      <td>3322</td>\n",
       "      <td>3322,1221,2421,2511,1330</td>\n",
       "      <td>True</td>\n",
       "      <td>12212</td>\n",
       "      <td>12212,33221,24212,25113,12222,24121,25122,1330...</td>\n",
       "      <td>0.38518387,0.35233167,0.05918822,0.048510034,0...</td>\n",
       "      <td>True</td>\n",
       "      <td>False</td>\n",
       "      <td>True</td>\n",
       "      <td>True</td>\n",
       "      <td>1</td>\n",
       "      <td>12</td>\n",
       "      <td>Business development manager</td>\n",
       "    </tr>\n",
       "    <tr>\n",
       "      <th>44</th>\n",
       "      <td>MCF-2021-0119391</td>\n",
       "      <td>12123</td>\n",
       "      <td>TRAINING MANAGER</td>\n",
       "      <td>TRAINING MANAGER.Job Description.The candidate...</td>\n",
       "      <td>1212</td>\n",
       "      <td>1212,2423,1211,3257,4110</td>\n",
       "      <td>True</td>\n",
       "      <td>12123</td>\n",
       "      <td>12123,12112,24211,24213,13302,24231,24212,1222...</td>\n",
       "      <td>0.31472385,0.2012213,0.087188154,0.08350833,0....</td>\n",
       "      <td>True</td>\n",
       "      <td>True</td>\n",
       "      <td>True</td>\n",
       "      <td>True</td>\n",
       "      <td>1</td>\n",
       "      <td>12</td>\n",
       "      <td>Training manager</td>\n",
       "    </tr>\n",
       "    <tr>\n",
       "      <th>...</th>\n",
       "      <td>...</td>\n",
       "      <td>...</td>\n",
       "      <td>...</td>\n",
       "      <td>...</td>\n",
       "      <td>...</td>\n",
       "      <td>...</td>\n",
       "      <td>...</td>\n",
       "      <td>...</td>\n",
       "      <td>...</td>\n",
       "      <td>...</td>\n",
       "      <td>...</td>\n",
       "      <td>...</td>\n",
       "      <td>...</td>\n",
       "      <td>...</td>\n",
       "      <td>...</td>\n",
       "      <td>...</td>\n",
       "      <td>...</td>\n",
       "    </tr>\n",
       "    <tr>\n",
       "      <th>2841</th>\n",
       "      <td>MCF-2021-0156353</td>\n",
       "      <td>12213</td>\n",
       "      <td>Regional Sales Manager</td>\n",
       "      <td>Provide customers with information regarding p...</td>\n",
       "      <td>3322</td>\n",
       "      <td>3322,2433,1221,4224,1222</td>\n",
       "      <td>True</td>\n",
       "      <td>33221</td>\n",
       "      <td>33221,12212,12222,24121,33222,33223,33224,2433...</td>\n",
       "      <td>0.32514414,0.20839125,0.07215289,0.06144116,0....</td>\n",
       "      <td>True</td>\n",
       "      <td>False</td>\n",
       "      <td>False</td>\n",
       "      <td>False</td>\n",
       "      <td>1</td>\n",
       "      <td>12</td>\n",
       "      <td>Regional sales manager</td>\n",
       "    </tr>\n",
       "    <tr>\n",
       "      <th>2845</th>\n",
       "      <td>MCF-2021-0093651</td>\n",
       "      <td>12222</td>\n",
       "      <td>Director of Marketing</td>\n",
       "      <td>Sign off on creative agencies and selection of...</td>\n",
       "      <td>1222</td>\n",
       "      <td>1222,2432,2431,1221,1439</td>\n",
       "      <td>True</td>\n",
       "      <td>12222</td>\n",
       "      <td>12222,24320,24314,14391,12212,33221,12221,1221...</td>\n",
       "      <td>0.40674883,0.13223468,0.10134425,0.060692318,0...</td>\n",
       "      <td>True</td>\n",
       "      <td>True</td>\n",
       "      <td>True</td>\n",
       "      <td>True</td>\n",
       "      <td>1</td>\n",
       "      <td>12</td>\n",
       "      <td>Marketing manager</td>\n",
       "    </tr>\n",
       "    <tr>\n",
       "      <th>2856</th>\n",
       "      <td>MCF-2021-0243579</td>\n",
       "      <td>12212</td>\n",
       "      <td>SALES / BUSINESS DEVELOPMENT MANAGER / ASSISTA...</td>\n",
       "      <td>Our client, a local MNC in 3PL industry is see...</td>\n",
       "      <td>3322</td>\n",
       "      <td>3322,1221,2433,2423,2511</td>\n",
       "      <td>True</td>\n",
       "      <td>33221</td>\n",
       "      <td>33221,12212,24121,12222,33223,33222,33224,1221...</td>\n",
       "      <td>0.42208922,0.297855,0.06295963,0.049892277,0.0...</td>\n",
       "      <td>True</td>\n",
       "      <td>False</td>\n",
       "      <td>False</td>\n",
       "      <td>True</td>\n",
       "      <td>1</td>\n",
       "      <td>12</td>\n",
       "      <td>Business development manager</td>\n",
       "    </tr>\n",
       "    <tr>\n",
       "      <th>2864</th>\n",
       "      <td>MCF-2021-0051860</td>\n",
       "      <td>12113</td>\n",
       "      <td>Assistant Audit Manager [Central Area/ Up to $...</td>\n",
       "      <td>[Order Number: 2009-56290] [Responsibilities] ...</td>\n",
       "      <td>2411</td>\n",
       "      <td>2411,3313,1211,4311,2515</td>\n",
       "      <td>True</td>\n",
       "      <td>24112</td>\n",
       "      <td>24112,12113,24111,33132,43113,33131,25152,2413...</td>\n",
       "      <td>0.7351886,0.08942342,0.05526494,0.05368801,0.0...</td>\n",
       "      <td>True</td>\n",
       "      <td>False</td>\n",
       "      <td>False</td>\n",
       "      <td>True</td>\n",
       "      <td>1</td>\n",
       "      <td>12</td>\n",
       "      <td>Audit manager</td>\n",
       "    </tr>\n",
       "    <tr>\n",
       "      <th>2885</th>\n",
       "      <td>MCF-2021-0103410</td>\n",
       "      <td>12222</td>\n",
       "      <td>Communications and Marketing Manager</td>\n",
       "      <td>Work with the communications and marketing tea...</td>\n",
       "      <td>2432</td>\n",
       "      <td>2432,1222,2431,1346,1221</td>\n",
       "      <td>True</td>\n",
       "      <td>24320</td>\n",
       "      <td>24320,12222,24314,26413,12212,33221,14391,1346...</td>\n",
       "      <td>0.2930238,0.21185766,0.06892356,0.06020303,0.0...</td>\n",
       "      <td>True</td>\n",
       "      <td>False</td>\n",
       "      <td>False</td>\n",
       "      <td>True</td>\n",
       "      <td>1</td>\n",
       "      <td>12</td>\n",
       "      <td>Marketing manager</td>\n",
       "    </tr>\n",
       "  </tbody>\n",
       "</table>\n",
       "<p>191 rows × 17 columns</p>\n",
       "</div>"
      ],
      "text/plain": [
       "         MCF_Job_Ad_ID Predicted_SSOC_2020  \\\n",
       "3     MCF-2021-0090664               12133   \n",
       "9     MCF-2020-0306138               12222   \n",
       "27    MCF-2021-0114497               12112   \n",
       "29    MCF-2021-0121462               12212   \n",
       "44    MCF-2021-0119391               12123   \n",
       "...                ...                 ...   \n",
       "2841  MCF-2021-0156353               12213   \n",
       "2845  MCF-2021-0093651               12222   \n",
       "2856  MCF-2021-0243579               12212   \n",
       "2864  MCF-2021-0051860               12113   \n",
       "2885  MCF-2021-0103410               12222   \n",
       "\n",
       "                                                  title  \\\n",
       "3     Compliance Manager [FinTech / Risk Management ...   \n",
       "9              Marketing Manager - Performance & Growth   \n",
       "27                   Finance and Administration Manager   \n",
       "29          Business Development Manager (IT/ Software)   \n",
       "44                                     TRAINING MANAGER   \n",
       "...                                                 ...   \n",
       "2841                             Regional Sales Manager   \n",
       "2845                              Director of Marketing   \n",
       "2856  SALES / BUSINESS DEVELOPMENT MANAGER / ASSISTA...   \n",
       "2864  Assistant Audit Manager [Central Area/ Up to $...   \n",
       "2885               Communications and Marketing Manager   \n",
       "\n",
       "                                            description SSOC_4D_Top_Pred  \\\n",
       "3     Manage compliance risk strategies, policies an...             2413   \n",
       "9     Own and manage.B2B and B2C marketing campaigns...             1222   \n",
       "27    Supporting day-to-day accounting and administr...             2411   \n",
       "29    Maintaining current client relationships and i...             3322   \n",
       "44    TRAINING MANAGER.Job Description.The candidate...             1212   \n",
       "...                                                 ...              ...   \n",
       "2841  Provide customers with information regarding p...             3322   \n",
       "2845  Sign off on creative agencies and selection of...             1222   \n",
       "2856  Our client, a local MNC in 3PL industry is see...             3322   \n",
       "2864  [Order Number: 2009-56290] [Responsibilities] ...             2411   \n",
       "2885  Work with the communications and marketing tea...             2432   \n",
       "\n",
       "           SSOC_4D_Top_5_Preds  SSOC_4D_Top_5_Preds_Correct SSOC_5D_Top_Pred  \\\n",
       "3     2413,2524,2611,3322,2412                        False            26112   \n",
       "9     1222,3322,2431,1221,2421                         True            12222   \n",
       "27    2411,4311,3313,1211,2423                         True            24111   \n",
       "29    3322,1221,2421,2511,1330                         True            12212   \n",
       "44    1212,2423,1211,3257,4110                         True            12123   \n",
       "...                        ...                          ...              ...   \n",
       "2841  3322,2433,1221,4224,1222                         True            33221   \n",
       "2845  1222,2432,2431,1221,1439                         True            12222   \n",
       "2856  3322,1221,2433,2423,2511                         True            33221   \n",
       "2864  2411,3313,1211,4311,2515                         True            24112   \n",
       "2885  2432,1222,2431,1346,1221                         True            24320   \n",
       "\n",
       "                                   SSOC_5D_Top_10_Preds  \\\n",
       "3     26112,24132,26111,34110,13461,24121,24212,1221...   \n",
       "9     12222,24314,33221,12212,33223,33225,33224,1221...   \n",
       "27    24111,43112,33131,41101,12112,33132,24112,2423...   \n",
       "29    12212,33221,24212,25113,12222,24121,25122,1330...   \n",
       "44    12123,12112,24211,24213,13302,24231,24212,1222...   \n",
       "...                                                 ...   \n",
       "2841  33221,12212,12222,24121,33222,33223,33224,2433...   \n",
       "2845  12222,24320,24314,14391,12212,33221,12221,1221...   \n",
       "2856  33221,12212,24121,12222,33223,33222,33224,1221...   \n",
       "2864  24112,12113,24111,33132,43113,33131,25152,2413...   \n",
       "2885  24320,12222,24314,26413,12212,33221,14391,1346...   \n",
       "\n",
       "                             SSOC_5D_Top_10_Preds_Proba  \\\n",
       "3     0.27128273,0.14566444,0.09715523,0.08572645,0....   \n",
       "9     0.7081433,0.114039086,0.06353463,0.0360022,0.0...   \n",
       "27    0.46214554,0.29564542,0.12191567,0.03631527,0....   \n",
       "29    0.38518387,0.35233167,0.05918822,0.048510034,0...   \n",
       "44    0.31472385,0.2012213,0.087188154,0.08350833,0....   \n",
       "...                                                 ...   \n",
       "2841  0.32514414,0.20839125,0.07215289,0.06144116,0....   \n",
       "2845  0.40674883,0.13223468,0.10134425,0.060692318,0...   \n",
       "2856  0.42208922,0.297855,0.06295963,0.049892277,0.0...   \n",
       "2864  0.7351886,0.08942342,0.05526494,0.05368801,0.0...   \n",
       "2885  0.2930238,0.21185766,0.06892356,0.06020303,0.0...   \n",
       "\n",
       "      SSOC_5D_Top_10_Preds_Correct  SSOC_4D_Top_Pred_Correct  \\\n",
       "3                             True                     False   \n",
       "9                             True                      True   \n",
       "27                            True                     False   \n",
       "29                            True                     False   \n",
       "44                            True                      True   \n",
       "...                            ...                       ...   \n",
       "2841                          True                     False   \n",
       "2845                          True                      True   \n",
       "2856                          True                     False   \n",
       "2864                          True                     False   \n",
       "2885                          True                     False   \n",
       "\n",
       "      SSOC_5D_Top_Pred_Correct  SSOC_5D_Top_5_Preds_Correct SSOC_1D SSOC_2D  \\\n",
       "3                        False                        False       1      12   \n",
       "9                         True                         True       1      12   \n",
       "27                       False                         True       1      12   \n",
       "29                        True                         True       1      12   \n",
       "44                        True                         True       1      12   \n",
       "...                        ...                          ...     ...     ...   \n",
       "2841                     False                        False       1      12   \n",
       "2845                      True                         True       1      12   \n",
       "2856                     False                         True       1      12   \n",
       "2864                     False                         True       1      12   \n",
       "2885                     False                         True       1      12   \n",
       "\n",
       "                        SSOC_Title  \n",
       "3          Risk management manager  \n",
       "9                Marketing manager  \n",
       "27          Administration manager  \n",
       "29    Business development manager  \n",
       "44                Training manager  \n",
       "...                            ...  \n",
       "2841        Regional sales manager  \n",
       "2845             Marketing manager  \n",
       "2856  Business development manager  \n",
       "2864                 Audit manager  \n",
       "2885             Marketing manager  \n",
       "\n",
       "[191 rows x 17 columns]"
      ]
     },
     "execution_count": 203,
     "metadata": {},
     "output_type": "execute_result"
    }
   ],
   "source": [
    "test_enhanced[test_enhanced['SSOC_2D'] == '12']"
   ]
  },
  {
   "cell_type": "markdown",
   "id": "e3d2ee05-92ef-4b79-b6e0-bff909cff4cf",
   "metadata": {},
   "source": [
    "Generating 2D level error analysis"
   ]
  },
  {
   "cell_type": "code",
   "execution_count": 9,
   "id": "52c646e4-44af-4ca1-b405-ba8a33696d95",
   "metadata": {},
   "outputs": [],
   "source": [
    "SSOC_2D_error_analysis = test_enhanced.groupby('Predicted_SSOC_2020').agg(\n",
    "    SSOC_5D_Correct_2DLevel = pd.NamedAgg(column = \"SSOC_5D_Top_10_Preds_Correct\", aggfunc = \"sum\"),\n",
    "    Count = pd.NamedAgg(column = \"SSOC_5D_Top_Pred_Correct\", aggfunc = \"count\")\n",
    ").reset_index()\n",
    "SSOC_2D_error_analysis['Accuracy'] = round(SSOC_2D_error_analysis['SSOC_5D_Correct_2DLevel']/SSOC_2D_error_analysis['Count']*100, 1)"
   ]
  },
  {
   "cell_type": "markdown",
   "id": "b34a8f55-5d31-465c-a6d7-dd6a3322e18d",
   "metadata": {},
   "source": [
    "13: Production and specialised services managers  \n",
    "26: Legal, social, religious, cultural professionals  \n",
    "31: Engineering Associate Professionals  \n",
    "32: Health Associate Professionals  \n",
    "44: Other clerical support workers  \n",
    "53: Personal care workers  \n",
    "54: Protective service workers  \n",
    "74: Electrical and electronic trades workers  \n",
    "75: Food processing, woodworking, craft trades workers  \n",
    "81: Plant machinery operators  \n",
    "82: Assemblers and quality checkers  \n",
    "91: Cleaners and helpers  \n",
    "92: Agriculture and fishery workers  \n",
    "96: Waste collection, recycling workers  "
   ]
  },
  {
   "cell_type": "code",
   "execution_count": 10,
   "id": "02e7ff2c-b98e-4f88-a833-adc18ed33e0f",
   "metadata": {},
   "outputs": [
    {
     "data": {
      "text/html": [
       "<div>\n",
       "<style scoped>\n",
       "    .dataframe tbody tr th:only-of-type {\n",
       "        vertical-align: middle;\n",
       "    }\n",
       "\n",
       "    .dataframe tbody tr th {\n",
       "        vertical-align: top;\n",
       "    }\n",
       "\n",
       "    .dataframe thead th {\n",
       "        text-align: right;\n",
       "    }\n",
       "</style>\n",
       "<table border=\"1\" class=\"dataframe\">\n",
       "  <thead>\n",
       "    <tr style=\"text-align: right;\">\n",
       "      <th></th>\n",
       "      <th>MCF_Job_Ad_ID</th>\n",
       "      <th>Predicted_SSOC_2020</th>\n",
       "      <th>title</th>\n",
       "      <th>description</th>\n",
       "    </tr>\n",
       "  </thead>\n",
       "  <tbody>\n",
       "    <tr>\n",
       "      <th>1005</th>\n",
       "      <td>MCF-2021-0234416</td>\n",
       "      <td>31122</td>\n",
       "      <td>Building Services Technician</td>\n",
       "      <td>Assist in developing scope of work for the pro...</td>\n",
       "    </tr>\n",
       "    <tr>\n",
       "      <th>1371</th>\n",
       "      <td>MCF-2021-0030852</td>\n",
       "      <td>31122</td>\n",
       "      <td>Technician [Building / Facilities / Woodlands]...</td>\n",
       "      <td>Job scopes: Building general maintenance work....</td>\n",
       "    </tr>\n",
       "    <tr>\n",
       "      <th>1382</th>\n",
       "      <td>MCF-2020-0345319</td>\n",
       "      <td>31122</td>\n",
       "      <td>Technician (Building)</td>\n",
       "      <td>Roles &amp; Responsibilities. Responsibilities: Ca...</td>\n",
       "    </tr>\n",
       "    <tr>\n",
       "      <th>1568</th>\n",
       "      <td>MCF-2021-0025954</td>\n",
       "      <td>31122</td>\n",
       "      <td>Technician / Senior Technician (Building &amp; Fac...</td>\n",
       "      <td>Job Descriptions: Must have knowledge in comme...</td>\n",
       "    </tr>\n",
       "    <tr>\n",
       "      <th>1907</th>\n",
       "      <td>MCF-2021-0065737</td>\n",
       "      <td>31122</td>\n",
       "      <td>1723T-FACILITY TECHNICIANS (BUILDING &amp; MAINTEN...</td>\n",
       "      <td>Woodlands Attractive Salary Career Progression...</td>\n",
       "    </tr>\n",
       "    <tr>\n",
       "      <th>2774</th>\n",
       "      <td>MCF-2021-0109042</td>\n",
       "      <td>31122</td>\n",
       "      <td>Building Technician</td>\n",
       "      <td>Job Descriptions: Carrying out maintenance, re...</td>\n",
       "    </tr>\n",
       "  </tbody>\n",
       "</table>\n",
       "</div>"
      ],
      "text/plain": [
       "         MCF_Job_Ad_ID Predicted_SSOC_2020  \\\n",
       "1005  MCF-2021-0234416               31122   \n",
       "1371  MCF-2021-0030852               31122   \n",
       "1382  MCF-2020-0345319               31122   \n",
       "1568  MCF-2021-0025954               31122   \n",
       "1907  MCF-2021-0065737               31122   \n",
       "2774  MCF-2021-0109042               31122   \n",
       "\n",
       "                                                  title  \\\n",
       "1005                       Building Services Technician   \n",
       "1371  Technician [Building / Facilities / Woodlands]...   \n",
       "1382                              Technician (Building)   \n",
       "1568  Technician / Senior Technician (Building & Fac...   \n",
       "1907  1723T-FACILITY TECHNICIANS (BUILDING & MAINTEN...   \n",
       "2774                                Building Technician   \n",
       "\n",
       "                                            description  \n",
       "1005  Assist in developing scope of work for the pro...  \n",
       "1371  Job scopes: Building general maintenance work....  \n",
       "1382  Roles & Responsibilities. Responsibilities: Ca...  \n",
       "1568  Job Descriptions: Must have knowledge in comme...  \n",
       "1907  Woodlands Attractive Salary Career Progression...  \n",
       "2774  Job Descriptions: Carrying out maintenance, re...  "
      ]
     },
     "execution_count": 10,
     "metadata": {},
     "output_type": "execute_result"
    }
   ],
   "source": [
    "test[test['Predicted_SSOC_2020'] == '31122']"
   ]
  },
  {
   "cell_type": "markdown",
   "id": "aa5c205e-3d76-4d81-b76d-ecbc8263b549",
   "metadata": {},
   "source": [
    "Some observations:  \n",
    "* Most of the SSOCs with low counts and 0 accuracy are in the 311 3D SSOC (Physical and Engineering Science Technicians)\n",
    "* Business development executive is predicted more commonly than expected\n",
    "* Technical sales consultant (24331) is too close to Electrical engineer (21511)\n",
    "* Financial analyst (24131) is too close to Business consultant (24212)\n",
    "* QA engineer (25151) is too close to Software developer (25121)\n",
    "* Actuarial professionals (21239) is too close to Business consultant (24212)"
   ]
  },
  {
   "cell_type": "code",
   "execution_count": 151,
   "id": "23109784-0e89-4fc1-be14-716b28f4960d",
   "metadata": {},
   "outputs": [
    {
     "data": {
      "text/html": [
       "<div>\n",
       "<style scoped>\n",
       "    .dataframe tbody tr th:only-of-type {\n",
       "        vertical-align: middle;\n",
       "    }\n",
       "\n",
       "    .dataframe tbody tr th {\n",
       "        vertical-align: top;\n",
       "    }\n",
       "\n",
       "    .dataframe thead th {\n",
       "        text-align: right;\n",
       "    }\n",
       "</style>\n",
       "<table border=\"1\" class=\"dataframe\">\n",
       "  <thead>\n",
       "    <tr style=\"text-align: right;\">\n",
       "      <th></th>\n",
       "      <th>MCF_Job_Ad_ID</th>\n",
       "      <th>Predicted_SSOC_2020</th>\n",
       "      <th>title</th>\n",
       "      <th>description</th>\n",
       "      <th>SSOC_4D_Top_Pred</th>\n",
       "      <th>SSOC_4D_Top_5_Preds</th>\n",
       "      <th>SSOC_4D_Top_5_Preds_Correct</th>\n",
       "      <th>SSOC_5D_Top_Pred</th>\n",
       "      <th>SSOC_5D_Top_10_Preds</th>\n",
       "      <th>SSOC_5D_Top_10_Preds_Correct</th>\n",
       "      <th>SSOC_4D_Top_Pred_Correct</th>\n",
       "      <th>SSOC_5D_Top_Pred_Correct</th>\n",
       "      <th>SSOC_2D</th>\n",
       "    </tr>\n",
       "  </thead>\n",
       "  <tbody>\n",
       "    <tr>\n",
       "      <th>1335</th>\n",
       "      <td>MCF-2021-0158192</td>\n",
       "      <td>25220</td>\n",
       "      <td>Senior / Network Administrator  (Ref:  2021-11...</td>\n",
       "      <td>Our next technology can start with You!Each of...</td>\n",
       "      <td>2523</td>\n",
       "      <td>[2523, 2522, 3512, 2512, 2511]</td>\n",
       "      <td>True</td>\n",
       "      <td>25232</td>\n",
       "      <td>[25232, 25241, 35123, 25121, 35121, 25211, 252...</td>\n",
       "      <td>False</td>\n",
       "      <td>False</td>\n",
       "      <td>False</td>\n",
       "      <td>25</td>\n",
       "    </tr>\n",
       "    <tr>\n",
       "      <th>1997</th>\n",
       "      <td>MCF-2020-0326451</td>\n",
       "      <td>25220</td>\n",
       "      <td>Computer System Administrator</td>\n",
       "      <td>Job Responsibility: Installation, maintenance ...</td>\n",
       "      <td>3512</td>\n",
       "      <td>[3512, 3511, 2523, 1330, 2512]</td>\n",
       "      <td>False</td>\n",
       "      <td>35123</td>\n",
       "      <td>[35123, 25232, 35121, 36100, 35110, 25241, 252...</td>\n",
       "      <td>True</td>\n",
       "      <td>False</td>\n",
       "      <td>False</td>\n",
       "      <td>25</td>\n",
       "    </tr>\n",
       "    <tr>\n",
       "      <th>2298</th>\n",
       "      <td>MCF-2021-0185009</td>\n",
       "      <td>25220</td>\n",
       "      <td>IT Executive (System Network Administration)</td>\n",
       "      <td>Core function is to support technology related...</td>\n",
       "      <td>2523</td>\n",
       "      <td>[2523, 2522, 3512, 2512, 2511]</td>\n",
       "      <td>True</td>\n",
       "      <td>25232</td>\n",
       "      <td>[25232, 35123, 25241, 25121, 35121, 25211, 252...</td>\n",
       "      <td>False</td>\n",
       "      <td>False</td>\n",
       "      <td>False</td>\n",
       "      <td>25</td>\n",
       "    </tr>\n",
       "    <tr>\n",
       "      <th>2775</th>\n",
       "      <td>MCF-2021-0152857</td>\n",
       "      <td>25220</td>\n",
       "      <td>System Network Administrator |Boon Keng - JYK</td>\n",
       "      <td>Perform daily server monitoring, verifying the...</td>\n",
       "      <td>2523</td>\n",
       "      <td>[2523, 3512, 2512, 2522, 2521]</td>\n",
       "      <td>True</td>\n",
       "      <td>25232</td>\n",
       "      <td>[25232, 35123, 25241, 25121, 35121, 25211, 252...</td>\n",
       "      <td>False</td>\n",
       "      <td>False</td>\n",
       "      <td>False</td>\n",
       "      <td>25</td>\n",
       "    </tr>\n",
       "  </tbody>\n",
       "</table>\n",
       "</div>"
      ],
      "text/plain": [
       "         MCF_Job_Ad_ID Predicted_SSOC_2020  \\\n",
       "1335  MCF-2021-0158192               25220   \n",
       "1997  MCF-2020-0326451               25220   \n",
       "2298  MCF-2021-0185009               25220   \n",
       "2775  MCF-2021-0152857               25220   \n",
       "\n",
       "                                                  title  \\\n",
       "1335  Senior / Network Administrator  (Ref:  2021-11...   \n",
       "1997                      Computer System Administrator   \n",
       "2298       IT Executive (System Network Administration)   \n",
       "2775      System Network Administrator |Boon Keng - JYK   \n",
       "\n",
       "                                            description SSOC_4D_Top_Pred  \\\n",
       "1335  Our next technology can start with You!Each of...             2523   \n",
       "1997  Job Responsibility: Installation, maintenance ...             3512   \n",
       "2298  Core function is to support technology related...             2523   \n",
       "2775  Perform daily server monitoring, verifying the...             2523   \n",
       "\n",
       "                 SSOC_4D_Top_5_Preds  SSOC_4D_Top_5_Preds_Correct  \\\n",
       "1335  [2523, 2522, 3512, 2512, 2511]                         True   \n",
       "1997  [3512, 3511, 2523, 1330, 2512]                        False   \n",
       "2298  [2523, 2522, 3512, 2512, 2511]                         True   \n",
       "2775  [2523, 3512, 2512, 2522, 2521]                         True   \n",
       "\n",
       "     SSOC_5D_Top_Pred                               SSOC_5D_Top_10_Preds  \\\n",
       "1335            25232  [25232, 25241, 35123, 25121, 35121, 25211, 252...   \n",
       "1997            35123  [35123, 25232, 35121, 36100, 35110, 25241, 252...   \n",
       "2298            25232  [25232, 35123, 25241, 25121, 35121, 25211, 252...   \n",
       "2775            25232  [25232, 35123, 25241, 25121, 35121, 25211, 252...   \n",
       "\n",
       "      SSOC_5D_Top_10_Preds_Correct  SSOC_4D_Top_Pred_Correct  \\\n",
       "1335                         False                     False   \n",
       "1997                          True                     False   \n",
       "2298                         False                     False   \n",
       "2775                         False                     False   \n",
       "\n",
       "      SSOC_5D_Top_Pred_Correct SSOC_2D  \n",
       "1335                     False      25  \n",
       "1997                     False      25  \n",
       "2298                     False      25  \n",
       "2775                     False      25  "
      ]
     },
     "execution_count": 151,
     "metadata": {},
     "output_type": "execute_result"
    }
   ],
   "source": [
    "test_enhanced[test['Predicted_SSOC_2020'] == '25220']"
   ]
  },
  {
   "cell_type": "code",
   "execution_count": 154,
   "id": "df676046-c121-4980-ab38-1b133130273f",
   "metadata": {},
   "outputs": [
    {
     "data": {
      "text/plain": [
       "24212    2\n",
       "33221    1\n",
       "Name: SSOC_5D_Top_Pred, dtype: int64"
      ]
     },
     "execution_count": 154,
     "metadata": {},
     "output_type": "execute_result"
    }
   ],
   "source": [
    "test_enhanced[test_enhanced['Predicted_SSOC_2020'] == '33211']['SSOC_5D_Top_Pred'].value_counts()"
   ]
  },
  {
   "cell_type": "code",
   "execution_count": 234,
   "id": "360631f2-40e5-4dc9-8a5f-f9c4c9e0d34e",
   "metadata": {},
   "outputs": [
    {
     "data": {
      "text/html": [
       "<div>\n",
       "<style scoped>\n",
       "    .dataframe tbody tr th:only-of-type {\n",
       "        vertical-align: middle;\n",
       "    }\n",
       "\n",
       "    .dataframe tbody tr th {\n",
       "        vertical-align: top;\n",
       "    }\n",
       "\n",
       "    .dataframe thead th {\n",
       "        text-align: right;\n",
       "    }\n",
       "</style>\n",
       "<table border=\"1\" class=\"dataframe\">\n",
       "  <thead>\n",
       "    <tr style=\"text-align: right;\">\n",
       "      <th></th>\n",
       "      <th>MCF_Job_Ad_ID</th>\n",
       "      <th>title</th>\n",
       "      <th>description</th>\n",
       "      <th>Predicted_SSOC_2020</th>\n",
       "    </tr>\n",
       "  </thead>\n",
       "  <tbody>\n",
       "    <tr>\n",
       "      <th>22</th>\n",
       "      <td>MCF-2020-0012755</td>\n",
       "      <td>Vice President - 19132341</td>\n",
       "      <td>&lt;p&gt;We are seeking Application Development Lead...</td>\n",
       "      <td>11203</td>\n",
       "    </tr>\n",
       "    <tr>\n",
       "      <th>202</th>\n",
       "      <td>MCF-2020-0096313</td>\n",
       "      <td>Head, ServiceNow CoE</td>\n",
       "      <td>&lt;p&gt;&lt;strong&gt;About Standard Chartered&amp;nbsp;&lt;/str...</td>\n",
       "      <td>11203</td>\n",
       "    </tr>\n",
       "    <tr>\n",
       "      <th>412</th>\n",
       "      <td>MCF-2020-0233952</td>\n",
       "      <td>PMO Head</td>\n",
       "      <td>&lt;ul&gt;\\n  &lt;li&gt;Able to build and control the Prog...</td>\n",
       "      <td>11203</td>\n",
       "    </tr>\n",
       "  </tbody>\n",
       "</table>\n",
       "</div>"
      ],
      "text/plain": [
       "        MCF_Job_Ad_ID                      title  \\\n",
       "22   MCF-2020-0012755  Vice President - 19132341   \n",
       "202  MCF-2020-0096313       Head, ServiceNow CoE   \n",
       "412  MCF-2020-0233952                   PMO Head   \n",
       "\n",
       "                                           description Predicted_SSOC_2020  \n",
       "22   <p>We are seeking Application Development Lead...               11203  \n",
       "202  <p><strong>About Standard Chartered&nbsp;</str...               11203  \n",
       "412  <ul>\\n  <li>Able to build and control the Prog...               11203  "
      ]
     },
     "execution_count": 234,
     "metadata": {},
     "output_type": "execute_result"
    }
   ],
   "source": [
    "test[test['Predicted_SSOC_2020'] == '11203']"
   ]
  }
 ],
 "metadata": {
  "kernelspec": {
   "display_name": "Python 3 (ipykernel)",
   "language": "python",
   "name": "python3"
  },
  "language_info": {
   "codemirror_mode": {
    "name": "ipython",
    "version": 3
   },
   "file_extension": ".py",
   "mimetype": "text/x-python",
   "name": "python",
   "nbconvert_exporter": "python",
   "pygments_lexer": "ipython3",
   "version": "3.9.5"
  }
 },
 "nbformat": 4,
 "nbformat_minor": 5
}
