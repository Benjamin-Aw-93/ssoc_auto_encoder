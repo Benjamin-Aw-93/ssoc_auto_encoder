{
 "cells": [
  {
   "cell_type": "markdown",
   "id": "3272bc44-5fe4-45f6-8bbb-f30b06404ead",
   "metadata": {},
   "source": [
    "## Error Analysis\n",
    "\n",
    "**Author:** Shaun Khoo  \n",
    "**Date:** 4 Jan 2022  \n",
    "**Context:** Model is performing decently, but need to identify where the model is struggling and see what we can do to improve performance  \n",
    "**Objective:** Identify where the model is doing worse in, hypothesize why, and think of what we can do to improve this     "
   ]
  },
  {
   "cell_type": "markdown",
   "id": "f493921f-c4c3-4759-87e4-1a8e92d62d84",
   "metadata": {},
   "source": [
    "#### A) Importing libaries and data"
   ]
  },
  {
   "cell_type": "code",
   "execution_count": 63,
   "id": "72070588-1ee1-4d0a-b4c2-766764a41520",
   "metadata": {},
   "outputs": [],
   "source": [
    "import pandas as pd\n",
    "import numpy as np\n",
    "import pickle"
   ]
  },
  {
   "cell_type": "code",
   "execution_count": 3,
   "id": "75820f2c-bbc3-4de9-8c46-ff03e870e1f1",
   "metadata": {},
   "outputs": [],
   "source": [
    "import os\n",
    "os.chdir('..')"
   ]
  },
  {
   "cell_type": "code",
   "execution_count": 216,
   "id": "56e1d378-3fd5-42ca-b40c-94e931dd82ca",
   "metadata": {},
   "outputs": [],
   "source": [
    "test = pd.read_csv('Data/Train/MRSD_Validation.csv')\n",
    "test['Predicted_SSOC_2020'] = test['Predicted_SSOC_2020'].astype('str')\n",
    "with open('mrsd_val.pickle', 'rb') as handle:\n",
    "    test_predictions = pickle.load(handle)"
   ]
  },
  {
   "cell_type": "code",
   "execution_count": 217,
   "id": "f9178016-34ee-4e02-9666-2843251a4f8f",
   "metadata": {},
   "outputs": [
    {
     "data": {
      "text/html": [
       "<div>\n",
       "<style scoped>\n",
       "    .dataframe tbody tr th:only-of-type {\n",
       "        vertical-align: middle;\n",
       "    }\n",
       "\n",
       "    .dataframe tbody tr th {\n",
       "        vertical-align: top;\n",
       "    }\n",
       "\n",
       "    .dataframe thead th {\n",
       "        text-align: right;\n",
       "    }\n",
       "</style>\n",
       "<table border=\"1\" class=\"dataframe\">\n",
       "  <thead>\n",
       "    <tr style=\"text-align: right;\">\n",
       "      <th></th>\n",
       "      <th>MCF_Job_Ad_ID</th>\n",
       "      <th>title</th>\n",
       "      <th>description</th>\n",
       "      <th>Predicted_SSOC_2020</th>\n",
       "    </tr>\n",
       "  </thead>\n",
       "  <tbody>\n",
       "    <tr>\n",
       "      <th>0</th>\n",
       "      <td>MCF-2020-0000390</td>\n",
       "      <td>Part Timers x 4</td>\n",
       "      <td>&lt;p&gt;Vacancy: 4 x Part time Catering staff for C...</td>\n",
       "      <td>51312</td>\n",
       "    </tr>\n",
       "    <tr>\n",
       "      <th>1</th>\n",
       "      <td>MCF-2020-0000734</td>\n",
       "      <td>Character Artist</td>\n",
       "      <td>&lt;p&gt;The Character Artist will be responsible fo...</td>\n",
       "      <td>21662</td>\n",
       "    </tr>\n",
       "    <tr>\n",
       "      <th>2</th>\n",
       "      <td>MCF-2020-0000835</td>\n",
       "      <td>Musician- Cello</td>\n",
       "      <td>&lt;p&gt;&lt;strong&gt;Job Description&lt;/strong&gt;&lt;/p&gt;\\n&lt;p&gt;&lt;b...</td>\n",
       "      <td>26521</td>\n",
       "    </tr>\n",
       "    <tr>\n",
       "      <th>3</th>\n",
       "      <td>MCF-2020-0001115</td>\n",
       "      <td>Despatch Rider (3 months Contract)</td>\n",
       "      <td>&lt;p&gt;To collect and deliver mails, packages and ...</td>\n",
       "      <td>96299</td>\n",
       "    </tr>\n",
       "    <tr>\n",
       "      <th>4</th>\n",
       "      <td>MCF-2020-0001583</td>\n",
       "      <td>BIM Modeller</td>\n",
       "      <td>&lt;p&gt;As a BIM modeller at RoviSys you will get e...</td>\n",
       "      <td>21661</td>\n",
       "    </tr>\n",
       "    <tr>\n",
       "      <th>...</th>\n",
       "      <td>...</td>\n",
       "      <td>...</td>\n",
       "      <td>...</td>\n",
       "      <td>...</td>\n",
       "    </tr>\n",
       "    <tr>\n",
       "      <th>487</th>\n",
       "      <td>MCF-2020-0265242</td>\n",
       "      <td>Electro-Plater</td>\n",
       "      <td>&lt;ul&gt;\\n  &lt;li&gt;Perform plating bath, equipment ma...</td>\n",
       "      <td>81240</td>\n",
       "    </tr>\n",
       "    <tr>\n",
       "      <th>488</th>\n",
       "      <td>MCF-2020-0265572</td>\n",
       "      <td>BIM MODELLER</td>\n",
       "      <td>&lt;p&gt;• Ensure 3D shop drawings produced are full...</td>\n",
       "      <td>21661</td>\n",
       "    </tr>\n",
       "    <tr>\n",
       "      <th>489</th>\n",
       "      <td>MCF-2020-0265654</td>\n",
       "      <td>Temp Staff (Admin Assistant), 3 months, S$9.00...</td>\n",
       "      <td>&lt;p&gt;Jobscope&amp;nbsp;&lt;/p&gt;\\n&lt;p&gt;•\\tSupport for grant...</td>\n",
       "      <td>41101</td>\n",
       "    </tr>\n",
       "    <tr>\n",
       "      <th>490</th>\n",
       "      <td>MCF-2020-0265751</td>\n",
       "      <td>DRAFTING</td>\n",
       "      <td>&lt;ul&gt;\\n  &lt;li&gt;Minimum of 3 year experience in in...</td>\n",
       "      <td>31181</td>\n",
       "    </tr>\n",
       "    <tr>\n",
       "      <th>491</th>\n",
       "      <td>MCF-2020-0266352</td>\n",
       "      <td>SGUnitedJobs</td>\n",
       "      <td>&lt;p&gt;Rotate in all finance functions (AP, AR, Re...</td>\n",
       "      <td>33131</td>\n",
       "    </tr>\n",
       "  </tbody>\n",
       "</table>\n",
       "<p>492 rows × 4 columns</p>\n",
       "</div>"
      ],
      "text/plain": [
       "        MCF_Job_Ad_ID                                              title  \\\n",
       "0    MCF-2020-0000390                                    Part Timers x 4   \n",
       "1    MCF-2020-0000734                                   Character Artist   \n",
       "2    MCF-2020-0000835                                    Musician- Cello   \n",
       "3    MCF-2020-0001115                 Despatch Rider (3 months Contract)   \n",
       "4    MCF-2020-0001583                                       BIM Modeller   \n",
       "..                ...                                                ...   \n",
       "487  MCF-2020-0265242                                     Electro-Plater   \n",
       "488  MCF-2020-0265572                                       BIM MODELLER   \n",
       "489  MCF-2020-0265654  Temp Staff (Admin Assistant), 3 months, S$9.00...   \n",
       "490  MCF-2020-0265751                                           DRAFTING   \n",
       "491  MCF-2020-0266352                                       SGUnitedJobs   \n",
       "\n",
       "                                           description Predicted_SSOC_2020  \n",
       "0    <p>Vacancy: 4 x Part time Catering staff for C...               51312  \n",
       "1    <p>The Character Artist will be responsible fo...               21662  \n",
       "2    <p><strong>Job Description</strong></p>\\n<p><b...               26521  \n",
       "3    <p>To collect and deliver mails, packages and ...               96299  \n",
       "4    <p>As a BIM modeller at RoviSys you will get e...               21661  \n",
       "..                                                 ...                 ...  \n",
       "487  <ul>\\n  <li>Perform plating bath, equipment ma...               81240  \n",
       "488  <p>• Ensure 3D shop drawings produced are full...               21661  \n",
       "489  <p>Jobscope&nbsp;</p>\\n<p>•\\tSupport for grant...               41101  \n",
       "490  <ul>\\n  <li>Minimum of 3 year experience in in...               31181  \n",
       "491  <p>Rotate in all finance functions (AP, AR, Re...               33131  \n",
       "\n",
       "[492 rows x 4 columns]"
      ]
     },
     "execution_count": 217,
     "metadata": {},
     "output_type": "execute_result"
    }
   ],
   "source": [
    "test"
   ]
  },
  {
   "cell_type": "code",
   "execution_count": 218,
   "id": "27de10fd-3a2c-4dad-9147-3f81f79ac480",
   "metadata": {},
   "outputs": [],
   "source": [
    "df_output = []\n",
    "\n",
    "for test_prediction in test_predictions:\n",
    "    \n",
    "    row_output = {}\n",
    "    \n",
    "    row_output['SSOC_4D_Top_Pred'] = test_prediction['SSOC_4D']['predicted_ssoc'][0]\n",
    "    row_output['SSOC_4D_Top_5_Preds'] = test_prediction['SSOC_4D']['predicted_ssoc']\n",
    "    row_output['SSOC_4D_Top_5_Preds_Correct'] = test_prediction['SSOC_4D']['accurate_prediction']\n",
    "\n",
    "    row_output['SSOC_5D_Top_Pred'] = test_prediction['SSOC_5D']['predicted_ssoc'][0]\n",
    "    row_output['SSOC_5D_Top_10_Preds'] = test_prediction['SSOC_5D']['predicted_ssoc']\n",
    "    row_output['SSOC_5D_Top_10_Preds_Correct'] = test_prediction['SSOC_5D']['accurate_prediction']\n",
    "\n",
    "    df_output.append(row_output)\n",
    "    "
   ]
  },
  {
   "cell_type": "code",
   "execution_count": 219,
   "id": "ebfc3d37-1fd0-49c1-8dd2-aba77ed22142",
   "metadata": {},
   "outputs": [],
   "source": [
    "test_enhanced = pd.concat([test, pd.DataFrame(df_output)], axis = 1)\n",
    "test_enhanced['SSOC_4D_Top_Pred_Correct'] = test_enhanced['Predicted_SSOC_2020'].str.slice(0, 4) == test_enhanced['SSOC_4D_Top_Pred']\n",
    "test_enhanced['SSOC_5D_Top_Pred_Correct'] = test_enhanced['Predicted_SSOC_2020'] == test_enhanced['SSOC_5D_Top_Pred']\n",
    "test_enhanced['SSOC_2D'] = test_enhanced['Predicted_SSOC_2020'].str.slice(0, 2)"
   ]
  },
  {
   "cell_type": "code",
   "execution_count": 220,
   "id": "f643e2f2-a750-4584-aa79-5cbee3ba19e3",
   "metadata": {},
   "outputs": [],
   "source": [
    "test_enhanced['SSOC_5D_Top_5_Preds_Correct'] = [ssoc in preds[0:5] for ssoc, preds in zip(test_enhanced['Predicted_SSOC_2020'], test_enhanced['SSOC_5D_Top_10_Preds'])]"
   ]
  },
  {
   "cell_type": "code",
   "execution_count": 223,
   "id": "79e0f7a7-9abb-432e-8078-15d73f9ef197",
   "metadata": {},
   "outputs": [
    {
     "data": {
      "text/plain": [
       "False    0.74187\n",
       "True     0.25813\n",
       "Name: SSOC_5D_Top_Pred_Correct, dtype: float64"
      ]
     },
     "execution_count": 223,
     "metadata": {},
     "output_type": "execute_result"
    }
   ],
   "source": [
    "test_enhanced['SSOC_5D_Top_Pred_Correct'].value_counts(normalize=True)"
   ]
  },
  {
   "cell_type": "code",
   "execution_count": 226,
   "id": "52c646e4-44af-4ca1-b405-ba8a33696d95",
   "metadata": {},
   "outputs": [],
   "source": [
    "SSOC_2D_error_analysis = test_enhanced.groupby('Predicted_SSOC_2020').agg(\n",
    "    SSOC_5D_Correct_2DLevel = pd.NamedAgg(column = \"SSOC_5D_Top_10_Preds_Correct\", aggfunc = \"sum\"),\n",
    "    Count = pd.NamedAgg(column = \"SSOC_5D_Top_Pred_Correct\", aggfunc = \"count\")\n",
    ").reset_index()\n",
    "SSOC_2D_error_analysis['Accuracy'] = round(SSOC_2D_error_analysis['SSOC_5D_Correct_2DLevel']/SSOC_2D_error_analysis['Count']*100, 1)"
   ]
  },
  {
   "cell_type": "markdown",
   "id": "b34a8f55-5d31-465c-a6d7-dd6a3322e18d",
   "metadata": {},
   "source": [
    "13: Production and specialised services managers  \n",
    "26: Legal, social, religious, cultural professionals  \n",
    "31: Engineering Associate Professionals  \n",
    "32: Health Associate Professionals  \n",
    "44: Other clerical support workers  \n",
    "53: Personal care workers  \n",
    "54: Protective service workers  \n",
    "74: Electrical and electronic trades workers  \n",
    "75: Food processing, woodworking, craft trades workers  \n",
    "81: Plant machinery operators  \n",
    "82: Assemblers and quality checkers  \n",
    "91: Cleaners and helpers  \n",
    "92: Agriculture and fishery workers  \n",
    "96: Waste collection, recycling workers  "
   ]
  },
  {
   "cell_type": "code",
   "execution_count": 176,
   "id": "02e7ff2c-b98e-4f88-a833-adc18ed33e0f",
   "metadata": {},
   "outputs": [
    {
     "data": {
      "text/html": [
       "<div>\n",
       "<style scoped>\n",
       "    .dataframe tbody tr th:only-of-type {\n",
       "        vertical-align: middle;\n",
       "    }\n",
       "\n",
       "    .dataframe tbody tr th {\n",
       "        vertical-align: top;\n",
       "    }\n",
       "\n",
       "    .dataframe thead th {\n",
       "        text-align: right;\n",
       "    }\n",
       "</style>\n",
       "<table border=\"1\" class=\"dataframe\">\n",
       "  <thead>\n",
       "    <tr style=\"text-align: right;\">\n",
       "      <th></th>\n",
       "      <th>MCF_Job_Ad_ID</th>\n",
       "      <th>Predicted_SSOC_2020</th>\n",
       "      <th>title</th>\n",
       "      <th>description</th>\n",
       "    </tr>\n",
       "  </thead>\n",
       "  <tbody>\n",
       "    <tr>\n",
       "      <th>1005</th>\n",
       "      <td>MCF-2021-0234416</td>\n",
       "      <td>31122</td>\n",
       "      <td>Building Services Technician</td>\n",
       "      <td>Assist in developing scope of work for the pro...</td>\n",
       "    </tr>\n",
       "    <tr>\n",
       "      <th>1371</th>\n",
       "      <td>MCF-2021-0030852</td>\n",
       "      <td>31122</td>\n",
       "      <td>Technician [Building / Facilities / Woodlands]...</td>\n",
       "      <td>Job scopes: Building general maintenance work....</td>\n",
       "    </tr>\n",
       "    <tr>\n",
       "      <th>1382</th>\n",
       "      <td>MCF-2020-0345319</td>\n",
       "      <td>31122</td>\n",
       "      <td>Technician (Building)</td>\n",
       "      <td>Roles &amp; Responsibilities. Responsibilities: Ca...</td>\n",
       "    </tr>\n",
       "    <tr>\n",
       "      <th>1568</th>\n",
       "      <td>MCF-2021-0025954</td>\n",
       "      <td>31122</td>\n",
       "      <td>Technician / Senior Technician (Building &amp; Fac...</td>\n",
       "      <td>Job Descriptions: Must have knowledge in comme...</td>\n",
       "    </tr>\n",
       "    <tr>\n",
       "      <th>1907</th>\n",
       "      <td>MCF-2021-0065737</td>\n",
       "      <td>31122</td>\n",
       "      <td>1723T-FACILITY TECHNICIANS (BUILDING &amp; MAINTEN...</td>\n",
       "      <td>Woodlands Attractive Salary Career Progression...</td>\n",
       "    </tr>\n",
       "    <tr>\n",
       "      <th>2774</th>\n",
       "      <td>MCF-2021-0109042</td>\n",
       "      <td>31122</td>\n",
       "      <td>Building Technician</td>\n",
       "      <td>Job Descriptions: Carrying out maintenance, re...</td>\n",
       "    </tr>\n",
       "  </tbody>\n",
       "</table>\n",
       "</div>"
      ],
      "text/plain": [
       "         MCF_Job_Ad_ID Predicted_SSOC_2020  \\\n",
       "1005  MCF-2021-0234416               31122   \n",
       "1371  MCF-2021-0030852               31122   \n",
       "1382  MCF-2020-0345319               31122   \n",
       "1568  MCF-2021-0025954               31122   \n",
       "1907  MCF-2021-0065737               31122   \n",
       "2774  MCF-2021-0109042               31122   \n",
       "\n",
       "                                                  title  \\\n",
       "1005                       Building Services Technician   \n",
       "1371  Technician [Building / Facilities / Woodlands]...   \n",
       "1382                              Technician (Building)   \n",
       "1568  Technician / Senior Technician (Building & Fac...   \n",
       "1907  1723T-FACILITY TECHNICIANS (BUILDING & MAINTEN...   \n",
       "2774                                Building Technician   \n",
       "\n",
       "                                            description  \n",
       "1005  Assist in developing scope of work for the pro...  \n",
       "1371  Job scopes: Building general maintenance work....  \n",
       "1382  Roles & Responsibilities. Responsibilities: Ca...  \n",
       "1568  Job Descriptions: Must have knowledge in comme...  \n",
       "1907  Woodlands Attractive Salary Career Progression...  \n",
       "2774  Job Descriptions: Carrying out maintenance, re...  "
      ]
     },
     "execution_count": 176,
     "metadata": {},
     "output_type": "execute_result"
    }
   ],
   "source": [
    "test[test['Predicted_SSOC_2020'] == '31122']"
   ]
  },
  {
   "cell_type": "markdown",
   "id": "aa5c205e-3d76-4d81-b76d-ecbc8263b549",
   "metadata": {},
   "source": [
    "Some observations:  \n",
    "* Most of the SSOCs with low counts and 0 accuracy are in the 311 3D SSOC (Physical and Engineering Science Technicians)\n",
    "* Business development executive is predicted more commonly than expected\n",
    "* Technical sales consultant (24331) is too close to Electrical engineer (21511)\n",
    "* Financial analyst (24131) is too close to Business consultant (24212)\n",
    "* QA engineer (25151) is too close to Software developer (25121)\n",
    "* Actuarial professionals (21239) is too close to Business consultant (24212)\n",
    "* "
   ]
  },
  {
   "cell_type": "code",
   "execution_count": 151,
   "id": "23109784-0e89-4fc1-be14-716b28f4960d",
   "metadata": {},
   "outputs": [
    {
     "data": {
      "text/html": [
       "<div>\n",
       "<style scoped>\n",
       "    .dataframe tbody tr th:only-of-type {\n",
       "        vertical-align: middle;\n",
       "    }\n",
       "\n",
       "    .dataframe tbody tr th {\n",
       "        vertical-align: top;\n",
       "    }\n",
       "\n",
       "    .dataframe thead th {\n",
       "        text-align: right;\n",
       "    }\n",
       "</style>\n",
       "<table border=\"1\" class=\"dataframe\">\n",
       "  <thead>\n",
       "    <tr style=\"text-align: right;\">\n",
       "      <th></th>\n",
       "      <th>MCF_Job_Ad_ID</th>\n",
       "      <th>Predicted_SSOC_2020</th>\n",
       "      <th>title</th>\n",
       "      <th>description</th>\n",
       "      <th>SSOC_4D_Top_Pred</th>\n",
       "      <th>SSOC_4D_Top_5_Preds</th>\n",
       "      <th>SSOC_4D_Top_5_Preds_Correct</th>\n",
       "      <th>SSOC_5D_Top_Pred</th>\n",
       "      <th>SSOC_5D_Top_10_Preds</th>\n",
       "      <th>SSOC_5D_Top_10_Preds_Correct</th>\n",
       "      <th>SSOC_4D_Top_Pred_Correct</th>\n",
       "      <th>SSOC_5D_Top_Pred_Correct</th>\n",
       "      <th>SSOC_2D</th>\n",
       "    </tr>\n",
       "  </thead>\n",
       "  <tbody>\n",
       "    <tr>\n",
       "      <th>1335</th>\n",
       "      <td>MCF-2021-0158192</td>\n",
       "      <td>25220</td>\n",
       "      <td>Senior / Network Administrator  (Ref:  2021-11...</td>\n",
       "      <td>Our next technology can start with You!Each of...</td>\n",
       "      <td>2523</td>\n",
       "      <td>[2523, 2522, 3512, 2512, 2511]</td>\n",
       "      <td>True</td>\n",
       "      <td>25232</td>\n",
       "      <td>[25232, 25241, 35123, 25121, 35121, 25211, 252...</td>\n",
       "      <td>False</td>\n",
       "      <td>False</td>\n",
       "      <td>False</td>\n",
       "      <td>25</td>\n",
       "    </tr>\n",
       "    <tr>\n",
       "      <th>1997</th>\n",
       "      <td>MCF-2020-0326451</td>\n",
       "      <td>25220</td>\n",
       "      <td>Computer System Administrator</td>\n",
       "      <td>Job Responsibility: Installation, maintenance ...</td>\n",
       "      <td>3512</td>\n",
       "      <td>[3512, 3511, 2523, 1330, 2512]</td>\n",
       "      <td>False</td>\n",
       "      <td>35123</td>\n",
       "      <td>[35123, 25232, 35121, 36100, 35110, 25241, 252...</td>\n",
       "      <td>True</td>\n",
       "      <td>False</td>\n",
       "      <td>False</td>\n",
       "      <td>25</td>\n",
       "    </tr>\n",
       "    <tr>\n",
       "      <th>2298</th>\n",
       "      <td>MCF-2021-0185009</td>\n",
       "      <td>25220</td>\n",
       "      <td>IT Executive (System Network Administration)</td>\n",
       "      <td>Core function is to support technology related...</td>\n",
       "      <td>2523</td>\n",
       "      <td>[2523, 2522, 3512, 2512, 2511]</td>\n",
       "      <td>True</td>\n",
       "      <td>25232</td>\n",
       "      <td>[25232, 35123, 25241, 25121, 35121, 25211, 252...</td>\n",
       "      <td>False</td>\n",
       "      <td>False</td>\n",
       "      <td>False</td>\n",
       "      <td>25</td>\n",
       "    </tr>\n",
       "    <tr>\n",
       "      <th>2775</th>\n",
       "      <td>MCF-2021-0152857</td>\n",
       "      <td>25220</td>\n",
       "      <td>System Network Administrator |Boon Keng - JYK</td>\n",
       "      <td>Perform daily server monitoring, verifying the...</td>\n",
       "      <td>2523</td>\n",
       "      <td>[2523, 3512, 2512, 2522, 2521]</td>\n",
       "      <td>True</td>\n",
       "      <td>25232</td>\n",
       "      <td>[25232, 35123, 25241, 25121, 35121, 25211, 252...</td>\n",
       "      <td>False</td>\n",
       "      <td>False</td>\n",
       "      <td>False</td>\n",
       "      <td>25</td>\n",
       "    </tr>\n",
       "  </tbody>\n",
       "</table>\n",
       "</div>"
      ],
      "text/plain": [
       "         MCF_Job_Ad_ID Predicted_SSOC_2020  \\\n",
       "1335  MCF-2021-0158192               25220   \n",
       "1997  MCF-2020-0326451               25220   \n",
       "2298  MCF-2021-0185009               25220   \n",
       "2775  MCF-2021-0152857               25220   \n",
       "\n",
       "                                                  title  \\\n",
       "1335  Senior / Network Administrator  (Ref:  2021-11...   \n",
       "1997                      Computer System Administrator   \n",
       "2298       IT Executive (System Network Administration)   \n",
       "2775      System Network Administrator |Boon Keng - JYK   \n",
       "\n",
       "                                            description SSOC_4D_Top_Pred  \\\n",
       "1335  Our next technology can start with You!Each of...             2523   \n",
       "1997  Job Responsibility: Installation, maintenance ...             3512   \n",
       "2298  Core function is to support technology related...             2523   \n",
       "2775  Perform daily server monitoring, verifying the...             2523   \n",
       "\n",
       "                 SSOC_4D_Top_5_Preds  SSOC_4D_Top_5_Preds_Correct  \\\n",
       "1335  [2523, 2522, 3512, 2512, 2511]                         True   \n",
       "1997  [3512, 3511, 2523, 1330, 2512]                        False   \n",
       "2298  [2523, 2522, 3512, 2512, 2511]                         True   \n",
       "2775  [2523, 3512, 2512, 2522, 2521]                         True   \n",
       "\n",
       "     SSOC_5D_Top_Pred                               SSOC_5D_Top_10_Preds  \\\n",
       "1335            25232  [25232, 25241, 35123, 25121, 35121, 25211, 252...   \n",
       "1997            35123  [35123, 25232, 35121, 36100, 35110, 25241, 252...   \n",
       "2298            25232  [25232, 35123, 25241, 25121, 35121, 25211, 252...   \n",
       "2775            25232  [25232, 35123, 25241, 25121, 35121, 25211, 252...   \n",
       "\n",
       "      SSOC_5D_Top_10_Preds_Correct  SSOC_4D_Top_Pred_Correct  \\\n",
       "1335                         False                     False   \n",
       "1997                          True                     False   \n",
       "2298                         False                     False   \n",
       "2775                         False                     False   \n",
       "\n",
       "      SSOC_5D_Top_Pred_Correct SSOC_2D  \n",
       "1335                     False      25  \n",
       "1997                     False      25  \n",
       "2298                     False      25  \n",
       "2775                     False      25  "
      ]
     },
     "execution_count": 151,
     "metadata": {},
     "output_type": "execute_result"
    }
   ],
   "source": [
    "test_enhanced[test['Predicted_SSOC_2020'] == '25220']"
   ]
  },
  {
   "cell_type": "code",
   "execution_count": 154,
   "id": "df676046-c121-4980-ab38-1b133130273f",
   "metadata": {},
   "outputs": [
    {
     "data": {
      "text/plain": [
       "24212    2\n",
       "33221    1\n",
       "Name: SSOC_5D_Top_Pred, dtype: int64"
      ]
     },
     "execution_count": 154,
     "metadata": {},
     "output_type": "execute_result"
    }
   ],
   "source": [
    "test_enhanced[test_enhanced['Predicted_SSOC_2020'] == '33211']['SSOC_5D_Top_Pred'].value_counts()"
   ]
  },
  {
   "cell_type": "code",
   "execution_count": 234,
   "id": "360631f2-40e5-4dc9-8a5f-f9c4c9e0d34e",
   "metadata": {},
   "outputs": [
    {
     "data": {
      "text/html": [
       "<div>\n",
       "<style scoped>\n",
       "    .dataframe tbody tr th:only-of-type {\n",
       "        vertical-align: middle;\n",
       "    }\n",
       "\n",
       "    .dataframe tbody tr th {\n",
       "        vertical-align: top;\n",
       "    }\n",
       "\n",
       "    .dataframe thead th {\n",
       "        text-align: right;\n",
       "    }\n",
       "</style>\n",
       "<table border=\"1\" class=\"dataframe\">\n",
       "  <thead>\n",
       "    <tr style=\"text-align: right;\">\n",
       "      <th></th>\n",
       "      <th>MCF_Job_Ad_ID</th>\n",
       "      <th>title</th>\n",
       "      <th>description</th>\n",
       "      <th>Predicted_SSOC_2020</th>\n",
       "    </tr>\n",
       "  </thead>\n",
       "  <tbody>\n",
       "    <tr>\n",
       "      <th>22</th>\n",
       "      <td>MCF-2020-0012755</td>\n",
       "      <td>Vice President - 19132341</td>\n",
       "      <td>&lt;p&gt;We are seeking Application Development Lead...</td>\n",
       "      <td>11203</td>\n",
       "    </tr>\n",
       "    <tr>\n",
       "      <th>202</th>\n",
       "      <td>MCF-2020-0096313</td>\n",
       "      <td>Head, ServiceNow CoE</td>\n",
       "      <td>&lt;p&gt;&lt;strong&gt;About Standard Chartered&amp;nbsp;&lt;/str...</td>\n",
       "      <td>11203</td>\n",
       "    </tr>\n",
       "    <tr>\n",
       "      <th>412</th>\n",
       "      <td>MCF-2020-0233952</td>\n",
       "      <td>PMO Head</td>\n",
       "      <td>&lt;ul&gt;\\n  &lt;li&gt;Able to build and control the Prog...</td>\n",
       "      <td>11203</td>\n",
       "    </tr>\n",
       "  </tbody>\n",
       "</table>\n",
       "</div>"
      ],
      "text/plain": [
       "        MCF_Job_Ad_ID                      title  \\\n",
       "22   MCF-2020-0012755  Vice President - 19132341   \n",
       "202  MCF-2020-0096313       Head, ServiceNow CoE   \n",
       "412  MCF-2020-0233952                   PMO Head   \n",
       "\n",
       "                                           description Predicted_SSOC_2020  \n",
       "22   <p>We are seeking Application Development Lead...               11203  \n",
       "202  <p><strong>About Standard Chartered&nbsp;</str...               11203  \n",
       "412  <ul>\\n  <li>Able to build and control the Prog...               11203  "
      ]
     },
     "execution_count": 234,
     "metadata": {},
     "output_type": "execute_result"
    }
   ],
   "source": [
    "test[test['Predicted_SSOC_2020'] == '11203']"
   ]
  },
  {
   "cell_type": "code",
   "execution_count": 239,
   "id": "5ac854fc-0d01-42c7-8d8a-adcb71cbdc56",
   "metadata": {},
   "outputs": [
    {
     "data": {
      "text/plain": [
       "MCF_Job_Ad_ID                                                    MCF-2020-0096313\n",
       "title                                                        Head, ServiceNow CoE\n",
       "description                     <p><strong>About Standard Chartered&nbsp;</str...\n",
       "Predicted_SSOC_2020                                                         11203\n",
       "SSOC_4D_Top_Pred                                                             2421\n",
       "SSOC_4D_Top_5_Preds                                [2421, 1330, 2423, 1224, 1219]\n",
       "SSOC_4D_Top_5_Preds_Correct                                                 False\n",
       "SSOC_5D_Top_Pred                                                            24212\n",
       "SSOC_5D_Top_10_Preds            [24212, 13302, 35123, 12241, 12112, 24231, 133...\n",
       "SSOC_5D_Top_10_Preds_Correct                                                False\n",
       "SSOC_4D_Top_Pred_Correct                                                    False\n",
       "SSOC_5D_Top_Pred_Correct                                                    False\n",
       "SSOC_2D                                                                        11\n",
       "SSOC_5D_Top_5_Preds_Correct                                                 False\n",
       "Name: 202, dtype: object"
      ]
     },
     "execution_count": 239,
     "metadata": {},
     "output_type": "execute_result"
    }
   ],
   "source": [
    "test_enhanced.loc[202,]"
   ]
  },
  {
   "cell_type": "code",
   "execution_count": 237,
   "id": "3de394dc-3b40-4f3e-8903-a50a4d6b955d",
   "metadata": {},
   "outputs": [
    {
     "data": {
      "text/plain": [
       "'<ul>\\n  <li>Able to build and control the Programme Management Office (PMO) for the organisation (resources, contracts, finance, delivery plan/schedule, deliverables, delivery quality/compliance, KPI, risk management, change control management, ownership RACI, etc.)</li>\\n  <li>Reporting to executive level internal and external (customer) stakeholders</li>\\n  <li>Governance: Organize various governance meetings with stake holders and keep track of action items</li>\\n  <li>Compliance: Ensure the program team is performing and delivering in compliance with the contract terms &amp; conditions with customer</li>\\n  <li>Financial: Maintain financial budget, forecast &amp; actual cash flow financial status update</li>\\n  <li>Change: Maintain change control &amp; management process and keep track of all change requests</li>\\n  <li>Transition: Maintain transition management process and keep track</li>\\n  <li>Communication: Communication management for the program</li>\\n  <li>Human Resource: Maintain the resource repository, liaise with HR recruiting team to fulfil program resource demand as per HR capacity and forecasting. Training and manage the resource induction</li>\\n  <li>KPI: Keep track of Program KPIs</li>\\n  <li>Process: define and evolve various organization process and maintain it</li>\\n  <li>Contracts: Custodian of the contracts and SoWs and supporting program, procurement and legal teams regarding vendor engagement and management</li>\\n  <li>Quality Assurance :Ensure Quality Assurance of all the deliverables</li>\\n  <li>Repository: Provide a central repository for all projects under the engagement and project information</li>\\n  <li>Maintain and keep track the repository of all deliverable and follow up with the stake holders as per statement of work</li>\\n</ul>\\n<p><strong>Requirements:</strong></p>\\n<p><br></p>\\n<ul>\\n  <li>Degree in Business IT, Computing Science, Engineering or equivalent \\uf0b7</li>\\n  <li>15+ years of experience in PMO in the IT industry, preferable in the Telecommunications Industry. Experience in Project Management is added advantage</li>\\n  <li>Experience in managing the PMO for System Integrator companies</li>\\n  <li>Experienced in full SDLC of software projects delivery</li>\\n  <li>Strong Communication &amp; presentation skills and report writing skills</li>\\n  <li>Strong interpersonal / soft skills</li>\\n  <li>Experienced in creating and maintaining complex project plans</li>\\n  <li>Strong scope management skills and experience managing partners</li>\\n</ul>'"
      ]
     },
     "execution_count": 237,
     "metadata": {},
     "output_type": "execute_result"
    }
   ],
   "source": [
    "test.loc[412, 'description']"
   ]
  },
  {
   "cell_type": "code",
   "execution_count": 231,
   "id": "abaf582c-49b7-4b6f-9b1d-364fe411b2d9",
   "metadata": {},
   "outputs": [
    {
     "name": "stdout",
     "output_type": "stream",
     "text": [
      "Average accuracy: 44.710204081632654\n"
     ]
    },
    {
     "data": {
      "text/html": [
       "<div>\n",
       "<style scoped>\n",
       "    .dataframe tbody tr th:only-of-type {\n",
       "        vertical-align: middle;\n",
       "    }\n",
       "\n",
       "    .dataframe tbody tr th {\n",
       "        vertical-align: top;\n",
       "    }\n",
       "\n",
       "    .dataframe thead th {\n",
       "        text-align: right;\n",
       "    }\n",
       "</style>\n",
       "<table border=\"1\" class=\"dataframe\">\n",
       "  <thead>\n",
       "    <tr style=\"text-align: right;\">\n",
       "      <th></th>\n",
       "      <th>Predicted_SSOC_2020</th>\n",
       "      <th>SSOC_5D_Correct_2DLevel</th>\n",
       "      <th>Count</th>\n",
       "      <th>Accuracy</th>\n",
       "    </tr>\n",
       "  </thead>\n",
       "  <tbody>\n",
       "    <tr>\n",
       "      <th>0</th>\n",
       "      <td>11203</td>\n",
       "      <td>0</td>\n",
       "      <td>3</td>\n",
       "      <td>0.0</td>\n",
       "    </tr>\n",
       "    <tr>\n",
       "      <th>129</th>\n",
       "      <td>43129</td>\n",
       "      <td>0</td>\n",
       "      <td>2</td>\n",
       "      <td>0.0</td>\n",
       "    </tr>\n",
       "    <tr>\n",
       "      <th>127</th>\n",
       "      <td>42249</td>\n",
       "      <td>0</td>\n",
       "      <td>1</td>\n",
       "      <td>0.0</td>\n",
       "    </tr>\n",
       "    <tr>\n",
       "      <th>124</th>\n",
       "      <td>41109</td>\n",
       "      <td>0</td>\n",
       "      <td>3</td>\n",
       "      <td>0.0</td>\n",
       "    </tr>\n",
       "    <tr>\n",
       "      <th>123</th>\n",
       "      <td>41102</td>\n",
       "      <td>0</td>\n",
       "      <td>3</td>\n",
       "      <td>0.0</td>\n",
       "    </tr>\n",
       "    <tr>\n",
       "      <th>117</th>\n",
       "      <td>35129</td>\n",
       "      <td>0</td>\n",
       "      <td>1</td>\n",
       "      <td>0.0</td>\n",
       "    </tr>\n",
       "    <tr>\n",
       "      <th>115</th>\n",
       "      <td>35110</td>\n",
       "      <td>0</td>\n",
       "      <td>1</td>\n",
       "      <td>0.0</td>\n",
       "    </tr>\n",
       "    <tr>\n",
       "      <th>109</th>\n",
       "      <td>33492</td>\n",
       "      <td>0</td>\n",
       "      <td>6</td>\n",
       "      <td>0.0</td>\n",
       "    </tr>\n",
       "    <tr>\n",
       "      <th>107</th>\n",
       "      <td>33222</td>\n",
       "      <td>0</td>\n",
       "      <td>2</td>\n",
       "      <td>0.0</td>\n",
       "    </tr>\n",
       "    <tr>\n",
       "      <th>105</th>\n",
       "      <td>33211</td>\n",
       "      <td>0</td>\n",
       "      <td>1</td>\n",
       "      <td>0.0</td>\n",
       "    </tr>\n",
       "    <tr>\n",
       "      <th>103</th>\n",
       "      <td>32599</td>\n",
       "      <td>0</td>\n",
       "      <td>1</td>\n",
       "      <td>0.0</td>\n",
       "    </tr>\n",
       "    <tr>\n",
       "      <th>101</th>\n",
       "      <td>31719</td>\n",
       "      <td>0</td>\n",
       "      <td>1</td>\n",
       "      <td>0.0</td>\n",
       "    </tr>\n",
       "    <tr>\n",
       "      <th>99</th>\n",
       "      <td>31423</td>\n",
       "      <td>0</td>\n",
       "      <td>1</td>\n",
       "      <td>0.0</td>\n",
       "    </tr>\n",
       "    <tr>\n",
       "      <th>98</th>\n",
       "      <td>31421</td>\n",
       "      <td>0</td>\n",
       "      <td>1</td>\n",
       "      <td>0.0</td>\n",
       "    </tr>\n",
       "    <tr>\n",
       "      <th>194</th>\n",
       "      <td>96293</td>\n",
       "      <td>0</td>\n",
       "      <td>2</td>\n",
       "      <td>0.0</td>\n",
       "    </tr>\n",
       "    <tr>\n",
       "      <th>130</th>\n",
       "      <td>43142</td>\n",
       "      <td>0</td>\n",
       "      <td>1</td>\n",
       "      <td>0.0</td>\n",
       "    </tr>\n",
       "    <tr>\n",
       "      <th>96</th>\n",
       "      <td>31341</td>\n",
       "      <td>0</td>\n",
       "      <td>1</td>\n",
       "      <td>0.0</td>\n",
       "    </tr>\n",
       "    <tr>\n",
       "      <th>92</th>\n",
       "      <td>31181</td>\n",
       "      <td>0</td>\n",
       "      <td>8</td>\n",
       "      <td>0.0</td>\n",
       "    </tr>\n",
       "    <tr>\n",
       "      <th>91</th>\n",
       "      <td>31174</td>\n",
       "      <td>0</td>\n",
       "      <td>2</td>\n",
       "      <td>0.0</td>\n",
       "    </tr>\n",
       "    <tr>\n",
       "      <th>90</th>\n",
       "      <td>31172</td>\n",
       "      <td>0</td>\n",
       "      <td>1</td>\n",
       "      <td>0.0</td>\n",
       "    </tr>\n",
       "  </tbody>\n",
       "</table>\n",
       "</div>"
      ],
      "text/plain": [
       "    Predicted_SSOC_2020  SSOC_5D_Correct_2DLevel  Count  Accuracy\n",
       "0                 11203                        0      3       0.0\n",
       "129               43129                        0      2       0.0\n",
       "127               42249                        0      1       0.0\n",
       "124               41109                        0      3       0.0\n",
       "123               41102                        0      3       0.0\n",
       "117               35129                        0      1       0.0\n",
       "115               35110                        0      1       0.0\n",
       "109               33492                        0      6       0.0\n",
       "107               33222                        0      2       0.0\n",
       "105               33211                        0      1       0.0\n",
       "103               32599                        0      1       0.0\n",
       "101               31719                        0      1       0.0\n",
       "99                31423                        0      1       0.0\n",
       "98                31421                        0      1       0.0\n",
       "194               96293                        0      2       0.0\n",
       "130               43142                        0      1       0.0\n",
       "96                31341                        0      1       0.0\n",
       "92                31181                        0      8       0.0\n",
       "91                31174                        0      2       0.0\n",
       "90                31172                        0      1       0.0"
      ]
     },
     "execution_count": 231,
     "metadata": {},
     "output_type": "execute_result"
    }
   ],
   "source": [
    "num = 100\n",
    "print(f\"Average accuracy: {np.mean(SSOC_2D_error_analysis[SSOC_2D_error_analysis['Count'] < num]['Accuracy'])}\")\n",
    "SSOC_2D_error_analysis[(SSOC_2D_error_analysis['Count'] < num) & (SSOC_2D_error_analysis['Accuracy'] >= 0)].sort_values('Accuracy', ascending = True).head(20)"
   ]
  },
  {
   "cell_type": "code",
   "execution_count": 227,
   "id": "7c481fcf-c32a-4779-97bb-fe3a53149a09",
   "metadata": {},
   "outputs": [
    {
     "data": {
      "image/png": "[encoded data removed]",
      "text/plain": [
       "<Figure size 432x288 with 1 Axes>"
      ]
     },
     "metadata": {
      "needs_background": "light"
     },
     "output_type": "display_data"
    }
   ],
   "source": [
    "import matplotlib.pyplot as plt\n",
    "plt.scatter(SSOC_2D_error_analysis['Count'], SSOC_2D_error_analysis['Accuracy'])\n",
    "plt.xlabel('Number of samples')\n",
    "plt.ylabel('Accuracy (5D level)')\n",
    "plt.show()"
   ]
  },
  {
   "cell_type": "code",
   "execution_count": 40,
   "id": "ac8e7f1a-d99f-4987-a84a-d88c53a19b97",
   "metadata": {},
   "outputs": [
    {
     "data": {
      "text/plain": [
       "SSOC_2D\n",
       "11    0.333333\n",
       "12    0.408377\n",
       "13    0.253012\n",
       "14    0.616667\n",
       "21    0.556931\n",
       "22    0.621951\n",
       "23    0.600000\n",
       "24    0.595890\n",
       "25    0.719907\n",
       "26    0.339286\n",
       "31    0.238636\n",
       "32    0.388889\n",
       "33    0.473684\n",
       "34    0.864407\n",
       "35    0.509091\n",
       "36    0.707317\n",
       "41    0.413793\n",
       "42    0.725806\n",
       "43    0.586207\n",
       "44    0.000000\n",
       "51    0.535714\n",
       "52    0.304348\n",
       "53    0.560000\n",
       "54    0.750000\n",
       "71    0.536585\n",
       "72    0.714286\n",
       "74    0.363636\n",
       "75    0.545455\n",
       "81    0.500000\n",
       "82    0.000000\n",
       "83    0.407080\n",
       "91    0.347826\n",
       "92    1.000000\n",
       "93    0.714286\n",
       "94    0.148148\n",
       "96    0.000000\n",
       "dtype: float64"
      ]
     },
     "execution_count": 40,
     "metadata": {},
     "output_type": "execute_result"
    }
   ],
   "source": [
    "test_enhanced.groupby('SSOC_2D').apply(lambda x: x['SSOC_4D_Top_Pred_Correct'].sum()/len(x))"
   ]
  },
  {
   "cell_type": "code",
   "execution_count": 29,
   "id": "2e9bb14c-dd8f-4d2d-83a8-d53bf4e49e77",
   "metadata": {},
   "outputs": [
    {
     "data": {
      "text/plain": [
       "True     0.561246\n",
       "False    0.438754\n",
       "Name: SSOC_4D_Top_Pred_Correct, dtype: float64"
      ]
     },
     "execution_count": 29,
     "metadata": {},
     "output_type": "execute_result"
    }
   ],
   "source": [
    "test_enhanced['SSOC_4D_Top_Pred_Correct'].value_counts(normalize = True)"
   ]
  },
  {
   "cell_type": "code",
   "execution_count": 88,
   "id": "bf2691f9-81f1-4f5a-89e9-94795fb5f64b",
   "metadata": {},
   "outputs": [
    {
     "data": {
      "text/plain": [
       "MCF_Job_Ad_ID                                                    MCF-2021-0048640\n",
       "Predicted_SSOC_2020                                                         34222\n",
       "title                               Martial Arts Instructor (Brazilian Jiu-Jitsu)\n",
       "description                     Responsibilities: Create safe and holistic pro...\n",
       "SSOC_4D_Top_Pred                                                             3422\n",
       "SSOC_4D_Top_5_Preds                                [3422, 3421, 3431, 3439, 3440]\n",
       "SSOC_4D_Top_5_Preds_Correct                                                  True\n",
       "SSOC_5D_Top_Pred                                                            34221\n",
       "SSOC_5D_Top_10_Preds            [34221, 51421, 51491, 42245, 42241, 51411, 519...\n",
       "SSOC_5D_Top_10_Preds_Correct                                                False\n",
       "SSOC_4D_Top_Pred_Correct                                                     True\n",
       "SSOC_5D_Top_Pred_Correct                                                    False\n",
       "SSOC_2D                                                                        34\n",
       "Name: 6, dtype: object"
      ]
     },
     "execution_count": 88,
     "metadata": {},
     "output_type": "execute_result"
    }
   ],
   "source": [
    "test_enhanced.iloc[6]"
   ]
  },
  {
   "cell_type": "code",
   "execution_count": null,
   "id": "461b6fcb-8861-4531-a48b-5100c459798e",
   "metadata": {},
   "outputs": [],
   "source": []
  },
  {
   "cell_type": "code",
   "execution_count": null,
   "id": "9543860b-f141-4bf3-bd86-be3132348805",
   "metadata": {},
   "outputs": [],
   "source": []
  },
  {
   "cell_type": "code",
   "execution_count": null,
   "id": "1c1ea298-1b64-4e0c-b3b0-dafea225b2a2",
   "metadata": {},
   "outputs": [],
   "source": []
  },
  {
   "cell_type": "code",
   "execution_count": null,
   "id": "c9961caa-9f22-47bd-9cbe-e2ab27ba6b69",
   "metadata": {},
   "outputs": [],
   "source": []
  },
  {
   "cell_type": "code",
   "execution_count": null,
   "id": "80d0f19d-b310-4bfc-a586-780fa923a499",
   "metadata": {},
   "outputs": [],
   "source": []
  }
 ],
 "metadata": {
  "kernelspec": {
   "display_name": "Python 3 (ipykernel)",
   "language": "python",
   "name": "python3"
  },
  "language_info": {
   "codemirror_mode": {
    "name": "ipython",
    "version": 3
   },
   "file_extension": ".py",
   "mimetype": "text/x-python",
   "name": "python",
   "nbconvert_exporter": "python",
   "pygments_lexer": "ipython3",
   "version": "3.9.5"
  }
 },
 "nbformat": 4,
 "nbformat_minor": 5
}
