{
 "cells": [
  {
   "cell_type": "markdown",
   "metadata": {},
   "source": [
    "## Coverting xlsx SSOC 2020 Mapping into a json format\n",
    "\n",
    "**Author:** Benjamin \n",
    "<br>\n",
    "**Date:** 22th Aug 2022\n",
    "<br>\n",
    "**Context:** Converting the excel into a JSON format to be used as mapping \n",
    "<br>\n",
    "**Objective:** Excel to JSON convertion\n"
   ]
  },
  {
   "cell_type": "markdown",
   "metadata": {},
   "source": [
    "### A) Importing packages and reading in the dataset"
   ]
  },
  {
   "cell_type": "code",
   "execution_count": 8,
   "metadata": {},
   "outputs": [],
   "source": [
    "import pandas as pd\n",
    "import json\n",
    "\n",
    "df = pd.read_excel(\"../Data/SSOC2020 Alphabetical Index_for MCF.xlsx\", sheet_name = 1)"
   ]
  },
  {
   "cell_type": "code",
   "execution_count": 11,
   "metadata": {},
   "outputs": [
    {
     "name": "stdout",
     "output_type": "stream",
     "text": [
      "<class 'pandas.core.frame.DataFrame'>\n",
      "RangeIndex: 8285 entries, 0 to 8284\n",
      "Data columns (total 4 columns):\n",
      " #   Column                                    Non-Null Count  Dtype \n",
      "---  ------                                    --------------  ----- \n",
      " 0   SSOC 2020                                 8285 non-null   object\n",
      " 1   SSOC 2020 Alphabetical Index Description  8285 non-null   object\n",
      " 2   Singapore Skills Framework's Job Roles*   1493 non-null   object\n",
      " 3   SSOC 5D Mapping                           8285 non-null   object\n",
      "dtypes: object(4)\n",
      "memory usage: 259.0+ KB\n"
     ]
    }
   ],
   "source": [
    "df.info()"
   ]
  },
  {
   "cell_type": "code",
   "execution_count": 21,
   "metadata": {},
   "outputs": [],
   "source": [
    "df_selected = df[[\"SSOC 2020\", \"SSOC 2020 Alphabetical Index Description\"]]"
   ]
  },
  {
   "cell_type": "code",
   "execution_count": 38,
   "metadata": {},
   "outputs": [],
   "source": [
    "df_dic = {}\n",
    "\n",
    "for _, row in df_selected.iterrows():\n",
    "\n",
    "    key = str(row[\"SSOC 2020\"])\n",
    "    value = row[\"SSOC 2020 Alphabetical Index Description\"]\n",
    "        \n",
    "    if key not in df_dic:\n",
    "        df_dic[key] = {\"count\": 1, \"jobtitle\": [value]}\n",
    "    else:\n",
    "        df_dic[key][\"count\"] += 1\n",
    "        df_dic[key][\"jobtitle\"].append(value)\n",
    "        df_dic[key][\"jobtitle\"].sort()\n",
    "        "
   ]
  },
  {
   "cell_type": "code",
   "execution_count": 41,
   "metadata": {},
   "outputs": [],
   "source": [
    "# Serializing json  \n",
    "\n",
    "with open('../Data/WPD_Job_title_list_mapping.json', 'w', encoding='utf-8') as f:\n",
    "    json.dump(df_dic, f, ensure_ascii=False, indent=4)"
   ]
  }
 ],
 "metadata": {
  "kernelspec": {
   "display_name": "Python 3.9.13 64-bit",
   "language": "python",
   "name": "python3"
  },
  "language_info": {
   "codemirror_mode": {
    "name": "ipython",
    "version": 3
   },
   "file_extension": ".py",
   "mimetype": "text/x-python",
   "name": "python",
   "nbconvert_exporter": "python",
   "pygments_lexer": "ipython3",
   "version": "3.9.13"
  },
  "orig_nbformat": 4,
  "vscode": {
   "interpreter": {
    "hash": "631d5c991f34bdd4c0e3057c0c1987bae7b95a654a05b3338781ebb2a3ce4e6d"
   }
  }
 },
 "nbformat": 4,
 "nbformat_minor": 2
}
