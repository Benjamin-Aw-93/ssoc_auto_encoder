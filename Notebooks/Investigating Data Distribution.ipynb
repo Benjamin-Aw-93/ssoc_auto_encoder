{
 "cells": [
  {
   "cell_type": "markdown",
   "id": "b608d29f-2959-445c-885e-fc607e683794",
   "metadata": {},
   "source": [
    "## Investigating Data Distribution\n",
    "\n",
    "In this notebook, we attempt to quantify how seriously imbalanced the data distribution is"
   ]
  },
  {
   "cell_type": "code",
   "execution_count": 3,
   "id": "7b2025c1-f034-45ed-90d4-f0f2c50cfb5c",
   "metadata": {},
   "outputs": [],
   "source": [
    "import os\n",
    "os.chdir('..')"
   ]
  },
  {
   "cell_type": "code",
   "execution_count": 22,
   "id": "9f4af665-f0ef-4e51-9ea0-37d376462e73",
   "metadata": {},
   "outputs": [],
   "source": [
    "import pandas as pd\n",
    "from ssoc_autocoder import train\n",
    "pd.options.display.max_rows = 999"
   ]
  },
  {
   "cell_type": "code",
   "execution_count": 5,
   "id": "d420af9f-bd98-4f8c-9cf1-49ef872e5105",
   "metadata": {},
   "outputs": [],
   "source": [
    "data = pd.read_csv('Data/Processed/Training/train-aws/train_full.csv')"
   ]
  },
  {
   "cell_type": "code",
   "execution_count": 9,
   "id": "8781d4ce-1fbc-41ed-a5a4-81ff59f89273",
   "metadata": {},
   "outputs": [],
   "source": [
    "SSOC_2020 = pd.read_csv('Data/Processed/Training/train-aws/SSOC_2020.csv')"
   ]
  },
  {
   "cell_type": "code",
   "execution_count": 11,
   "id": "94facbc7-33fe-4804-8092-95e8a61a94d7",
   "metadata": {},
   "outputs": [],
   "source": [
    "colnames = {\n",
    "    'SSOC': 'SSOC 2020',\n",
    "    'job_description': 'Cleaned_Description'\n",
    "}"
   ]
  },
  {
   "cell_type": "code",
   "execution_count": 12,
   "id": "a1f808cf-6939-445a-bd6f-dd539da651f1",
   "metadata": {},
   "outputs": [],
   "source": [
    "encoding = train.generate_encoding(SSOC_2020)\n",
    "encoded_data = train.encode_dataset(data, encoding, colnames)"
   ]
  },
  {
   "cell_type": "code",
   "execution_count": 16,
   "id": "fc9b0737-2409-434d-9b15-c46b472e1178",
   "metadata": {},
   "outputs": [
    {
     "data": {
      "text/plain": [
       "2    15882\n",
       "3     9306\n",
       "1     7807\n",
       "4     4039\n",
       "5     2054\n",
       "8     1643\n",
       "9     1103\n",
       "7     1001\n",
       "6        7\n",
       "Name: SSOC 2020, dtype: int64"
      ]
     },
     "execution_count": 16,
     "metadata": {},
     "output_type": "execute_result"
    }
   ],
   "source": [
    "data['SSOC 2020'].astype('str').str.slice(0, 1).value_counts()"
   ]
  },
  {
   "cell_type": "code",
   "execution_count": 25,
   "id": "61642192-6b02-48f7-bfda-de289cf5de4f",
   "metadata": {},
   "outputs": [
    {
     "data": {
      "text/plain": [
       "21499    3720\n",
       "33499    2621\n",
       "13499    1899\n",
       "25121    1654\n",
       "41109    1512\n",
       "12211    1490\n",
       "24212    1273\n",
       "33299    1001\n",
       "25190     898\n",
       "43112     841\n",
       "14121     810\n",
       "25111     671\n",
       "94101     631\n",
       "21522     612\n",
       "83329     562\n",
       "33492     543\n",
       "42245     449\n",
       "11202     444\n",
       "51312     417\n",
       "83441     413\n",
       "Name: SSOC 2020, dtype: int64"
      ]
     },
     "execution_count": 25,
     "metadata": {},
     "output_type": "execute_result"
    }
   ],
   "source": [
    "data['SSOC 2020'].astype('str').str.slice(0, 5).value_counts().sort_values(ascending = False).head(20)"
   ]
  },
  {
   "cell_type": "code",
   "execution_count": 66,
   "id": "3a5d1a3c-abfd-4050-b88e-a7a4399a7c0b",
   "metadata": {},
   "outputs": [
    {
     "name": "stdout",
     "output_type": "stream",
     "text": [
      "22952\n",
      "['Using predictive and prescriptive analytics to forecast demand and design appropriate revenue models. Maintaining of Revenue Management standards specific review and measurement of company revenue performance against established goals. Overall development and implementation of strategy to improve revenue per acquired room for the properties across countries. Monitoring group and transient business thresholds within the forecast to ensure measurable improvements for demand and availability. Working with different departments like marketing, corporate sales and business development and control the impact that they create on revenue by setting individual targets for them. Working with external partners such OTAs & other tech providers to ensure the best interest of the company.']\n"
     ]
    }
   ],
   "source": [
    "selected = data[data['SSOC 2020'] == 12211].sample(1)\n",
    "print(selected.index[0])\n",
    "print(selected.Cleaned_Description.values)"
   ]
  },
  {
   "cell_type": "code",
   "execution_count": null,
   "id": "572a760f-a326-46f5-aef8-c4c8a43d49db",
   "metadata": {},
   "outputs": [],
   "source": []
  },
  {
   "cell_type": "code",
   "execution_count": null,
   "id": "1d7a24ca-b102-4336-861a-607b2492fa2c",
   "metadata": {},
   "outputs": [],
   "source": []
  }
 ],
 "metadata": {
  "kernelspec": {
   "display_name": "Python 3 (ipykernel)",
   "language": "python",
   "name": "python3"
  },
  "language_info": {
   "codemirror_mode": {
    "name": "ipython",
    "version": 3
   },
   "file_extension": ".py",
   "mimetype": "text/x-python",
   "name": "python",
   "nbconvert_exporter": "python",
   "pygments_lexer": "ipython3",
   "version": "3.9.5"
  }
 },
 "nbformat": 4,
 "nbformat_minor": 5
}
