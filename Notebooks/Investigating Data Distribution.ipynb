{
 "cells": [
  {
   "cell_type": "markdown",
   "id": "b608d29f-2959-445c-885e-fc607e683794",
   "metadata": {},
   "source": [
    "## Investigating Data Distribution\n",
    "\n",
    "In this notebook, we attempt to quantify how seriously imbalanced the data distribution is. This has important implications for model training as well as the theoretical upper-limit for our model performance."
   ]
  },
  {
   "cell_type": "markdown",
   "id": "7546b744-c6ef-4ae9-913a-4cc80f016e89",
   "metadata": {},
   "source": [
    "#### Set options and import data"
   ]
  },
  {
   "cell_type": "code",
   "execution_count": 3,
   "id": "7b2025c1-f034-45ed-90d4-f0f2c50cfb5c",
   "metadata": {},
   "outputs": [],
   "source": [
    "import os\n",
    "os.chdir('..')"
   ]
  },
  {
   "cell_type": "code",
   "execution_count": 75,
   "id": "9f4af665-f0ef-4e51-9ea0-37d376462e73",
   "metadata": {},
   "outputs": [],
   "source": [
    "import pandas as pd\n",
    "pd.options.display.max_rows = 100"
   ]
  },
  {
   "cell_type": "code",
   "execution_count": 5,
   "id": "d420af9f-bd98-4f8c-9cf1-49ef872e5105",
   "metadata": {},
   "outputs": [],
   "source": [
    "data = pd.read_csv('Data/Processed/Training/train-aws/train_full.csv')\n",
    "SSOC_2020 = pd.read_csv('Data/Processed/Training/train-aws/SSOC_2020.csv')"
   ]
  },
  {
   "cell_type": "code",
   "execution_count": 106,
   "id": "f4d2c39a-e389-4ed9-9498-b9c8f8b5988a",
   "metadata": {},
   "outputs": [],
   "source": [
    "mcf_final = pd.read_csv('Data/Processed/MCF_Training_Set_Full.csv', low_memory = False)\n",
    "original_ssocs = pd.read_csv('Data/Processed/Original SSOCs.csv', low_memory = False)"
   ]
  },
  {
   "cell_type": "markdown",
   "id": "434655d3-2fd5-4e47-8549-6a26fe53d616",
   "metadata": {},
   "source": [
    "#### Quick rehash"
   ]
  },
  {
   "cell_type": "markdown",
   "id": "512a8c03-4c83-4b26-b710-d5de2c9b7e7b",
   "metadata": {},
   "source": [
    "1D SSOC breakdown:\n",
    "\n",
    "* 1: Legislators, Senior Officials and Managers\n",
    "* 2: Professionals\n",
    "* 3: Associate Professionals and Technicians\n",
    "* 4: Clerical Support Workers\n",
    "* 5: Service and Sales Workersd\n",
    "* 6: Agricultural and Fishery Workers\n",
    "* 7: Craftsmen and Related Trades Workers\n",
    "* 8: Plant and Machine Operators and Assemblers\n",
    "* 9: Cleaners, Labourers and Related Workers"
   ]
  },
  {
   "cell_type": "markdown",
   "id": "ac12aa4b-3173-4647-91ac-b1395abfa929",
   "metadata": {},
   "source": [
    "#### Basic data investigation"
   ]
  },
  {
   "cell_type": "markdown",
   "id": "0400d4f3-642a-4484-8a37-64dc556064c0",
   "metadata": {},
   "source": [
    "Distribution of 1D SSOCs highly skewed to 1, 2, and 3 (managers and professionals). 6 (agri and fishery workers) is almost non-existent."
   ]
  },
  {
   "cell_type": "code",
   "execution_count": 16,
   "id": "fc9b0737-2409-434d-9b15-c46b472e1178",
   "metadata": {},
   "outputs": [
    {
     "data": {
      "text/plain": [
       "2    15882\n",
       "3     9306\n",
       "1     7807\n",
       "4     4039\n",
       "5     2054\n",
       "8     1643\n",
       "9     1103\n",
       "7     1001\n",
       "6        7\n",
       "Name: SSOC 2020, dtype: int64"
      ]
     },
     "execution_count": 16,
     "metadata": {},
     "output_type": "execute_result"
    }
   ],
   "source": [
    "data['SSOC 2020'].astype('str').str.slice(0, 1).value_counts()"
   ]
  },
  {
   "cell_type": "markdown",
   "id": "c115b232-ca1b-466f-a2de-8370df2030a6",
   "metadata": {},
   "source": [
    "Of the top 5 most common SSOCs, 4 of them are \"others\" categories. This is not very useful for us.\n",
    "\n",
    "* 21499: Other engineering professionals n.e.c\n",
    "* 33499: Other administrative and related associate professionals n.e.c\n",
    "* 13499: Other professional, financial, community, and social services managers n.e.c\n",
    "* 25121: Software developer\n",
    "* 41109: Other administrative clerks (e.g. public relations clerk)"
   ]
  },
  {
   "cell_type": "code",
   "execution_count": 67,
   "id": "61642192-6b02-48f7-bfda-de289cf5de4f",
   "metadata": {},
   "outputs": [
    {
     "data": {
      "text/plain": [
       "21499    3720\n",
       "33499    2621\n",
       "13499    1899\n",
       "25121    1654\n",
       "41109    1512\n",
       "12211    1490\n",
       "24212    1273\n",
       "33299    1001\n",
       "25190     898\n",
       "43112     841\n",
       "Name: SSOC 2020, dtype: int64"
      ]
     },
     "execution_count": 67,
     "metadata": {},
     "output_type": "execute_result"
    }
   ],
   "source": [
    "data['SSOC 2020'].astype('str').str.slice(0, 5).value_counts().sort_values(ascending = False).head(10)"
   ]
  },
  {
   "cell_type": "markdown",
   "id": "f32e8589-c3c3-4fe5-8ce6-ad34c0b0bb40",
   "metadata": {},
   "source": [
    "There are 583 SSOCs that are not featured at all in our current dataset (with predictions). This represents more than half of the available SSOCs, which will be problematic for us when trying to finetune the data."
   ]
  },
  {
   "cell_type": "code",
   "execution_count": 120,
   "id": "6f8fce65-fb64-41df-87b8-072da556853d",
   "metadata": {},
   "outputs": [],
   "source": [
    "SSOC_2020_counts = SSOC_2020.merge(data.groupby('SSOC 2020').count()['Cleaned_Description'].reset_index(),\n",
    "                                   on = 'SSOC 2020',\n",
    "                                   how = 'left').fillna(0)\n",
    "SSOC_2020_counts.columns = ['SSOC 2020', 'Description', 'Predicted_Count']"
   ]
  },
  {
   "cell_type": "code",
   "execution_count": 129,
   "id": "881f1b29-412c-42fa-8669-ae1a2af04e2f",
   "metadata": {},
   "outputs": [
    {
     "name": "stdout",
     "output_type": "stream",
     "text": [
      "Number of SSOCs with 0 counts: 583\n",
      "Number of SSOCs with <10 counts: 730\n"
     ]
    }
   ],
   "source": [
    "print(f\"Number of SSOCs with 0 counts: {len(SSOC_2020_counts[SSOC_2020_counts['Predicted_Count'] == 0])}\")\n",
    "print(f\"Number of SSOCs with <10 counts: {len(SSOC_2020_counts[SSOC_2020_counts['Predicted_Count'] < 10])}\")"
   ]
  },
  {
   "cell_type": "markdown",
   "id": "b235add6-5b68-44cc-8b03-6d8f0d0c5d5a",
   "metadata": {},
   "source": [
    "This is unfortunately only slightly worse than the declared SSOCs, with 464 SSOCs not being featured at all."
   ]
  },
  {
   "cell_type": "code",
   "execution_count": 123,
   "id": "03b2d80c-b3ce-4186-910d-d1fe893582fc",
   "metadata": {},
   "outputs": [],
   "source": [
    "#original_ssocs = original_ssocs[~original_ssocs['Reported_SSOC_2020'].str.contains('X')]\n",
    "original_ssocs['Reported_SSOC_2020'] = original_ssocs['Reported_SSOC_2020'].astype('int64')\n",
    "data_w_original = pd.concat([data, mcf_final[['MCF_Job_Ad_ID']]], axis = 1).merge(original_ssocs,\n",
    "                                                                                  on = 'MCF_Job_Ad_ID',\n",
    "                                                                                  how = 'left')"
   ]
  },
  {
   "cell_type": "code",
   "execution_count": 124,
   "id": "4600b3a9-f446-4c32-b205-13e7f7996b9f",
   "metadata": {},
   "outputs": [],
   "source": [
    "SSOC_2020_counts = SSOC_2020_counts.merge(data_w_original.groupby('Reported_SSOC_2020').count()['Cleaned_Description'].reset_index(),\n",
    "                                          left_on = 'SSOC 2020',\n",
    "                                          right_on = 'Reported_SSOC_2020',\n",
    "                                          how = 'left').fillna(0)\n",
    "SSOC_2020_counts.drop('Reported_SSOC_2020', axis = 1, inplace = True)\n",
    "SSOC_2020_counts.columns = ['SSOC 2020', 'Description', 'Predicted_Count', 'Reported_Count']"
   ]
  },
  {
   "cell_type": "code",
   "execution_count": 128,
   "id": "958f1a4f-1f1c-412a-bf72-c5d148a80543",
   "metadata": {},
   "outputs": [
    {
     "name": "stdout",
     "output_type": "stream",
     "text": [
      "Number of SSOCs with 0 counts: 464\n",
      "Number of SSOCs with <10 counts: 718\n"
     ]
    }
   ],
   "source": [
    "print(f\"Number of SSOCs with 0 counts: {len(SSOC_2020_counts[SSOC_2020_counts['Reported_Count'] == 0])}\")\n",
    "print(f\"Number of SSOCs with <10 counts: {len(SSOC_2020_counts[SSOC_2020_counts['Reported_Count'] < 10])}\")"
   ]
  },
  {
   "cell_type": "markdown",
   "id": "fab94343-63a0-4b07-a2d8-65546a8155c3",
   "metadata": {},
   "source": [
    "Comparing the top 10 SSOCs for both the predicted and reported SSOCs... and there is a clear similarity here."
   ]
  },
  {
   "cell_type": "code",
   "execution_count": 143,
   "id": "734badb4-ef21-410c-9c7b-ddb1c5fdd107",
   "metadata": {},
   "outputs": [
    {
     "data": {
      "text/plain": [
       "21499    2045\n",
       "33499    1820\n",
       "25121    1538\n",
       "13499    1189\n",
       "41109    1142\n",
       "12211    1100\n",
       "29090    1095\n",
       "39990    1049\n",
       "33299     936\n",
       "24212     865\n",
       "Name: Reported_SSOC_2020, dtype: int64"
      ]
     },
     "execution_count": 143,
     "metadata": {},
     "output_type": "execute_result"
    }
   ],
   "source": [
    "data_w_original['Reported_SSOC_2020'].astype('str').str.slice(0, 5).value_counts().sort_values(ascending = False).head(10)"
   ]
  },
  {
   "cell_type": "code",
   "execution_count": 145,
   "id": "fb526012-d68a-495f-935b-97e8c33010a4",
   "metadata": {},
   "outputs": [
    {
     "data": {
      "text/plain": [
       "21499    3720\n",
       "33499    2621\n",
       "13499    1899\n",
       "25121    1654\n",
       "41109    1512\n",
       "12211    1490\n",
       "24212    1273\n",
       "33299    1001\n",
       "25190     898\n",
       "43112     841\n",
       "Name: SSOC 2020, dtype: int64"
      ]
     },
     "execution_count": 145,
     "metadata": {},
     "output_type": "execute_result"
    }
   ],
   "source": [
    "data['SSOC 2020'].astype('str').str.slice(0, 5).value_counts().sort_values(ascending = False).head(10)"
   ]
  },
  {
   "cell_type": "code",
   "execution_count": null,
   "id": "572a760f-a326-46f5-aef8-c4c8a43d49db",
   "metadata": {},
   "outputs": [],
   "source": []
  },
  {
   "cell_type": "code",
   "execution_count": null,
   "id": "1d7a24ca-b102-4336-861a-607b2492fa2c",
   "metadata": {},
   "outputs": [],
   "source": []
  }
 ],
 "metadata": {
  "kernelspec": {
   "display_name": "Python 3 (ipykernel)",
   "language": "python",
   "name": "python3"
  },
  "language_info": {
   "codemirror_mode": {
    "name": "ipython",
    "version": 3
   },
   "file_extension": ".py",
   "mimetype": "text/x-python",
   "name": "python",
   "nbconvert_exporter": "python",
   "pygments_lexer": "ipython3",
   "version": "3.9.5"
  }
 },
 "nbformat": 4,
 "nbformat_minor": 5
}
