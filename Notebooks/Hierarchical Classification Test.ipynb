{
 "cells": [
  {
   "cell_type": "markdown",
   "id": "67a4cfa3-0388-4310-847a-172026a114ae",
   "metadata": {},
   "source": [
    "# Hierarchical Classification\n",
    "\n",
    "Developing code to classify SSOCs using the taxonomy, see [this article by Shopify](https://shopify.engineering/categorizing-products-at-scale) for the inspiration."
   ]
  },
  {
   "cell_type": "markdown",
   "id": "d7305a60-58d9-40e3-badc-4c05d7d54dcd",
   "metadata": {
    "tags": []
   },
   "source": [
    "## Attempt 1: Using Kesler's construction and logistic regression"
   ]
  },
  {
   "cell_type": "markdown",
   "id": "9102a0e8-79fe-4aa7-bd5a-bff55e63d53d",
   "metadata": {
    "tags": []
   },
   "source": [
    "### Importing code and data"
   ]
  },
  {
   "cell_type": "markdown",
   "id": "f188de6e-5e70-42fa-90e2-574d258dc955",
   "metadata": {},
   "source": [
    "Make sure you have `spacy` and `en_core_web_lg` loaded into your environment first."
   ]
  },
  {
   "cell_type": "code",
   "execution_count": 1,
   "id": "7e2e47cc-fef2-46cd-8d5d-99f5d63b26c8",
   "metadata": {},
   "outputs": [],
   "source": [
    "import pandas as pd\n",
    "import spacy\n",
    "import numpy as np"
   ]
  },
  {
   "cell_type": "code",
   "execution_count": 15,
   "id": "520011ee-58bc-4c22-a34c-7a64c0a6629d",
   "metadata": {},
   "outputs": [],
   "source": [
    "nlp = spacy.load(\"en_core_web_lg\")"
   ]
  },
  {
   "cell_type": "code",
   "execution_count": 32,
   "id": "389f566d-bbf7-4c1e-af69-1b93a55ffab1",
   "metadata": {},
   "outputs": [],
   "source": [
    "mcf_labelled = pd.read_csv('../Data/Processed/Artifacts/MCF_Subset_WithLabels.csv')"
   ]
  },
  {
   "cell_type": "code",
   "execution_count": 33,
   "id": "3dff85e9-0ca0-40cf-9076-42a55747b0b5",
   "metadata": {},
   "outputs": [
    {
     "data": {
      "text/html": [
       "<div>\n",
       "<style scoped>\n",
       "    .dataframe tbody tr th:only-of-type {\n",
       "        vertical-align: middle;\n",
       "    }\n",
       "\n",
       "    .dataframe tbody tr th {\n",
       "        vertical-align: top;\n",
       "    }\n",
       "\n",
       "    .dataframe thead th {\n",
       "        text-align: right;\n",
       "    }\n",
       "</style>\n",
       "<table border=\"1\" class=\"dataframe\">\n",
       "  <thead>\n",
       "    <tr style=\"text-align: right;\">\n",
       "      <th></th>\n",
       "      <th>Job_ID</th>\n",
       "      <th>Title</th>\n",
       "      <th>Description</th>\n",
       "      <th>SSOC_2015</th>\n",
       "      <th>Cleaned_Description</th>\n",
       "      <th>Predicted SSOC</th>\n",
       "      <th>Reported SSOC Desc</th>\n",
       "      <th>Predicted SSOC Desc</th>\n",
       "    </tr>\n",
       "  </thead>\n",
       "  <tbody>\n",
       "    <tr>\n",
       "      <th>0</th>\n",
       "      <td>MCF-2020-0035227</td>\n",
       "      <td>pega solution architect (1 year contract)</td>\n",
       "      <td>&lt;p&gt;Technical specialists will be responsible f...</td>\n",
       "      <td>21499</td>\n",
       "      <td>pega solution architect year contract technica...</td>\n",
       "      <td>29090</td>\n",
       "      <td>Other engineering professionals n.e.c.</td>\n",
       "      <td>Other professionals n.e.c. (eg patent agent, t...</td>\n",
       "    </tr>\n",
       "    <tr>\n",
       "      <th>1</th>\n",
       "      <td>MCF-2020-0002456</td>\n",
       "      <td>architectural coordinator</td>\n",
       "      <td>&lt;ul&gt;\\n  &lt;li&gt;Qualified and Experienced Architec...</td>\n",
       "      <td>21649</td>\n",
       "      <td>architectural coordinator qualified and experi...</td>\n",
       "      <td>13499</td>\n",
       "      <td>Other related planners (eg traffic planner)</td>\n",
       "      <td>Other professional, financial, community and s...</td>\n",
       "    </tr>\n",
       "    <tr>\n",
       "      <th>2</th>\n",
       "      <td>MCF-2020-0183160</td>\n",
       "      <td>conveyancing secretary</td>\n",
       "      <td>&lt;p&gt;We are currently looking for Conveyancing S...</td>\n",
       "      <td>41201</td>\n",
       "      <td>conveyancing secretary we are currently lookin...</td>\n",
       "      <td>44170</td>\n",
       "      <td>Secretary</td>\n",
       "      <td>Legal clerk</td>\n",
       "    </tr>\n",
       "    <tr>\n",
       "      <th>3</th>\n",
       "      <td>MCF-2020-0228411</td>\n",
       "      <td>partner &amp; alliance sales manager</td>\n",
       "      <td>&lt;p&gt;Based in &lt;strong&gt;Singapore&lt;/strong&gt; and rep...</td>\n",
       "      <td>12211</td>\n",
       "      <td>partner alliance sales manager based in singap...</td>\n",
       "      <td>12211</td>\n",
       "      <td>Sales and marketing manager</td>\n",
       "      <td>Sales and marketing manager</td>\n",
       "    </tr>\n",
       "    <tr>\n",
       "      <th>4</th>\n",
       "      <td>MCF-2020-0117401</td>\n",
       "      <td>assistant chef / chef</td>\n",
       "      <td>&lt;p&gt;Position Purpose&lt;/p&gt;\\n&lt;p&gt;• Lead the kitchen...</td>\n",
       "      <td>34340</td>\n",
       "      <td>assistant chef chef position purpose lead the ...</td>\n",
       "      <td>94101</td>\n",
       "      <td>NaN</td>\n",
       "      <td>Kitchen assistant</td>\n",
       "    </tr>\n",
       "  </tbody>\n",
       "</table>\n",
       "</div>"
      ],
      "text/plain": [
       "             Job_ID                                      Title  \\\n",
       "0  MCF-2020-0035227  pega solution architect (1 year contract)   \n",
       "1  MCF-2020-0002456                  architectural coordinator   \n",
       "2  MCF-2020-0183160                     conveyancing secretary   \n",
       "3  MCF-2020-0228411           partner & alliance sales manager   \n",
       "4  MCF-2020-0117401                      assistant chef / chef   \n",
       "\n",
       "                                         Description  SSOC_2015  \\\n",
       "0  <p>Technical specialists will be responsible f...      21499   \n",
       "1  <ul>\\n  <li>Qualified and Experienced Architec...      21649   \n",
       "2  <p>We are currently looking for Conveyancing S...      41201   \n",
       "3  <p>Based in <strong>Singapore</strong> and rep...      12211   \n",
       "4  <p>Position Purpose</p>\\n<p>• Lead the kitchen...      34340   \n",
       "\n",
       "                                 Cleaned_Description  Predicted SSOC  \\\n",
       "0  pega solution architect year contract technica...           29090   \n",
       "1  architectural coordinator qualified and experi...           13499   \n",
       "2  conveyancing secretary we are currently lookin...           44170   \n",
       "3  partner alliance sales manager based in singap...           12211   \n",
       "4  assistant chef chef position purpose lead the ...           94101   \n",
       "\n",
       "                             Reported SSOC Desc  \\\n",
       "0        Other engineering professionals n.e.c.   \n",
       "1  Other related planners (eg traffic planner)    \n",
       "2                                     Secretary   \n",
       "3                  Sales and marketing manager    \n",
       "4                                           NaN   \n",
       "\n",
       "                                 Predicted SSOC Desc  \n",
       "0  Other professionals n.e.c. (eg patent agent, t...  \n",
       "1  Other professional, financial, community and s...  \n",
       "2                                       Legal clerk   \n",
       "3                       Sales and marketing manager   \n",
       "4                                  Kitchen assistant  "
      ]
     },
     "execution_count": 33,
     "metadata": {},
     "output_type": "execute_result"
    }
   ],
   "source": [
    "mcf_labelled.head()"
   ]
  },
  {
   "cell_type": "markdown",
   "id": "1a43005a-4a1d-4a92-897e-0a07e5358ecb",
   "metadata": {
    "tags": []
   },
   "source": [
    "### Preparing the data"
   ]
  },
  {
   "cell_type": "markdown",
   "id": "1c0de5e0-ad6d-4919-b492-e177a14a2789",
   "metadata": {},
   "source": [
    "Both the SSOC 2020 detailed definitions and tasks and the SSOC 2015v18 to SSOC 2020 mapping are obtained from the DOS website. The list of SSOCs for SSOC 2015v18 is obtained from Lucas."
   ]
  },
  {
   "cell_type": "code",
   "execution_count": 114,
   "id": "7b5c10ca-59fe-43e1-b64f-8687fbc29c82",
   "metadata": {},
   "outputs": [
    {
     "name": "stderr",
     "output_type": "stream",
     "text": [
      "c:\\users\\shaun\\pycharmprojects\\ssoc-autocoder\\venv\\lib\\site-packages\\openpyxl\\worksheet\\header_footer.py:48: UserWarning: Cannot parse header or footer so it will be ignored\n",
      "  warn(\"\"\"Cannot parse header or footer so it will be ignored\"\"\")\n"
     ]
    }
   ],
   "source": [
    "SSOC_Definitions = pd.read_excel('../Data/Raw/SSOC2020 Detailed Definitions.xlsx', skiprows = 4)"
   ]
  },
  {
   "cell_type": "code",
   "execution_count": 115,
   "id": "c69d5025-e241-417f-9891-b02134867073",
   "metadata": {},
   "outputs": [],
   "source": [
    "ssoc_v18_2020_mapping = pd.read_excel('../Data/Raw/Correspondence Tables between SSOC2020 and 2015v18.xlsx', skiprows = 4, sheet_name = 'SSOC2015(v2018)-SSOC2020')"
   ]
  },
  {
   "cell_type": "code",
   "execution_count": 121,
   "id": "87bac8a9-3d45-416e-b7ec-f29e2420d04a",
   "metadata": {},
   "outputs": [],
   "source": [
    "ssoc_v18 = pd.read_csv('../Data/Raw/ssoc_v2018.csv', encoding='iso-8859-1')\n",
    "ssoc_v18.dropna(inplace = True)\n",
    "ssoc_v18['SSOC 2015 (Version 2018)'] = ssoc_v18['ssoc_f'].astype('float').astype('int').astype('str')\n",
    "ssoc_v2020 = ssoc_v18.merge(ssoc_v18_2020_mapping, how = 'left', on = 'SSOC 2015 (Version 2018)')[['SSOC 2015 (Version 2018)', 'SSOC 2015 (Version 2018) Title', 'SSOC 2020', 'SSOC 2020 Title']]"
   ]
  },
  {
   "cell_type": "code",
   "execution_count": 124,
   "id": "40a3a895-e3df-48da-b442-0b1a311477da",
   "metadata": {},
   "outputs": [
    {
     "data": {
      "text/html": [
       "<div>\n",
       "<style scoped>\n",
       "    .dataframe tbody tr th:only-of-type {\n",
       "        vertical-align: middle;\n",
       "    }\n",
       "\n",
       "    .dataframe tbody tr th {\n",
       "        vertical-align: top;\n",
       "    }\n",
       "\n",
       "    .dataframe thead th {\n",
       "        text-align: right;\n",
       "    }\n",
       "</style>\n",
       "<table border=\"1\" class=\"dataframe\">\n",
       "  <thead>\n",
       "    <tr style=\"text-align: right;\">\n",
       "      <th></th>\n",
       "      <th>SSOC 2015 (Version 2018)</th>\n",
       "      <th>SSOC 2015 (Version 2018) Title</th>\n",
       "      <th>SSOC 2020</th>\n",
       "      <th>SSOC 2020 Title</th>\n",
       "    </tr>\n",
       "  </thead>\n",
       "  <tbody>\n",
       "    <tr>\n",
       "      <th>0</th>\n",
       "      <td>11110</td>\n",
       "      <td>Legislator</td>\n",
       "      <td>11110</td>\n",
       "      <td>Legislator</td>\n",
       "    </tr>\n",
       "    <tr>\n",
       "      <th>1</th>\n",
       "      <td>11121</td>\n",
       "      <td>Senior government official</td>\n",
       "      <td>11121</td>\n",
       "      <td>Senior government official</td>\n",
       "    </tr>\n",
       "    <tr>\n",
       "      <th>2</th>\n",
       "      <td>11122</td>\n",
       "      <td>Senior statutory board official</td>\n",
       "      <td>11122</td>\n",
       "      <td>Senior statutory board official</td>\n",
       "    </tr>\n",
       "    <tr>\n",
       "      <th>3</th>\n",
       "      <td>11140</td>\n",
       "      <td>Senior official of political party organisation</td>\n",
       "      <td>11140</td>\n",
       "      <td>Senior official of political party organisation</td>\n",
       "    </tr>\n",
       "    <tr>\n",
       "      <th>4</th>\n",
       "      <td>11150</td>\n",
       "      <td>Senior official of employers', workers' and ot...</td>\n",
       "      <td>11150</td>\n",
       "      <td>Senior official of employers', workers' and ot...</td>\n",
       "    </tr>\n",
       "  </tbody>\n",
       "</table>\n",
       "</div>"
      ],
      "text/plain": [
       "  SSOC 2015 (Version 2018)                     SSOC 2015 (Version 2018) Title  \\\n",
       "0                    11110                                         Legislator   \n",
       "1                    11121                         Senior government official   \n",
       "2                    11122                    Senior statutory board official   \n",
       "3                    11140    Senior official of political party organisation   \n",
       "4                    11150  Senior official of employers', workers' and ot...   \n",
       "\n",
       "  SSOC 2020                                    SSOC 2020 Title  \n",
       "0     11110                                         Legislator  \n",
       "1     11121                         Senior government official  \n",
       "2     11122                    Senior statutory board official  \n",
       "3     11140    Senior official of political party organisation  \n",
       "4     11150  Senior official of employers', workers' and ot...  "
      ]
     },
     "execution_count": 124,
     "metadata": {},
     "output_type": "execute_result"
    }
   ],
   "source": [
    "ssoc_v2020.head(5)"
   ]
  },
  {
   "cell_type": "markdown",
   "id": "89b2a43f-bc75-4967-ac96-bb070e22b114",
   "metadata": {},
   "source": [
    "Create the one-hot encoding table which includes the full SSOC taxonomy (from 1D to 5D levels) as the columns, and each 5D SSOC as the rows."
   ]
  },
  {
   "cell_type": "code",
   "execution_count": 66,
   "id": "1e251b33-400b-4258-9c75-7308318b89aa",
   "metadata": {},
   "outputs": [],
   "source": [
    "def compare(col, ssoc):\n",
    "    if len(ssoc) >= len(col):\n",
    "        return 1 if col == ssoc[0:len(col)] else 0\n",
    "    else:\n",
    "        return 0\n",
    "\n",
    "ssoc_pivoted = pd.DataFrame([], columns = ssoc_v18[~ssoc_v18['SSOC 2020'].str.contains('X')]['SSOC 2020'].tolist())\n",
    "for idx, ssoc in enumerate(ssoc_v18[~ssoc_v18['SSOC 2020'].str.contains('X')]['SSOC 2020'].tolist()):\n",
    "    ssoc_pivoted.loc[idx,:] = [compare(col, ssoc) for col in ssoc_pivoted.columns]\n",
    "ssoc_pivoted['SSOC'] = ssoc_v18[~ssoc_v18['SSOC 2020'].str.contains('X')]['SSOC 2020'].tolist()"
   ]
  },
  {
   "cell_type": "code",
   "execution_count": 67,
   "id": "7f3a8af5-b0c4-4546-a5ff-2b5ff3433819",
   "metadata": {},
   "outputs": [],
   "source": [
    "ssoc_final = ssoc_pivoted.set_index('SSOC')"
   ]
  },
  {
   "cell_type": "code",
   "execution_count": 126,
   "id": "223463ae-442f-43b0-ac9d-b44e970433ca",
   "metadata": {},
   "outputs": [
    {
     "data": {
      "text/html": [
       "<div>\n",
       "<style scoped>\n",
       "    .dataframe tbody tr th:only-of-type {\n",
       "        vertical-align: middle;\n",
       "    }\n",
       "\n",
       "    .dataframe tbody tr th {\n",
       "        vertical-align: top;\n",
       "    }\n",
       "\n",
       "    .dataframe thead th {\n",
       "        text-align: right;\n",
       "    }\n",
       "</style>\n",
       "<table border=\"1\" class=\"dataframe\">\n",
       "  <thead>\n",
       "    <tr style=\"text-align: right;\">\n",
       "      <th></th>\n",
       "      <th>1</th>\n",
       "      <th>11</th>\n",
       "      <th>111</th>\n",
       "      <th>1111</th>\n",
       "      <th>11110</th>\n",
       "      <th>1112</th>\n",
       "      <th>11121</th>\n",
       "      <th>11122</th>\n",
       "      <th>1114</th>\n",
       "      <th>11140</th>\n",
       "      <th>...</th>\n",
       "      <th>96262</th>\n",
       "      <th>96269</th>\n",
       "      <th>9627</th>\n",
       "      <th>96271</th>\n",
       "      <th>96272</th>\n",
       "      <th>9629</th>\n",
       "      <th>96291</th>\n",
       "      <th>96292</th>\n",
       "      <th>96293</th>\n",
       "      <th>96299</th>\n",
       "    </tr>\n",
       "    <tr>\n",
       "      <th>SSOC</th>\n",
       "      <th></th>\n",
       "      <th></th>\n",
       "      <th></th>\n",
       "      <th></th>\n",
       "      <th></th>\n",
       "      <th></th>\n",
       "      <th></th>\n",
       "      <th></th>\n",
       "      <th></th>\n",
       "      <th></th>\n",
       "      <th></th>\n",
       "      <th></th>\n",
       "      <th></th>\n",
       "      <th></th>\n",
       "      <th></th>\n",
       "      <th></th>\n",
       "      <th></th>\n",
       "      <th></th>\n",
       "      <th></th>\n",
       "      <th></th>\n",
       "      <th></th>\n",
       "    </tr>\n",
       "  </thead>\n",
       "  <tbody>\n",
       "    <tr>\n",
       "      <th>11110</th>\n",
       "      <td>1</td>\n",
       "      <td>1</td>\n",
       "      <td>1</td>\n",
       "      <td>1</td>\n",
       "      <td>1</td>\n",
       "      <td>0</td>\n",
       "      <td>0</td>\n",
       "      <td>0</td>\n",
       "      <td>0</td>\n",
       "      <td>0</td>\n",
       "      <td>...</td>\n",
       "      <td>0</td>\n",
       "      <td>0</td>\n",
       "      <td>0</td>\n",
       "      <td>0</td>\n",
       "      <td>0</td>\n",
       "      <td>0</td>\n",
       "      <td>0</td>\n",
       "      <td>0</td>\n",
       "      <td>0</td>\n",
       "      <td>0</td>\n",
       "    </tr>\n",
       "    <tr>\n",
       "      <th>11121</th>\n",
       "      <td>1</td>\n",
       "      <td>1</td>\n",
       "      <td>1</td>\n",
       "      <td>0</td>\n",
       "      <td>0</td>\n",
       "      <td>1</td>\n",
       "      <td>1</td>\n",
       "      <td>0</td>\n",
       "      <td>0</td>\n",
       "      <td>0</td>\n",
       "      <td>...</td>\n",
       "      <td>0</td>\n",
       "      <td>0</td>\n",
       "      <td>0</td>\n",
       "      <td>0</td>\n",
       "      <td>0</td>\n",
       "      <td>0</td>\n",
       "      <td>0</td>\n",
       "      <td>0</td>\n",
       "      <td>0</td>\n",
       "      <td>0</td>\n",
       "    </tr>\n",
       "    <tr>\n",
       "      <th>11122</th>\n",
       "      <td>1</td>\n",
       "      <td>1</td>\n",
       "      <td>1</td>\n",
       "      <td>0</td>\n",
       "      <td>0</td>\n",
       "      <td>1</td>\n",
       "      <td>0</td>\n",
       "      <td>1</td>\n",
       "      <td>0</td>\n",
       "      <td>0</td>\n",
       "      <td>...</td>\n",
       "      <td>0</td>\n",
       "      <td>0</td>\n",
       "      <td>0</td>\n",
       "      <td>0</td>\n",
       "      <td>0</td>\n",
       "      <td>0</td>\n",
       "      <td>0</td>\n",
       "      <td>0</td>\n",
       "      <td>0</td>\n",
       "      <td>0</td>\n",
       "    </tr>\n",
       "    <tr>\n",
       "      <th>11140</th>\n",
       "      <td>1</td>\n",
       "      <td>1</td>\n",
       "      <td>1</td>\n",
       "      <td>0</td>\n",
       "      <td>0</td>\n",
       "      <td>0</td>\n",
       "      <td>0</td>\n",
       "      <td>0</td>\n",
       "      <td>1</td>\n",
       "      <td>1</td>\n",
       "      <td>...</td>\n",
       "      <td>0</td>\n",
       "      <td>0</td>\n",
       "      <td>0</td>\n",
       "      <td>0</td>\n",
       "      <td>0</td>\n",
       "      <td>0</td>\n",
       "      <td>0</td>\n",
       "      <td>0</td>\n",
       "      <td>0</td>\n",
       "      <td>0</td>\n",
       "    </tr>\n",
       "    <tr>\n",
       "      <th>11150</th>\n",
       "      <td>1</td>\n",
       "      <td>1</td>\n",
       "      <td>1</td>\n",
       "      <td>0</td>\n",
       "      <td>0</td>\n",
       "      <td>0</td>\n",
       "      <td>0</td>\n",
       "      <td>0</td>\n",
       "      <td>0</td>\n",
       "      <td>0</td>\n",
       "      <td>...</td>\n",
       "      <td>0</td>\n",
       "      <td>0</td>\n",
       "      <td>0</td>\n",
       "      <td>0</td>\n",
       "      <td>0</td>\n",
       "      <td>0</td>\n",
       "      <td>0</td>\n",
       "      <td>0</td>\n",
       "      <td>0</td>\n",
       "      <td>0</td>\n",
       "    </tr>\n",
       "  </tbody>\n",
       "</table>\n",
       "<p>5 rows × 1605 columns</p>\n",
       "</div>"
      ],
      "text/plain": [
       "       1 11 111 1111 11110 1112 11121 11122 1114 11140  ... 96262 96269 9627  \\\n",
       "SSOC                                                    ...                    \n",
       "11110  1  1   1    1     1    0     0     0    0     0  ...     0     0    0   \n",
       "11121  1  1   1    0     0    1     1     0    0     0  ...     0     0    0   \n",
       "11122  1  1   1    0     0    1     0     1    0     0  ...     0     0    0   \n",
       "11140  1  1   1    0     0    0     0     0    1     1  ...     0     0    0   \n",
       "11150  1  1   1    0     0    0     0     0    0     0  ...     0     0    0   \n",
       "\n",
       "      96271 96272 9629 96291 96292 96293 96299  \n",
       "SSOC                                            \n",
       "11110     0     0    0     0     0     0     0  \n",
       "11121     0     0    0     0     0     0     0  \n",
       "11122     0     0    0     0     0     0     0  \n",
       "11140     0     0    0     0     0     0     0  \n",
       "11150     0     0    0     0     0     0     0  \n",
       "\n",
       "[5 rows x 1605 columns]"
      ]
     },
     "execution_count": 126,
     "metadata": {},
     "output_type": "execute_result"
    }
   ],
   "source": [
    "ssoc_final.head()"
   ]
  },
  {
   "cell_type": "markdown",
   "id": "d251084a-f1ea-48e1-84f6-cc7618248aec",
   "metadata": {},
   "source": [
    "Predicting only 1D SSOCs due to computational complexities"
   ]
  },
  {
   "cell_type": "code",
   "execution_count": 14,
   "id": "ea4debef-ba25-465f-90d1-9677a12a6e89",
   "metadata": {},
   "outputs": [],
   "source": [
    "ssoc_final_1d = ssoc_final[[str(i) for i in range(1, 10)]]"
   ]
  },
  {
   "cell_type": "code",
   "execution_count": 128,
   "id": "bdcb09dc-02a9-4834-a7c3-a8a0be162e4a",
   "metadata": {},
   "outputs": [
    {
     "data": {
      "text/plain": [
       "['1', '2', '3', '4', '5', '6', '7', '8', '9']"
      ]
     },
     "execution_count": 128,
     "metadata": {},
     "output_type": "execute_result"
    }
   ],
   "source": [
    "ssoc_final_1d.columns.tolist()"
   ]
  },
  {
   "cell_type": "markdown",
   "id": "cd61f148-0ce2-4833-a7f1-710819530332",
   "metadata": {},
   "source": [
    "Generating the text data and the SSOC codes"
   ]
  },
  {
   "cell_type": "code",
   "execution_count": 4,
   "id": "5186c54b-253b-4af4-9927-6552dcacc4a9",
   "metadata": {},
   "outputs": [],
   "source": [
    "SSOC_4D = SSOC_Definitions[SSOC_Definitions['SSOC 2020'].apply(len) == 4][['SSOC 2020', 'Tasks']]\n",
    "SSOC_4D.columns = ['4D SSOC', 'Tasks']"
   ]
  },
  {
   "cell_type": "code",
   "execution_count": 5,
   "id": "4f7fdf5b-79b3-4c36-8045-c593d3f695fd",
   "metadata": {},
   "outputs": [],
   "source": [
    "SSOC_5D = SSOC_Definitions[(SSOC_Definitions['SSOC 2020'].apply(len) == 5) & ~SSOC_Definitions['SSOC 2020'].str.contains('X')].reset_index(drop = True)\n",
    "SSOC_5D['4D SSOC'] = SSOC_5D['SSOC 2020'].str.slice(0, 4)\n",
    "SSOC_5D.drop('Tasks', axis = 1, inplace = True)"
   ]
  },
  {
   "cell_type": "code",
   "execution_count": 6,
   "id": "ae573ec3-bcda-4974-b565-f81f27ff749b",
   "metadata": {},
   "outputs": [],
   "source": [
    "SSOC_Final = SSOC_5D.merge(SSOC_4D, how = 'left', on = '4D SSOC')"
   ]
  },
  {
   "cell_type": "code",
   "execution_count": 7,
   "id": "bf8d765a-79e4-4d0a-8f57-91ea2166d41d",
   "metadata": {},
   "outputs": [],
   "source": [
    "SSOC_Final['Description'] = SSOC_Final['Detailed Definitions'] + \" \" + SSOC_Final['Tasks']"
   ]
  },
  {
   "cell_type": "code",
   "execution_count": 10,
   "id": "b1154b22-f8f0-4424-ac22-d08860b50111",
   "metadata": {},
   "outputs": [],
   "source": [
    "data = SSOC_Final[['SSOC 2020', 'Description']]"
   ]
  },
  {
   "cell_type": "markdown",
   "id": "f34e5a93-5ba6-4e52-832c-433bac648394",
   "metadata": {},
   "source": [
    "### Testing the implementation of Kesler's construction and logistic regression"
   ]
  },
  {
   "cell_type": "markdown",
   "id": "b82e1613-7084-42f5-872f-fddd25c46f04",
   "metadata": {},
   "source": [
    "For each feature vector, we have the 300-dimensional word embedding from `spacy` and the 9-dimensional one-hot encoding for the 1D SSOC taxonomy. Kesler's construction will also explode the number of rows (multiplied by 9). Final matrix should be a `(9n, 309)` matrix, where `n` = original number of rows."
   ]
  },
  {
   "cell_type": "code",
   "execution_count": 132,
   "id": "9b15f49c-cc71-44de-a276-90170a75b287",
   "metadata": {},
   "outputs": [
    {
     "name": "stdout",
     "output_type": "stream",
     "text": [
      "Wall time: 22.2 s\n"
     ]
    }
   ],
   "source": [
    "%%time\n",
    "\n",
    "# Initialise the output lists\n",
    "output = []\n",
    "labels = []\n",
    "\n",
    "# For each SSOC and its accompanying description\n",
    "for desc, ssoc in zip(data['Description'], data['SSOC 2020']):\n",
    "    \n",
    "    # Print the SSOC so we know how many more to go\n",
    "    print(ssoc + '\\r', end = \"\")\n",
    "    \n",
    "    # Generate the embedding vector\n",
    "    feature_vector = nlp(desc).vector\n",
    "    \n",
    "    # Iterate through each 1D SSOC\n",
    "    for target_class in ssoc_final_1d.columns.tolist():\n",
    "        \n",
    "        # Generate the label - if it is the first digit then the label should be 1, else 0\n",
    "        if target_class == ssoc[0]:\n",
    "            labels.append(1)\n",
    "        else:\n",
    "            labels.append(0)\n",
    "            \n",
    "        # Concatenate the word embedding and one-hot encoding into a single feature vector and append it\n",
    "        output.append(np.concatenate([feature_vector, ssoc_final_1d.loc[str(ssoc),:].tolist()], axis = None, dtype = 'float32'))"
   ]
  },
  {
   "cell_type": "code",
   "execution_count": 133,
   "id": "5cf695f3-52ea-485b-b152-7a241c17cbac",
   "metadata": {},
   "outputs": [
    {
     "name": "stdout",
     "output_type": "stream",
     "text": [
      "(8973, 309)\n",
      "(8973,)\n"
     ]
    }
   ],
   "source": [
    "X = np.array(output, dtype = 'float32')\n",
    "y = np.array(labels, dtype = 'int32')\n",
    "print(X.shape)\n",
    "print(y.shape)"
   ]
  },
  {
   "cell_type": "markdown",
   "id": "236d94fe-c8b1-43e9-b789-04b34f34b4e6",
   "metadata": {},
   "source": [
    "Run our (vanilla) logistic regression model now"
   ]
  },
  {
   "cell_type": "code",
   "execution_count": 134,
   "id": "d1bb167a-98e2-4578-a7c0-bc9c3eaa2692",
   "metadata": {},
   "outputs": [
    {
     "data": {
      "text/plain": [
       "LogisticRegression(max_iter=10000)"
      ]
     },
     "execution_count": 134,
     "metadata": {},
     "output_type": "execute_result"
    }
   ],
   "source": [
    "from sklearn.linear_model import LogisticRegression\n",
    "model = LogisticRegression(max_iter = 10000)\n",
    "model.fit(X, y)"
   ]
  },
  {
   "cell_type": "markdown",
   "id": "6e300bd8-ba1a-4e7c-910a-ecbe4dc35860",
   "metadata": {},
   "source": [
    "Checking the last 9 coefficients (for the one-hot encodings) - these don't look promising as they are very small numbers."
   ]
  },
  {
   "cell_type": "code",
   "execution_count": 135,
   "id": "9f541922-ff1d-4292-82eb-ed3ca9ee91dd",
   "metadata": {},
   "outputs": [
    {
     "data": {
      "text/plain": [
       "array([-0.00233757, -0.00238159, -0.00218955, -0.00157428, -0.002279  ,\n",
       "       -0.00293471, -0.00239002, -0.00238908, -0.00251154])"
      ]
     },
     "execution_count": 135,
     "metadata": {},
     "output_type": "execute_result"
    }
   ],
   "source": [
    "model.coef_[0][-9:]"
   ]
  },
  {
   "cell_type": "markdown",
   "id": "019499dd-3480-40ef-9137-95da2d86e9b7",
   "metadata": {},
   "source": [
    "Generate testing data for the first MCF description - note how we have to explode the number of rows as well"
   ]
  },
  {
   "cell_type": "code",
   "execution_count": 136,
   "id": "460b2fba-d594-497f-a3eb-55db15b4da63",
   "metadata": {},
   "outputs": [
    {
     "data": {
      "text/plain": [
       "(9, 309)"
      ]
     },
     "execution_count": 136,
     "metadata": {},
     "output_type": "execute_result"
    }
   ],
   "source": [
    "idx = 0\n",
    "ssoc = mcf_labelled['SSOC_2015'][idx]\n",
    "feature_vec = nlp(mcf_labelled['Description'][idx]).vector\n",
    "testing_example = []\n",
    "for i in range(1, 10):\n",
    "    row = np.concatenate([feature_vec, [1 if j == i else 0 for j in range(1, 10)]], axis = None)\n",
    "    testing_example.append(row)\n",
    "np.array(testing_example).shape"
   ]
  },
  {
   "cell_type": "markdown",
   "id": "2d64ec76-97be-43cd-ae95-4897c0baad25",
   "metadata": {},
   "source": [
    "Generate predictions and predicted probabilities"
   ]
  },
  {
   "cell_type": "code",
   "execution_count": 139,
   "id": "0aa8d738-3502-409c-af19-e8111d5701e1",
   "metadata": {},
   "outputs": [
    {
     "data": {
      "text/plain": [
       "array([0, 0, 0, 0, 0, 0, 0, 0, 0])"
      ]
     },
     "execution_count": 139,
     "metadata": {},
     "output_type": "execute_result"
    }
   ],
   "source": [
    "model.predict(np.array(testing_example))"
   ]
  },
  {
   "cell_type": "code",
   "execution_count": 140,
   "id": "202bcd2a-a420-4ac8-800c-ac49dc1180b0",
   "metadata": {},
   "outputs": [
    {
     "data": {
      "text/plain": [
       "array([[0.88884097, 0.11115903],\n",
       "       [0.88884532, 0.11115468],\n",
       "       [0.88882635, 0.11117365],\n",
       "       [0.88876553, 0.11123447],\n",
       "       [0.88883518, 0.11116482],\n",
       "       [0.88889996, 0.11110004],\n",
       "       [0.88884615, 0.11115385],\n",
       "       [0.88884606, 0.11115394],\n",
       "       [0.88885816, 0.11114184]])"
      ]
     },
     "execution_count": 140,
     "metadata": {},
     "output_type": "execute_result"
    }
   ],
   "source": [
    "model.predict_proba(np.array(testing_example))"
   ]
  },
  {
   "cell_type": "markdown",
   "id": "e4a23611-df54-45b3-a6df-7d31112ebaa5",
   "metadata": {},
   "source": [
    "The predicted probabilities change, but not by much at all. The predicted probabilities are also close to the class proportions (8/9 and 1/9). We test this further by adding class weights to the logistic regression."
   ]
  },
  {
   "cell_type": "code",
   "execution_count": 141,
   "id": "fc8d6b88-4602-4d74-918b-247cda2c398c",
   "metadata": {},
   "outputs": [
    {
     "data": {
      "text/plain": [
       "LogisticRegression(class_weight={0: 1, 1: 20}, max_iter=10000)"
      ]
     },
     "execution_count": 141,
     "metadata": {},
     "output_type": "execute_result"
    }
   ],
   "source": [
    "model2 = LogisticRegression(max_iter = 10000, class_weight = {0: 1, 1: 20})\n",
    "model2.fit(X, y)"
   ]
  },
  {
   "cell_type": "code",
   "execution_count": 143,
   "id": "1f9e618c-5795-4395-bcd7-02e9858418b0",
   "metadata": {},
   "outputs": [
    {
     "data": {
      "text/plain": [
       "array([1, 1, 1, 1, 1, 1, 1, 1, 1])"
      ]
     },
     "execution_count": 143,
     "metadata": {},
     "output_type": "execute_result"
    }
   ],
   "source": [
    "model2.predict(np.array(testing_example))"
   ]
  },
  {
   "cell_type": "code",
   "execution_count": 142,
   "id": "fbf8e709-4e00-43d1-a2e3-69e029a0605c",
   "metadata": {},
   "outputs": [
    {
     "data": {
      "text/plain": [
       "array([[0.28548713, 0.71451287],\n",
       "       [0.28548713, 0.71451287],\n",
       "       [0.28548713, 0.71451287],\n",
       "       ...,\n",
       "       [0.28587308, 0.71412692],\n",
       "       [0.28587308, 0.71412692],\n",
       "       [0.28587308, 0.71412692]])"
      ]
     },
     "execution_count": 142,
     "metadata": {},
     "output_type": "execute_result"
    }
   ],
   "source": [
    "model2.predict_proba(np.array(output))"
   ]
  },
  {
   "cell_type": "markdown",
   "id": "d8c09ef4-b982-4b7c-8ac6-6c5a8dadabec",
   "metadata": {},
   "source": [
    "Seems like this is not really working out - the model is simply predicting using the class proportions and weights. Next step is to try using a neural network layer instead."
   ]
  },
  {
   "cell_type": "code",
   "execution_count": null,
   "id": "dbd42388-97e8-4560-8d0f-d89bc153cc2a",
   "metadata": {},
   "outputs": [],
   "source": []
  },
  {
   "cell_type": "code",
   "execution_count": null,
   "id": "8f420a53-070c-46c7-8565-c8879a1a5810",
   "metadata": {},
   "outputs": [],
   "source": []
  }
 ],
 "metadata": {
  "kernelspec": {
   "display_name": "Python 3 (ipykernel)",
   "language": "python",
   "name": "python3"
  },
  "language_info": {
   "codemirror_mode": {
    "name": "ipython",
    "version": 3
   },
   "file_extension": ".py",
   "mimetype": "text/x-python",
   "name": "python",
   "nbconvert_exporter": "python",
   "pygments_lexer": "ipython3",
   "version": "3.9.5"
  }
 },
 "nbformat": 4,
 "nbformat_minor": 5
}
