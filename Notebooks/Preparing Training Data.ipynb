{
 "cells": [
  {
   "cell_type": "markdown",
   "id": "82ee4d3f-3311-47e4-9133-d4837d3fd72a",
   "metadata": {},
   "source": [
    "## Pulling"
   ]
  },
  {
   "cell_type": "code",
   "execution_count": 1,
   "id": "b228116c-f628-4ed0-bd50-58d72b1c2152",
   "metadata": {},
   "outputs": [],
   "source": [
    "import os\n",
    "os.chdir('..')"
   ]
  },
  {
   "cell_type": "code",
   "execution_count": 2,
   "id": "d86d7db5-935e-4ece-910b-9247a1696521",
   "metadata": {},
   "outputs": [],
   "source": [
    "import pandas as pd\n",
    "import requests\n",
    "import hashlib \n",
    "import time"
   ]
  },
  {
   "cell_type": "code",
   "execution_count": 35,
   "id": "d9298ea2-2b67-437c-a85b-1f9372604396",
   "metadata": {},
   "outputs": [],
   "source": [
    "df_preds = pd.read_csv('Data/Processed/MCF_Training_Set.csv').drop_duplicates()"
   ]
  },
  {
   "cell_type": "code",
   "execution_count": 36,
   "id": "c17ccdfe-0d28-431c-be4c-889ef49ce077",
   "metadata": {},
   "outputs": [],
   "source": [
    "df_preds['uuid'] = [hashlib.md5(job_id.encode()).hexdigest() for job_id in df_preds['MCF_Job_Ad_ID']]"
   ]
  },
  {
   "cell_type": "code",
   "execution_count": 37,
   "id": "3c26c742-4e30-4c0b-952e-20c22e43ceea",
   "metadata": {},
   "outputs": [
    {
     "data": {
      "text/plain": [
       "53888"
      ]
     },
     "execution_count": 37,
     "metadata": {},
     "output_type": "execute_result"
    }
   ],
   "source": [
    "len(df_preds)"
   ]
  },
  {
   "cell_type": "code",
   "execution_count": 43,
   "id": "fbc3e58d-2c67-4680-9309-a0a937e3cae0",
   "metadata": {},
   "outputs": [
    {
     "name": "stdout",
     "output_type": "stream",
     "text": [
      "Backing off for 2 seconds...\n",
      "Backing off for 2 seconds...\n",
      "Backing off for 2 seconds...\n",
      "Backing off for 2 seconds...\n",
      "Backing off for 2 seconds...\n",
      "Completed 53880...\r"
     ]
    }
   ],
   "source": [
    "base_url = 'https://api.mycareersfuture.gov.sg/v2/jobs'\n",
    "\n",
    "output = []\n",
    "for i, uuid in enumerate(df_preds['uuid']):\n",
    "    if i < 33653:\n",
    "        continue\n",
    "    req = requests.get(base_url + \"/\" + uuid)\n",
    "    if (i+1) % 10 == 0:\n",
    "        print(f\"Completed {i+1}...\\r\", end = '')\n",
    "        time.sleep(.1)\n",
    "    if req.status_code == 200:\n",
    "        output.append(req.json())\n",
    "    else:\n",
    "        print('Backing off for 2 seconds...')\n",
    "        time.sleep(2)\n",
    "        req = requests.get(base_url + \"/\" + uuid)\n",
    "        output.append(req.json())"
   ]
  },
  {
   "cell_type": "code",
   "execution_count": 44,
   "id": "319771ac-5977-4344-bef8-c707e1da3e2c",
   "metadata": {},
   "outputs": [
    {
     "data": {
      "text/plain": [
       "20235"
      ]
     },
     "execution_count": 44,
     "metadata": {},
     "output_type": "execute_result"
    }
   ],
   "source": [
    "len(output)"
   ]
  },
  {
   "cell_type": "code",
   "execution_count": 40,
   "id": "ba2d5350-1001-41c8-bd9e-fcb808d80f85",
   "metadata": {},
   "outputs": [],
   "source": [
    "import copy\n",
    "saved = copy.deepcopy(output)"
   ]
  },
  {
   "cell_type": "code",
   "execution_count": 45,
   "id": "f18c9dc3-92a8-4343-8552-492b3de7d031",
   "metadata": {},
   "outputs": [
    {
     "data": {
      "text/plain": [
       "33654"
      ]
     },
     "execution_count": 45,
     "metadata": {},
     "output_type": "execute_result"
    }
   ],
   "source": [
    "len(saved)"
   ]
  },
  {
   "cell_type": "code",
   "execution_count": 49,
   "id": "0c1202a5-e380-4ebc-823d-7c96f7395ae3",
   "metadata": {},
   "outputs": [],
   "source": [
    "final = saved + output[1:]"
   ]
  },
  {
   "cell_type": "code",
   "execution_count": 73,
   "id": "c8afc3ed-a6a7-4e79-906b-0d5162e15d57",
   "metadata": {},
   "outputs": [
    {
     "data": {
      "text/plain": [
       "{'uuid': '539df02ed701baaa6d20b5e8fb82b9cc',\n",
       " 'sourceCode': 'Employer Portal',\n",
       " 'title': 'Sales director',\n",
       " 'description': '<h3>Responsibilities:</h3>\\n<h3>· Lead the management team and being responsible for the APAC partnerships</h3>\\n<h3>· Growing the revenue through orchestrating execution and strategic planning across different channels of clients</h3>\\n<h3>· Ability to leverage across Business to Business clients and targeting the cross functionally – offering exemplary customer service support for the food safety clients across the region</h3>\\n<h3>· Growth of the services and education portfolio through key customers</h3>\\n<h3>Requirements:</h3>\\n<h3>· Minimum 10 years in the food industry</h3>\\n<h3>· Track record of success across business development and marketing across the region</h3>\\n<h3>· Must have excellent communication skills as well as sensitivity towards all markets</h3>\\n<h3>· Strong negotiations and ability to strategise and always see further opportunities across the region</h3>\\n<h3>· Ability to travel domestically and internationally</h3>',\n",
       " 'minimumYearsExperience': 10,\n",
       " 'shiftPattern': None,\n",
       " 'schemes': [],\n",
       " 'otherRequirements': None,\n",
       " 'ssocCode': 1808,\n",
       " 'workingHours': None,\n",
       " 'numberOfVacancies': 1,\n",
       " 'psdUrl': None,\n",
       " 'categories': [{'id': 15, 'category': 'F&B'},\n",
       "  {'id': 16, 'category': 'General Management'},\n",
       "  {'id': 26, 'category': 'Marketing / Public Relations'},\n",
       "  {'id': 35, 'category': 'Sales / Retail'}],\n",
       " 'employmentTypes': [{'id': 3, 'employmentType': 'Contract'}],\n",
       " 'positionLevels': [{'id': 1, 'position': 'Senior Management'}],\n",
       " 'status': {'id': 9, 'jobStatus': 'Closed'},\n",
       " 'skills': [{'id': 59,\n",
       "   'skill': 'Account Management',\n",
       "   'uuid': '09f0c5159c5e34504e453eff3fc70324',\n",
       "   'confidence': None,\n",
       "   '_links': {'self': {'href': 'https://api.mycareersfuture.gov.sg/v2/skills/09f0c5159c5e34504e453eff3fc70324'},\n",
       "    'jobs': {'href': 'https://api.mycareersfuture.gov.sg/v2/skills/09f0c5159c5e34504e453eff3fc70324/jobs'}}},\n",
       "  {'id': 8678,\n",
       "   'skill': 'Strategic Planning',\n",
       "   'uuid': '1056ea32e61274889e2f1b9c48a5a515',\n",
       "   'confidence': None,\n",
       "   '_links': {'self': {'href': 'https://api.mycareersfuture.gov.sg/v2/skills/1056ea32e61274889e2f1b9c48a5a515'},\n",
       "    'jobs': {'href': 'https://api.mycareersfuture.gov.sg/v2/skills/1056ea32e61274889e2f1b9c48a5a515/jobs'}}},\n",
       "  {'id': 7819,\n",
       "   'skill': 'Sales',\n",
       "   'uuid': '11ff9f68afb6b8b5b8eda218d7c83a65',\n",
       "   'confidence': None,\n",
       "   '_links': {'self': {'href': 'https://api.mycareersfuture.gov.sg/v2/skills/11ff9f68afb6b8b5b8eda218d7c83a65'},\n",
       "    'jobs': {'href': 'https://api.mycareersfuture.gov.sg/v2/skills/11ff9f68afb6b8b5b8eda218d7c83a65/jobs'}}},\n",
       "  {'id': 5006,\n",
       "   'skill': 'Leadership',\n",
       "   'uuid': '1f0aef4f272d1541fc70d2e3b3fbccf7',\n",
       "   'confidence': None,\n",
       "   '_links': {'self': {'href': 'https://api.mycareersfuture.gov.sg/v2/skills/1f0aef4f272d1541fc70d2e3b3fbccf7'},\n",
       "    'jobs': {'href': 'https://api.mycareersfuture.gov.sg/v2/skills/1f0aef4f272d1541fc70d2e3b3fbccf7/jobs'}}},\n",
       "  {'id': 3520,\n",
       "   'skill': 'Food Safety',\n",
       "   'uuid': '337f066be0dbb0a5fc329b19aaf5f365',\n",
       "   'confidence': None,\n",
       "   '_links': {'self': {'href': 'https://api.mycareersfuture.gov.sg/v2/skills/337f066be0dbb0a5fc329b19aaf5f365'},\n",
       "    'jobs': {'href': 'https://api.mycareersfuture.gov.sg/v2/skills/337f066be0dbb0a5fc329b19aaf5f365/jobs'}}},\n",
       "  {'id': 7837,\n",
       "   'skill': 'Sales Management',\n",
       "   'uuid': '5570b1274928746e87170e404f4553a1',\n",
       "   'confidence': None,\n",
       "   '_links': {'self': {'href': 'https://api.mycareersfuture.gov.sg/v2/skills/5570b1274928746e87170e404f4553a1'},\n",
       "    'jobs': {'href': 'https://api.mycareersfuture.gov.sg/v2/skills/5570b1274928746e87170e404f4553a1/jobs'}}},\n",
       "  {'id': 100205,\n",
       "   'skill': 'Partnership',\n",
       "   'uuid': '5e4c2b30e54de67b17ff0f2456dbc71a',\n",
       "   'confidence': None,\n",
       "   '_links': {'self': {'href': 'https://api.mycareersfuture.gov.sg/v2/skills/5e4c2b30e54de67b17ff0f2456dbc71a'},\n",
       "    'jobs': {'href': 'https://api.mycareersfuture.gov.sg/v2/skills/5e4c2b30e54de67b17ff0f2456dbc71a/jobs'}}},\n",
       "  {'id': 3511,\n",
       "   'skill': 'Food Industry',\n",
       "   'uuid': '77429758d15f7e54cd0c35ebe29378a5',\n",
       "   'confidence': None,\n",
       "   '_links': {'self': {'href': 'https://api.mycareersfuture.gov.sg/v2/skills/77429758d15f7e54cd0c35ebe29378a5'},\n",
       "    'jobs': {'href': 'https://api.mycareersfuture.gov.sg/v2/skills/77429758d15f7e54cd0c35ebe29378a5/jobs'}}},\n",
       "  {'id': 101635,\n",
       "   'skill': 'Targeting',\n",
       "   'uuid': '78781cc1291aa54a9008720982b04563',\n",
       "   'confidence': None,\n",
       "   '_links': {'self': {'href': 'https://api.mycareersfuture.gov.sg/v2/skills/78781cc1291aa54a9008720982b04563'},\n",
       "    'jobs': {'href': 'https://api.mycareersfuture.gov.sg/v2/skills/78781cc1291aa54a9008720982b04563/jobs'}}},\n",
       "  {'id': 8692,\n",
       "   'skill': 'Strategy',\n",
       "   'uuid': '83de191c12c3c109006c4593128d8bb6',\n",
       "   'confidence': None,\n",
       "   '_links': {'self': {'href': 'https://api.mycareersfuture.gov.sg/v2/skills/83de191c12c3c109006c4593128d8bb6'},\n",
       "    'jobs': {'href': 'https://api.mycareersfuture.gov.sg/v2/skills/83de191c12c3c109006c4593128d8bb6/jobs'}}},\n",
       "  {'id': 108297,\n",
       "   'skill': 'business to business clients',\n",
       "   'uuid': '882274f0578605cb1c794381cf36eb8d',\n",
       "   'confidence': None,\n",
       "   '_links': {'self': {'href': 'https://api.mycareersfuture.gov.sg/v2/skills/882274f0578605cb1c794381cf36eb8d'},\n",
       "    'jobs': {'href': 'https://api.mycareersfuture.gov.sg/v2/skills/882274f0578605cb1c794381cf36eb8d/jobs'}}},\n",
       "  {'id': 6020,\n",
       "   'skill': 'New Business Development',\n",
       "   'uuid': 'b0663aff7f5d34d384fa0010772717c0',\n",
       "   'confidence': None,\n",
       "   '_links': {'self': {'href': 'https://api.mycareersfuture.gov.sg/v2/skills/b0663aff7f5d34d384fa0010772717c0'},\n",
       "    'jobs': {'href': 'https://api.mycareersfuture.gov.sg/v2/skills/b0663aff7f5d34d384fa0010772717c0/jobs'}}},\n",
       "  {'id': 983,\n",
       "   'skill': 'Business Development',\n",
       "   'uuid': 'db01e6ae90744aebba2ed0faefb8ceed',\n",
       "   'confidence': None,\n",
       "   '_links': {'self': {'href': 'https://api.mycareersfuture.gov.sg/v2/skills/db01e6ae90744aebba2ed0faefb8ceed'},\n",
       "    'jobs': {'href': 'https://api.mycareersfuture.gov.sg/v2/skills/db01e6ae90744aebba2ed0faefb8ceed/jobs'}}},\n",
       "  {'id': 100162,\n",
       "   'skill': 'customer service support',\n",
       "   'uuid': 'f0de07bbb529e60f3934fd8a8bf74acb',\n",
       "   'confidence': None,\n",
       "   '_links': {'self': {'href': 'https://api.mycareersfuture.gov.sg/v2/skills/f0de07bbb529e60f3934fd8a8bf74acb'},\n",
       "    'jobs': {'href': 'https://api.mycareersfuture.gov.sg/v2/skills/f0de07bbb529e60f3934fd8a8bf74acb/jobs'}}},\n",
       "  {'id': 5319,\n",
       "   'skill': 'Management',\n",
       "   'uuid': 'fe4dbcab9b910577e5035e97ac068dae',\n",
       "   'confidence': None,\n",
       "   '_links': {'self': {'href': 'https://api.mycareersfuture.gov.sg/v2/skills/fe4dbcab9b910577e5035e97ac068dae'},\n",
       "    'jobs': {'href': 'https://api.mycareersfuture.gov.sg/v2/skills/fe4dbcab9b910577e5035e97ac068dae/jobs'}}}],\n",
       " 'ssecEqa': '70',\n",
       " 'ssecFos': '0511',\n",
       " 'postedCompany': {'uen': '201803664H',\n",
       "  'description': None,\n",
       "  'name': 'ARGYLL SCOTT CONSULTING PTE. LTD.',\n",
       "  'ssicCode': '70201',\n",
       "  'registrationTypeId': 1,\n",
       "  'employeeCount': None,\n",
       "  'companyUrl': None,\n",
       "  'lastSyncDate': '2021-09-24T05:40:46.000Z',\n",
       "  'badges': [{'badgeType': 'Tripartite',\n",
       "    'badgeCode': '002',\n",
       "    'badgeName': 'Tripartite Standard on Flexible Work Arrangements',\n",
       "    'description': 'Implementing FWAs successfully through training and senior management support.',\n",
       "    'url': 'https://www.tafep.sg/flexible-work-arrangements',\n",
       "    'source': 'Tafep',\n",
       "    'startDate': '2021-09-30',\n",
       "    'expiryDate': '2022-09-30'},\n",
       "   {'badgeType': 'Tripartite',\n",
       "    'badgeCode': '004',\n",
       "    'badgeName': 'Tripartite Standard on Recruitment Practices',\n",
       "    'description': 'Adopting fair merit-based and inclusive hiring practices to better attract and retain talent.',\n",
       "    'url': 'https://www.tafep.sg/recruitment-practices',\n",
       "    'source': 'Tafep',\n",
       "    'startDate': '2021-09-30',\n",
       "    'expiryDate': '2022-09-30'},\n",
       "   {'badgeType': 'Tripartite',\n",
       "    'badgeCode': '007',\n",
       "    'badgeName': 'Tripartite Standard on Unpaid Leave for Unexpected Care Needs',\n",
       "    'description': 'Supporting employees’ caregiving needs with unpaid leave.',\n",
       "    'url': 'https://www.tafep.sg/unpaid-leave-unexpected-care-needs',\n",
       "    'source': 'Tafep',\n",
       "    'startDate': '2021-09-30',\n",
       "    'expiryDate': '2022-09-30'}],\n",
       "  '_links': {'self': {'href': 'https://api.mycareersfuture.gov.sg/v2/companies/201803664H'},\n",
       "   'jobs': {'href': 'https://api.mycareersfuture.gov.sg/v2/companies/201803664H/jobs'},\n",
       "   'addresses': {'href': 'https://api.mycareersfuture.gov.sg/v2/companies/201803664H/addresses'},\n",
       "   'schemes': {'href': 'https://api.mycareersfuture.gov.sg/v2/companies/201803664H/schemes'}},\n",
       "  'logoFileName': None,\n",
       "  'logoUploadPath': None},\n",
       " 'hiringCompany': None,\n",
       " 'screeningQuestions': [],\n",
       " 'address': {'overseasCountry': None,\n",
       "  'foreignAddress1': None,\n",
       "  'foreignAddress2': None,\n",
       "  'block': '36 / #03-118',\n",
       "  'street': 'Robinson Road',\n",
       "  'floor': None,\n",
       "  'unit': None,\n",
       "  'building': 'We Work City House',\n",
       "  'postalCode': '068877',\n",
       "  'isOverseas': False,\n",
       "  'districts': [{'id': 1,\n",
       "    'location': 'D01 Cecil, Marina, People’s Park, Raffles Place',\n",
       "    'region': 'Central',\n",
       "    'sectors': ['01', '02', '03', '04', '05', '06'],\n",
       "    'regionId': 'Central'}],\n",
       "  'lat': 1.2812201995343,\n",
       "  'lng': 103.849798336253},\n",
       " 'metadata': {'jobPostId': 'MCF-2020-0004327',\n",
       "  'deletedAt': '2020-01-21T22:38:50.000Z',\n",
       "  'createdBy': '4bf28ef0-5bd5-43b9-bd52-0b622eac482f',\n",
       "  'createdAt': '2020-01-07T08:40:25.000Z',\n",
       "  'updatedAt': '2020-01-22T10:39:33.000Z',\n",
       "  'editCount': 0,\n",
       "  'repostCount': 0,\n",
       "  'totalNumberOfView': 53,\n",
       "  'newPostingDate': '2020-01-07',\n",
       "  'originalPostingDate': '2020-01-07',\n",
       "  'expiryDate': '2020-01-21',\n",
       "  'totalNumberJobApplication': 0,\n",
       "  'isPostedOnBehalf': False,\n",
       "  'isHideSalary': False,\n",
       "  'isHideCompanyAddress': False,\n",
       "  'isHideHiringEmployerName': False,\n",
       "  'isHideEmployerName': False,\n",
       "  'jobDetailsUrl': 'https://www.mycareersfuture.gov.sg/job/food-and-beverage/sales-director-argyll-scott-consulting-539df02ed701baaa6d20b5e8fb82b9cc'},\n",
       " 'salary': {'maximum': 15000,\n",
       "  'minimum': 12000,\n",
       "  'type': {'id': 4, 'salaryType': 'Monthly'}},\n",
       " '_links': {'self': {'href': 'https://api.mycareersfuture.gov.sg/v2/jobs/539df02ed701baaa6d20b5e8fb82b9cc'},\n",
       "  'screeningQuestions': {'href': 'https://api.mycareersfuture.gov.sg/v2/jobs/539df02ed701baaa6d20b5e8fb82b9cc/screening-questions'}}}"
      ]
     },
     "execution_count": 73,
     "metadata": {},
     "output_type": "execute_result"
    }
   ],
   "source": [
    "final[0]"
   ]
  },
  {
   "cell_type": "code",
   "execution_count": 51,
   "id": "03d3cf26-3bdc-46f6-9b85-0c0692d20c00",
   "metadata": {},
   "outputs": [],
   "source": [
    "def extract_mcf_data(json):\n",
    "    \n",
    "    output = {}\n",
    "    transfer = ['uuid', 'title', 'description', 'minimumYearsExperience', 'numberOfVacancies']\n",
    "    for key in transfer:\n",
    "        output[key] = json[key]\n",
    "\n",
    "    # Extract skills\n",
    "    output['skills'] = ', '.join([entry['skill'] for entry in json['skills']])\n",
    "    \n",
    "    # Extract hiring company\n",
    "    company = ['name', 'description', 'ssicCode', 'employeeCount']\n",
    "    if json['metadata']['isPostedOnBehalf']:\n",
    "        company_col = 'hiringCompany'\n",
    "    else:\n",
    "        company_col = 'postedCompany'\n",
    "    for key in company:\n",
    "        output['company_' + key] = json[company_col][key]\n",
    "        \n",
    "    # Extract metadata\n",
    "    metadata = ['originalPostingDate', 'newPostingDate', 'expiryDate', 'totalNumberOfView', 'totalNumberJobApplication']\n",
    "    for key in metadata:\n",
    "        output[key] = json['metadata'][key]\n",
    "\n",
    "    \n",
    "    # Extract salary\n",
    "    salary = ['maximum', 'minimum']\n",
    "    for key in salary:\n",
    "        output['salary_' + key] = json['salary'][key]\n",
    "    \n",
    "    return output"
   ]
  },
  {
   "cell_type": "code",
   "execution_count": 68,
   "id": "5b16df1f-6c68-43c7-b5ff-c056428f93a7",
   "metadata": {},
   "outputs": [],
   "source": [
    "mcf_data = df_preds.merge(pd.DataFrame([extract_mcf_data(entry) for entry in final]), how = 'left', on = 'uuid')\n"
   ]
  },
  {
   "cell_type": "code",
   "execution_count": 71,
   "id": "b4681cb5-0491-4e76-b324-73811b664c2f",
   "metadata": {},
   "outputs": [],
   "source": [
    "mcf_final = mcf_data[mcf_data['title'].notnull()].drop_duplicates('description')"
   ]
  },
  {
   "cell_type": "code",
   "execution_count": 75,
   "id": "f7bb42f5-2a38-4b0c-a0fa-8bc19a22125a",
   "metadata": {},
   "outputs": [],
   "source": [
    "mcf_final.to_csv('Data/Processed/MCF_Training_Set_Full.csv', index = False)"
   ]
  },
  {
   "cell_type": "code",
   "execution_count": 74,
   "id": "9f1492a5-1e64-48ec-bda7-00ae6f8b974c",
   "metadata": {},
   "outputs": [
    {
     "data": {
      "text/plain": [
       "(42844, 19)"
      ]
     },
     "execution_count": 74,
     "metadata": {},
     "output_type": "execute_result"
    }
   ],
   "source": [
    "mcf_final.shape"
   ]
  },
  {
   "cell_type": "code",
   "execution_count": 2,
   "id": "e65ad504-8fcd-4ecc-9fe8-4971874027b0",
   "metadata": {},
   "outputs": [],
   "source": [
    "import os\n",
    "os.chdir('C:\\\\Users\\\\shaun\\\\PycharmProjects\\\\ssoc-autocoder')\n",
    "import pandas as pd"
   ]
  },
  {
   "cell_type": "code",
   "execution_count": 3,
   "id": "b531175b-6cc4-4fdb-b52f-a0a3631d2e02",
   "metadata": {},
   "outputs": [],
   "source": [
    "mcf_final = pd.read_csv('Data/Processed/MCF_Training_Set_Full.csv', low_memory = False)\n",
    "output_df = mcf_final[['description', 'Predicted_SSOC_2020']]\n",
    "output_df.columns = ['Description', 'SSOC 2020']"
   ]
  },
  {
   "cell_type": "code",
   "execution_count": 4,
   "id": "e3ce0d48-1975-4526-a618-5456c83a5d81",
   "metadata": {},
   "outputs": [],
   "source": [
    "from ssoc_autocoder import processing"
   ]
  },
  {
   "cell_type": "code",
   "execution_count": 7,
   "id": "f99906a8-19cd-44ff-9949-5a4f7e26a933",
   "metadata": {},
   "outputs": [
    {
     "name": "stdout",
     "output_type": "stream",
     "text": [
      "Error found in index 3071...\n",
      "Error found in index 3688...\n",
      "Error found in index 7005...\n",
      "Error found in index 18283...\n",
      "Error found in index 19336...\n",
      "Error found in index 25188...\n",
      "Error found in index 27221...\n",
      "Error found in index 34863...\n",
      "Error found in index 38110...\n",
      "Error found in index 40663...\n",
      "Error found in index 41018...\n",
      "Processing 42800/42844...\r"
     ]
    }
   ],
   "source": [
    "cleaned = []\n",
    "for i, desc in enumerate(output_df['Description']):\n",
    "    if (i+1) % 100 == 0:\n",
    "        print(f'Processing {i+1}/{len(output_df)}...\\r', end = '')\n",
    "    try:\n",
    "        cleaned_desc = processing.process_text(desc)\n",
    "    except KeyboardInterrupt:\n",
    "        break \n",
    "    except:\n",
    "        print(f'Error found in index {i}...')\n",
    "        cleaned_desc = processing.final_cleaning(desc)\n",
    "    cleaned.append(cleaned_desc)"
   ]
  },
  {
   "cell_type": "code",
   "execution_count": 8,
   "id": "0ccbfb8e-685c-440d-ad56-2783ccb3a7df",
   "metadata": {},
   "outputs": [
    {
     "name": "stderr",
     "output_type": "stream",
     "text": [
      "C:\\Users\\shaun\\AppData\\Local\\Temp/ipykernel_9464/3941138137.py:1: SettingWithCopyWarning: \n",
      "A value is trying to be set on a copy of a slice from a DataFrame.\n",
      "Try using .loc[row_indexer,col_indexer] = value instead\n",
      "\n",
      "See the caveats in the documentation: https://pandas.pydata.org/pandas-docs/stable/user_guide/indexing.html#returning-a-view-versus-a-copy\n",
      "  output_df['Cleaned_Description'] = cleaned\n"
     ]
    }
   ],
   "source": [
    "output_df['Cleaned_Description'] = cleaned"
   ]
  },
  {
   "cell_type": "code",
   "execution_count": 9,
   "id": "d42768bf-54fe-40bb-b46a-26fb687665b9",
   "metadata": {},
   "outputs": [],
   "source": [
    "output_df.to_csv('Data/Processed/training/train_full.csv', index = False)"
   ]
  },
  {
   "cell_type": "code",
   "execution_count": 37,
   "id": "eb2e0811-8989-42e3-af01-c2de009842c9",
   "metadata": {},
   "outputs": [
    {
     "data": {
      "text/plain": [
       "\"1 Data entry duties and administrative duties include: Preparing quotation, final bill of quantity and sales invoices for the project you are assigned to. 2 Support project manager/ M&E coordinator. 3 Handling emails related to the project. 4 Ability to be on time and complete task in an efficient manner. 5 Manage databases and admin systems. 6 Organizing, storing paperwork, documents and computer-based documents. 7 Assisting in other office ad-ho duties when required. Skills Requirements. 1 Neat administrative and good organisational skills. 2 Able to thrive and work individually and independently. 3 Experienced and proficient in Excel. 4 Communication in English. 5 Possess ability to work on own initiative. 6 Fast learner. 7 Candidate must possess at least N's Level and above. Other information. 1 5.5 working days (alternate Saturdays off) (Mon - Fri: 8:30am to 5:30pm, Sat: 8:30am to 1pm) . 2 Location is in Kaki Bukit. 3 Full time job. 4 Work life balance. Kindly state your expected salary & date of availability when submitting your application. Kindly note that only shortlisted candidates will be notified.\""
      ]
     },
     "execution_count": 37,
     "metadata": {},
     "output_type": "execute_result"
    }
   ],
   "source": [
    "processing.final_cleaning(output_df['Description'][41018])"
   ]
  },
  {
   "cell_type": "code",
   "execution_count": 38,
   "id": "617272ed-78b4-480e-9279-327db30ac18e",
   "metadata": {},
   "outputs": [
    {
     "data": {
      "text/plain": [
       "'<p>Responsibilities\\t\\t\\t\\t\\t\\t\\t\\t</p>\\n<p>\\t\\t\\t\\t\\t\\t\\t\\t</p>\\n<p>1\\tData entry duties and administrative duties include: Preparing quotation, final bill of quantity and sales invoices for the project you are assigned to\\t\\t\\t\\t\\t\\t\\t</p>\\n<p>2\\tSupport project manager/ M&amp;E coordinator\\t\\t\\t\\t\\t\\t\\t</p>\\n<p>3\\tHandling emails related to the project\\t\\t\\t\\t\\t\\t\\t</p>\\n<p>4\\tAbility to be on time and complete task in an efficient manner\\t\\t\\t\\t\\t\\t\\t</p>\\n<p>5\\tManage databases and admin systems\\t\\t\\t\\t\\t\\t\\t</p>\\n<p>6\\tOrganizing, storing paperwork, documents and computer-based documents\\t\\t\\t\\t\\t\\t\\t</p>\\n<p>7\\tAssisting in other office ad-ho duties when required\\t\\t\\t\\t\\t\\t\\t</p>\\n<p>\\t\\t\\t\\t\\t\\t\\t\\t</p>\\n<p>Skills Requirements\\t\\t\\t\\t\\t\\t\\t\\t</p>\\n<p>\\t\\t\\t\\t\\t\\t\\t\\t</p>\\n<p>1\\tNeat administrative and good organisational skills\\t\\t\\t\\t\\t\\t\\t</p>\\n<p>2\\tAble to thrive and work individually and independently\\t\\t\\t\\t\\t\\t\\t</p>\\n<p>3\\tExperienced and proficient in Excel\\t\\t\\t\\t\\t\\t\\t</p>\\n<p>4\\tCommunication in English\\t\\t\\t\\t\\t\\t\\t</p>\\n<p>5\\tPossess ability to work on own initiative\\t\\t\\t\\t\\t\\t\\t</p>\\n<p>6\\tFast learner\\t\\t\\t\\t\\t\\t\\t</p>\\n<p>7\\tCandidate must possess at least N’s Level and above\\t\\t\\t\\t\\t\\t\\t</p>\\n<p>\\t\\t\\t\\t\\t\\t\\t\\t</p>\\n<p>Other information\\t\\t\\t\\t\\t\\t\\t\\t</p>\\n<p>1\\t5.5 working days (alternate Saturdays off) (Mon - Fri: 8:30am to 5:30pm, Sat: 8:30am to 1pm)\\t\\t\\t\\t\\t\\t\\t</p>\\n<p>2\\tLocation is in Kaki Bukit\\t\\t\\t\\t\\t\\t\\t</p>\\n<p>3\\tFull time job\\t\\t\\t\\t\\t\\t\\t</p>\\n<p>4\\tWork life balance\\t\\t\\t\\t\\t\\t\\t</p>\\n<p>\\t\\t\\t\\t\\t\\t\\t</p>\\n<p>\\t\\t\\t\\t\\t\\t\\t\\t</p>\\n<p>Kindly state your expected salary &amp; date of availability when submitting your application.\\t\\t\\t\\t\\t\\t\\t\\t</p>\\n<p>Kindly note that only shortlisted candidates will be notified.\\t\\t\\t\\t\\t\\t\\t\\t</p>\\n<p><br></p>'"
      ]
     },
     "execution_count": 38,
     "metadata": {},
     "output_type": "execute_result"
    }
   ],
   "source": [
    "output_df['Description'][41018]"
   ]
  },
  {
   "cell_type": "code",
   "execution_count": null,
   "id": "b81a3781-b55f-469a-94a2-bb282ab249fa",
   "metadata": {},
   "outputs": [],
   "source": []
  }
 ],
 "metadata": {
  "kernelspec": {
   "display_name": "Python 3 (ipykernel)",
   "language": "python",
   "name": "python3"
  },
  "language_info": {
   "codemirror_mode": {
    "name": "ipython",
    "version": 3
   },
   "file_extension": ".py",
   "mimetype": "text/x-python",
   "name": "python",
   "nbconvert_exporter": "python",
   "pygments_lexer": "ipython3",
   "version": "3.9.5"
  }
 },
 "nbformat": 4,
 "nbformat_minor": 5
}
