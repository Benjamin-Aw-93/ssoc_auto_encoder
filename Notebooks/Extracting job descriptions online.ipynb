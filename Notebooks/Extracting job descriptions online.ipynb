{
 "cells": [
  {
   "cell_type": "markdown",
   "id": "4e3de980",
   "metadata": {},
   "source": [
    "# Extracting job descriptions online"
   ]
  },
  {
   "cell_type": "code",
   "execution_count": 1,
   "id": "5c607abe",
   "metadata": {},
   "outputs": [],
   "source": [
    "import os\n",
    "os.chdir('..')"
   ]
  },
  {
   "cell_type": "markdown",
   "id": "4c0e7b75",
   "metadata": {},
   "source": [
    "Reading in the necessary data"
   ]
  },
  {
   "cell_type": "code",
   "execution_count": 15,
   "id": "adae9b93",
   "metadata": {},
   "outputs": [
    {
     "name": "stderr",
     "output_type": "stream",
     "text": [
      "C:\\Users\\benjamin\\Desktop\\my_enviro\\lib\\site-packages\\IPython\\core\\interactiveshell.py:3441: DtypeWarning: Columns (1) have mixed types.Specify dtype option on import or set low_memory=False.\n",
      "  exec(code_obj, self.user_global_ns, self.user_ns)\n",
      "C:\\Users\\benjamin\\Desktop\\my_enviro\\lib\\site-packages\\openpyxl\\worksheet\\header_footer.py:48: UserWarning: Cannot parse header or footer so it will be ignored\n",
      "  warn(\"\"\"Cannot parse header or footer so it will be ignored\"\"\")\n"
     ]
    }
   ],
   "source": [
    "import pandas as pd\n",
    "SSOC_2020 = pd.read_csv('Data/Processed/Training/train-aws/SSOC_2020.csv')\n",
    "data = pd.read_csv('Data/Processed/Training/train-aws/train_full.csv')\n",
    "extra_info = pd.read_csv('Data/Processed/MCF_Training_Set_Full.csv')\n",
    "SSOC_2020_Full_data = pd.read_excel('Data/Processed/Training/train-aws/SSOC2020_Detailed_Definitions.xlsx', skiprows=range(0,4))"
   ]
  },
  {
   "cell_type": "code",
   "execution_count": 26,
   "id": "7ae24cba",
   "metadata": {},
   "outputs": [],
   "source": [
    "SSOC_2020_Full_data = SSOC_2020_Full_data[['SSOC 2020', 'SSOC 2020 Title']]\n",
    "SSOC_2020_Full_data['SSOC 2020'] = SSOC_2020_Full_data['SSOC 2020'].astype(str)"
   ]
  },
  {
   "cell_type": "code",
   "execution_count": 30,
   "id": "4eb35609",
   "metadata": {},
   "outputs": [],
   "source": [
    "SSOC_2020['SSOC 2020'] = SSOC_2020['SSOC 2020'].astype(str)\n",
    "SSOC_2020_m = pd.merge(SSOC_2020, SSOC_2020_Full_data, how = 'left', on = 'SSOC 2020') "
   ]
  },
  {
   "cell_type": "code",
   "execution_count": 46,
   "id": "da330ea8",
   "metadata": {},
   "outputs": [
    {
     "data": {
      "text/html": [
       "<div>\n",
       "<style scoped>\n",
       "    .dataframe tbody tr th:only-of-type {\n",
       "        vertical-align: middle;\n",
       "    }\n",
       "\n",
       "    .dataframe tbody tr th {\n",
       "        vertical-align: top;\n",
       "    }\n",
       "\n",
       "    .dataframe thead th {\n",
       "        text-align: right;\n",
       "    }\n",
       "</style>\n",
       "<table border=\"1\" class=\"dataframe\">\n",
       "  <thead>\n",
       "    <tr style=\"text-align: right;\">\n",
       "      <th></th>\n",
       "      <th>SSOC 2020</th>\n",
       "      <th>Description</th>\n",
       "      <th>SSOC 2020 Title</th>\n",
       "    </tr>\n",
       "  </thead>\n",
       "  <tbody>\n",
       "    <tr>\n",
       "      <th>0</th>\n",
       "      <td>11110</td>\n",
       "      <td>Legislator determines, formulates and directs ...</td>\n",
       "      <td>Legislator</td>\n",
       "    </tr>\n",
       "    <tr>\n",
       "      <th>1</th>\n",
       "      <td>11121</td>\n",
       "      <td>Senior government official plans, organises an...</td>\n",
       "      <td>Senior government official</td>\n",
       "    </tr>\n",
       "    <tr>\n",
       "      <th>2</th>\n",
       "      <td>11122</td>\n",
       "      <td>Senior statutory board official plans, organis...</td>\n",
       "      <td>Senior statutory board official</td>\n",
       "    </tr>\n",
       "    <tr>\n",
       "      <th>3</th>\n",
       "      <td>11140</td>\n",
       "      <td>Senior official of political party organisatio...</td>\n",
       "      <td>Senior official of political party organisation</td>\n",
       "    </tr>\n",
       "    <tr>\n",
       "      <th>4</th>\n",
       "      <td>11150</td>\n",
       "      <td>Senior official of employers', workers' and ot...</td>\n",
       "      <td>Senior official of employers', workers' and ot...</td>\n",
       "    </tr>\n",
       "    <tr>\n",
       "      <th>...</th>\n",
       "      <td>...</td>\n",
       "      <td>...</td>\n",
       "      <td>...</td>\n",
       "    </tr>\n",
       "    <tr>\n",
       "      <th>986</th>\n",
       "      <td>96257</td>\n",
       "      <td>Restroom attendant cleans and maintains toilet...</td>\n",
       "      <td>Restroom attendant</td>\n",
       "    </tr>\n",
       "    <tr>\n",
       "      <th>990</th>\n",
       "      <td>96269</td>\n",
       "      <td>This group includes watchmen and related worke...</td>\n",
       "      <td>Other watchmen and related workers (e.g. light...</td>\n",
       "    </tr>\n",
       "    <tr>\n",
       "      <th>991</th>\n",
       "      <td>96271</td>\n",
       "      <td>Chief concierge (hotel) manages all aspects of...</td>\n",
       "      <td>Chief concierge (hotel)</td>\n",
       "    </tr>\n",
       "    <tr>\n",
       "      <th>992</th>\n",
       "      <td>96272</td>\n",
       "      <td>Concierge (hotel) serves as the point of conta...</td>\n",
       "      <td>Concierge (hotel)</td>\n",
       "    </tr>\n",
       "    <tr>\n",
       "      <th>994</th>\n",
       "      <td>96292</td>\n",
       "      <td>Meter reader/Vending-machine collector reads e...</td>\n",
       "      <td>Meter reader/Vending-machine collector</td>\n",
       "    </tr>\n",
       "  </tbody>\n",
       "</table>\n",
       "<p>583 rows × 3 columns</p>\n",
       "</div>"
      ],
      "text/plain": [
       "    SSOC 2020                                        Description  \\\n",
       "0       11110  Legislator determines, formulates and directs ...   \n",
       "1       11121  Senior government official plans, organises an...   \n",
       "2       11122  Senior statutory board official plans, organis...   \n",
       "3       11140  Senior official of political party organisatio...   \n",
       "4       11150  Senior official of employers', workers' and ot...   \n",
       "..        ...                                                ...   \n",
       "986     96257  Restroom attendant cleans and maintains toilet...   \n",
       "990     96269  This group includes watchmen and related worke...   \n",
       "991     96271  Chief concierge (hotel) manages all aspects of...   \n",
       "992     96272  Concierge (hotel) serves as the point of conta...   \n",
       "994     96292  Meter reader/Vending-machine collector reads e...   \n",
       "\n",
       "                                       SSOC 2020 Title  \n",
       "0                                           Legislator  \n",
       "1                           Senior government official  \n",
       "2                      Senior statutory board official  \n",
       "3      Senior official of political party organisation  \n",
       "4    Senior official of employers', workers' and ot...  \n",
       "..                                                 ...  \n",
       "986                                 Restroom attendant  \n",
       "990  Other watchmen and related workers (e.g. light...  \n",
       "991                            Chief concierge (hotel)  \n",
       "992                                  Concierge (hotel)  \n",
       "994             Meter reader/Vending-machine collector  \n",
       "\n",
       "[583 rows x 3 columns]"
      ]
     },
     "execution_count": 46,
     "metadata": {},
     "output_type": "execute_result"
    }
   ],
   "source": [
    "SSOC_2020_unique = SSOC_2020_m[~SSOC_2020_m['SSOC 2020'].isin(data['SSOC 2020'].unique())]\n",
    "SSOC_2020_unique"
   ]
  },
  {
   "cell_type": "code",
   "execution_count": 50,
   "id": "b3a7f1e3",
   "metadata": {},
   "outputs": [],
   "source": [
    "import requests\n",
    "import urllib\n",
    "import pandas as pd\n",
    "from requests_html import HTML\n",
    "from requests_html import HTMLSession"
   ]
  },
  {
   "cell_type": "markdown",
   "id": "b45a509d",
   "metadata": {},
   "source": [
    "Finding top related links in google"
   ]
  },
  {
   "cell_type": "code",
   "execution_count": 51,
   "id": "9f195469",
   "metadata": {},
   "outputs": [],
   "source": [
    "def get_source(url):\n",
    "    \"\"\"Return the source code for the provided URL. \n",
    "\n",
    "    Args: \n",
    "        url (string): URL of the page to scrape.\n",
    "\n",
    "    Returns:\n",
    "        response (object): HTTP response object from requests_html. \n",
    "    \"\"\"\n",
    "\n",
    "    try:\n",
    "        session = HTMLSession()\n",
    "        response = session.get(url)\n",
    "        return response\n",
    "\n",
    "    except requests.exceptions.RequestException as e:\n",
    "        print(e)"
   ]
  },
  {
   "cell_type": "code",
   "execution_count": 91,
   "id": "9c0a162b",
   "metadata": {},
   "outputs": [],
   "source": [
    "def scrape_google(query):\n",
    "\n",
    "    query = urllib.parse.quote_plus(query)\n",
    "    response = get_source(\"https://www.google.com/search?q=\" + query)\n",
    "    \n",
    "    google_domains = ('https://www.google.', \n",
    "                      'https://google.', \n",
    "                      'https://webcache.googleusercontent.', \n",
    "                      'http://webcache.googleusercontent.', \n",
    "                      'https://policies.google.',\n",
    "                      'https://support.google.',\n",
    "                      'https://maps.google.')\n",
    "\n",
    "    for url in links[:]:\n",
    "        if url.startswith(google_domains):\n",
    "            links.remove(url)\n",
    "\n",
    "    return links"
   ]
  },
  {
   "cell_type": "code",
   "execution_count": 245,
   "id": "756e94dd",
   "metadata": {},
   "outputs": [
    {
     "data": {
      "text/plain": [
       "['https://www.jkentstaffing.com/job_title/legislative-assistant/',\n",
       " 'https://www.jobbank.gc.ca/marketreport/occupation/2913/ca',\n",
       " 'https://laddc.org/initiatives/community-living-and-self-determination/quality-assurance/current-initiatives/advocacy-101/government-the-legislative-process/the-role-of-a-legislator/',\n",
       " 'https://bestaccreditedcolleges.org/articles/state-legislator-job-description-duties-and-requirements.html',\n",
       " 'https://www.owlguru.com/career/legislators/job-description/',\n",
       " 'https://study.com/articles/Legislative_Analyst_Job_Description_Duties_and_Salary.html',\n",
       " 'https://www.careerexplorer.com/careers/legislator/',\n",
       " 'https://www.mightyrecruiter.com/job-descriptions/legislator/',\n",
       " 'https://www.yourfreecareertest.com/legislator/',\n",
       " 'https://learn.org/articles/State_Legislator_Career_and_Salary_FAQs.html']"
      ]
     },
     "execution_count": 245,
     "metadata": {},
     "output_type": "execute_result"
    }
   ],
   "source": [
    "scrape_google('Legislator Job Description')"
   ]
  },
  {
   "cell_type": "markdown",
   "id": "879a82ca",
   "metadata": {},
   "source": [
    "Testing out extracting text using a list of pre-definend titles and threshold"
   ]
  },
  {
   "cell_type": "code",
   "execution_count": 176,
   "id": "78c63d1b",
   "metadata": {},
   "outputs": [],
   "source": [
    "from urllib.request import Request, urlopen\n",
    "from bs4 import BeautifulSoup, NavigableString, Tag"
   ]
  },
  {
   "cell_type": "code",
   "execution_count": 239,
   "id": "8872fb3b",
   "metadata": {},
   "outputs": [],
   "source": [
    "def extract_Text(URL, list_of_titles, threshold):\n",
    "    \n",
    "    req = Request(URL, headers={'User-Agent': 'Mozilla/5.0'})\n",
    "\n",
    "    webpage = urlopen(req).read()\n",
    "\n",
    "    soup = BeautifulSoup(webpage, \"html.parser\")\n",
    "\n",
    "    tags = [\"h3\", \"h2\"]\n",
    "\n",
    "    for tag in tags:\n",
    "\n",
    "        python_jobs = soup.find_all(tag)\n",
    "\n",
    "        actual_text_ref = list_of_titles\n",
    "        job_ref = [txt.text.lower() for txt in python_jobs]\n",
    "        \n",
    "        print(f'List of titles present are: {job_ref}')\n",
    "\n",
    "        idx, proceede = find_similar(actual_text_ref, job_ref, threshold)\n",
    "\n",
    "        if proceede:\n",
    "\n",
    "            text = []\n",
    "\n",
    "            for header in python_jobs[idx:idx+2]:\n",
    "                nextNode = header\n",
    "                while True:\n",
    "                    nextNode = nextNode.nextSibling\n",
    "                    if nextNode is None:\n",
    "                        break\n",
    "                    if isinstance(nextNode, NavigableString):\n",
    "                        nextNode.strip()\n",
    "                    if isinstance(nextNode, Tag):\n",
    "                        if nextNode.name == tag:\n",
    "                            break\n",
    "                        txt = nextNode.get_text(strip=True).strip()\n",
    "                        if txt:\n",
    "                            text.append(txt)\n",
    "            return text\n",
    "        \n",
    "        return None"
   ]
  },
  {
   "cell_type": "code",
   "execution_count": 229,
   "id": "4a5a9220",
   "metadata": {},
   "outputs": [],
   "source": [
    "def find_similar(list_of_ref, job_ref, threshold):\n",
    "    for i in range(len(job_ref)):\n",
    "        \n",
    "        job_text = job_ref[i]\n",
    "        \n",
    "        for ref in list_of_ref:\n",
    "            \n",
    "            if str_similarity(job_text, ref) > threshold:\n",
    "                return i, True\n",
    "    \n",
    "    return None, False"
   ]
  },
  {
   "cell_type": "code",
   "execution_count": 225,
   "id": "7af9abd3",
   "metadata": {},
   "outputs": [],
   "source": [
    "import spacy\n",
    "\n",
    "nlp = spacy.load('en_core_web_lg')\n",
    "\n",
    "def str_similarity(string1, string2):\n",
    "    return nlp(string1).similarity(nlp(string2))"
   ]
  },
  {
   "cell_type": "code",
   "execution_count": 240,
   "id": "64f80122",
   "metadata": {},
   "outputs": [
    {
     "data": {
      "text/plain": [
       "['Legislators participate in the activities of a federal, provincial, territorial or local government legislative body or executive council, band council or school board as elected or appointed members.',\n",
       " 'This group performs some or all of the following duties:Enact, amend or repeal laws and regulationsParticipate in developing or amending government policies, programs or proceduresRepresent their government at local, national and international meetings and conferencesRespond to matters of concern to constituents or the general publicMay serve as minister responsible for a government department or agency and direct senior government managers and officials in the implementation of government policy and the management of that department or agency.']"
      ]
     },
     "execution_count": 240,
     "metadata": {},
     "output_type": "execute_result"
    }
   ],
   "source": [
    "extract_Text(URL, ['job description', 'job duties'], 0.5)"
   ]
  },
  {
   "cell_type": "markdown",
   "id": "6b91ef47",
   "metadata": {},
   "source": [
    "Putting all the functions together"
   ]
  },
  {
   "cell_type": "code",
   "execution_count": 248,
   "id": "a95b3a64",
   "metadata": {},
   "outputs": [],
   "source": [
    "def extracting_job_description(Job_title):\n",
    "    query = Job_title + \"job description\"\n",
    "\n",
    "    URL_list = scrape_google(query)\n",
    "    \n",
    "    output = {}\n",
    "    \n",
    "    # Html text headers h2 and h3 of interest\n",
    "    article_titles = ['job description', 'job duties']\n",
    "    \n",
    "    # This would be the similary score threshold between article_titles and the actual page h2 and h3 titles\n",
    "    threshold = 0.5\n",
    "    \n",
    "    for URL in URL_list:\n",
    "        \n",
    "        output[URL] = extract_Text(URL, article_titles, threshold)\n",
    "    \n",
    "    return output"
   ]
  },
  {
   "cell_type": "code",
   "execution_count": 249,
   "id": "3070b27c",
   "metadata": {},
   "outputs": [
    {
     "data": {
      "text/plain": [
       "{'https://www.jkentstaffing.com/job_title/legislative-assistant/': None,\n",
       " 'https://www.jobbank.gc.ca/marketreport/occupation/2913/ca': ['Legislators participate in the activities of a federal, provincial, territorial or local government legislative body or executive council, band council or school board as elected or appointed members.',\n",
       "  'This group performs some or all of the following duties:Enact, amend or repeal laws and regulationsParticipate in developing or amending government policies, programs or proceduresRepresent their government at local, national and international meetings and conferencesRespond to matters of concern to constituents or the general publicMay serve as minister responsible for a government department or agency and direct senior government managers and officials in the implementation of government policy and the management of that department or agency.'],\n",
       " 'https://laddc.org/initiatives/community-living-and-self-determination/quality-assurance/current-initiatives/advocacy-101/government-the-legislative-process/the-role-of-a-legislator/': None,\n",
       " 'https://bestaccreditedcolleges.org/articles/state-legislator-job-description-duties-and-requirements.html': ['Salaries for state legislators vary widely by the activity of the legislator and his or her state legislative body. Legislators working full-time in the highly active bodies of California and New York, for example, made base annual salaries of $107,241 and $79,500 per year, respectively, as of 2018, according to NCSL data. The NCSL indicated that legislators working part-time and in the least active bodies received much less compensation; legislators in Mississippi, for instance, earned a minimum of $23,500 per year in 2016. The BLS reported in 2020 that the median annual income for all legislators was $33,200.',\n",
       "  'Related ArticlesMost Recent ArticlesPopular ArticlesRelated Q&A',\n",
       "  \"Dental Hygienist Education RequirementsEducation Requirements for a PhotographerWhat Are the Education Requirements for Becoming a PsychologistNurse Practitioner Education RequirementsEducation Requirements Game TechnicianHow to Become a Legislator: Step-by-Step Career GuideExplore the requirements to become a legislator. Learn about the job description and duties, and review the step-by-step...When Should College Seniors Start Looking for a Job?Senior year in college is an exciting yet stressful period for students. College seniors are not only busy meeting graduation...Jobs in Disaster Recovery: Career Information and RequirementsLearn about the education and preparation needed to enter a career in disaster recovery. Get a quick view of the requirements...What To Do Before Applying for Your First Job After CollegeIt's time to apply for your first job out of college. Even if you consider yourself well-seasoned in the practice of applying...Why Work-Study Students Should Take Their College Job SeriouslyVeterinary Education RequirementsEducation Requirements for Becoming a LawyerWhich College Majors Will Guarantee You a Job After Graduation?10 Things College Seniors Should Do Before Starting Your Job SearchLegislative Assistant: Duties, Salary and RequirementsHow to Become a Licensed Plumber OnlineHow to Become a DJ Online for FreeHow to Become a Real Estate Agent in California OnlineOnline Real Estate Development Certificate ProgramsHow Applying for College Is Different Than Applying for a JobBecome a Legislative Aide: Step-by-Step Career GuideClinical Nutrition Certificate OnlineHR Certificate Programs OnlineHow to Become a Home Health AideBest Political Science CollegesWhy Liberal Arts Majors Should Learn Technical Skills15 Tips for Keeping your Summer Vacation Spending Under ControlWhat to Do if You Think your Friend Has an Eating DisorderLatin Language CoursesHow to Address Sexual Harassment on CampusGet Straight As in 2012How Much Does an Idaho State Legislator Make?How Can I Get a Good Paying Job Without a College Degree?How Can a 40-year-old Who Is Broke, in Debt, and Has a Family Start Earning Again After Losing Their Job?What Careers Should I Look Into if I Don't Want a Desk Job?What Are the Minimum Requirements to Maintain Certification with NASM?What Are the Requirements to Get a PHR Certification?What Are the Requirements for the PCI Professional Certification?What Are Some Careers that the Job Corps Offers?What Are MUST University's Online Admission Requirements?Does Getting Certification in MOOCs (i.e. Paying) Help During Campus Job Interviews or Higher Studies Applications or on a LinkedIn Profile?\"],\n",
       " 'https://www.owlguru.com/career/legislators/job-description/': [],\n",
       " 'https://study.com/articles/Legislative_Analyst_Job_Description_Duties_and_Salary.html': ['Related ArticlesMost Recent ArticlesPopular ArticlesRelated Q&A',\n",
       "  \"Career As a Film DirectorPhysical Education CareerDistance Education University DegreesWhat Kind of Education Is Needed to Be a BroadcasterIndustrial Design SalaryBegin a Career in Government: Options, Outlook and RequirementsGovernment is generally offered in various degree levels and fields. Continue reading for an overview of the programs, as well...Be a Government Inspector: Education and Career RoadmapLearn what is required to work as a government inspector. Read about the education and certification requirements, job duties,...State Legislator: Job Description, Duties and RequirementsState legislators do not require any formal education. Learn about the job duties, citizenship and age requirements to see if...Government Contracting Degree, Course and Career InformationCourses in government contracting are usually offered as courses at the undergraduate level and as a specialization in master's...Government Accounting Jobs: Options and RequirementsMaster of Art Education OnlineCareer As a JournalistBecome a Certified Shorthand Reporter: Certification and Career InfoLegislative Assistant: Duties, Salary and RequirementsBecome a Legislative Aide: Step-by-Step Career GuideTop Schools Waiving the GMAT Requirement in Response to COVID-19How to Become a Travel Agent Online: Courses & CareerOnline Crisis & Trauma Counseling Certification ProgramsOnline Medical Coding & Billing Certificate Programs in TexasHow a Government Shutdown Might Impact EducationIntellectual Property Laws and Regulations AbroadOnline Teaching Certification Programs in New JerseyOnline Pharmacy Technician Certification in North CarolinaHolistic Wellness Certification OnlineHow to Handle a Problem with a Professor and Not Hurt your GradeUniversities Offering a Degree in Video ProductionsGrim Statistics About College CompletionHow Can Carnegie Mellons Open Learning Initiative This Help YouWhat to Expect When You Move Off CampusOnline Courses in Video ProductionEducation-portalcoms Peoples Choice Award Winner Most InteractiveHow Much Does a Legislative Assistant Make?If One Wanted to Get a Job After College As a Financial Analyst, Is IT Preferable to Have a Bachelor's Degree in Engineering or Finance?How Do You Get a Business Analyst Job with an MBA?How Can I Get a Job As a Financial Analyst or Equity Research Analyst?How Can I Get a Good Paying Job Without a College Degree?How Can a 40-year-old Who Is Broke, in Debt, and Has a Family Start Earning Again After Losing Their Job?What Careers Should I Look Into if I Don't Want a Desk Job?What Is the Salary of Someone with an AWS Certification?What Are Some Careers that the Job Corps Offers?Does Getting Certification in MOOCs (i.e. Paying) Help During Campus Job Interviews or Higher Studies Applications or on a LinkedIn Profile?\"],\n",
       " 'https://www.careerexplorer.com/careers/legislator/': ['What is a Legislator?What does a Legislator do?What is the workplace of a Legislator like?',\n",
       "  'About CareerExplorerContactFAQ Knowledge BaseTerms & conditionsPrivacy'],\n",
       " 'https://www.mightyrecruiter.com/job-descriptions/legislator/': ['Review or listen to the concerns of your constituents on a daily basis by reading emails, mailed letters and receiving telephone callsListen to the concerns of your constituents by receiving them in your office via scheduled meetings or offsite visitsAttend meetings with lobbying groups, business owners, legislators and other key political figures on a daily basisReview current laws and statutes to determine where stated concerns fall within existing legislationResearch and write new legislation to address concerns if nothing is in placeAttend scheduled governing body meetings to discuss current issues and propose new legislation on a scheduled basisPropose new laws and support the written legislation with evidence that they are necessary, including research, final studies results and legislative and constituent arguments during the scheduled governing body meetingsPersuade fellow legislators to approve and enact proposed legislation during the scheduled governing body meetings and see approved legislation through to its confirmation',\n",
       "  'Reqiured:',\n",
       "  'Bachelor’s degreeAt least five years’ law-making experienceAdvanced listening and negotiating skillsAdvanced communications skills, including reading, speaking and writingAdvanced research and problem-solving skills',\n",
       "  'Preferred:',\n",
       "  'Previous legal experiencePrevious governing experienceExperience using Legislative Automative Workflow System (LAWS)'],\n",
       " 'https://www.yourfreecareertest.com/legislator/': ['Submit',\n",
       "  'Free Career Tests'],\n",
       " 'https://learn.org/articles/State_Legislator_Career_and_Salary_FAQs.html': ['Most states have an upper and a lower house in its legislative branch of government; an assembly and a senate, for example. This legislative body develops state laws, regulations and policies introduced and voted on legislators. Typically, state legislators, also known as state lawmakers, are elected or appointed to represent an area or district of the state for a term defined by a state constitution.',\n",
       "  \"As a legislator, you'll have an office in your state's capital district and one or more offices in your legislative district. You'll study proposed legislation and meet with constituents and representatives of various interest groups. You may draft bills to be presented for a vote by legislative committees, each house chamber and by the full legislature. In many states, legislators serve part-time or for the portion of the year when the legislature is in session. During other periods you may travel your district to attend events and meet with constituents to gain insight on local issues. You'll also be working on political activities such as your re-election campaign.\",\n",
       "  \"Each state's constitution defines residency, citizenship and minimum age requirements for legislators. Active involvement in your community not only helps to prepare you for this job but also helps to establish name recognition, develop contacts, and gain media exposure. You may volunteer and serve in leadership positions for community organizations. Service as an elected official on the local or county level is a common background for state legislators.\",\n",
       "  \"Affiliation with and involvement in a political party is usually required to become a legislator. You'll need to obtain the endorsement of your party, often through primary elections, and then run for office in the general election. An option may be to run as an independent candidate. In either case, you'll need to secure a spot on the ballot through a nominating petition with the signatures of a prescribed percentage of registered voters in your district, as defined in your state's laws or constitution.\",\n",
       "  'No particular educational path is required to serve as a state legislator. You may find courses in government, political science, public administration, and history relevant. Many state lawmakers are lawyers, but a wide array of professional backgrounds are represented.']}"
      ]
     },
     "execution_count": 249,
     "metadata": {},
     "output_type": "execute_result"
    }
   ],
   "source": [
    "extracting_job_description('Legislator')"
   ]
  }
 ],
 "metadata": {
  "kernelspec": {
   "display_name": "my_enviro",
   "language": "python",
   "name": "my_enviro"
  },
  "language_info": {
   "codemirror_mode": {
    "name": "ipython",
    "version": 3
   },
   "file_extension": ".py",
   "mimetype": "text/x-python",
   "name": "python",
   "nbconvert_exporter": "python",
   "pygments_lexer": "ipython3",
   "version": "3.7.4"
  }
 },
 "nbformat": 4,
 "nbformat_minor": 5
}
