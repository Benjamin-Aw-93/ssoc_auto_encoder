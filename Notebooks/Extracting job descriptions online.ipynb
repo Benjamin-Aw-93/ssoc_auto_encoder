{
 "cells": [
  {
   "cell_type": "markdown",
   "id": "72567003",
   "metadata": {},
   "source": [
    "# Extracting job descriptions online"
   ]
  },
  {
   "cell_type": "code",
   "execution_count": 1,
   "id": "9fa117cb",
   "metadata": {},
   "outputs": [],
   "source": [
    "import os\n",
    "os.chdir('..')"
   ]
  },
  {
   "cell_type": "markdown",
   "id": "b505b28b",
   "metadata": {},
   "source": [
    "Reading in the necessary data"
   ]
  },
  {
   "cell_type": "code",
   "execution_count": 2,
   "id": "42023612",
   "metadata": {},
   "outputs": [
    {
     "name": "stderr",
     "output_type": "stream",
     "text": [
      "C:\\Users\\benjamin\\Desktop\\my_enviro\\lib\\site-packages\\IPython\\core\\interactiveshell.py:3441: DtypeWarning: Columns (1) have mixed types.Specify dtype option on import or set low_memory=False.\n",
      "  exec(code_obj, self.user_global_ns, self.user_ns)\n",
      "C:\\Users\\benjamin\\Desktop\\my_enviro\\lib\\site-packages\\openpyxl\\worksheet\\header_footer.py:48: UserWarning: Cannot parse header or footer so it will be ignored\n",
      "  warn(\"\"\"Cannot parse header or footer so it will be ignored\"\"\")\n"
     ]
    }
   ],
   "source": [
    "import pandas as pd\n",
    "SSOC_2020 = pd.read_csv('Data/Processed/Training/train-aws/SSOC_2020.csv')\n",
    "data = pd.read_csv('Data/Processed/Training/train-aws/train_full.csv')\n",
    "extra_info = pd.read_csv('Data/Processed/MCF_Training_Set_Full.csv')\n",
    "SSOC_2020_Full_data = pd.read_excel('Data/Processed/Training/train-aws/SSOC2020_Detailed_Definitions.xlsx', skiprows=range(0,4))"
   ]
  },
  {
   "cell_type": "code",
   "execution_count": 3,
   "id": "0af2f701",
   "metadata": {},
   "outputs": [],
   "source": [
    "SSOC_2020_Full_data = SSOC_2020_Full_data[['SSOC 2020', 'SSOC 2020 Title']]\n",
    "SSOC_2020_Full_data['SSOC 2020'] = SSOC_2020_Full_data['SSOC 2020'].astype(str)"
   ]
  },
  {
   "cell_type": "code",
   "execution_count": 4,
   "id": "af664745",
   "metadata": {},
   "outputs": [],
   "source": [
    "SSOC_2020['SSOC 2020'] = SSOC_2020['SSOC 2020'].astype(str)\n",
    "SSOC_2020_m = pd.merge(SSOC_2020, SSOC_2020_Full_data, how = 'left', on = 'SSOC 2020') "
   ]
  },
  {
   "cell_type": "code",
   "execution_count": 5,
   "id": "f4381e33",
   "metadata": {},
   "outputs": [
    {
     "data": {
      "text/html": [
       "<div>\n",
       "<style scoped>\n",
       "    .dataframe tbody tr th:only-of-type {\n",
       "        vertical-align: middle;\n",
       "    }\n",
       "\n",
       "    .dataframe tbody tr th {\n",
       "        vertical-align: top;\n",
       "    }\n",
       "\n",
       "    .dataframe thead th {\n",
       "        text-align: right;\n",
       "    }\n",
       "</style>\n",
       "<table border=\"1\" class=\"dataframe\">\n",
       "  <thead>\n",
       "    <tr style=\"text-align: right;\">\n",
       "      <th></th>\n",
       "      <th>SSOC 2020</th>\n",
       "      <th>Description</th>\n",
       "      <th>SSOC 2020 Title</th>\n",
       "    </tr>\n",
       "  </thead>\n",
       "  <tbody>\n",
       "    <tr>\n",
       "      <th>0</th>\n",
       "      <td>11110</td>\n",
       "      <td>Legislator determines, formulates and directs ...</td>\n",
       "      <td>Legislator</td>\n",
       "    </tr>\n",
       "    <tr>\n",
       "      <th>1</th>\n",
       "      <td>11121</td>\n",
       "      <td>Senior government official plans, organises an...</td>\n",
       "      <td>Senior government official</td>\n",
       "    </tr>\n",
       "    <tr>\n",
       "      <th>2</th>\n",
       "      <td>11122</td>\n",
       "      <td>Senior statutory board official plans, organis...</td>\n",
       "      <td>Senior statutory board official</td>\n",
       "    </tr>\n",
       "    <tr>\n",
       "      <th>3</th>\n",
       "      <td>11140</td>\n",
       "      <td>Senior official of political party organisatio...</td>\n",
       "      <td>Senior official of political party organisation</td>\n",
       "    </tr>\n",
       "    <tr>\n",
       "      <th>4</th>\n",
       "      <td>11150</td>\n",
       "      <td>Senior official of employers', workers' and ot...</td>\n",
       "      <td>Senior official of employers', workers' and ot...</td>\n",
       "    </tr>\n",
       "    <tr>\n",
       "      <th>...</th>\n",
       "      <td>...</td>\n",
       "      <td>...</td>\n",
       "      <td>...</td>\n",
       "    </tr>\n",
       "    <tr>\n",
       "      <th>986</th>\n",
       "      <td>96257</td>\n",
       "      <td>Restroom attendant cleans and maintains toilet...</td>\n",
       "      <td>Restroom attendant</td>\n",
       "    </tr>\n",
       "    <tr>\n",
       "      <th>990</th>\n",
       "      <td>96269</td>\n",
       "      <td>This group includes watchmen and related worke...</td>\n",
       "      <td>Other watchmen and related workers (e.g. light...</td>\n",
       "    </tr>\n",
       "    <tr>\n",
       "      <th>991</th>\n",
       "      <td>96271</td>\n",
       "      <td>Chief concierge (hotel) manages all aspects of...</td>\n",
       "      <td>Chief concierge (hotel)</td>\n",
       "    </tr>\n",
       "    <tr>\n",
       "      <th>992</th>\n",
       "      <td>96272</td>\n",
       "      <td>Concierge (hotel) serves as the point of conta...</td>\n",
       "      <td>Concierge (hotel)</td>\n",
       "    </tr>\n",
       "    <tr>\n",
       "      <th>994</th>\n",
       "      <td>96292</td>\n",
       "      <td>Meter reader/Vending-machine collector reads e...</td>\n",
       "      <td>Meter reader/Vending-machine collector</td>\n",
       "    </tr>\n",
       "  </tbody>\n",
       "</table>\n",
       "<p>583 rows × 3 columns</p>\n",
       "</div>"
      ],
      "text/plain": [
       "    SSOC 2020                                        Description  \\\n",
       "0       11110  Legislator determines, formulates and directs ...   \n",
       "1       11121  Senior government official plans, organises an...   \n",
       "2       11122  Senior statutory board official plans, organis...   \n",
       "3       11140  Senior official of political party organisatio...   \n",
       "4       11150  Senior official of employers', workers' and ot...   \n",
       "..        ...                                                ...   \n",
       "986     96257  Restroom attendant cleans and maintains toilet...   \n",
       "990     96269  This group includes watchmen and related worke...   \n",
       "991     96271  Chief concierge (hotel) manages all aspects of...   \n",
       "992     96272  Concierge (hotel) serves as the point of conta...   \n",
       "994     96292  Meter reader/Vending-machine collector reads e...   \n",
       "\n",
       "                                       SSOC 2020 Title  \n",
       "0                                           Legislator  \n",
       "1                           Senior government official  \n",
       "2                      Senior statutory board official  \n",
       "3      Senior official of political party organisation  \n",
       "4    Senior official of employers', workers' and ot...  \n",
       "..                                                 ...  \n",
       "986                                 Restroom attendant  \n",
       "990  Other watchmen and related workers (e.g. light...  \n",
       "991                            Chief concierge (hotel)  \n",
       "992                                  Concierge (hotel)  \n",
       "994             Meter reader/Vending-machine collector  \n",
       "\n",
       "[583 rows x 3 columns]"
      ]
     },
     "execution_count": 5,
     "metadata": {},
     "output_type": "execute_result"
    }
   ],
   "source": [
    "SSOC_2020_unique = SSOC_2020_m[~SSOC_2020_m['SSOC 2020'].isin(data['SSOC 2020'].unique())]\n",
    "SSOC_2020_unique"
   ]
  },
  {
   "cell_type": "code",
   "execution_count": 6,
   "id": "b4719288",
   "metadata": {},
   "outputs": [],
   "source": [
    "import requests\n",
    "import urllib\n",
    "import pandas as pd\n",
    "from requests_html import HTML\n",
    "from requests_html import HTMLSession"
   ]
  },
  {
   "cell_type": "markdown",
   "id": "e582172b",
   "metadata": {},
   "source": [
    "Finding top related links in google"
   ]
  },
  {
   "cell_type": "code",
   "execution_count": 7,
   "id": "46fc37cc",
   "metadata": {},
   "outputs": [],
   "source": [
    "def get_source(url):\n",
    "    \"\"\"Return the source code for the provided URL. \n",
    "\n",
    "    Args: \n",
    "        url (string): URL of the page to scrape.\n",
    "\n",
    "    Returns:\n",
    "        response (object): HTTP response object from requests_html. \n",
    "    \"\"\"\n",
    "\n",
    "    try:\n",
    "        session = HTMLSession()\n",
    "        response = session.get(url)\n",
    "        return response\n",
    "\n",
    "    except requests.exceptions.RequestException as e:\n",
    "        print(e)"
   ]
  },
  {
   "cell_type": "code",
   "execution_count": 19,
   "id": "b49e8106",
   "metadata": {},
   "outputs": [],
   "source": [
    "def scrape_google(query):\n",
    "\n",
    "    query = urllib.parse.quote_plus(query)\n",
    "    response = get_source(\"https://www.google.com/search?q=\" + query)\n",
    "    \n",
    "    links = list(response.html.absolute_links)\n",
    "    \n",
    "    google_domains = ('https://www.google.', \n",
    "                      'https://google.', \n",
    "                      'https://webcache.googleusercontent.', \n",
    "                      'http://webcache.googleusercontent.', \n",
    "                      'https://policies.google.',\n",
    "                      'https://support.google.',\n",
    "                      'https://maps.google.')\n",
    "\n",
    "    for url in links[:]:\n",
    "        if url.startswith(google_domains):\n",
    "            links.remove(url)\n",
    "\n",
    "    return links"
   ]
  },
  {
   "cell_type": "code",
   "execution_count": 20,
   "id": "ed5c04b1",
   "metadata": {},
   "outputs": [
    {
     "data": {
      "text/plain": [
       "['https://learn.org/articles/State_Legislator_Career_and_Salary_FAQs.html',\n",
       " 'http://www.pontiac.mi.us/departments/human_resources/job_posting_3/docs/LEGISLATIVE%20COORDINATOR.pdf',\n",
       " 'https://www.jobbank.gc.ca/marketreport/occupation/2913/ca',\n",
       " 'https://www.jkentstaffing.com/job_title/legislative-assistant/',\n",
       " 'https://www.yourfreecareertest.com/legislator/',\n",
       " 'https://www.careerexplorer.com/careers/legislator/',\n",
       " 'https://bestaccreditedcolleges.org/articles/state-legislator-job-description-duties-and-requirements.html',\n",
       " 'https://www.mightyrecruiter.com/job-descriptions/legislator/',\n",
       " 'https://laddc.org/initiatives/community-living-and-self-determination/quality-assurance/current-initiatives/advocacy-101/government-the-legislative-process/the-role-of-a-legislator/',\n",
       " 'http://www.congressfoundation.org/storage/documents/Misc/JobDescriptions/legislative_director_job_description.doc']"
      ]
     },
     "execution_count": 20,
     "metadata": {},
     "output_type": "execute_result"
    }
   ],
   "source": [
    "scrape_google('Legislator Job Description')"
   ]
  },
  {
   "cell_type": "markdown",
   "id": "d917492f",
   "metadata": {},
   "source": [
    "Testing out extracting text using a list of pre-definend titles and threshold"
   ]
  },
  {
   "cell_type": "code",
   "execution_count": 10,
   "id": "822ed741",
   "metadata": {},
   "outputs": [],
   "source": [
    "from urllib.request import Request, urlopen, HTTPError\n",
    "from bs4 import BeautifulSoup, NavigableString, Tag\n",
    "import time"
   ]
  },
  {
   "cell_type": "code",
   "execution_count": 11,
   "id": "43c5fb98",
   "metadata": {},
   "outputs": [],
   "source": [
    "def extract_Text(URL, list_of_titles, threshold):\n",
    "    \n",
    "    try:\n",
    "        req = Request(URL, headers={'User-Agent': 'Mozilla/5.0'})\n",
    "\n",
    "        webpage = urlopen(req).read()\n",
    "        \n",
    "        soup = BeautifulSoup(webpage, \"html.parser\")\n",
    "\n",
    "        tags = [\"h3\", \"h2\"]\n",
    "\n",
    "        for tag in tags:\n",
    "\n",
    "            python_jobs = soup.find_all(tag)\n",
    "\n",
    "            actual_text_ref = list_of_titles\n",
    "            job_ref = [txt.text.lower() for txt in python_jobs]\n",
    "\n",
    "            idx, proceede = find_similar(actual_text_ref, job_ref, threshold)\n",
    "\n",
    "            if proceede:\n",
    "\n",
    "                text = []\n",
    "\n",
    "                for header in python_jobs[idx:idx+2]:\n",
    "                    nextNode = header\n",
    "                    while True:\n",
    "                        nextNode = nextNode.nextSibling\n",
    "                        if nextNode is None:\n",
    "                            break\n",
    "                        if isinstance(nextNode, NavigableString):\n",
    "                            nextNode.strip()\n",
    "                        if isinstance(nextNode, Tag):\n",
    "                            if nextNode.name == tag:\n",
    "                                break\n",
    "                            txt = nextNode.get_text(strip=True).strip()\n",
    "                            if txt:\n",
    "                                text.append(txt)\n",
    "                return text        \n",
    "    \n",
    "    except HTTPError as e:\n",
    "        print(f'Error URL: {URL}')\n",
    "        print(e)\n",
    "        return {}"
   ]
  },
  {
   "cell_type": "code",
   "execution_count": 12,
   "id": "4166c8f6",
   "metadata": {},
   "outputs": [],
   "source": [
    "def find_similar(list_of_ref, job_ref, threshold):\n",
    "    for i in range(len(job_ref)):\n",
    "        \n",
    "        job_text = job_ref[i]\n",
    "        \n",
    "        for ref in list_of_ref:\n",
    "            \n",
    "            if str_similarity(job_text, ref) > threshold:\n",
    "                return i, True\n",
    "    \n",
    "    return None, False"
   ]
  },
  {
   "cell_type": "code",
   "execution_count": 13,
   "id": "1170d3ae",
   "metadata": {},
   "outputs": [],
   "source": [
    "import spacy\n",
    "\n",
    "nlp = spacy.load('en_core_web_lg')\n",
    "\n",
    "def str_similarity(string1, string2):\n",
    "    return nlp(string1).similarity(nlp(string2))"
   ]
  },
  {
   "cell_type": "markdown",
   "id": "f318b4dc",
   "metadata": {},
   "source": [
    "Putting all the functions together"
   ]
  },
  {
   "cell_type": "code",
   "execution_count": 14,
   "id": "156bdf5b",
   "metadata": {},
   "outputs": [],
   "source": [
    "def extracting_job_description(Job_title, website_of_interest = \"\"):\n",
    "    print(f'Querying for Job title: {Job_title}')\n",
    "    \n",
    "    query = Job_title + \"job description\" + website_of_interest\n",
    "\n",
    "    URL_list = scrape_google(query)\n",
    "    \n",
    "    output = {}\n",
    "    \n",
    "    # Html text headers h2 and h3 of interest\n",
    "    article_titles = ['job description', 'job duties']\n",
    "    \n",
    "    # This would be the similary score threshold between article_titles and the actual page h2 and h3 titles\n",
    "    threshold = 0.5\n",
    "    \n",
    "    for URL in URL_list:\n",
    "        \n",
    "        output[URL] = extract_Text(URL, article_titles, threshold)\n",
    "    \n",
    "    print(f'Wait for 30 seconds...')\n",
    "    time.sleep(30)    \n",
    "    print(f'Query finished')\n",
    "    \n",
    "    return output"
   ]
  },
  {
   "cell_type": "markdown",
   "id": "89cb00a6",
   "metadata": {},
   "source": [
    "Write function to apply to list of job titles"
   ]
  },
  {
   "cell_type": "code",
   "execution_count": 15,
   "id": "a3b65def",
   "metadata": {},
   "outputs": [
    {
     "name": "stdout",
     "output_type": "stream",
     "text": [
      "Querying for Job title: Senior official of political party organisation\n"
     ]
    },
    {
     "name": "stderr",
     "output_type": "stream",
     "text": [
      "C:\\Users\\benjamin\\Desktop\\my_enviro\\lib\\site-packages\\ipykernel_launcher.py:6: UserWarning: [W008] Evaluating Doc.similarity based on empty vectors.\n",
      "  \n"
     ]
    },
    {
     "name": "stdout",
     "output_type": "stream",
     "text": [
      "HTTP Error 403: Forbidden\n"
     ]
    },
    {
     "name": "stderr",
     "output_type": "stream",
     "text": [
      "Some characters could not be decoded, and were replaced with REPLACEMENT CHARACTER.\n"
     ]
    },
    {
     "name": "stdout",
     "output_type": "stream",
     "text": [
      "Wait for 30 seconds...\n",
      "Query finished\n"
     ]
    },
    {
     "data": {
      "text/plain": [
       "{'https://books.google.com.sg/books?id=qpCKAgAAQBAJ&pg=PA73&lpg=PA73&dq=Senior+official+of+political+party+organisationjob+description&source=bl&ots=yBmVHk8zFS&sig=ACfU3U0vjH-XqDFstVEa87llEVKcUYVVSw&hl=en&sa=X&ved=2ahUKEwj7maKf2_zzAhUaSX0KHR2uC_4Q6AF6BAgiEAM': None,\n",
       " 'https://books.google.com.sg/books?id=QZjWAgAAQBAJ&pg=PA37&lpg=PA37&dq=Senior+official+of+political+party+organisationjob+description&source=bl&ots=OB48uit874&sig=ACfU3U0J8KLwVFFqObrG9fDsTpXOLjDerQ&hl=en&sa=X&ved=2ahUKEwj7maKf2_zzAhUaSX0KHR2uC_4Q6AF6BAgjEAM': None,\n",
       " 'https://newsbreakersonline.com/job-opportunities/': ['Job description:The Executive Assistant maintains a one-on-one working relationship and reports directly to the CEO. The Executive Assistant serves as the primary point of contact for internal and external constituencies on all matters pertaining to the Office of the CEO. The Executive Assistant also serves as a liaison to the board of directors and senior management teams; organizes and coordinates executive outreach and external relations efforts and special projects.',\n",
       "  'Click to get details and apply',\n",
       "  'Job description:Medical marketing support (providing scientific literature, medical information, search of scientific literature)Assure high quality of medical information in the promotional materials.Preparation of and reading the reports and lectures on company products.Medical support of scientific events (congresses, symposiums, advisoryBoards, CMEs, Round-tables meetings etc.)',\n",
       "  'Click to get details and apply'],\n",
       " 'https://books.google.com.sg/books?id=4PqDYAfFjccC&pg=PA9&lpg=PA9&dq=Senior+official+of+political+party+organisationjob+description&source=bl&ots=aViaot09qA&sig=ACfU3U1liYZHe5SX2DBtR8ytaCEbU68_3w&hl=en&sa=X&ved=2ahUKEwj7maKf2_zzAhUaSX0KHR2uC_4Q6AF6BAgkEAM': [\"Browse the world's largest eBookstore and start reading today on the web, tablet, phone, or ereader.\",\n",
       "  'Go to Google Play Now »',\n",
       "  'Published by Graphic Communications Group.'],\n",
       " 'https://www.devex.com/jobs/political-party-program-director': None,\n",
       " 'https://targetjobs.co.uk/careers-advice/job-descriptions/political-party-agent-job-description': ['Political parties represented in parliament employ party agents. Opportunities are advertised on political party websites, along with the W4MP (working for an MP) website.',\n",
       "  'Competition for jobs is intense, so while there are no set qualifications for becoming a political party agent, employment is usually dependent on possessing a good degree. A degree in any discipline is acceptable, but preferred subjects include politics, government, public/social administration, social policy, law, history, business studies and economics. A postgraduate qualification may be beneficial, particularly for graduates without relevant undergraduate degrees.',\n",
       "  'It is also normally essential to hold substantial relevant experience – this can be gained via paid or voluntary employment with the appropriate party or through campaign work.'],\n",
       " 'https://docplayer.net/15919598-Senior-policy-and-campaigns-officer-job-profile.html': ['Job Description Job Title Assistant Digital Fundraising Manager Job Band SAME Job Reference UKO55432 Department Individual Giving Digital Fundraising Division Fundraising Location UK Office, London Duration',\n",
       "  'More information',\n",
       "  'Application Information Pack Digital Editor Introduction to Girlguiding Thank you for your interest in the role of Digital Editor. This document provides information relating to the above vacancy and should',\n",
       "  'More information'],\n",
       " 'https://www.indeed.com/hire/c/info/politician-job-description': ['Thecommunications coordinatoron a politician’s staff handles all of a politician’s communications including press releases, social media posts, speeches and interviews. They have a strong influence over the image a candidate projects to the public and work to show a consistent and likable sense of character to appeal to voters.',\n",
       "  'Candidates may hire aPR managerto gain public support for their policy goals. PR managers collaborate with communications managers to strategically release statements and respond to challenges from political competitors.'],\n",
       " 'https://www.prospects.ac.uk/job-profiles/politicians-assistant': ['Capita(4 other jobs)Competitive salaryVarious locations',\n",
       "  'View job',\n",
       "  \"Contact usProspects on InstagramProspects on FacebookProspects on TwitterProspects on LinkedinProspects on YoutubeProspects' Future You podcast\"],\n",
       " 'https://www.singstat.gov.sg/-/media/files/standards_and_classifications/occupational_classification/ssoc2020report.pdf': None}"
      ]
     },
     "execution_count": 15,
     "metadata": {},
     "output_type": "execute_result"
    }
   ],
   "source": [
    "extracting_job_description('Senior official of political party organisation')"
   ]
  },
  {
   "cell_type": "code",
   "execution_count": null,
   "id": "c7776c63",
   "metadata": {},
   "outputs": [],
   "source": [
    "SSOC_2020_unique['Dic Results'] = SSOC_2020_unique['SSOC 2020 Title'].apply(lambda title: extracting_job_description(title))"
   ]
  }
 ],
 "metadata": {
  "kernelspec": {
   "display_name": "my_enviro",
   "language": "python",
   "name": "my_enviro"
  },
  "language_info": {
   "codemirror_mode": {
    "name": "ipython",
    "version": 3
   },
   "file_extension": ".py",
   "mimetype": "text/x-python",
   "name": "python",
   "nbconvert_exporter": "python",
   "pygments_lexer": "ipython3",
   "version": "3.7.4"
  }
 },
 "nbformat": 4,
 "nbformat_minor": 5
}
