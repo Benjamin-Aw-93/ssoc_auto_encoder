{
 "cells": [
  {
   "cell_type": "markdown",
   "id": "eb458481-b243-450e-a56b-faf9a32e2749",
   "metadata": {},
   "source": [
    "## Data Augmentation\n",
    "\n",
    "**Author:** Benjamin Aw, Shaun Khoo  \n",
    "**Date:** 13 Oct 2021  \n",
    "**Context:** Trying to address the data quality issue (lack of quality labelled data)  \n",
    "**Objective:** Develop a function to create more synthetic examples using data augmentation for text data"
   ]
  },
  {
   "cell_type": "markdown",
   "id": "c7d5d3db-2324-4b50-b8b2-653cf344db88",
   "metadata": {
    "tags": []
   },
   "source": [
    "### A) Setting up"
   ]
  },
  {
   "cell_type": "code",
   "execution_count": 1,
   "id": "61863244-e9e0-46e3-aeb0-71ebb62a3c86",
   "metadata": {},
   "outputs": [],
   "source": [
    "import os\n",
    "os.chdir('..')"
   ]
  },
  {
   "cell_type": "code",
   "execution_count": 2,
   "id": "97231c13-250c-4070-b4fb-2712a55e9570",
   "metadata": {},
   "outputs": [
    {
     "name": "stderr",
     "output_type": "stream",
     "text": [
      "C:\\Users\\benjamin\\Desktop\\my_enviro\\lib\\site-packages\\torchaudio\\backend\\utils.py:67: UserWarning: No audio backend is available.\n",
      "  warnings.warn('No audio backend is available.')\n"
     ]
    }
   ],
   "source": [
    "import nlpaug.augmenter.char as nac\n",
    "import nlpaug.augmenter.word as naw\n",
    "import nlpaug.augmenter.sentence as nas\n",
    "import nlpaug.flow as nafc\n",
    "from nlpaug.util import Action"
   ]
  },
  {
   "cell_type": "code",
   "execution_count": 56,
   "id": "f64f667d-41d6-4a2a-bff9-5cf493937ca8",
   "metadata": {},
   "outputs": [
    {
     "name": "stderr",
     "output_type": "stream",
     "text": [
      "[nltk_data] Downloading package averaged_perceptron_tagger to\n",
      "[nltk_data]     C:\\Users\\benjamin\\AppData\\Roaming\\nltk_data...\n",
      "[nltk_data]   Package averaged_perceptron_tagger is already up-to-\n",
      "[nltk_data]       date!\n"
     ]
    },
    {
     "data": {
      "text/plain": [
       "True"
      ]
     },
     "execution_count": 56,
     "metadata": {},
     "output_type": "execute_result"
    }
   ],
   "source": [
    "import time\n",
    "import nltk\n",
    "import math\n",
    "import random\n",
    "import regex as re\n",
    "nltk.download('averaged_perceptron_tagger')"
   ]
  },
  {
   "cell_type": "code",
   "execution_count": 4,
   "id": "d12f5c09-43f2-468a-9d91-50cca94c1452",
   "metadata": {},
   "outputs": [],
   "source": [
    "# Download fasttext model, only run once\n",
    "#from nlpaug.util.file.download import DownloadUtil\n",
    "#DownloadUtil.download_fasttext(model_name = 'wiki-news-300d-1M', dest_dir = 'Models')"
   ]
  },
  {
   "cell_type": "code",
   "execution_count": 5,
   "id": "2105ff68-5db0-4bed-8329-e9bf06f140c2",
   "metadata": {},
   "outputs": [],
   "source": [
    "#import nltk\n",
    "#nltk.download('averaged_perceptron_tagger')"
   ]
  },
  {
   "cell_type": "code",
   "execution_count": 6,
   "id": "c6869ff8-a264-4642-b51e-d1b2a316f3d9",
   "metadata": {},
   "outputs": [],
   "source": [
    "model_dir = 'Models/'"
   ]
  },
  {
   "cell_type": "code",
   "execution_count": 7,
   "id": "35976d66-fadd-4064-a52a-30099ee75af5",
   "metadata": {},
   "outputs": [
    {
     "name": "stderr",
     "output_type": "stream",
     "text": [
      "C:\\Users\\benjamin\\Desktop\\my_enviro\\lib\\site-packages\\IPython\\core\\interactiveshell.py:3441: DtypeWarning: Columns (1) have mixed types.Specify dtype option on import or set low_memory=False.\n",
      "  exec(code_obj, self.user_global_ns, self.user_ns)\n"
     ]
    }
   ],
   "source": [
    "import pandas as pd\n",
    "SSOC_2020 = pd.read_csv('Data/Processed/Training/train-aws/SSOC_2020.csv')\n",
    "data = pd.read_csv('Data/Processed/Training/train-aws/train_full.csv')\n",
    "extra_info = pd.read_csv('Data/Processed/MCF_Training_Set_Full.csv')"
   ]
  },
  {
   "cell_type": "code",
   "execution_count": 8,
   "id": "e013656f-5a10-412c-a374-646c611bddaa",
   "metadata": {},
   "outputs": [],
   "source": [
    "# with open('ssoc_autocoder/sentaugment/data/sentences.txt', 'w') as f:\n",
    "#     for item in SSOC_2020['Description'][295:296]:\n",
    "#         f.write(\"%s\\n\" % ''.join([i if ord(i) < 128 else ' ' for i in item]))\n",
    "#         f.write(\"%s\\n\" % ''.join([i if ord(i) < 128 else ' ' for i in item]))"
   ]
  },
  {
   "cell_type": "markdown",
   "id": "01a02bb7-0629-4205-9dc9-c764dffd9b59",
   "metadata": {
    "tags": []
   },
   "source": [
    "### B) Testing different types of augmentation"
   ]
  },
  {
   "cell_type": "code",
   "execution_count": null,
   "id": "f6c5cfd8-991b-478d-9068-033c81abd1c8",
   "metadata": {},
   "outputs": [],
   "source": [
    "text = SSOC_2020['Description'][SSOC_2020['SSOC 2020'] == 25121].values[0]"
   ]
  },
  {
   "cell_type": "code",
   "execution_count": null,
   "id": "b1dd1d0d-90c9-4b66-9da0-6f32c8bd52a6",
   "metadata": {},
   "outputs": [],
   "source": [
    "print(text)"
   ]
  },
  {
   "cell_type": "markdown",
   "id": "5b592db7-5867-42fe-9584-97bd33055768",
   "metadata": {},
   "source": [
    "#### 1. Using pretrained word embeddings (`fasttext`)"
   ]
  },
  {
   "cell_type": "code",
   "execution_count": null,
   "id": "3b1283d0-3b97-4841-aa94-538080a89337",
   "metadata": {},
   "outputs": [],
   "source": [
    "fasttext_aug = naw.WordEmbsAug(model_type = 'fasttext', \n",
    "                               model_path = model_dir + 'wiki-news-300d-1M.vec',\n",
    "                               action = \"substitute\",\n",
    "                               top_k = 5,\n",
    "                               aug_p = 0.5,\n",
    "                               aug_min = 10,\n",
    "                               aug_max = None)"
   ]
  },
  {
   "cell_type": "code",
   "execution_count": null,
   "id": "f37eadad-aa61-42a7-b1cf-b1aa7cfe9e07",
   "metadata": {},
   "outputs": [],
   "source": [
    "fasttext_augmented_text = fasttext_aug.augment(text, num_thread = 4)\n",
    "print(fasttext_augmented_text)"
   ]
  },
  {
   "cell_type": "markdown",
   "id": "4b6bbe65-a6e3-4308-8278-aae853ccda50",
   "metadata": {},
   "source": [
    "#### 2. Using back translation\n",
    "Back translation means translating the whole text to another language and back to English."
   ]
  },
  {
   "cell_type": "code",
   "execution_count": null,
   "id": "01088545-3e4c-4b03-b521-2e827db0a9d5",
   "metadata": {},
   "outputs": [],
   "source": [
    "back_translation_aug = naw.BackTranslationAug(from_model_name='facebook/wmt19-en-de', \n",
    "                                              to_model_name='facebook/wmt19-de-en',\n",
    "                                              device = 'cuda',\n",
    "                                              max_length = 2000)"
   ]
  },
  {
   "cell_type": "code",
   "execution_count": null,
   "id": "768ee4f2-a81b-4471-9205-8e77eafb5ebf",
   "metadata": {},
   "outputs": [],
   "source": [
    "backtransl_augmented_text = back_translation_aug.augment(text, num_thread = 4)\n",
    "print(backtransl_augmented_text)"
   ]
  },
  {
   "cell_type": "markdown",
   "id": "02cdb789-645c-49c5-a24a-3523db71e97e",
   "metadata": {},
   "source": [
    "#### 3. Using synonyms"
   ]
  },
  {
   "cell_type": "code",
   "execution_count": null,
   "id": "a2cde746-a31e-402f-9f22-d0c96c038236",
   "metadata": {},
   "outputs": [],
   "source": [
    "synonym_aug = naw.SynonymAug(aug_src = 'ppdb', \n",
    "                             model_path = model_dir + 'ppdb-2.0-tldr',\n",
    "                             aug_p = 0.5,\n",
    "                             aug_min = 10,\n",
    "                             aug_max = None)"
   ]
  },
  {
   "cell_type": "code",
   "execution_count": null,
   "id": "f6c36ad4-cd24-42ba-8a09-087f453b676c",
   "metadata": {},
   "outputs": [],
   "source": [
    "synonym_augmented_text = synonym_aug.augment(text, num_thread = 4)\n",
    "print(synonym_augmented_text)"
   ]
  },
  {
   "cell_type": "markdown",
   "id": "35939835-17f6-4927-aaf6-3f536814f8c3",
   "metadata": {},
   "source": [
    "#### 4. Using contextual word embeddings"
   ]
  },
  {
   "cell_type": "code",
   "execution_count": null,
   "id": "62efcf73-52ec-459b-9d2e-567ae0541cfa",
   "metadata": {},
   "outputs": [],
   "source": [
    "distilbert_aug = naw.ContextualWordEmbsAug(model_path = 'distilbert-base-uncased', \n",
    "                                           action = \"substitute\",\n",
    "                                           top_k = 10,\n",
    "                                           aug_p = 0.7,\n",
    "                                           aug_min = 5,\n",
    "                                           aug_max = None,\n",
    "                                           device = 'cpu')"
   ]
  },
  {
   "cell_type": "code",
   "execution_count": null,
   "id": "2e85f3c1-240b-4bc4-936d-098551e3aa9b",
   "metadata": {},
   "outputs": [],
   "source": [
    "distilbert_augmented_text = distilbert_aug.augment(text, num_thread = 4)\n",
    "print(distilbert_augmented_text)"
   ]
  },
  {
   "cell_type": "markdown",
   "id": "98cd06b0-1f5a-498c-9078-5d2eae4a2b58",
   "metadata": {},
   "source": [
    "#### 5. Using sentence augmentation"
   ]
  },
  {
   "cell_type": "code",
   "execution_count": null,
   "id": "f6e043ca-a196-4fe5-8877-81b09c5df567",
   "metadata": {},
   "outputs": [],
   "source": [
    "sentence_aug = nas.ContextualWordEmbsForSentenceAug(model_path = 'distilgpt2',\n",
    "                                                    min_length = 100,\n",
    "                                                    max_length = 300,\n",
    "                                                    top_k = 50,\n",
    "                                                    top_p = .9,\n",
    "                                                    device = 'cuda')"
   ]
  },
  {
   "cell_type": "code",
   "execution_count": null,
   "id": "dfd6b579-1e4c-4577-af53-3ea6ea94e971",
   "metadata": {},
   "outputs": [],
   "source": [
    "sentence_augmented_text = sentence_aug.augment(text, num_thread = 4)\n",
    "print(sentence_augmented_text)"
   ]
  },
  {
   "cell_type": "markdown",
   "id": "388bccb0-f6be-4565-b790-b53bc680415a",
   "metadata": {},
   "source": [
    "#### 6. Using summarisation"
   ]
  },
  {
   "cell_type": "code",
   "execution_count": null,
   "id": "baff5459-bc6e-46f4-8b0e-1f978b273a9d",
   "metadata": {},
   "outputs": [],
   "source": [
    "summ_aug = nas.AbstSummAug(model_path = 't5-base', \n",
    "                           min_length = 50,\n",
    "                           max_length = 100,\n",
    "                           top_k = 20)"
   ]
  },
  {
   "cell_type": "code",
   "execution_count": null,
   "id": "53f69f5c-9fb0-4228-9863-45678c53031b",
   "metadata": {},
   "outputs": [],
   "source": [
    "summ_augmented_text = summ_aug.augment(text, num_thread = 4)"
   ]
  },
  {
   "cell_type": "code",
   "execution_count": null,
   "id": "7a1d2662-dce8-4872-9191-2d55f1d817d0",
   "metadata": {},
   "outputs": [],
   "source": [
    "summ_augmented_text"
   ]
  },
  {
   "cell_type": "markdown",
   "id": "f6804514-356f-4081-a136-775c3b01d1c6",
   "metadata": {},
   "source": [
    "#### 7. Adding spelling mistakes"
   ]
  },
  {
   "cell_type": "code",
   "execution_count": null,
   "id": "a8ffe5f0-0144-476e-80fb-4e806fce0158",
   "metadata": {},
   "outputs": [],
   "source": [
    "spl_aug = naw.SpellingAug(dict_path=None, \n",
    "                          name='Spelling_aug',\n",
    "                          aug_min=1, \n",
    "                          aug_max=10, \n",
    "                          aug_p=0.3)"
   ]
  },
  {
   "cell_type": "code",
   "execution_count": null,
   "id": "8ac96ef1-1ff2-47cc-9d5a-ef1307b63a56",
   "metadata": {},
   "outputs": [],
   "source": [
    "spl_augmented_text = spl_aug.augment(text)"
   ]
  },
  {
   "cell_type": "code",
   "execution_count": null,
   "id": "f9357b46-5b8a-4fdc-a156-9d957973d99d",
   "metadata": {},
   "outputs": [],
   "source": [
    "spl_augmented_text"
   ]
  },
  {
   "cell_type": "code",
   "execution_count": null,
   "id": "57e153ef-b153-4ebf-8044-68e903df7530",
   "metadata": {},
   "outputs": [],
   "source": [
    "nas."
   ]
  },
  {
   "cell_type": "markdown",
   "id": "65a2eae7-d6ae-49ae-823c-6e7ab82b8f2c",
   "metadata": {},
   "source": [
    "### C) Using GloVE embeddings to find and label more examples"
   ]
  },
  {
   "cell_type": "code",
   "execution_count": null,
   "id": "43ba96c0-c313-4345-89d1-0f3e22daa3ea",
   "metadata": {},
   "outputs": [],
   "source": [
    "import spacy\n",
    "from spacy.language import Language\n",
    "nlp = spacy.load('en_core_web_lg', disable = ['tagger', 'parser', 'ner', 'lemmatizer'])\n",
    "stopwords = nlp.Defaults.stop_words"
   ]
  },
  {
   "cell_type": "markdown",
   "id": "4ed20f1b-877b-49e5-8b08-3d7456f8068c",
   "metadata": {},
   "source": [
    "Add in additional preprocessing to remove the stop words"
   ]
  },
  {
   "cell_type": "code",
   "execution_count": null,
   "id": "7d7c0ccc-82c0-48fd-a713-c19b5ea59765",
   "metadata": {},
   "outputs": [],
   "source": [
    "@Language.component(\"additional_preprocessing\")\n",
    "def additional_preprocessing(doc):\n",
    "    lemma_list = [tok for tok in doc\n",
    "                  if tok.is_alpha and tok.text.lower() not in stopwords] \n",
    "    return lemma_list\n",
    "nlp.add_pipe('additional_preprocessing', last = True)"
   ]
  },
  {
   "cell_type": "markdown",
   "id": "0e43b7cf-a621-4782-b3bd-94e77b4c0126",
   "metadata": {},
   "source": [
    "Run the `nlp` processing pipeline over the two corpuses and convert the job postings into vectors"
   ]
  },
  {
   "cell_type": "code",
   "execution_count": null,
   "id": "e7fc08d5-97e6-4718-a309-f0f7576b3246",
   "metadata": {},
   "outputs": [],
   "source": [
    "SSOC_2020_nlp = list(nlp.pipe(SSOC_2020['Description']))\n",
    "data_nlp = list(nlp.pipe(data['Cleaned_Description']))"
   ]
  },
  {
   "cell_type": "code",
   "execution_count": null,
   "id": "1e12ca34-948b-41b7-b5f6-d994489c0405",
   "metadata": {},
   "outputs": [],
   "source": [
    "target_vecs = []\n",
    "for i, desc in enumerate(data_nlp):\n",
    "    if i % 100 == 0:\n",
    "        print(f'Job posting {i}/{len(data_nlp)}...\\r', end = '')\n",
    "    if len(desc) == 0:\n",
    "        target_vecs.append(np.array([0]*300))\n",
    "    else:\n",
    "        target_vecs.append(np.mean([token.vector for token in desc], axis = 0))"
   ]
  },
  {
   "cell_type": "markdown",
   "id": "81fe8d43-b1ab-4bf4-b6eb-49d6b1e19168",
   "metadata": {},
   "source": []
  },
  {
   "cell_type": "code",
   "execution_count": null,
   "id": "b421be98-6a9f-47d3-baa6-5c26f399a1c5",
   "metadata": {},
   "outputs": [],
   "source": [
    "detailed_definitions_raw = pd.read_excel('Data/Raw/SSOC2020 Detailed Definitions.xlsx', skiprows = 4)"
   ]
  },
  {
   "cell_type": "code",
   "execution_count": null,
   "id": "ae8d3e5d-7aaa-41f0-b4fb-192a1574b7ae",
   "metadata": {},
   "outputs": [],
   "source": [
    "detailed_definitions = detailed_definitions_raw[(~detailed_definitions_raw['SSOC 2020'].astype('str').str.contains('X')) & (detailed_definitions_raw['SSOC 2020'].astype('str').apply(len) >= 5)]"
   ]
  },
  {
   "cell_type": "code",
   "execution_count": null,
   "id": "ed3da59e-67ae-4076-bed4-6bcc19691e0a",
   "metadata": {},
   "outputs": [],
   "source": [
    "to_replace = {\n",
    "    '•': '',\n",
    "    '\\n': '.',\n",
    "    '<Blank>': '',\n",
    "    '\\([A-Za-z0-9 ]+\\)': ''\n",
    "}\n",
    "\n",
    "detailed_definitions['Jobs Cleaned'] = detailed_definitions['Examples of Job Classified Under this Code']\n",
    "\n",
    "for k, v in to_replace.items():\n",
    "    detailed_definitions['Jobs Cleaned'] = detailed_definitions['Jobs Cleaned'].str.replace(k, v)"
   ]
  },
  {
   "cell_type": "code",
   "execution_count": null,
   "id": "b7356cd1-be6f-43f3-ae46-670bb1514153",
   "metadata": {},
   "outputs": [],
   "source": [
    "detailed_definitions['Jobs Cleaned']"
   ]
  },
  {
   "cell_type": "markdown",
   "id": "f431f306-0945-4d43-8629-9a4771b02b41",
   "metadata": {},
   "source": [
    "Write a simple function to identify the top `n` jobs that are closest to the selected SSOC"
   ]
  },
  {
   "cell_type": "code",
   "execution_count": null,
   "id": "95e3eedf-1a34-4d2a-b6f8-a0676f8d551c",
   "metadata": {},
   "outputs": [],
   "source": [
    "from sklearn.metrics.pairwise import cosine_similarity\n",
    "def identify_top_n(selected,\n",
    "                   data,\n",
    "                   extra_info,\n",
    "                   target_vecs,\n",
    "                   top_n = 10,\n",
    "                   threshold = 0.9):\n",
    "    \n",
    "    source_vec = np.array([np.mean([token.vector for token in selected], axis = 0)])\n",
    "    matrix = cosine_similarity(source_vec, target_vecs)\n",
    "    indices = np.apply_along_axis(lambda x: x.argsort()[-top_n:][::-1], axis = 1, arr = matrix)\n",
    "    above_threshold = matrix[0][indices][0] >= threshold\n",
    "    indices = [idx for idx, above in zip(indices[0], above_threshold) if above]\n",
    "    if len(indices) == 0:\n",
    "        print('None meet the threshold required.')\n",
    "    else:\n",
    "        cosine_similarity_index = 0\n",
    "        for i, row in data.loc[indices, :].iterrows():\n",
    "            print(f'Index: {i}')\n",
    "            print(f'Cosine similarity: {matrix[0][indices][cosine_similarity_index]}')\n",
    "            print(f'Predicted SSOC: {row[\"SSOC 2020\"]}')\n",
    "            print(f'Job title: {extra_info[\"title\"][i]}')\n",
    "            print(f'Description: {row[\"Cleaned_Description\"]}')\n",
    "            print('================================================================')\n",
    "            cosine_similarity_index += 1"
   ]
  },
  {
   "cell_type": "code",
   "execution_count": null,
   "id": "fdcb194f-2b03-4ac2-8629-381464f92bc6",
   "metadata": {},
   "outputs": [],
   "source": [
    "def find_matching_job_title(data,\n",
    "                            include,\n",
    "                            exclude):\n",
    "    \n",
    "    output = copy.deepcopy(data)\n",
    "    output['title'] = output['title'].str.lower()\n",
    "    \n",
    "    include_boolean = [False] * len(output)\n",
    "    for words in include:\n",
    "        entry_boolean = [True] * len(output)\n",
    "        for word in words.split(' '):\n",
    "            entry_boolean = entry_boolean & output['title'].str.contains(word.lower())\n",
    "        include_boolean = include_boolean | entry_boolean\n",
    "    \n",
    "    for words in exclude:\n",
    "        for word in words.split(' '):\n",
    "            include_boolean = include_boolean & ~output['title'].str.contains(word.lower())\n",
    "            \n",
    "    job_titles_idx = output[include_boolean.values].index.tolist()\n",
    "    return job_titles_idx\n",
    "            "
   ]
  },
  {
   "cell_type": "code",
   "execution_count": null,
   "id": "c49bdea3-17da-401e-8f6a-3a68386365eb",
   "metadata": {},
   "outputs": [],
   "source": [
    "pd.set_option('display.max_rows', 500)\n",
    "import copy\n",
    "import json\n",
    "# Run this to initialise the dictionary object\n",
    "# with open('manual_tagging.json', 'r') as outfile:\n",
    "#     manual_tagging1 = json.load(outfile)"
   ]
  },
  {
   "cell_type": "code",
   "execution_count": null,
   "id": "4070e05f-5ece-43fc-adca-ee844f52f2c1",
   "metadata": {},
   "outputs": [],
   "source": [
    "# Run this to export the manual tagging to the JSON file\n",
    "# with open('manual_tagging.json', 'w') as outfile:\n",
    "#     json.dump(manual_tagging, outfile)"
   ]
  },
  {
   "cell_type": "markdown",
   "id": "c1b40010-733a-4d23-9cb3-41b09738bada",
   "metadata": {},
   "source": [
    "Set the SSOC you are scanning for here"
   ]
  },
  {
   "cell_type": "code",
   "execution_count": null,
   "id": "7e1bbdc2-1e40-420a-bef5-2c330598c088",
   "metadata": {},
   "outputs": [],
   "source": [
    "ssoc = 12221\n",
    "include_job_titles = [17640, 30290, 34491, 36065, 36409, 37141, 42499]\n",
    "for detailed_def_job in detailed_definitions['Jobs Cleaned'][detailed_definitions['SSOC 2020'] == str(ssoc)].values[0].split('.'):\n",
    "    print(detailed_def_job.strip())\n",
    "    include_job_titles.append(detailed_def_job.strip())"
   ]
  },
  {
   "cell_type": "code",
   "execution_count": null,
   "id": "d8f42705-cbe4-4fc7-b1e9-744638be2941",
   "metadata": {},
   "outputs": [],
   "source": [
    "job_titles_idx = find_matching_job_title(extra_info,\n",
    "                                         include = ['public relations manager'],\n",
    "                                         exclude = [])"
   ]
  },
  {
   "cell_type": "code",
   "execution_count": null,
   "id": "1bcaa1df-0052-4b8a-a3cb-eb8fc80b7868",
   "metadata": {},
   "outputs": [],
   "source": [
    "print(job_titles_idx)\n",
    "for i, title in extra_info.loc[job_titles_idx, 'title'].iteritems():\n",
    "    print(f\"{i}: {title}\")"
   ]
  },
  {
   "cell_type": "code",
   "execution_count": null,
   "id": "5fac4437-1ec5-4eaa-9f8e-441f90592528",
   "metadata": {},
   "outputs": [],
   "source": [
    "print(extra_info.loc[34491, 'description'])"
   ]
  },
  {
   "cell_type": "code",
   "execution_count": null,
   "id": "d92d37df-b635-44ab-989b-f228a663ff05",
   "metadata": {},
   "outputs": [],
   "source": [
    "ssoc_index = SSOC_2020[SSOC_2020['SSOC 2020'] == ssoc].index[0]\n",
    "identify_top_n(SSOC_2020_nlp[ssoc_index], data, extra_info, target_vecs, top_n = 15, threshold = 0.85)"
   ]
  },
  {
   "cell_type": "markdown",
   "id": "91919bb2-3089-43bf-9c42-26245abdf1c9",
   "metadata": {},
   "source": [
    "Use this to find job postings with the exact job title"
   ]
  },
  {
   "cell_type": "code",
   "execution_count": null,
   "id": "972be88c-7440-4c4e-879a-2dd33bcb0365",
   "metadata": {},
   "outputs": [],
   "source": [
    "words = ['admin', 'manager'] # what words to include\n",
    "exclude = ['account', 'database', 'it', 'project'] # what words to exclude\n",
    "output = copy.deepcopy(extra_info)\n",
    "for word in words:\n",
    "    output = output[output['title'].str.lower().str.contains(word)]\n",
    "for word in exclude:\n",
    "    output = output[~output['title'].str.lower().str.contains(word)]\n",
    "job_titles_idx = output.index.tolist()\n",
    "print(job_titles_idx)"
   ]
  },
  {
   "cell_type": "code",
   "execution_count": null,
   "id": "69145a14-882b-484b-a6be-0abc3750c345",
   "metadata": {},
   "outputs": [],
   "source": []
  },
  {
   "cell_type": "code",
   "execution_count": null,
   "id": "9e5cb697-3a53-49c4-8487-767a233dd247",
   "metadata": {},
   "outputs": [],
   "source": [
    "#extra_info.loc[25834, 'description']"
   ]
  },
  {
   "cell_type": "markdown",
   "id": "287f12ec-5146-4683-912b-a3b1b6911ca7",
   "metadata": {},
   "source": [
    "Change the list `inputting` here to input the indices of the job postings that you want to manually tag as that SSOC"
   ]
  },
  {
   "cell_type": "code",
   "execution_count": null,
   "id": "c948c3c2-d29d-444d-aee8-8d31ca2d331e",
   "metadata": {},
   "outputs": [],
   "source": [
    "manual_tagging[ssoc] = []\n",
    "inputting = []\n",
    "inputting_dedup = list(set(inputting))\n",
    "for key in manual_tagging.keys():\n",
    "    for new_idx in inputting_dedup:\n",
    "        if new_idx in manual_tagging[key]:\n",
    "            print(f'Duplicate detected for index {new_idx} which has already been marked for SSOC {key}')\n",
    "            inputting_dedup.remove(new_idx)\n",
    "manual_tagging[ssoc].extend(inputting_dedup)\n",
    "print(f'SSOC: {ssoc}')\n",
    "print(manual_tagging[ssoc])"
   ]
  },
  {
   "cell_type": "code",
   "execution_count": null,
   "id": "5ac5910f-1ff1-4868-8666-7a5e280860de",
   "metadata": {},
   "outputs": [],
   "source": []
  },
  {
   "cell_type": "code",
   "execution_count": null,
   "id": "084a1431-9ea9-4b22-aba7-1f32712ee62d",
   "metadata": {},
   "outputs": [],
   "source": [
    "# ssoc_index = SSOC_2020[SSOC_2020['SSOC 2020'] == ssoc].index[0]\n",
    "# identify_top_n(SSOC_2020_nlp[ssoc_index], data, extra_info, target_vecs, top_n = 15, threshold = 0.85)"
   ]
  },
  {
   "cell_type": "markdown",
   "id": "c804e260-1e35-4013-a7c4-5043c285229c",
   "metadata": {
    "tags": []
   },
   "source": [
    "### D) Trying out lambada\n",
    "\n",
    "Ref: https://github.com/makcedward/nlpaug/blob/master/example/lambada-train_model.ipynb"
   ]
  },
  {
   "cell_type": "code",
   "execution_count": null,
   "id": "cb197d9e-bad9-4a93-8781-cdf7a24704db",
   "metadata": {},
   "outputs": [],
   "source": [
    "test_data = data.sample(100)\n",
    "\n",
    "test_data = test_data[['SSOC 2020', 'Cleaned_Description']]"
   ]
  },
  {
   "cell_type": "code",
   "execution_count": null,
   "id": "57ecde3b-1665-4fb2-81ad-8f1425c623ca",
   "metadata": {},
   "outputs": [],
   "source": [
    "test_data.rename({'SSOC 2020': 'label', 'Cleaned_Description': 'text'}, axis=1, inplace=True)"
   ]
  },
  {
   "cell_type": "code",
   "execution_count": null,
   "id": "60c8f9aa-309f-4b1e-bd18-4dab864a9f72",
   "metadata": {},
   "outputs": [],
   "source": [
    "test_data = test_data[['text', 'label']]"
   ]
  },
  {
   "cell_type": "code",
   "execution_count": null,
   "id": "c4dae864-e575-426f-832a-5d98cf5aec6d",
   "metadata": {},
   "outputs": [],
   "source": [
    "test_data.to_csv('Data/test/classification.csv', index = False)"
   ]
  },
  {
   "cell_type": "markdown",
   "id": "06967df2-b3ce-48e9-abd6-53acf1780a8d",
   "metadata": {},
   "source": [
    "Training classifier\n",
    "\n",
    "DL files from nlpaug\n",
    "Copy and paste scripts from nlpaug to Models folder\n",
    "Create file path model\\lambada\\cls in Models folder\n",
    "Uploaded c"
   ]
  },
  {
   "cell_type": "code",
   "execution_count": null,
   "id": "24f3a89b-23ff-4ed2-9318-edeb794f1cb8",
   "metadata": {},
   "outputs": [],
   "source": [
    "!python Models/scripts/lambada/train_cls.py  \\\n",
    "    --train_data_path Data/test/classification.csv \\\n",
    "    --val_data_path Data/test/classification.csv \\\n",
    "    --output_dir Models/model/lambada/cls \\\n",
    "    --device cpu \\\n",
    "    --num_epoch 2"
   ]
  },
  {
   "cell_type": "markdown",
   "id": "7f4a77c5-cd76-4395-a006-82a8f74bb7dd",
   "metadata": {},
   "source": [
    "Output processing data as mlm_data.txt"
   ]
  },
  {
   "cell_type": "code",
   "execution_count": null,
   "id": "215d5d70-be1f-49f8-844a-71769ed33df6",
   "metadata": {},
   "outputs": [],
   "source": [
    "!python Models/scripts/lambada/data_processing.py \\\n",
    "    --data_path Data/test/classification.csv \\\n",
    "    --output_dir Data/test"
   ]
  },
  {
   "cell_type": "code",
   "execution_count": null,
   "id": "bab36686-9f2f-44be-a1e2-baca36c41a07",
   "metadata": {},
   "outputs": [],
   "source": [
    "!python Models/scripts/lambada/run_clm.py \\\n",
    "    --tokenizer_name Models/model/lambada/cls \\\n",
    "    --model_name_or_path gpt2 \\\n",
    "    --model_type gpt2 \\\n",
    "    --train_file Data/test/mlm_data.txt \\\n",
    "    --output_dir Models/scripts/lambada/gen \\\n",
    "    --do_train \\\n",
    "    --overwrite_output_dir \\\n",
    "    --per_device_train_batch_size 4 \\\n",
    "    --per_device_eval_batch_size 4 \\\n",
    "    --save_steps=10000 \\\n",
    "    --num_train_epochs 2"
   ]
  },
  {
   "cell_type": "markdown",
   "id": "d4d055e1-ac73-485d-af89-2146c33e9b91",
   "metadata": {},
   "source": [
    "Not tested yet"
   ]
  },
  {
   "cell_type": "code",
   "execution_count": null,
   "id": "046db47f-9683-43b5-9474-f6957fe6e988",
   "metadata": {},
   "outputs": [],
   "source": [
    "aug = nas.LambadaAug(model_dir='../model/lambada', threshold=0.3, batch_size=4)"
   ]
  },
  {
   "cell_type": "code",
   "execution_count": null,
   "id": "c2de8a15-5791-48a8-ba84-06c32d1f44f9",
   "metadata": {},
   "outputs": [],
   "source": [
    "aug.augment(['24111', '23619'], n=10)"
   ]
  },
  {
   "cell_type": "markdown",
   "id": "809f5b32-838a-4617-a604-2543b11c33ed",
   "metadata": {},
   "source": [
    "This entry gave errors, a character is not UTF-8 compliant, not sure which one though."
   ]
  },
  {
   "cell_type": "markdown",
   "id": "1f87bbc6-f8da-4355-b57e-3d650e108d92",
   "metadata": {},
   "source": [
    "#### E) Implementing Data Augmentation"
   ]
  },
  {
   "cell_type": "markdown",
   "id": "3ecf2353-f3ec-4935-81c5-a52d90f3ad77",
   "metadata": {},
   "source": [
    "Create a function to collate all the augmentation process, and create a dictionary based on the output.\n",
    "\n",
    "The methods are:\n",
    "\n",
    "1) Using pretrained word embeddings\n",
    "2) Using back translation\n",
    "3) Using synonyms\n",
    "4) Using contextual word embeddings\n",
    "5) Using sentence augmentation\n",
    "6) Using summarisation"
   ]
  },
  {
   "cell_type": "code",
   "execution_count": 9,
   "id": "30a340b8-43b4-4cbb-81b0-9b46658ff6cc",
   "metadata": {},
   "outputs": [],
   "source": [
    "text = '''Deliver and develop a robust communications strategy and implementation plan which encompass PR and other communication vehicles, including new social platforms, video and other multi-media tools to understand AHL's multiple stakeholders and customers and build equity of AHL brand. Develop powerful narratives and compelling content to promote the suite of festivals and programmes under the initiative (e g media materials, profile stories and videos) to various target audiences, e g media, public, partners etc. Manage media relations and take the lead in handling media queries, drafting media materials and analysing media coverage. Responsible for Communications Planning & Message Development: To develop and execute PR plans craft media materials including press releases, speeches, message houses, media responses and interview talking points. Grow media partnerships organically and coordinate media interest in AHL and ensure regular contact with target media and appropriate response to media requests. Act as AHL's representative with the media and develop strong relationships with media representatives, locally and internationally. Establish and drive internal and external communications strategy that positively affects employees' and customers' understanding, engagement and commitment with the result of an even stronger connection to AHL. Work closely with marketing colleagues on integrating media communications initiatives within marketing strategies and campaigns/activities for key festivals and programmes. Assist Head of Marcomms to develop the department's strategic short and long term plan, and address critical issues in the communications area. The plan will set out objectives for each strategic area of the department and outlines plans and budget for achieving those objectives. Keep abreast of the development in the field of communications and public relations, not-for-profit management and governance. To carry out and assume any other duties and responsibilities as and when assigned by the AHL Management.'''"
   ]
  },
  {
   "cell_type": "markdown",
   "id": "f6dad23a-ac8b-434e-9a68-f8baa7d86491",
   "metadata": {},
   "source": [
    "General Parameters explained:\n",
    "- top_k: \n",
    "    - Controlling lucky draw pool. Top k score token will be used for augmentation. Larger k, more token can be used. Default value is 100. If value is None which means using all possible tokens.\n",
    "- top_p: \n",
    "    - If set to float < 1, only the most probable tokens with probabilities that add up to `top_p` or higher are kept for generation.\n",
    "- aug_p:\n",
    "    - Percentage of word will be augmented.\n",
    "- aug_min:\n",
    "    - Minimum number of word will be augmented.\n",
    "- aug_max:\n",
    "    - Maximum number of word will be augmented. If None is passed, number of augmentation is calculated via aup_p. If calculated result from aug_p is smaller than aug_max, will use calculated result from aug_p. Otherwise, using aug_max.\n",
    "- device:\n",
    "    - If GPU is present use CUDA, if not rely on default value CPU.\n",
    "- min_length: \n",
    "    - For context sentence augmentation, the min length of output text.\n",
    "- max_length:\n",
    "    - For context sentence augmentation, the max length of output text.\n",
    "\n",
    "Specific paramters:\n",
    "1) Pretrained embeddings substitution\n",
    "    - asd\n",
    "2) Back-Translation\n",
    "    - asd\n",
    "3) Synonyms\n",
    "    - asd\n",
    "4) Contextual word embeddings\n",
    "    - asd\n",
    "5) Sentence augmentation\n",
    "    - asd\n",
    "6) Summarisation\n",
    "    - asd"
   ]
  },
  {
   "cell_type": "code",
   "execution_count": 44,
   "id": "17f85b89-14f4-4a52-bfaf-400608f34494",
   "metadata": {},
   "outputs": [],
   "source": [
    "params = {\n",
    "    'top_k': 5,\n",
    "    \"top_p\": 0.9,\n",
    "    'aug_p': 0.5,\n",
    "    'aug_min': 10,\n",
    "    'device': 'cpu',\n",
    "    'min_length': 100,\n",
    "    'max_length': 340,\n",
    "    'wrd_embd': {\n",
    "        'model_type': 'glove',\n",
    "        'model_path': 'Models/glove.840B.300d.txt',\n",
    "        'action': 'substitute'\n",
    "    },\n",
    "    'bk_trans': {\n",
    "        'from_model_name': 'facebook/wmt19-en-de',\n",
    "        'to_model_name': 'facebook/wmt19-de-en',\n",
    "    },\n",
    "    'synonym': {\n",
    "        'aug_src': 'ppdb',\n",
    "        'model_path': 'Models/ppdb-2.0-tldr'\n",
    "    },\n",
    "    'context_emb': {\n",
    "        'model_path': 'distilbert-base-uncased',\n",
    "        'action': 'substitute'\n",
    "    },\n",
    "    'sent_aug': {\n",
    "        'model_path': 'distilgpt2'\n",
    "    },\n",
    "    'summ_aug': {\n",
    "        'model_path': 't5-base'\n",
    "    }\n",
    "}"
   ]
  },
  {
   "cell_type": "code",
   "execution_count": 45,
   "id": "8691fe22-9301-43b8-a1af-94e1e6ca93c3",
   "metadata": {},
   "outputs": [],
   "source": [
    "def data_aug_collated(text, params):\n",
    "    start = time.perf_counter()\n",
    "    output = {'orginal_text': text}\n",
    "    \n",
    "    print(f\"Original text:\\n{text}\")\n",
    "    print(\"===================================================================================================\")\n",
    "    \n",
    "    tic = time.perf_counter()\n",
    "    wrd_embd_aug  = naw.WordEmbsAug(model_type = params['wrd_embd']['model_type'], \n",
    "                                  model_path = params['wrd_embd']['model_path'],\n",
    "                                  action = params['wrd_embd']['action'],\n",
    "                                  top_k = params['top_k'],\n",
    "                                  aug_p = params['aug_p'],\n",
    "                                  aug_min = params['aug_min'])\n",
    "    \n",
    "    wrd_emb_out = wrd_embd_aug.augment(text, num_thread = 4)\n",
    "    output[\"wrd_emb_out\"] = wrd_emb_out\n",
    "    toc = time.perf_counter()\n",
    "    \n",
    "    print(f\"Word embedding convertion:\\n{wrd_emb_out}\")\n",
    "    print(f\"\\nTime taken: {toc - tic:0.4f}\")\n",
    "    print(\"===================================================================================================\")\n",
    "    \n",
    "    tic = time.perf_counter()\n",
    "    bk_trans_aug = naw.BackTranslationAug(from_model_name = params['bk_trans']['from_model_name'], \n",
    "                                          to_model_name = params['bk_trans']['to_model_name'],\n",
    "                                          device = params['device'],\n",
    "                                          max_length = params['max_length'])\n",
    "    \n",
    "    bk_trans_out = bk_trans_aug.augment(text, num_thread = 4)\n",
    "    output[\"bk_trans_out\"] = bk_trans_out\n",
    "    toc = time.perf_counter()\n",
    "        \n",
    "    print(f\"Back translation convertion:\\n{bk_trans_out}\")\n",
    "    print(f\"\\nTime taken: {toc - tic:0.4f}\")\n",
    "    print(\"===================================================================================================\")\n",
    "\n",
    "    tic = time.perf_counter()\n",
    "    synonym_aug = naw.SynonymAug(aug_src = params['synonym']['aug_src'], \n",
    "                                 model_path = params['synonym']['model_path'],\n",
    "                                 aug_p = params['aug_p'],\n",
    "                                 aug_min = params['aug_min'])\n",
    "    \n",
    "    synonym_out = synonym_aug.augment(text, num_thread = 4)\n",
    "    output[\"synonym_out\"] = synonym_out\n",
    "    toc = time.perf_counter()\n",
    "        \n",
    "    print(f\"Synonym convertion:\\n{synonym_out}\")\n",
    "    print(f\"\\nTime taken: {toc - tic:0.4f}\")\n",
    "    print(\"===================================================================================================\")\n",
    "    \n",
    "    tic = time.perf_counter()\n",
    "    \n",
    "    context_emb_aug = naw.ContextualWordEmbsAug(model_path = params['context_emb']['model_path'], \n",
    "                                                action = params['context_emb']['action'],\n",
    "                                                top_k = params['top_k'],\n",
    "                                                aug_p = params['aug_p'],\n",
    "                                                aug_min = params['aug_p'],\n",
    "                                                device = params['device'])\n",
    "    \n",
    "    context_emb_out = context_emb_aug.augment(text, num_thread = 4)\n",
    "    output[\"context_emb_out\"] = context_emb_out\n",
    "    toc = time.perf_counter()\n",
    "        \n",
    "    print(f\"Context embedding convertion:\\n{context_emb_out}\")\n",
    "    print(f\"\\nTime taken: {toc - tic:0.4f}\")\n",
    "    print(\"===================================================================================================\")\n",
    "    \n",
    "    \n",
    "    sent_aug = nas.ContextualWordEmbsForSentenceAug(model_path = params['sent_aug']['model_path'],\n",
    "                                                    min_length = params['min_length'],\n",
    "                                                    max_length = params['max_length'],\n",
    "                                                    top_k = params['top_k'],\n",
    "                                                    top_p = params['top_p'],\n",
    "                                                    device = params['device'])\n",
    "    \n",
    "    sent_out = sent_aug.augment(text, num_thread = 4)\n",
    "    output[\"sent_out\"] = sent_out\n",
    "    toc = time.perf_counter()\n",
    "        \n",
    "    print(f\"Sentence augmentation convertion:\\n{sent_out}\")\n",
    "    print(f\"\\nTime taken: {toc - tic:0.4f}\")\n",
    "    print(\"===================================================================================================\")\n",
    "    \n",
    "    summ_aug = nas.AbstSummAug(model_path = params['summ_aug']['model_path'], \n",
    "                           min_length = params['min_length'],\n",
    "                           max_length = params['max_length'],\n",
    "                           top_k = params['top_k'])\n",
    "\n",
    "    summ_out = summ_aug.augment(text, num_thread = 4)\n",
    "    \n",
    "    print(f\"Summarisation convertion:\\n{summ_out}\")\n",
    "    output[\"summ_out\"] = summ_out\n",
    "    print(f\"\\nTime taken: {toc - tic:0.4f}\")\n",
    "    print(\"===================================================================================================\")\n",
    "    \n",
    "    end = time.perf_counter()\n",
    "    print(\"Done convertion\")\n",
    "    print(f\"\\nTotal time taken: {end - start:0.4f}\")\n",
    "    \n",
    "    return output\n",
    "    "
   ]
  },
  {
   "cell_type": "code",
   "execution_count": 46,
   "id": "f901d59a-084a-4de2-b365-7efac980867b",
   "metadata": {},
   "outputs": [
    {
     "name": "stdout",
     "output_type": "stream",
     "text": [
      "Original text:\n",
      "Deliver and develop a robust communications strategy and implementation plan which encompass PR and other communication vehicles, including new social platforms, video and other multi-media tools to understand AHL's multiple stakeholders and customers and build equity of AHL brand. Develop powerful narratives and compelling content to promote the suite of festivals and programmes under the initiative (e g media materials, profile stories and videos) to various target audiences, e g media, public, partners etc. Manage media relations and take the lead in handling media queries, drafting media materials and analysing media coverage. Responsible for Communications Planning & Message Development: To develop and execute PR plans craft media materials including press releases, speeches, message houses, media responses and interview talking points. Grow media partnerships organically and coordinate media interest in AHL and ensure regular contact with target media and appropriate response to media requests. Act as AHL's representative with the media and develop strong relationships with media representatives, locally and internationally. Establish and drive internal and external communications strategy that positively affects employees' and customers' understanding, engagement and commitment with the result of an even stronger connection to AHL. Work closely with marketing colleagues on integrating media communications initiatives within marketing strategies and campaigns/activities for key festivals and programmes. Assist Head of Marcomms to develop the department's strategic short and long term plan, and address critical issues in the communications area. The plan will set out objectives for each strategic area of the department and outlines plans and budget for achieving those objectives. Keep abreast of the development in the field of communications and public relations, not-for-profit management and governance. To carry out and assume any other duties and responsibilities as and when assigned by the AHL Management.\n",
      "===================================================================================================\n",
      "Word embedding convertion:\n",
      "Deliver other develop a robust communications strategy and implementation plan which encompass PR and other communication vehicles, including new social platforms, video and other multi - media tools to understand AHL ' s multiple stakeholders and customers and build equity of AHL brand. Demonstrate powerful narratives and compelling content to promote the suite of festivals and programmes under the initiative (e g media materials, profile stories and videos) to various target audiences, e g multimedia, public, partners etc. Manage media relations and take the lead in handling media queries, drafting media materials and analysing media coverage. Responsible for Communications Planning & Message Development: To develop and execute PR plans craft media materials including press releases, speeches, message houses, media responses and interviewer talk points. Grow media partnerships organically and coordinate media interest in AHL and ensure regular contact with target media and appropriate response to media requests. Act as AHL ' s representative with the media and develop strong relationships with media representatives, locally and internationally. Establish and drive internal and external communications strategy that positively affects employees ' while customers ' fundamental, engagement and commitment with the result of an even stronger connection to AHL. Working closely with marketing colleagues on integrating media communications initiatives within marketing strategies and campaigns / activities for key festivals and programmes. Assist Head of Marcomms to develop the dept. ' s strategic shorter and long term plan, and address critical issues in the communications area. The plan will set out objectives for each strategic area of the department and outlines plans and budget for achieving those objectives. Keep abreast of the development in the field of communications and public relations, not - for - profit management and governance. To carry out and assume any other duties and responsibilities as and when assigned by the AHL Management.\n",
      "\n",
      "Time taken: 3.6424\n",
      "===================================================================================================\n",
      "Back translation convertion:\n",
      "Deploy and develop a robust communications strategy and implementation plan that includes PR and other means of communication, including new social platforms, video and other multimedia tools, to understand AHL's diverse stakeholders and customers and build AHL brand equity. Develop powerful narratives and compelling content to promote the range of festivals and programs under the initiative (such as media materials, profile stories and videos) to different audiences, such as media, the public, partners, etc. Manage media relations and take the lead in handling media requests, media material creation, and media reporting analysis. Responsible for communications planning and news development: To develop and implement PR plans, create media materials such as press releases, speeches, news outlets, media responses, and interviews. Grow media partnerships organically and coordinate media interest in AHL, and ensure regular contact with media targets and appropriate responses to media demands as AHL representatives and develop strong relationships with media locally.\n",
      "\n",
      "Time taken: 49.7937\n",
      "===================================================================================================\n",
      "Synonym convertion:\n",
      "Deliver and develop a robust communications strategy and implementation plan which encompass PR and other communication vehicles, including new social platforms, video and other multi - media tools to understand AHL ' subs multiple stakeholders and customers and build equity of AHL brand. Develop powerful narratives and compelling content to promote the suite of festivals and programmes under the initiative (e g media materials, profile stories and videos) to various target audiences, e g media, public, partners etc. Manage media relations and take the lead in handling media queries, drafting media materials and monitoring media coverage. Responsible for Communications Planning & Message Development: To develop and execute PR expenditure craft media materials including press releases, speeches, message houses, media responses and interview talking points. Grow components partnerships organically and coordinate media interest in AHL and ensure regular contact with target judgement and appropriate response to media requests. Act as AHL ' s representative with the media and develop strong relationships with media representatives, locally and internationally. Establish and drive internal and external communications strategy that positively affects employees ' and customers ' understanding, engagement and devotion with the result of an even stronger connection to AHL. Work closely with marketing colleagues on integrating media communications initiatives within marketing strategies and campaigns / activities for key activities and programmes. Assist Head of Marcomms to develop the department ' amounts strategic short and long legislature plan, and address critical issues in the communications area. The plan will set out objectives for each strategic area of the department and outlines plans and budget requests achieving those objectives. Keep abreast of the development in the field of communications and public relations, not - for - profit management and governance. To carry out and assume any other duties and responsibilities as and when assigned by the AHL Management.\n",
      "\n",
      "Time taken: 0.4590\n",
      "===================================================================================================\n"
     ]
    },
    {
     "name": "stderr",
     "output_type": "stream",
     "text": [
      "Input length of input_ids is 340, but ``max_length`` is set to 340.This can lead to unexpected behavior. You should consider increasing ``config.max_length`` or ``max_length``.\n"
     ]
    },
    {
     "name": "stdout",
     "output_type": "stream",
     "text": [
      "Context embedding convertion:\n",
      "deliver and develop a robust communications strategy and implementation plan which encompass pr and other communication vehicles, including new social platforms, video, other multi - media tools to understand ahl's multiple stakeholders and customers and build equity of ahl brand. develop powerful narratives and compelling content to promote the suite of festivals and programmes under the initiative ( e g media materials, news stories and videos ) to various target audiences, e g media, broadcasters, partners etc. manage media relations and take the lead in handling media queries, drafting media materials and analysing media trends. responsible for communications planning & message development : to develop and execute pr plans craft media materials including press releases, speeches, message houses, media responses and interview talking points. grow media partnerships organically and coordinate media interest in ahl and ensure direct contact with existing media and appropriate response to media requests. act as ahl's representative with the media and develop strong relationships with media representatives, locally and internationally. establish and drive internal and external communication strategy that positively affects employees'and customers'understanding, engagement and commitment with the aim of an even stronger connection to ahl. work closely with marketing colleagues on integrating media communications initiatives within marketing strategies and campaigns / activities for key festivals or programmes. assist head of marcomms to develop the ahl's strategic short and long term plan, and address critical issues in the communications area. the plan will set out objectives for each strategic area of the department and outlines plans and budget for achieving those objectives. keep abreast of the development in the field of communications and public relations, not - for - profit management and governance. to carry out and assume any other duties and responsibilities as and when assigned by the ahl management.\n",
      "\n",
      "Time taken: 3.6208\n",
      "===================================================================================================\n",
      "Sentence augmentation convertion:\n",
      "Deliver and develop a robust communications strategy and implementation plan which encompass PR and other communication vehicles, including new social platforms, video and other multi-media tools to understand AHL's multiple stakeholders and customers and build equity of AHL brand. Develop powerful narratives and compelling content to promote the suite of festivals and programmes under the initiative (e g media materials, profile stories and videos) to various target audiences, e g media, public, partners etc. Manage media relations and take the lead in handling media queries, drafting media materials and analysing media coverage. Responsible for Communications Planning & Message Development: To develop and execute PR plans craft media materials including press releases, speeches, message houses, media responses and interview talking points. Grow media partnerships organically and coordinate media interest in AHL and ensure regular contact with target media and appropriate response to media requests. Act as AHL's representative with the media and develop strong relationships with media representatives, locally and internationally. Establish and drive internal and external communications strategy that positively affects employees' and customers' understanding, engagement and commitment with the result of an even stronger connection to AHL. Work closely with marketing colleagues on integrating media communications initiatives within marketing strategies and campaigns/activities for key festivals and programmes. Assist Head of Marcomms to develop the department's strategic short and long term plan, and address critical issues in the communications area. The plan will set out objectives for each strategic area of the department and outlines plans and budget for achieving those objectives. Keep abreast of the development in the field of communications and public relations, not-for-profit management and governance. To carry out and assume any other duties and responsibilities as and when assigned by the AHL Management.\n",
      "\n",
      "Time taken: 5.0357\n",
      "===================================================================================================\n",
      "Summarisation convertion:\n",
      "deliver and develop a robust communications strategy and implementation plan . plan includes new social platforms, video and other multi-media tools . manage media relations and take the lead in handling media queries . establish and drive internal and external communications strategy that positively affects employees' and customers' understanding, engagement and commitment to AHL . work closely with marketing colleagues on integrating media communications initiatives within marketing strategies and campaigns/activities for key festivals and programmes - locally and internationally .\n",
      "\n",
      "Time taken: 5.0357\n",
      "===================================================================================================\n",
      "Done convertion\n",
      "\n",
      "Total time taken: 72.6984\n"
     ]
    },
    {
     "data": {
      "text/plain": [
       "{'orginal_text': \"Deliver and develop a robust communications strategy and implementation plan which encompass PR and other communication vehicles, including new social platforms, video and other multi-media tools to understand AHL's multiple stakeholders and customers and build equity of AHL brand. Develop powerful narratives and compelling content to promote the suite of festivals and programmes under the initiative (e g media materials, profile stories and videos) to various target audiences, e g media, public, partners etc. Manage media relations and take the lead in handling media queries, drafting media materials and analysing media coverage. Responsible for Communications Planning & Message Development: To develop and execute PR plans craft media materials including press releases, speeches, message houses, media responses and interview talking points. Grow media partnerships organically and coordinate media interest in AHL and ensure regular contact with target media and appropriate response to media requests. Act as AHL's representative with the media and develop strong relationships with media representatives, locally and internationally. Establish and drive internal and external communications strategy that positively affects employees' and customers' understanding, engagement and commitment with the result of an even stronger connection to AHL. Work closely with marketing colleagues on integrating media communications initiatives within marketing strategies and campaigns/activities for key festivals and programmes. Assist Head of Marcomms to develop the department's strategic short and long term plan, and address critical issues in the communications area. The plan will set out objectives for each strategic area of the department and outlines plans and budget for achieving those objectives. Keep abreast of the development in the field of communications and public relations, not-for-profit management and governance. To carry out and assume any other duties and responsibilities as and when assigned by the AHL Management.\",\n",
       " 'wrd_emb_out': \"Deliver other develop a robust communications strategy and implementation plan which encompass PR and other communication vehicles, including new social platforms, video and other multi - media tools to understand AHL ' s multiple stakeholders and customers and build equity of AHL brand. Demonstrate powerful narratives and compelling content to promote the suite of festivals and programmes under the initiative (e g media materials, profile stories and videos) to various target audiences, e g multimedia, public, partners etc. Manage media relations and take the lead in handling media queries, drafting media materials and analysing media coverage. Responsible for Communications Planning & Message Development: To develop and execute PR plans craft media materials including press releases, speeches, message houses, media responses and interviewer talk points. Grow media partnerships organically and coordinate media interest in AHL and ensure regular contact with target media and appropriate response to media requests. Act as AHL ' s representative with the media and develop strong relationships with media representatives, locally and internationally. Establish and drive internal and external communications strategy that positively affects employees ' while customers ' fundamental, engagement and commitment with the result of an even stronger connection to AHL. Working closely with marketing colleagues on integrating media communications initiatives within marketing strategies and campaigns / activities for key festivals and programmes. Assist Head of Marcomms to develop the dept. ' s strategic shorter and long term plan, and address critical issues in the communications area. The plan will set out objectives for each strategic area of the department and outlines plans and budget for achieving those objectives. Keep abreast of the development in the field of communications and public relations, not - for - profit management and governance. To carry out and assume any other duties and responsibilities as and when assigned by the AHL Management.\",\n",
       " 'bk_trans_out': \"Deploy and develop a robust communications strategy and implementation plan that includes PR and other means of communication, including new social platforms, video and other multimedia tools, to understand AHL's diverse stakeholders and customers and build AHL brand equity. Develop powerful narratives and compelling content to promote the range of festivals and programs under the initiative (such as media materials, profile stories and videos) to different audiences, such as media, the public, partners, etc. Manage media relations and take the lead in handling media requests, media material creation, and media reporting analysis. Responsible for communications planning and news development: To develop and implement PR plans, create media materials such as press releases, speeches, news outlets, media responses, and interviews. Grow media partnerships organically and coordinate media interest in AHL, and ensure regular contact with media targets and appropriate responses to media demands as AHL representatives and develop strong relationships with media locally.\",\n",
       " 'synonym_out': \"Deliver and develop a robust communications strategy and implementation plan which encompass PR and other communication vehicles, including new social platforms, video and other multi - media tools to understand AHL ' subs multiple stakeholders and customers and build equity of AHL brand. Develop powerful narratives and compelling content to promote the suite of festivals and programmes under the initiative (e g media materials, profile stories and videos) to various target audiences, e g media, public, partners etc. Manage media relations and take the lead in handling media queries, drafting media materials and monitoring media coverage. Responsible for Communications Planning & Message Development: To develop and execute PR expenditure craft media materials including press releases, speeches, message houses, media responses and interview talking points. Grow components partnerships organically and coordinate media interest in AHL and ensure regular contact with target judgement and appropriate response to media requests. Act as AHL ' s representative with the media and develop strong relationships with media representatives, locally and internationally. Establish and drive internal and external communications strategy that positively affects employees ' and customers ' understanding, engagement and devotion with the result of an even stronger connection to AHL. Work closely with marketing colleagues on integrating media communications initiatives within marketing strategies and campaigns / activities for key activities and programmes. Assist Head of Marcomms to develop the department ' amounts strategic short and long legislature plan, and address critical issues in the communications area. The plan will set out objectives for each strategic area of the department and outlines plans and budget requests achieving those objectives. Keep abreast of the development in the field of communications and public relations, not - for - profit management and governance. To carry out and assume any other duties and responsibilities as and when assigned by the AHL Management.\",\n",
       " 'context_emb_out': \"deliver and develop a robust communications strategy and implementation plan which encompass pr and other communication vehicles, including new social platforms, video, other multi - media tools to understand ahl's multiple stakeholders and customers and build equity of ahl brand. develop powerful narratives and compelling content to promote the suite of festivals and programmes under the initiative ( e g media materials, news stories and videos ) to various target audiences, e g media, broadcasters, partners etc. manage media relations and take the lead in handling media queries, drafting media materials and analysing media trends. responsible for communications planning & message development : to develop and execute pr plans craft media materials including press releases, speeches, message houses, media responses and interview talking points. grow media partnerships organically and coordinate media interest in ahl and ensure direct contact with existing media and appropriate response to media requests. act as ahl's representative with the media and develop strong relationships with media representatives, locally and internationally. establish and drive internal and external communication strategy that positively affects employees'and customers'understanding, engagement and commitment with the aim of an even stronger connection to ahl. work closely with marketing colleagues on integrating media communications initiatives within marketing strategies and campaigns / activities for key festivals or programmes. assist head of marcomms to develop the ahl's strategic short and long term plan, and address critical issues in the communications area. the plan will set out objectives for each strategic area of the department and outlines plans and budget for achieving those objectives. keep abreast of the development in the field of communications and public relations, not - for - profit management and governance. to carry out and assume any other duties and responsibilities as and when assigned by the ahl management.\",\n",
       " 'sent_out': \"Deliver and develop a robust communications strategy and implementation plan which encompass PR and other communication vehicles, including new social platforms, video and other multi-media tools to understand AHL's multiple stakeholders and customers and build equity of AHL brand. Develop powerful narratives and compelling content to promote the suite of festivals and programmes under the initiative (e g media materials, profile stories and videos) to various target audiences, e g media, public, partners etc. Manage media relations and take the lead in handling media queries, drafting media materials and analysing media coverage. Responsible for Communications Planning & Message Development: To develop and execute PR plans craft media materials including press releases, speeches, message houses, media responses and interview talking points. Grow media partnerships organically and coordinate media interest in AHL and ensure regular contact with target media and appropriate response to media requests. Act as AHL's representative with the media and develop strong relationships with media representatives, locally and internationally. Establish and drive internal and external communications strategy that positively affects employees' and customers' understanding, engagement and commitment with the result of an even stronger connection to AHL. Work closely with marketing colleagues on integrating media communications initiatives within marketing strategies and campaigns/activities for key festivals and programmes. Assist Head of Marcomms to develop the department's strategic short and long term plan, and address critical issues in the communications area. The plan will set out objectives for each strategic area of the department and outlines plans and budget for achieving those objectives. Keep abreast of the development in the field of communications and public relations, not-for-profit management and governance. To carry out and assume any other duties and responsibilities as and when assigned by the AHL Management.\",\n",
       " 'summ_out': \"deliver and develop a robust communications strategy and implementation plan . plan includes new social platforms, video and other multi-media tools . manage media relations and take the lead in handling media queries . establish and drive internal and external communications strategy that positively affects employees' and customers' understanding, engagement and commitment to AHL . work closely with marketing colleagues on integrating media communications initiatives within marketing strategies and campaigns/activities for key festivals and programmes - locally and internationally .\"}"
      ]
     },
     "execution_count": 46,
     "metadata": {},
     "output_type": "execute_result"
    }
   ],
   "source": [
    "data_aug_collated(text, params)"
   ]
  },
  {
   "cell_type": "markdown",
   "id": "c96f6065-e197-4e84-9715-3427b954cd3b",
   "metadata": {},
   "source": [
    "Since Fasttext does n-gram skips, we will obtain misspelt characters, which is not what we want to see. Substituted with Glove model instead."
   ]
  },
  {
   "cell_type": "markdown",
   "id": "d52d769b-099b-4c4a-b1ea-9657d98baa05",
   "metadata": {},
   "source": [
    "We take a look at the common job description phrases that can be found (non-exhaustive)"
   ]
  },
  {
   "cell_type": "code",
   "execution_count": 51,
   "id": "d4b7a36c-ab69-48ab-bdc9-94738d477852",
   "metadata": {},
   "outputs": [],
   "source": [
    "common_phrases = [' We are looking for/searching for a candidate who is',\n",
    "                  ' We are looking for a candidate who can',\n",
    "                  ' Are you passionate about this job',\n",
    "                  ' Do you love a job that',\n",
    "                  ' We are a company that',\n",
    "                  ' We are a startup that',\n",
    "                  ' We are a agency that',\n",
    "                  ' Would you like to work for a company that is',\n",
    "                  ' Are you interested in working for a company that',\n",
    "                  ' In this role, you will be responsible for',\n",
    "                  ' One of your key responsibilities in this job will be',\n",
    "                  ' If you love this role, then you’ll fit right in our team of',\n",
    "                  ' If you would like to be part of our team, apply today by',\n",
    "                  ' Sound like you? Then, send your resumé/CV and cover letter to',\n",
    "                  ' If this sounds like you, then apply by clicking the button below',\n",
    "                  ' Description of the duties and responsibilities of the job includes',\n",
    "                  ' This job is ideal for someone who is',\n",
    "                  ' Top skills and proficiencies include',\n",
    "                  ' Dynamic work environment',\n",
    "                  ' Proven track record',\n",
    "                  ' Self-starter']"
   ]
  },
  {
   "cell_type": "markdown",
   "id": "5f0a297f-2650-4550-a0ca-5e5ff4c5bd29",
   "metadata": {},
   "source": [
    "Do random injection of phrases into sentences"
   ]
  },
  {
   "cell_type": "code",
   "execution_count": 78,
   "id": "673cb4d1-c0e9-4baa-91b9-5b6443d49375",
   "metadata": {},
   "outputs": [],
   "source": [
    "def random_insert(text, common_phrases, prob, edit_phrase):\n",
    "    text_list = text.split(\".\")\n",
    "    length = len(text_list)\n",
    "    selected_phrases = random.sample(common_phrases, math.ceil(len(common_phrases) * prob))\n",
    "    \n",
    "    if edit_phrase:\n",
    "        selected_phrases = [naw.ContextualWordEmbsAug(model_path = 'distilbert-base-uncased', action = \"substitute\").augment(phrase, num_thread = 4) for phrase in selected_phrases]\n",
    "\n",
    "        selected_phrases = [\" \" + \" \".join(re.sub('[^a-zA-Z ]+', '', phrase).capitalize().split()) for phrase in selected_phrases]\n",
    "    \n",
    "    print(f\"Phrases that were added in: {selected_phrases}\")\n",
    "    \n",
    "    for phrase in selected_phrases:\n",
    "        text_list.insert(random.randrange(length), phrase)\n",
    "        length = len(text_list)\n",
    "    \n",
    "    return '.'.join(text_list)"
   ]
  },
  {
   "cell_type": "code",
   "execution_count": 81,
   "id": "fc0c9473-05ef-460a-a7f4-cd08d3468c3d",
   "metadata": {},
   "outputs": [
    {
     "name": "stdout",
     "output_type": "stream",
     "text": [
      "Phrases that were added in: [' This approach is ideal for someone else is', ' We created a agency that', ' We are looking toward any candidate who can', ' If you would like to be part within an organization apply today by', ' Self defense']\n"
     ]
    },
    {
     "data": {
      "text/plain": [
       "\" We are looking toward any candidate who can.Deliver and develop a robust communications strategy and implementation plan which encompass PR and other communication vehicles, including new social platforms, video and other multi-media tools to understand AHL's multiple stakeholders and customers and build equity of AHL brand. Develop powerful narratives and compelling content to promote the suite of festivals and programmes under the initiative (e g media materials, profile stories and videos) to various target audiences, e g media, public, partners etc. Manage media relations and take the lead in handling media queries, drafting media materials and analysing media coverage. Responsible for Communications Planning & Message Development: To develop and execute PR plans craft media materials including press releases, speeches, message houses, media responses and interview talking points. If you would like to be part within an organization apply today by. We created a agency that. Grow media partnerships organically and coordinate media interest in AHL and ensure regular contact with target media and appropriate response to media requests. Act as AHL's representative with the media and develop strong relationships with media representatives, locally and internationally. Establish and drive internal and external communications strategy that positively affects employees' and customers' understanding, engagement and commitment with the result of an even stronger connection to AHL. Work closely with marketing colleagues on integrating media communications initiatives within marketing strategies and campaigns/activities for key festivals and programmes. Assist Head of Marcomms to develop the department's strategic short and long term plan, and address critical issues in the communications area. The plan will set out objectives for each strategic area of the department and outlines plans and budget for achieving those objectives. Keep abreast of the development in the field of communications and public relations, not-for-profit management and governance. To carry out and assume any other duties and responsibilities as and when assigned by the AHL Management. This approach is ideal for someone else is. Self defense.\""
      ]
     },
     "execution_count": 81,
     "metadata": {},
     "output_type": "execute_result"
    }
   ],
   "source": [
    "random_insert(text, common_phrases, 0.2, True)"
   ]
  },
  {
   "cell_type": "code",
   "execution_count": null,
   "id": "f5f13e3f-292d-4be7-a8b6-e120150f61b3",
   "metadata": {},
   "outputs": [],
   "source": []
  },
  {
   "cell_type": "code",
   "execution_count": null,
   "id": "87777a36-aef3-4c27-b40f-c353aec8c039",
   "metadata": {},
   "outputs": [],
   "source": []
  },
  {
   "cell_type": "code",
   "execution_count": null,
   "id": "67025b8b-ea8b-458a-bf07-888120103fd4",
   "metadata": {},
   "outputs": [],
   "source": []
  },
  {
   "cell_type": "code",
   "execution_count": null,
   "id": "9bd93cc4-27fc-4536-802d-39483a84a66a",
   "metadata": {},
   "outputs": [],
   "source": []
  },
  {
   "cell_type": "code",
   "execution_count": null,
   "id": "f6426143-d425-4e68-ab92-091b31a39dac",
   "metadata": {},
   "outputs": [],
   "source": []
  },
  {
   "cell_type": "code",
   "execution_count": null,
   "id": "2f25b1c4-4a30-464c-aef4-ddafc85a36c3",
   "metadata": {},
   "outputs": [],
   "source": []
  }
 ],
 "metadata": {
  "kernelspec": {
   "display_name": "Python 3 (ipykernel)",
   "language": "python",
   "name": "python3"
  },
  "language_info": {
   "codemirror_mode": {
    "name": "ipython",
    "version": 3
   },
   "file_extension": ".py",
   "mimetype": "text/x-python",
   "name": "python",
   "nbconvert_exporter": "python",
   "pygments_lexer": "ipython3",
   "version": "3.9.5"
  }
 },
 "nbformat": 4,
 "nbformat_minor": 5
}
