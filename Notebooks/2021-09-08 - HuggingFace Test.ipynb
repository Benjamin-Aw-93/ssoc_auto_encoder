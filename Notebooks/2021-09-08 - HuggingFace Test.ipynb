{
 "cells": [
  {
   "cell_type": "markdown",
   "id": "ea01c792-582d-4f02-984a-04c27d7e19cf",
   "metadata": {
    "tags": []
   },
   "source": [
    "## Testing pre-trained HuggingFace models\n",
    "\n"
   ]
  },
  {
   "cell_type": "code",
   "execution_count": 3,
   "id": "a058b02c-3325-4647-8012-d36f251104b3",
   "metadata": {},
   "outputs": [],
   "source": [
    "from transformers import pipeline\n",
    "import pandas as pd\n",
    "mcf_df = pd.read_csv(\"..\\Data\\Processed\\WGS_Dataset_JobInfo_precleaned.csv\")"
   ]
  },
  {
   "cell_type": "markdown",
   "id": "31c714ca-e2ff-4f47-8afb-b65c66b12ecc",
   "metadata": {},
   "source": [
    "### Question Answering"
   ]
  },
  {
   "cell_type": "code",
   "execution_count": 2,
   "id": "33a75e1c-0954-4118-803b-6b1217bc8e49",
   "metadata": {},
   "outputs": [
    {
     "name": "stderr",
     "output_type": "stream",
     "text": [
      "No model was supplied, defaulted to distilbert-base-cased-distilled-squad (https://huggingface.co/distilbert-base-cased-distilled-squad)\n"
     ]
    }
   ],
   "source": [
    "qn_ans = pipeline(\"question-answering\")"
   ]
  },
  {
   "cell_type": "code",
   "execution_count": 4,
   "id": "3d1640df-d164-482f-95b6-b53c750ac8ff",
   "metadata": {},
   "outputs": [
    {
     "name": "stdout",
     "output_type": "stream",
     "text": [
      "{'score': 0.622244656085968, 'start': 34, 'end': 95, 'answer': 'the task of extracting an answer from a text given a question'}\n",
      "{'score': 0.5115318894386292, 'start': 147, 'end': 160, 'answer': 'SQuAD dataset'}\n"
     ]
    }
   ],
   "source": [
    "context = r\"\"\"\n",
    "Extractive Question Answering is the task of extracting an answer from a text given a question. An example of a\n",
    "question answering dataset is the SQuAD dataset, which is entirely based on that task. If you would like to fine-tune\n",
    "a model on a SQuAD task, you may leverage the `run_squad.py`.\n",
    "\"\"\"\n",
    "\n",
    "print(qn_ans(question=\"What is extractive question answering?\", context=context))\n",
    "print(qn_ans(question=\"What is a good example of a question answering dataset?\", context=context))"
   ]
  },
  {
   "cell_type": "code",
   "execution_count": 7,
   "id": "9bbe0327-40bd-465b-b207-7840e383ab6e",
   "metadata": {},
   "outputs": [
    {
     "name": "stdout",
     "output_type": "stream",
     "text": [
      "{'score': 0.2573677897453308, 'start': 21, 'end': 113, 'answer': 'responsible for full set of company accounts   responsible for processing accounting entries'}\n",
      "-------------------------------------\n",
      "responsibilities:    responsible for full set of company accounts   responsible for processing accounting entries and ensuring timely preparation and accuracy   process of claims disbursement/payment   perform month-end and year-end closing of accounts   handle general admin duties   support payroll activities   ad hoc duties as per assigned  requirements:    candidates must possess at least diploma and above   at least 2 - 3 year(s) of working experience in the related field is required for this position.  how to apply: interested candidates, please submit your updated resume in msword format by using apply now button or send your basic information to recruit01@corestaff.com.sg / 9715 8267 (whatsapp only)  **we regret to inform that only shortlisted candidates will be informed.**  ha wai qi registration no : r1986515 ea license no : 18c9027 \n"
     ]
    }
   ],
   "source": [
    "idx = 120\n",
    "context = mcf_df['Description no HTML'][idx]\n",
    "print(qn_ans(question=\"What are the responsibilities?\", context=context))\n",
    "print('-------------------------------------')\n",
    "print(mcf_df['Description no HTML'][idx])"
   ]
  },
  {
   "cell_type": "markdown",
   "id": "7296e055-0ebc-4875-b013-cb1a89079616",
   "metadata": {},
   "source": [
    "### Summarisation"
   ]
  },
  {
   "cell_type": "code",
   "execution_count": 8,
   "id": "60b51713-cec4-44db-bc21-4546d08212d4",
   "metadata": {},
   "outputs": [
    {
     "name": "stderr",
     "output_type": "stream",
     "text": [
      "No model was supplied, defaulted to sshleifer/distilbart-cnn-12-6 (https://huggingface.co/sshleifer/distilbart-cnn-12-6)\n"
     ]
    }
   ],
   "source": [
    "summarizer = pipeline(\"summarization\")"
   ]
  },
  {
   "cell_type": "code",
   "execution_count": 9,
   "id": "75264db0-d47d-47b3-bd7e-76944a437d74",
   "metadata": {},
   "outputs": [
    {
     "name": "stdout",
     "output_type": "stream",
     "text": [
      "[{'summary_text': ' Management responsibility for management of accounts and financial reporting for a portfolio of captive insurance companies . Responsible for producing accurate and pertinent information on a timely basis to enable willis MD and the client captive boards to make informed decisions .'}]\n",
      "-------------------------------------\n",
      "summary of the role: overall responsibility for management of the accounts and financial reporting for a portfolio of captive insurance companies, as well as financial management of willis management. responsible for producing accurate and pertinent information on a timely basis to enable willis md and the client captive boards to make informed decisions. principal accountabilities:    manager of people (to include number of reports) or individual contributor: supervises members of the client service team charged with accounting/financial management roles   geographic scope of role: singapore, plus support to other domiciles as required, and with some client visits   budgetary and risk management responsibilities: assist md in budget preparation and risk management for willis management   revenue responsibilities: revenue of existing portfolio and organic growth opportunities.  responsibilities:    manage the accounting, finance and compliance operations of willis management and its portfolio of captive insurance clients, reporting to the managing director these duties include but are not limited to:   willis management   prepare full sets of accounts including issuing of journals, fee invoices, cheque payments and receipts.   prepare monthly bank reconciliation &nbsp;&nbsp;&nbsp;&nbsp;&nbsp;and ageing listing of trade debtors.   prepare quarterly gst returns.   prepare statistical returns &nbsp;&nbsp;&nbsp;&nbsp;&nbsp;requested by department of statistics.   assist md in development of new &nbsp;&nbsp;&nbsp;&nbsp;&nbsp;business and development of existing captive clients.   assist md in management and development of accounting team members   captive clients accounts – willis management   prepare full sets of accounts including issuing of journals, cheque payments and receipts.   prepare and submit mas quarterly and annual returns and also statistical returns to department of statistics.   prepare quarterly gst returns.   prepare monthly bank reconciliation.   preparation of board papers to the captive boards.   ensuring compliance on the captives’ behalf with all regulations and obligations imposed on insurance companies by the laws of singapore.   arranging for the investment of the captives’ funds in accordance with clients’ guidelines.   manage client cash in accordance with instructions of the client board.   ensure relevant company &nbsp;&nbsp;&nbsp;&nbsp;&nbsp;secretarial functions are performed in a timely manner   ensure compliance with corporate governance   establish good relationship with key client, regulatory and service provider figures   understand clients business and industry  communications &amp; relationships: internal: senior client services specialist works as part of the client service team and supervises activities of accounting team members. external: interaction with clients, regulators and external service providers. required qualifications &amp; experience: qualifications: 4 year degree in accounting, finance or related area or cpa qualification knowledge &amp; experience:    at least 7 years captive insurance experience or related industries   knowledge of captive insurance industry     accounting for captives   insurance products for captive operators   complex problem resolution     knowledge of and experience with more complex insurance programs, such as: reinsurance, global or complex programs, etc.   excellent client service and interpersonal skills; comfortable dealing directly with clients   excellent verbal and written communication skills   compliance knowledge \n"
     ]
    }
   ],
   "source": [
    "idx = 1\n",
    "print(summarizer(mcf_df['Description no HTML'][idx], max_length=130, min_length=30))\n",
    "print('-------------------------------------')\n",
    "print(mcf_df['Description no HTML'][idx])"
   ]
  }
 ],
 "metadata": {
  "kernelspec": {
   "display_name": "Python 3 (ipykernel)",
   "language": "python",
   "name": "python3"
  },
  "language_info": {
   "codemirror_mode": {
    "name": "ipython",
    "version": 3
   },
   "file_extension": ".py",
   "mimetype": "text/x-python",
   "name": "python",
   "nbconvert_exporter": "python",
   "pygments_lexer": "ipython3",
   "version": "3.9.5"
  }
 },
 "nbformat": 4,
 "nbformat_minor": 5
}
