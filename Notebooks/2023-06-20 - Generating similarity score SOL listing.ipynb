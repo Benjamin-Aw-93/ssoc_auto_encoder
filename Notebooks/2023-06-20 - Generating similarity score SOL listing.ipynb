{
 "cells": [
  {
   "cell_type": "markdown",
   "id": "cc646e37-579e-4de6-bda8-7e463079888e",
   "metadata": {},
   "source": [
    "## Generating similarity score SOL listing\n",
    "\n",
    "**Author:** Yee Sen, Edited by Benjamin \n",
    "<br>\n",
    "**Date:** 20th Jun 2023\n",
    "<br>\n",
    "**Context:** We want to find an optimal threshold to determine if a job is similar to that of the job descriptions within the SOL list. Is it possible to have a generalised threshold or do we need to create individual thresholds for each SOL listing?\n",
    "<br>\n",
    "**Objective:** Find an optimal threshold that can be used to classify job descriptions as similar or dissimilar to the SOL listings.\n"
   ]
  },
  {
   "cell_type": "markdown",
   "id": "0eb1aa28-9f3e-49f9-98b0-568d1999a407",
   "metadata": {},
   "source": [
    "### A) Importing packages and reading in the dataset"
   ]
  },
  {
   "cell_type": "code",
   "execution_count": 3,
   "id": "57a374ec-7cdd-409d-b594-f8aab18f18e6",
   "metadata": {},
   "outputs": [],
   "source": [
    "import pandas as pd\n",
    "import numpy as np\n",
    "from numpy.linalg import norm\n",
    "import requests\n",
    "from ast import literal_eval"
   ]
  },
  {
   "cell_type": "code",
   "execution_count": 15,
   "id": "1bc3c7bb",
   "metadata": {},
   "outputs": [],
   "source": [
    "df = pd.read_csv('../data/sol.csv')\n",
    "df = df.replace('\\n', '', regex=True)\n",
    "df['id'] = df['id'].astype(str).str.replace(' ', '')\n",
    "\n",
    "df = df.reset_index(drop=True)"
   ]
  },
  {
   "cell_type": "code",
   "execution_count": 1,
   "id": "16b1a694",
   "metadata": {},
   "outputs": [],
   "source": [
    "main_url = \"http://localhost:8000/sentence_embeddings?id\"\n",
    "\n",
    "def query_api(url):\n",
    "    response = requests.get(url)\n",
    "    if response.status_code == 200:\n",
    "        return response.json()\n",
    "    else:\n",
    "        return None"
   ]
  },
  {
   "cell_type": "code",
   "execution_count": 12,
   "id": "ec5ceeb8",
   "metadata": {},
   "outputs": [
    {
     "name": "stderr",
     "output_type": "stream",
     "text": [
      "C:\\Users\\benja\\anaconda3\\envs\\autocoder\\lib\\site-packages\\openpyxl\\reader\\workbook.py:118: UserWarning: Print area cannot be set to Defined name: '(Ref) DOS'' Definitions'!$A:$F.\n",
      "  warn(f\"Print area cannot be set to Defined name: {defn.value}.\")\n"
     ]
    }
   ],
   "source": [
    "sol_df = pd.read_csv('../data/SOL_embeddings_sentence_transformers.csv')\n",
    "sol_df['emb_title'] = sol_df['emb_title'].apply(literal_eval)\n",
    "sol_df['emb_text'] = sol_df['emb_text'].apply(literal_eval)\n",
    "sol_df['comb'] = [x + y for x,y in zip(sol_df['emb_title'], sol_df['emb_text'])]\n",
    "\n",
    "sol_detailed_df = pd.read_excel('../data/SOL Verification checks.xlsx', sheet_name = 1)"
   ]
  },
  {
   "cell_type": "code",
   "execution_count": 13,
   "id": "d59d34c6",
   "metadata": {},
   "outputs": [],
   "source": [
    "def similarity(vec1, vec2):\n",
    "    return vec1 @ vec2.T/(norm(vec1)*norm(vec2))"
   ]
  },
  {
   "cell_type": "code",
   "execution_count": 17,
   "id": "aee816df",
   "metadata": {
    "scrolled": true
   },
   "outputs": [
    {
     "name": "stderr",
     "output_type": "stream",
     "text": [
      "  0%|                                                                                          | 0/145 [00:00<?, ?it/s]C:\\Users\\benja\\AppData\\Local\\Temp\\ipykernel_5812\\636463013.py:30: SettingWithCopyWarning: \n",
      "A value is trying to be set on a copy of a slice from a DataFrame\n",
      "\n",
      "See the caveats in the documentation: https://pandas.pydata.org/pandas-docs/stable/user_guide/indexing.html#returning-a-view-versus-a-copy\n",
      "  df['combined'][index] = 'NIL'\n",
      "C:\\Users\\benja\\AppData\\Local\\Temp\\ipykernel_5812\\636463013.py:31: SettingWithCopyWarning: \n",
      "A value is trying to be set on a copy of a slice from a DataFrame\n",
      "\n",
      "See the caveats in the documentation: https://pandas.pydata.org/pandas-docs/stable/user_guide/indexing.html#returning-a-view-versus-a-copy\n",
      "  df['title'][index] = 'NIL'\n",
      "C:\\Users\\benja\\AppData\\Local\\Temp\\ipykernel_5812\\636463013.py:32: SettingWithCopyWarning: \n",
      "A value is trying to be set on a copy of a slice from a DataFrame\n",
      "\n",
      "See the caveats in the documentation: https://pandas.pydata.org/pandas-docs/stable/user_guide/indexing.html#returning-a-view-versus-a-copy\n",
      "  df['text'][index] = 'NIL'\n",
      "100%|████████████████████████████████████████████████████████████████████████████████| 145/145 [03:45<00:00,  1.55s/it]\n"
     ]
    }
   ],
   "source": [
    "from tqdm import tqdm\n",
    "results=[]\n",
    "\n",
    "for index, row in tqdm(df.iterrows(), total=len(df)):\n",
    "    if row['id'] == \"-\":\n",
    "        df['combined'][index] = 'NIL'\n",
    "        df['title'][index] = 'NIL'\n",
    "        df['text'][index] = 'NIL'\n",
    "    else:\n",
    "        try:\n",
    "            name = row['SOL']\n",
    "            job_id = row['id']\n",
    "            res = query_api(f'{main_url}={job_id}')\n",
    "            concat_r1 = np.array(res['embeddings_title'] + res['embeddings_text']).reshape(1, -1)\n",
    "            title_r1 = np.array(res['embeddings_title']).reshape(1,-1)\n",
    "            text_r1 = np.array(res['embeddings_text']).reshape(1,-1)\n",
    "            result_df = pd.DataFrame({\"SOL Occupation\":sol_df['SOL Occupation'],\n",
    "                                      \"Combined similarity\": list(map(lambda x: similarity(concat_r1, np.array(x)).round(3), sol_df['comb'])),\n",
    "                                      \"Title similarity\": list(map(lambda x: similarity(title_r1, np.array(x)).round(3), sol_df['emb_title'])),\n",
    "                                      \"Text similarity\": list(map(lambda x: similarity(text_r1, np.array(x)).round(3), sol_df['emb_text']))})\n",
    "\n",
    "            combined_similarity_value1 = result_df.loc[result_df['SOL Occupation'] == name, 'Combined similarity'].values[0]\n",
    "            combined_similarity_value2 = result_df.loc[result_df['SOL Occupation'] == name, 'Title similarity'].values[0]\n",
    "            combined_similarity_value3 = result_df.loc[result_df['SOL Occupation'] == name, 'Text similarity'].values[0]\n",
    "            df['combined'][index] = combined_similarity_value1[0]\n",
    "            df['title'][index] = combined_similarity_value2[0]\n",
    "            df['text'][index] = combined_similarity_value3[0]\n",
    "\n",
    "        except:\n",
    "            df['combined'][index] = 'NIL'\n",
    "            df['title'][index] = 'NIL'\n",
    "            df['text'][index] = 'NIL'\n",
    "\n"
   ]
  }
 ],
 "metadata": {
  "kernelspec": {
   "display_name": "Python 3 (ipykernel)",
   "language": "python",
   "name": "python3"
  },
  "language_info": {
   "codemirror_mode": {
    "name": "ipython",
    "version": 3
   },
   "file_extension": ".py",
   "mimetype": "text/x-python",
   "name": "python",
   "nbconvert_exporter": "python",
   "pygments_lexer": "ipython3",
   "version": "3.9.16"
  }
 },
 "nbformat": 4,
 "nbformat_minor": 5
}
