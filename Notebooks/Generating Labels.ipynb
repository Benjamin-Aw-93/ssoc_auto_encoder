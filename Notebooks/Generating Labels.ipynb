{
 "cells": [
  {
   "cell_type": "markdown",
   "id": "3777f847-7af3-49fe-a037-91b51c259225",
   "metadata": {},
   "source": [
    "## Generating Labels for our Dataset\n",
    "This uses Lucas's pre-trained SSOC autocoder model."
   ]
  },
  {
   "cell_type": "code",
   "execution_count": 1,
   "id": "2bef3521-bc27-4a7b-8ada-1a0391d86ddb",
   "metadata": {},
   "outputs": [],
   "source": [
    "import pandas as pd\n",
    "import re"
   ]
  },
  {
   "cell_type": "markdown",
   "id": "1f5fb732-ce5e-42ea-98c7-4a32a5e4d53a",
   "metadata": {},
   "source": [
    "Importing and cleaning the text data"
   ]
  },
  {
   "cell_type": "code",
   "execution_count": 2,
   "id": "ce0a5844-d075-4b06-ba58-5715764cee0b",
   "metadata": {},
   "outputs": [],
   "source": [
    "mcf_data = pd.read_csv('../Data/Processed/Artifacts/Raw_Text.csv')"
   ]
  },
  {
   "cell_type": "code",
   "execution_count": 3,
   "id": "c19c9191-805a-453b-969b-4493e559dbea",
   "metadata": {},
   "outputs": [],
   "source": [
    "punct = \"/-'?!.,#$%\\'()*+-/:;<=>@[\\\\]^_`{|}~\" + '\"\"“”’' + '∞θ÷α•à−β∅³π‘₹´°£€\\×™√²—–&'\n",
    "table = str.maketrans(punct,' '*len(punct))\n",
    "\n",
    "def remove_html_tags_newline(text):\n",
    "    \"\"\"\n",
    "    Removes HTML and newline tags from a string with generic regex\n",
    "\n",
    "    Parameters:\n",
    "        text (str): Selected text\n",
    "\n",
    "    Returns:\n",
    "        cleaned_text(text) : Text with html tags and new line removed\n",
    "    \"\"\"\n",
    "\n",
    "    clean = re.compile('<.*?>')\n",
    "    newline_clean = re.compile('\\n')\n",
    "    non_punc = re.compile('[^\\w\\s]')\n",
    "    output = re.sub(non_punc, ' ', re.sub(newline_clean, ' ', re.sub(clean, '', text))).lower()\n",
    "    a = ' '.join([i for i in output.translate(table).split()])\n",
    "    return ' '.join(re.findall(\"[a-zA-Z]+\",a))"
   ]
  },
  {
   "cell_type": "code",
   "execution_count": 18,
   "id": "89695ae1-8e98-488d-a0cd-6697625c925e",
   "metadata": {},
   "outputs": [],
   "source": [
    "mcf_data['Cleaned_Description'] = mcf_data['Title'].apply(remove_html_tags_newline) + \" \" + mcf_data['Description'].apply(remove_html_tags_newline)"
   ]
  },
  {
   "cell_type": "code",
   "execution_count": 21,
   "id": "572ff97b-5ee3-4d79-bbc7-3492ad005e3b",
   "metadata": {},
   "outputs": [
    {
     "data": {
      "text/plain": [
       "'pega solution architect year contract technical specialists will be responsible for designing and building components of enterprise applications and providing consultative guidance on all project assignments he she will work as part of a project team to ensure that the business and technical architecture of the delivered solution matches customer requirements at times he she will be asked to lead aspects of design development and mentoring of resources below are the few vital things the resource need to possess strong communication and presentation skills primary skills must have good knowledge of general prpc architecture good understanding on bpm best practices implementation life cycles end to end experience of prpc based application design and implementation actively participate in the requirements design and construction phases to lead to successful delivery of the project able to plan and lead the execution of pprc implementation enhancements possess strong prpc knowledge in all features from every release and should be guiding all the team members technically hands on experience in prpc integration with other systems performance tuning and optimisation of prpc implementations ability to use application preflight tool pal db tracer profiler tool sma console pegaaes excellent knowledge of prpc features both on bpm and bre side well versant with release to release features should have good knowledge on all rule types understand the rules management and associated tools such as export amp import tools skimming and bulk processing tools should be able to understand the scalability and reuse aspects of the application in development and can provide and evaluate enterprise class structure that is scalable and extensible able to elaborate use cases in prpc language able to evaluate low level and high level designs good knowledge of prpc integration capabilities and able to use integration wizards good understanding of prpc security model integrating prpc with external managed security such as sso and ldap good handle on correspondence and reporting features in prpc sound understanding of user interfaces both prpc out of the box and generic experience working on declarative rules decision rules stream rules xml stream parse rules reportdefinition datapages agents services http soap connectors soap rest sql file good understating of prpc flows interpretation of flow shapes slas tickets interpretation of complex flow shapes for business scenarios activities activity step methods ootb activities possesses good knowledge on prpc construction and debugging tools such as tracer utility clipboard analysing log and alert files app accelerators documentation tools expression builders and form builders sql development ability to write and troubleshoot sql code strong familiarity with database systems and programming including oracle ms sql server mysql pl sql and or transact sql agile scrum experience'"
      ]
     },
     "execution_count": 21,
     "metadata": {},
     "output_type": "execute_result"
    }
   ],
   "source": [
    "mcf_data['Cleaned_Description'][0]"
   ]
  },
  {
   "cell_type": "markdown",
   "id": "6dcbd332-8d0b-4845-9b6f-4e315737d258",
   "metadata": {},
   "source": [
    "Importing the `fasttext` model and generating the predictions"
   ]
  },
  {
   "cell_type": "code",
   "execution_count": 6,
   "id": "8bffe8b5-307e-4a18-a9b0-49f3fc17506f",
   "metadata": {},
   "outputs": [],
   "source": [
    "import fasttext # note you have to install fasttext==0.8.4\n",
    "import numpy as np"
   ]
  },
  {
   "cell_type": "code",
   "execution_count": 7,
   "id": "5481546f-f1ac-4ad2-9430-56ab7889e804",
   "metadata": {},
   "outputs": [],
   "source": [
    "def ft_output_single(x):\n",
    "    return re.sub('__label__','',x[0][0])"
   ]
  },
  {
   "cell_type": "code",
   "execution_count": 8,
   "id": "be854784-3001-4773-8722-341d2e25c267",
   "metadata": {},
   "outputs": [],
   "source": [
    "model = fasttext.load_model(\"../Models/ft_epoch50_25wvs_mcf3.bin\")"
   ]
  },
  {
   "cell_type": "code",
   "execution_count": 26,
   "id": "cb6bbfda-b1df-42c8-a4d7-d6b9d1b9da2f",
   "metadata": {},
   "outputs": [],
   "source": [
    "preds_raw = model.predict(np.array(mcf_data['Cleaned_Description']), k=1)"
   ]
  },
  {
   "cell_type": "code",
   "execution_count": 28,
   "id": "d3df2faa-6ac2-48ce-8601-4fe3e3c18097",
   "metadata": {},
   "outputs": [],
   "source": [
    "mcf_data['Predicted SSOC'] = [pred[0].replace('__label__', '') for pred in preds_raw]"
   ]
  },
  {
   "cell_type": "markdown",
   "id": "b69aafbf-f261-4728-a9f9-40d65149462f",
   "metadata": {},
   "source": [
    "Importing the SSOC mapping table (v2018)"
   ]
  },
  {
   "cell_type": "code",
   "execution_count": 44,
   "id": "6ac5aa08-e176-4a00-93ac-98ac675b47fa",
   "metadata": {},
   "outputs": [],
   "source": [
    "ssoc = pd.read_csv('../Data/Raw/ssoc_v2018.csv', encoding='iso-8859-1')\n",
    "ssoc.dropna(inplace = True)\n",
    "ssoc['ssoc_f'] = ssoc['ssoc_f'].astype('float').astype('int').astype('str')"
   ]
  },
  {
   "cell_type": "markdown",
   "id": "1c6e099b-4d5e-4524-b7c4-eb172fc15ff1",
   "metadata": {},
   "source": [
    "Cleaning up the MCF data for the join"
   ]
  },
  {
   "cell_type": "code",
   "execution_count": 83,
   "id": "e0ec11d8-10e3-4b21-bf57-bc0d638e7591",
   "metadata": {},
   "outputs": [],
   "source": [
    "mcf_data = mcf_data[(mcf_data['SSOC_2015'] != 'X5000') & (mcf_data['SSOC_2015'].notnull())]"
   ]
  },
  {
   "cell_type": "code",
   "execution_count": 84,
   "id": "0c099a21-67df-425d-8333-d2da073c826e",
   "metadata": {},
   "outputs": [],
   "source": [
    "mcf_data['SSOC_2015'] = mcf_data['SSOC_2015'].astype('float').astype('int').astype('str')"
   ]
  },
  {
   "cell_type": "code",
   "execution_count": 85,
   "id": "0f8db7cb-3cfd-4eaf-8d3d-a8d8ea1d8fec",
   "metadata": {},
   "outputs": [],
   "source": [
    "mcf_data_final = mcf_data.merge(ssoc, left_on = 'SSOC_2015', right_on = 'ssoc_f', how = 'left').merge(ssoc, left_on = 'Predicted SSOC', right_on = 'ssoc_f', how = 'left')"
   ]
  },
  {
   "cell_type": "code",
   "execution_count": 86,
   "id": "7d338c49-92e1-45f2-996c-ea83ac40c27a",
   "metadata": {},
   "outputs": [],
   "source": [
    "mcf_data_final.drop(['ssoc_f_x', 'ssoc_f_y'], axis = 1, inplace = True)\n",
    "mcf_data_final.rename({'ssoc_desc_x': \"Reported SSOC Desc\", \"ssoc_desc_y\": \"Predicted SSOC Desc\"}, axis = 1, inplace = True)"
   ]
  },
  {
   "cell_type": "markdown",
   "id": "610d2491-debe-4531-a792-c1e38a6db3ab",
   "metadata": {},
   "source": [
    "Checking some job postings"
   ]
  },
  {
   "cell_type": "code",
   "execution_count": 103,
   "id": "62450180-eac9-4d1b-9e56-74a1f889348f",
   "metadata": {},
   "outputs": [
    {
     "name": "stdout",
     "output_type": "stream",
     "text": [
      "Job Title: digital marketing executive\n",
      "Reported SSOC: Other administrative and related associate professionals n.e.c. \n",
      "Predicted SSOC: Sales and marketing manager \n"
     ]
    },
    {
     "data": {
      "text/plain": [
       "'<p>We are searching for a highly-creative Digital Marketing Executive/Manager to lead our marketing team. In this position, you will be responsible for all aspects of our marketing operations. Your central goal is to help grow our brand’s influence locally while also increasing brand loyalty and awareness.</p>\\n<p>Your duties will include planning, implementing, and monitoring our digital marketing campaigns across all digital networks. Our ideal candidate is someone with experience in marketing, art direction, and social media management. In addition to being an outstanding communicator, you will also demonstrate excellent interpersonal and analytical skills.</p>\\n<h3>Responsibilities:</h3>\\n<ul>\\n  <li>Design and oversee all aspects of our digital marketing department including our marketing database, email, and display advertising campaigns.</li>\\n  <li>Develop and monitor campaign budgets.</li>\\n  <li>Plan and manage our social media platforms.</li>\\n  <li>Prepare accurate reports on our marketing campaign’s overall performance.</li>\\n  <li>Coordinate with advertising and media experts to improve marketing results.</li>\\n  <li>Identify the latest trends and technologies affecting our industry.</li>\\n  <li>Evaluate important metrics that affect our website traffic, service quotas, and target audience.</li>\\n  <li>Work with your team to brainstorm new and innovative growth strategies.</li>\\n  <li>Oversee and manage all contests, giveaways, and other digital projects.</li>\\n</ul>\\n<h3>Requirements:</h3>\\n<ul>\\n  <li>In-depth knowledge of various social media platforms, best practices, and website analytics.</li>\\n  <li>Solid understanding of HTML, CSS, and JavaScript is required.</li>\\n  <li>Highly creative with excellent analytical abilities.</li>\\n  <li>Outstanding communication and interpersonal skills.</li>\\n  <li>Up-to-date on the latest trends and technologies in digital marketing.</li>\\n</ul>'"
      ]
     },
     "execution_count": 103,
     "metadata": {},
     "output_type": "execute_result"
    }
   ],
   "source": [
    "idx = 160\n",
    "print(\"Job Title: \" + mcf_data_final['Title'][idx])\n",
    "print(\"Reported SSOC: \" + mcf_data_final['Reported SSOC Desc'][idx])\n",
    "print(\"Predicted SSOC: \" + mcf_data_final['Predicted SSOC Desc'][idx])\n",
    "mcf_data_final['Description'][idx]"
   ]
  },
  {
   "cell_type": "markdown",
   "id": "29eaca0d-5546-441b-8ba8-ea61191907b7",
   "metadata": {},
   "source": [
    "Exporting the file"
   ]
  },
  {
   "cell_type": "code",
   "execution_count": 99,
   "id": "f6ab2209-9823-4c86-8b65-971a4fbe851a",
   "metadata": {},
   "outputs": [],
   "source": [
    "mcf_data_final.to_csv('../Data/Processed/Artifacts/MCF_Subset_WithLabels.csv', index = False)"
   ]
  }
 ],
 "metadata": {
  "kernelspec": {
   "display_name": "Python 3 (ipykernel)",
   "language": "python",
   "name": "python3"
  },
  "language_info": {
   "codemirror_mode": {
    "name": "ipython",
    "version": 3
   },
   "file_extension": ".py",
   "mimetype": "text/x-python",
   "name": "python",
   "nbconvert_exporter": "python",
   "pygments_lexer": "ipython3",
   "version": "3.9.5"
  }
 },
 "nbformat": 4,
 "nbformat_minor": 5
}
